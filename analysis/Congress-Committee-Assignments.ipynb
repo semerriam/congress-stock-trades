{
 "cells": [
  {
   "cell_type": "markdown",
   "id": "a3f9a2e7",
   "metadata": {},
   "source": [
    "# Congress Committee Assignments"
   ]
  },
  {
   "cell_type": "markdown",
   "id": "89a51c5b",
   "metadata": {},
   "source": [
    "Text"
   ]
  },
  {
   "cell_type": "markdown",
   "id": "1a958a00",
   "metadata": {},
   "source": [
    "Source: https://theunitedstates.io/\n",
    "\n",
    "Source for Scraper of Committee Assignments: https://github.com/unitedstates/congress-legislators/blob/main/scripts/committee_membership.py\n",
    "\n",
    "Committee Assignments: https://github.com/unitedstates/congress/wiki/committee-meetings"
   ]
  },
  {
   "cell_type": "markdown",
   "id": "df8226fb",
   "metadata": {},
   "source": [
    "----"
   ]
  },
  {
   "cell_type": "markdown",
   "id": "c1005624",
   "metadata": {},
   "source": [
    "##### Imports"
   ]
  },
  {
   "cell_type": "code",
   "execution_count": 1,
   "id": "ceebff00",
   "metadata": {},
   "outputs": [
    {
     "name": "stderr",
     "output_type": "stream",
     "text": [
      "/Users/sm/.pyenv/versions/3.10.0/lib/python3.10/site-packages/pandas/compat/__init__.py:124: UserWarning: Could not import the lzma module. Your installed Python is incomplete. Attempting to use lzma compression will result in a RuntimeError.\n",
      "  warnings.warn(msg)\n"
     ]
    }
   ],
   "source": [
    "import pandas as pd\n",
    "from plotnine import *"
   ]
  },
  {
   "cell_type": "code",
   "execution_count": 2,
   "id": "6090c3df",
   "metadata": {},
   "outputs": [],
   "source": [
    "pd.set_option('display.max_columns', None)\n",
    "pd.set_option('display.max_rows', None)\n",
    "pd.set_option('display.width', None)\n",
    "pd.set_option('display.max_colwidth', None)\n",
    "pd.set_option('max_seq_item', None)"
   ]
  },
  {
   "cell_type": "code",
   "execution_count": 3,
   "id": "8ed1161c",
   "metadata": {},
   "outputs": [],
   "source": [
    "from mizani.breaks import date_breaks\n",
    "from mizani.formatters import date_format"
   ]
  },
  {
   "cell_type": "code",
   "execution_count": 4,
   "id": "0ff73265",
   "metadata": {},
   "outputs": [],
   "source": [
    "%load_ext rpy2.ipython\n",
    "%load_ext autoreload\n",
    "%autoreload 2\n",
    "\n",
    "%matplotlib inline  \n",
    "from matplotlib import rcParams\n",
    "rcParams['figure.figsize'] = (16, 100)\n",
    "\n",
    "import warnings\n",
    "from rpy2.rinterface import RRuntimeWarning\n",
    "warnings.filterwarnings(\"ignore\") # Ignore all warnings\n",
    "# warnings.filterwarnings(\"ignore\", category=RRuntimeWarning) # Show some warnings\n",
    "\n",
    "import pandas as pd\n",
    "import numpy as np\n",
    "import matplotlib.pyplot as plt\n",
    "from IPython.display import display, HTML"
   ]
  },
  {
   "cell_type": "code",
   "execution_count": 5,
   "id": "083b4590",
   "metadata": {},
   "outputs": [
    {
     "data": {
      "application/javascript": [
       "// Disable auto-scrolling\n",
       "IPython.OutputArea.prototype._should_scroll = function(lines) {\n",
       "    return false;\n",
       "}\n"
      ],
      "text/plain": [
       "<IPython.core.display.Javascript object>"
      ]
     },
     "metadata": {},
     "output_type": "display_data"
    }
   ],
   "source": [
    "%%javascript\n",
    "// Disable auto-scrolling\n",
    "IPython.OutputArea.prototype._should_scroll = function(lines) {\n",
    "    return false;\n",
    "}"
   ]
  },
  {
   "cell_type": "code",
   "execution_count": 69,
   "id": "813f1e6c",
   "metadata": {},
   "outputs": [
    {
     "name": "stderr",
     "output_type": "stream",
     "text": [
      "R[write to console]: Loading required package: ragg\n",
      "\n"
     ]
    }
   ],
   "source": [
    "%%R\n",
    "\n",
    "# My commonly used R imports\n",
    "\n",
    "require('ggplot2')\n",
    "require('readr')\n",
    "require('extrafont')\n",
    "require('dplyr')\n",
    "require('reshape2')\n",
    "require('explore')\n",
    "require('tidyr')\n",
    "require('forcats')\n",
    "require('knitr')\n",
    "require('ragg')\n",
    "require('palmerpenguins')\n",
    "# require('theme538')"
   ]
  },
  {
   "cell_type": "code",
   "execution_count": 7,
   "id": "a8089f4d",
   "metadata": {},
   "outputs": [
    {
     "data": {
      "text/html": [
       "<div>\n",
       "<style scoped>\n",
       "    .dataframe tbody tr th:only-of-type {\n",
       "        vertical-align: middle;\n",
       "    }\n",
       "\n",
       "    .dataframe tbody tr th {\n",
       "        vertical-align: top;\n",
       "    }\n",
       "\n",
       "    .dataframe thead th {\n",
       "        text-align: right;\n",
       "    }\n",
       "</style>\n",
       "<table border=\"1\" class=\"dataframe\">\n",
       "  <thead>\n",
       "    <tr style=\"text-align: right;\">\n",
       "      <th></th>\n",
       "      <th>A</th>\n",
       "      <th>B</th>\n",
       "    </tr>\n",
       "  </thead>\n",
       "  <tbody>\n",
       "    <tr>\n",
       "      <th>0</th>\n",
       "      <td>99</td>\n",
       "      <td>4</td>\n",
       "    </tr>\n",
       "    <tr>\n",
       "      <th>1</th>\n",
       "      <td>74</td>\n",
       "      <td>30</td>\n",
       "    </tr>\n",
       "    <tr>\n",
       "      <th>2</th>\n",
       "      <td>96</td>\n",
       "      <td>2</td>\n",
       "    </tr>\n",
       "    <tr>\n",
       "      <th>3</th>\n",
       "      <td>27</td>\n",
       "      <td>46</td>\n",
       "    </tr>\n",
       "    <tr>\n",
       "      <th>4</th>\n",
       "      <td>74</td>\n",
       "      <td>22</td>\n",
       "    </tr>\n",
       "  </tbody>\n",
       "</table>\n",
       "</div>"
      ],
      "text/plain": [
       "    A   B\n",
       "0  99   4\n",
       "1  74  30\n",
       "2  96   2\n",
       "3  27  46\n",
       "4  74  22"
      ]
     },
     "execution_count": 7,
     "metadata": {},
     "output_type": "execute_result"
    }
   ],
   "source": [
    "df = pd.DataFrame(\n",
    "    np.random.randint(0,100,size=(100, 2)), columns=list('AB'))\n",
    "df.head()"
   ]
  },
  {
   "cell_type": "code",
   "execution_count": 8,
   "id": "d026def5",
   "metadata": {},
   "outputs": [
    {
     "data": {
      "image/png": "[encoded data removed]"
     },
     "metadata": {},
     "output_type": "display_data"
    }
   ],
   "source": [
    "%%R -i df\n",
    "\n",
    "# EXAMPLE R CELL\n",
    "df\n",
    "plt <- ggplot(df) +\n",
    "    geom_point(aes(A,B))\n",
    "\n",
    "plt"
   ]
  },
  {
   "cell_type": "code",
   "execution_count": 9,
   "id": "b68a1a56",
   "metadata": {},
   "outputs": [],
   "source": [
    "import re, lxml.html, lxml.etree\n",
    "from collections import OrderedDict\n",
    "import utils"
   ]
  },
  {
   "cell_type": "code",
   "execution_count": 10,
   "id": "bb4d020d",
   "metadata": {},
   "outputs": [],
   "source": [
    "from python_utils.import_ import import_global"
   ]
  },
  {
   "cell_type": "code",
   "execution_count": 11,
   "id": "090b580b",
   "metadata": {},
   "outputs": [],
   "source": [
    "# from utils import download, load_data, save_data"
   ]
  },
  {
   "cell_type": "code",
   "execution_count": 12,
   "id": "8bd97afd",
   "metadata": {},
   "outputs": [],
   "source": [
    "import yaml\n",
    "import pandas as pd"
   ]
  },
  {
   "cell_type": "code",
   "execution_count": 13,
   "id": "219bab8b",
   "metadata": {},
   "outputs": [],
   "source": [
    "import requests"
   ]
  },
  {
   "cell_type": "code",
   "execution_count": 14,
   "id": "8aee62e4",
   "metadata": {},
   "outputs": [],
   "source": [
    "# pip install us"
   ]
  },
  {
   "cell_type": "code",
   "execution_count": 15,
   "id": "bb35ac64",
   "metadata": {},
   "outputs": [],
   "source": [
    "import us"
   ]
  },
  {
   "cell_type": "markdown",
   "id": "ba1fad27",
   "metadata": {},
   "source": [
    "----"
   ]
  },
  {
   "cell_type": "markdown",
   "id": "4df946ac",
   "metadata": {},
   "source": [
    "Propublica API Key: KEY: QvCILhrUqLY3PBDQtzaO7EmYrjEaEGMmBkj3R0jq"
   ]
  },
  {
   "cell_type": "markdown",
   "id": "3f10366f",
   "metadata": {},
   "source": [
    "https://api.propublica.org/congress/v1/{congress}/{chamber}/committees.json"
   ]
  },
  {
   "cell_type": "markdown",
   "id": "761c553c",
   "metadata": {},
   "source": [
    "curl \"https://api.propublica.org/congress/v1/115/senate/committees.json\"\n",
    "  -H \"X-API-Key: PROPUBLICA_API_KEY\""
   ]
  },
  {
   "cell_type": "markdown",
   "id": "69ef319f",
   "metadata": {},
   "source": [
    "\"https://api.propublica.org/congress/v1/115/senate/committees.json-\""
   ]
  },
  {
   "cell_type": "code",
   "execution_count": 16,
   "id": "bf636c08",
   "metadata": {},
   "outputs": [],
   "source": [
    "# url = f\"https://theunitedstates.io/congress-legislators/committee-membership-current.json\"\n",
    "# response = requests.get(url)\n",
    "# data_propublica = response.json()"
   ]
  },
  {
   "cell_type": "markdown",
   "id": "828606af",
   "metadata": {},
   "source": [
    "----"
   ]
  },
  {
   "cell_type": "markdown",
   "id": "6b01caaa",
   "metadata": {},
   "source": [
    "### Reading in JSON Files"
   ]
  },
  {
   "cell_type": "markdown",
   "id": "9e5bd6cb",
   "metadata": {},
   "source": [
    "##### Committee Membership Current"
   ]
  },
  {
   "cell_type": "code",
   "execution_count": 17,
   "id": "9d43392b",
   "metadata": {},
   "outputs": [],
   "source": [
    "url = f\"https://theunitedstates.io/congress-legislators/committee-membership-current.json\"\n",
    "response = requests.get(url)\n",
    "data_committee_membership_current = response.json()"
   ]
  },
  {
   "cell_type": "markdown",
   "id": "a38cfae5",
   "metadata": {},
   "source": [
    "You want grab all of the keys\n",
    "9:09\n",
    "2. each comittee, read into a dataframe\n",
    "9:09\n",
    "3. for each dataframe/comitee, tyou want to assign congresspeople to name of the comitee as a column\n",
    "9:09\n",
    "4. append all of the dataframes together"
   ]
  },
  {
   "cell_type": "markdown",
   "id": "2fdcb8b3",
   "metadata": {},
   "source": [
    "{'SSAF': [{'name': 'Debbie Stabenow',\n",
    "   'party': 'majority',\n",
    "   'rank': 1,\n",
    "   'title': 'Chairman',\n",
    "   'bioguide': 'S000770'},\n",
    "  {'name': 'Patrick J. Leahy',\n",
    "   'party': 'majority',\n",
    "   'rank': 2,\n",
    "   'bioguide': 'L000174'},\n",
    "  {'name': 'Sherrod Brown',\n",
    "   'party': 'majority',\n",
    "   'rank': 3,\n",
    "   'bioguide': 'B000944'},\n",
    "  {'name': 'Amy Klobuchar',\n",
    "   'party': 'majority',\n",
    "   'rank': 4,\n",
    "   'bioguide': 'K000367'},\n",
    "  {'name': 'Michael F. Bennet',\n",
    "   'party': 'majority',\n",
    "   'rank': 5,\n",
    "   'bioguide': 'B001267'},\n",
    "  {'name': 'Kirsten E. Gillibrand',\n",
    "   'party': 'majority',\n",
    "   'rank': 6,\n",
    "   'bioguide': 'G000555'},\n",
    "  {'name': 'Tina Smith',\n",
    "   'party': 'majority',\n",
    "   'rank': 7,\n",
    "   'bioguide': 'S001203'},\n",
    "  {'name': 'Richard J. Durbin',\n",
    "   'party': 'majority',\n",
    "   'rank': 8,\n",
    "   'bioguide': 'D000563'},\n",
    "  {'name': 'Cory A. Booker',\n",
    "   'party': 'majority',\n",
    "   'rank': 9,\n",
    "   'bioguide': 'B001288'},\n",
    "  {'name': 'Ben Ray Luján',\n",
    "   'party': 'majority',\n",
    "   'rank': 10,\n",
    "   'bioguide': 'L000570'},\n",
    "  {'name': 'Raphael G. Warnock',\n",
    "   'party': 'majority',\n",
    "   'rank': 11,\n",
    "   'bioguide': 'W000790'},\n",
    "  {'name': 'John Boozman',\n",
    "   'party': 'minority',\n",
    "   'rank': 1,\n",
    "   'title': 'Ranking Member',\n",
    "   'bioguide': 'B001236'},\n",
    "  {'name': 'Mitch McConnell',\n",
    "   'party': 'minority',\n",
    "   'rank': 2,\n",
    "   'bioguide': 'M000355'},\n",
    "  {'name': 'John Hoeven',\n",
    "   'party': 'minority',\n",
    "   'rank': 3,\n",
    "   'bioguide': 'H001061'},\n",
    "  {'name': 'Joni Ernst',\n",
    "   'party': 'minority',\n",
    "   'rank': 4,\n",
    "   'bioguide': 'E000295'},\n",
    "  {'name': 'Cindy Hyde-Smith',\n",
    "   'party': 'minority',\n",
    "   'rank': 5,\n",
    "   'bioguide': 'H001079'},\n",
    "  {'name': 'Roger Marshall',\n",
    "   'party': 'minority',\n",
    "   'rank': 6,\n",
    "   'bioguide': 'M001198'},\n",
    "  {'name': 'Tommy Tuberville',\n",
    "   'party': 'minority',\n",
    "   'rank': 7,\n",
    "   'bioguide': 'T000278'},\n",
    "  {'name': 'Chuck Grassley',\n",
    "   'party': 'minority',\n",
    "   'rank': 8,\n",
    "   'bioguide': 'G000386'},\n",
    "  {'name': 'John Thune',\n",
    "   'party': 'minority',\n",
    "   'rank': 9,\n",
    "   'bioguide': 'T000250'},\n",
    "  {'name': 'Deb Fischer',\n",
    "   'party': 'minority',\n",
    "   'rank': 10,\n",
    "   'bioguide': 'F000463'},\n",
    "  {'name': 'Mike Braun',\n",
    "   'party': 'minority',\n",
    "   'rank': 11,\n",
    "   'bioguide': 'B001310'}],\n",
    " "
   ]
  },
  {
   "cell_type": "code",
   "execution_count": 18,
   "id": "48181fba",
   "metadata": {},
   "outputs": [],
   "source": [
    "# data_committee_membership_current"
   ]
  },
  {
   "cell_type": "code",
   "execution_count": 19,
   "id": "94eb19b0",
   "metadata": {},
   "outputs": [],
   "source": [
    "# data_committee_membership_current.keys()"
   ]
  },
  {
   "cell_type": "code",
   "execution_count": 20,
   "id": "3a515556",
   "metadata": {},
   "outputs": [],
   "source": [
    "# data_committee_membership_current.values()"
   ]
  },
  {
   "cell_type": "code",
   "execution_count": 21,
   "id": "8d1bb040",
   "metadata": {},
   "outputs": [],
   "source": [
    "# data_committee_membership_current.items()"
   ]
  },
  {
   "cell_type": "markdown",
   "id": "e2550ac5",
   "metadata": {},
   "source": [
    "Creating a loop for each committee"
   ]
  },
  {
   "cell_type": "code",
   "execution_count": 22,
   "id": "56230426",
   "metadata": {},
   "outputs": [],
   "source": [
    "name2 = []\n",
    "party2 = []\n",
    "rank2 = []\n",
    "bioguide2 = []"
   ]
  },
  {
   "cell_type": "code",
   "execution_count": 23,
   "id": "d9dcd29d",
   "metadata": {},
   "outputs": [],
   "source": [
    "for a in data_committee_membership_current['SSAF']:\n",
    "    name2.append(a['name'])\n",
    "    party2.append(a['party'])\n",
    "    rank2.append(a['rank'])\n",
    "    bioguide2.append(a['bioguide'])"
   ]
  },
  {
   "cell_type": "code",
   "execution_count": 24,
   "id": "1445cab0",
   "metadata": {},
   "outputs": [
    {
     "data": {
      "text/plain": [
       "['Debbie Stabenow',\n",
       " 'Patrick J. Leahy',\n",
       " 'Sherrod Brown',\n",
       " 'Amy Klobuchar',\n",
       " 'Michael F. Bennet',\n",
       " 'Kirsten E. Gillibrand',\n",
       " 'Tina Smith',\n",
       " 'Richard J. Durbin',\n",
       " 'Cory A. Booker',\n",
       " 'Ben Ray Luján',\n",
       " 'Raphael G. Warnock',\n",
       " 'John Boozman',\n",
       " 'Mitch McConnell',\n",
       " 'John Hoeven',\n",
       " 'Joni Ernst',\n",
       " 'Cindy Hyde-Smith',\n",
       " 'Roger Marshall',\n",
       " 'Tommy Tuberville',\n",
       " 'Chuck Grassley',\n",
       " 'John Thune',\n",
       " 'Deb Fischer',\n",
       " 'Mike Braun']"
      ]
     },
     "execution_count": 24,
     "metadata": {},
     "output_type": "execute_result"
    }
   ],
   "source": [
    "name2"
   ]
  },
  {
   "cell_type": "markdown",
   "id": "461ed9cc",
   "metadata": {},
   "source": [
    "##### Looping through each committee"
   ]
  },
  {
   "cell_type": "code",
   "execution_count": 25,
   "id": "4e09125f",
   "metadata": {},
   "outputs": [],
   "source": [
    "# data_committee_membership_current.keys()"
   ]
  },
  {
   "cell_type": "code",
   "execution_count": 26,
   "id": "4d35236d",
   "metadata": {},
   "outputs": [],
   "source": [
    "ls = []\n",
    "committee_ls = []\n",
    "values = []"
   ]
  },
  {
   "cell_type": "code",
   "execution_count": 27,
   "id": "6b297209",
   "metadata": {},
   "outputs": [],
   "source": [
    "for key, value in data_committee_membership_current.items(): \n",
    "#     print(key)\n",
    "    ls.append(key)\n",
    "    committee_ls.append(key)\n",
    "#     print(value)\n",
    "    ls.append(value)\n",
    "    values.append(value)"
   ]
  },
  {
   "cell_type": "code",
   "execution_count": 28,
   "id": "b4391702",
   "metadata": {},
   "outputs": [],
   "source": [
    "committee_ls = []\n",
    "committee = []\n",
    "name = []\n",
    "party = []\n",
    "rank = []\n",
    "bioguide = []"
   ]
  },
  {
   "cell_type": "code",
   "execution_count": 29,
   "id": "7dc2c166",
   "metadata": {},
   "outputs": [],
   "source": [
    "for key, value in data_committee_membership_current.items(): \n",
    "#     print(key)\n",
    "    committee_ls.append(key)\n",
    "#     ls.append(key)\n",
    "#     print(value)\n",
    "    for b in value:\n",
    "        committee.append(key)\n",
    "#         print(b['name'])\n",
    "        name.append(b['name'])\n",
    "#         print(b['party'])\n",
    "        party.append(b['party'])\n",
    "#         print(b['rank'])\n",
    "        rank.append(b['rank'])\n",
    "#         print(b['bioguide'])\n",
    "        bioguide.append(b['bioguide'])\n",
    "    \n",
    "#     ls.append(value)"
   ]
  },
  {
   "cell_type": "code",
   "execution_count": 30,
   "id": "1829abc4",
   "metadata": {},
   "outputs": [
    {
     "data": {
      "text/plain": [
       "['SSAF', 'SSAF13', 'SSAF14', 'SSAF17', 'SSAF16']"
      ]
     },
     "execution_count": 30,
     "metadata": {},
     "output_type": "execute_result"
    }
   ],
   "source": [
    "committee_ls[0:5]"
   ]
  },
  {
   "cell_type": "code",
   "execution_count": 31,
   "id": "c52d3ac3",
   "metadata": {},
   "outputs": [
    {
     "data": {
      "text/plain": [
       "['SSAF', 'SSAF', 'SSAF', 'SSAF', 'SSAF']"
      ]
     },
     "execution_count": 31,
     "metadata": {},
     "output_type": "execute_result"
    }
   ],
   "source": [
    "committee[0:5]"
   ]
  },
  {
   "cell_type": "code",
   "execution_count": 32,
   "id": "b966fdc3",
   "metadata": {},
   "outputs": [
    {
     "data": {
      "text/plain": [
       "['Debbie Stabenow',\n",
       " 'Patrick J. Leahy',\n",
       " 'Sherrod Brown',\n",
       " 'Amy Klobuchar',\n",
       " 'Michael F. Bennet']"
      ]
     },
     "execution_count": 32,
     "metadata": {},
     "output_type": "execute_result"
    }
   ],
   "source": [
    "name[0:5]"
   ]
  },
  {
   "cell_type": "code",
   "execution_count": 33,
   "id": "e2f143b1",
   "metadata": {},
   "outputs": [
    {
     "data": {
      "text/plain": [
       "['majority', 'majority', 'majority', 'majority', 'majority']"
      ]
     },
     "execution_count": 33,
     "metadata": {},
     "output_type": "execute_result"
    }
   ],
   "source": [
    "party[0:5]"
   ]
  },
  {
   "cell_type": "code",
   "execution_count": 34,
   "id": "2c8e47f9",
   "metadata": {},
   "outputs": [
    {
     "data": {
      "text/plain": [
       "[1, 2, 3, 4, 5]"
      ]
     },
     "execution_count": 34,
     "metadata": {},
     "output_type": "execute_result"
    }
   ],
   "source": [
    "rank[0:5]"
   ]
  },
  {
   "cell_type": "code",
   "execution_count": 35,
   "id": "2fb36f50",
   "metadata": {},
   "outputs": [
    {
     "data": {
      "text/plain": [
       "['S000770', 'L000174', 'B000944', 'K000367', 'B001267']"
      ]
     },
     "execution_count": 35,
     "metadata": {},
     "output_type": "execute_result"
    }
   ],
   "source": [
    "bioguide[0:5]"
   ]
  },
  {
   "cell_type": "markdown",
   "id": "dc0e5100",
   "metadata": {},
   "source": [
    "----"
   ]
  },
  {
   "cell_type": "code",
   "execution_count": 80,
   "id": "ce1a8122",
   "metadata": {},
   "outputs": [],
   "source": [
    "ls_member_info = []"
   ]
  },
  {
   "cell_type": "code",
   "execution_count": 81,
   "id": "9d93fc20",
   "metadata": {},
   "outputs": [],
   "source": [
    "for key, value in data_committee_membership_current.items():\n",
    "    for b in value:\n",
    "        ls_member_info.append([key, b['name'], b['party'], b['rank'], b['bioguide']])"
   ]
  },
  {
   "cell_type": "code",
   "execution_count": 76,
   "id": "70692733",
   "metadata": {},
   "outputs": [],
   "source": [
    "# for commmittee, ls_committee_members in data_committee_membership_current.items():\n",
    "#     for dict_member in ls_committee_members:\n",
    "#         ls_member_info.append([committee, dict_member['name'], dict_member['party'], dict_member['rank'], dict_member['bioguide']])"
   ]
  },
  {
   "cell_type": "code",
   "execution_count": 84,
   "id": "a4d1007f",
   "metadata": {},
   "outputs": [
    {
     "data": {
      "text/plain": [
       "[['SSAF', 'Debbie Stabenow', 'majority', 1, 'S000770'],\n",
       " ['SSAF', 'Patrick J. Leahy', 'majority', 2, 'L000174'],\n",
       " ['SSAF', 'Sherrod Brown', 'majority', 3, 'B000944'],\n",
       " ['SSAF', 'Amy Klobuchar', 'majority', 4, 'K000367'],\n",
       " ['SSAF', 'Michael F. Bennet', 'majority', 5, 'B001267'],\n",
       " ['SSAF', 'Kirsten E. Gillibrand', 'majority', 6, 'G000555'],\n",
       " ['SSAF', 'Tina Smith', 'majority', 7, 'S001203'],\n",
       " ['SSAF', 'Richard J. Durbin', 'majority', 8, 'D000563'],\n",
       " ['SSAF', 'Cory A. Booker', 'majority', 9, 'B001288'],\n",
       " ['SSAF', 'Ben Ray Luján', 'majority', 10, 'L000570']]"
      ]
     },
     "execution_count": 84,
     "metadata": {},
     "output_type": "execute_result"
    }
   ],
   "source": [
    "ls_member_info[0:10]"
   ]
  },
  {
   "cell_type": "code",
   "execution_count": 82,
   "id": "61843dcd",
   "metadata": {},
   "outputs": [],
   "source": [
    "df_committee_membership_current = pd.DataFrame(ls_member_info, columns=['committee', 'name','party','rank', 'bioguide'])"
   ]
  },
  {
   "cell_type": "code",
   "execution_count": 83,
   "id": "3fb71548",
   "metadata": {},
   "outputs": [
    {
     "data": {
      "text/html": [
       "<div>\n",
       "<style scoped>\n",
       "    .dataframe tbody tr th:only-of-type {\n",
       "        vertical-align: middle;\n",
       "    }\n",
       "\n",
       "    .dataframe tbody tr th {\n",
       "        vertical-align: top;\n",
       "    }\n",
       "\n",
       "    .dataframe thead th {\n",
       "        text-align: right;\n",
       "    }\n",
       "</style>\n",
       "<table border=\"1\" class=\"dataframe\">\n",
       "  <thead>\n",
       "    <tr style=\"text-align: right;\">\n",
       "      <th></th>\n",
       "      <th>committee</th>\n",
       "      <th>name</th>\n",
       "      <th>party</th>\n",
       "      <th>rank</th>\n",
       "      <th>bioguide</th>\n",
       "    </tr>\n",
       "  </thead>\n",
       "  <tbody>\n",
       "    <tr>\n",
       "      <th>0</th>\n",
       "      <td>SSAF</td>\n",
       "      <td>Debbie Stabenow</td>\n",
       "      <td>majority</td>\n",
       "      <td>1</td>\n",
       "      <td>S000770</td>\n",
       "    </tr>\n",
       "    <tr>\n",
       "      <th>1</th>\n",
       "      <td>SSAF</td>\n",
       "      <td>Patrick J. Leahy</td>\n",
       "      <td>majority</td>\n",
       "      <td>2</td>\n",
       "      <td>L000174</td>\n",
       "    </tr>\n",
       "    <tr>\n",
       "      <th>2</th>\n",
       "      <td>SSAF</td>\n",
       "      <td>Sherrod Brown</td>\n",
       "      <td>majority</td>\n",
       "      <td>3</td>\n",
       "      <td>B000944</td>\n",
       "    </tr>\n",
       "    <tr>\n",
       "      <th>3</th>\n",
       "      <td>SSAF</td>\n",
       "      <td>Amy Klobuchar</td>\n",
       "      <td>majority</td>\n",
       "      <td>4</td>\n",
       "      <td>K000367</td>\n",
       "    </tr>\n",
       "    <tr>\n",
       "      <th>4</th>\n",
       "      <td>SSAF</td>\n",
       "      <td>Michael F. Bennet</td>\n",
       "      <td>majority</td>\n",
       "      <td>5</td>\n",
       "      <td>B001267</td>\n",
       "    </tr>\n",
       "  </tbody>\n",
       "</table>\n",
       "</div>"
      ],
      "text/plain": [
       "  committee               name     party  rank bioguide\n",
       "0      SSAF    Debbie Stabenow  majority     1  S000770\n",
       "1      SSAF   Patrick J. Leahy  majority     2  L000174\n",
       "2      SSAF      Sherrod Brown  majority     3  B000944\n",
       "3      SSAF      Amy Klobuchar  majority     4  K000367\n",
       "4      SSAF  Michael F. Bennet  majority     5  B001267"
      ]
     },
     "execution_count": 83,
     "metadata": {},
     "output_type": "execute_result"
    }
   ],
   "source": [
    "df_committee_membership_current.head()"
   ]
  },
  {
   "cell_type": "markdown",
   "id": "8458f852",
   "metadata": {},
   "source": [
    "##### Making a Dataframe"
   ]
  },
  {
   "cell_type": "code",
   "execution_count": 36,
   "id": "349c173a",
   "metadata": {},
   "outputs": [],
   "source": [
    "df = pd.DataFrame(\n",
    "    {'committee': committee,\n",
    "     'name': name,\n",
    "     'party': party,\n",
    "     'rank': rank,\n",
    "     'bioguide': bioguide\n",
    "    })"
   ]
  },
  {
   "cell_type": "code",
   "execution_count": 37,
   "id": "04a1e4c6",
   "metadata": {},
   "outputs": [
    {
     "data": {
      "text/plain": [
       "4004"
      ]
     },
     "execution_count": 37,
     "metadata": {},
     "output_type": "execute_result"
    }
   ],
   "source": [
    "len(df)"
   ]
  },
  {
   "cell_type": "code",
   "execution_count": 38,
   "id": "8877a7da",
   "metadata": {},
   "outputs": [
    {
     "data": {
      "text/html": [
       "<div>\n",
       "<style scoped>\n",
       "    .dataframe tbody tr th:only-of-type {\n",
       "        vertical-align: middle;\n",
       "    }\n",
       "\n",
       "    .dataframe tbody tr th {\n",
       "        vertical-align: top;\n",
       "    }\n",
       "\n",
       "    .dataframe thead th {\n",
       "        text-align: right;\n",
       "    }\n",
       "</style>\n",
       "<table border=\"1\" class=\"dataframe\">\n",
       "  <thead>\n",
       "    <tr style=\"text-align: right;\">\n",
       "      <th></th>\n",
       "      <th>committee</th>\n",
       "      <th>name</th>\n",
       "      <th>party</th>\n",
       "      <th>rank</th>\n",
       "      <th>bioguide</th>\n",
       "    </tr>\n",
       "  </thead>\n",
       "  <tbody>\n",
       "    <tr>\n",
       "      <th>0</th>\n",
       "      <td>SSAF</td>\n",
       "      <td>Debbie Stabenow</td>\n",
       "      <td>majority</td>\n",
       "      <td>1</td>\n",
       "      <td>S000770</td>\n",
       "    </tr>\n",
       "    <tr>\n",
       "      <th>1</th>\n",
       "      <td>SSAF</td>\n",
       "      <td>Patrick J. Leahy</td>\n",
       "      <td>majority</td>\n",
       "      <td>2</td>\n",
       "      <td>L000174</td>\n",
       "    </tr>\n",
       "    <tr>\n",
       "      <th>2</th>\n",
       "      <td>SSAF</td>\n",
       "      <td>Sherrod Brown</td>\n",
       "      <td>majority</td>\n",
       "      <td>3</td>\n",
       "      <td>B000944</td>\n",
       "    </tr>\n",
       "    <tr>\n",
       "      <th>3</th>\n",
       "      <td>SSAF</td>\n",
       "      <td>Amy Klobuchar</td>\n",
       "      <td>majority</td>\n",
       "      <td>4</td>\n",
       "      <td>K000367</td>\n",
       "    </tr>\n",
       "    <tr>\n",
       "      <th>4</th>\n",
       "      <td>SSAF</td>\n",
       "      <td>Michael F. Bennet</td>\n",
       "      <td>majority</td>\n",
       "      <td>5</td>\n",
       "      <td>B001267</td>\n",
       "    </tr>\n",
       "  </tbody>\n",
       "</table>\n",
       "</div>"
      ],
      "text/plain": [
       "  committee               name     party  rank bioguide\n",
       "0      SSAF    Debbie Stabenow  majority     1  S000770\n",
       "1      SSAF   Patrick J. Leahy  majority     2  L000174\n",
       "2      SSAF      Sherrod Brown  majority     3  B000944\n",
       "3      SSAF      Amy Klobuchar  majority     4  K000367\n",
       "4      SSAF  Michael F. Bennet  majority     5  B001267"
      ]
     },
     "execution_count": 38,
     "metadata": {},
     "output_type": "execute_result"
    }
   ],
   "source": [
    "df.head()"
   ]
  },
  {
   "cell_type": "code",
   "execution_count": 39,
   "id": "af3aaa4a",
   "metadata": {},
   "outputs": [
    {
     "data": {
      "text/html": [
       "<div>\n",
       "<style scoped>\n",
       "    .dataframe tbody tr th:only-of-type {\n",
       "        vertical-align: middle;\n",
       "    }\n",
       "\n",
       "    .dataframe tbody tr th {\n",
       "        vertical-align: top;\n",
       "    }\n",
       "\n",
       "    .dataframe thead th {\n",
       "        text-align: right;\n",
       "    }\n",
       "</style>\n",
       "<table border=\"1\" class=\"dataframe\">\n",
       "  <thead>\n",
       "    <tr style=\"text-align: right;\">\n",
       "      <th></th>\n",
       "      <th>committee</th>\n",
       "      <th>name</th>\n",
       "      <th>party</th>\n",
       "      <th>rank</th>\n",
       "      <th>bioguide</th>\n",
       "    </tr>\n",
       "  </thead>\n",
       "  <tbody>\n",
       "    <tr>\n",
       "      <th>3999</th>\n",
       "      <td>HSEF</td>\n",
       "      <td>Kat Cammack</td>\n",
       "      <td>minority</td>\n",
       "      <td>5</td>\n",
       "      <td>C001039</td>\n",
       "    </tr>\n",
       "    <tr>\n",
       "      <th>4000</th>\n",
       "      <td>HSEF</td>\n",
       "      <td>Angie Craig</td>\n",
       "      <td>majority</td>\n",
       "      <td>6</td>\n",
       "      <td>C001119</td>\n",
       "    </tr>\n",
       "    <tr>\n",
       "      <th>4001</th>\n",
       "      <td>HSEF</td>\n",
       "      <td>Byron Donalds</td>\n",
       "      <td>minority</td>\n",
       "      <td>6</td>\n",
       "      <td>D000032</td>\n",
       "    </tr>\n",
       "    <tr>\n",
       "      <th>4002</th>\n",
       "      <td>HSEF</td>\n",
       "      <td>Alexandria Ocasio-Cortez</td>\n",
       "      <td>majority</td>\n",
       "      <td>7</td>\n",
       "      <td>O000172</td>\n",
       "    </tr>\n",
       "    <tr>\n",
       "      <th>4003</th>\n",
       "      <td>HSEF</td>\n",
       "      <td>Sara Jacobs</td>\n",
       "      <td>majority</td>\n",
       "      <td>8</td>\n",
       "      <td>J000305</td>\n",
       "    </tr>\n",
       "  </tbody>\n",
       "</table>\n",
       "</div>"
      ],
      "text/plain": [
       "     committee                      name     party  rank bioguide\n",
       "3999      HSEF               Kat Cammack  minority     5  C001039\n",
       "4000      HSEF               Angie Craig  majority     6  C001119\n",
       "4001      HSEF             Byron Donalds  minority     6  D000032\n",
       "4002      HSEF  Alexandria Ocasio-Cortez  majority     7  O000172\n",
       "4003      HSEF               Sara Jacobs  majority     8  J000305"
      ]
     },
     "execution_count": 39,
     "metadata": {},
     "output_type": "execute_result"
    }
   ],
   "source": [
    "df.tail()"
   ]
  },
  {
   "cell_type": "code",
   "execution_count": 40,
   "id": "c9325e29",
   "metadata": {},
   "outputs": [],
   "source": [
    "# df.to_csv('..//data//processed//congress_committees.csv', index = False)"
   ]
  },
  {
   "cell_type": "code",
   "execution_count": 41,
   "id": "d05a42bd",
   "metadata": {},
   "outputs": [],
   "source": [
    "# committee_ls"
   ]
  },
  {
   "cell_type": "markdown",
   "id": "0ad8a5b8",
   "metadata": {},
   "source": [
    "----"
   ]
  },
  {
   "cell_type": "markdown",
   "id": "179872c4",
   "metadata": {},
   "source": [
    "##### Merging the Full Committee Names to Dataframe "
   ]
  },
  {
   "cell_type": "markdown",
   "id": "49999fa6",
   "metadata": {},
   "source": [
    "Merging a handmade dataset of the full Committee Names Looked up at GovTrack https://www.govtrack.us/congress/committees/"
   ]
  },
  {
   "cell_type": "code",
   "execution_count": 42,
   "id": "4d3d84c5",
   "metadata": {},
   "outputs": [],
   "source": [
    "df2 = pd.read_csv('..//data//handmade//congress_committees_info.csv', encoding=\"utf-8\")"
   ]
  },
  {
   "cell_type": "code",
   "execution_count": 43,
   "id": "7c2a1197",
   "metadata": {},
   "outputs": [
    {
     "data": {
      "text/plain": [
       "4004"
      ]
     },
     "execution_count": 43,
     "metadata": {},
     "output_type": "execute_result"
    }
   ],
   "source": [
    "len(df)"
   ]
  },
  {
   "cell_type": "code",
   "execution_count": 44,
   "id": "19a46c4c",
   "metadata": {},
   "outputs": [
    {
     "data": {
      "text/plain": [
       "227"
      ]
     },
     "execution_count": 44,
     "metadata": {},
     "output_type": "execute_result"
    }
   ],
   "source": [
    "len(df2)"
   ]
  },
  {
   "cell_type": "code",
   "execution_count": 45,
   "id": "35d6625b",
   "metadata": {},
   "outputs": [],
   "source": [
    "join_df= pd.merge(df, df2, on='committee', how='outer')"
   ]
  },
  {
   "cell_type": "code",
   "execution_count": 46,
   "id": "9d3cf7f8",
   "metadata": {},
   "outputs": [
    {
     "data": {
      "text/plain": [
       "4024"
      ]
     },
     "execution_count": 46,
     "metadata": {},
     "output_type": "execute_result"
    }
   ],
   "source": [
    "len(join_df)"
   ]
  },
  {
   "cell_type": "code",
   "execution_count": 47,
   "id": "50d3ca24",
   "metadata": {},
   "outputs": [
    {
     "data": {
      "text/html": [
       "<div>\n",
       "<style scoped>\n",
       "    .dataframe tbody tr th:only-of-type {\n",
       "        vertical-align: middle;\n",
       "    }\n",
       "\n",
       "    .dataframe tbody tr th {\n",
       "        vertical-align: top;\n",
       "    }\n",
       "\n",
       "    .dataframe thead th {\n",
       "        text-align: right;\n",
       "    }\n",
       "</style>\n",
       "<table border=\"1\" class=\"dataframe\">\n",
       "  <thead>\n",
       "    <tr style=\"text-align: right;\">\n",
       "      <th></th>\n",
       "      <th>committee</th>\n",
       "      <th>name</th>\n",
       "      <th>party</th>\n",
       "      <th>rank</th>\n",
       "      <th>bioguide</th>\n",
       "      <th>committee_fullname</th>\n",
       "    </tr>\n",
       "  </thead>\n",
       "  <tbody>\n",
       "    <tr>\n",
       "      <th>0</th>\n",
       "      <td>SSAF</td>\n",
       "      <td>Debbie Stabenow</td>\n",
       "      <td>majority</td>\n",
       "      <td>1</td>\n",
       "      <td>S000770</td>\n",
       "      <td>Senate Committee on Agriculture, Nutrition, and Forestry</td>\n",
       "    </tr>\n",
       "    <tr>\n",
       "      <th>1</th>\n",
       "      <td>SSAF</td>\n",
       "      <td>Patrick J. Leahy</td>\n",
       "      <td>majority</td>\n",
       "      <td>2</td>\n",
       "      <td>L000174</td>\n",
       "      <td>Senate Committee on Agriculture, Nutrition, and Forestry</td>\n",
       "    </tr>\n",
       "    <tr>\n",
       "      <th>2</th>\n",
       "      <td>SSAF</td>\n",
       "      <td>Sherrod Brown</td>\n",
       "      <td>majority</td>\n",
       "      <td>3</td>\n",
       "      <td>B000944</td>\n",
       "      <td>Senate Committee on Agriculture, Nutrition, and Forestry</td>\n",
       "    </tr>\n",
       "    <tr>\n",
       "      <th>3</th>\n",
       "      <td>SSAF</td>\n",
       "      <td>Amy Klobuchar</td>\n",
       "      <td>majority</td>\n",
       "      <td>4</td>\n",
       "      <td>K000367</td>\n",
       "      <td>Senate Committee on Agriculture, Nutrition, and Forestry</td>\n",
       "    </tr>\n",
       "    <tr>\n",
       "      <th>4</th>\n",
       "      <td>SSAF</td>\n",
       "      <td>Michael F. Bennet</td>\n",
       "      <td>majority</td>\n",
       "      <td>5</td>\n",
       "      <td>B001267</td>\n",
       "      <td>Senate Committee on Agriculture, Nutrition, and Forestry</td>\n",
       "    </tr>\n",
       "  </tbody>\n",
       "</table>\n",
       "</div>"
      ],
      "text/plain": [
       "  committee               name     party  rank bioguide  \\\n",
       "0      SSAF    Debbie Stabenow  majority     1  S000770   \n",
       "1      SSAF   Patrick J. Leahy  majority     2  L000174   \n",
       "2      SSAF      Sherrod Brown  majority     3  B000944   \n",
       "3      SSAF      Amy Klobuchar  majority     4  K000367   \n",
       "4      SSAF  Michael F. Bennet  majority     5  B001267   \n",
       "\n",
       "                                         committee_fullname  \n",
       "0  Senate Committee on Agriculture, Nutrition, and Forestry  \n",
       "1  Senate Committee on Agriculture, Nutrition, and Forestry  \n",
       "2  Senate Committee on Agriculture, Nutrition, and Forestry  \n",
       "3  Senate Committee on Agriculture, Nutrition, and Forestry  \n",
       "4  Senate Committee on Agriculture, Nutrition, and Forestry  "
      ]
     },
     "execution_count": 47,
     "metadata": {},
     "output_type": "execute_result"
    }
   ],
   "source": [
    "join_df.head()"
   ]
  },
  {
   "cell_type": "code",
   "execution_count": 48,
   "id": "057389aa",
   "metadata": {},
   "outputs": [
    {
     "data": {
      "text/html": [
       "<div>\n",
       "<style scoped>\n",
       "    .dataframe tbody tr th:only-of-type {\n",
       "        vertical-align: middle;\n",
       "    }\n",
       "\n",
       "    .dataframe tbody tr th {\n",
       "        vertical-align: top;\n",
       "    }\n",
       "\n",
       "    .dataframe thead th {\n",
       "        text-align: right;\n",
       "    }\n",
       "</style>\n",
       "<table border=\"1\" class=\"dataframe\">\n",
       "  <thead>\n",
       "    <tr style=\"text-align: right;\">\n",
       "      <th></th>\n",
       "      <th>committee</th>\n",
       "      <th>name</th>\n",
       "      <th>party</th>\n",
       "      <th>rank</th>\n",
       "      <th>bioguide</th>\n",
       "      <th>committee_fullname</th>\n",
       "    </tr>\n",
       "  </thead>\n",
       "  <tbody>\n",
       "    <tr>\n",
       "      <th>4019</th>\n",
       "      <td>HSEF</td>\n",
       "      <td>Kat Cammack</td>\n",
       "      <td>minority</td>\n",
       "      <td>5</td>\n",
       "      <td>C001039</td>\n",
       "      <td>House Select Committee on Economic Disparity and Fairness in Growth</td>\n",
       "    </tr>\n",
       "    <tr>\n",
       "      <th>4020</th>\n",
       "      <td>HSEF</td>\n",
       "      <td>Angie Craig</td>\n",
       "      <td>majority</td>\n",
       "      <td>6</td>\n",
       "      <td>C001119</td>\n",
       "      <td>House Select Committee on Economic Disparity and Fairness in Growth</td>\n",
       "    </tr>\n",
       "    <tr>\n",
       "      <th>4021</th>\n",
       "      <td>HSEF</td>\n",
       "      <td>Byron Donalds</td>\n",
       "      <td>minority</td>\n",
       "      <td>6</td>\n",
       "      <td>D000032</td>\n",
       "      <td>House Select Committee on Economic Disparity and Fairness in Growth</td>\n",
       "    </tr>\n",
       "    <tr>\n",
       "      <th>4022</th>\n",
       "      <td>HSEF</td>\n",
       "      <td>Alexandria Ocasio-Cortez</td>\n",
       "      <td>majority</td>\n",
       "      <td>7</td>\n",
       "      <td>O000172</td>\n",
       "      <td>House Select Committee on Economic Disparity and Fairness in Growth</td>\n",
       "    </tr>\n",
       "    <tr>\n",
       "      <th>4023</th>\n",
       "      <td>HSEF</td>\n",
       "      <td>Sara Jacobs</td>\n",
       "      <td>majority</td>\n",
       "      <td>8</td>\n",
       "      <td>J000305</td>\n",
       "      <td>House Select Committee on Economic Disparity and Fairness in Growth</td>\n",
       "    </tr>\n",
       "  </tbody>\n",
       "</table>\n",
       "</div>"
      ],
      "text/plain": [
       "     committee                      name     party  rank bioguide  \\\n",
       "4019      HSEF               Kat Cammack  minority     5  C001039   \n",
       "4020      HSEF               Angie Craig  majority     6  C001119   \n",
       "4021      HSEF             Byron Donalds  minority     6  D000032   \n",
       "4022      HSEF  Alexandria Ocasio-Cortez  majority     7  O000172   \n",
       "4023      HSEF               Sara Jacobs  majority     8  J000305   \n",
       "\n",
       "                                                       committee_fullname  \n",
       "4019  House Select Committee on Economic Disparity and Fairness in Growth  \n",
       "4020  House Select Committee on Economic Disparity and Fairness in Growth  \n",
       "4021  House Select Committee on Economic Disparity and Fairness in Growth  \n",
       "4022  House Select Committee on Economic Disparity and Fairness in Growth  \n",
       "4023  House Select Committee on Economic Disparity and Fairness in Growth  "
      ]
     },
     "execution_count": 48,
     "metadata": {},
     "output_type": "execute_result"
    }
   ],
   "source": [
    "join_df.tail()"
   ]
  },
  {
   "cell_type": "markdown",
   "id": "c456726b",
   "metadata": {},
   "source": [
    "----"
   ]
  },
  {
   "cell_type": "markdown",
   "id": "5cc083d2",
   "metadata": {},
   "source": [
    "#### Scratchpad"
   ]
  },
  {
   "cell_type": "code",
   "execution_count": 49,
   "id": "47506db1",
   "metadata": {},
   "outputs": [],
   "source": [
    "# for a in values: \n",
    "#     print(a)\n",
    "#     for b in a:\n",
    "# #         print(b['name'])\n",
    "#         name.append(b['name'])\n",
    "# #         print(b['party'])\n",
    "#         party.append(b['party'])\n",
    "# #         print(b['rank'])\n",
    "#         rank.append(b['rank'])\n",
    "# #         print(b['bioguide'])\n",
    "#         bioguide.append(b['bioguide'])"
   ]
  },
  {
   "cell_type": "code",
   "execution_count": 50,
   "id": "01ed2aff",
   "metadata": {},
   "outputs": [],
   "source": [
    "# for a in values: \n",
    "# #     print(a)\n",
    "#     for b in a:\n",
    "# #         print(b['name'])\n",
    "#         name.append(b['name'])\n",
    "# #         print(b['party'])\n",
    "#         party.append(b['party'])\n",
    "# #         print(b['rank'])\n",
    "#         rank.append(b['rank'])\n",
    "# #         print(b['bioguide'])\n",
    "#         bioguide.append(b['bioguide'])"
   ]
  },
  {
   "cell_type": "code",
   "execution_count": 51,
   "id": "ad19123a",
   "metadata": {},
   "outputs": [],
   "source": [
    "# ls[0:3]"
   ]
  },
  {
   "cell_type": "code",
   "execution_count": 52,
   "id": "6d9ae533",
   "metadata": {},
   "outputs": [],
   "source": [
    "# L = ls[0::2]\n",
    "# L"
   ]
  },
  {
   "cell_type": "code",
   "execution_count": 53,
   "id": "d94d1a1b",
   "metadata": {},
   "outputs": [],
   "source": [
    "# for a in ls[0:2]: \n",
    "#     print(a)\n",
    "# #     for b in a:\n",
    "# #         print(b['name'])\n",
    "# #         print(b['party'])\n",
    "# #         print(b['rank'])\n",
    "# #         print(b['bioguide'])"
   ]
  },
  {
   "cell_type": "code",
   "execution_count": 54,
   "id": "7fb1ac2e",
   "metadata": {},
   "outputs": [],
   "source": [
    "# values"
   ]
  },
  {
   "cell_type": "code",
   "execution_count": 55,
   "id": "4ee85160",
   "metadata": {},
   "outputs": [],
   "source": [
    "# data_committee_membership_current.items()"
   ]
  },
  {
   "cell_type": "code",
   "execution_count": null,
   "id": "334143fa",
   "metadata": {},
   "outputs": [],
   "source": []
  },
  {
   "cell_type": "code",
   "execution_count": null,
   "id": "f4fce4fe",
   "metadata": {},
   "outputs": [],
   "source": []
  },
  {
   "cell_type": "code",
   "execution_count": null,
   "id": "f03c58ea",
   "metadata": {},
   "outputs": [],
   "source": []
  },
  {
   "cell_type": "code",
   "execution_count": null,
   "id": "c59668d1",
   "metadata": {},
   "outputs": [],
   "source": []
  },
  {
   "cell_type": "markdown",
   "id": "d20d4cc2",
   "metadata": {},
   "source": [
    "##### Current Legislators"
   ]
  },
  {
   "cell_type": "code",
   "execution_count": 56,
   "id": "7842b7af",
   "metadata": {},
   "outputs": [],
   "source": [
    "url2 = f\"https://theunitedstates.io/congress-legislators/legislators-current.json\"\n",
    "response2 = requests.get(url2)\n",
    "data_legislators_current = response2.json()"
   ]
  },
  {
   "cell_type": "code",
   "execution_count": 57,
   "id": "71073558",
   "metadata": {},
   "outputs": [],
   "source": [
    "# data_legislators_current"
   ]
  },
  {
   "cell_type": "code",
   "execution_count": null,
   "id": "b71ccdf2",
   "metadata": {},
   "outputs": [],
   "source": []
  },
  {
   "cell_type": "code",
   "execution_count": 58,
   "id": "58df87cf",
   "metadata": {},
   "outputs": [],
   "source": [
    "# df = pd.read_json('data/nested_list.json')"
   ]
  },
  {
   "cell_type": "code",
   "execution_count": 59,
   "id": "6fceb764",
   "metadata": {},
   "outputs": [],
   "source": [
    "# # To include school_name and class \n",
    "# # https://towardsdatascience.com/how-to-convert-json-into-a-pandas-dataframe-100b2ae1e0d8\n",
    "\n",
    "# df_nested_list = pd.json_normalize(\n",
    "#     data, \n",
    "#     record_path =['students'], \n",
    "#     meta=['school_name', 'class']\n",
    "# )"
   ]
  },
  {
   "cell_type": "code",
   "execution_count": 60,
   "id": "64fe78c1",
   "metadata": {},
   "outputs": [],
   "source": [
    "# # To include school_name and class\n",
    "# df_nested_list = pd.json_normalize(\n",
    "#     data_committee_membership_current, \n",
    "#     record_path =['students'], \n",
    "#     meta=['school_name', 'class']\n",
    "# )"
   ]
  },
  {
   "cell_type": "code",
   "execution_count": 61,
   "id": "ad67ef96",
   "metadata": {},
   "outputs": [],
   "source": [
    "# df = pd.json_normalize(data_committee_membership_current, record_path =['students'])"
   ]
  },
  {
   "cell_type": "code",
   "execution_count": null,
   "id": "c42ddbc7",
   "metadata": {},
   "outputs": [],
   "source": []
  },
  {
   "cell_type": "code",
   "execution_count": 62,
   "id": "3d72749e",
   "metadata": {},
   "outputs": [],
   "source": [
    "# df = pd.json_normalize('data_committee_membership_current')"
   ]
  },
  {
   "cell_type": "code",
   "execution_count": 63,
   "id": "055abb92",
   "metadata": {},
   "outputs": [],
   "source": [
    "# data_committee_membership_current['SSAF']"
   ]
  },
  {
   "cell_type": "markdown",
   "id": "f37b17b7",
   "metadata": {},
   "source": [
    "----"
   ]
  },
  {
   "cell_type": "code",
   "execution_count": 64,
   "id": "78d64834",
   "metadata": {},
   "outputs": [],
   "source": [
    "#!/usr/bin/env python\n",
    "#coding: utf-8\n",
    "__author__ = 'stsmith'\n",
    "\n",
    "# congress_lookup: Look up information about congress from the congress-legislators database\n",
    "# See: https://github.com/unitedstates/congress-legislators and https://github.com/TheWalkers/congress-legislators\n",
    "\n",
    "# The project is in the public domain within the United States, and\n",
    "# copyright and related rights in the work worldwide are waived\n",
    "# through the CC0 1.0 Universal public domain dedication.\n",
    "\n",
    "# Author 2017 Steven T. Smith <steve dot t dot smith at gmail dot com>"
   ]
  },
  {
   "cell_type": "code",
   "execution_count": 65,
   "id": "9a496793",
   "metadata": {},
   "outputs": [],
   "source": [
    "import argparse as ap, contextlib, fnmatch, os, sys, time, warnings, yaml"
   ]
  },
  {
   "cell_type": "code",
   "execution_count": 66,
   "id": "deab9887",
   "metadata": {},
   "outputs": [],
   "source": [
    "# version dependent libraries\n",
    "# https://docs.python.org/2/library/urllib.html\n",
    "# https://docs.python.org/3.0/library/urllib.parse.html"
   ]
  },
  {
   "cell_type": "code",
   "execution_count": 67,
   "id": "b11f9873",
   "metadata": {},
   "outputs": [],
   "source": [
    "# #!/usr/bin/env python\n",
    "# #coding: utf-8\n",
    "# __author__ = 'stsmith'\n",
    "\n",
    "# # congress_lookup: Look up information about congress from the congress-legislators database\n",
    "# # See: https://github.com/unitedstates/congress-legislators and https://github.com/TheWalkers/congress-legislators\n",
    "\n",
    "# # The project is in the public domain within the United States, and\n",
    "# # copyright and related rights in the work worldwide are waived\n",
    "# # through the CC0 1.0 Universal public domain dedication.\n",
    "\n",
    "# # Author 2017 Steven T. Smith <steve dot t dot smith at gmail dot com>\n",
    "\n",
    "# import argparse as ap, contextlib, fnmatch, os, sys, time, warnings, yaml\n",
    "\n",
    "# # version dependent libraries\n",
    "# # https://docs.python.org/2/library/urllib.html\n",
    "# # https://docs.python.org/3.0/library/urllib.parse.html\n",
    "# if (sys.version_info > (3, 0)):\n",
    "#     from urllib.request import urlopen\n",
    "#     import urllib.parse as urlparse\n",
    "# else:\n",
    "#     from urllib2 import urlopen\n",
    "#     import urlparse\n",
    "\n",
    "# class CongressLookup:\n",
    "#     '''A class used to lookup legislator properties from the github congress-legislators YAML database.'''\n",
    "\n",
    "#     def __init__(self):\n",
    "#         self.args = self.parseArgs()\n",
    "#         self.data_path = os.path.join(os.path.dirname(os.path.realpath(__file__)),self.args.data_dir)\n",
    "#         self.properties = dict()\n",
    "#         self.database_load()\n",
    "#         for prop in self.args.properties: self.lookup_property(prop)\n",
    "\n",
    "#     def parseArgs(self):\n",
    "#         parser = ap.ArgumentParser()\n",
    "#         parser.add_argument('properties', metavar='PROPS', type=str, nargs='+',\n",
    "#                             help='Properties to look up')\n",
    "#         parser.add_argument('-c', '--committee', help=\"Committee name (wildcard)\", type=str, default=None)\n",
    "#         parser.add_argument('-n', '--last-name', help=\"Last name of legislator (wildcard)\", type=str, default=None)\n",
    "#         parser.add_argument('-d', '--data-dir', help=\"Database directory\", type=str, default='.')\n",
    "#         parser.add_argument('-r', '--repo', help=\"GitHub repo URL\", type=str, default='https://github.com/unitedstates/congress-legislators/')\n",
    "#         parser.add_argument('-T', '--current-term', help=\"Properties from only the current term\", action='store_true')\n",
    "#         parser.add_argument('-D', '--download', help=\"Download data\", action='store_true', default=False)\n",
    "#         parser.add_argument('-g', '--debug', help=\"Debug flag\", action='store_true')\n",
    "#         return parser.parse_args()\n",
    "\n",
    "#     def lookup_property(self,property):\n",
    "#         if self.args.committee is not None:\n",
    "#             self.lookup_by_committee(property)\n",
    "#         if self.args.last_name is not None:\n",
    "#             self.lookup_by_lastname(property)\n",
    "\n",
    "#     def lookup_by_committee(self,property):\n",
    "#         for comm in (comm for comm in self.committees if self.inclusive_wildcard_match(comm['name'],self.args.committee)):\n",
    "#             if self.args.debug: print(comm)\n",
    "#             print('\"{}\" member properties:'.format(comm['name'].encode('utf-8')))\n",
    "#             members = self.membership[comm['thomas_id']] if comm['thomas_id'] in self.membership else []\n",
    "#             for member in members: self.lookup_by_member(property,member)\n",
    "\n",
    "#     def inclusive_wildcard_match(self,name,pat):\n",
    "#         if any(c in pat for c in '*?[]'):       # a wildcard pattern\n",
    "#             # prepend or append a * for inclusiveness if not already there\n",
    "#             if pat[0] != '*': pat = '*' + pat\n",
    "#             if pat[-1] != '*': pat = pat + '*'\n",
    "#         else:                                   # not a wildcard\n",
    "#             pat = '*' + pat + '*'\n",
    "#         return fnmatch.fnmatch(name,pat)\n",
    "\n",
    "#     def lookup_by_member(self,property,member):\n",
    "#         for leg in ( leg for leg in self.legislators if \\\n",
    "#                     (leg['name']['official_full'] == member['name']) \\\n",
    "#                     or ('bioguide' in leg['id'] and 'bioguide' in member and leg['id']['bioguide'] == member['bioguide']) \\\n",
    "#                     or ('thomas' in leg['id'] and 'thomas' in member and leg['id']['thomas'] == member['thomas']) ):\n",
    "#             self.lookup_legislator_properties(property,leg)\n",
    "\n",
    "#     def lookup_by_lastname(self,property):\n",
    "#         for leg in (leg for leg in self.legislators if fnmatch.fnmatch(leg['name']['last'],self.args.last_name)):\n",
    "#             if self.args.debug: print(leg)\n",
    "#             self.lookup_legislator_properties(property,leg)\n",
    "\n",
    "#     def lookup_legislator_properties(self,property,legislator):\n",
    "#         self.properties[property] = set([term[property] for term in legislator['terms'] if self.lookup_filter(property,term)])\n",
    "#         for off in self.offices:\n",
    "#             if self.args.debug: print(off)\n",
    "#             if any(off['id'][db] == legislator['id'][db] for db in off['id'] if db in off['id'] and db in legislator['id']):\n",
    "#                 self.properties[property] |= set([ok[property] for ok in off['offices'] if property in ok and len(ok[property]) > 0])\n",
    "#                 break\n",
    "#         print('Property \\'{}\\' for {}:'.format(property,legislator['name']['official_full'].encode('utf-8')))\n",
    "#         print('\\n'.join(sorted(self.properties[property])))\n",
    "\n",
    "#     def lookup_filter(self,property,term):\n",
    "#         result = property in term and len(term[property]) > 0\n",
    "#         if result and self.args.current_term:\n",
    "#             result &= 'end' in term and time.strptime(term['end'],'%Y-%m-%d') >= time.localtime()\n",
    "#         return result\n",
    "\n",
    "#     def database_load(self):\n",
    "#         try:\n",
    "#             with self.database_access('legislators-current.yaml') as y:\n",
    "#                 self.legislators = self.yaml_load(y, Loader=yaml.CLoader)\n",
    "#             with self.database_access('legislators-district-offices.yaml') as y:\n",
    "#                 self.offices = self.yaml_load(y, Loader=yaml.CLoader)\n",
    "#             if self.args.committee is not None:\n",
    "#                 with self.database_access('committees-current.yaml') as y:\n",
    "#                     self.committees = self.yaml_load(y, Loader=yaml.CLoader)\n",
    "#                 with self.database_access('committee-membership-current.yaml') as y:\n",
    "#                     self.membership = self.yaml_load(y, Loader=yaml.CLoader)\n",
    "#             else:\n",
    "#                 self.committees = None\n",
    "#         except (BaseException,IOError) as e:\n",
    "#             print(e)\n",
    "#             raise Exception('Clone data from {} and copy it to {} .'.format(self.args.repo,self.data_path))\n",
    "\n",
    "#     def yaml_load(self,y,Loader=yaml.loader.Loader):\n",
    "#         res = yaml.load(y, Loader=Loader)\n",
    "#         if res is None: res = []  # make it an empty iterable\n",
    "#         return res\n",
    "\n",
    "#     def database_access(self,filename):\n",
    "#         if self.args.download:\n",
    "#             if self.args.repo[-1] != '/': self.args.repo += '/'\n",
    "#             url_base = urlparse.urljoin(urlparse.urlunparse(urlparse.urlparse(self.args.repo)._replace(netloc='raw.githubusercontent.com')),'main/')\n",
    "#             # contextlib required for urlopen in with ... as for v < 3.3\n",
    "#             res = contextlib.closing(urlopen( urlparse.urljoin(url_base,filename) ))\n",
    "#         else:\n",
    "#             fname_fullpath = os.path.join(self.data_path,filename)\n",
    "#             if os.path.exists(fname_fullpath):\n",
    "#                 res = open(fname_fullpath,'r')\n",
    "#             else:\n",
    "#                 warnings.warn('File {} doesn\\'t exist; clone data from {} and copy it to {} .'.format(filename,self.args.repo,self.data_path))\n",
    "#                 res = self.Emptysource()\n",
    "#         return res\n",
    "\n",
    "#     class Emptysource(object):\n",
    "#         def read(self, size):\n",
    "#             return ''  # empty\n",
    "#         def write(self, data):\n",
    "#             pass  # ignore the data\n",
    "#         def __enter__(self): return self\n",
    "#         def __exit__(*x): pass\n",
    "\n",
    "\n",
    "# if __name__ == \"__main__\":\n",
    "#     res = CongressLookup()\n"
   ]
  },
  {
   "cell_type": "markdown",
   "id": "2e7c4814",
   "metadata": {},
   "source": [
    "----"
   ]
  },
  {
   "cell_type": "code",
   "execution_count": null,
   "id": "e31021a3",
   "metadata": {},
   "outputs": [],
   "source": []
  }
 ],
 "metadata": {
  "kernelspec": {
   "display_name": "Python 3 (ipykernel)",
   "language": "python",
   "name": "python3"
  },
  "language_info": {
   "codemirror_mode": {
    "name": "ipython",
    "version": 3
   },
   "file_extension": ".py",
   "mimetype": "text/x-python",
   "name": "python",
   "nbconvert_exporter": "python",
   "pygments_lexer": "ipython3",
   "version": "3.10.0"
  }
 },
 "nbformat": 4,
 "nbformat_minor": 5
}
