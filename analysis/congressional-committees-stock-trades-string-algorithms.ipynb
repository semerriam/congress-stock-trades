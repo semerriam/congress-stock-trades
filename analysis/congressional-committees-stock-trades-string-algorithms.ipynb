{
 "cells": [
  {
   "cell_type": "markdown",
   "id": "873b9ca1",
   "metadata": {},
   "source": [
    "# Congressional Committees w/ Stock Trades w/ String Algorithms"
   ]
  },
  {
   "cell_type": "markdown",
   "id": "99c47e2a",
   "metadata": {},
   "source": [
    "Exploring matching Congressional stock trade data and stock descriptions with Congressional Committee descriptions"
   ]
  },
  {
   "cell_type": "markdown",
   "id": "a2b80524",
   "metadata": {},
   "source": [
    "reference: https://pythonspot.com/nltk-stop-words/"
   ]
  },
  {
   "cell_type": "code",
   "execution_count": null,
   "id": "1efb946f",
   "metadata": {},
   "outputs": [],
   "source": []
  },
  {
   "cell_type": "markdown",
   "id": "fccda6cb",
   "metadata": {},
   "source": [
    "----"
   ]
  },
  {
   "cell_type": "markdown",
   "id": "11612340",
   "metadata": {},
   "source": [
    "#### Imports"
   ]
  },
  {
   "cell_type": "code",
   "execution_count": 1,
   "id": "648933c6",
   "metadata": {},
   "outputs": [
    {
     "name": "stderr",
     "output_type": "stream",
     "text": [
      "/Users/sm/.pyenv/versions/3.10.0/lib/python3.10/site-packages/pandas/compat/__init__.py:124: UserWarning: Could not import the lzma module. Your installed Python is incomplete. Attempting to use lzma compression will result in a RuntimeError.\n",
      "  warnings.warn(msg)\n"
     ]
    }
   ],
   "source": [
    "import pandas as pd\n",
    "import numpy as np\n",
    "import matplotlib.pyplot as plt\n",
    "from IPython.display import display, HTML"
   ]
  },
  {
   "cell_type": "code",
   "execution_count": 2,
   "id": "d90330a0",
   "metadata": {},
   "outputs": [],
   "source": [
    "# pd.set_option('display.max_columns', None)\n",
    "# pd.set_option('display.max_rows', None)\n",
    "# pd.set_option('display.width', None)\n",
    "# pd.set_option('display.max_colwidth', None)\n",
    "# pd.set_option('max_seq_item', None)"
   ]
  },
  {
   "cell_type": "code",
   "execution_count": 3,
   "id": "8367da9c",
   "metadata": {},
   "outputs": [
    {
     "name": "stderr",
     "output_type": "stream",
     "text": [
      "/Users/sm/.pyenv/versions/3.10.0/lib/python3.10/site-packages/fuzzywuzzy/fuzz.py:11: UserWarning: Using slow pure-python SequenceMatcher. Install python-Levenshtein to remove this warning\n",
      "  warnings.warn('Using slow pure-python SequenceMatcher. Install python-Levenshtein to remove this warning')\n",
      "/Users/sm/.pyenv/versions/3.10.0/lib/python3.10/site-packages/thefuzz/fuzz.py:11: UserWarning: Using slow pure-python SequenceMatcher. Install python-Levenshtein to remove this warning\n",
      "  warnings.warn('Using slow pure-python SequenceMatcher. Install python-Levenshtein to remove this warning')\n"
     ]
    }
   ],
   "source": [
    "#string matching imports\n",
    "from difflib import SequenceMatcher\n",
    "from fuzzywuzzy import fuzz\n",
    "from fuzzywuzzy import process\n",
    "from thefuzz import fuzz\n",
    "from thefuzz import process\n",
    "import textdistance\n",
    "import jaro\n",
    "import jellyfish"
   ]
  },
  {
   "cell_type": "code",
   "execution_count": 4,
   "id": "a7ae074f",
   "metadata": {},
   "outputs": [],
   "source": [
    "#natural language processing imports\n",
    "import nltk\n",
    "from nltk.tokenize import sent_tokenize, word_tokenize\n",
    "from nltk.corpus import stopwords\n",
    "from nltk.corpus import treebank\n",
    "import string"
   ]
  },
  {
   "cell_type": "code",
   "execution_count": 5,
   "id": "5575b7df",
   "metadata": {},
   "outputs": [
    {
     "name": "stderr",
     "output_type": "stream",
     "text": [
      "[nltk_data] Downloading package punkt to /Users/sm/nltk_data...\n",
      "[nltk_data]   Package punkt is already up-to-date!\n",
      "[nltk_data] Downloading package stopwords to /Users/sm/nltk_data...\n",
      "[nltk_data]   Package stopwords is already up-to-date!\n",
      "[nltk_data] Downloading package averaged_perceptron_tagger to\n",
      "[nltk_data]     /Users/sm/nltk_data...\n",
      "[nltk_data]   Package averaged_perceptron_tagger is already up-to-\n",
      "[nltk_data]       date!\n",
      "[nltk_data] Downloading package maxent_ne_chunker to\n",
      "[nltk_data]     /Users/sm/nltk_data...\n",
      "[nltk_data]   Package maxent_ne_chunker is already up-to-date!\n",
      "[nltk_data] Downloading package words to /Users/sm/nltk_data...\n",
      "[nltk_data]   Package words is already up-to-date!\n",
      "[nltk_data] Downloading package treebank to /Users/sm/nltk_data...\n",
      "[nltk_data]   Package treebank is already up-to-date!\n"
     ]
    },
    {
     "data": {
      "text/plain": [
       "True"
      ]
     },
     "execution_count": 5,
     "metadata": {},
     "output_type": "execute_result"
    }
   ],
   "source": [
    "nltk.download('punkt')\n",
    "nltk.download('stopwords')\n",
    "nltk.download('averaged_perceptron_tagger')\n",
    "nltk.download('maxent_ne_chunker')\n",
    "nltk.download('words')\n",
    "nltk.download('treebank')"
   ]
  },
  {
   "cell_type": "markdown",
   "id": "3a1f06d7",
   "metadata": {},
   "source": [
    "----"
   ]
  },
  {
   "cell_type": "markdown",
   "id": "0d6e7c56",
   "metadata": {},
   "source": [
    "### Reading Dataframes"
   ]
  },
  {
   "cell_type": "markdown",
   "id": "1f253c6f",
   "metadata": {},
   "source": [
    "Read in Stock trades by Congress members with Yahoo finance stock info"
   ]
  },
  {
   "cell_type": "code",
   "execution_count": 6,
   "id": "403a1506",
   "metadata": {},
   "outputs": [],
   "source": [
    "df_trades = pd.read_csv(\"..//data//processed//stock_watchers_w_yfinance_03_12_2022.csv\", encoding=\"utf-8\")"
   ]
  },
  {
   "cell_type": "code",
   "execution_count": 7,
   "id": "90e1e98d",
   "metadata": {},
   "outputs": [
    {
     "data": {
      "text/html": [
       "<div>\n",
       "<style scoped>\n",
       "    .dataframe tbody tr th:only-of-type {\n",
       "        vertical-align: middle;\n",
       "    }\n",
       "\n",
       "    .dataframe tbody tr th {\n",
       "        vertical-align: top;\n",
       "    }\n",
       "\n",
       "    .dataframe thead th {\n",
       "        text-align: right;\n",
       "    }\n",
       "</style>\n",
       "<table border=\"1\" class=\"dataframe\">\n",
       "  <thead>\n",
       "    <tr style=\"text-align: right;\">\n",
       "      <th></th>\n",
       "      <th>transaction_date</th>\n",
       "      <th>disclosure_date</th>\n",
       "      <th>politician</th>\n",
       "      <th>owner</th>\n",
       "      <th>ticker</th>\n",
       "      <th>amount</th>\n",
       "      <th>asset_description</th>\n",
       "      <th>asset_type</th>\n",
       "      <th>transaction_type</th>\n",
       "      <th>comment</th>\n",
       "      <th>...</th>\n",
       "      <th>cap_gains</th>\n",
       "      <th>amount_low</th>\n",
       "      <th>amount_high</th>\n",
       "      <th>ticker2</th>\n",
       "      <th>name</th>\n",
       "      <th>sector</th>\n",
       "      <th>industry</th>\n",
       "      <th>longbusinesssummary</th>\n",
       "      <th>website</th>\n",
       "      <th>stock_description</th>\n",
       "    </tr>\n",
       "  </thead>\n",
       "  <tbody>\n",
       "    <tr>\n",
       "      <th>0</th>\n",
       "      <td>02/24/2022</td>\n",
       "      <td>03/11/2022</td>\n",
       "      <td>Shelley M Capito</td>\n",
       "      <td>Spouse</td>\n",
       "      <td>NEE</td>\n",
       "      <td>1001 - 15000</td>\n",
       "      <td>NextEra Energy, Inc. Common Stock</td>\n",
       "      <td>Stock</td>\n",
       "      <td>Sale (Partial)</td>\n",
       "      <td>--</td>\n",
       "      <td>...</td>\n",
       "      <td>NaN</td>\n",
       "      <td>1001</td>\n",
       "      <td>15000.0</td>\n",
       "      <td>NEE</td>\n",
       "      <td>NextEra Energy, Inc.</td>\n",
       "      <td>Utilities</td>\n",
       "      <td>Utilities—Regulated Electric</td>\n",
       "      <td>NextEra Energy, Inc., through its subsidiaries...</td>\n",
       "      <td>https://www.nexteraenergy.com</td>\n",
       "      <td>Utilities, Utilities—Regulated Electric, NextE...</td>\n",
       "    </tr>\n",
       "  </tbody>\n",
       "</table>\n",
       "<p>1 rows × 22 columns</p>\n",
       "</div>"
      ],
      "text/plain": [
       "  transaction_date disclosure_date        politician   owner ticker  \\\n",
       "0       02/24/2022      03/11/2022  Shelley M Capito  Spouse    NEE   \n",
       "\n",
       "         amount                  asset_description asset_type  \\\n",
       "0  1001 - 15000  NextEra Energy, Inc. Common Stock      Stock   \n",
       "\n",
       "  transaction_type comment  ... cap_gains amount_low amount_high ticker2  \\\n",
       "0   Sale (Partial)      --  ...       NaN       1001     15000.0     NEE   \n",
       "\n",
       "                   name     sector                      industry  \\\n",
       "0  NextEra Energy, Inc.  Utilities  Utilities—Regulated Electric   \n",
       "\n",
       "                                 longbusinesssummary  \\\n",
       "0  NextEra Energy, Inc., through its subsidiaries...   \n",
       "\n",
       "                         website  \\\n",
       "0  https://www.nexteraenergy.com   \n",
       "\n",
       "                                   stock_description  \n",
       "0  Utilities, Utilities—Regulated Electric, NextE...  \n",
       "\n",
       "[1 rows x 22 columns]"
      ]
     },
     "execution_count": 7,
     "metadata": {},
     "output_type": "execute_result"
    }
   ],
   "source": [
    "df_trades.head(1)"
   ]
  },
  {
   "cell_type": "code",
   "execution_count": 8,
   "id": "4271997b",
   "metadata": {},
   "outputs": [],
   "source": [
    "df_trades['sector_industry'] = df_trades['sector'] + ' ' + df_trades['industry']"
   ]
  },
  {
   "cell_type": "code",
   "execution_count": 9,
   "id": "1a5078d7",
   "metadata": {},
   "outputs": [
    {
     "data": {
      "text/html": [
       "<div>\n",
       "<style scoped>\n",
       "    .dataframe tbody tr th:only-of-type {\n",
       "        vertical-align: middle;\n",
       "    }\n",
       "\n",
       "    .dataframe tbody tr th {\n",
       "        vertical-align: top;\n",
       "    }\n",
       "\n",
       "    .dataframe thead th {\n",
       "        text-align: right;\n",
       "    }\n",
       "</style>\n",
       "<table border=\"1\" class=\"dataframe\">\n",
       "  <thead>\n",
       "    <tr style=\"text-align: right;\">\n",
       "      <th></th>\n",
       "      <th>transaction_date</th>\n",
       "      <th>disclosure_date</th>\n",
       "      <th>politician</th>\n",
       "      <th>owner</th>\n",
       "      <th>ticker</th>\n",
       "      <th>amount</th>\n",
       "      <th>asset_description</th>\n",
       "      <th>asset_type</th>\n",
       "      <th>transaction_type</th>\n",
       "      <th>comment</th>\n",
       "      <th>...</th>\n",
       "      <th>amount_low</th>\n",
       "      <th>amount_high</th>\n",
       "      <th>ticker2</th>\n",
       "      <th>name</th>\n",
       "      <th>sector</th>\n",
       "      <th>industry</th>\n",
       "      <th>longbusinesssummary</th>\n",
       "      <th>website</th>\n",
       "      <th>stock_description</th>\n",
       "      <th>sector_industry</th>\n",
       "    </tr>\n",
       "  </thead>\n",
       "  <tbody>\n",
       "    <tr>\n",
       "      <th>0</th>\n",
       "      <td>02/24/2022</td>\n",
       "      <td>03/11/2022</td>\n",
       "      <td>Shelley M Capito</td>\n",
       "      <td>Spouse</td>\n",
       "      <td>NEE</td>\n",
       "      <td>1001 - 15000</td>\n",
       "      <td>NextEra Energy, Inc. Common Stock</td>\n",
       "      <td>Stock</td>\n",
       "      <td>Sale (Partial)</td>\n",
       "      <td>--</td>\n",
       "      <td>...</td>\n",
       "      <td>1001</td>\n",
       "      <td>15000.0</td>\n",
       "      <td>NEE</td>\n",
       "      <td>NextEra Energy, Inc.</td>\n",
       "      <td>Utilities</td>\n",
       "      <td>Utilities—Regulated Electric</td>\n",
       "      <td>NextEra Energy, Inc., through its subsidiaries...</td>\n",
       "      <td>https://www.nexteraenergy.com</td>\n",
       "      <td>Utilities, Utilities—Regulated Electric, NextE...</td>\n",
       "      <td>Utilities Utilities—Regulated Electric</td>\n",
       "    </tr>\n",
       "  </tbody>\n",
       "</table>\n",
       "<p>1 rows × 23 columns</p>\n",
       "</div>"
      ],
      "text/plain": [
       "  transaction_date disclosure_date        politician   owner ticker  \\\n",
       "0       02/24/2022      03/11/2022  Shelley M Capito  Spouse    NEE   \n",
       "\n",
       "         amount                  asset_description asset_type  \\\n",
       "0  1001 - 15000  NextEra Energy, Inc. Common Stock      Stock   \n",
       "\n",
       "  transaction_type comment  ... amount_low amount_high ticker2  \\\n",
       "0   Sale (Partial)      --  ...       1001     15000.0     NEE   \n",
       "\n",
       "                   name     sector                      industry  \\\n",
       "0  NextEra Energy, Inc.  Utilities  Utilities—Regulated Electric   \n",
       "\n",
       "                                 longbusinesssummary  \\\n",
       "0  NextEra Energy, Inc., through its subsidiaries...   \n",
       "\n",
       "                         website  \\\n",
       "0  https://www.nexteraenergy.com   \n",
       "\n",
       "                                   stock_description  \\\n",
       "0  Utilities, Utilities—Regulated Electric, NextE...   \n",
       "\n",
       "                          sector_industry  \n",
       "0  Utilities Utilities—Regulated Electric  \n",
       "\n",
       "[1 rows x 23 columns]"
      ]
     },
     "execution_count": 9,
     "metadata": {},
     "output_type": "execute_result"
    }
   ],
   "source": [
    "df_trades.head(1)"
   ]
  },
  {
   "cell_type": "code",
   "execution_count": 10,
   "id": "d248b648",
   "metadata": {},
   "outputs": [],
   "source": [
    "# df_trades.columns"
   ]
  },
  {
   "cell_type": "markdown",
   "id": "a9d8d403",
   "metadata": {},
   "source": [
    "Read in Congress Committee Descriptions Extracted from Committee.gov sites (with a few exceptions)"
   ]
  },
  {
   "cell_type": "code",
   "execution_count": 11,
   "id": "77e56af9",
   "metadata": {},
   "outputs": [],
   "source": [
    "df_subcomittees = pd.read_csv('..//data//handmade//congress_commitee_descriptions.csv')"
   ]
  },
  {
   "cell_type": "code",
   "execution_count": 12,
   "id": "5994e2d9",
   "metadata": {},
   "outputs": [
    {
     "data": {
      "text/html": [
       "<div>\n",
       "<style scoped>\n",
       "    .dataframe tbody tr th:only-of-type {\n",
       "        vertical-align: middle;\n",
       "    }\n",
       "\n",
       "    .dataframe tbody tr th {\n",
       "        vertical-align: top;\n",
       "    }\n",
       "\n",
       "    .dataframe thead th {\n",
       "        text-align: right;\n",
       "    }\n",
       "</style>\n",
       "<table border=\"1\" class=\"dataframe\">\n",
       "  <thead>\n",
       "    <tr style=\"text-align: right;\">\n",
       "      <th></th>\n",
       "      <th>committee</th>\n",
       "      <th>committee_fullname</th>\n",
       "      <th>committee_description</th>\n",
       "      <th>website</th>\n",
       "    </tr>\n",
       "  </thead>\n",
       "  <tbody>\n",
       "    <tr>\n",
       "      <th>0</th>\n",
       "      <td>SSFR09</td>\n",
       "      <td>Africa and Global Health Policy</td>\n",
       "      <td>The subcommittee deals with all matters concer...</td>\n",
       "      <td>https://www.foreign.senate.gov/download/2021-1...</td>\n",
       "    </tr>\n",
       "  </tbody>\n",
       "</table>\n",
       "</div>"
      ],
      "text/plain": [
       "  committee               committee_fullname  \\\n",
       "0    SSFR09  Africa and Global Health Policy   \n",
       "\n",
       "                               committee_description  \\\n",
       "0  The subcommittee deals with all matters concer...   \n",
       "\n",
       "                                             website  \n",
       "0  https://www.foreign.senate.gov/download/2021-1...  "
      ]
     },
     "execution_count": 12,
     "metadata": {},
     "output_type": "execute_result"
    }
   ],
   "source": [
    "df_subcomittees.head(1)"
   ]
  },
  {
   "cell_type": "code",
   "execution_count": 13,
   "id": "6c9c7321",
   "metadata": {},
   "outputs": [],
   "source": [
    "df_subcomittees['committee_description2'] = df_subcomittees['committee_fullname'] + ' ' + df_subcomittees['committee_description']"
   ]
  },
  {
   "cell_type": "code",
   "execution_count": 14,
   "id": "3660fddd",
   "metadata": {},
   "outputs": [
    {
     "data": {
      "text/plain": [
       "Index(['committee', 'committee_fullname', 'committee_description', 'website',\n",
       "       'committee_description2'],\n",
       "      dtype='object')"
      ]
     },
     "execution_count": 14,
     "metadata": {},
     "output_type": "execute_result"
    }
   ],
   "source": [
    "df_subcomittees.columns"
   ]
  },
  {
   "cell_type": "code",
   "execution_count": 15,
   "id": "d5259a38",
   "metadata": {},
   "outputs": [
    {
     "data": {
      "text/html": [
       "<div>\n",
       "<style scoped>\n",
       "    .dataframe tbody tr th:only-of-type {\n",
       "        vertical-align: middle;\n",
       "    }\n",
       "\n",
       "    .dataframe tbody tr th {\n",
       "        vertical-align: top;\n",
       "    }\n",
       "\n",
       "    .dataframe thead th {\n",
       "        text-align: right;\n",
       "    }\n",
       "</style>\n",
       "<table border=\"1\" class=\"dataframe\">\n",
       "  <thead>\n",
       "    <tr style=\"text-align: right;\">\n",
       "      <th></th>\n",
       "      <th>committee</th>\n",
       "      <th>committee_fullname</th>\n",
       "      <th>committee_description</th>\n",
       "      <th>website</th>\n",
       "      <th>committee_description2</th>\n",
       "    </tr>\n",
       "  </thead>\n",
       "  <tbody>\n",
       "    <tr>\n",
       "      <th>0</th>\n",
       "      <td>SSFR09</td>\n",
       "      <td>Africa and Global Health Policy</td>\n",
       "      <td>The subcommittee deals with all matters concer...</td>\n",
       "      <td>https://www.foreign.senate.gov/download/2021-1...</td>\n",
       "      <td>Africa and Global Health Policy The subcommitt...</td>\n",
       "    </tr>\n",
       "  </tbody>\n",
       "</table>\n",
       "</div>"
      ],
      "text/plain": [
       "  committee               committee_fullname  \\\n",
       "0    SSFR09  Africa and Global Health Policy   \n",
       "\n",
       "                               committee_description  \\\n",
       "0  The subcommittee deals with all matters concer...   \n",
       "\n",
       "                                             website  \\\n",
       "0  https://www.foreign.senate.gov/download/2021-1...   \n",
       "\n",
       "                              committee_description2  \n",
       "0  Africa and Global Health Policy The subcommitt...  "
      ]
     },
     "execution_count": 15,
     "metadata": {},
     "output_type": "execute_result"
    }
   ],
   "source": [
    "df_subcomittees.head(1)"
   ]
  },
  {
   "cell_type": "markdown",
   "id": "ea418757",
   "metadata": {},
   "source": [
    "Read in Congress Committee Assignments"
   ]
  },
  {
   "cell_type": "code",
   "execution_count": 16,
   "id": "37565036",
   "metadata": {},
   "outputs": [],
   "source": [
    "df_committee_members = pd.read_csv(\"..//data//processed//congress_committees.csv\", encoding=\"utf-8\")"
   ]
  },
  {
   "cell_type": "code",
   "execution_count": 17,
   "id": "67dfed28",
   "metadata": {},
   "outputs": [
    {
     "data": {
      "text/html": [
       "<div>\n",
       "<style scoped>\n",
       "    .dataframe tbody tr th:only-of-type {\n",
       "        vertical-align: middle;\n",
       "    }\n",
       "\n",
       "    .dataframe tbody tr th {\n",
       "        vertical-align: top;\n",
       "    }\n",
       "\n",
       "    .dataframe thead th {\n",
       "        text-align: right;\n",
       "    }\n",
       "</style>\n",
       "<table border=\"1\" class=\"dataframe\">\n",
       "  <thead>\n",
       "    <tr style=\"text-align: right;\">\n",
       "      <th></th>\n",
       "      <th>committee</th>\n",
       "      <th>name</th>\n",
       "      <th>party</th>\n",
       "      <th>rank</th>\n",
       "      <th>bioguide</th>\n",
       "    </tr>\n",
       "  </thead>\n",
       "  <tbody>\n",
       "    <tr>\n",
       "      <th>0</th>\n",
       "      <td>SSAF</td>\n",
       "      <td>Debbie Stabenow</td>\n",
       "      <td>majority</td>\n",
       "      <td>1</td>\n",
       "      <td>S000770</td>\n",
       "    </tr>\n",
       "    <tr>\n",
       "      <th>1</th>\n",
       "      <td>SSAF</td>\n",
       "      <td>Patrick J. Leahy</td>\n",
       "      <td>majority</td>\n",
       "      <td>2</td>\n",
       "      <td>L000174</td>\n",
       "    </tr>\n",
       "  </tbody>\n",
       "</table>\n",
       "</div>"
      ],
      "text/plain": [
       "  committee              name     party  rank bioguide\n",
       "0      SSAF   Debbie Stabenow  majority     1  S000770\n",
       "1      SSAF  Patrick J. Leahy  majority     2  L000174"
      ]
     },
     "execution_count": 17,
     "metadata": {},
     "output_type": "execute_result"
    }
   ],
   "source": [
    "df_committee_members.head(2)"
   ]
  },
  {
   "cell_type": "code",
   "execution_count": 18,
   "id": "8fe9ad80",
   "metadata": {},
   "outputs": [
    {
     "data": {
      "text/plain": [
       "Index(['committee', 'name', 'party', 'rank', 'bioguide'], dtype='object')"
      ]
     },
     "execution_count": 18,
     "metadata": {},
     "output_type": "execute_result"
    }
   ],
   "source": [
    "df_committee_members.columns"
   ]
  },
  {
   "cell_type": "markdown",
   "id": "fa0ba05c",
   "metadata": {},
   "source": [
    "-----"
   ]
  },
  {
   "cell_type": "markdown",
   "id": "a1691036",
   "metadata": {},
   "source": [
    "### Cleaning the Stock Description Columns"
   ]
  },
  {
   "cell_type": "code",
   "execution_count": 19,
   "id": "127280c1",
   "metadata": {},
   "outputs": [],
   "source": [
    "df_trades['stock_description2'] = df_trades.stock_description\n",
    "# df.head(1)"
   ]
  },
  {
   "cell_type": "code",
   "execution_count": 20,
   "id": "b923c5d4",
   "metadata": {},
   "outputs": [],
   "source": [
    "df_trades.stock_description2 = df_trades.stock_description2.astype(str).str.lower()"
   ]
  },
  {
   "cell_type": "code",
   "execution_count": 21,
   "id": "b6262756",
   "metadata": {},
   "outputs": [
    {
     "data": {
      "text/plain": [
       "0    utilities, utilities—regulated electric, nexte...\n",
       "Name: stock_description2, dtype: object"
      ]
     },
     "execution_count": 21,
     "metadata": {},
     "output_type": "execute_result"
    }
   ],
   "source": [
    "df_trades.stock_description2.head(1)"
   ]
  },
  {
   "cell_type": "code",
   "execution_count": 22,
   "id": "4d952cbf",
   "metadata": {},
   "outputs": [],
   "source": [
    "df_trades.sector_industry = df_trades.sector_industry.astype(str).str.lower()"
   ]
  },
  {
   "cell_type": "code",
   "execution_count": 23,
   "id": "b457d37a",
   "metadata": {},
   "outputs": [
    {
     "data": {
      "text/plain": [
       "0    utilities utilities—regulated electric\n",
       "Name: sector_industry, dtype: object"
      ]
     },
     "execution_count": 23,
     "metadata": {},
     "output_type": "execute_result"
    }
   ],
   "source": [
    "df_trades.sector_industry.head(1)"
   ]
  },
  {
   "cell_type": "code",
   "execution_count": null,
   "id": "64e52c0c",
   "metadata": {},
   "outputs": [],
   "source": []
  },
  {
   "cell_type": "code",
   "execution_count": null,
   "id": "5bb6f20e",
   "metadata": {},
   "outputs": [],
   "source": []
  },
  {
   "cell_type": "markdown",
   "id": "32ac4f8e",
   "metadata": {},
   "source": [
    "Data Notes:\n",
    "\n",
    "1. combine committee fullname with committee description in new column\n",
    "2. remove duplicate words in each description\n",
    "3. (agriculture vs. agricultural)\n",
    "5. remove numbers and words, punctuation \n",
    "\n",
    "* a \n",
    "* includes\n",
    "* deals \n",
    "* shall\n",
    "* jurisdiction\n",
    "* policy \n",
    "* member\n",
    "* ranking\n",
    "* "
   ]
  },
  {
   "cell_type": "markdown",
   "id": "cce734e9",
   "metadata": {},
   "source": [
    "\n",
    "\n",
    "\n"
   ]
  },
  {
   "cell_type": "markdown",
   "id": "88127528",
   "metadata": {},
   "source": [
    "-----"
   ]
  },
  {
   "cell_type": "markdown",
   "id": "4b9012de",
   "metadata": {},
   "source": [
    "##### Removing Punctuation from description"
   ]
  },
  {
   "cell_type": "code",
   "execution_count": 24,
   "id": "6dd03b5e",
   "metadata": {},
   "outputs": [
    {
     "data": {
      "text/plain": [
       "'!\"#$%&\\'()*+,-./:;<=>?@[\\\\]^_`{|}~'"
      ]
     },
     "execution_count": 24,
     "metadata": {},
     "output_type": "execute_result"
    }
   ],
   "source": [
    "string.punctuation"
   ]
  },
  {
   "cell_type": "code",
   "execution_count": 25,
   "id": "e900e548",
   "metadata": {},
   "outputs": [
    {
     "name": "stderr",
     "output_type": "stream",
     "text": [
      "/var/folders/c2/zngcssg14mv23nw0yr96s0wm0000gn/T/ipykernel_25622/2352222144.py:1: FutureWarning: The default value of regex will change from True to False in a future version.\n",
      "  df_trades.stock_description2 = df_trades.stock_description2.str.replace('[{}]'.format(string.punctuation), '')\n"
     ]
    }
   ],
   "source": [
    "df_trades.stock_description2 = df_trades.stock_description2.str.replace('[{}]'.format(string.punctuation), '')"
   ]
  },
  {
   "cell_type": "code",
   "execution_count": 26,
   "id": "154233b5",
   "metadata": {},
   "outputs": [
    {
     "data": {
      "text/plain": [
       "0    utilities utilities—regulated electric nextera...\n",
       "Name: stock_description2, dtype: object"
      ]
     },
     "execution_count": 26,
     "metadata": {},
     "output_type": "execute_result"
    }
   ],
   "source": [
    "df_trades.stock_description2.head(1)"
   ]
  },
  {
   "cell_type": "code",
   "execution_count": 27,
   "id": "6c629e0c",
   "metadata": {},
   "outputs": [],
   "source": [
    "df_trades.stock_description2 = df_trades.stock_description2.replace('—', ' ')"
   ]
  },
  {
   "cell_type": "code",
   "execution_count": 28,
   "id": "c11dd455",
   "metadata": {},
   "outputs": [
    {
     "data": {
      "text/plain": [
       "0    utilities utilities—regulated electric nextera...\n",
       "Name: stock_description2, dtype: object"
      ]
     },
     "execution_count": 28,
     "metadata": {},
     "output_type": "execute_result"
    }
   ],
   "source": [
    "df_trades.stock_description2.head(1)"
   ]
  },
  {
   "cell_type": "code",
   "execution_count": 29,
   "id": "09d46895",
   "metadata": {},
   "outputs": [
    {
     "name": "stderr",
     "output_type": "stream",
     "text": [
      "/var/folders/c2/zngcssg14mv23nw0yr96s0wm0000gn/T/ipykernel_25622/16752936.py:1: FutureWarning: The default value of regex will change from True to False in a future version.\n",
      "  df_trades.sector_industry = df_trades.sector_industry.str.replace('[{}]'.format(string.punctuation), '')\n"
     ]
    }
   ],
   "source": [
    "df_trades.sector_industry = df_trades.sector_industry.str.replace('[{}]'.format(string.punctuation), '')"
   ]
  },
  {
   "cell_type": "code",
   "execution_count": 30,
   "id": "d778f7bf",
   "metadata": {
    "scrolled": true
   },
   "outputs": [
    {
     "data": {
      "text/plain": [
       "0    utilities utilities—regulated electric\n",
       "Name: sector_industry, dtype: object"
      ]
     },
     "execution_count": 30,
     "metadata": {},
     "output_type": "execute_result"
    }
   ],
   "source": [
    "df_trades.sector_industry.head(1)"
   ]
  },
  {
   "cell_type": "markdown",
   "id": "7b1772ad",
   "metadata": {},
   "source": [
    "##### Removing \"Stop Words\""
   ]
  },
  {
   "cell_type": "code",
   "execution_count": 31,
   "id": "47ece7b0",
   "metadata": {},
   "outputs": [
    {
     "name": "stdout",
     "output_type": "stream",
     "text": [
      "{'we', \"haven't\", 'mightn', 'o', \"mustn't\", 'again', 'where', 'ourselves', 'not', 'just', 'me', \"she's\", 'who', 'same', 'been', \"needn't\", \"mightn't\", 'at', 'doesn', 'here', 'nor', 'about', 'of', \"that'll\", 'haven', 'shan', \"hasn't\", 'its', 'through', 'that', 'hadn', \"should've\", 'your', 'which', 're', 'an', 'ain', 'no', \"don't\", 'isn', 'those', 'any', \"you're\", 'there', 'my', 'd', 'wasn', 'but', 'will', 'i', 'can', 'once', 'should', 'mustn', 'both', 'myself', 'most', 'needn', 'weren', 'itself', 'himself', \"wasn't\", 'if', \"wouldn't\", 'herself', 'have', 'against', 'their', 'do', 'aren', 'was', 'very', 'couldn', 'are', 'other', \"weren't\", \"hadn't\", 'by', \"couldn't\", 'didn', 'up', 'shouldn', \"doesn't\", 'so', \"didn't\", 'for', 's', 'our', 'yourselves', 'until', 'won', 'off', 'll', 'her', 'were', 'then', 'down', 'themselves', 'some', 'when', 'is', 'and', \"shouldn't\", 'a', 'few', 'does', 'too', \"won't\", 'this', 'more', 'he', 'to', 'being', \"you'll\", 'yourself', \"aren't\", 'above', 'ma', 'she', 'under', 'theirs', 'further', 'now', 'because', 'on', 'having', 'yours', 'his', 'or', 'into', 'before', 'did', 'be', 'during', 'below', 've', 't', 'the', 'how', 'each', 'own', 'hers', 'has', 'than', 'whom', 'it', \"you'd\", 'from', 'they', 'had', 'm', 'hasn', 'wouldn', \"it's\", \"shan't\", 'out', 'doing', 'why', 'in', \"isn't\", 'what', \"you've\", 'as', 'him', 'while', 'between', 'such', 'don', 'ours', 'am', 'you', 'these', 'over', 'only', 'after', 'them', 'with', 'all', 'y'}\n"
     ]
    }
   ],
   "source": [
    "stops = set(stopwords.words('english'))\n",
    "print(stops)"
   ]
  },
  {
   "cell_type": "code",
   "execution_count": 32,
   "id": "540dfdd6",
   "metadata": {},
   "outputs": [],
   "source": [
    "df_trades['stock_description3'] = df_trades.stock_description2.apply(lambda x: ' '.join([word for word in x.split() if word not in (stops)]))"
   ]
  },
  {
   "cell_type": "code",
   "execution_count": 33,
   "id": "93833467",
   "metadata": {},
   "outputs": [
    {
     "data": {
      "text/plain": [
       "0    utilities utilities—regulated electric nextera...\n",
       "Name: stock_description3, dtype: object"
      ]
     },
     "execution_count": 33,
     "metadata": {},
     "output_type": "execute_result"
    }
   ],
   "source": [
    "df_trades.stock_description3.head(1)"
   ]
  },
  {
   "cell_type": "code",
   "execution_count": 34,
   "id": "246f39d5",
   "metadata": {},
   "outputs": [],
   "source": [
    "# df.head(2)"
   ]
  },
  {
   "cell_type": "markdown",
   "id": "fe254445",
   "metadata": {},
   "source": [
    "##### Removing numbers/digits from descriptions"
   ]
  },
  {
   "cell_type": "code",
   "execution_count": 35,
   "id": "25bd14dd",
   "metadata": {},
   "outputs": [
    {
     "name": "stderr",
     "output_type": "stream",
     "text": [
      "/var/folders/c2/zngcssg14mv23nw0yr96s0wm0000gn/T/ipykernel_25622/3682478094.py:1: FutureWarning: The default value of regex will change from True to False in a future version.\n",
      "  df_trades.stock_description3 = df_trades.stock_description3.str.replace('\\d+', '')\n"
     ]
    }
   ],
   "source": [
    "df_trades.stock_description3 = df_trades.stock_description3.str.replace('\\d+', '')"
   ]
  },
  {
   "cell_type": "code",
   "execution_count": 36,
   "id": "1f0d1f7a",
   "metadata": {
    "scrolled": true
   },
   "outputs": [
    {
     "data": {
      "text/plain": [
       "0    utilities utilities—regulated electric nextera...\n",
       "Name: stock_description3, dtype: object"
      ]
     },
     "execution_count": 36,
     "metadata": {},
     "output_type": "execute_result"
    }
   ],
   "source": [
    "df_trades.stock_description3.head(1)"
   ]
  },
  {
   "cell_type": "code",
   "execution_count": 37,
   "id": "301b567b",
   "metadata": {},
   "outputs": [],
   "source": [
    "# df_trades"
   ]
  },
  {
   "cell_type": "code",
   "execution_count": null,
   "id": "d1fe3a01",
   "metadata": {},
   "outputs": [],
   "source": []
  },
  {
   "cell_type": "code",
   "execution_count": null,
   "id": "66d43177",
   "metadata": {},
   "outputs": [],
   "source": []
  },
  {
   "cell_type": "code",
   "execution_count": 38,
   "id": "6411a242",
   "metadata": {},
   "outputs": [],
   "source": [
    "# stops2 = stopwords.words('english')\n",
    "# print(stops2)"
   ]
  },
  {
   "cell_type": "code",
   "execution_count": 39,
   "id": "655f3b38",
   "metadata": {},
   "outputs": [],
   "source": [
    "# stops2 = stopwords.words('english')"
   ]
  },
  {
   "cell_type": "code",
   "execution_count": 40,
   "id": "43a9e75a",
   "metadata": {},
   "outputs": [],
   "source": [
    "# Consider the word: Antinationalist, Morpheme\n",
    "# https://www.analyticsvidhya.com/blog/2021/06/part-3-step-by-step-guide-to-nlp-text-cleaning-and-preprocessing/"
   ]
  },
  {
   "cell_type": "code",
   "execution_count": null,
   "id": "380de8c7",
   "metadata": {},
   "outputs": [],
   "source": []
  },
  {
   "cell_type": "code",
   "execution_count": null,
   "id": "9864706c",
   "metadata": {},
   "outputs": [],
   "source": []
  },
  {
   "cell_type": "markdown",
   "id": "f9e6687b",
   "metadata": {},
   "source": [
    "Save a Copy"
   ]
  },
  {
   "cell_type": "code",
   "execution_count": 41,
   "id": "6051e9f1",
   "metadata": {},
   "outputs": [],
   "source": [
    "# df_trades.to_csv('..//data//processed//stock_watchers_w_yfinance_edited_03_13_2022.csv', index = False)"
   ]
  },
  {
   "cell_type": "markdown",
   "id": "a0fcfbb4",
   "metadata": {},
   "source": [
    "----"
   ]
  },
  {
   "cell_type": "markdown",
   "id": "31bdcbd1",
   "metadata": {},
   "source": [
    "### Cleaning the Committee Description Column"
   ]
  },
  {
   "cell_type": "code",
   "execution_count": 42,
   "id": "424aa3f5",
   "metadata": {},
   "outputs": [],
   "source": [
    "df_subcomittees.committee_description2 = df_subcomittees.committee_description2.astype(str).str.lower()"
   ]
  },
  {
   "cell_type": "code",
   "execution_count": 43,
   "id": "fae575f7",
   "metadata": {},
   "outputs": [
    {
     "data": {
      "text/plain": [
       "0    africa and global health policy the subcommitt...\n",
       "Name: committee_description2, dtype: object"
      ]
     },
     "execution_count": 43,
     "metadata": {},
     "output_type": "execute_result"
    }
   ],
   "source": [
    "df_subcomittees.committee_description2.head(1)"
   ]
  },
  {
   "cell_type": "markdown",
   "id": "b2bd4096",
   "metadata": {},
   "source": [
    "##### Removing Punctuation from description"
   ]
  },
  {
   "cell_type": "code",
   "execution_count": 44,
   "id": "3e180348",
   "metadata": {},
   "outputs": [
    {
     "name": "stderr",
     "output_type": "stream",
     "text": [
      "/var/folders/c2/zngcssg14mv23nw0yr96s0wm0000gn/T/ipykernel_25622/2733234590.py:1: FutureWarning: The default value of regex will change from True to False in a future version.\n",
      "  df_subcomittees.committee_description2 = df_subcomittees.committee_description2.str.replace('[{}]'.format(string.punctuation), '')\n"
     ]
    }
   ],
   "source": [
    "df_subcomittees.committee_description2 = df_subcomittees.committee_description2.str.replace('[{}]'.format(string.punctuation), '')"
   ]
  },
  {
   "cell_type": "code",
   "execution_count": 45,
   "id": "5e721377",
   "metadata": {},
   "outputs": [
    {
     "data": {
      "text/plain": [
       "0    africa and global health policy the subcommitt...\n",
       "1    africa global health and global human rights t...\n",
       "Name: committee_description2, dtype: object"
      ]
     },
     "execution_count": 45,
     "metadata": {},
     "output_type": "execute_result"
    }
   ],
   "source": [
    "df_subcomittees.committee_description2.head(2)"
   ]
  },
  {
   "cell_type": "markdown",
   "id": "c126b4a0",
   "metadata": {},
   "source": [
    "##### Removing \"Stop Words\""
   ]
  },
  {
   "cell_type": "code",
   "execution_count": 46,
   "id": "a17fd19e",
   "metadata": {},
   "outputs": [],
   "source": [
    "df_subcomittees['committee_description3'] = df_subcomittees.committee_description2.apply(lambda x: ' '.join([word for word in x.split() if word not in (stops)]))"
   ]
  },
  {
   "cell_type": "code",
   "execution_count": 47,
   "id": "1f929591",
   "metadata": {},
   "outputs": [
    {
     "data": {
      "text/plain": [
       "0    africa global health policy subcommittee deals...\n",
       "Name: committee_description3, dtype: object"
      ]
     },
     "execution_count": 47,
     "metadata": {},
     "output_type": "execute_result"
    }
   ],
   "source": [
    "df_subcomittees.committee_description3.head(1)"
   ]
  },
  {
   "cell_type": "code",
   "execution_count": 48,
   "id": "829ef75f",
   "metadata": {},
   "outputs": [],
   "source": [
    "# df.stock_description2"
   ]
  },
  {
   "cell_type": "markdown",
   "id": "fd9cbbfe",
   "metadata": {},
   "source": [
    "##### Removing numbers/digits from descriptions"
   ]
  },
  {
   "cell_type": "code",
   "execution_count": 49,
   "id": "f5562f8b",
   "metadata": {},
   "outputs": [
    {
     "name": "stderr",
     "output_type": "stream",
     "text": [
      "/var/folders/c2/zngcssg14mv23nw0yr96s0wm0000gn/T/ipykernel_25622/23686742.py:1: FutureWarning: The default value of regex will change from True to False in a future version.\n",
      "  df_subcomittees.committee_description3 = df_subcomittees.committee_description3.str.replace('\\d+', '')\n"
     ]
    }
   ],
   "source": [
    "df_subcomittees.committee_description3 = df_subcomittees.committee_description3.str.replace('\\d+', '')"
   ]
  },
  {
   "cell_type": "code",
   "execution_count": 50,
   "id": "744f98e4",
   "metadata": {
    "scrolled": true
   },
   "outputs": [
    {
     "data": {
      "text/plain": [
       "0    africa global health policy subcommittee deals...\n",
       "Name: committee_description3, dtype: object"
      ]
     },
     "execution_count": 50,
     "metadata": {},
     "output_type": "execute_result"
    }
   ],
   "source": [
    "df_subcomittees.committee_description3.head(1)"
   ]
  },
  {
   "cell_type": "code",
   "execution_count": 51,
   "id": "dd532aa6",
   "metadata": {},
   "outputs": [],
   "source": [
    "# df_subcomittees.head(1)"
   ]
  },
  {
   "cell_type": "markdown",
   "id": "1d8de94f",
   "metadata": {},
   "source": [
    "##### Step 3"
   ]
  },
  {
   "cell_type": "code",
   "execution_count": 52,
   "id": "f7154be4",
   "metadata": {},
   "outputs": [],
   "source": [
    "stops = set(stopwords.words('english'))\n",
    "# print(stops)"
   ]
  },
  {
   "cell_type": "code",
   "execution_count": 53,
   "id": "30e9d858",
   "metadata": {},
   "outputs": [],
   "source": [
    "# pat = r'\\b(?:{})\\b'.format('|'.join(stop))\n",
    "# test['tweet_without_stopwords'] = test['tweet'].str.replace(pat, '')\n",
    "# test['tweet_without_stopwords'] = test['tweet_without_stopwords'].str.replace(r'\\s+', ' ')\n",
    "# # Same results.\n",
    "# # 0              I love car\n",
    "# # 1       This view amazing\n",
    "# # 2    I feel great morning\n",
    "# # 3       I excited concert\n",
    "# # 4          He best friend"
   ]
  },
  {
   "cell_type": "markdown",
   "id": "4afaf92b",
   "metadata": {},
   "source": [
    "Save a copy"
   ]
  },
  {
   "cell_type": "code",
   "execution_count": 54,
   "id": "f17fa75c",
   "metadata": {},
   "outputs": [],
   "source": [
    "# df_subcomittees.to_csv('..//data//handmade//congress_commitee_descriptions_edited_03_13_22.csv', index = False)"
   ]
  },
  {
   "cell_type": "markdown",
   "id": "03e03566",
   "metadata": {},
   "source": [
    "-----"
   ]
  },
  {
   "cell_type": "markdown",
   "id": "6ffb7e9b",
   "metadata": {},
   "source": [
    "### Merging with algorithm on stock and committee descriptions"
   ]
  },
  {
   "cell_type": "code",
   "execution_count": 55,
   "id": "7bf6e395",
   "metadata": {},
   "outputs": [],
   "source": [
    "# merged = empty_df\n",
    "# for trade in df_trades:\n",
    "#     for each comittee in df_comitee:\n",
    "#       # match ticker descp to comittee descp OR ANY OTHER ALGORITHM\n",
    "#         flt_s_score = similar(ticker_desc, comittee_desc)\n",
    "#         if flt_s_score > 0.6:\n",
    "#             add this trade + comite descp to merged\n",
    "# drop the rows where member comittee != ticker_comitee\n",
    "# do analysis (edited) "
   ]
  },
  {
   "cell_type": "code",
   "execution_count": 56,
   "id": "7564aea4",
   "metadata": {},
   "outputs": [],
   "source": [
    "# relevant columns\n",
    "\n",
    "# df.stock_description3\n",
    "# df_subcomittees.committee_description3"
   ]
  },
  {
   "cell_type": "code",
   "execution_count": 57,
   "id": "e41b42f9",
   "metadata": {},
   "outputs": [],
   "source": [
    "#define the algorithm being used\n",
    "def similar(a,b):\n",
    "    return fuzz.partial_ratio(a, b)"
   ]
  },
  {
   "cell_type": "code",
   "execution_count": 58,
   "id": "c58bba85",
   "metadata": {},
   "outputs": [
    {
     "data": {
      "text/plain": [
       "91"
      ]
     },
     "execution_count": 58,
     "metadata": {},
     "output_type": "execute_result"
    }
   ],
   "source": [
    "# checking that similar works\n",
    "similar(\"fuzzy wuzzy was a bear\", \"wuzzy fuzzy was a bear\")"
   ]
  },
  {
   "cell_type": "code",
   "execution_count": 59,
   "id": "caae91a7",
   "metadata": {},
   "outputs": [],
   "source": [
    "# for column in df_trades[0:5]:\n",
    "#     print(df_trades[column].values)"
   ]
  },
  {
   "cell_type": "code",
   "execution_count": 60,
   "id": "05bf1467",
   "metadata": {},
   "outputs": [
    {
     "name": "stdout",
     "output_type": "stream",
     "text": [
      "utilities utilities—regulated electric nextera energy inc subsidiaries generates transmits distributes sells electric power retail wholesale customers north america company generates electricity wind solar nuclear fossil fuel coal natural gas facilities also develops constructs operates longterm contracted assets focus renewable generation facilities electric transmission facilities battery storage projects owns develops constructs manages operates electric generation facilities wholesale energy markets december   company operated approximately  megawatts net generating capacity serves approximately  million people approximately  million customer accounts east lower west coasts florida approximately  circuit miles transmission distribution lines  substations company formerly known fpl group inc changed name nextera energy inc  nextera energy inc founded  headquartered juno beach florida\n"
     ]
    }
   ],
   "source": [
    "for trade in df_trades.stock_description3[0:1]:\n",
    "    print(trade)"
   ]
  },
  {
   "cell_type": "code",
   "execution_count": 62,
   "id": "38d1d6ae",
   "metadata": {},
   "outputs": [
    {
     "name": "stdout",
     "output_type": "stream",
     "text": [
      "africa global health policy subcommittee deals matters concerning us relations countries africa except like countries north africa specifically covered subcommittees well regional intergovernmental organizations like african union economic community west african states subcommittee’s regional responsibilities include matters within geographic region including matters relating  terrorism nonproliferation  crime illicit narcotics  us foreign assistance programs  promotion us trade exports addition subcommittee global responsibility healthrelated policy including disease outbreak response\n"
     ]
    }
   ],
   "source": [
    "for committee in df_subcomittees.committee_description3[0:1]:\n",
    "    print(committee)"
   ]
  },
  {
   "cell_type": "code",
   "execution_count": 64,
   "id": "f3dbc884",
   "metadata": {},
   "outputs": [
    {
     "data": {
      "text/plain": [
       "23119"
      ]
     },
     "execution_count": 64,
     "metadata": {},
     "output_type": "execute_result"
    }
   ],
   "source": [
    "len(df_trades)"
   ]
  },
  {
   "cell_type": "markdown",
   "id": "7ad79b27",
   "metadata": {},
   "source": [
    "##### Test: Looping through lists"
   ]
  },
  {
   "cell_type": "code",
   "execution_count": 101,
   "id": "055062cd",
   "metadata": {},
   "outputs": [
    {
     "data": {
      "text/plain": [
       "['02/24/2022',\n",
       " '03/11/2022',\n",
       " 'Shelley M Capito',\n",
       " 'Spouse',\n",
       " 'NEE',\n",
       " '1001 - 15000',\n",
       " 'NextEra Energy, Inc. Common Stock',\n",
       " 'Stock',\n",
       " 'Sale (Partial)',\n",
       " '--',\n",
       " 'https://efdsearch.senate.gov/search/view/ptr/e7893c34-0761-4c2b-ac52-e303f166517f/',\n",
       " nan,\n",
       " nan,\n",
       " '1001',\n",
       " 15000.0,\n",
       " 'NEE',\n",
       " 'NextEra Energy, Inc.',\n",
       " 'Utilities',\n",
       " 'Utilities—Regulated Electric',\n",
       " 'NextEra Energy, Inc., through its subsidiaries, generates, transmits, distributes, and sells electric power to retail and wholesale customers in North America. The company generates electricity through wind, solar, nuclear, and fossil fuel, such as coal and natural gas facilities. It also develops, constructs, and operates long-term contracted assets with a focus on renewable generation facilities, electric transmission facilities, and battery storage projects; and owns, develops, constructs, manages and operates electric generation facilities in wholesale energy markets. As of December 31, 2020, the company operated approximately 28,400 megawatts of net generating capacity. It serves approximately 11 million people through approximately 5.6 million customer accounts in the east and lower west coasts of Florida with approximately 76,200 circuit miles of transmission and distribution lines and 673 substations. The company was formerly known as FPL Group, Inc. and changed its name to NextEra Energy, Inc. in 2010. NextEra Energy, Inc. was founded in 1925 and is headquartered in Juno Beach, Florida.',\n",
       " 'https://www.nexteraenergy.com',\n",
       " 'Utilities, Utilities—Regulated Electric, NextEra Energy, Inc., through its subsidiaries, generates, transmits, distributes, and sells electric power to retail and wholesale customers in North America. The company generates electricity through wind, solar, nuclear, and fossil fuel, such as coal and natural gas facilities. It also develops, constructs, and operates long-term contracted assets with a focus on renewable generation facilities, electric transmission facilities, and battery storage projects; and owns, develops, constructs, manages and operates electric generation facilities in wholesale energy markets. As of December 31, 2020, the company operated approximately 28,400 megawatts of net generating capacity. It serves approximately 11 million people through approximately 5.6 million customer accounts in the east and lower west coasts of Florida with approximately 76,200 circuit miles of transmission and distribution lines and 673 substations. The company was formerly known as FPL Group, Inc. and changed its name to NextEra Energy, Inc. in 2010. NextEra Energy, Inc. was founded in 1925 and is headquartered in Juno Beach, Florida.',\n",
       " 'utilities utilities—regulated electric',\n",
       " 'utilities utilities—regulated electric nextera energy inc through its subsidiaries generates transmits distributes and sells electric power to retail and wholesale customers in north america the company generates electricity through wind solar nuclear and fossil fuel such as coal and natural gas facilities it also develops constructs and operates longterm contracted assets with a focus on renewable generation facilities electric transmission facilities and battery storage projects and owns develops constructs manages and operates electric generation facilities in wholesale energy markets as of december 31 2020 the company operated approximately 28400 megawatts of net generating capacity it serves approximately 11 million people through approximately 56 million customer accounts in the east and lower west coasts of florida with approximately 76200 circuit miles of transmission and distribution lines and 673 substations the company was formerly known as fpl group inc and changed its name to nextera energy inc in 2010 nextera energy inc was founded in 1925 and is headquartered in juno beach florida',\n",
       " 'utilities utilities—regulated electric nextera energy inc subsidiaries generates transmits distributes sells electric power retail wholesale customers north america company generates electricity wind solar nuclear fossil fuel coal natural gas facilities also develops constructs operates longterm contracted assets focus renewable generation facilities electric transmission facilities battery storage projects owns develops constructs manages operates electric generation facilities wholesale energy markets december   company operated approximately  megawatts net generating capacity serves approximately  million people approximately  million customer accounts east lower west coasts florida approximately  circuit miles transmission distribution lines  substations company formerly known fpl group inc changed name nextera energy inc  nextera energy inc founded  headquartered juno beach florida']"
      ]
     },
     "execution_count": 101,
     "metadata": {},
     "output_type": "execute_result"
    }
   ],
   "source": [
    "# ls_stock_description3 = df_trades.stock_description3.values.tolist()\n",
    "ls_trades = df_trades.values.tolist()\n",
    "ls_trades[0]"
   ]
  },
  {
   "cell_type": "code",
   "execution_count": 125,
   "id": "2f77eae8",
   "metadata": {},
   "outputs": [
    {
     "data": {
      "text/plain": [
       "'utilities utilities—regulated electric nextera energy inc subsidiaries generates transmits distributes sells electric power retail wholesale customers north america company generates electricity wind solar nuclear fossil fuel coal natural gas facilities also develops constructs operates longterm contracted assets focus renewable generation facilities electric transmission facilities battery storage projects owns develops constructs manages operates electric generation facilities wholesale energy markets december   company operated approximately  megawatts net generating capacity serves approximately  million people approximately  million customer accounts east lower west coasts florida approximately  circuit miles transmission distribution lines  substations company formerly known fpl group inc changed name nextera energy inc  nextera energy inc founded  headquartered juno beach florida'"
      ]
     },
     "execution_count": 125,
     "metadata": {},
     "output_type": "execute_result"
    }
   ],
   "source": [
    "ls_trades[0][24]"
   ]
  },
  {
   "cell_type": "code",
   "execution_count": 103,
   "id": "aa43c7c0",
   "metadata": {},
   "outputs": [
    {
     "data": {
      "text/plain": [
       "['SSFR09',\n",
       " 'Africa and Global Health Policy',\n",
       " 'The subcommittee deals with all matters concerning U.S. relations with countries in Africa (except those, like the countries of North Africa, specifically covered by other subcommittees), as well as regional intergovernmental organizations like the African Union and the Economic Community of West African States. This subcommittee’s regional responsibilities include all matters within the geographic region, including matters relating to: (1) terrorism and non-proliferation; (2) crime and illicit narcotics; (3) U.S. foreign assistance programs; and (4) the promotion of U.S. trade and exports. In addition, this subcommittee has global responsibility for health-related policy, including disease outbreak and response.',\n",
       " 'https://www.foreign.senate.gov/download/2021-117th-subcommittees',\n",
       " 'africa and global health policy the subcommittee deals with all matters concerning us relations with countries in africa except those like the countries of north africa specifically covered by other subcommittees as well as regional intergovernmental organizations like the african union and the economic community of west african states this subcommittee’s regional responsibilities include all matters within the geographic region including matters relating to 1 terrorism and nonproliferation 2 crime and illicit narcotics 3 us foreign assistance programs and 4 the promotion of us trade and exports in addition this subcommittee has global responsibility for healthrelated policy including disease outbreak and response',\n",
       " 'africa global health policy subcommittee deals matters concerning us relations countries africa except like countries north africa specifically covered subcommittees well regional intergovernmental organizations like african union economic community west african states subcommittee’s regional responsibilities include matters within geographic region including matters relating  terrorism nonproliferation  crime illicit narcotics  us foreign assistance programs  promotion us trade exports addition subcommittee global responsibility healthrelated policy including disease outbreak response']"
      ]
     },
     "execution_count": 103,
     "metadata": {},
     "output_type": "execute_result"
    }
   ],
   "source": [
    "# ls_committee_description3 = df_subcomittees.committee_description3.values.tolist()\n",
    "ls_subcomittees = df_subcomittees.values.tolist()\n",
    "ls_subcomittees[0]"
   ]
  },
  {
   "cell_type": "code",
   "execution_count": 129,
   "id": "6afdef39",
   "metadata": {},
   "outputs": [
    {
     "data": {
      "text/plain": [
       "'africa global health policy subcommittee deals matters concerning us relations countries africa except like countries north africa specifically covered subcommittees well regional intergovernmental organizations like african union economic community west african states subcommittee’s regional responsibilities include matters within geographic region including matters relating  terrorism nonproliferation  crime illicit narcotics  us foreign assistance programs  promotion us trade exports addition subcommittee global responsibility healthrelated policy including disease outbreak response'"
      ]
     },
     "execution_count": 129,
     "metadata": {},
     "output_type": "execute_result"
    }
   ],
   "source": [
    "ls_subcomittees[0][5]"
   ]
  },
  {
   "cell_type": "code",
   "execution_count": 140,
   "id": "ce9c6fc2",
   "metadata": {},
   "outputs": [],
   "source": [
    "#testing list (time: 23:15)\n",
    "\n",
    "#establish an empty list\n",
    "ls_rows_test = []\n",
    "\n",
    "# iterate through each trade of trades lsit\n",
    "for trade in ls_trades[0:500]:\n",
    "#     print(trade)\n",
    "#     print(trade[24])\n",
    "#     print('a')\n",
    "    \n",
    "    #Iterate through each committee in committee list for each element of trades lists\n",
    "    for committee in ls_subcomittees:\n",
    "#         print(committee[1])\n",
    "# #         print('b')\n",
    "\n",
    "      # match ticker description to committee description with ALGORITHM (which one TBD)\n",
    "        flt_s_score = similar(trade[24], committee[5])\n",
    "#         print(flt_s_score)\n",
    "        if flt_s_score > 20:\n",
    "#             print(flt_s_score)\n",
    "            \n",
    "#             # add this trade + commitee description to merged\n",
    "            new_ls = list(chain(trade, committee))\n",
    "#             print(new_row)\n",
    "#             print('c')\n",
    "            ls_rows_test.append(new_ls)"
   ]
  },
  {
   "cell_type": "code",
   "execution_count": 141,
   "id": "28b54692",
   "metadata": {},
   "outputs": [
    {
     "data": {
      "text/plain": [
       "12255"
      ]
     },
     "execution_count": 141,
     "metadata": {},
     "output_type": "execute_result"
    }
   ],
   "source": [
    "len(ls_rows_test)"
   ]
  },
  {
   "cell_type": "markdown",
   "id": "2ed56859",
   "metadata": {},
   "source": [
    "##### Looping through Dataframes"
   ]
  },
  {
   "cell_type": "code",
   "execution_count": 65,
   "id": "d975547c",
   "metadata": {},
   "outputs": [],
   "source": [
    "from itertools import chain"
   ]
  },
  {
   "cell_type": "code",
   "execution_count": null,
   "id": "97a45c2a",
   "metadata": {},
   "outputs": [],
   "source": [
    "#working for loop!! (time: __)\n",
    "\n",
    "#establish an empty list\n",
    "ls_rows = []\n",
    "\n",
    "# iterate through each row (trade) of trades dataframe\n",
    "for index, trade in df_trades[0:500].iterrows():\n",
    "#     print(trade)\n",
    "#     print(index, trade['stock_description3'])\n",
    "#     print('a')\n",
    "    \n",
    "    #Iterate through each committee in committee dataframe for each row of trades dataframe\n",
    "    for index, committee in df_subcomittees.iterrows():\n",
    "#         print(index, committee['committee_description3'])\n",
    "#         print('b')\n",
    "\n",
    "      # match ticker description to committee description with ALGORITHM (which one TBD)\n",
    "        flt_s_score = similar(trade['stock_description3'], committee['committee_description3'])\n",
    "#         print(flt_s_score)\n",
    "        if flt_s_score > 20:\n",
    "#             print(flt_s_score)\n",
    "            \n",
    "#             # add this trade + commitee description to merged\n",
    "            new_row = list(chain(trade, committee))\n",
    "#             print(new_row)\n",
    "#             print('c')\n",
    "            ls_rows.append(new_row)"
   ]
  },
  {
   "cell_type": "code",
   "execution_count": 67,
   "id": "b9bd85e3",
   "metadata": {},
   "outputs": [
    {
     "ename": "KeyboardInterrupt",
     "evalue": "",
     "output_type": "error",
     "traceback": [
      "\u001b[0;31m---------------------------------------------------------------------------\u001b[0m",
      "\u001b[0;31mKeyboardInterrupt\u001b[0m                         Traceback (most recent call last)",
      "\u001b[0;32m/var/folders/c2/zngcssg14mv23nw0yr96s0wm0000gn/T/ipykernel_25622/1842273871.py\u001b[0m in \u001b[0;36m<module>\u001b[0;34m\u001b[0m\n\u001b[1;32m     13\u001b[0m \u001b[0;34m\u001b[0m\u001b[0m\n\u001b[1;32m     14\u001b[0m       \u001b[0;31m# match ticker description to committee description with ALGORITHM (which one TBD)\u001b[0m\u001b[0;34m\u001b[0m\u001b[0;34m\u001b[0m\u001b[0m\n\u001b[0;32m---> 15\u001b[0;31m         \u001b[0mflt_s_score\u001b[0m \u001b[0;34m=\u001b[0m \u001b[0msimilar\u001b[0m\u001b[0;34m(\u001b[0m\u001b[0mtrade\u001b[0m\u001b[0;34m[\u001b[0m\u001b[0;34m'stock_description3'\u001b[0m\u001b[0;34m]\u001b[0m\u001b[0;34m,\u001b[0m \u001b[0mcommittee\u001b[0m\u001b[0;34m[\u001b[0m\u001b[0;34m'committee_description3'\u001b[0m\u001b[0;34m]\u001b[0m\u001b[0;34m)\u001b[0m\u001b[0;34m\u001b[0m\u001b[0;34m\u001b[0m\u001b[0m\n\u001b[0m\u001b[1;32m     16\u001b[0m \u001b[0;31m#         print(flt_s_score)\u001b[0m\u001b[0;34m\u001b[0m\u001b[0;34m\u001b[0m\u001b[0m\n\u001b[1;32m     17\u001b[0m         \u001b[0;32mif\u001b[0m \u001b[0mflt_s_score\u001b[0m \u001b[0;34m>\u001b[0m \u001b[0;36m20\u001b[0m\u001b[0;34m:\u001b[0m\u001b[0;34m\u001b[0m\u001b[0;34m\u001b[0m\u001b[0m\n",
      "\u001b[0;32m/var/folders/c2/zngcssg14mv23nw0yr96s0wm0000gn/T/ipykernel_25622/1445709443.py\u001b[0m in \u001b[0;36msimilar\u001b[0;34m(a, b)\u001b[0m\n\u001b[1;32m      1\u001b[0m \u001b[0;31m#define the algorithm being used\u001b[0m\u001b[0;34m\u001b[0m\u001b[0;34m\u001b[0m\u001b[0m\n\u001b[1;32m      2\u001b[0m \u001b[0;32mdef\u001b[0m \u001b[0msimilar\u001b[0m\u001b[0;34m(\u001b[0m\u001b[0ma\u001b[0m\u001b[0;34m,\u001b[0m\u001b[0mb\u001b[0m\u001b[0;34m)\u001b[0m\u001b[0;34m:\u001b[0m\u001b[0;34m\u001b[0m\u001b[0;34m\u001b[0m\u001b[0m\n\u001b[0;32m----> 3\u001b[0;31m     \u001b[0;32mreturn\u001b[0m \u001b[0mfuzz\u001b[0m\u001b[0;34m.\u001b[0m\u001b[0mpartial_ratio\u001b[0m\u001b[0;34m(\u001b[0m\u001b[0ma\u001b[0m\u001b[0;34m,\u001b[0m \u001b[0mb\u001b[0m\u001b[0;34m)\u001b[0m\u001b[0;34m\u001b[0m\u001b[0;34m\u001b[0m\u001b[0m\n\u001b[0m",
      "\u001b[0;32m~/.pyenv/versions/3.10.0/lib/python3.10/site-packages/thefuzz/utils.py\u001b[0m in \u001b[0;36mdecorator\u001b[0;34m(*args, **kwargs)\u001b[0m\n\u001b[1;32m     36\u001b[0m         \u001b[0;32mif\u001b[0m \u001b[0margs\u001b[0m\u001b[0;34m[\u001b[0m\u001b[0;36m0\u001b[0m\u001b[0;34m]\u001b[0m \u001b[0;32mis\u001b[0m \u001b[0;32mNone\u001b[0m \u001b[0;32mor\u001b[0m \u001b[0margs\u001b[0m\u001b[0;34m[\u001b[0m\u001b[0;36m1\u001b[0m\u001b[0;34m]\u001b[0m \u001b[0;32mis\u001b[0m \u001b[0;32mNone\u001b[0m\u001b[0;34m:\u001b[0m\u001b[0;34m\u001b[0m\u001b[0;34m\u001b[0m\u001b[0m\n\u001b[1;32m     37\u001b[0m             \u001b[0;32mreturn\u001b[0m \u001b[0;36m0\u001b[0m\u001b[0;34m\u001b[0m\u001b[0;34m\u001b[0m\u001b[0m\n\u001b[0;32m---> 38\u001b[0;31m         \u001b[0;32mreturn\u001b[0m \u001b[0mfunc\u001b[0m\u001b[0;34m(\u001b[0m\u001b[0;34m*\u001b[0m\u001b[0margs\u001b[0m\u001b[0;34m,\u001b[0m \u001b[0;34m**\u001b[0m\u001b[0mkwargs\u001b[0m\u001b[0;34m)\u001b[0m\u001b[0;34m\u001b[0m\u001b[0;34m\u001b[0m\u001b[0m\n\u001b[0m\u001b[1;32m     39\u001b[0m     \u001b[0;32mreturn\u001b[0m \u001b[0mdecorator\u001b[0m\u001b[0;34m\u001b[0m\u001b[0;34m\u001b[0m\u001b[0m\n\u001b[1;32m     40\u001b[0m \u001b[0;34m\u001b[0m\u001b[0m\n",
      "\u001b[0;32m~/.pyenv/versions/3.10.0/lib/python3.10/site-packages/thefuzz/utils.py\u001b[0m in \u001b[0;36mdecorator\u001b[0;34m(*args, **kwargs)\u001b[0m\n\u001b[1;32m     27\u001b[0m         \u001b[0;32mif\u001b[0m \u001b[0margs\u001b[0m\u001b[0;34m[\u001b[0m\u001b[0;36m0\u001b[0m\u001b[0;34m]\u001b[0m \u001b[0;34m==\u001b[0m \u001b[0margs\u001b[0m\u001b[0;34m[\u001b[0m\u001b[0;36m1\u001b[0m\u001b[0;34m]\u001b[0m\u001b[0;34m:\u001b[0m\u001b[0;34m\u001b[0m\u001b[0;34m\u001b[0m\u001b[0m\n\u001b[1;32m     28\u001b[0m             \u001b[0;32mreturn\u001b[0m \u001b[0;36m100\u001b[0m\u001b[0;34m\u001b[0m\u001b[0;34m\u001b[0m\u001b[0m\n\u001b[0;32m---> 29\u001b[0;31m         \u001b[0;32mreturn\u001b[0m \u001b[0mfunc\u001b[0m\u001b[0;34m(\u001b[0m\u001b[0;34m*\u001b[0m\u001b[0margs\u001b[0m\u001b[0;34m,\u001b[0m \u001b[0;34m**\u001b[0m\u001b[0mkwargs\u001b[0m\u001b[0;34m)\u001b[0m\u001b[0;34m\u001b[0m\u001b[0;34m\u001b[0m\u001b[0m\n\u001b[0m\u001b[1;32m     30\u001b[0m     \u001b[0;32mreturn\u001b[0m \u001b[0mdecorator\u001b[0m\u001b[0;34m\u001b[0m\u001b[0;34m\u001b[0m\u001b[0m\n\u001b[1;32m     31\u001b[0m \u001b[0;34m\u001b[0m\u001b[0m\n",
      "\u001b[0;32m~/.pyenv/versions/3.10.0/lib/python3.10/site-packages/thefuzz/utils.py\u001b[0m in \u001b[0;36mdecorator\u001b[0;34m(*args, **kwargs)\u001b[0m\n\u001b[1;32m     45\u001b[0m         \u001b[0;32mif\u001b[0m \u001b[0mlen\u001b[0m\u001b[0;34m(\u001b[0m\u001b[0margs\u001b[0m\u001b[0;34m[\u001b[0m\u001b[0;36m0\u001b[0m\u001b[0;34m]\u001b[0m\u001b[0;34m)\u001b[0m \u001b[0;34m==\u001b[0m \u001b[0;36m0\u001b[0m \u001b[0;32mor\u001b[0m \u001b[0mlen\u001b[0m\u001b[0;34m(\u001b[0m\u001b[0margs\u001b[0m\u001b[0;34m[\u001b[0m\u001b[0;36m1\u001b[0m\u001b[0;34m]\u001b[0m\u001b[0;34m)\u001b[0m \u001b[0;34m==\u001b[0m \u001b[0;36m0\u001b[0m\u001b[0;34m:\u001b[0m\u001b[0;34m\u001b[0m\u001b[0;34m\u001b[0m\u001b[0m\n\u001b[1;32m     46\u001b[0m             \u001b[0;32mreturn\u001b[0m \u001b[0;36m0\u001b[0m\u001b[0;34m\u001b[0m\u001b[0;34m\u001b[0m\u001b[0m\n\u001b[0;32m---> 47\u001b[0;31m         \u001b[0;32mreturn\u001b[0m \u001b[0mfunc\u001b[0m\u001b[0;34m(\u001b[0m\u001b[0;34m*\u001b[0m\u001b[0margs\u001b[0m\u001b[0;34m,\u001b[0m \u001b[0;34m**\u001b[0m\u001b[0mkwargs\u001b[0m\u001b[0;34m)\u001b[0m\u001b[0;34m\u001b[0m\u001b[0;34m\u001b[0m\u001b[0m\n\u001b[0m\u001b[1;32m     48\u001b[0m     \u001b[0;32mreturn\u001b[0m \u001b[0mdecorator\u001b[0m\u001b[0;34m\u001b[0m\u001b[0;34m\u001b[0m\u001b[0m\n\u001b[1;32m     49\u001b[0m \u001b[0;34m\u001b[0m\u001b[0m\n",
      "\u001b[0;32m~/.pyenv/versions/3.10.0/lib/python3.10/site-packages/thefuzz/fuzz.py\u001b[0m in \u001b[0;36mpartial_ratio\u001b[0;34m(s1, s2)\u001b[0m\n\u001b[1;32m     60\u001b[0m \u001b[0;34m\u001b[0m\u001b[0m\n\u001b[1;32m     61\u001b[0m         \u001b[0mm2\u001b[0m \u001b[0;34m=\u001b[0m \u001b[0mSequenceMatcher\u001b[0m\u001b[0;34m(\u001b[0m\u001b[0;32mNone\u001b[0m\u001b[0;34m,\u001b[0m \u001b[0mshorter\u001b[0m\u001b[0;34m,\u001b[0m \u001b[0mlong_substr\u001b[0m\u001b[0;34m)\u001b[0m\u001b[0;34m\u001b[0m\u001b[0;34m\u001b[0m\u001b[0m\n\u001b[0;32m---> 62\u001b[0;31m         \u001b[0mr\u001b[0m \u001b[0;34m=\u001b[0m \u001b[0mm2\u001b[0m\u001b[0;34m.\u001b[0m\u001b[0mratio\u001b[0m\u001b[0;34m(\u001b[0m\u001b[0;34m)\u001b[0m\u001b[0;34m\u001b[0m\u001b[0;34m\u001b[0m\u001b[0m\n\u001b[0m\u001b[1;32m     63\u001b[0m         \u001b[0;32mif\u001b[0m \u001b[0mr\u001b[0m \u001b[0;34m>\u001b[0m \u001b[0;36m.995\u001b[0m\u001b[0;34m:\u001b[0m\u001b[0;34m\u001b[0m\u001b[0;34m\u001b[0m\u001b[0m\n\u001b[1;32m     64\u001b[0m             \u001b[0;32mreturn\u001b[0m \u001b[0;36m100\u001b[0m\u001b[0;34m\u001b[0m\u001b[0;34m\u001b[0m\u001b[0m\n",
      "\u001b[0;32m~/.pyenv/versions/3.10.0/lib/python3.10/difflib.py\u001b[0m in \u001b[0;36mratio\u001b[0;34m(self)\u001b[0m\n\u001b[1;32m    617\u001b[0m         \"\"\"\n\u001b[1;32m    618\u001b[0m \u001b[0;34m\u001b[0m\u001b[0m\n\u001b[0;32m--> 619\u001b[0;31m         \u001b[0mmatches\u001b[0m \u001b[0;34m=\u001b[0m \u001b[0msum\u001b[0m\u001b[0;34m(\u001b[0m\u001b[0mtriple\u001b[0m\u001b[0;34m[\u001b[0m\u001b[0;34m-\u001b[0m\u001b[0;36m1\u001b[0m\u001b[0;34m]\u001b[0m \u001b[0;32mfor\u001b[0m \u001b[0mtriple\u001b[0m \u001b[0;32min\u001b[0m \u001b[0mself\u001b[0m\u001b[0;34m.\u001b[0m\u001b[0mget_matching_blocks\u001b[0m\u001b[0;34m(\u001b[0m\u001b[0;34m)\u001b[0m\u001b[0;34m)\u001b[0m\u001b[0;34m\u001b[0m\u001b[0;34m\u001b[0m\u001b[0m\n\u001b[0m\u001b[1;32m    620\u001b[0m         \u001b[0;32mreturn\u001b[0m \u001b[0m_calculate_ratio\u001b[0m\u001b[0;34m(\u001b[0m\u001b[0mmatches\u001b[0m\u001b[0;34m,\u001b[0m \u001b[0mlen\u001b[0m\u001b[0;34m(\u001b[0m\u001b[0mself\u001b[0m\u001b[0;34m.\u001b[0m\u001b[0ma\u001b[0m\u001b[0;34m)\u001b[0m \u001b[0;34m+\u001b[0m \u001b[0mlen\u001b[0m\u001b[0;34m(\u001b[0m\u001b[0mself\u001b[0m\u001b[0;34m.\u001b[0m\u001b[0mb\u001b[0m\u001b[0;34m)\u001b[0m\u001b[0;34m)\u001b[0m\u001b[0;34m\u001b[0m\u001b[0;34m\u001b[0m\u001b[0m\n\u001b[1;32m    621\u001b[0m \u001b[0;34m\u001b[0m\u001b[0m\n",
      "\u001b[0;32m~/.pyenv/versions/3.10.0/lib/python3.10/difflib.py\u001b[0m in \u001b[0;36mget_matching_blocks\u001b[0;34m(self)\u001b[0m\n\u001b[1;32m    452\u001b[0m         \u001b[0;32mwhile\u001b[0m \u001b[0mqueue\u001b[0m\u001b[0;34m:\u001b[0m\u001b[0;34m\u001b[0m\u001b[0;34m\u001b[0m\u001b[0m\n\u001b[1;32m    453\u001b[0m             \u001b[0malo\u001b[0m\u001b[0;34m,\u001b[0m \u001b[0mahi\u001b[0m\u001b[0;34m,\u001b[0m \u001b[0mblo\u001b[0m\u001b[0;34m,\u001b[0m \u001b[0mbhi\u001b[0m \u001b[0;34m=\u001b[0m \u001b[0mqueue\u001b[0m\u001b[0;34m.\u001b[0m\u001b[0mpop\u001b[0m\u001b[0;34m(\u001b[0m\u001b[0;34m)\u001b[0m\u001b[0;34m\u001b[0m\u001b[0;34m\u001b[0m\u001b[0m\n\u001b[0;32m--> 454\u001b[0;31m             \u001b[0mi\u001b[0m\u001b[0;34m,\u001b[0m \u001b[0mj\u001b[0m\u001b[0;34m,\u001b[0m \u001b[0mk\u001b[0m \u001b[0;34m=\u001b[0m \u001b[0mx\u001b[0m \u001b[0;34m=\u001b[0m \u001b[0mself\u001b[0m\u001b[0;34m.\u001b[0m\u001b[0mfind_longest_match\u001b[0m\u001b[0;34m(\u001b[0m\u001b[0malo\u001b[0m\u001b[0;34m,\u001b[0m \u001b[0mahi\u001b[0m\u001b[0;34m,\u001b[0m \u001b[0mblo\u001b[0m\u001b[0;34m,\u001b[0m \u001b[0mbhi\u001b[0m\u001b[0;34m)\u001b[0m\u001b[0;34m\u001b[0m\u001b[0;34m\u001b[0m\u001b[0m\n\u001b[0m\u001b[1;32m    455\u001b[0m             \u001b[0;31m# a[alo:i] vs b[blo:j] unknown\u001b[0m\u001b[0;34m\u001b[0m\u001b[0;34m\u001b[0m\u001b[0m\n\u001b[1;32m    456\u001b[0m             \u001b[0;31m# a[i:i+k] same as b[j:j+k]\u001b[0m\u001b[0;34m\u001b[0m\u001b[0;34m\u001b[0m\u001b[0m\n",
      "\u001b[0;32m~/.pyenv/versions/3.10.0/lib/python3.10/difflib.py\u001b[0m in \u001b[0;36mfind_longest_match\u001b[0;34m(self, alo, ahi, blo, bhi)\u001b[0m\n\u001b[1;32m    377\u001b[0m             \u001b[0mj2lenget\u001b[0m \u001b[0;34m=\u001b[0m \u001b[0mj2len\u001b[0m\u001b[0;34m.\u001b[0m\u001b[0mget\u001b[0m\u001b[0;34m\u001b[0m\u001b[0;34m\u001b[0m\u001b[0m\n\u001b[1;32m    378\u001b[0m             \u001b[0mnewj2len\u001b[0m \u001b[0;34m=\u001b[0m \u001b[0;34m{\u001b[0m\u001b[0;34m}\u001b[0m\u001b[0;34m\u001b[0m\u001b[0;34m\u001b[0m\u001b[0m\n\u001b[0;32m--> 379\u001b[0;31m             \u001b[0;32mfor\u001b[0m \u001b[0mj\u001b[0m \u001b[0;32min\u001b[0m \u001b[0mb2j\u001b[0m\u001b[0;34m.\u001b[0m\u001b[0mget\u001b[0m\u001b[0;34m(\u001b[0m\u001b[0ma\u001b[0m\u001b[0;34m[\u001b[0m\u001b[0mi\u001b[0m\u001b[0;34m]\u001b[0m\u001b[0;34m,\u001b[0m \u001b[0mnothing\u001b[0m\u001b[0;34m)\u001b[0m\u001b[0;34m:\u001b[0m\u001b[0;34m\u001b[0m\u001b[0;34m\u001b[0m\u001b[0m\n\u001b[0m\u001b[1;32m    380\u001b[0m                 \u001b[0;31m# a[i] matches b[j]\u001b[0m\u001b[0;34m\u001b[0m\u001b[0;34m\u001b[0m\u001b[0m\n\u001b[1;32m    381\u001b[0m                 \u001b[0;32mif\u001b[0m \u001b[0mj\u001b[0m \u001b[0;34m<\u001b[0m \u001b[0mblo\u001b[0m\u001b[0;34m:\u001b[0m\u001b[0;34m\u001b[0m\u001b[0;34m\u001b[0m\u001b[0m\n",
      "\u001b[0;31mKeyboardInterrupt\u001b[0m: "
     ]
    }
   ],
   "source": [
    "#loop 2\n",
    "\n",
    "# iterate through each row (trade) of trades dataframe\n",
    "for index, trade in df_trades[501:1000].iterrows():\n",
    "#     print(trade)\n",
    "#     print(index, trade['stock_description3'])\n",
    "#     print('a')\n",
    "    \n",
    "    #Iterate through each committee in committee dataframe for each row of trades dataframe\n",
    "    for index, committee in df_subcomittees.iterrows():\n",
    "#         print(index, committee['committee_description3'])\n",
    "#         print('b')\n",
    "\n",
    "      # match ticker description to committee description with ALGORITHM (which one TBD)\n",
    "        flt_s_score = similar(trade['stock_description3'], committee['committee_description3'])\n",
    "#         print(flt_s_score)\n",
    "        if flt_s_score > 20:\n",
    "#             print(flt_s_score)\n",
    "            \n",
    "#             # add this trade + commitee description to merged\n",
    "            new_row = list(chain(trade, committee))\n",
    "#             print(new_row)\n",
    "#             print('c')\n",
    "            ls_rows.append(new_row)\n",
    "\n"
   ]
  },
  {
   "cell_type": "code",
   "execution_count": null,
   "id": "75e53c5d",
   "metadata": {},
   "outputs": [],
   "source": [
    "#loop 3\n",
    "\n",
    "# iterate through each row (trade) of trades dataframe\n",
    "for index, trade in df_trades[1001:1500].iterrows():\n",
    "#     print(trade)\n",
    "#     print(index, trade['stock_description3'])\n",
    "#     print('a')\n",
    "    \n",
    "    #Iterate through each committee in committee dataframe for each row of trades dataframe\n",
    "    for index, committee in df_subcomittees.iterrows():\n",
    "#         print(index, committee['committee_description3'])\n",
    "#         print('b')\n",
    "\n",
    "      # match ticker description to committee description with ALGORITHM (which one TBD)\n",
    "        flt_s_score = similar(trade['stock_description3'], committee['committee_description3'])\n",
    "#         print(flt_s_score)\n",
    "        if flt_s_score > 20:\n",
    "#             print(flt_s_score)\n",
    "            \n",
    "#             # add this trade + commitee description to merged\n",
    "            new_row = list(chain(trade, committee))\n",
    "#             print(new_row)\n",
    "#             print('c')\n",
    "            ls_rows.append(new_row)\n",
    "\n"
   ]
  },
  {
   "cell_type": "code",
   "execution_count": null,
   "id": "d90d734d",
   "metadata": {},
   "outputs": [],
   "source": [
    "#loop 4\n",
    "\n",
    "# iterate through each row (trade) of trades dataframe\n",
    "for index, trade in df_trades[1501:2000].iterrows():\n",
    "#     print(trade)\n",
    "#     print(index, trade['stock_description3'])\n",
    "#     print('a')\n",
    "    \n",
    "    #Iterate through each committee in committee dataframe for each row of trades dataframe\n",
    "    for index, committee in df_subcomittees.iterrows():\n",
    "#         print(index, committee['committee_description3'])\n",
    "#         print('b')\n",
    "\n",
    "      # match ticker description to committee description with ALGORITHM (which one TBD)\n",
    "        flt_s_score = similar(trade['stock_description3'], committee['committee_description3'])\n",
    "#         print(flt_s_score)\n",
    "        if flt_s_score > 20:\n",
    "#             print(flt_s_score)\n",
    "            \n",
    "#             # add this trade + commitee description to merged\n",
    "            new_row = list(chain(trade, committee))\n",
    "#             print(new_row)\n",
    "#             print('c')\n",
    "            ls_rows.append(new_row)\n",
    "\n"
   ]
  },
  {
   "cell_type": "code",
   "execution_count": null,
   "id": "aef7d3f9",
   "metadata": {},
   "outputs": [],
   "source": [
    "#loop 5\n",
    "\n",
    "# iterate through each row (trade) of trades dataframe\n",
    "for index, trade in df_trades[2001:2500].iterrows():\n",
    "#     print(trade)\n",
    "#     print(index, trade['stock_description3'])\n",
    "#     print('a')\n",
    "    \n",
    "    #Iterate through each committee in committee dataframe for each row of trades dataframe\n",
    "    for index, committee in df_subcomittees.iterrows():\n",
    "#         print(index, committee['committee_description3'])\n",
    "#         print('b')\n",
    "\n",
    "      # match ticker description to committee description with ALGORITHM (which one TBD)\n",
    "        flt_s_score = similar(trade['stock_description3'], committee['committee_description3'])\n",
    "#         print(flt_s_score)\n",
    "        if flt_s_score > 20:\n",
    "#             print(flt_s_score)\n",
    "            \n",
    "#             # add this trade + commitee description to merged\n",
    "            new_row = list(chain(trade, committee))\n",
    "#             print(new_row)\n",
    "#             print('c')\n",
    "            ls_rows.append(new_row)\n",
    "\n"
   ]
  },
  {
   "cell_type": "code",
   "execution_count": null,
   "id": "57ea4d64",
   "metadata": {},
   "outputs": [],
   "source": [
    "#loop 6\n",
    "\n",
    "# iterate through each row (trade) of trades dataframe\n",
    "for index, trade in df_trades[2501:3000].iterrows():\n",
    "#     print(trade)\n",
    "#     print(index, trade['stock_description3'])\n",
    "#     print('a')\n",
    "    \n",
    "    #Iterate through each committee in committee dataframe for each row of trades dataframe\n",
    "    for index, committee in df_subcomittees.iterrows():\n",
    "#         print(index, committee['committee_description3'])\n",
    "#         print('b')\n",
    "\n",
    "      # match ticker description to committee description with ALGORITHM (which one TBD)\n",
    "        flt_s_score = similar(trade['stock_description3'], committee['committee_description3'])\n",
    "#         print(flt_s_score)\n",
    "        if flt_s_score > 20:\n",
    "#             print(flt_s_score)\n",
    "            \n",
    "#             # add this trade + commitee description to merged\n",
    "            new_row = list(chain(trade, committee))\n",
    "#             print(new_row)\n",
    "#             print('c')\n",
    "            ls_rows.append(new_row)\n",
    "\n"
   ]
  },
  {
   "cell_type": "code",
   "execution_count": null,
   "id": "784e6242",
   "metadata": {},
   "outputs": [],
   "source": [
    "#loop 7\n",
    "\n",
    "# iterate through each row (trade) of trades dataframe\n",
    "for index, trade in df_trades[3001:3500].iterrows():\n",
    "#     print(trade)\n",
    "#     print(index, trade['stock_description3'])\n",
    "#     print('a')\n",
    "    \n",
    "    #Iterate through each committee in committee dataframe for each row of trades dataframe\n",
    "    for index, committee in df_subcomittees.iterrows():\n",
    "#         print(index, committee['committee_description3'])\n",
    "#         print('b')\n",
    "\n",
    "      # match ticker description to committee description with ALGORITHM (which one TBD)\n",
    "        flt_s_score = similar(trade['stock_description3'], committee['committee_description3'])\n",
    "#         print(flt_s_score)\n",
    "        if flt_s_score > 20:\n",
    "#             print(flt_s_score)\n",
    "            \n",
    "#             # add this trade + commitee description to merged\n",
    "            new_row = list(chain(trade, committee))\n",
    "#             print(new_row)\n",
    "#             print('c')\n",
    "            ls_rows.append(new_row)\n",
    "\n"
   ]
  },
  {
   "cell_type": "code",
   "execution_count": null,
   "id": "938e10f8",
   "metadata": {},
   "outputs": [],
   "source": [
    "#loop 8\n",
    "\n",
    "# iterate through each row (trade) of trades dataframe\n",
    "for index, trade in df_trades[3501:4000].iterrows():\n",
    "#     print(trade)\n",
    "#     print(index, trade['stock_description3'])\n",
    "#     print('a')\n",
    "    \n",
    "    #Iterate through each committee in committee dataframe for each row of trades dataframe\n",
    "    for index, committee in df_subcomittees.iterrows():\n",
    "#         print(index, committee['committee_description3'])\n",
    "#         print('b')\n",
    "\n",
    "      # match ticker description to committee description with ALGORITHM (which one TBD)\n",
    "        flt_s_score = similar(trade['stock_description3'], committee['committee_description3'])\n",
    "#         print(flt_s_score)\n",
    "        if flt_s_score > 20:\n",
    "#             print(flt_s_score)\n",
    "            \n",
    "#             # add this trade + commitee description to merged\n",
    "            new_row = list(chain(trade, committee))\n",
    "#             print(new_row)\n",
    "#             print('c')\n",
    "            ls_rows.append(new_row)\n",
    "\n"
   ]
  },
  {
   "cell_type": "code",
   "execution_count": null,
   "id": "d7ed9ff9",
   "metadata": {},
   "outputs": [],
   "source": [
    "#loop 9\n",
    "\n",
    "# iterate through each row (trade) of trades dataframe\n",
    "for index, trade in df_trades[4001:4500].iterrows():\n",
    "#     print(trade)\n",
    "#     print(index, trade['stock_description3'])\n",
    "#     print('a')\n",
    "    \n",
    "    #Iterate through each committee in committee dataframe for each row of trades dataframe\n",
    "    for index, committee in df_subcomittees.iterrows():\n",
    "#         print(index, committee['committee_description3'])\n",
    "#         print('b')\n",
    "\n",
    "      # match ticker description to committee description with ALGORITHM (which one TBD)\n",
    "        flt_s_score = similar(trade['stock_description3'], committee['committee_description3'])\n",
    "#         print(flt_s_score)\n",
    "        if flt_s_score > 20:\n",
    "#             print(flt_s_score)\n",
    "            \n",
    "#             # add this trade + commitee description to merged\n",
    "            new_row = list(chain(trade, committee))\n",
    "#             print(new_row)\n",
    "#             print('c')\n",
    "            ls_rows.append(new_row)\n",
    "\n"
   ]
  },
  {
   "cell_type": "code",
   "execution_count": null,
   "id": "2565c876",
   "metadata": {},
   "outputs": [],
   "source": [
    "#loop 10\n",
    "\n",
    "# iterate through each row (trade) of trades dataframe\n",
    "for index, trade in df_trades[4501:5000].iterrows():\n",
    "#     print(trade)\n",
    "#     print(index, trade['stock_description3'])\n",
    "#     print('a')\n",
    "    \n",
    "    #Iterate through each committee in committee dataframe for each row of trades dataframe\n",
    "    for index, committee in df_subcomittees.iterrows():\n",
    "#         print(index, committee['committee_description3'])\n",
    "#         print('b')\n",
    "\n",
    "      # match ticker description to committee description with ALGORITHM (which one TBD)\n",
    "        flt_s_score = similar(trade['stock_description3'], committee['committee_description3'])\n",
    "#         print(flt_s_score)\n",
    "        if flt_s_score > 20:\n",
    "#             print(flt_s_score)\n",
    "            \n",
    "#             # add this trade + commitee description to merged\n",
    "            new_row = list(chain(trade, committee))\n",
    "#             print(new_row)\n",
    "#             print('c')\n",
    "            ls_rows.append(new_row)\n",
    "\n"
   ]
  },
  {
   "cell_type": "code",
   "execution_count": null,
   "id": "590baca7",
   "metadata": {},
   "outputs": [],
   "source": [
    "#loop 11\n",
    "\n",
    "# iterate through each row (trade) of trades dataframe\n",
    "for index, trade in df_trades[5001:5500].iterrows():\n",
    "#     print(trade)\n",
    "#     print(index, trade['stock_description3'])\n",
    "#     print('a')\n",
    "    \n",
    "    #Iterate through each committee in committee dataframe for each row of trades dataframe\n",
    "    for index, committee in df_subcomittees.iterrows():\n",
    "#         print(index, committee['committee_description3'])\n",
    "#         print('b')\n",
    "\n",
    "      # match ticker description to committee description with ALGORITHM (which one TBD)\n",
    "        flt_s_score = similar(trade['stock_description3'], committee['committee_description3'])\n",
    "#         print(flt_s_score)\n",
    "        if flt_s_score > 20:\n",
    "#             print(flt_s_score)\n",
    "            \n",
    "#             # add this trade + commitee description to merged\n",
    "            new_row = list(chain(trade, committee))\n",
    "#             print(new_row)\n",
    "#             print('c')\n",
    "            ls_rows.append(new_row)\n",
    "\n"
   ]
  },
  {
   "cell_type": "code",
   "execution_count": null,
   "id": "ce0d8180",
   "metadata": {},
   "outputs": [],
   "source": [
    "#loop 12\n",
    "\n",
    "# iterate through each row (trade) of trades dataframe\n",
    "for index, trade in df_trades[5501:6000].iterrows():\n",
    "#     print(trade)\n",
    "#     print(index, trade['stock_description3'])\n",
    "#     print('a')\n",
    "    \n",
    "    #Iterate through each committee in committee dataframe for each row of trades dataframe\n",
    "    for index, committee in df_subcomittees.iterrows():\n",
    "#         print(index, committee['committee_description3'])\n",
    "#         print('b')\n",
    "\n",
    "      # match ticker description to committee description with ALGORITHM (which one TBD)\n",
    "        flt_s_score = similar(trade['stock_description3'], committee['committee_description3'])\n",
    "#         print(flt_s_score)\n",
    "        if flt_s_score > 20:\n",
    "#             print(flt_s_score)\n",
    "            \n",
    "#             # add this trade + commitee description to merged\n",
    "            new_row = list(chain(trade, committee))\n",
    "#             print(new_row)\n",
    "#             print('c')\n",
    "            ls_rows.append(new_row)\n",
    "\n"
   ]
  },
  {
   "cell_type": "code",
   "execution_count": null,
   "id": "815282f0",
   "metadata": {},
   "outputs": [],
   "source": [
    "#loop 13\n",
    "\n",
    "# iterate through each row (trade) of trades dataframe\n",
    "for index, trade in df_trades[6001:6500].iterrows():\n",
    "#     print(trade)\n",
    "#     print(index, trade['stock_description3'])\n",
    "#     print('a')\n",
    "    \n",
    "    #Iterate through each committee in committee dataframe for each row of trades dataframe\n",
    "    for index, committee in df_subcomittees.iterrows():\n",
    "#         print(index, committee['committee_description3'])\n",
    "#         print('b')\n",
    "\n",
    "      # match ticker description to committee description with ALGORITHM (which one TBD)\n",
    "        flt_s_score = similar(trade['stock_description3'], committee['committee_description3'])\n",
    "#         print(flt_s_score)\n",
    "        if flt_s_score > 20:\n",
    "#             print(flt_s_score)\n",
    "            \n",
    "#             # add this trade + commitee description to merged\n",
    "            new_row = list(chain(trade, committee))\n",
    "#             print(new_row)\n",
    "#             print('c')\n",
    "            ls_rows.append(new_row)\n",
    "\n"
   ]
  },
  {
   "cell_type": "code",
   "execution_count": null,
   "id": "20085508",
   "metadata": {},
   "outputs": [],
   "source": [
    "#loop 14\n",
    "\n",
    "# iterate through each row (trade) of trades dataframe\n",
    "for index, trade in df_trades[6501:7000].iterrows():\n",
    "#     print(trade)\n",
    "#     print(index, trade['stock_description3'])\n",
    "#     print('a')\n",
    "    \n",
    "    #Iterate through each committee in committee dataframe for each row of trades dataframe\n",
    "    for index, committee in df_subcomittees.iterrows():\n",
    "#         print(index, committee['committee_description3'])\n",
    "#         print('b')\n",
    "\n",
    "      # match ticker description to committee description with ALGORITHM (which one TBD)\n",
    "        flt_s_score = similar(trade['stock_description3'], committee['committee_description3'])\n",
    "#         print(flt_s_score)\n",
    "        if flt_s_score > 20:\n",
    "#             print(flt_s_score)\n",
    "            \n",
    "#             # add this trade + commitee description to merged\n",
    "            new_row = list(chain(trade, committee))\n",
    "#             print(new_row)\n",
    "#             print('c')\n",
    "            ls_rows.append(new_row)\n",
    "\n"
   ]
  },
  {
   "cell_type": "code",
   "execution_count": null,
   "id": "3fed7859",
   "metadata": {},
   "outputs": [],
   "source": [
    "#loop 15\n",
    "\n",
    "# iterate through each row (trade) of trades dataframe\n",
    "for index, trade in df_trades[7001:7500].iterrows():\n",
    "#     print(trade)\n",
    "#     print(index, trade['stock_description3'])\n",
    "#     print('a')\n",
    "    \n",
    "    #Iterate through each committee in committee dataframe for each row of trades dataframe\n",
    "    for index, committee in df_subcomittees.iterrows():\n",
    "#         print(index, committee['committee_description3'])\n",
    "#         print('b')\n",
    "\n",
    "      # match ticker description to committee description with ALGORITHM (which one TBD)\n",
    "        flt_s_score = similar(trade['stock_description3'], committee['committee_description3'])\n",
    "#         print(flt_s_score)\n",
    "        if flt_s_score > 20:\n",
    "#             print(flt_s_score)\n",
    "            \n",
    "#             # add this trade + commitee description to merged\n",
    "            new_row = list(chain(trade, committee))\n",
    "#             print(new_row)\n",
    "#             print('c')\n",
    "            ls_rows.append(new_row)\n",
    "\n"
   ]
  },
  {
   "cell_type": "code",
   "execution_count": null,
   "id": "f829304c",
   "metadata": {},
   "outputs": [],
   "source": [
    "#loop 16\n",
    "\n",
    "# iterate through each row (trade) of trades dataframe\n",
    "for index, trade in df_trades[7501:8000].iterrows():\n",
    "#     print(trade)\n",
    "#     print(index, trade['stock_description3'])\n",
    "#     print('a')\n",
    "    \n",
    "    #Iterate through each committee in committee dataframe for each row of trades dataframe\n",
    "    for index, committee in df_subcomittees.iterrows():\n",
    "#         print(index, committee['committee_description3'])\n",
    "#         print('b')\n",
    "\n",
    "      # match ticker description to committee description with ALGORITHM (which one TBD)\n",
    "        flt_s_score = similar(trade['stock_description3'], committee['committee_description3'])\n",
    "#         print(flt_s_score)\n",
    "        if flt_s_score > 20:\n",
    "#             print(flt_s_score)\n",
    "            \n",
    "#             # add this trade + commitee description to merged\n",
    "            new_row = list(chain(trade, committee))\n",
    "#             print(new_row)\n",
    "#             print('c')\n",
    "            ls_rows.append(new_row)\n",
    "\n"
   ]
  },
  {
   "cell_type": "code",
   "execution_count": null,
   "id": "e602aa5a",
   "metadata": {},
   "outputs": [],
   "source": [
    "#loop 17\n",
    "\n",
    "# iterate through each row (trade) of trades dataframe\n",
    "for index, trade in df_trades[8001:8500].iterrows():\n",
    "#     print(trade)\n",
    "#     print(index, trade['stock_description3'])\n",
    "#     print('a')\n",
    "    \n",
    "    #Iterate through each committee in committee dataframe for each row of trades dataframe\n",
    "    for index, committee in df_subcomittees.iterrows():\n",
    "#         print(index, committee['committee_description3'])\n",
    "#         print('b')\n",
    "\n",
    "      # match ticker description to committee description with ALGORITHM (which one TBD)\n",
    "        flt_s_score = similar(trade['stock_description3'], committee['committee_description3'])\n",
    "#         print(flt_s_score)\n",
    "        if flt_s_score > 20:\n",
    "#             print(flt_s_score)\n",
    "            \n",
    "#             # add this trade + commitee description to merged\n",
    "            new_row = list(chain(trade, committee))\n",
    "#             print(new_row)\n",
    "#             print('c')\n",
    "            ls_rows.append(new_row)\n",
    "\n"
   ]
  },
  {
   "cell_type": "code",
   "execution_count": null,
   "id": "9278e3b6",
   "metadata": {},
   "outputs": [],
   "source": [
    "#loop 18\n",
    "\n",
    "# iterate through each row (trade) of trades dataframe\n",
    "for index, trade in df_trades[8501:9000].iterrows():\n",
    "#     print(trade)\n",
    "#     print(index, trade['stock_description3'])\n",
    "#     print('a')\n",
    "    \n",
    "    #Iterate through each committee in committee dataframe for each row of trades dataframe\n",
    "    for index, committee in df_subcomittees.iterrows():\n",
    "#         print(index, committee['committee_description3'])\n",
    "#         print('b')\n",
    "\n",
    "      # match ticker description to committee description with ALGORITHM (which one TBD)\n",
    "        flt_s_score = similar(trade['stock_description3'], committee['committee_description3'])\n",
    "#         print(flt_s_score)\n",
    "        if flt_s_score > 20:\n",
    "#             print(flt_s_score)\n",
    "            \n",
    "#             # add this trade + commitee description to merged\n",
    "            new_row = list(chain(trade, committee))\n",
    "#             print(new_row)\n",
    "#             print('c')\n",
    "            ls_rows.append(new_row)\n",
    "\n"
   ]
  },
  {
   "cell_type": "code",
   "execution_count": null,
   "id": "3ae31b24",
   "metadata": {},
   "outputs": [],
   "source": [
    "#loop 19\n",
    "\n",
    "# iterate through each row (trade) of trades dataframe\n",
    "for index, trade in df_trades[9001:9500].iterrows():\n",
    "#     print(trade)\n",
    "#     print(index, trade['stock_description3'])\n",
    "#     print('a')\n",
    "    \n",
    "    #Iterate through each committee in committee dataframe for each row of trades dataframe\n",
    "    for index, committee in df_subcomittees.iterrows():\n",
    "#         print(index, committee['committee_description3'])\n",
    "#         print('b')\n",
    "\n",
    "      # match ticker description to committee description with ALGORITHM (which one TBD)\n",
    "        flt_s_score = similar(trade['stock_description3'], committee['committee_description3'])\n",
    "#         print(flt_s_score)\n",
    "        if flt_s_score > 20:\n",
    "#             print(flt_s_score)\n",
    "            \n",
    "#             # add this trade + commitee description to merged\n",
    "            new_row = list(chain(trade, committee))\n",
    "#             print(new_row)\n",
    "#             print('c')\n",
    "            ls_rows.append(new_row)\n",
    "\n"
   ]
  },
  {
   "cell_type": "code",
   "execution_count": null,
   "id": "fb680b7d",
   "metadata": {},
   "outputs": [],
   "source": [
    "#loop 20\n",
    "\n",
    "# iterate through each row (trade) of trades dataframe\n",
    "for index, trade in df_trades[9501:10000].iterrows():\n",
    "#     print(trade)\n",
    "#     print(index, trade['stock_description3'])\n",
    "#     print('a')\n",
    "    \n",
    "    #Iterate through each committee in committee dataframe for each row of trades dataframe\n",
    "    for index, committee in df_subcomittees.iterrows():\n",
    "#         print(index, committee['committee_description3'])\n",
    "#         print('b')\n",
    "\n",
    "      # match ticker description to committee description with ALGORITHM (which one TBD)\n",
    "        flt_s_score = similar(trade['stock_description3'], committee['committee_description3'])\n",
    "#         print(flt_s_score)\n",
    "        if flt_s_score > 20:\n",
    "#             print(flt_s_score)\n",
    "            \n",
    "#             # add this trade + commitee description to merged\n",
    "            new_row = list(chain(trade, committee))\n",
    "#             print(new_row)\n",
    "#             print('c')\n",
    "            ls_rows.append(new_row)\n",
    "\n"
   ]
  },
  {
   "cell_type": "code",
   "execution_count": null,
   "id": "812e0cd6",
   "metadata": {},
   "outputs": [],
   "source": [
    "#loop 21\n",
    "\n",
    "# iterate through each row (trade) of trades dataframe\n",
    "for index, trade in df_trades[10001:10500].iterrows():\n",
    "#     print(trade)\n",
    "#     print(index, trade['stock_description3'])\n",
    "#     print('a')\n",
    "    \n",
    "    #Iterate through each committee in committee dataframe for each row of trades dataframe\n",
    "    for index, committee in df_subcomittees.iterrows():\n",
    "#         print(index, committee['committee_description3'])\n",
    "#         print('b')\n",
    "\n",
    "      # match ticker description to committee description with ALGORITHM (which one TBD)\n",
    "        flt_s_score = similar(trade['stock_description3'], committee['committee_description3'])\n",
    "#         print(flt_s_score)\n",
    "        if flt_s_score > 20:\n",
    "#             print(flt_s_score)\n",
    "            \n",
    "#             # add this trade + commitee description to merged\n",
    "            new_row = list(chain(trade, committee))\n",
    "#             print(new_row)\n",
    "#             print('c')\n",
    "            ls_rows.append(new_row)\n",
    "\n"
   ]
  },
  {
   "cell_type": "code",
   "execution_count": null,
   "id": "0cf715da",
   "metadata": {},
   "outputs": [],
   "source": [
    "#loop 22\n",
    "\n",
    "# iterate through each row (trade) of trades dataframe\n",
    "for index, trade in df_trades[10501:11000].iterrows():\n",
    "#     print(trade)\n",
    "#     print(index, trade['stock_description3'])\n",
    "#     print('a')\n",
    "    \n",
    "    #Iterate through each committee in committee dataframe for each row of trades dataframe\n",
    "    for index, committee in df_subcomittees.iterrows():\n",
    "#         print(index, committee['committee_description3'])\n",
    "#         print('b')\n",
    "\n",
    "      # match ticker description to committee description with ALGORITHM (which one TBD)\n",
    "        flt_s_score = similar(trade['stock_description3'], committee['committee_description3'])\n",
    "#         print(flt_s_score)\n",
    "        if flt_s_score > 20:\n",
    "#             print(flt_s_score)\n",
    "            \n",
    "#             # add this trade + commitee description to merged\n",
    "            new_row = list(chain(trade, committee))\n",
    "#             print(new_row)\n",
    "#             print('c')\n",
    "            ls_rows.append(new_row)\n",
    "\n"
   ]
  },
  {
   "cell_type": "code",
   "execution_count": null,
   "id": "78825769",
   "metadata": {},
   "outputs": [],
   "source": [
    "#loop 23\n",
    "\n",
    "# iterate through each row (trade) of trades dataframe\n",
    "for index, trade in df_trades[11001:11500].iterrows():\n",
    "#     print(trade)\n",
    "#     print(index, trade['stock_description3'])\n",
    "#     print('a')\n",
    "    \n",
    "    #Iterate through each committee in committee dataframe for each row of trades dataframe\n",
    "    for index, committee in df_subcomittees.iterrows():\n",
    "#         print(index, committee['committee_description3'])\n",
    "#         print('b')\n",
    "\n",
    "      # match ticker description to committee description with ALGORITHM (which one TBD)\n",
    "        flt_s_score = similar(trade['stock_description3'], committee['committee_description3'])\n",
    "#         print(flt_s_score)\n",
    "        if flt_s_score > 20:\n",
    "#             print(flt_s_score)\n",
    "            \n",
    "#             # add this trade + commitee description to merged\n",
    "            new_row = list(chain(trade, committee))\n",
    "#             print(new_row)\n",
    "#             print('c')\n",
    "            ls_rows.append(new_row)\n",
    "\n"
   ]
  },
  {
   "cell_type": "code",
   "execution_count": null,
   "id": "8cb5646f",
   "metadata": {},
   "outputs": [],
   "source": [
    "#loop 24\n",
    "\n",
    "# iterate through each row (trade) of trades dataframe\n",
    "for index, trade in df_trades[11501:12000].iterrows():\n",
    "#     print(trade)\n",
    "#     print(index, trade['stock_description3'])\n",
    "#     print('a')\n",
    "    \n",
    "    #Iterate through each committee in committee dataframe for each row of trades dataframe\n",
    "    for index, committee in df_subcomittees.iterrows():\n",
    "#         print(index, committee['committee_description3'])\n",
    "#         print('b')\n",
    "\n",
    "      # match ticker description to committee description with ALGORITHM (which one TBD)\n",
    "        flt_s_score = similar(trade['stock_description3'], committee['committee_description3'])\n",
    "#         print(flt_s_score)\n",
    "        if flt_s_score > 20:\n",
    "#             print(flt_s_score)\n",
    "            \n",
    "#             # add this trade + commitee description to merged\n",
    "            new_row = list(chain(trade, committee))\n",
    "#             print(new_row)\n",
    "#             print('c')\n",
    "            ls_rows.append(new_row)\n",
    "\n"
   ]
  },
  {
   "cell_type": "code",
   "execution_count": null,
   "id": "25937fe9",
   "metadata": {},
   "outputs": [],
   "source": [
    "#loop 25\n",
    "\n",
    "# iterate through each row (trade) of trades dataframe\n",
    "for index, trade in df_trades[12001:12500].iterrows():\n",
    "#     print(trade)\n",
    "#     print(index, trade['stock_description3'])\n",
    "#     print('a')\n",
    "    \n",
    "    #Iterate through each committee in committee dataframe for each row of trades dataframe\n",
    "    for index, committee in df_subcomittees.iterrows():\n",
    "#         print(index, committee['committee_description3'])\n",
    "#         print('b')\n",
    "\n",
    "      # match ticker description to committee description with ALGORITHM (which one TBD)\n",
    "        flt_s_score = similar(trade['stock_description3'], committee['committee_description3'])\n",
    "#         print(flt_s_score)\n",
    "        if flt_s_score > 20:\n",
    "#             print(flt_s_score)\n",
    "            \n",
    "#             # add this trade + commitee description to merged\n",
    "            new_row = list(chain(trade, committee))\n",
    "#             print(new_row)\n",
    "#             print('c')\n",
    "            ls_rows.append(new_row)\n",
    "\n"
   ]
  },
  {
   "cell_type": "code",
   "execution_count": null,
   "id": "f9c618d2",
   "metadata": {},
   "outputs": [],
   "source": [
    "#loop 26\n",
    "\n",
    "# iterate through each row (trade) of trades dataframe\n",
    "for index, trade in df_trades[12501:13000].iterrows():\n",
    "#     print(trade)\n",
    "#     print(index, trade['stock_description3'])\n",
    "#     print('a')\n",
    "    \n",
    "    #Iterate through each committee in committee dataframe for each row of trades dataframe\n",
    "    for index, committee in df_subcomittees.iterrows():\n",
    "#         print(index, committee['committee_description3'])\n",
    "#         print('b')\n",
    "\n",
    "      # match ticker description to committee description with ALGORITHM (which one TBD)\n",
    "        flt_s_score = similar(trade['stock_description3'], committee['committee_description3'])\n",
    "#         print(flt_s_score)\n",
    "        if flt_s_score > 20:\n",
    "#             print(flt_s_score)\n",
    "            \n",
    "#             # add this trade + commitee description to merged\n",
    "            new_row = list(chain(trade, committee))\n",
    "#             print(new_row)\n",
    "#             print('c')\n",
    "            ls_rows.append(new_row)\n",
    "\n"
   ]
  },
  {
   "cell_type": "code",
   "execution_count": null,
   "id": "81c675ad",
   "metadata": {},
   "outputs": [],
   "source": [
    "#loop 27\n",
    "\n",
    "# iterate through each row (trade) of trades dataframe\n",
    "for index, trade in df_trades[13001:13500].iterrows():\n",
    "#     print(trade)\n",
    "#     print(index, trade['stock_description3'])\n",
    "#     print('a')\n",
    "    \n",
    "    #Iterate through each committee in committee dataframe for each row of trades dataframe\n",
    "    for index, committee in df_subcomittees.iterrows():\n",
    "#         print(index, committee['committee_description3'])\n",
    "#         print('b')\n",
    "\n",
    "      # match ticker description to committee description with ALGORITHM (which one TBD)\n",
    "        flt_s_score = similar(trade['stock_description3'], committee['committee_description3'])\n",
    "#         print(flt_s_score)\n",
    "        if flt_s_score > 20:\n",
    "#             print(flt_s_score)\n",
    "            \n",
    "#             # add this trade + commitee description to merged\n",
    "            new_row = list(chain(trade, committee))\n",
    "#             print(new_row)\n",
    "#             print('c')\n",
    "            ls_rows.append(new_row)\n",
    "\n"
   ]
  },
  {
   "cell_type": "code",
   "execution_count": null,
   "id": "31d025cd",
   "metadata": {},
   "outputs": [],
   "source": [
    "#loop 28\n",
    "\n",
    "# iterate through each row (trade) of trades dataframe\n",
    "for index, trade in df_trades[13501:14000].iterrows():\n",
    "#     print(trade)\n",
    "#     print(index, trade['stock_description3'])\n",
    "#     print('a')\n",
    "    \n",
    "    #Iterate through each committee in committee dataframe for each row of trades dataframe\n",
    "    for index, committee in df_subcomittees.iterrows():\n",
    "#         print(index, committee['committee_description3'])\n",
    "#         print('b')\n",
    "\n",
    "      # match ticker description to committee description with ALGORITHM (which one TBD)\n",
    "        flt_s_score = similar(trade['stock_description3'], committee['committee_description3'])\n",
    "#         print(flt_s_score)\n",
    "        if flt_s_score > 20:\n",
    "#             print(flt_s_score)\n",
    "            \n",
    "#             # add this trade + commitee description to merged\n",
    "            new_row = list(chain(trade, committee))\n",
    "#             print(new_row)\n",
    "#             print('c')\n",
    "            ls_rows.append(new_row)\n",
    "\n"
   ]
  },
  {
   "cell_type": "code",
   "execution_count": null,
   "id": "128e97f0",
   "metadata": {},
   "outputs": [],
   "source": [
    "#loop 29\n",
    "\n",
    "# iterate through each row (trade) of trades dataframe\n",
    "for index, trade in df_trades[14001:14500].iterrows():\n",
    "#     print(trade)\n",
    "#     print(index, trade['stock_description3'])\n",
    "#     print('a')\n",
    "    \n",
    "    #Iterate through each committee in committee dataframe for each row of trades dataframe\n",
    "    for index, committee in df_subcomittees.iterrows():\n",
    "#         print(index, committee['committee_description3'])\n",
    "#         print('b')\n",
    "\n",
    "      # match ticker description to committee description with ALGORITHM (which one TBD)\n",
    "        flt_s_score = similar(trade['stock_description3'], committee['committee_description3'])\n",
    "#         print(flt_s_score)\n",
    "        if flt_s_score > 20:\n",
    "#             print(flt_s_score)\n",
    "            \n",
    "#             # add this trade + commitee description to merged\n",
    "            new_row = list(chain(trade, committee))\n",
    "#             print(new_row)\n",
    "#             print('c')\n",
    "            ls_rows.append(new_row)\n",
    "\n"
   ]
  },
  {
   "cell_type": "code",
   "execution_count": null,
   "id": "deb2f995",
   "metadata": {},
   "outputs": [],
   "source": [
    "#loop 30\n",
    "\n",
    "# iterate through each row (trade) of trades dataframe\n",
    "for index, trade in df_trades[14501:15000].iterrows():\n",
    "#     print(trade)\n",
    "#     print(index, trade['stock_description3'])\n",
    "#     print('a')\n",
    "    \n",
    "    #Iterate through each committee in committee dataframe for each row of trades dataframe\n",
    "    for index, committee in df_subcomittees.iterrows():\n",
    "#         print(index, committee['committee_description3'])\n",
    "#         print('b')\n",
    "\n",
    "      # match ticker description to committee description with ALGORITHM (which one TBD)\n",
    "        flt_s_score = similar(trade['stock_description3'], committee['committee_description3'])\n",
    "#         print(flt_s_score)\n",
    "        if flt_s_score > 20:\n",
    "#             print(flt_s_score)\n",
    "            \n",
    "#             # add this trade + commitee description to merged\n",
    "            new_row = list(chain(trade, committee))\n",
    "#             print(new_row)\n",
    "#             print('c')\n",
    "            ls_rows.append(new_row)\n",
    "\n"
   ]
  },
  {
   "cell_type": "code",
   "execution_count": null,
   "id": "2e6212dc",
   "metadata": {},
   "outputs": [],
   "source": [
    "#loop 31\n",
    "\n",
    "# iterate through each row (trade) of trades dataframe\n",
    "for index, trade in df_trades[15001:15500].iterrows():\n",
    "#     print(trade)\n",
    "#     print(index, trade['stock_description3'])\n",
    "#     print('a')\n",
    "    \n",
    "    #Iterate through each committee in committee dataframe for each row of trades dataframe\n",
    "    for index, committee in df_subcomittees.iterrows():\n",
    "#         print(index, committee['committee_description3'])\n",
    "#         print('b')\n",
    "\n",
    "      # match ticker description to committee description with ALGORITHM (which one TBD)\n",
    "        flt_s_score = similar(trade['stock_description3'], committee['committee_description3'])\n",
    "#         print(flt_s_score)\n",
    "        if flt_s_score > 20:\n",
    "#             print(flt_s_score)\n",
    "            \n",
    "#             # add this trade + commitee description to merged\n",
    "            new_row = list(chain(trade, committee))\n",
    "#             print(new_row)\n",
    "#             print('c')\n",
    "            ls_rows.append(new_row)\n",
    "\n"
   ]
  },
  {
   "cell_type": "code",
   "execution_count": null,
   "id": "3cbb76f5",
   "metadata": {},
   "outputs": [],
   "source": [
    "#loop 32\n",
    "\n",
    "# iterate through each row (trade) of trades dataframe\n",
    "for index, trade in df_trades[15501:16000].iterrows():\n",
    "#     print(trade)\n",
    "#     print(index, trade['stock_description3'])\n",
    "#     print('a')\n",
    "    \n",
    "    #Iterate through each committee in committee dataframe for each row of trades dataframe\n",
    "    for index, committee in df_subcomittees.iterrows():\n",
    "#         print(index, committee['committee_description3'])\n",
    "#         print('b')\n",
    "\n",
    "      # match ticker description to committee description with ALGORITHM (which one TBD)\n",
    "        flt_s_score = similar(trade['stock_description3'], committee['committee_description3'])\n",
    "#         print(flt_s_score)\n",
    "        if flt_s_score > 20:\n",
    "#             print(flt_s_score)\n",
    "            \n",
    "#             # add this trade + commitee description to merged\n",
    "            new_row = list(chain(trade, committee))\n",
    "#             print(new_row)\n",
    "#             print('c')\n",
    "            ls_rows.append(new_row)\n",
    "\n"
   ]
  },
  {
   "cell_type": "code",
   "execution_count": null,
   "id": "a36eeb42",
   "metadata": {},
   "outputs": [],
   "source": [
    "#loop 33\n",
    "\n",
    "# iterate through each row (trade) of trades dataframe\n",
    "for index, trade in df_trades[16001:16500].iterrows():\n",
    "#     print(trade)\n",
    "#     print(index, trade['stock_description3'])\n",
    "#     print('a')\n",
    "    \n",
    "    #Iterate through each committee in committee dataframe for each row of trades dataframe\n",
    "    for index, committee in df_subcomittees.iterrows():\n",
    "#         print(index, committee['committee_description3'])\n",
    "#         print('b')\n",
    "\n",
    "      # match ticker description to committee description with ALGORITHM (which one TBD)\n",
    "        flt_s_score = similar(trade['stock_description3'], committee['committee_description3'])\n",
    "#         print(flt_s_score)\n",
    "        if flt_s_score > 20:\n",
    "#             print(flt_s_score)\n",
    "            \n",
    "#             # add this trade + commitee description to merged\n",
    "            new_row = list(chain(trade, committee))\n",
    "#             print(new_row)\n",
    "#             print('c')\n",
    "            ls_rows.append(new_row)\n",
    "\n"
   ]
  },
  {
   "cell_type": "code",
   "execution_count": null,
   "id": "ad3792b7",
   "metadata": {},
   "outputs": [],
   "source": [
    "#loop 34\n",
    "\n",
    "# iterate through each row (trade) of trades dataframe\n",
    "for index, trade in df_trades[17501:18000].iterrows():\n",
    "#     print(trade)\n",
    "#     print(index, trade['stock_description3'])\n",
    "#     print('a')\n",
    "    \n",
    "    #Iterate through each committee in committee dataframe for each row of trades dataframe\n",
    "    for index, committee in df_subcomittees.iterrows():\n",
    "#         print(index, committee['committee_description3'])\n",
    "#         print('b')\n",
    "\n",
    "      # match ticker description to committee description with ALGORITHM (which one TBD)\n",
    "        flt_s_score = similar(trade['stock_description3'], committee['committee_description3'])\n",
    "#         print(flt_s_score)\n",
    "        if flt_s_score > 20:\n",
    "#             print(flt_s_score)\n",
    "            \n",
    "#             # add this trade + commitee description to merged\n",
    "            new_row = list(chain(trade, committee))\n",
    "#             print(new_row)\n",
    "#             print('c')\n",
    "            ls_rows.append(new_row)\n",
    "\n"
   ]
  },
  {
   "cell_type": "code",
   "execution_count": null,
   "id": "62d1d5b6",
   "metadata": {},
   "outputs": [],
   "source": [
    "#loop 35\n",
    "\n",
    "# iterate through each row (trade) of trades dataframe\n",
    "for index, trade in df_trades[18001:18500].iterrows():\n",
    "#     print(trade)\n",
    "#     print(index, trade['stock_description3'])\n",
    "#     print('a')\n",
    "    \n",
    "    #Iterate through each committee in committee dataframe for each row of trades dataframe\n",
    "    for index, committee in df_subcomittees.iterrows():\n",
    "#         print(index, committee['committee_description3'])\n",
    "#         print('b')\n",
    "\n",
    "      # match ticker description to committee description with ALGORITHM (which one TBD)\n",
    "        flt_s_score = similar(trade['stock_description3'], committee['committee_description3'])\n",
    "#         print(flt_s_score)\n",
    "        if flt_s_score > 20:\n",
    "#             print(flt_s_score)\n",
    "            \n",
    "#             # add this trade + commitee description to merged\n",
    "            new_row = list(chain(trade, committee))\n",
    "#             print(new_row)\n",
    "#             print('c')\n",
    "            ls_rows.append(new_row)\n",
    "\n"
   ]
  },
  {
   "cell_type": "code",
   "execution_count": null,
   "id": "a3dae73a",
   "metadata": {},
   "outputs": [],
   "source": [
    "#loop 36\n",
    "\n",
    "# iterate through each row (trade) of trades dataframe\n",
    "for index, trade in df_trades[18501:19000].iterrows():\n",
    "#     print(trade)\n",
    "#     print(index, trade['stock_description3'])\n",
    "#     print('a')\n",
    "    \n",
    "    #Iterate through each committee in committee dataframe for each row of trades dataframe\n",
    "    for index, committee in df_subcomittees.iterrows():\n",
    "#         print(index, committee['committee_description3'])\n",
    "#         print('b')\n",
    "\n",
    "      # match ticker description to committee description with ALGORITHM (which one TBD)\n",
    "        flt_s_score = similar(trade['stock_description3'], committee['committee_description3'])\n",
    "#         print(flt_s_score)\n",
    "        if flt_s_score > 20:\n",
    "#             print(flt_s_score)\n",
    "            \n",
    "#             # add this trade + commitee description to merged\n",
    "            new_row = list(chain(trade, committee))\n",
    "#             print(new_row)\n",
    "#             print('c')\n",
    "            ls_rows.append(new_row)\n",
    "\n"
   ]
  },
  {
   "cell_type": "code",
   "execution_count": null,
   "id": "d85405ee",
   "metadata": {},
   "outputs": [],
   "source": [
    "#loop 37\n",
    "\n",
    "# iterate through each row (trade) of trades dataframe\n",
    "for index, trade in df_trades[19001:19500].iterrows():\n",
    "#     print(trade)\n",
    "#     print(index, trade['stock_description3'])\n",
    "#     print('a')\n",
    "    \n",
    "    #Iterate through each committee in committee dataframe for each row of trades dataframe\n",
    "    for index, committee in df_subcomittees.iterrows():\n",
    "#         print(index, committee['committee_description3'])\n",
    "#         print('b')\n",
    "\n",
    "      # match ticker description to committee description with ALGORITHM (which one TBD)\n",
    "        flt_s_score = similar(trade['stock_description3'], committee['committee_description3'])\n",
    "#         print(flt_s_score)\n",
    "        if flt_s_score > 20:\n",
    "#             print(flt_s_score)\n",
    "            \n",
    "#             # add this trade + commitee description to merged\n",
    "            new_row = list(chain(trade, committee))\n",
    "#             print(new_row)\n",
    "#             print('c')\n",
    "            ls_rows.append(new_row)\n",
    "\n"
   ]
  },
  {
   "cell_type": "code",
   "execution_count": null,
   "id": "ab0ba529",
   "metadata": {},
   "outputs": [],
   "source": [
    "#loop 38\n",
    "\n",
    "# iterate through each row (trade) of trades dataframe\n",
    "for index, trade in df_trades[19501:20000].iterrows():\n",
    "#     print(trade)\n",
    "#     print(index, trade['stock_description3'])\n",
    "#     print('a')\n",
    "    \n",
    "    #Iterate through each committee in committee dataframe for each row of trades dataframe\n",
    "    for index, committee in df_subcomittees.iterrows():\n",
    "#         print(index, committee['committee_description3'])\n",
    "#         print('b')\n",
    "\n",
    "      # match ticker description to committee description with ALGORITHM (which one TBD)\n",
    "        flt_s_score = similar(trade['stock_description3'], committee['committee_description3'])\n",
    "#         print(flt_s_score)\n",
    "        if flt_s_score > 20:\n",
    "#             print(flt_s_score)\n",
    "            \n",
    "#             # add this trade + commitee description to merged\n",
    "            new_row = list(chain(trade, committee))\n",
    "#             print(new_row)\n",
    "#             print('c')\n",
    "            ls_rows.append(new_row)\n",
    "\n"
   ]
  },
  {
   "cell_type": "code",
   "execution_count": null,
   "id": "effdc93d",
   "metadata": {},
   "outputs": [],
   "source": [
    "#loop 39\n",
    "\n",
    "# iterate through each row (trade) of trades dataframe\n",
    "for index, trade in df_trades[20001:20500].iterrows():\n",
    "#     print(trade)\n",
    "#     print(index, trade['stock_description3'])\n",
    "#     print('a')\n",
    "    \n",
    "    #Iterate through each committee in committee dataframe for each row of trades dataframe\n",
    "    for index, committee in df_subcomittees.iterrows():\n",
    "#         print(index, committee['committee_description3'])\n",
    "#         print('b')\n",
    "\n",
    "      # match ticker description to committee description with ALGORITHM (which one TBD)\n",
    "        flt_s_score = similar(trade['stock_description3'], committee['committee_description3'])\n",
    "#         print(flt_s_score)\n",
    "        if flt_s_score > 20:\n",
    "#             print(flt_s_score)\n",
    "            \n",
    "#             # add this trade + commitee description to merged\n",
    "            new_row = list(chain(trade, committee))\n",
    "#             print(new_row)\n",
    "#             print('c')\n",
    "            ls_rows.append(new_row)\n",
    "\n"
   ]
  },
  {
   "cell_type": "code",
   "execution_count": null,
   "id": "63ee89a5",
   "metadata": {},
   "outputs": [],
   "source": [
    "#loop 40\n",
    "\n",
    "# iterate through each row (trade) of trades dataframe\n",
    "for index, trade in df_trades[20501:21000].iterrows():\n",
    "#     print(trade)\n",
    "#     print(index, trade['stock_description3'])\n",
    "#     print('a')\n",
    "    \n",
    "    #Iterate through each committee in committee dataframe for each row of trades dataframe\n",
    "    for index, committee in df_subcomittees.iterrows():\n",
    "#         print(index, committee['committee_description3'])\n",
    "#         print('b')\n",
    "\n",
    "      # match ticker description to committee description with ALGORITHM (which one TBD)\n",
    "        flt_s_score = similar(trade['stock_description3'], committee['committee_description3'])\n",
    "#         print(flt_s_score)\n",
    "        if flt_s_score > 20:\n",
    "#             print(flt_s_score)\n",
    "            \n",
    "#             # add this trade + commitee description to merged\n",
    "            new_row = list(chain(trade, committee))\n",
    "#             print(new_row)\n",
    "#             print('c')\n",
    "            ls_rows.append(new_row)\n",
    "\n"
   ]
  },
  {
   "cell_type": "code",
   "execution_count": null,
   "id": "522c93f2",
   "metadata": {},
   "outputs": [],
   "source": [
    "#loop 41\n",
    "\n",
    "# iterate through each row (trade) of trades dataframe\n",
    "for index, trade in df_trades[21001:21500].iterrows():\n",
    "#     print(trade)\n",
    "#     print(index, trade['stock_description3'])\n",
    "#     print('a')\n",
    "    \n",
    "    #Iterate through each committee in committee dataframe for each row of trades dataframe\n",
    "    for index, committee in df_subcomittees.iterrows():\n",
    "#         print(index, committee['committee_description3'])\n",
    "#         print('b')\n",
    "\n",
    "      # match ticker description to committee description with ALGORITHM (which one TBD)\n",
    "        flt_s_score = similar(trade['stock_description3'], committee['committee_description3'])\n",
    "#         print(flt_s_score)\n",
    "        if flt_s_score > 20:\n",
    "#             print(flt_s_score)\n",
    "            \n",
    "#             # add this trade + commitee description to merged\n",
    "            new_row = list(chain(trade, committee))\n",
    "#             print(new_row)\n",
    "#             print('c')\n",
    "            ls_rows.append(new_row)\n",
    "\n"
   ]
  },
  {
   "cell_type": "code",
   "execution_count": null,
   "id": "5daac6e5",
   "metadata": {},
   "outputs": [],
   "source": [
    "#loop 42\n",
    "\n",
    "# iterate through each row (trade) of trades dataframe\n",
    "for index, trade in df_trades[21501:22000].iterrows():\n",
    "#     print(trade)\n",
    "#     print(index, trade['stock_description3'])\n",
    "#     print('a')\n",
    "    \n",
    "    #Iterate through each committee in committee dataframe for each row of trades dataframe\n",
    "    for index, committee in df_subcomittees.iterrows():\n",
    "#         print(index, committee['committee_description3'])\n",
    "#         print('b')\n",
    "\n",
    "      # match ticker description to committee description with ALGORITHM (which one TBD)\n",
    "        flt_s_score = similar(trade['stock_description3'], committee['committee_description3'])\n",
    "#         print(flt_s_score)\n",
    "        if flt_s_score > 20:\n",
    "#             print(flt_s_score)\n",
    "            \n",
    "#             # add this trade + commitee description to merged\n",
    "            new_row = list(chain(trade, committee))\n",
    "#             print(new_row)\n",
    "#             print('c')\n",
    "            ls_rows.append(new_row)\n",
    "\n"
   ]
  },
  {
   "cell_type": "code",
   "execution_count": null,
   "id": "d7ef31b0",
   "metadata": {},
   "outputs": [],
   "source": [
    "#loop 43\n",
    "\n",
    "# iterate through each row (trade) of trades dataframe\n",
    "for index, trade in df_trades[22001:22500].iterrows():\n",
    "#     print(trade)\n",
    "#     print(index, trade['stock_description3'])\n",
    "#     print('a')\n",
    "    \n",
    "    #Iterate through each committee in committee dataframe for each row of trades dataframe\n",
    "    for index, committee in df_subcomittees.iterrows():\n",
    "#         print(index, committee['committee_description3'])\n",
    "#         print('b')\n",
    "\n",
    "      # match ticker description to committee description with ALGORITHM (which one TBD)\n",
    "        flt_s_score = similar(trade['stock_description3'], committee['committee_description3'])\n",
    "#         print(flt_s_score)\n",
    "        if flt_s_score > 20:\n",
    "#             print(flt_s_score)\n",
    "            \n",
    "#             # add this trade + commitee description to merged\n",
    "            new_row = list(chain(trade, committee))\n",
    "#             print(new_row)\n",
    "#             print('c')\n",
    "            ls_rows.append(new_row)\n",
    "\n"
   ]
  },
  {
   "cell_type": "code",
   "execution_count": null,
   "id": "ca57adc2",
   "metadata": {},
   "outputs": [],
   "source": [
    "#loop 44\n",
    "\n",
    "# iterate through each row (trade) of trades dataframe\n",
    "for index, trade in df_trades[22501:23000].iterrows():\n",
    "#     print(trade)\n",
    "#     print(index, trade['stock_description3'])\n",
    "#     print('a')\n",
    "    \n",
    "    #Iterate through each committee in committee dataframe for each row of trades dataframe\n",
    "    for index, committee in df_subcomittees.iterrows():\n",
    "#         print(index, committee['committee_description3'])\n",
    "#         print('b')\n",
    "\n",
    "      # match ticker description to committee description with ALGORITHM (which one TBD)\n",
    "        flt_s_score = similar(trade['stock_description3'], committee['committee_description3'])\n",
    "#         print(flt_s_score)\n",
    "        if flt_s_score > 20:\n",
    "#             print(flt_s_score)\n",
    "            \n",
    "#             # add this trade + commitee description to merged\n",
    "            new_row = list(chain(trade, committee))\n",
    "#             print(new_row)\n",
    "#             print('c')\n",
    "            ls_rows.append(new_row)\n",
    "\n"
   ]
  },
  {
   "cell_type": "code",
   "execution_count": null,
   "id": "822b15f5",
   "metadata": {},
   "outputs": [],
   "source": [
    "#loop 45\n",
    "\n",
    "# iterate through each row (trade) of trades dataframe\n",
    "for index, trade in df_trades[23001:].iterrows():\n",
    "#     print(trade)\n",
    "#     print(index, trade['stock_description3'])\n",
    "#     print('a')\n",
    "    \n",
    "    #Iterate through each committee in committee dataframe for each row of trades dataframe\n",
    "    for index, committee in df_subcomittees.iterrows():\n",
    "#         print(index, committee['committee_description3'])\n",
    "#         print('b')\n",
    "\n",
    "      # match ticker description to committee description with ALGORITHM (which one TBD)\n",
    "        flt_s_score = similar(trade['stock_description3'], committee['committee_description3'])\n",
    "#         print(flt_s_score)\n",
    "        if flt_s_score > 20:\n",
    "#             print(flt_s_score)\n",
    "            \n",
    "#             # add this trade + commitee description to merged\n",
    "            new_row = list(chain(trade, committee))\n",
    "#             print(new_row)\n",
    "#             print('c')\n",
    "            ls_rows.append(new_row)\n",
    "\n"
   ]
  },
  {
   "cell_type": "code",
   "execution_count": 69,
   "id": "7aa9aba1",
   "metadata": {},
   "outputs": [
    {
     "data": {
      "text/plain": [
       "13079"
      ]
     },
     "execution_count": 69,
     "metadata": {},
     "output_type": "execute_result"
    }
   ],
   "source": [
    "len(ls_rows)"
   ]
  },
  {
   "cell_type": "code",
   "execution_count": 68,
   "id": "e218f528",
   "metadata": {},
   "outputs": [
    {
     "data": {
      "text/plain": [
       "[['02/24/2022',\n",
       "  '03/11/2022',\n",
       "  'Shelley M Capito',\n",
       "  'Spouse',\n",
       "  'NEE',\n",
       "  '1001 - 15000',\n",
       "  'NextEra Energy, Inc. Common Stock',\n",
       "  'Stock',\n",
       "  'Sale (Partial)',\n",
       "  '--',\n",
       "  'https://efdsearch.senate.gov/search/view/ptr/e7893c34-0761-4c2b-ac52-e303f166517f/',\n",
       "  nan,\n",
       "  nan,\n",
       "  '1001',\n",
       "  15000.0,\n",
       "  'NEE',\n",
       "  'NextEra Energy, Inc.',\n",
       "  'Utilities',\n",
       "  'Utilities—Regulated Electric',\n",
       "  'NextEra Energy, Inc., through its subsidiaries, generates, transmits, distributes, and sells electric power to retail and wholesale customers in North America. The company generates electricity through wind, solar, nuclear, and fossil fuel, such as coal and natural gas facilities. It also develops, constructs, and operates long-term contracted assets with a focus on renewable generation facilities, electric transmission facilities, and battery storage projects; and owns, develops, constructs, manages and operates electric generation facilities in wholesale energy markets. As of December 31, 2020, the company operated approximately 28,400 megawatts of net generating capacity. It serves approximately 11 million people through approximately 5.6 million customer accounts in the east and lower west coasts of Florida with approximately 76,200 circuit miles of transmission and distribution lines and 673 substations. The company was formerly known as FPL Group, Inc. and changed its name to NextEra Energy, Inc. in 2010. NextEra Energy, Inc. was founded in 1925 and is headquartered in Juno Beach, Florida.',\n",
       "  'https://www.nexteraenergy.com',\n",
       "  'Utilities, Utilities—Regulated Electric, NextEra Energy, Inc., through its subsidiaries, generates, transmits, distributes, and sells electric power to retail and wholesale customers in North America. The company generates electricity through wind, solar, nuclear, and fossil fuel, such as coal and natural gas facilities. It also develops, constructs, and operates long-term contracted assets with a focus on renewable generation facilities, electric transmission facilities, and battery storage projects; and owns, develops, constructs, manages and operates electric generation facilities in wholesale energy markets. As of December 31, 2020, the company operated approximately 28,400 megawatts of net generating capacity. It serves approximately 11 million people through approximately 5.6 million customer accounts in the east and lower west coasts of Florida with approximately 76,200 circuit miles of transmission and distribution lines and 673 substations. The company was formerly known as FPL Group, Inc. and changed its name to NextEra Energy, Inc. in 2010. NextEra Energy, Inc. was founded in 1925 and is headquartered in Juno Beach, Florida.',\n",
       "  'utilities utilities—regulated electric',\n",
       "  'utilities utilities—regulated electric nextera energy inc through its subsidiaries generates transmits distributes and sells electric power to retail and wholesale customers in north america the company generates electricity through wind solar nuclear and fossil fuel such as coal and natural gas facilities it also develops constructs and operates longterm contracted assets with a focus on renewable generation facilities electric transmission facilities and battery storage projects and owns develops constructs manages and operates electric generation facilities in wholesale energy markets as of december 31 2020 the company operated approximately 28400 megawatts of net generating capacity it serves approximately 11 million people through approximately 56 million customer accounts in the east and lower west coasts of florida with approximately 76200 circuit miles of transmission and distribution lines and 673 substations the company was formerly known as fpl group inc and changed its name to nextera energy inc in 2010 nextera energy inc was founded in 1925 and is headquartered in juno beach florida',\n",
       "  'utilities utilities—regulated electric nextera energy inc subsidiaries generates transmits distributes sells electric power retail wholesale customers north america company generates electricity wind solar nuclear fossil fuel coal natural gas facilities also develops constructs operates longterm contracted assets focus renewable generation facilities electric transmission facilities battery storage projects owns develops constructs manages operates electric generation facilities wholesale energy markets december   company operated approximately  megawatts net generating capacity serves approximately  million people approximately  million customer accounts east lower west coasts florida approximately  circuit miles transmission distribution lines  substations company formerly known fpl group inc changed name nextera energy inc  nextera energy inc founded  headquartered juno beach florida',\n",
       "  'HSJU05',\n",
       "  'Antitrust, Commercial, and Administrative Law',\n",
       "  'Subcommittee on Antitrust, Commercial and Administrative Law shall have jurisdiction over the following subject matters: bankruptcy and commercial law, bankruptcy judgeships, administrative law, independent counsel, state taxation affecting interstate commerce, interstate compacts, antitrust matters, other appropriate matters as referred by the Chairman, and relevant oversight.',\n",
       "  'https://judiciary.house.gov/subcommittees/subcommittee/?SubcommitteeID=14930',\n",
       "  'antitrust commercial and administrative law subcommittee on antitrust commercial and administrative law shall have jurisdiction over the following subject matters bankruptcy and commercial law bankruptcy judgeships administrative law independent counsel state taxation affecting interstate commerce interstate compacts antitrust matters other appropriate matters as referred by the chairman and relevant oversight',\n",
       "  'antitrust commercial administrative law subcommittee antitrust commercial administrative law shall jurisdiction following subject matters bankruptcy commercial law bankruptcy judgeships administrative law independent counsel state taxation affecting interstate commerce interstate compacts antitrust matters appropriate matters referred chairman relevant oversight'],\n",
       " ['02/24/2022',\n",
       "  '03/11/2022',\n",
       "  'Shelley M Capito',\n",
       "  'Spouse',\n",
       "  'NEE',\n",
       "  '1001 - 15000',\n",
       "  'NextEra Energy, Inc. Common Stock',\n",
       "  'Stock',\n",
       "  'Sale (Partial)',\n",
       "  '--',\n",
       "  'https://efdsearch.senate.gov/search/view/ptr/e7893c34-0761-4c2b-ac52-e303f166517f/',\n",
       "  nan,\n",
       "  nan,\n",
       "  '1001',\n",
       "  15000.0,\n",
       "  'NEE',\n",
       "  'NextEra Energy, Inc.',\n",
       "  'Utilities',\n",
       "  'Utilities—Regulated Electric',\n",
       "  'NextEra Energy, Inc., through its subsidiaries, generates, transmits, distributes, and sells electric power to retail and wholesale customers in North America. The company generates electricity through wind, solar, nuclear, and fossil fuel, such as coal and natural gas facilities. It also develops, constructs, and operates long-term contracted assets with a focus on renewable generation facilities, electric transmission facilities, and battery storage projects; and owns, develops, constructs, manages and operates electric generation facilities in wholesale energy markets. As of December 31, 2020, the company operated approximately 28,400 megawatts of net generating capacity. It serves approximately 11 million people through approximately 5.6 million customer accounts in the east and lower west coasts of Florida with approximately 76,200 circuit miles of transmission and distribution lines and 673 substations. The company was formerly known as FPL Group, Inc. and changed its name to NextEra Energy, Inc. in 2010. NextEra Energy, Inc. was founded in 1925 and is headquartered in Juno Beach, Florida.',\n",
       "  'https://www.nexteraenergy.com',\n",
       "  'Utilities, Utilities—Regulated Electric, NextEra Energy, Inc., through its subsidiaries, generates, transmits, distributes, and sells electric power to retail and wholesale customers in North America. The company generates electricity through wind, solar, nuclear, and fossil fuel, such as coal and natural gas facilities. It also develops, constructs, and operates long-term contracted assets with a focus on renewable generation facilities, electric transmission facilities, and battery storage projects; and owns, develops, constructs, manages and operates electric generation facilities in wholesale energy markets. As of December 31, 2020, the company operated approximately 28,400 megawatts of net generating capacity. It serves approximately 11 million people through approximately 5.6 million customer accounts in the east and lower west coasts of Florida with approximately 76,200 circuit miles of transmission and distribution lines and 673 substations. The company was formerly known as FPL Group, Inc. and changed its name to NextEra Energy, Inc. in 2010. NextEra Energy, Inc. was founded in 1925 and is headquartered in Juno Beach, Florida.',\n",
       "  'utilities utilities—regulated electric',\n",
       "  'utilities utilities—regulated electric nextera energy inc through its subsidiaries generates transmits distributes and sells electric power to retail and wholesale customers in north america the company generates electricity through wind solar nuclear and fossil fuel such as coal and natural gas facilities it also develops constructs and operates longterm contracted assets with a focus on renewable generation facilities electric transmission facilities and battery storage projects and owns develops constructs manages and operates electric generation facilities in wholesale energy markets as of december 31 2020 the company operated approximately 28400 megawatts of net generating capacity it serves approximately 11 million people through approximately 56 million customer accounts in the east and lower west coasts of florida with approximately 76200 circuit miles of transmission and distribution lines and 673 substations the company was formerly known as fpl group inc and changed its name to nextera energy inc in 2010 nextera energy inc was founded in 1925 and is headquartered in juno beach florida',\n",
       "  'utilities utilities—regulated electric nextera energy inc subsidiaries generates transmits distributes sells electric power retail wholesale customers north america company generates electricity wind solar nuclear fossil fuel coal natural gas facilities also develops constructs operates longterm contracted assets focus renewable generation facilities electric transmission facilities battery storage projects owns develops constructs manages operates electric generation facilities wholesale energy markets december   company operated approximately  megawatts net generating capacity serves approximately  million people approximately  million customer accounts east lower west coasts florida approximately  circuit miles transmission distribution lines  substations company formerly known fpl group inc changed name nextera energy inc  nextera energy inc founded  headquartered juno beach florida',\n",
       "  'HSAG14',\n",
       "  'Biotechnology, Horticulture, and Research',\n",
       "  'Policies, statutes, and markets relating to horticulture, including fruits, vegetables, nuts, and ornamentals; bees; and organic agriculture; policies and statutes relating to marketing and promotion orders; pest and disease management, including pesticides; bioterrorism; adulteration and quarantine matters; research, education, and extension; and biotechnology.',\n",
       "  'https://republicans-agriculture.house.gov/issues/issue/?IssueID=14897',\n",
       "  'biotechnology horticulture and research policies statutes and markets relating to horticulture including fruits vegetables nuts and ornamentals bees and organic agriculture policies and statutes relating to marketing and promotion orders pest and disease management including pesticides bioterrorism adulteration and quarantine matters research education and extension and biotechnology',\n",
       "  'biotechnology horticulture research policies statutes markets relating horticulture including fruits vegetables nuts ornamentals bees organic agriculture policies statutes relating marketing promotion orders pest disease management including pesticides bioterrorism adulteration quarantine matters research education extension biotechnology'],\n",
       " ['02/24/2022',\n",
       "  '03/11/2022',\n",
       "  'Shelley M Capito',\n",
       "  'Spouse',\n",
       "  'NEE',\n",
       "  '1001 - 15000',\n",
       "  'NextEra Energy, Inc. Common Stock',\n",
       "  'Stock',\n",
       "  'Sale (Partial)',\n",
       "  '--',\n",
       "  'https://efdsearch.senate.gov/search/view/ptr/e7893c34-0761-4c2b-ac52-e303f166517f/',\n",
       "  nan,\n",
       "  nan,\n",
       "  '1001',\n",
       "  15000.0,\n",
       "  'NEE',\n",
       "  'NextEra Energy, Inc.',\n",
       "  'Utilities',\n",
       "  'Utilities—Regulated Electric',\n",
       "  'NextEra Energy, Inc., through its subsidiaries, generates, transmits, distributes, and sells electric power to retail and wholesale customers in North America. The company generates electricity through wind, solar, nuclear, and fossil fuel, such as coal and natural gas facilities. It also develops, constructs, and operates long-term contracted assets with a focus on renewable generation facilities, electric transmission facilities, and battery storage projects; and owns, develops, constructs, manages and operates electric generation facilities in wholesale energy markets. As of December 31, 2020, the company operated approximately 28,400 megawatts of net generating capacity. It serves approximately 11 million people through approximately 5.6 million customer accounts in the east and lower west coasts of Florida with approximately 76,200 circuit miles of transmission and distribution lines and 673 substations. The company was formerly known as FPL Group, Inc. and changed its name to NextEra Energy, Inc. in 2010. NextEra Energy, Inc. was founded in 1925 and is headquartered in Juno Beach, Florida.',\n",
       "  'https://www.nexteraenergy.com',\n",
       "  'Utilities, Utilities—Regulated Electric, NextEra Energy, Inc., through its subsidiaries, generates, transmits, distributes, and sells electric power to retail and wholesale customers in North America. The company generates electricity through wind, solar, nuclear, and fossil fuel, such as coal and natural gas facilities. It also develops, constructs, and operates long-term contracted assets with a focus on renewable generation facilities, electric transmission facilities, and battery storage projects; and owns, develops, constructs, manages and operates electric generation facilities in wholesale energy markets. As of December 31, 2020, the company operated approximately 28,400 megawatts of net generating capacity. It serves approximately 11 million people through approximately 5.6 million customer accounts in the east and lower west coasts of Florida with approximately 76,200 circuit miles of transmission and distribution lines and 673 substations. The company was formerly known as FPL Group, Inc. and changed its name to NextEra Energy, Inc. in 2010. NextEra Energy, Inc. was founded in 1925 and is headquartered in Juno Beach, Florida.',\n",
       "  'utilities utilities—regulated electric',\n",
       "  'utilities utilities—regulated electric nextera energy inc through its subsidiaries generates transmits distributes and sells electric power to retail and wholesale customers in north america the company generates electricity through wind solar nuclear and fossil fuel such as coal and natural gas facilities it also develops constructs and operates longterm contracted assets with a focus on renewable generation facilities electric transmission facilities and battery storage projects and owns develops constructs manages and operates electric generation facilities in wholesale energy markets as of december 31 2020 the company operated approximately 28400 megawatts of net generating capacity it serves approximately 11 million people through approximately 56 million customer accounts in the east and lower west coasts of florida with approximately 76200 circuit miles of transmission and distribution lines and 673 substations the company was formerly known as fpl group inc and changed its name to nextera energy inc in 2010 nextera energy inc was founded in 1925 and is headquartered in juno beach florida',\n",
       "  'utilities utilities—regulated electric nextera energy inc subsidiaries generates transmits distributes sells electric power retail wholesale customers north america company generates electricity wind solar nuclear fossil fuel coal natural gas facilities also develops constructs operates longterm contracted assets focus renewable generation facilities electric transmission facilities battery storage projects owns develops constructs manages operates electric generation facilities wholesale energy markets december   company operated approximately  megawatts net generating capacity serves approximately  million people approximately  million customer accounts east lower west coasts florida approximately  circuit miles transmission distribution lines  substations company formerly known fpl group inc changed name nextera energy inc  nextera energy inc founded  headquartered juno beach florida',\n",
       "  'SSHR09',\n",
       "  'Children and Families',\n",
       "  'The Subcommittee has jurisdiction over a wide range of issues including Head Start, child care and child support such as the Child Care & Development Block Grant, the Family Medical Leave Act, National Service, women and children’s healthcare, and other issues involving children, youth, and families.',\n",
       "  'https://www.help.senate.gov/about/subcommittees',\n",
       "  'children and families the subcommittee has jurisdiction over a wide range of issues including head start child care and child support such as the child care  development block grant the family medical leave act national service women and children’s healthcare and other issues involving children youth and families',\n",
       "  'children families subcommittee jurisdiction wide range issues including head start child care child support child care development block grant family medical leave act national service women children’s healthcare issues involving children youth families'],\n",
       " ['02/24/2022',\n",
       "  '03/11/2022',\n",
       "  'Shelley M Capito',\n",
       "  'Spouse',\n",
       "  'NEE',\n",
       "  '1001 - 15000',\n",
       "  'NextEra Energy, Inc. Common Stock',\n",
       "  'Stock',\n",
       "  'Sale (Partial)',\n",
       "  '--',\n",
       "  'https://efdsearch.senate.gov/search/view/ptr/e7893c34-0761-4c2b-ac52-e303f166517f/',\n",
       "  nan,\n",
       "  nan,\n",
       "  '1001',\n",
       "  15000.0,\n",
       "  'NEE',\n",
       "  'NextEra Energy, Inc.',\n",
       "  'Utilities',\n",
       "  'Utilities—Regulated Electric',\n",
       "  'NextEra Energy, Inc., through its subsidiaries, generates, transmits, distributes, and sells electric power to retail and wholesale customers in North America. The company generates electricity through wind, solar, nuclear, and fossil fuel, such as coal and natural gas facilities. It also develops, constructs, and operates long-term contracted assets with a focus on renewable generation facilities, electric transmission facilities, and battery storage projects; and owns, develops, constructs, manages and operates electric generation facilities in wholesale energy markets. As of December 31, 2020, the company operated approximately 28,400 megawatts of net generating capacity. It serves approximately 11 million people through approximately 5.6 million customer accounts in the east and lower west coasts of Florida with approximately 76,200 circuit miles of transmission and distribution lines and 673 substations. The company was formerly known as FPL Group, Inc. and changed its name to NextEra Energy, Inc. in 2010. NextEra Energy, Inc. was founded in 1925 and is headquartered in Juno Beach, Florida.',\n",
       "  'https://www.nexteraenergy.com',\n",
       "  'Utilities, Utilities—Regulated Electric, NextEra Energy, Inc., through its subsidiaries, generates, transmits, distributes, and sells electric power to retail and wholesale customers in North America. The company generates electricity through wind, solar, nuclear, and fossil fuel, such as coal and natural gas facilities. It also develops, constructs, and operates long-term contracted assets with a focus on renewable generation facilities, electric transmission facilities, and battery storage projects; and owns, develops, constructs, manages and operates electric generation facilities in wholesale energy markets. As of December 31, 2020, the company operated approximately 28,400 megawatts of net generating capacity. It serves approximately 11 million people through approximately 5.6 million customer accounts in the east and lower west coasts of Florida with approximately 76,200 circuit miles of transmission and distribution lines and 673 substations. The company was formerly known as FPL Group, Inc. and changed its name to NextEra Energy, Inc. in 2010. NextEra Energy, Inc. was founded in 1925 and is headquartered in Juno Beach, Florida.',\n",
       "  'utilities utilities—regulated electric',\n",
       "  'utilities utilities—regulated electric nextera energy inc through its subsidiaries generates transmits distributes and sells electric power to retail and wholesale customers in north america the company generates electricity through wind solar nuclear and fossil fuel such as coal and natural gas facilities it also develops constructs and operates longterm contracted assets with a focus on renewable generation facilities electric transmission facilities and battery storage projects and owns develops constructs manages and operates electric generation facilities in wholesale energy markets as of december 31 2020 the company operated approximately 28400 megawatts of net generating capacity it serves approximately 11 million people through approximately 56 million customer accounts in the east and lower west coasts of florida with approximately 76200 circuit miles of transmission and distribution lines and 673 substations the company was formerly known as fpl group inc and changed its name to nextera energy inc in 2010 nextera energy inc was founded in 1925 and is headquartered in juno beach florida',\n",
       "  'utilities utilities—regulated electric nextera energy inc subsidiaries generates transmits distributes sells electric power retail wholesale customers north america company generates electricity wind solar nuclear fossil fuel coal natural gas facilities also develops constructs operates longterm contracted assets focus renewable generation facilities electric transmission facilities battery storage projects owns develops constructs manages operates electric generation facilities wholesale energy markets december   company operated approximately  megawatts net generating capacity serves approximately  million people approximately  million customer accounts east lower west coasts florida approximately  circuit miles transmission distribution lines  substations company formerly known fpl group inc changed name nextera energy inc  nextera energy inc founded  headquartered juno beach florida',\n",
       "  'HSAP19',\n",
       "  'Commerce, Justice, Science, and Related Agencies',\n",
       "  'DEPARTMENT OF COMMERCE DEPARTMENT OF JUSTICE NATIONAL AERONAUTICS AND SPACE ADMINISTRATION NATIONAL SCIENCE FOUNDATION RELATED AGENCIES Commission on Civil Rights Equal Employment Opportunity Commission International Trade Commission Legal Services Corporation Marine Mammal Commission National Space Council Office of Science and Technology Policy Office of the United States Trade Representative State Justice Institute',\n",
       "  'https://appropriations.house.gov/sites/democrats.appropriations.house.gov/files/documents/117th%20Jurisdiction.pdf',\n",
       "  'commerce justice science and related agencies department of commerce department of justice national aeronautics and space administration national science foundation related agencies commission on civil rights equal employment opportunity commission international trade commission legal services corporation marine mammal commission national space council office of science and technology policy office of the united states trade representative state justice institute',\n",
       "  'commerce justice science related agencies department commerce department justice national aeronautics space administration national science foundation related agencies commission civil rights equal employment opportunity commission international trade commission legal services corporation marine mammal commission national space council office science technology policy office united states trade representative state justice institute'],\n",
       " ['02/24/2022',\n",
       "  '03/11/2022',\n",
       "  'Shelley M Capito',\n",
       "  'Spouse',\n",
       "  'NEE',\n",
       "  '1001 - 15000',\n",
       "  'NextEra Energy, Inc. Common Stock',\n",
       "  'Stock',\n",
       "  'Sale (Partial)',\n",
       "  '--',\n",
       "  'https://efdsearch.senate.gov/search/view/ptr/e7893c34-0761-4c2b-ac52-e303f166517f/',\n",
       "  nan,\n",
       "  nan,\n",
       "  '1001',\n",
       "  15000.0,\n",
       "  'NEE',\n",
       "  'NextEra Energy, Inc.',\n",
       "  'Utilities',\n",
       "  'Utilities—Regulated Electric',\n",
       "  'NextEra Energy, Inc., through its subsidiaries, generates, transmits, distributes, and sells electric power to retail and wholesale customers in North America. The company generates electricity through wind, solar, nuclear, and fossil fuel, such as coal and natural gas facilities. It also develops, constructs, and operates long-term contracted assets with a focus on renewable generation facilities, electric transmission facilities, and battery storage projects; and owns, develops, constructs, manages and operates electric generation facilities in wholesale energy markets. As of December 31, 2020, the company operated approximately 28,400 megawatts of net generating capacity. It serves approximately 11 million people through approximately 5.6 million customer accounts in the east and lower west coasts of Florida with approximately 76,200 circuit miles of transmission and distribution lines and 673 substations. The company was formerly known as FPL Group, Inc. and changed its name to NextEra Energy, Inc. in 2010. NextEra Energy, Inc. was founded in 1925 and is headquartered in Juno Beach, Florida.',\n",
       "  'https://www.nexteraenergy.com',\n",
       "  'Utilities, Utilities—Regulated Electric, NextEra Energy, Inc., through its subsidiaries, generates, transmits, distributes, and sells electric power to retail and wholesale customers in North America. The company generates electricity through wind, solar, nuclear, and fossil fuel, such as coal and natural gas facilities. It also develops, constructs, and operates long-term contracted assets with a focus on renewable generation facilities, electric transmission facilities, and battery storage projects; and owns, develops, constructs, manages and operates electric generation facilities in wholesale energy markets. As of December 31, 2020, the company operated approximately 28,400 megawatts of net generating capacity. It serves approximately 11 million people through approximately 5.6 million customer accounts in the east and lower west coasts of Florida with approximately 76,200 circuit miles of transmission and distribution lines and 673 substations. The company was formerly known as FPL Group, Inc. and changed its name to NextEra Energy, Inc. in 2010. NextEra Energy, Inc. was founded in 1925 and is headquartered in Juno Beach, Florida.',\n",
       "  'utilities utilities—regulated electric',\n",
       "  'utilities utilities—regulated electric nextera energy inc through its subsidiaries generates transmits distributes and sells electric power to retail and wholesale customers in north america the company generates electricity through wind solar nuclear and fossil fuel such as coal and natural gas facilities it also develops constructs and operates longterm contracted assets with a focus on renewable generation facilities electric transmission facilities and battery storage projects and owns develops constructs manages and operates electric generation facilities in wholesale energy markets as of december 31 2020 the company operated approximately 28400 megawatts of net generating capacity it serves approximately 11 million people through approximately 56 million customer accounts in the east and lower west coasts of florida with approximately 76200 circuit miles of transmission and distribution lines and 673 substations the company was formerly known as fpl group inc and changed its name to nextera energy inc in 2010 nextera energy inc was founded in 1925 and is headquartered in juno beach florida',\n",
       "  'utilities utilities—regulated electric nextera energy inc subsidiaries generates transmits distributes sells electric power retail wholesale customers north america company generates electricity wind solar nuclear fossil fuel coal natural gas facilities also develops constructs operates longterm contracted assets focus renewable generation facilities electric transmission facilities battery storage projects owns develops constructs manages operates electric generation facilities wholesale energy markets december   company operated approximately  megawatts net generating capacity serves approximately  million people approximately  million customer accounts east lower west coasts florida approximately  circuit miles transmission distribution lines  substations company formerly known fpl group inc changed name nextera energy inc  nextera energy inc founded  headquartered juno beach florida',\n",
       "  'JCSE',\n",
       "  'Commission on Security and Cooperation in Europe',\n",
       "  'The Commission on Security and Cooperation in Europe, also known as the U.S. Helsinki Commission, is an independent commission of the U.S. Federal Government. For over 45 years, the Commission has monitored compliance with the Helsinki Accords and advanced comprehensive security through promotion of human rights, democracy, and economic, environmental, and military cooperation in the 57-nation OSCE region. Our Structure: Learn more about the work of the Helsinki Commission, along with our leadership, Commissioners, and staff. Our History: The Helsinki Commission was founded in 1976 to strengthen the legitimacy of human rights monitoring; to defend those persecuted for acting on their rights and freedoms; to ensure that violations of Helsinki provisions were given full consideration in U.S. foreign policy; and to gain international acceptance of human rights violations as a legitimate subject for one country to raise with another.',\n",
       "  'https://www.csce.gov/about-commission-security-and-cooperation-europe',\n",
       "  'commission on security and cooperation in europe the commission on security and cooperation in europe also known as the us helsinki commission is an independent commission of the us federal government for over 45 years the commission has monitored compliance with the helsinki accords and advanced comprehensive security through promotion of human rights democracy and economic environmental and military cooperation in the 57nation osce region our structure learn more about the work of the helsinki commission along with our leadership commissioners and staff our history the helsinki commission was founded in 1976 to strengthen the legitimacy of human rights monitoring to defend those persecuted for acting on their rights and freedoms to ensure that violations of helsinki provisions were given full consideration in us foreign policy and to gain international acceptance of human rights violations as a legitimate subject for one country to raise with another',\n",
       "  'commission security cooperation europe commission security cooperation europe also known us helsinki commission independent commission us federal government  years commission monitored compliance helsinki accords advanced comprehensive security promotion human rights democracy economic environmental military cooperation nation osce region structure learn work helsinki commission along leadership commissioners staff history helsinki commission founded  strengthen legitimacy human rights monitoring defend persecuted acting rights freedoms ensure violations helsinki provisions given full consideration us foreign policy gain international acceptance human rights violations legitimate subject one country raise another']]"
      ]
     },
     "execution_count": 68,
     "metadata": {},
     "output_type": "execute_result"
    }
   ],
   "source": [
    "ls_rows[0:5]"
   ]
  },
  {
   "cell_type": "code",
   "execution_count": null,
   "id": "91d81e2b",
   "metadata": {},
   "outputs": [],
   "source": [
    "ls_rows[23115:23119]"
   ]
  },
  {
   "cell_type": "code",
   "execution_count": null,
   "id": "c0c77dc4",
   "metadata": {},
   "outputs": [],
   "source": [
    "# 23119"
   ]
  },
  {
   "cell_type": "markdown",
   "id": "79b5c6a1",
   "metadata": {},
   "source": [
    "##### Make into Merged DataFrame"
   ]
  },
  {
   "cell_type": "code",
   "execution_count": 70,
   "id": "0301dd72",
   "metadata": {},
   "outputs": [],
   "source": [
    "merged = pd.DataFrame(ls_rows)\n",
    "merged.columns =['transaction_date', 'disclosure_date', 'politician', 'owner', 'ticker', 'amount', 'asset_description', 'asset_type', 'transaction_type', 'comment', 'ptr_link', 'location', 'cap_gains', 'amount_low', 'amount_high', 'ticker2', 'name', 'sector', 'industry', 'longbusinesssummary', 'website', 'stock_description','sector_industry', 'stock_description2', 'stock_description3', 'committee', 'committee_fullname', 'committee_description', 'website','committee_description2', 'committee_description3']"
   ]
  },
  {
   "cell_type": "code",
   "execution_count": 71,
   "id": "4ae1060a",
   "metadata": {},
   "outputs": [
    {
     "data": {
      "text/html": [
       "<div>\n",
       "<style scoped>\n",
       "    .dataframe tbody tr th:only-of-type {\n",
       "        vertical-align: middle;\n",
       "    }\n",
       "\n",
       "    .dataframe tbody tr th {\n",
       "        vertical-align: top;\n",
       "    }\n",
       "\n",
       "    .dataframe thead th {\n",
       "        text-align: right;\n",
       "    }\n",
       "</style>\n",
       "<table border=\"1\" class=\"dataframe\">\n",
       "  <thead>\n",
       "    <tr style=\"text-align: right;\">\n",
       "      <th></th>\n",
       "      <th>transaction_date</th>\n",
       "      <th>disclosure_date</th>\n",
       "      <th>politician</th>\n",
       "      <th>owner</th>\n",
       "      <th>ticker</th>\n",
       "      <th>amount</th>\n",
       "      <th>asset_description</th>\n",
       "      <th>asset_type</th>\n",
       "      <th>transaction_type</th>\n",
       "      <th>comment</th>\n",
       "      <th>...</th>\n",
       "      <th>stock_description</th>\n",
       "      <th>sector_industry</th>\n",
       "      <th>stock_description2</th>\n",
       "      <th>stock_description3</th>\n",
       "      <th>committee</th>\n",
       "      <th>committee_fullname</th>\n",
       "      <th>committee_description</th>\n",
       "      <th>website</th>\n",
       "      <th>committee_description2</th>\n",
       "      <th>committee_description3</th>\n",
       "    </tr>\n",
       "  </thead>\n",
       "  <tbody>\n",
       "    <tr>\n",
       "      <th>0</th>\n",
       "      <td>02/24/2022</td>\n",
       "      <td>03/11/2022</td>\n",
       "      <td>Shelley M Capito</td>\n",
       "      <td>Spouse</td>\n",
       "      <td>NEE</td>\n",
       "      <td>1001 - 15000</td>\n",
       "      <td>NextEra Energy, Inc. Common Stock</td>\n",
       "      <td>Stock</td>\n",
       "      <td>Sale (Partial)</td>\n",
       "      <td>--</td>\n",
       "      <td>...</td>\n",
       "      <td>Utilities, Utilities—Regulated Electric, NextE...</td>\n",
       "      <td>utilities utilities—regulated electric</td>\n",
       "      <td>utilities utilities—regulated electric nextera...</td>\n",
       "      <td>utilities utilities—regulated electric nextera...</td>\n",
       "      <td>HSJU05</td>\n",
       "      <td>Antitrust, Commercial, and Administrative Law</td>\n",
       "      <td>Subcommittee on Antitrust, Commercial and Admi...</td>\n",
       "      <td>https://judiciary.house.gov/subcommittees/subc...</td>\n",
       "      <td>antitrust commercial and administrative law su...</td>\n",
       "      <td>antitrust commercial administrative law subcom...</td>\n",
       "    </tr>\n",
       "    <tr>\n",
       "      <th>1</th>\n",
       "      <td>02/24/2022</td>\n",
       "      <td>03/11/2022</td>\n",
       "      <td>Shelley M Capito</td>\n",
       "      <td>Spouse</td>\n",
       "      <td>NEE</td>\n",
       "      <td>1001 - 15000</td>\n",
       "      <td>NextEra Energy, Inc. Common Stock</td>\n",
       "      <td>Stock</td>\n",
       "      <td>Sale (Partial)</td>\n",
       "      <td>--</td>\n",
       "      <td>...</td>\n",
       "      <td>Utilities, Utilities—Regulated Electric, NextE...</td>\n",
       "      <td>utilities utilities—regulated electric</td>\n",
       "      <td>utilities utilities—regulated electric nextera...</td>\n",
       "      <td>utilities utilities—regulated electric nextera...</td>\n",
       "      <td>HSAG14</td>\n",
       "      <td>Biotechnology, Horticulture, and Research</td>\n",
       "      <td>Policies, statutes, and markets relating to ho...</td>\n",
       "      <td>https://republicans-agriculture.house.gov/issu...</td>\n",
       "      <td>biotechnology horticulture and research polici...</td>\n",
       "      <td>biotechnology horticulture research policies s...</td>\n",
       "    </tr>\n",
       "    <tr>\n",
       "      <th>2</th>\n",
       "      <td>02/24/2022</td>\n",
       "      <td>03/11/2022</td>\n",
       "      <td>Shelley M Capito</td>\n",
       "      <td>Spouse</td>\n",
       "      <td>NEE</td>\n",
       "      <td>1001 - 15000</td>\n",
       "      <td>NextEra Energy, Inc. Common Stock</td>\n",
       "      <td>Stock</td>\n",
       "      <td>Sale (Partial)</td>\n",
       "      <td>--</td>\n",
       "      <td>...</td>\n",
       "      <td>Utilities, Utilities—Regulated Electric, NextE...</td>\n",
       "      <td>utilities utilities—regulated electric</td>\n",
       "      <td>utilities utilities—regulated electric nextera...</td>\n",
       "      <td>utilities utilities—regulated electric nextera...</td>\n",
       "      <td>SSHR09</td>\n",
       "      <td>Children and Families</td>\n",
       "      <td>The Subcommittee has jurisdiction over a wide ...</td>\n",
       "      <td>https://www.help.senate.gov/about/subcommittees</td>\n",
       "      <td>children and families the subcommittee has jur...</td>\n",
       "      <td>children families subcommittee jurisdiction wi...</td>\n",
       "    </tr>\n",
       "    <tr>\n",
       "      <th>3</th>\n",
       "      <td>02/24/2022</td>\n",
       "      <td>03/11/2022</td>\n",
       "      <td>Shelley M Capito</td>\n",
       "      <td>Spouse</td>\n",
       "      <td>NEE</td>\n",
       "      <td>1001 - 15000</td>\n",
       "      <td>NextEra Energy, Inc. Common Stock</td>\n",
       "      <td>Stock</td>\n",
       "      <td>Sale (Partial)</td>\n",
       "      <td>--</td>\n",
       "      <td>...</td>\n",
       "      <td>Utilities, Utilities—Regulated Electric, NextE...</td>\n",
       "      <td>utilities utilities—regulated electric</td>\n",
       "      <td>utilities utilities—regulated electric nextera...</td>\n",
       "      <td>utilities utilities—regulated electric nextera...</td>\n",
       "      <td>HSAP19</td>\n",
       "      <td>Commerce, Justice, Science, and Related Agencies</td>\n",
       "      <td>DEPARTMENT OF COMMERCE DEPARTMENT OF JUSTICE N...</td>\n",
       "      <td>https://appropriations.house.gov/sites/democra...</td>\n",
       "      <td>commerce justice science and related agencies ...</td>\n",
       "      <td>commerce justice science related agencies depa...</td>\n",
       "    </tr>\n",
       "    <tr>\n",
       "      <th>4</th>\n",
       "      <td>02/24/2022</td>\n",
       "      <td>03/11/2022</td>\n",
       "      <td>Shelley M Capito</td>\n",
       "      <td>Spouse</td>\n",
       "      <td>NEE</td>\n",
       "      <td>1001 - 15000</td>\n",
       "      <td>NextEra Energy, Inc. Common Stock</td>\n",
       "      <td>Stock</td>\n",
       "      <td>Sale (Partial)</td>\n",
       "      <td>--</td>\n",
       "      <td>...</td>\n",
       "      <td>Utilities, Utilities—Regulated Electric, NextE...</td>\n",
       "      <td>utilities utilities—regulated electric</td>\n",
       "      <td>utilities utilities—regulated electric nextera...</td>\n",
       "      <td>utilities utilities—regulated electric nextera...</td>\n",
       "      <td>JCSE</td>\n",
       "      <td>Commission on Security and Cooperation in Europe</td>\n",
       "      <td>The Commission on Security and Cooperation in ...</td>\n",
       "      <td>https://www.csce.gov/about-commission-security...</td>\n",
       "      <td>commission on security and cooperation in euro...</td>\n",
       "      <td>commission security cooperation europe commiss...</td>\n",
       "    </tr>\n",
       "    <tr>\n",
       "      <th>5</th>\n",
       "      <td>02/24/2022</td>\n",
       "      <td>03/11/2022</td>\n",
       "      <td>Shelley M Capito</td>\n",
       "      <td>Spouse</td>\n",
       "      <td>NEE</td>\n",
       "      <td>1001 - 15000</td>\n",
       "      <td>NextEra Energy, Inc. Common Stock</td>\n",
       "      <td>Stock</td>\n",
       "      <td>Sale (Partial)</td>\n",
       "      <td>--</td>\n",
       "      <td>...</td>\n",
       "      <td>Utilities, Utilities—Regulated Electric, NextE...</td>\n",
       "      <td>utilities utilities—regulated electric</td>\n",
       "      <td>utilities utilities—regulated electric nextera...</td>\n",
       "      <td>utilities utilities—regulated electric nextera...</td>\n",
       "      <td>HSAG22</td>\n",
       "      <td>Commodity Exchanges, Energy, and Credit</td>\n",
       "      <td>Policies, statutes, and markets relating to co...</td>\n",
       "      <td>https://republicans-agriculture.house.gov/issu...</td>\n",
       "      <td>commodity exchanges energy and credit policies...</td>\n",
       "      <td>commodity exchanges energy credit policies sta...</td>\n",
       "    </tr>\n",
       "    <tr>\n",
       "      <th>6</th>\n",
       "      <td>02/24/2022</td>\n",
       "      <td>03/11/2022</td>\n",
       "      <td>Shelley M Capito</td>\n",
       "      <td>Spouse</td>\n",
       "      <td>NEE</td>\n",
       "      <td>1001 - 15000</td>\n",
       "      <td>NextEra Energy, Inc. Common Stock</td>\n",
       "      <td>Stock</td>\n",
       "      <td>Sale (Partial)</td>\n",
       "      <td>--</td>\n",
       "      <td>...</td>\n",
       "      <td>Utilities, Utilities—Regulated Electric, NextE...</td>\n",
       "      <td>utilities utilities—regulated electric</td>\n",
       "      <td>utilities utilities—regulated electric nextera...</td>\n",
       "      <td>utilities utilities—regulated electric nextera...</td>\n",
       "      <td>HSAG15</td>\n",
       "      <td>Conservation and Forestry</td>\n",
       "      <td>Policies and statutes relating to resource con...</td>\n",
       "      <td>https://republicans-agriculture.house.gov/issu...</td>\n",
       "      <td>conservation and forestry policies and statute...</td>\n",
       "      <td>conservation forestry policies statutes relati...</td>\n",
       "    </tr>\n",
       "    <tr>\n",
       "      <th>7</th>\n",
       "      <td>02/24/2022</td>\n",
       "      <td>03/11/2022</td>\n",
       "      <td>Shelley M Capito</td>\n",
       "      <td>Spouse</td>\n",
       "      <td>NEE</td>\n",
       "      <td>1001 - 15000</td>\n",
       "      <td>NextEra Energy, Inc. Common Stock</td>\n",
       "      <td>Stock</td>\n",
       "      <td>Sale (Partial)</td>\n",
       "      <td>--</td>\n",
       "      <td>...</td>\n",
       "      <td>Utilities, Utilities—Regulated Electric, NextE...</td>\n",
       "      <td>utilities utilities—regulated electric</td>\n",
       "      <td>utilities utilities—regulated electric nextera...</td>\n",
       "      <td>utilities utilities—regulated electric nextera...</td>\n",
       "      <td>HSJU03</td>\n",
       "      <td>Courts, Intellectual Property, and the Internet</td>\n",
       "      <td>The Subcommittee on Courts, Intellectual Prope...</td>\n",
       "      <td>https://judiciary.house.gov/subcommittees/subc...</td>\n",
       "      <td>courts intellectual property and the internet ...</td>\n",
       "      <td>courts intellectual property internet subcommi...</td>\n",
       "    </tr>\n",
       "    <tr>\n",
       "      <th>8</th>\n",
       "      <td>02/24/2022</td>\n",
       "      <td>03/11/2022</td>\n",
       "      <td>Shelley M Capito</td>\n",
       "      <td>Spouse</td>\n",
       "      <td>NEE</td>\n",
       "      <td>1001 - 15000</td>\n",
       "      <td>NextEra Energy, Inc. Common Stock</td>\n",
       "      <td>Stock</td>\n",
       "      <td>Sale (Partial)</td>\n",
       "      <td>--</td>\n",
       "      <td>...</td>\n",
       "      <td>Utilities, Utilities—Regulated Electric, NextE...</td>\n",
       "      <td>utilities utilities—regulated electric</td>\n",
       "      <td>utilities utilities—regulated electric nextera...</td>\n",
       "      <td>utilities utilities—regulated electric nextera...</td>\n",
       "      <td>SSAP02</td>\n",
       "      <td>Defense</td>\n",
       "      <td>DEPARTMENT OF COMMERCE DEPARTMENT OF JUSTICE N...</td>\n",
       "      <td>https://appropriations.house.gov/sites/democra...</td>\n",
       "      <td>defense department of commerce department of j...</td>\n",
       "      <td>defense department commerce department justice...</td>\n",
       "    </tr>\n",
       "    <tr>\n",
       "      <th>9</th>\n",
       "      <td>02/24/2022</td>\n",
       "      <td>03/11/2022</td>\n",
       "      <td>Shelley M Capito</td>\n",
       "      <td>Spouse</td>\n",
       "      <td>NEE</td>\n",
       "      <td>1001 - 15000</td>\n",
       "      <td>NextEra Energy, Inc. Common Stock</td>\n",
       "      <td>Stock</td>\n",
       "      <td>Sale (Partial)</td>\n",
       "      <td>--</td>\n",
       "      <td>...</td>\n",
       "      <td>Utilities, Utilities—Regulated Electric, NextE...</td>\n",
       "      <td>utilities utilities—regulated electric</td>\n",
       "      <td>utilities utilities—regulated electric nextera...</td>\n",
       "      <td>utilities utilities—regulated electric nextera...</td>\n",
       "      <td>HSVR09</td>\n",
       "      <td>Disability Assistance and Memorial Affairs</td>\n",
       "      <td>The Subcommittee on Disability Assistance and ...</td>\n",
       "      <td>https://veterans.house.gov/subcommittees/disab...</td>\n",
       "      <td>disability assistance and memorial affairs the...</td>\n",
       "      <td>disability assistance memorial affairs subcomm...</td>\n",
       "    </tr>\n",
       "  </tbody>\n",
       "</table>\n",
       "<p>10 rows × 31 columns</p>\n",
       "</div>"
      ],
      "text/plain": [
       "  transaction_date disclosure_date        politician   owner ticker  \\\n",
       "0       02/24/2022      03/11/2022  Shelley M Capito  Spouse    NEE   \n",
       "1       02/24/2022      03/11/2022  Shelley M Capito  Spouse    NEE   \n",
       "2       02/24/2022      03/11/2022  Shelley M Capito  Spouse    NEE   \n",
       "3       02/24/2022      03/11/2022  Shelley M Capito  Spouse    NEE   \n",
       "4       02/24/2022      03/11/2022  Shelley M Capito  Spouse    NEE   \n",
       "5       02/24/2022      03/11/2022  Shelley M Capito  Spouse    NEE   \n",
       "6       02/24/2022      03/11/2022  Shelley M Capito  Spouse    NEE   \n",
       "7       02/24/2022      03/11/2022  Shelley M Capito  Spouse    NEE   \n",
       "8       02/24/2022      03/11/2022  Shelley M Capito  Spouse    NEE   \n",
       "9       02/24/2022      03/11/2022  Shelley M Capito  Spouse    NEE   \n",
       "\n",
       "         amount                  asset_description asset_type  \\\n",
       "0  1001 - 15000  NextEra Energy, Inc. Common Stock      Stock   \n",
       "1  1001 - 15000  NextEra Energy, Inc. Common Stock      Stock   \n",
       "2  1001 - 15000  NextEra Energy, Inc. Common Stock      Stock   \n",
       "3  1001 - 15000  NextEra Energy, Inc. Common Stock      Stock   \n",
       "4  1001 - 15000  NextEra Energy, Inc. Common Stock      Stock   \n",
       "5  1001 - 15000  NextEra Energy, Inc. Common Stock      Stock   \n",
       "6  1001 - 15000  NextEra Energy, Inc. Common Stock      Stock   \n",
       "7  1001 - 15000  NextEra Energy, Inc. Common Stock      Stock   \n",
       "8  1001 - 15000  NextEra Energy, Inc. Common Stock      Stock   \n",
       "9  1001 - 15000  NextEra Energy, Inc. Common Stock      Stock   \n",
       "\n",
       "  transaction_type comment  ...  \\\n",
       "0   Sale (Partial)      --  ...   \n",
       "1   Sale (Partial)      --  ...   \n",
       "2   Sale (Partial)      --  ...   \n",
       "3   Sale (Partial)      --  ...   \n",
       "4   Sale (Partial)      --  ...   \n",
       "5   Sale (Partial)      --  ...   \n",
       "6   Sale (Partial)      --  ...   \n",
       "7   Sale (Partial)      --  ...   \n",
       "8   Sale (Partial)      --  ...   \n",
       "9   Sale (Partial)      --  ...   \n",
       "\n",
       "                                   stock_description  \\\n",
       "0  Utilities, Utilities—Regulated Electric, NextE...   \n",
       "1  Utilities, Utilities—Regulated Electric, NextE...   \n",
       "2  Utilities, Utilities—Regulated Electric, NextE...   \n",
       "3  Utilities, Utilities—Regulated Electric, NextE...   \n",
       "4  Utilities, Utilities—Regulated Electric, NextE...   \n",
       "5  Utilities, Utilities—Regulated Electric, NextE...   \n",
       "6  Utilities, Utilities—Regulated Electric, NextE...   \n",
       "7  Utilities, Utilities—Regulated Electric, NextE...   \n",
       "8  Utilities, Utilities—Regulated Electric, NextE...   \n",
       "9  Utilities, Utilities—Regulated Electric, NextE...   \n",
       "\n",
       "                          sector_industry  \\\n",
       "0  utilities utilities—regulated electric   \n",
       "1  utilities utilities—regulated electric   \n",
       "2  utilities utilities—regulated electric   \n",
       "3  utilities utilities—regulated electric   \n",
       "4  utilities utilities—regulated electric   \n",
       "5  utilities utilities—regulated electric   \n",
       "6  utilities utilities—regulated electric   \n",
       "7  utilities utilities—regulated electric   \n",
       "8  utilities utilities—regulated electric   \n",
       "9  utilities utilities—regulated electric   \n",
       "\n",
       "                                  stock_description2  \\\n",
       "0  utilities utilities—regulated electric nextera...   \n",
       "1  utilities utilities—regulated electric nextera...   \n",
       "2  utilities utilities—regulated electric nextera...   \n",
       "3  utilities utilities—regulated electric nextera...   \n",
       "4  utilities utilities—regulated electric nextera...   \n",
       "5  utilities utilities—regulated electric nextera...   \n",
       "6  utilities utilities—regulated electric nextera...   \n",
       "7  utilities utilities—regulated electric nextera...   \n",
       "8  utilities utilities—regulated electric nextera...   \n",
       "9  utilities utilities—regulated electric nextera...   \n",
       "\n",
       "                                  stock_description3  committee  \\\n",
       "0  utilities utilities—regulated electric nextera...     HSJU05   \n",
       "1  utilities utilities—regulated electric nextera...     HSAG14   \n",
       "2  utilities utilities—regulated electric nextera...     SSHR09   \n",
       "3  utilities utilities—regulated electric nextera...     HSAP19   \n",
       "4  utilities utilities—regulated electric nextera...       JCSE   \n",
       "5  utilities utilities—regulated electric nextera...     HSAG22   \n",
       "6  utilities utilities—regulated electric nextera...     HSAG15   \n",
       "7  utilities utilities—regulated electric nextera...     HSJU03   \n",
       "8  utilities utilities—regulated electric nextera...     SSAP02   \n",
       "9  utilities utilities—regulated electric nextera...     HSVR09   \n",
       "\n",
       "                                 committee_fullname  \\\n",
       "0     Antitrust, Commercial, and Administrative Law   \n",
       "1         Biotechnology, Horticulture, and Research   \n",
       "2                             Children and Families   \n",
       "3  Commerce, Justice, Science, and Related Agencies   \n",
       "4  Commission on Security and Cooperation in Europe   \n",
       "5           Commodity Exchanges, Energy, and Credit   \n",
       "6                         Conservation and Forestry   \n",
       "7   Courts, Intellectual Property, and the Internet   \n",
       "8                                           Defense   \n",
       "9        Disability Assistance and Memorial Affairs   \n",
       "\n",
       "                               committee_description  \\\n",
       "0  Subcommittee on Antitrust, Commercial and Admi...   \n",
       "1  Policies, statutes, and markets relating to ho...   \n",
       "2  The Subcommittee has jurisdiction over a wide ...   \n",
       "3  DEPARTMENT OF COMMERCE DEPARTMENT OF JUSTICE N...   \n",
       "4  The Commission on Security and Cooperation in ...   \n",
       "5  Policies, statutes, and markets relating to co...   \n",
       "6  Policies and statutes relating to resource con...   \n",
       "7  The Subcommittee on Courts, Intellectual Prope...   \n",
       "8  DEPARTMENT OF COMMERCE DEPARTMENT OF JUSTICE N...   \n",
       "9  The Subcommittee on Disability Assistance and ...   \n",
       "\n",
       "                                             website  \\\n",
       "0  https://judiciary.house.gov/subcommittees/subc...   \n",
       "1  https://republicans-agriculture.house.gov/issu...   \n",
       "2    https://www.help.senate.gov/about/subcommittees   \n",
       "3  https://appropriations.house.gov/sites/democra...   \n",
       "4  https://www.csce.gov/about-commission-security...   \n",
       "5  https://republicans-agriculture.house.gov/issu...   \n",
       "6  https://republicans-agriculture.house.gov/issu...   \n",
       "7  https://judiciary.house.gov/subcommittees/subc...   \n",
       "8  https://appropriations.house.gov/sites/democra...   \n",
       "9  https://veterans.house.gov/subcommittees/disab...   \n",
       "\n",
       "                              committee_description2  \\\n",
       "0  antitrust commercial and administrative law su...   \n",
       "1  biotechnology horticulture and research polici...   \n",
       "2  children and families the subcommittee has jur...   \n",
       "3  commerce justice science and related agencies ...   \n",
       "4  commission on security and cooperation in euro...   \n",
       "5  commodity exchanges energy and credit policies...   \n",
       "6  conservation and forestry policies and statute...   \n",
       "7  courts intellectual property and the internet ...   \n",
       "8  defense department of commerce department of j...   \n",
       "9  disability assistance and memorial affairs the...   \n",
       "\n",
       "                              committee_description3  \n",
       "0  antitrust commercial administrative law subcom...  \n",
       "1  biotechnology horticulture research policies s...  \n",
       "2  children families subcommittee jurisdiction wi...  \n",
       "3  commerce justice science related agencies depa...  \n",
       "4  commission security cooperation europe commiss...  \n",
       "5  commodity exchanges energy credit policies sta...  \n",
       "6  conservation forestry policies statutes relati...  \n",
       "7  courts intellectual property internet subcommi...  \n",
       "8  defense department commerce department justice...  \n",
       "9  disability assistance memorial affairs subcomm...  \n",
       "\n",
       "[10 rows x 31 columns]"
      ]
     },
     "execution_count": 71,
     "metadata": {},
     "output_type": "execute_result"
    }
   ],
   "source": [
    "merged.head(10)"
   ]
  },
  {
   "cell_type": "markdown",
   "id": "5d80d914",
   "metadata": {},
   "source": [
    "### Matching with Member Committee Assignments"
   ]
  },
  {
   "cell_type": "code",
   "execution_count": 72,
   "id": "ed4d31f8",
   "metadata": {},
   "outputs": [
    {
     "data": {
      "text/html": [
       "<div>\n",
       "<style scoped>\n",
       "    .dataframe tbody tr th:only-of-type {\n",
       "        vertical-align: middle;\n",
       "    }\n",
       "\n",
       "    .dataframe tbody tr th {\n",
       "        vertical-align: top;\n",
       "    }\n",
       "\n",
       "    .dataframe thead th {\n",
       "        text-align: right;\n",
       "    }\n",
       "</style>\n",
       "<table border=\"1\" class=\"dataframe\">\n",
       "  <thead>\n",
       "    <tr style=\"text-align: right;\">\n",
       "      <th></th>\n",
       "      <th>committee</th>\n",
       "      <th>name</th>\n",
       "      <th>party</th>\n",
       "      <th>rank</th>\n",
       "      <th>bioguide</th>\n",
       "    </tr>\n",
       "  </thead>\n",
       "  <tbody>\n",
       "    <tr>\n",
       "      <th>0</th>\n",
       "      <td>SSAF</td>\n",
       "      <td>Debbie Stabenow</td>\n",
       "      <td>majority</td>\n",
       "      <td>1</td>\n",
       "      <td>S000770</td>\n",
       "    </tr>\n",
       "    <tr>\n",
       "      <th>1</th>\n",
       "      <td>SSAF</td>\n",
       "      <td>Patrick J. Leahy</td>\n",
       "      <td>majority</td>\n",
       "      <td>2</td>\n",
       "      <td>L000174</td>\n",
       "    </tr>\n",
       "    <tr>\n",
       "      <th>2</th>\n",
       "      <td>SSAF</td>\n",
       "      <td>Sherrod Brown</td>\n",
       "      <td>majority</td>\n",
       "      <td>3</td>\n",
       "      <td>B000944</td>\n",
       "    </tr>\n",
       "  </tbody>\n",
       "</table>\n",
       "</div>"
      ],
      "text/plain": [
       "  committee              name     party  rank bioguide\n",
       "0      SSAF   Debbie Stabenow  majority     1  S000770\n",
       "1      SSAF  Patrick J. Leahy  majority     2  L000174\n",
       "2      SSAF     Sherrod Brown  majority     3  B000944"
      ]
     },
     "execution_count": 72,
     "metadata": {},
     "output_type": "execute_result"
    }
   ],
   "source": [
    "df_committee_members.head(3)"
   ]
  },
  {
   "cell_type": "code",
   "execution_count": 73,
   "id": "667b4532",
   "metadata": {},
   "outputs": [
    {
     "data": {
      "text/plain": [
       "91"
      ]
     },
     "execution_count": 73,
     "metadata": {},
     "output_type": "execute_result"
    }
   ],
   "source": [
    "similar(\"fuzzy wuzzy was a bear\", \"wuzzy fuzzy was a bear\")"
   ]
  },
  {
   "cell_type": "code",
   "execution_count": 74,
   "id": "86d1d356",
   "metadata": {},
   "outputs": [
    {
     "data": {
      "text/plain": [
       "75"
      ]
     },
     "execution_count": 74,
     "metadata": {},
     "output_type": "execute_result"
    }
   ],
   "source": [
    "similar(\"Thomas H Tuberville\", \"Tommy Tuberville\")"
   ]
  },
  {
   "cell_type": "code",
   "execution_count": 75,
   "id": "53bb54be",
   "metadata": {},
   "outputs": [
    {
     "data": {
      "text/plain": [
       "75"
      ]
     },
     "execution_count": 75,
     "metadata": {},
     "output_type": "execute_result"
    }
   ],
   "source": [
    "similar(\"Shelley M Capito\", \"Shelley Moore Capito\")"
   ]
  },
  {
   "cell_type": "code",
   "execution_count": 76,
   "id": "b3242d63",
   "metadata": {},
   "outputs": [
    {
     "ename": "KeyboardInterrupt",
     "evalue": "",
     "output_type": "error",
     "traceback": [
      "\u001b[0;31m---------------------------------------------------------------------------\u001b[0m",
      "\u001b[0;31mKeyboardInterrupt\u001b[0m                         Traceback (most recent call last)",
      "\u001b[0;32m/var/folders/c2/zngcssg14mv23nw0yr96s0wm0000gn/T/ipykernel_25622/2945711219.py\u001b[0m in \u001b[0;36m<module>\u001b[0;34m\u001b[0m\n\u001b[1;32m     12\u001b[0m \u001b[0;34m\u001b[0m\u001b[0m\n\u001b[1;32m     13\u001b[0m     \u001b[0;31m#Iterate through each row of member committee assignment dataframe for each row of merged dataframe\u001b[0m\u001b[0;34m\u001b[0m\u001b[0;34m\u001b[0m\u001b[0m\n\u001b[0;32m---> 14\u001b[0;31m     \u001b[0;32mfor\u001b[0m \u001b[0mindex\u001b[0m\u001b[0;34m,\u001b[0m \u001b[0mmember\u001b[0m \u001b[0;32min\u001b[0m \u001b[0mdf_committee_members\u001b[0m\u001b[0;34m.\u001b[0m\u001b[0miterrows\u001b[0m\u001b[0;34m(\u001b[0m\u001b[0;34m)\u001b[0m\u001b[0;34m:\u001b[0m\u001b[0;34m\u001b[0m\u001b[0;34m\u001b[0m\u001b[0m\n\u001b[0m\u001b[1;32m     15\u001b[0m \u001b[0;31m#         print(index, member['name'])\u001b[0m\u001b[0;34m\u001b[0m\u001b[0;34m\u001b[0m\u001b[0m\n\u001b[1;32m     16\u001b[0m \u001b[0;31m#         print(index, member['committee'])\u001b[0m\u001b[0;34m\u001b[0m\u001b[0;34m\u001b[0m\u001b[0m\n",
      "\u001b[0;32m~/.pyenv/versions/3.10.0/lib/python3.10/site-packages/pandas/core/frame.py\u001b[0m in \u001b[0;36miterrows\u001b[0;34m(self)\u001b[0m\n\u001b[1;32m   1261\u001b[0m         \u001b[0mklass\u001b[0m \u001b[0;34m=\u001b[0m \u001b[0mself\u001b[0m\u001b[0;34m.\u001b[0m\u001b[0m_constructor_sliced\u001b[0m\u001b[0;34m\u001b[0m\u001b[0;34m\u001b[0m\u001b[0m\n\u001b[1;32m   1262\u001b[0m         \u001b[0;32mfor\u001b[0m \u001b[0mk\u001b[0m\u001b[0;34m,\u001b[0m \u001b[0mv\u001b[0m \u001b[0;32min\u001b[0m \u001b[0mzip\u001b[0m\u001b[0;34m(\u001b[0m\u001b[0mself\u001b[0m\u001b[0;34m.\u001b[0m\u001b[0mindex\u001b[0m\u001b[0;34m,\u001b[0m \u001b[0mself\u001b[0m\u001b[0;34m.\u001b[0m\u001b[0mvalues\u001b[0m\u001b[0;34m)\u001b[0m\u001b[0;34m:\u001b[0m\u001b[0;34m\u001b[0m\u001b[0;34m\u001b[0m\u001b[0m\n\u001b[0;32m-> 1263\u001b[0;31m             \u001b[0ms\u001b[0m \u001b[0;34m=\u001b[0m \u001b[0mklass\u001b[0m\u001b[0;34m(\u001b[0m\u001b[0mv\u001b[0m\u001b[0;34m,\u001b[0m \u001b[0mindex\u001b[0m\u001b[0;34m=\u001b[0m\u001b[0mcolumns\u001b[0m\u001b[0;34m,\u001b[0m \u001b[0mname\u001b[0m\u001b[0;34m=\u001b[0m\u001b[0mk\u001b[0m\u001b[0;34m)\u001b[0m\u001b[0;34m\u001b[0m\u001b[0;34m\u001b[0m\u001b[0m\n\u001b[0m\u001b[1;32m   1264\u001b[0m             \u001b[0;32myield\u001b[0m \u001b[0mk\u001b[0m\u001b[0;34m,\u001b[0m \u001b[0ms\u001b[0m\u001b[0;34m\u001b[0m\u001b[0;34m\u001b[0m\u001b[0m\n\u001b[1;32m   1265\u001b[0m \u001b[0;34m\u001b[0m\u001b[0m\n",
      "\u001b[0;32m~/.pyenv/versions/3.10.0/lib/python3.10/site-packages/pandas/core/series.py\u001b[0m in \u001b[0;36m__init__\u001b[0;34m(self, data, index, dtype, name, copy, fastpath)\u001b[0m\n\u001b[1;32m    428\u001b[0m                 \u001b[0mindex\u001b[0m \u001b[0;34m=\u001b[0m \u001b[0mibase\u001b[0m\u001b[0;34m.\u001b[0m\u001b[0mdefault_index\u001b[0m\u001b[0;34m(\u001b[0m\u001b[0mlen\u001b[0m\u001b[0;34m(\u001b[0m\u001b[0mdata\u001b[0m\u001b[0;34m)\u001b[0m\u001b[0;34m)\u001b[0m\u001b[0;34m\u001b[0m\u001b[0;34m\u001b[0m\u001b[0m\n\u001b[1;32m    429\u001b[0m             \u001b[0;32melif\u001b[0m \u001b[0mis_list_like\u001b[0m\u001b[0;34m(\u001b[0m\u001b[0mdata\u001b[0m\u001b[0;34m)\u001b[0m\u001b[0;34m:\u001b[0m\u001b[0;34m\u001b[0m\u001b[0;34m\u001b[0m\u001b[0m\n\u001b[0;32m--> 430\u001b[0;31m                 \u001b[0mcom\u001b[0m\u001b[0;34m.\u001b[0m\u001b[0mrequire_length_match\u001b[0m\u001b[0;34m(\u001b[0m\u001b[0mdata\u001b[0m\u001b[0;34m,\u001b[0m \u001b[0mindex\u001b[0m\u001b[0;34m)\u001b[0m\u001b[0;34m\u001b[0m\u001b[0;34m\u001b[0m\u001b[0m\n\u001b[0m\u001b[1;32m    431\u001b[0m \u001b[0;34m\u001b[0m\u001b[0m\n\u001b[1;32m    432\u001b[0m             \u001b[0;31m# create/copy the manager\u001b[0m\u001b[0;34m\u001b[0m\u001b[0;34m\u001b[0m\u001b[0m\n",
      "\u001b[0;32m~/.pyenv/versions/3.10.0/lib/python3.10/site-packages/pandas/core/common.py\u001b[0m in \u001b[0;36mrequire_length_match\u001b[0;34m(data, index)\u001b[0m\n\u001b[1;32m    528\u001b[0m     \u001b[0mCheck\u001b[0m \u001b[0mthe\u001b[0m \u001b[0mlength\u001b[0m \u001b[0mof\u001b[0m \u001b[0mdata\u001b[0m \u001b[0mmatches\u001b[0m \u001b[0mthe\u001b[0m \u001b[0mlength\u001b[0m \u001b[0mof\u001b[0m \u001b[0mthe\u001b[0m \u001b[0mindex\u001b[0m\u001b[0;34m.\u001b[0m\u001b[0;34m\u001b[0m\u001b[0;34m\u001b[0m\u001b[0m\n\u001b[1;32m    529\u001b[0m     \"\"\"\n\u001b[0;32m--> 530\u001b[0;31m     \u001b[0;32mif\u001b[0m \u001b[0mlen\u001b[0m\u001b[0;34m(\u001b[0m\u001b[0mdata\u001b[0m\u001b[0;34m)\u001b[0m \u001b[0;34m!=\u001b[0m \u001b[0mlen\u001b[0m\u001b[0;34m(\u001b[0m\u001b[0mindex\u001b[0m\u001b[0;34m)\u001b[0m\u001b[0;34m:\u001b[0m\u001b[0;34m\u001b[0m\u001b[0;34m\u001b[0m\u001b[0m\n\u001b[0m\u001b[1;32m    531\u001b[0m         raise ValueError(\n\u001b[1;32m    532\u001b[0m             \u001b[0;34m\"Length of values \"\u001b[0m\u001b[0;34m\u001b[0m\u001b[0;34m\u001b[0m\u001b[0m\n",
      "\u001b[0;31mKeyboardInterrupt\u001b[0m: "
     ]
    }
   ],
   "source": [
    "#test\n",
    "\n",
    "#establish an empty list\n",
    "ls_rows2 = []\n",
    "\n",
    "# iterate through each row of merged dataframe\n",
    "for index, row in merged.iterrows():\n",
    "#     print(row)\n",
    "#     print(index, row['politician'])\n",
    "#     print(index, row['committee'])\n",
    "#     print('a')\n",
    "    \n",
    "    #Iterate through each row of member committee assignment dataframe for each row of merged dataframe\n",
    "    for index, member in df_committee_members.iterrows():\n",
    "#         print(index, member['name'])\n",
    "#         print(index, member['committee'])\n",
    "#         print('b')\n",
    "\n",
    "      # match names of trades to members with algorithm\n",
    "        name_score = similar(row['politician'], member['name'])\n",
    "#         print(name_score)\n",
    "        if row['committee'] == member['committee'] and name_score > 60:\n",
    "#             print('eureka')\n",
    "            \n",
    "            # add this trade + commitee description to merged\n",
    "            new_row2 = list(chain(row, member))\n",
    "#             print(new_row2)\n",
    "#             print('c')\n",
    "            ls_rows2.append(new_row2)\n",
    "\n"
   ]
  },
  {
   "cell_type": "code",
   "execution_count": 77,
   "id": "b2d3780a",
   "metadata": {},
   "outputs": [
    {
     "data": {
      "text/plain": [
       "[['02/24/2022',\n",
       "  '03/11/2022',\n",
       "  'Shelley M Capito',\n",
       "  'Spouse',\n",
       "  'NEE',\n",
       "  '1001 - 15000',\n",
       "  'NextEra Energy, Inc. Common Stock',\n",
       "  'Stock',\n",
       "  'Sale (Partial)',\n",
       "  '--',\n",
       "  'https://efdsearch.senate.gov/search/view/ptr/e7893c34-0761-4c2b-ac52-e303f166517f/',\n",
       "  nan,\n",
       "  nan,\n",
       "  '1001',\n",
       "  15000.0,\n",
       "  'NEE',\n",
       "  'NextEra Energy, Inc.',\n",
       "  'Utilities',\n",
       "  'Utilities—Regulated Electric',\n",
       "  'NextEra Energy, Inc., through its subsidiaries, generates, transmits, distributes, and sells electric power to retail and wholesale customers in North America. The company generates electricity through wind, solar, nuclear, and fossil fuel, such as coal and natural gas facilities. It also develops, constructs, and operates long-term contracted assets with a focus on renewable generation facilities, electric transmission facilities, and battery storage projects; and owns, develops, constructs, manages and operates electric generation facilities in wholesale energy markets. As of December 31, 2020, the company operated approximately 28,400 megawatts of net generating capacity. It serves approximately 11 million people through approximately 5.6 million customer accounts in the east and lower west coasts of Florida with approximately 76,200 circuit miles of transmission and distribution lines and 673 substations. The company was formerly known as FPL Group, Inc. and changed its name to NextEra Energy, Inc. in 2010. NextEra Energy, Inc. was founded in 1925 and is headquartered in Juno Beach, Florida.',\n",
       "  'https://www.nexteraenergy.com',\n",
       "  'Utilities, Utilities—Regulated Electric, NextEra Energy, Inc., through its subsidiaries, generates, transmits, distributes, and sells electric power to retail and wholesale customers in North America. The company generates electricity through wind, solar, nuclear, and fossil fuel, such as coal and natural gas facilities. It also develops, constructs, and operates long-term contracted assets with a focus on renewable generation facilities, electric transmission facilities, and battery storage projects; and owns, develops, constructs, manages and operates electric generation facilities in wholesale energy markets. As of December 31, 2020, the company operated approximately 28,400 megawatts of net generating capacity. It serves approximately 11 million people through approximately 5.6 million customer accounts in the east and lower west coasts of Florida with approximately 76,200 circuit miles of transmission and distribution lines and 673 substations. The company was formerly known as FPL Group, Inc. and changed its name to NextEra Energy, Inc. in 2010. NextEra Energy, Inc. was founded in 1925 and is headquartered in Juno Beach, Florida.',\n",
       "  'utilities utilities—regulated electric',\n",
       "  'utilities utilities—regulated electric nextera energy inc through its subsidiaries generates transmits distributes and sells electric power to retail and wholesale customers in north america the company generates electricity through wind solar nuclear and fossil fuel such as coal and natural gas facilities it also develops constructs and operates longterm contracted assets with a focus on renewable generation facilities electric transmission facilities and battery storage projects and owns develops constructs manages and operates electric generation facilities in wholesale energy markets as of december 31 2020 the company operated approximately 28400 megawatts of net generating capacity it serves approximately 11 million people through approximately 56 million customer accounts in the east and lower west coasts of florida with approximately 76200 circuit miles of transmission and distribution lines and 673 substations the company was formerly known as fpl group inc and changed its name to nextera energy inc in 2010 nextera energy inc was founded in 1925 and is headquartered in juno beach florida',\n",
       "  'utilities utilities—regulated electric nextera energy inc subsidiaries generates transmits distributes sells electric power retail wholesale customers north america company generates electricity wind solar nuclear fossil fuel coal natural gas facilities also develops constructs operates longterm contracted assets focus renewable generation facilities electric transmission facilities battery storage projects owns develops constructs manages operates electric generation facilities wholesale energy markets december   company operated approximately  megawatts net generating capacity serves approximately  million people approximately  million customer accounts east lower west coasts florida approximately  circuit miles transmission distribution lines  substations company formerly known fpl group inc changed name nextera energy inc  nextera energy inc founded  headquartered juno beach florida',\n",
       "  'SSAP',\n",
       "  'Senate Committee on Appropriations',\n",
       "  'The Senate Appropriations Committee is the largest committee in the U.S. Senate, consisting of 30 members in the 117th Congress. Its role is defined by the U.S. Constitution, which requires \"appropriations made by law\" prior to the expenditure of any money from the Federal treasury.',\n",
       "  'https://www.appropriations.senate.gov/about/jurisdiction',\n",
       "  'senate committee on appropriations the senate appropriations committee is the largest committee in the us senate consisting of 30 members in the 117th congress its role is defined by the us constitution which requires appropriations made by law prior to the expenditure of any money from the federal treasury',\n",
       "  'senate committee appropriations senate appropriations committee largest committee us senate consisting  members th congress role defined us constitution requires appropriations made law prior expenditure money federal treasury',\n",
       "  'SSAP',\n",
       "  'Shelley Moore Capito',\n",
       "  'minority',\n",
       "  10,\n",
       "  'C001047'],\n",
       " ['01/14/2022',\n",
       "  '02/14/2022',\n",
       "  'Thomas H Tuberville',\n",
       "  'Joint',\n",
       "  'NEE',\n",
       "  '15001 - 50000',\n",
       "  'NextEra Energy, Inc. Common Stock',\n",
       "  'Stock',\n",
       "  'Sale (Full)',\n",
       "  '--',\n",
       "  'https://efdsearch.senate.gov/search/view/ptr/c9da6bea-fa14-4a3a-9d8b-1745e834da59/',\n",
       "  nan,\n",
       "  nan,\n",
       "  '15001',\n",
       "  50000.0,\n",
       "  'NEE',\n",
       "  'NextEra Energy, Inc.',\n",
       "  'Utilities',\n",
       "  'Utilities—Regulated Electric',\n",
       "  'NextEra Energy, Inc., through its subsidiaries, generates, transmits, distributes, and sells electric power to retail and wholesale customers in North America. The company generates electricity through wind, solar, nuclear, and fossil fuel, such as coal and natural gas facilities. It also develops, constructs, and operates long-term contracted assets with a focus on renewable generation facilities, electric transmission facilities, and battery storage projects; and owns, develops, constructs, manages and operates electric generation facilities in wholesale energy markets. As of December 31, 2020, the company operated approximately 28,400 megawatts of net generating capacity. It serves approximately 11 million people through approximately 5.6 million customer accounts in the east and lower west coasts of Florida with approximately 76,200 circuit miles of transmission and distribution lines and 673 substations. The company was formerly known as FPL Group, Inc. and changed its name to NextEra Energy, Inc. in 2010. NextEra Energy, Inc. was founded in 1925 and is headquartered in Juno Beach, Florida.',\n",
       "  'https://www.nexteraenergy.com',\n",
       "  'Utilities, Utilities—Regulated Electric, NextEra Energy, Inc., through its subsidiaries, generates, transmits, distributes, and sells electric power to retail and wholesale customers in North America. The company generates electricity through wind, solar, nuclear, and fossil fuel, such as coal and natural gas facilities. It also develops, constructs, and operates long-term contracted assets with a focus on renewable generation facilities, electric transmission facilities, and battery storage projects; and owns, develops, constructs, manages and operates electric generation facilities in wholesale energy markets. As of December 31, 2020, the company operated approximately 28,400 megawatts of net generating capacity. It serves approximately 11 million people through approximately 5.6 million customer accounts in the east and lower west coasts of Florida with approximately 76,200 circuit miles of transmission and distribution lines and 673 substations. The company was formerly known as FPL Group, Inc. and changed its name to NextEra Energy, Inc. in 2010. NextEra Energy, Inc. was founded in 1925 and is headquartered in Juno Beach, Florida.',\n",
       "  'utilities utilities—regulated electric',\n",
       "  'utilities utilities—regulated electric nextera energy inc through its subsidiaries generates transmits distributes and sells electric power to retail and wholesale customers in north america the company generates electricity through wind solar nuclear and fossil fuel such as coal and natural gas facilities it also develops constructs and operates longterm contracted assets with a focus on renewable generation facilities electric transmission facilities and battery storage projects and owns develops constructs manages and operates electric generation facilities in wholesale energy markets as of december 31 2020 the company operated approximately 28400 megawatts of net generating capacity it serves approximately 11 million people through approximately 56 million customer accounts in the east and lower west coasts of florida with approximately 76200 circuit miles of transmission and distribution lines and 673 substations the company was formerly known as fpl group inc and changed its name to nextera energy inc in 2010 nextera energy inc was founded in 1925 and is headquartered in juno beach florida',\n",
       "  'utilities utilities—regulated electric nextera energy inc subsidiaries generates transmits distributes sells electric power retail wholesale customers north america company generates electricity wind solar nuclear fossil fuel coal natural gas facilities also develops constructs operates longterm contracted assets focus renewable generation facilities electric transmission facilities battery storage projects owns develops constructs manages operates electric generation facilities wholesale energy markets december   company operated approximately  megawatts net generating capacity serves approximately  million people approximately  million customer accounts east lower west coasts florida approximately  circuit miles transmission distribution lines  substations company formerly known fpl group inc changed name nextera energy inc  nextera energy inc founded  headquartered juno beach florida',\n",
       "  'SSHR09',\n",
       "  'Children and Families',\n",
       "  'The Subcommittee has jurisdiction over a wide range of issues including Head Start, child care and child support such as the Child Care & Development Block Grant, the Family Medical Leave Act, National Service, women and children’s healthcare, and other issues involving children, youth, and families.',\n",
       "  'https://www.help.senate.gov/about/subcommittees',\n",
       "  'children and families the subcommittee has jurisdiction over a wide range of issues including head start child care and child support such as the child care  development block grant the family medical leave act national service women and children’s healthcare and other issues involving children youth and families',\n",
       "  'children families subcommittee jurisdiction wide range issues including head start child care child support child care development block grant family medical leave act national service women children’s healthcare issues involving children youth families',\n",
       "  'SSHR09',\n",
       "  'Tommy Tuberville',\n",
       "  'minority',\n",
       "  7,\n",
       "  'T000278']]"
      ]
     },
     "execution_count": 77,
     "metadata": {},
     "output_type": "execute_result"
    }
   ],
   "source": [
    "ls_rows2[0:2]"
   ]
  },
  {
   "cell_type": "code",
   "execution_count": 78,
   "id": "08f7f4c8",
   "metadata": {},
   "outputs": [],
   "source": [
    "edited = pd.DataFrame(ls_rows2)\n",
    "edited.columns =['transaction_date', 'disclosure_date', 'politician', 'owner', 'ticker', 'amount', 'asset_description', 'asset_type', 'transaction_type', 'comment', 'ptr_link', 'location', 'cap_gains', 'amount_low', 'amount_high', 'ticker2', 'name', 'sector', 'industry', 'longbusinesssummary', 'website', 'stock_description','sector_industry', 'stock_description2', 'stock_description3', 'committee', 'committee_fullname', 'committee_description', 'website','committee_description2', 'committee_description3', 'committee', 'name', 'party', 'rank', 'bioguide']"
   ]
  },
  {
   "cell_type": "code",
   "execution_count": 80,
   "id": "83dff823",
   "metadata": {},
   "outputs": [
    {
     "data": {
      "text/plain": [
       "671"
      ]
     },
     "execution_count": 80,
     "metadata": {},
     "output_type": "execute_result"
    }
   ],
   "source": [
    "len(edited)"
   ]
  },
  {
   "cell_type": "code",
   "execution_count": 81,
   "id": "2fb34ee6",
   "metadata": {},
   "outputs": [
    {
     "data": {
      "text/html": [
       "<div>\n",
       "<style scoped>\n",
       "    .dataframe tbody tr th:only-of-type {\n",
       "        vertical-align: middle;\n",
       "    }\n",
       "\n",
       "    .dataframe tbody tr th {\n",
       "        vertical-align: top;\n",
       "    }\n",
       "\n",
       "    .dataframe thead th {\n",
       "        text-align: right;\n",
       "    }\n",
       "</style>\n",
       "<table border=\"1\" class=\"dataframe\">\n",
       "  <thead>\n",
       "    <tr style=\"text-align: right;\">\n",
       "      <th></th>\n",
       "      <th>transaction_date</th>\n",
       "      <th>disclosure_date</th>\n",
       "      <th>politician</th>\n",
       "      <th>owner</th>\n",
       "      <th>ticker</th>\n",
       "      <th>amount</th>\n",
       "      <th>asset_description</th>\n",
       "      <th>asset_type</th>\n",
       "      <th>transaction_type</th>\n",
       "      <th>comment</th>\n",
       "      <th>...</th>\n",
       "      <th>committee_fullname</th>\n",
       "      <th>committee_description</th>\n",
       "      <th>website</th>\n",
       "      <th>committee_description2</th>\n",
       "      <th>committee_description3</th>\n",
       "      <th>committee</th>\n",
       "      <th>name</th>\n",
       "      <th>party</th>\n",
       "      <th>rank</th>\n",
       "      <th>bioguide</th>\n",
       "    </tr>\n",
       "  </thead>\n",
       "  <tbody>\n",
       "    <tr>\n",
       "      <th>0</th>\n",
       "      <td>02/24/2022</td>\n",
       "      <td>03/11/2022</td>\n",
       "      <td>Shelley M Capito</td>\n",
       "      <td>Spouse</td>\n",
       "      <td>NEE</td>\n",
       "      <td>1001 - 15000</td>\n",
       "      <td>NextEra Energy, Inc. Common Stock</td>\n",
       "      <td>Stock</td>\n",
       "      <td>Sale (Partial)</td>\n",
       "      <td>--</td>\n",
       "      <td>...</td>\n",
       "      <td>Senate Committee on Appropriations</td>\n",
       "      <td>The Senate Appropriations Committee is the lar...</td>\n",
       "      <td>https://www.appropriations.senate.gov/about/ju...</td>\n",
       "      <td>senate committee on appropriations the senate ...</td>\n",
       "      <td>senate committee appropriations senate appropr...</td>\n",
       "      <td>SSAP</td>\n",
       "      <td>Shelley Moore Capito</td>\n",
       "      <td>minority</td>\n",
       "      <td>10</td>\n",
       "      <td>C001047</td>\n",
       "    </tr>\n",
       "    <tr>\n",
       "      <th>1</th>\n",
       "      <td>01/14/2022</td>\n",
       "      <td>02/14/2022</td>\n",
       "      <td>Thomas H Tuberville</td>\n",
       "      <td>Joint</td>\n",
       "      <td>NEE</td>\n",
       "      <td>15001 - 50000</td>\n",
       "      <td>NextEra Energy, Inc. Common Stock</td>\n",
       "      <td>Stock</td>\n",
       "      <td>Sale (Full)</td>\n",
       "      <td>--</td>\n",
       "      <td>...</td>\n",
       "      <td>Children and Families</td>\n",
       "      <td>The Subcommittee has jurisdiction over a wide ...</td>\n",
       "      <td>https://www.help.senate.gov/about/subcommittees</td>\n",
       "      <td>children and families the subcommittee has jur...</td>\n",
       "      <td>children families subcommittee jurisdiction wi...</td>\n",
       "      <td>SSHR09</td>\n",
       "      <td>Tommy Tuberville</td>\n",
       "      <td>minority</td>\n",
       "      <td>7</td>\n",
       "      <td>T000278</td>\n",
       "    </tr>\n",
       "    <tr>\n",
       "      <th>2</th>\n",
       "      <td>01/14/2022</td>\n",
       "      <td>02/14/2022</td>\n",
       "      <td>Thomas H Tuberville</td>\n",
       "      <td>Joint</td>\n",
       "      <td>NEE</td>\n",
       "      <td>15001 - 50000</td>\n",
       "      <td>NextEra Energy, Inc. Common Stock</td>\n",
       "      <td>Stock</td>\n",
       "      <td>Sale (Full)</td>\n",
       "      <td>--</td>\n",
       "      <td>...</td>\n",
       "      <td>Courts, Intellectual Property, and the Internet</td>\n",
       "      <td>The Subcommittee on Courts, Intellectual Prope...</td>\n",
       "      <td>https://judiciary.house.gov/subcommittees/subc...</td>\n",
       "      <td>courts intellectual property and the internet ...</td>\n",
       "      <td>courts intellectual property internet subcommi...</td>\n",
       "      <td>HSJU03</td>\n",
       "      <td>Thomas Massie</td>\n",
       "      <td>minority</td>\n",
       "      <td>7</td>\n",
       "      <td>M001184</td>\n",
       "    </tr>\n",
       "    <tr>\n",
       "      <th>3</th>\n",
       "      <td>01/14/2022</td>\n",
       "      <td>02/14/2022</td>\n",
       "      <td>Thomas H Tuberville</td>\n",
       "      <td>Joint</td>\n",
       "      <td>NEE</td>\n",
       "      <td>15001 - 50000</td>\n",
       "      <td>NextEra Energy, Inc. Common Stock</td>\n",
       "      <td>Stock</td>\n",
       "      <td>Sale (Full)</td>\n",
       "      <td>--</td>\n",
       "      <td>...</td>\n",
       "      <td>Employment and Workplace Safety</td>\n",
       "      <td>The Subcommittee Chairman is Senator John Hick...</td>\n",
       "      <td>https://www.help.senate.gov/about/subcommittees</td>\n",
       "      <td>employment and workplace safety the subcommitt...</td>\n",
       "      <td>employment workplace safety subcommittee chair...</td>\n",
       "      <td>SSHR11</td>\n",
       "      <td>Tommy Tuberville</td>\n",
       "      <td>minority</td>\n",
       "      <td>2</td>\n",
       "      <td>T000278</td>\n",
       "    </tr>\n",
       "    <tr>\n",
       "      <th>4</th>\n",
       "      <td>01/14/2022</td>\n",
       "      <td>02/14/2022</td>\n",
       "      <td>Thomas H Tuberville</td>\n",
       "      <td>Joint</td>\n",
       "      <td>NEE</td>\n",
       "      <td>15001 - 50000</td>\n",
       "      <td>NextEra Energy, Inc. Common Stock</td>\n",
       "      <td>Stock</td>\n",
       "      <td>Sale (Full)</td>\n",
       "      <td>--</td>\n",
       "      <td>...</td>\n",
       "      <td>Select Revenue Measures</td>\n",
       "      <td>The jurisdiction of the Subcommittee on Select...</td>\n",
       "      <td>https://waysandmeans.house.gov/subcommittees/S...</td>\n",
       "      <td>select revenue measures the jurisdiction of th...</td>\n",
       "      <td>select revenue measures jurisdiction subcommit...</td>\n",
       "      <td>HSWM05</td>\n",
       "      <td>Thomas R. Suozzi</td>\n",
       "      <td>majority</td>\n",
       "      <td>9</td>\n",
       "      <td>S001201</td>\n",
       "    </tr>\n",
       "    <tr>\n",
       "      <th>...</th>\n",
       "      <td>...</td>\n",
       "      <td>...</td>\n",
       "      <td>...</td>\n",
       "      <td>...</td>\n",
       "      <td>...</td>\n",
       "      <td>...</td>\n",
       "      <td>...</td>\n",
       "      <td>...</td>\n",
       "      <td>...</td>\n",
       "      <td>...</td>\n",
       "      <td>...</td>\n",
       "      <td>...</td>\n",
       "      <td>...</td>\n",
       "      <td>...</td>\n",
       "      <td>...</td>\n",
       "      <td>...</td>\n",
       "      <td>...</td>\n",
       "      <td>...</td>\n",
       "      <td>...</td>\n",
       "      <td>...</td>\n",
       "      <td>...</td>\n",
       "    </tr>\n",
       "    <tr>\n",
       "      <th>666</th>\n",
       "      <td>2020-11-17</td>\n",
       "      <td>12/09/2020</td>\n",
       "      <td>Hon. Josh Gottheimer</td>\n",
       "      <td>joint</td>\n",
       "      <td>MSFT</td>\n",
       "      <td>250001 - 500000</td>\n",
       "      <td>Microsoft Corporation</td>\n",
       "      <td>NaN</td>\n",
       "      <td>sale_full</td>\n",
       "      <td>NaN</td>\n",
       "      <td>...</td>\n",
       "      <td>Tourism, Trade, and Export Promotion</td>\n",
       "      <td>The Subcommittee on Tourism, Trade, and Export...</td>\n",
       "      <td>https://www.commerce.senate.gov/tourism-trade-...</td>\n",
       "      <td>tourism trade and export promotion the subcomm...</td>\n",
       "      <td>tourism trade export promotion subcommittee to...</td>\n",
       "      <td>SSCM39</td>\n",
       "      <td>Ron Johnson</td>\n",
       "      <td>minority</td>\n",
       "      <td>4</td>\n",
       "      <td>J000293</td>\n",
       "    </tr>\n",
       "    <tr>\n",
       "      <th>667</th>\n",
       "      <td>2020-11-17</td>\n",
       "      <td>12/09/2020</td>\n",
       "      <td>Hon. Josh Gottheimer</td>\n",
       "      <td>joint</td>\n",
       "      <td>MSFT</td>\n",
       "      <td>250001 - 500000</td>\n",
       "      <td>Microsoft Corporation</td>\n",
       "      <td>NaN</td>\n",
       "      <td>sale_full</td>\n",
       "      <td>NaN</td>\n",
       "      <td>...</td>\n",
       "      <td>Intelligence and Counterterrorism</td>\n",
       "      <td>The Intelligence and Counterterrorism Subcommi...</td>\n",
       "      <td>https://republicans-homeland.house.gov/subcomm...</td>\n",
       "      <td>intelligence and counterterrorism the intellig...</td>\n",
       "      <td>intelligence counterterrorism intelligence cou...</td>\n",
       "      <td>HSHM05</td>\n",
       "      <td>Josh Gottheimer</td>\n",
       "      <td>majority</td>\n",
       "      <td>5</td>\n",
       "      <td>G000583</td>\n",
       "    </tr>\n",
       "    <tr>\n",
       "      <th>668</th>\n",
       "      <td>2020-11-17</td>\n",
       "      <td>12/09/2020</td>\n",
       "      <td>Hon. Josh Gottheimer</td>\n",
       "      <td>joint</td>\n",
       "      <td>MSFT</td>\n",
       "      <td>250001 - 500000</td>\n",
       "      <td>Microsoft Corporation</td>\n",
       "      <td>NaN</td>\n",
       "      <td>sale_full</td>\n",
       "      <td>NaN</td>\n",
       "      <td>...</td>\n",
       "      <td>Tourism, Trade, and Export Promotion</td>\n",
       "      <td>The Subcommittee on Tourism, Trade, and Export...</td>\n",
       "      <td>https://www.commerce.senate.gov/tourism-trade-...</td>\n",
       "      <td>tourism trade and export promotion the subcomm...</td>\n",
       "      <td>tourism trade export promotion subcommittee to...</td>\n",
       "      <td>SSCM39</td>\n",
       "      <td>Ron Johnson</td>\n",
       "      <td>minority</td>\n",
       "      <td>4</td>\n",
       "      <td>J000293</td>\n",
       "    </tr>\n",
       "    <tr>\n",
       "      <th>669</th>\n",
       "      <td>2020-11-17</td>\n",
       "      <td>12/09/2020</td>\n",
       "      <td>Hon. Josh Gottheimer</td>\n",
       "      <td>joint</td>\n",
       "      <td>MSFT</td>\n",
       "      <td>500001 - 1000000</td>\n",
       "      <td>Microsoft Corporation</td>\n",
       "      <td>NaN</td>\n",
       "      <td>sale_full</td>\n",
       "      <td>NaN</td>\n",
       "      <td>...</td>\n",
       "      <td>Intelligence and Counterterrorism</td>\n",
       "      <td>The Intelligence and Counterterrorism Subcommi...</td>\n",
       "      <td>https://republicans-homeland.house.gov/subcomm...</td>\n",
       "      <td>intelligence and counterterrorism the intellig...</td>\n",
       "      <td>intelligence counterterrorism intelligence cou...</td>\n",
       "      <td>HSHM05</td>\n",
       "      <td>Josh Gottheimer</td>\n",
       "      <td>majority</td>\n",
       "      <td>5</td>\n",
       "      <td>G000583</td>\n",
       "    </tr>\n",
       "    <tr>\n",
       "      <th>670</th>\n",
       "      <td>2020-11-17</td>\n",
       "      <td>12/09/2020</td>\n",
       "      <td>Hon. Josh Gottheimer</td>\n",
       "      <td>joint</td>\n",
       "      <td>MSFT</td>\n",
       "      <td>500001 - 1000000</td>\n",
       "      <td>Microsoft Corporation</td>\n",
       "      <td>NaN</td>\n",
       "      <td>sale_full</td>\n",
       "      <td>NaN</td>\n",
       "      <td>...</td>\n",
       "      <td>Tourism, Trade, and Export Promotion</td>\n",
       "      <td>The Subcommittee on Tourism, Trade, and Export...</td>\n",
       "      <td>https://www.commerce.senate.gov/tourism-trade-...</td>\n",
       "      <td>tourism trade and export promotion the subcomm...</td>\n",
       "      <td>tourism trade export promotion subcommittee to...</td>\n",
       "      <td>SSCM39</td>\n",
       "      <td>Ron Johnson</td>\n",
       "      <td>minority</td>\n",
       "      <td>4</td>\n",
       "      <td>J000293</td>\n",
       "    </tr>\n",
       "  </tbody>\n",
       "</table>\n",
       "<p>671 rows × 36 columns</p>\n",
       "</div>"
      ],
      "text/plain": [
       "    transaction_date disclosure_date            politician   owner ticker  \\\n",
       "0         02/24/2022      03/11/2022      Shelley M Capito  Spouse    NEE   \n",
       "1         01/14/2022      02/14/2022   Thomas H Tuberville   Joint    NEE   \n",
       "2         01/14/2022      02/14/2022   Thomas H Tuberville   Joint    NEE   \n",
       "3         01/14/2022      02/14/2022   Thomas H Tuberville   Joint    NEE   \n",
       "4         01/14/2022      02/14/2022   Thomas H Tuberville   Joint    NEE   \n",
       "..               ...             ...                   ...     ...    ...   \n",
       "666       2020-11-17      12/09/2020  Hon. Josh Gottheimer   joint   MSFT   \n",
       "667       2020-11-17      12/09/2020  Hon. Josh Gottheimer   joint   MSFT   \n",
       "668       2020-11-17      12/09/2020  Hon. Josh Gottheimer   joint   MSFT   \n",
       "669       2020-11-17      12/09/2020  Hon. Josh Gottheimer   joint   MSFT   \n",
       "670       2020-11-17      12/09/2020  Hon. Josh Gottheimer   joint   MSFT   \n",
       "\n",
       "               amount                  asset_description asset_type  \\\n",
       "0        1001 - 15000  NextEra Energy, Inc. Common Stock      Stock   \n",
       "1       15001 - 50000  NextEra Energy, Inc. Common Stock      Stock   \n",
       "2       15001 - 50000  NextEra Energy, Inc. Common Stock      Stock   \n",
       "3       15001 - 50000  NextEra Energy, Inc. Common Stock      Stock   \n",
       "4       15001 - 50000  NextEra Energy, Inc. Common Stock      Stock   \n",
       "..                ...                                ...        ...   \n",
       "666   250001 - 500000              Microsoft Corporation        NaN   \n",
       "667   250001 - 500000              Microsoft Corporation        NaN   \n",
       "668   250001 - 500000              Microsoft Corporation        NaN   \n",
       "669  500001 - 1000000              Microsoft Corporation        NaN   \n",
       "670  500001 - 1000000              Microsoft Corporation        NaN   \n",
       "\n",
       "    transaction_type comment  ...  \\\n",
       "0     Sale (Partial)      --  ...   \n",
       "1        Sale (Full)      --  ...   \n",
       "2        Sale (Full)      --  ...   \n",
       "3        Sale (Full)      --  ...   \n",
       "4        Sale (Full)      --  ...   \n",
       "..               ...     ...  ...   \n",
       "666        sale_full     NaN  ...   \n",
       "667        sale_full     NaN  ...   \n",
       "668        sale_full     NaN  ...   \n",
       "669        sale_full     NaN  ...   \n",
       "670        sale_full     NaN  ...   \n",
       "\n",
       "                                  committee_fullname  \\\n",
       "0                 Senate Committee on Appropriations   \n",
       "1                              Children and Families   \n",
       "2    Courts, Intellectual Property, and the Internet   \n",
       "3                    Employment and Workplace Safety   \n",
       "4                            Select Revenue Measures   \n",
       "..                                               ...   \n",
       "666             Tourism, Trade, and Export Promotion   \n",
       "667                Intelligence and Counterterrorism   \n",
       "668             Tourism, Trade, and Export Promotion   \n",
       "669                Intelligence and Counterterrorism   \n",
       "670             Tourism, Trade, and Export Promotion   \n",
       "\n",
       "                                 committee_description  \\\n",
       "0    The Senate Appropriations Committee is the lar...   \n",
       "1    The Subcommittee has jurisdiction over a wide ...   \n",
       "2    The Subcommittee on Courts, Intellectual Prope...   \n",
       "3    The Subcommittee Chairman is Senator John Hick...   \n",
       "4    The jurisdiction of the Subcommittee on Select...   \n",
       "..                                                 ...   \n",
       "666  The Subcommittee on Tourism, Trade, and Export...   \n",
       "667  The Intelligence and Counterterrorism Subcommi...   \n",
       "668  The Subcommittee on Tourism, Trade, and Export...   \n",
       "669  The Intelligence and Counterterrorism Subcommi...   \n",
       "670  The Subcommittee on Tourism, Trade, and Export...   \n",
       "\n",
       "                                               website  \\\n",
       "0    https://www.appropriations.senate.gov/about/ju...   \n",
       "1      https://www.help.senate.gov/about/subcommittees   \n",
       "2    https://judiciary.house.gov/subcommittees/subc...   \n",
       "3      https://www.help.senate.gov/about/subcommittees   \n",
       "4    https://waysandmeans.house.gov/subcommittees/S...   \n",
       "..                                                 ...   \n",
       "666  https://www.commerce.senate.gov/tourism-trade-...   \n",
       "667  https://republicans-homeland.house.gov/subcomm...   \n",
       "668  https://www.commerce.senate.gov/tourism-trade-...   \n",
       "669  https://republicans-homeland.house.gov/subcomm...   \n",
       "670  https://www.commerce.senate.gov/tourism-trade-...   \n",
       "\n",
       "                                committee_description2  \\\n",
       "0    senate committee on appropriations the senate ...   \n",
       "1    children and families the subcommittee has jur...   \n",
       "2    courts intellectual property and the internet ...   \n",
       "3    employment and workplace safety the subcommitt...   \n",
       "4    select revenue measures the jurisdiction of th...   \n",
       "..                                                 ...   \n",
       "666  tourism trade and export promotion the subcomm...   \n",
       "667  intelligence and counterterrorism the intellig...   \n",
       "668  tourism trade and export promotion the subcomm...   \n",
       "669  intelligence and counterterrorism the intellig...   \n",
       "670  tourism trade and export promotion the subcomm...   \n",
       "\n",
       "                                committee_description3 committee  \\\n",
       "0    senate committee appropriations senate appropr...      SSAP   \n",
       "1    children families subcommittee jurisdiction wi...    SSHR09   \n",
       "2    courts intellectual property internet subcommi...    HSJU03   \n",
       "3    employment workplace safety subcommittee chair...    SSHR11   \n",
       "4    select revenue measures jurisdiction subcommit...    HSWM05   \n",
       "..                                                 ...       ...   \n",
       "666  tourism trade export promotion subcommittee to...    SSCM39   \n",
       "667  intelligence counterterrorism intelligence cou...    HSHM05   \n",
       "668  tourism trade export promotion subcommittee to...    SSCM39   \n",
       "669  intelligence counterterrorism intelligence cou...    HSHM05   \n",
       "670  tourism trade export promotion subcommittee to...    SSCM39   \n",
       "\n",
       "                     name     party rank bioguide  \n",
       "0    Shelley Moore Capito  minority   10  C001047  \n",
       "1        Tommy Tuberville  minority    7  T000278  \n",
       "2           Thomas Massie  minority    7  M001184  \n",
       "3        Tommy Tuberville  minority    2  T000278  \n",
       "4        Thomas R. Suozzi  majority    9  S001201  \n",
       "..                    ...       ...  ...      ...  \n",
       "666           Ron Johnson  minority    4  J000293  \n",
       "667       Josh Gottheimer  majority    5  G000583  \n",
       "668           Ron Johnson  minority    4  J000293  \n",
       "669       Josh Gottheimer  majority    5  G000583  \n",
       "670           Ron Johnson  minority    4  J000293  \n",
       "\n",
       "[671 rows x 36 columns]"
      ]
     },
     "execution_count": 81,
     "metadata": {},
     "output_type": "execute_result"
    }
   ],
   "source": [
    "edited"
   ]
  },
  {
   "cell_type": "code",
   "execution_count": 82,
   "id": "aa7a964e",
   "metadata": {},
   "outputs": [],
   "source": [
    "# edited.to_csv('..//data//processed//members_stocks_and_committees_03_14_2022.csv', index = False)"
   ]
  },
  {
   "cell_type": "code",
   "execution_count": null,
   "id": "8e675aca",
   "metadata": {},
   "outputs": [],
   "source": []
  },
  {
   "cell_type": "code",
   "execution_count": 68,
   "id": "4f82ff3c",
   "metadata": {},
   "outputs": [],
   "source": [
    "# drop the rows where member comittee != ticker_comittee\n"
   ]
  },
  {
   "cell_type": "code",
   "execution_count": 69,
   "id": "c43657cd",
   "metadata": {},
   "outputs": [],
   "source": [
    "# do analysis (edited) "
   ]
  },
  {
   "cell_type": "code",
   "execution_count": null,
   "id": "ef546f00",
   "metadata": {},
   "outputs": [],
   "source": []
  },
  {
   "cell_type": "code",
   "execution_count": null,
   "id": "9398d14b",
   "metadata": {},
   "outputs": [],
   "source": []
  },
  {
   "cell_type": "markdown",
   "id": "8c3e2062",
   "metadata": {},
   "source": [
    "-----"
   ]
  },
  {
   "cell_type": "markdown",
   "id": "d7cebbaf",
   "metadata": {},
   "source": [
    "### Fine-tuning the Algorithms"
   ]
  },
  {
   "cell_type": "markdown",
   "id": "f2897ae5",
   "metadata": {},
   "source": [
    "Exploring types of algorithms on the columns"
   ]
  },
  {
   "cell_type": "markdown",
   "id": "95140e71",
   "metadata": {},
   "source": [
    "##### Simple Ratios"
   ]
  },
  {
   "cell_type": "code",
   "execution_count": 70,
   "id": "1b25e42b",
   "metadata": {},
   "outputs": [],
   "source": [
    "def similar(a, b):\n",
    "    return SequenceMatcher(None, a, b).ratio()"
   ]
  },
  {
   "cell_type": "code",
   "execution_count": 71,
   "id": "d5b4cd9f",
   "metadata": {
    "scrolled": true
   },
   "outputs": [
    {
     "data": {
      "text/plain": [
       "0.9090909090909091"
      ]
     },
     "execution_count": 71,
     "metadata": {},
     "output_type": "execute_result"
    }
   ],
   "source": [
    "# high match\n",
    "similar(\"fuzzy wuzzy was a bear\", \"wuzzy fuzzy was a bear\")"
   ]
  },
  {
   "cell_type": "code",
   "execution_count": 72,
   "id": "702fdaf4",
   "metadata": {},
   "outputs": [
    {
     "data": {
      "text/plain": [
       "0.017437961099932932"
      ]
     },
     "execution_count": 72,
     "metadata": {},
     "output_type": "execute_result"
    }
   ],
   "source": [
    "# should match\n",
    "similar(\"utilities utilities—regulated electric nextera energy inc subsidiaries generates transmits distributes sells electric power retail wholesale customers north america company generates electricity wind solar nuclear fossil fuel coal natural gas facilities also develops constructs operates longterm contracted assets focus renewable generation facilities electric transmission facilities battery storage projects owns develops constructs manages operates electric generation facilities wholesale energy markets december   company operated approximately  megawatts net generating capacity serves approximately  million people approximately  million customer accounts east lower west coasts florida approximately  circuit miles transmission distribution lines  substations company formerly known fpl group inc changed name nextera energy inc  nextera energy inc founded  headquartered juno beach florida\", \"africa global health policy subcommittee deals matters concerning us relations countries africa except like countries north africa specifically covered subcommittees well regional intergovernmental organizations like african union economic community west african states subcommittee’s regional responsibilities include matters within geographic region including matters relating  terrorism nonproliferation  crime illicit narcotics  us foreign assistance programs  promotion us trade exports addition subcommittee global responsibility healthrelated policy including disease outbreak response\")"
   ]
  },
  {
   "cell_type": "code",
   "execution_count": 73,
   "id": "3d54f4d2",
   "metadata": {},
   "outputs": [
    {
     "data": {
      "text/plain": [
       "0.01625072547881602"
      ]
     },
     "execution_count": 73,
     "metadata": {},
     "output_type": "execute_result"
    }
   ],
   "source": [
    "# should match\n",
    "similar(\"technology consumer electronics apple inc designs manufactures markets smartphones personal computers tablets wearables accessories worldwide also sells various related services addition company offers iphone line smartphones mac line personal computers ipad line multipurpose tablets airpods max overear wireless headphone wearables home accessories comprising airpods apple tv apple watch beats products homepod ipod touch provides applecare support services cloud services store services operates various platforms including app store allow customers discover download applications digital content books music video games podcasts additionally company offers various services apple arcade game subscription service apple music offers users curated listening experience ondemand radio stations apple news subscription news magazine service apple tv offers exclusive original content apple card cobranded credit card apple pay cashless payment service well licenses intellectual property company serves consumers small midsized businesses education enterprise government markets distributes thirdparty applications products app store company also sells products retail online stores direct sales force thirdparty cellular network carriers wholesalers retailers resellers apple inc incorporated  headquartered cupertino california\", \"cybersecurity infrastructure protection innovation cyber security infrastructure protection innovation subcommittee jurisdiction cybersecurity infrastructure security agency cisa science technology directorate focuses efforts advance federal network security improve critical infrastructure security also oversees cisa‚Äôs chemical security programs crosscutting science technology initiatives\")"
   ]
  },
  {
   "cell_type": "code",
   "execution_count": 74,
   "id": "39a5a106",
   "metadata": {},
   "outputs": [
    {
     "data": {
      "text/plain": [
       "0.05188679245283019"
      ]
     },
     "execution_count": 74,
     "metadata": {},
     "output_type": "execute_result"
    }
   ],
   "source": [
    "# should match using industry/sector and committee description\n",
    "similar(\"technology consumer electronics\", \"cybersecurity infrastructure protection innovation cyber security infrastructure protection innovation subcommittee jurisdiction cybersecurity infrastructure security agency cisa science technology directorate focuses efforts advance federal network security improve critical infrastructure security also oversees cisa‚Äôs chemical security programs crosscutting science technology initiatives\")"
   ]
  },
  {
   "cell_type": "code",
   "execution_count": 75,
   "id": "4b8d3285",
   "metadata": {},
   "outputs": [
    {
     "data": {
      "text/plain": [
       "0.005719733079122974"
      ]
     },
     "execution_count": 75,
     "metadata": {},
     "output_type": "execute_result"
    }
   ],
   "source": [
    "# should match using industry/sector and committee description\n",
    "similar(\"utilities utilities—regulated electric\", \"All matters relating to energy research, development, and demonstration projects therefor; commercial application of energy technology; Department of Energy research, development, and demonstration programs; Department of Energy laboratories; Department of Energy science activities; Department of Energy international research, development, and demonstration projects; energy supply activities; nuclear, solar, and renewable energy, and other advanced energy technologies; uranium supply and enrichment, and Department of Energy waste management; Department of Energy environmental management research, development, and demonstration; fossil energy research and development; clean coal technology; energy conservation research and development, including building performance, alternate fuels, distributed power systems, and industrial process improvements; pipeline research, development, and demonstration projects; energy standards; other appropriate matters as referred by the Chair; and relevant oversight.\") "
   ]
  },
  {
   "cell_type": "code",
   "execution_count": 76,
   "id": "37aba2d7",
   "metadata": {},
   "outputs": [
    {
     "data": {
      "text/plain": [
       "0.015608740894901144"
      ]
     },
     "execution_count": 76,
     "metadata": {},
     "output_type": "execute_result"
    }
   ],
   "source": [
    "# shouldn't match \n",
    "similar(\"technology consumer electronics apple inc designs manufactures markets smartphones personal computers tablets wearables accessories worldwide also sells various related services addition company offers iphone line smartphones mac line personal computers ipad line multipurpose tablets airpods max overear wireless headphone wearables home accessories comprising airpods apple tv apple watch beats products homepod ipod touch provides applecare support services cloud services store services operates various platforms including app store allow customers discover download applications digital content books music video games podcasts additionally company offers various services apple arcade game subscription service apple music offers users curated listening experience ondemand radio stations apple news subscription news magazine service apple tv offers exclusive original content apple card cobranded credit card apple pay cashless payment service well licenses intellectual property company serves consumers small midsized businesses education enterprise government markets distributes thirdparty applications products app store company also sells products retail online stores direct sales force thirdparty cellular network carriers wholesalers retailers resellers apple inc incorporated  headquartered cupertino california\", \"africa global health policy subcommittee deals matters concerning us relations countries africa except like countries north africa specifically covered subcommittees well regional intergovernmental organizations like african union economic community west african states subcommittee’s regional responsibilities include matters within geographic region including matters relating  terrorism nonproliferation  crime illicit narcotics  us foreign assistance programs  promotion us trade exports addition subcommittee global responsibility healthrelated policy including disease outbreak response\")"
   ]
  },
  {
   "cell_type": "code",
   "execution_count": 77,
   "id": "13dd1f5d",
   "metadata": {},
   "outputs": [],
   "source": [
    "def similar(a,b):\n",
    "    return fuzz.ratio(a, b)"
   ]
  },
  {
   "cell_type": "code",
   "execution_count": 78,
   "id": "1a3b4695",
   "metadata": {
    "scrolled": true
   },
   "outputs": [
    {
     "data": {
      "text/plain": [
       "91"
      ]
     },
     "execution_count": 78,
     "metadata": {},
     "output_type": "execute_result"
    }
   ],
   "source": [
    "# high match\n",
    "similar(\"fuzzy wuzzy was a bear\", \"wuzzy fuzzy was a bear\")"
   ]
  },
  {
   "cell_type": "code",
   "execution_count": 79,
   "id": "25fc91e0",
   "metadata": {},
   "outputs": [
    {
     "data": {
      "text/plain": [
       "2"
      ]
     },
     "execution_count": 79,
     "metadata": {},
     "output_type": "execute_result"
    }
   ],
   "source": [
    "# should match\n",
    "similar(\"utilities utilities—regulated electric nextera energy inc subsidiaries generates transmits distributes sells electric power retail wholesale customers north america company generates electricity wind solar nuclear fossil fuel coal natural gas facilities also develops constructs operates longterm contracted assets focus renewable generation facilities electric transmission facilities battery storage projects owns develops constructs manages operates electric generation facilities wholesale energy markets december   company operated approximately  megawatts net generating capacity serves approximately  million people approximately  million customer accounts east lower west coasts florida approximately  circuit miles transmission distribution lines  substations company formerly known fpl group inc changed name nextera energy inc  nextera energy inc founded  headquartered juno beach florida\", \"africa global health policy subcommittee deals matters concerning us relations countries africa except like countries north africa specifically covered subcommittees well regional intergovernmental organizations like african union economic community west african states subcommittee’s regional responsibilities include matters within geographic region including matters relating  terrorism nonproliferation  crime illicit narcotics  us foreign assistance programs  promotion us trade exports addition subcommittee global responsibility healthrelated policy including disease outbreak response\")"
   ]
  },
  {
   "cell_type": "code",
   "execution_count": 80,
   "id": "38567d3b",
   "metadata": {},
   "outputs": [
    {
     "data": {
      "text/plain": [
       "2"
      ]
     },
     "execution_count": 80,
     "metadata": {},
     "output_type": "execute_result"
    }
   ],
   "source": [
    "# should match\n",
    "similar(\"technology consumer electronics apple inc designs manufactures markets smartphones personal computers tablets wearables accessories worldwide also sells various related services addition company offers iphone line smartphones mac line personal computers ipad line multipurpose tablets airpods max overear wireless headphone wearables home accessories comprising airpods apple tv apple watch beats products homepod ipod touch provides applecare support services cloud services store services operates various platforms including app store allow customers discover download applications digital content books music video games podcasts additionally company offers various services apple arcade game subscription service apple music offers users curated listening experience ondemand radio stations apple news subscription news magazine service apple tv offers exclusive original content apple card cobranded credit card apple pay cashless payment service well licenses intellectual property company serves consumers small midsized businesses education enterprise government markets distributes thirdparty applications products app store company also sells products retail online stores direct sales force thirdparty cellular network carriers wholesalers retailers resellers apple inc incorporated  headquartered cupertino california\", \"cybersecurity infrastructure protection innovation cyber security infrastructure protection innovation subcommittee jurisdiction cybersecurity infrastructure security agency cisa science technology directorate focuses efforts advance federal network security improve critical infrastructure security also oversees cisa‚Äôs chemical security programs crosscutting science technology initiatives\")"
   ]
  },
  {
   "cell_type": "code",
   "execution_count": 81,
   "id": "1836da34",
   "metadata": {},
   "outputs": [
    {
     "data": {
      "text/plain": [
       "5"
      ]
     },
     "execution_count": 81,
     "metadata": {},
     "output_type": "execute_result"
    }
   ],
   "source": [
    "# should match\n",
    "similar(\"technology consumer electronics\", \"cybersecurity infrastructure protection innovation cyber security infrastructure protection innovation subcommittee jurisdiction cybersecurity infrastructure security agency cisa science technology directorate focuses efforts advance federal network security improve critical infrastructure security also oversees cisa‚Äôs chemical security programs crosscutting science technology initiatives\")"
   ]
  },
  {
   "cell_type": "code",
   "execution_count": 82,
   "id": "1d64ffde",
   "metadata": {},
   "outputs": [
    {
     "data": {
      "text/plain": [
       "1"
      ]
     },
     "execution_count": 82,
     "metadata": {},
     "output_type": "execute_result"
    }
   ],
   "source": [
    "# should match\n",
    "similar(\"utilities utilities—regulated electric\", \"All matters relating to energy research, development, and demonstration projects therefor; commercial application of energy technology; Department of Energy research, development, and demonstration programs; Department of Energy laboratories; Department of Energy science activities; Department of Energy international research, development, and demonstration projects; energy supply activities; nuclear, solar, and renewable energy, and other advanced energy technologies; uranium supply and enrichment, and Department of Energy waste management; Department of Energy environmental management research, development, and demonstration; fossil energy research and development; clean coal technology; energy conservation research and development, including building performance, alternate fuels, distributed power systems, and industrial process improvements; pipeline research, development, and demonstration projects; energy standards; other appropriate matters as referred by the Chair; and relevant oversight.\") "
   ]
  },
  {
   "cell_type": "code",
   "execution_count": 83,
   "id": "cf387b81",
   "metadata": {},
   "outputs": [
    {
     "data": {
      "text/plain": [
       "2"
      ]
     },
     "execution_count": 83,
     "metadata": {},
     "output_type": "execute_result"
    }
   ],
   "source": [
    "# shouldn't match \n",
    "similar(\"technology consumer electronics apple inc designs manufactures markets smartphones personal computers tablets wearables accessories worldwide also sells various related services addition company offers iphone line smartphones mac line personal computers ipad line multipurpose tablets airpods max overear wireless headphone wearables home accessories comprising airpods apple tv apple watch beats products homepod ipod touch provides applecare support services cloud services store services operates various platforms including app store allow customers discover download applications digital content books music video games podcasts additionally company offers various services apple arcade game subscription service apple music offers users curated listening experience ondemand radio stations apple news subscription news magazine service apple tv offers exclusive original content apple card cobranded credit card apple pay cashless payment service well licenses intellectual property company serves consumers small midsized businesses education enterprise government markets distributes thirdparty applications products app store company also sells products retail online stores direct sales force thirdparty cellular network carriers wholesalers retailers resellers apple inc incorporated  headquartered cupertino california\", \"africa global health policy subcommittee deals matters concerning us relations countries africa except like countries north africa specifically covered subcommittees well regional intergovernmental organizations like african union economic community west african states subcommittee’s regional responsibilities include matters within geographic region including matters relating  terrorism nonproliferation  crime illicit narcotics  us foreign assistance programs  promotion us trade exports addition subcommittee global responsibility healthrelated policy including disease outbreak response\")"
   ]
  },
  {
   "cell_type": "code",
   "execution_count": 84,
   "id": "6e4dfb48",
   "metadata": {},
   "outputs": [
    {
     "data": {
      "text/plain": [
       "2"
      ]
     },
     "execution_count": 84,
     "metadata": {},
     "output_type": "execute_result"
    }
   ],
   "source": [
    "# shouldn't match \n",
    "similar(\"technology consumer electronics apple inc designs manufactures markets smartphones personal computers tablets wearables accessories worldwide also sells various related services addition company offers iphone line smartphones mac line personal computers ipad line multipurpose tablets airpods max overear wireless headphone wearables home accessories comprising airpods apple tv apple watch beats products homepod ipod touch provides applecare support services cloud services store services operates various platforms including app store allow customers discover download applications digital content books music video games podcasts additionally company offers various services apple arcade game subscription service apple music offers users curated listening experience ondemand radio stations apple news subscription news magazine service apple tv offers exclusive original content apple card cobranded credit card apple pay cashless payment service well licenses intellectual property company serves consumers small midsized businesses education enterprise government markets distributes thirdparty applications products app store company also sells products retail online stores direct sales force thirdparty cellular network carriers wholesalers retailers resellers apple inc incorporated  headquartered cupertino california\", \"africa global health policy subcommittee deals matters concerning us relations countries africa except like countries north africa specifically covered subcommittees well regional intergovernmental organizations like african union economic community west african states subcommittee’s regional responsibilities include matters within geographic region including matters relating  terrorism nonproliferation  crime illicit narcotics  us foreign assistance programs  promotion us trade exports addition subcommittee global responsibility healthrelated policy including disease outbreak response\")"
   ]
  },
  {
   "cell_type": "code",
   "execution_count": 85,
   "id": "88b829d6",
   "metadata": {},
   "outputs": [],
   "source": [
    "def similar(a,b):\n",
    "    return fuzz.token_set_ratio(a, b)"
   ]
  },
  {
   "cell_type": "code",
   "execution_count": 86,
   "id": "2abfce34",
   "metadata": {
    "scrolled": true
   },
   "outputs": [
    {
     "data": {
      "text/plain": [
       "100"
      ]
     },
     "execution_count": 86,
     "metadata": {},
     "output_type": "execute_result"
    }
   ],
   "source": [
    "# high match\n",
    "similar(\"fuzzy wuzzy was a bear\", \"wuzzy fuzzy was a bear\")"
   ]
  },
  {
   "cell_type": "code",
   "execution_count": 87,
   "id": "d3f4ae30",
   "metadata": {},
   "outputs": [
    {
     "data": {
      "text/plain": [
       "4"
      ]
     },
     "execution_count": 87,
     "metadata": {},
     "output_type": "execute_result"
    }
   ],
   "source": [
    "# should match\n",
    "similar(\"utilities utilities—regulated electric nextera energy inc subsidiaries generates transmits distributes sells electric power retail wholesale customers north america company generates electricity wind solar nuclear fossil fuel coal natural gas facilities also develops constructs operates longterm contracted assets focus renewable generation facilities electric transmission facilities battery storage projects owns develops constructs manages operates electric generation facilities wholesale energy markets december   company operated approximately  megawatts net generating capacity serves approximately  million people approximately  million customer accounts east lower west coasts florida approximately  circuit miles transmission distribution lines  substations company formerly known fpl group inc changed name nextera energy inc  nextera energy inc founded  headquartered juno beach florida\", \"africa global health policy subcommittee deals matters concerning us relations countries africa except like countries north africa specifically covered subcommittees well regional intergovernmental organizations like african union economic community west african states subcommittee’s regional responsibilities include matters within geographic region including matters relating  terrorism nonproliferation  crime illicit narcotics  us foreign assistance programs  promotion us trade exports addition subcommittee global responsibility healthrelated policy including disease outbreak response\")"
   ]
  },
  {
   "cell_type": "code",
   "execution_count": 88,
   "id": "43b3cc1c",
   "metadata": {},
   "outputs": [
    {
     "data": {
      "text/plain": [
       "17"
      ]
     },
     "execution_count": 88,
     "metadata": {},
     "output_type": "execute_result"
    }
   ],
   "source": [
    "# should match using industry/sector and committee description\n",
    "similar(\"technology consumer electronics apple inc designs manufactures markets smartphones personal computers tablets wearables accessories worldwide also sells various related services addition company offers iphone line smartphones mac line personal computers ipad line multipurpose tablets airpods max overear wireless headphone wearables home accessories comprising airpods apple tv apple watch beats products homepod ipod touch provides applecare support services cloud services store services operates various platforms including app store allow customers discover download applications digital content books music video games podcasts additionally company offers various services apple arcade game subscription service apple music offers users curated listening experience ondemand radio stations apple news subscription news magazine service apple tv offers exclusive original content apple card cobranded credit card apple pay cashless payment service well licenses intellectual property company serves consumers small midsized businesses education enterprise government markets distributes thirdparty applications products app store company also sells products retail online stores direct sales force thirdparty cellular network carriers wholesalers retailers resellers apple inc incorporated  headquartered cupertino california\", \"cybersecurity infrastructure protection innovation cyber security infrastructure protection innovation subcommittee jurisdiction cybersecurity infrastructure security agency cisa science technology directorate focuses efforts advance federal network security improve critical infrastructure security also oversees cisa‚Äôs chemical security programs crosscutting science technology initiatives\")"
   ]
  },
  {
   "cell_type": "code",
   "execution_count": 89,
   "id": "919286ea",
   "metadata": {},
   "outputs": [
    {
     "data": {
      "text/plain": [
       "49"
      ]
     },
     "execution_count": 89,
     "metadata": {},
     "output_type": "execute_result"
    }
   ],
   "source": [
    "# should match using industry/sector and committee description\n",
    "similar(\"technology consumer electronics\", \"cybersecurity infrastructure protection innovation cyber security infrastructure protection innovation subcommittee jurisdiction cybersecurity infrastructure security agency cisa science technology directorate focuses efforts advance federal network security improve critical infrastructure security also oversees cisa‚Äôs chemical security programs crosscutting science technology initiatives\")"
   ]
  },
  {
   "cell_type": "code",
   "execution_count": 90,
   "id": "93c00ae3",
   "metadata": {},
   "outputs": [
    {
     "data": {
      "text/plain": [
       "0"
      ]
     },
     "execution_count": 90,
     "metadata": {},
     "output_type": "execute_result"
    }
   ],
   "source": [
    "# should match\n",
    "similar(\"utilities utilities—regulated electric\", \"All matters relating to energy research, development, and demonstration projects therefor; commercial application of energy technology; Department of Energy research, development, and demonstration programs; Department of Energy laboratories; Department of Energy science activities; Department of Energy international research, development, and demonstration projects; energy supply activities; nuclear, solar, and renewable energy, and other advanced energy technologies; uranium supply and enrichment, and Department of Energy waste management; Department of Energy environmental management research, development, and demonstration; fossil energy research and development; clean coal technology; energy conservation research and development, including building performance, alternate fuels, distributed power systems, and industrial process improvements; pipeline research, development, and demonstration projects; energy standards; other appropriate matters as referred by the Chair; and relevant oversight.\") "
   ]
  },
  {
   "cell_type": "code",
   "execution_count": 91,
   "id": "6fe4b0dd",
   "metadata": {},
   "outputs": [
    {
     "data": {
      "text/plain": [
       "9"
      ]
     },
     "execution_count": 91,
     "metadata": {},
     "output_type": "execute_result"
    }
   ],
   "source": [
    "# shouldn't match \n",
    "similar(\"technology consumer electronics apple inc designs manufactures markets smartphones personal computers tablets wearables accessories worldwide also sells various related services addition company offers iphone line smartphones mac line personal computers ipad line multipurpose tablets airpods max overear wireless headphone wearables home accessories comprising airpods apple tv apple watch beats products homepod ipod touch provides applecare support services cloud services store services operates various platforms including app store allow customers discover download applications digital content books music video games podcasts additionally company offers various services apple arcade game subscription service apple music offers users curated listening experience ondemand radio stations apple news subscription news magazine service apple tv offers exclusive original content apple card cobranded credit card apple pay cashless payment service well licenses intellectual property company serves consumers small midsized businesses education enterprise government markets distributes thirdparty applications products app store company also sells products retail online stores direct sales force thirdparty cellular network carriers wholesalers retailers resellers apple inc incorporated  headquartered cupertino california\", \"africa global health policy subcommittee deals matters concerning us relations countries africa except like countries north africa specifically covered subcommittees well regional intergovernmental organizations like african union economic community west african states subcommittee’s regional responsibilities include matters within geographic region including matters relating  terrorism nonproliferation  crime illicit narcotics  us foreign assistance programs  promotion us trade exports addition subcommittee global responsibility healthrelated policy including disease outbreak response\")"
   ]
  },
  {
   "cell_type": "markdown",
   "id": "e65d28cf",
   "metadata": {},
   "source": [
    "##### Partial Ratio"
   ]
  },
  {
   "cell_type": "code",
   "execution_count": 92,
   "id": "93d5ff43",
   "metadata": {},
   "outputs": [],
   "source": [
    "def similar(a,b):\n",
    "    return fuzz.partial_ratio(a, b)"
   ]
  },
  {
   "cell_type": "code",
   "execution_count": 93,
   "id": "f36dc12c",
   "metadata": {
    "scrolled": true
   },
   "outputs": [
    {
     "data": {
      "text/plain": [
       "91"
      ]
     },
     "execution_count": 93,
     "metadata": {},
     "output_type": "execute_result"
    }
   ],
   "source": [
    "# high match\n",
    "similar(\"fuzzy wuzzy was a bear\", \"wuzzy fuzzy was a bear\")"
   ]
  },
  {
   "cell_type": "code",
   "execution_count": 94,
   "id": "f8bd01b9",
   "metadata": {},
   "outputs": [
    {
     "data": {
      "text/plain": [
       "14"
      ]
     },
     "execution_count": 94,
     "metadata": {},
     "output_type": "execute_result"
    }
   ],
   "source": [
    "# should match\n",
    "similar(\"utilities utilities—regulated electric nextera energy inc subsidiaries generates transmits distributes sells electric power retail wholesale customers north america company generates electricity wind solar nuclear fossil fuel coal natural gas facilities also develops constructs operates longterm contracted assets focus renewable generation facilities electric transmission facilities battery storage projects owns develops constructs manages operates electric generation facilities wholesale energy markets december   company operated approximately  megawatts net generating capacity serves approximately  million people approximately  million customer accounts east lower west coasts florida approximately  circuit miles transmission distribution lines  substations company formerly known fpl group inc changed name nextera energy inc  nextera energy inc founded  headquartered juno beach florida\", \"africa global health policy subcommittee deals matters concerning us relations countries africa except like countries north africa specifically covered subcommittees well regional intergovernmental organizations like african union economic community west african states subcommittee’s regional responsibilities include matters within geographic region including matters relating  terrorism nonproliferation  crime illicit narcotics  us foreign assistance programs  promotion us trade exports addition subcommittee global responsibility healthrelated policy including disease outbreak response\")"
   ]
  },
  {
   "cell_type": "code",
   "execution_count": 95,
   "id": "c9e2c789",
   "metadata": {},
   "outputs": [
    {
     "data": {
      "text/plain": [
       "4"
      ]
     },
     "execution_count": 95,
     "metadata": {},
     "output_type": "execute_result"
    }
   ],
   "source": [
    "# should match\n",
    "similar(\"technology consumer electronics apple inc designs manufactures markets smartphones personal computers tablets wearables accessories worldwide also sells various related services addition company offers iphone line smartphones mac line personal computers ipad line multipurpose tablets airpods max overear wireless headphone wearables home accessories comprising airpods apple tv apple watch beats products homepod ipod touch provides applecare support services cloud services store services operates various platforms including app store allow customers discover download applications digital content books music video games podcasts additionally company offers various services apple arcade game subscription service apple music offers users curated listening experience ondemand radio stations apple news subscription news magazine service apple tv offers exclusive original content apple card cobranded credit card apple pay cashless payment service well licenses intellectual property company serves consumers small midsized businesses education enterprise government markets distributes thirdparty applications products app store company also sells products retail online stores direct sales force thirdparty cellular network carriers wholesalers retailers resellers apple inc incorporated  headquartered cupertino california\", \"cybersecurity infrastructure protection innovation cyber security infrastructure protection innovation subcommittee jurisdiction cybersecurity infrastructure security agency cisa science technology directorate focuses efforts advance federal network security improve critical infrastructure security also oversees cisa‚Äôs chemical security programs crosscutting science technology initiatives\")"
   ]
  },
  {
   "cell_type": "markdown",
   "id": "b76b0544",
   "metadata": {},
   "source": [
    "!!!! High ratio with industry/sector and committee description"
   ]
  },
  {
   "cell_type": "code",
   "execution_count": 96,
   "id": "cf13d6ed",
   "metadata": {},
   "outputs": [
    {
     "data": {
      "text/plain": [
       "61"
      ]
     },
     "execution_count": 96,
     "metadata": {},
     "output_type": "execute_result"
    }
   ],
   "source": [
    "# should match using industry/sector and committee description\n",
    "similar(\"technology consumer electronics\", \"cybersecurity infrastructure protection innovation cyber security infrastructure protection innovation subcommittee jurisdiction cybersecurity infrastructure security agency cisa science technology directorate focuses efforts advance federal network security improve critical infrastructure security also oversees cisa‚Äôs chemical security programs crosscutting science technology initiatives\")"
   ]
  },
  {
   "cell_type": "code",
   "execution_count": 97,
   "id": "a71252da",
   "metadata": {},
   "outputs": [
    {
     "data": {
      "text/plain": [
       "45"
      ]
     },
     "execution_count": 97,
     "metadata": {},
     "output_type": "execute_result"
    }
   ],
   "source": [
    "# should match using industry/sector and committee description\n",
    "similar(\"utilities utilities—regulated electric\", \"All matters relating to energy research, development, and demonstration projects therefor; commercial application of energy technology; Department of Energy research, development, and demonstration programs; Department of Energy laboratories; Department of Energy science activities; Department of Energy international research, development, and demonstration projects; energy supply activities; nuclear, solar, and renewable energy, and other advanced energy technologies; uranium supply and enrichment, and Department of Energy waste management; Department of Energy environmental management research, development, and demonstration; fossil energy research and development; clean coal technology; energy conservation research and development, including building performance, alternate fuels, distributed power systems, and industrial process improvements; pipeline research, development, and demonstration projects; energy standards; other appropriate matters as referred by the Chair; and relevant oversight.\") "
   ]
  },
  {
   "cell_type": "code",
   "execution_count": 98,
   "id": "b5586313",
   "metadata": {},
   "outputs": [
    {
     "data": {
      "text/plain": [
       "18"
      ]
     },
     "execution_count": 98,
     "metadata": {},
     "output_type": "execute_result"
    }
   ],
   "source": [
    "# shouldn't match \n",
    "similar(\"technology consumer electronics apple inc designs manufactures markets smartphones personal computers tablets wearables accessories worldwide also sells various related services addition company offers iphone line smartphones mac line personal computers ipad line multipurpose tablets airpods max overear wireless headphone wearables home accessories comprising airpods apple tv apple watch beats products homepod ipod touch provides applecare support services cloud services store services operates various platforms including app store allow customers discover download applications digital content books music video games podcasts additionally company offers various services apple arcade game subscription service apple music offers users curated listening experience ondemand radio stations apple news subscription news magazine service apple tv offers exclusive original content apple card cobranded credit card apple pay cashless payment service well licenses intellectual property company serves consumers small midsized businesses education enterprise government markets distributes thirdparty applications products app store company also sells products retail online stores direct sales force thirdparty cellular network carriers wholesalers retailers resellers apple inc incorporated  headquartered cupertino california\", \"africa global health policy subcommittee deals matters concerning us relations countries africa except like countries north africa specifically covered subcommittees well regional intergovernmental organizations like african union economic community west african states subcommittee’s regional responsibilities include matters within geographic region including matters relating  terrorism nonproliferation  crime illicit narcotics  us foreign assistance programs  promotion us trade exports addition subcommittee global responsibility healthrelated policy including disease outbreak response\")"
   ]
  },
  {
   "cell_type": "markdown",
   "id": "0c0394d5",
   "metadata": {},
   "source": [
    "##### Token Sort Ratio"
   ]
  },
  {
   "cell_type": "code",
   "execution_count": 99,
   "id": "5aa7833e",
   "metadata": {},
   "outputs": [],
   "source": [
    "def similar(a,b):\n",
    "    return fuzz.token_sort_ratio(a, b)"
   ]
  },
  {
   "cell_type": "code",
   "execution_count": 100,
   "id": "2374e3a2",
   "metadata": {
    "scrolled": true
   },
   "outputs": [
    {
     "data": {
      "text/plain": [
       "100"
      ]
     },
     "execution_count": 100,
     "metadata": {},
     "output_type": "execute_result"
    }
   ],
   "source": [
    "# high match\n",
    "similar(\"fuzzy wuzzy was a bear\", \"wuzzy fuzzy was a bear\")"
   ]
  },
  {
   "cell_type": "code",
   "execution_count": 101,
   "id": "9e57702b",
   "metadata": {},
   "outputs": [
    {
     "data": {
      "text/plain": [
       "2"
      ]
     },
     "execution_count": 101,
     "metadata": {},
     "output_type": "execute_result"
    }
   ],
   "source": [
    "# should match\n",
    "similar(\"utilities utilities—regulated electric nextera energy inc subsidiaries generates transmits distributes sells electric power retail wholesale customers north america company generates electricity wind solar nuclear fossil fuel coal natural gas facilities also develops constructs operates longterm contracted assets focus renewable generation facilities electric transmission facilities battery storage projects owns develops constructs manages operates electric generation facilities wholesale energy markets december   company operated approximately  megawatts net generating capacity serves approximately  million people approximately  million customer accounts east lower west coasts florida approximately  circuit miles transmission distribution lines  substations company formerly known fpl group inc changed name nextera energy inc  nextera energy inc founded  headquartered juno beach florida\", \"africa global health policy subcommittee deals matters concerning us relations countries africa except like countries north africa specifically covered subcommittees well regional intergovernmental organizations like african union economic community west african states subcommittee’s regional responsibilities include matters within geographic region including matters relating  terrorism nonproliferation  crime illicit narcotics  us foreign assistance programs  promotion us trade exports addition subcommittee global responsibility healthrelated policy including disease outbreak response\")"
   ]
  },
  {
   "cell_type": "code",
   "execution_count": 102,
   "id": "8d4cd798",
   "metadata": {},
   "outputs": [
    {
     "data": {
      "text/plain": [
       "2"
      ]
     },
     "execution_count": 102,
     "metadata": {},
     "output_type": "execute_result"
    }
   ],
   "source": [
    "# should match\n",
    "similar(\"technology consumer electronics apple inc designs manufactures markets smartphones personal computers tablets wearables accessories worldwide also sells various related services addition company offers iphone line smartphones mac line personal computers ipad line multipurpose tablets airpods max overear wireless headphone wearables home accessories comprising airpods apple tv apple watch beats products homepod ipod touch provides applecare support services cloud services store services operates various platforms including app store allow customers discover download applications digital content books music video games podcasts additionally company offers various services apple arcade game subscription service apple music offers users curated listening experience ondemand radio stations apple news subscription news magazine service apple tv offers exclusive original content apple card cobranded credit card apple pay cashless payment service well licenses intellectual property company serves consumers small midsized businesses education enterprise government markets distributes thirdparty applications products app store company also sells products retail online stores direct sales force thirdparty cellular network carriers wholesalers retailers resellers apple inc incorporated  headquartered cupertino california\", \"cybersecurity infrastructure protection innovation cyber security infrastructure protection innovation subcommittee jurisdiction cybersecurity infrastructure security agency cisa science technology directorate focuses efforts advance federal network security improve critical infrastructure security also oversees cisa‚Äôs chemical security programs crosscutting science technology initiatives\")"
   ]
  },
  {
   "cell_type": "code",
   "execution_count": 103,
   "id": "eb35764b",
   "metadata": {},
   "outputs": [
    {
     "data": {
      "text/plain": [
       "1"
      ]
     },
     "execution_count": 103,
     "metadata": {},
     "output_type": "execute_result"
    }
   ],
   "source": [
    "# should match\n",
    "similar(\"technology consumer electronics\", \"cybersecurity infrastructure protection innovation cyber security infrastructure protection innovation subcommittee jurisdiction cybersecurity infrastructure security agency cisa science technology directorate focuses efforts advance federal network security improve critical infrastructure security also oversees cisa‚Äôs chemical security programs crosscutting science technology initiatives\")"
   ]
  },
  {
   "cell_type": "code",
   "execution_count": 104,
   "id": "cdde83c4",
   "metadata": {},
   "outputs": [
    {
     "data": {
      "text/plain": [
       "1"
      ]
     },
     "execution_count": 104,
     "metadata": {},
     "output_type": "execute_result"
    }
   ],
   "source": [
    "# should match\n",
    "similar(\"utilities utilities—regulated electric\", \"All matters relating to energy research, development, and demonstration projects therefor; commercial application of energy technology; Department of Energy research, development, and demonstration programs; Department of Energy laboratories; Department of Energy science activities; Department of Energy international research, development, and demonstration projects; energy supply activities; nuclear, solar, and renewable energy, and other advanced energy technologies; uranium supply and enrichment, and Department of Energy waste management; Department of Energy environmental management research, development, and demonstration; fossil energy research and development; clean coal technology; energy conservation research and development, including building performance, alternate fuels, distributed power systems, and industrial process improvements; pipeline research, development, and demonstration projects; energy standards; other appropriate matters as referred by the Chair; and relevant oversight.\") "
   ]
  },
  {
   "cell_type": "code",
   "execution_count": 105,
   "id": "eefc0422",
   "metadata": {},
   "outputs": [
    {
     "data": {
      "text/plain": [
       "1"
      ]
     },
     "execution_count": 105,
     "metadata": {},
     "output_type": "execute_result"
    }
   ],
   "source": [
    "# shouldn't match \n",
    "similar(\"technology consumer electronics apple inc designs manufactures markets smartphones personal computers tablets wearables accessories worldwide also sells various related services addition company offers iphone line smartphones mac line personal computers ipad line multipurpose tablets airpods max overear wireless headphone wearables home accessories comprising airpods apple tv apple watch beats products homepod ipod touch provides applecare support services cloud services store services operates various platforms including app store allow customers discover download applications digital content books music video games podcasts additionally company offers various services apple arcade game subscription service apple music offers users curated listening experience ondemand radio stations apple news subscription news magazine service apple tv offers exclusive original content apple card cobranded credit card apple pay cashless payment service well licenses intellectual property company serves consumers small midsized businesses education enterprise government markets distributes thirdparty applications products app store company also sells products retail online stores direct sales force thirdparty cellular network carriers wholesalers retailers resellers apple inc incorporated  headquartered cupertino california\", \"africa global health policy subcommittee deals matters concerning us relations countries africa except like countries north africa specifically covered subcommittees well regional intergovernmental organizations like african union economic community west african states subcommittee’s regional responsibilities include matters within geographic region including matters relating  terrorism nonproliferation  crime illicit narcotics  us foreign assistance programs  promotion us trade exports addition subcommittee global responsibility healthrelated policy including disease outbreak response\")"
   ]
  },
  {
   "cell_type": "markdown",
   "id": "0316fa80",
   "metadata": {},
   "source": [
    "##### Token Set"
   ]
  },
  {
   "cell_type": "code",
   "execution_count": 106,
   "id": "83320813",
   "metadata": {},
   "outputs": [],
   "source": [
    "def similar(a,b):\n",
    "    return fuzz.token_set_ratio(a, b)"
   ]
  },
  {
   "cell_type": "code",
   "execution_count": 107,
   "id": "ffeb4004",
   "metadata": {
    "scrolled": true
   },
   "outputs": [
    {
     "data": {
      "text/plain": [
       "100"
      ]
     },
     "execution_count": 107,
     "metadata": {},
     "output_type": "execute_result"
    }
   ],
   "source": [
    "# high match\n",
    "similar(\"fuzzy wuzzy was a bear\", \"wuzzy fuzzy was a bear\")"
   ]
  },
  {
   "cell_type": "code",
   "execution_count": 108,
   "id": "9bb8e430",
   "metadata": {},
   "outputs": [
    {
     "data": {
      "text/plain": [
       "4"
      ]
     },
     "execution_count": 108,
     "metadata": {},
     "output_type": "execute_result"
    }
   ],
   "source": [
    "# should match\n",
    "similar(\"utilities utilities—regulated electric nextera energy inc subsidiaries generates transmits distributes sells electric power retail wholesale customers north america company generates electricity wind solar nuclear fossil fuel coal natural gas facilities also develops constructs operates longterm contracted assets focus renewable generation facilities electric transmission facilities battery storage projects owns develops constructs manages operates electric generation facilities wholesale energy markets december   company operated approximately  megawatts net generating capacity serves approximately  million people approximately  million customer accounts east lower west coasts florida approximately  circuit miles transmission distribution lines  substations company formerly known fpl group inc changed name nextera energy inc  nextera energy inc founded  headquartered juno beach florida\", \"africa global health policy subcommittee deals matters concerning us relations countries africa except like countries north africa specifically covered subcommittees well regional intergovernmental organizations like african union economic community west african states subcommittee’s regional responsibilities include matters within geographic region including matters relating  terrorism nonproliferation  crime illicit narcotics  us foreign assistance programs  promotion us trade exports addition subcommittee global responsibility healthrelated policy including disease outbreak response\")"
   ]
  },
  {
   "cell_type": "code",
   "execution_count": 109,
   "id": "06bcb135",
   "metadata": {},
   "outputs": [
    {
     "data": {
      "text/plain": [
       "17"
      ]
     },
     "execution_count": 109,
     "metadata": {},
     "output_type": "execute_result"
    }
   ],
   "source": [
    "# should match\n",
    "similar(\"technology consumer electronics apple inc designs manufactures markets smartphones personal computers tablets wearables accessories worldwide also sells various related services addition company offers iphone line smartphones mac line personal computers ipad line multipurpose tablets airpods max overear wireless headphone wearables home accessories comprising airpods apple tv apple watch beats products homepod ipod touch provides applecare support services cloud services store services operates various platforms including app store allow customers discover download applications digital content books music video games podcasts additionally company offers various services apple arcade game subscription service apple music offers users curated listening experience ondemand radio stations apple news subscription news magazine service apple tv offers exclusive original content apple card cobranded credit card apple pay cashless payment service well licenses intellectual property company serves consumers small midsized businesses education enterprise government markets distributes thirdparty applications products app store company also sells products retail online stores direct sales force thirdparty cellular network carriers wholesalers retailers resellers apple inc incorporated  headquartered cupertino california\", \"cybersecurity infrastructure protection innovation cyber security infrastructure protection innovation subcommittee jurisdiction cybersecurity infrastructure security agency cisa science technology directorate focuses efforts advance federal network security improve critical infrastructure security also oversees cisa‚Äôs chemical security programs crosscutting science technology initiatives\")"
   ]
  },
  {
   "cell_type": "code",
   "execution_count": 110,
   "id": "1aba8c79",
   "metadata": {},
   "outputs": [
    {
     "data": {
      "text/plain": [
       "49"
      ]
     },
     "execution_count": 110,
     "metadata": {},
     "output_type": "execute_result"
    }
   ],
   "source": [
    "# should match\n",
    "similar(\"technology consumer electronics\", \"cybersecurity infrastructure protection innovation cyber security infrastructure protection innovation subcommittee jurisdiction cybersecurity infrastructure security agency cisa science technology directorate focuses efforts advance federal network security improve critical infrastructure security also oversees cisa‚Äôs chemical security programs crosscutting science technology initiatives\")"
   ]
  },
  {
   "cell_type": "code",
   "execution_count": 111,
   "id": "0dc505e1",
   "metadata": {},
   "outputs": [
    {
     "data": {
      "text/plain": [
       "0"
      ]
     },
     "execution_count": 111,
     "metadata": {},
     "output_type": "execute_result"
    }
   ],
   "source": [
    "# should match\n",
    "similar(\"utilities utilities—regulated electric\", \"All matters relating to energy research, development, and demonstration projects therefor; commercial application of energy technology; Department of Energy research, development, and demonstration programs; Department of Energy laboratories; Department of Energy science activities; Department of Energy international research, development, and demonstration projects; energy supply activities; nuclear, solar, and renewable energy, and other advanced energy technologies; uranium supply and enrichment, and Department of Energy waste management; Department of Energy environmental management research, development, and demonstration; fossil energy research and development; clean coal technology; energy conservation research and development, including building performance, alternate fuels, distributed power systems, and industrial process improvements; pipeline research, development, and demonstration projects; energy standards; other appropriate matters as referred by the Chair; and relevant oversight.\") "
   ]
  },
  {
   "cell_type": "code",
   "execution_count": 112,
   "id": "5f34bdfe",
   "metadata": {},
   "outputs": [
    {
     "data": {
      "text/plain": [
       "9"
      ]
     },
     "execution_count": 112,
     "metadata": {},
     "output_type": "execute_result"
    }
   ],
   "source": [
    "# shouldn't match \n",
    "similar(\"technology consumer electronics apple inc designs manufactures markets smartphones personal computers tablets wearables accessories worldwide also sells various related services addition company offers iphone line smartphones mac line personal computers ipad line multipurpose tablets airpods max overear wireless headphone wearables home accessories comprising airpods apple tv apple watch beats products homepod ipod touch provides applecare support services cloud services store services operates various platforms including app store allow customers discover download applications digital content books music video games podcasts additionally company offers various services apple arcade game subscription service apple music offers users curated listening experience ondemand radio stations apple news subscription news magazine service apple tv offers exclusive original content apple card cobranded credit card apple pay cashless payment service well licenses intellectual property company serves consumers small midsized businesses education enterprise government markets distributes thirdparty applications products app store company also sells products retail online stores direct sales force thirdparty cellular network carriers wholesalers retailers resellers apple inc incorporated  headquartered cupertino california\", \"africa global health policy subcommittee deals matters concerning us relations countries africa except like countries north africa specifically covered subcommittees well regional intergovernmental organizations like african union economic community west african states subcommittee’s regional responsibilities include matters within geographic region including matters relating  terrorism nonproliferation  crime illicit narcotics  us foreign assistance programs  promotion us trade exports addition subcommittee global responsibility healthrelated policy including disease outbreak response\")"
   ]
  },
  {
   "cell_type": "markdown",
   "id": "0bf3e0d2",
   "metadata": {},
   "source": [
    "##### Hamming Distance (finding the places where the strings vary)"
   ]
  },
  {
   "cell_type": "code",
   "execution_count": 113,
   "id": "39edce74",
   "metadata": {},
   "outputs": [
    {
     "data": {
      "text/plain": [
       "0.4"
      ]
     },
     "execution_count": 113,
     "metadata": {},
     "output_type": "execute_result"
    }
   ],
   "source": [
    "textdistance.hamming.normalized_similarity('arrow', 'arow')"
   ]
  },
  {
   "cell_type": "code",
   "execution_count": 114,
   "id": "b426f43b",
   "metadata": {},
   "outputs": [],
   "source": [
    "#the edit distance is 1 for only the difference being one letter different\n",
    "def similar(a,b):\n",
    "    return textdistance.hamming(a, b)"
   ]
  },
  {
   "cell_type": "code",
   "execution_count": 115,
   "id": "ef00074a",
   "metadata": {
    "scrolled": true
   },
   "outputs": [
    {
     "data": {
      "text/plain": [
       "2"
      ]
     },
     "execution_count": 115,
     "metadata": {},
     "output_type": "execute_result"
    }
   ],
   "source": [
    "# high match\n",
    "similar(\"fuzzy wuzzy was a bear\", \"wuzzy fuzzy was a bear\")"
   ]
  },
  {
   "cell_type": "code",
   "execution_count": 116,
   "id": "7aaac436",
   "metadata": {},
   "outputs": [
    {
     "data": {
      "text/plain": [
       "855"
      ]
     },
     "execution_count": 116,
     "metadata": {},
     "output_type": "execute_result"
    }
   ],
   "source": [
    "# should match\n",
    "similar(\"utilities utilities—regulated electric nextera energy inc subsidiaries generates transmits distributes sells electric power retail wholesale customers north america company generates electricity wind solar nuclear fossil fuel coal natural gas facilities also develops constructs operates longterm contracted assets focus renewable generation facilities electric transmission facilities battery storage projects owns develops constructs manages operates electric generation facilities wholesale energy markets december   company operated approximately  megawatts net generating capacity serves approximately  million people approximately  million customer accounts east lower west coasts florida approximately  circuit miles transmission distribution lines  substations company formerly known fpl group inc changed name nextera energy inc  nextera energy inc founded  headquartered juno beach florida\", \"africa global health policy subcommittee deals matters concerning us relations countries africa except like countries north africa specifically covered subcommittees well regional intergovernmental organizations like african union economic community west african states subcommittee’s regional responsibilities include matters within geographic region including matters relating  terrorism nonproliferation  crime illicit narcotics  us foreign assistance programs  promotion us trade exports addition subcommittee global responsibility healthrelated policy including disease outbreak response\")"
   ]
  },
  {
   "cell_type": "code",
   "execution_count": 117,
   "id": "8ae37020",
   "metadata": {},
   "outputs": [
    {
     "data": {
      "text/plain": [
       "1305"
      ]
     },
     "execution_count": 117,
     "metadata": {},
     "output_type": "execute_result"
    }
   ],
   "source": [
    "# should match\n",
    "similar(\"technology consumer electronics apple inc designs manufactures markets smartphones personal computers tablets wearables accessories worldwide also sells various related services addition company offers iphone line smartphones mac line personal computers ipad line multipurpose tablets airpods max overear wireless headphone wearables home accessories comprising airpods apple tv apple watch beats products homepod ipod touch provides applecare support services cloud services store services operates various platforms including app store allow customers discover download applications digital content books music video games podcasts additionally company offers various services apple arcade game subscription service apple music offers users curated listening experience ondemand radio stations apple news subscription news magazine service apple tv offers exclusive original content apple card cobranded credit card apple pay cashless payment service well licenses intellectual property company serves consumers small midsized businesses education enterprise government markets distributes thirdparty applications products app store company also sells products retail online stores direct sales force thirdparty cellular network carriers wholesalers retailers resellers apple inc incorporated  headquartered cupertino california\", \"cybersecurity infrastructure protection innovation cyber security infrastructure protection innovation subcommittee jurisdiction cybersecurity infrastructure security agency cisa science technology directorate focuses efforts advance federal network security improve critical infrastructure security also oversees cisa‚Äôs chemical security programs crosscutting science technology initiatives\")"
   ]
  },
  {
   "cell_type": "code",
   "execution_count": 118,
   "id": "dd2b8c33",
   "metadata": {},
   "outputs": [
    {
     "data": {
      "text/plain": [
       "391"
      ]
     },
     "execution_count": 118,
     "metadata": {},
     "output_type": "execute_result"
    }
   ],
   "source": [
    "# should match\n",
    "similar(\"technology consumer electronics\", \"cybersecurity infrastructure protection innovation cyber security infrastructure protection innovation subcommittee jurisdiction cybersecurity infrastructure security agency cisa science technology directorate focuses efforts advance federal network security improve critical infrastructure security also oversees cisa‚Äôs chemical security programs crosscutting science technology initiatives\")"
   ]
  },
  {
   "cell_type": "code",
   "execution_count": 119,
   "id": "8baa1054",
   "metadata": {},
   "outputs": [
    {
     "data": {
      "text/plain": [
       "1009"
      ]
     },
     "execution_count": 119,
     "metadata": {},
     "output_type": "execute_result"
    }
   ],
   "source": [
    "# should match\n",
    "similar(\"utilities utilities—regulated electric\", \"All matters relating to energy research, development, and demonstration projects therefor; commercial application of energy technology; Department of Energy research, development, and demonstration programs; Department of Energy laboratories; Department of Energy science activities; Department of Energy international research, development, and demonstration projects; energy supply activities; nuclear, solar, and renewable energy, and other advanced energy technologies; uranium supply and enrichment, and Department of Energy waste management; Department of Energy environmental management research, development, and demonstration; fossil energy research and development; clean coal technology; energy conservation research and development, including building performance, alternate fuels, distributed power systems, and industrial process improvements; pipeline research, development, and demonstration projects; energy standards; other appropriate matters as referred by the Chair; and relevant oversight.\") "
   ]
  },
  {
   "cell_type": "code",
   "execution_count": 120,
   "id": "f61e1cdb",
   "metadata": {},
   "outputs": [
    {
     "data": {
      "text/plain": [
       "1295"
      ]
     },
     "execution_count": 120,
     "metadata": {},
     "output_type": "execute_result"
    }
   ],
   "source": [
    "# shouldn't match \n",
    "similar(\"technology consumer electronics apple inc designs manufactures markets smartphones personal computers tablets wearables accessories worldwide also sells various related services addition company offers iphone line smartphones mac line personal computers ipad line multipurpose tablets airpods max overear wireless headphone wearables home accessories comprising airpods apple tv apple watch beats products homepod ipod touch provides applecare support services cloud services store services operates various platforms including app store allow customers discover download applications digital content books music video games podcasts additionally company offers various services apple arcade game subscription service apple music offers users curated listening experience ondemand radio stations apple news subscription news magazine service apple tv offers exclusive original content apple card cobranded credit card apple pay cashless payment service well licenses intellectual property company serves consumers small midsized businesses education enterprise government markets distributes thirdparty applications products app store company also sells products retail online stores direct sales force thirdparty cellular network carriers wholesalers retailers resellers apple inc incorporated  headquartered cupertino california\", \"africa global health policy subcommittee deals matters concerning us relations countries africa except like countries north africa specifically covered subcommittees well regional intergovernmental organizations like african union economic community west african states subcommittee’s regional responsibilities include matters within geographic region including matters relating  terrorism nonproliferation  crime illicit narcotics  us foreign assistance programs  promotion us trade exports addition subcommittee global responsibility healthrelated policy including disease outbreak response\")"
   ]
  },
  {
   "cell_type": "code",
   "execution_count": 121,
   "id": "15fd4a46",
   "metadata": {},
   "outputs": [],
   "source": [
    "#75% similar between text and test\n",
    "def similar(a,b):\n",
    "    return textdistance.hamming.normalized_similarity(a, b)"
   ]
  },
  {
   "cell_type": "code",
   "execution_count": 122,
   "id": "ac924c7f",
   "metadata": {
    "scrolled": true
   },
   "outputs": [
    {
     "data": {
      "text/plain": [
       "0.9090909090909091"
      ]
     },
     "execution_count": 122,
     "metadata": {},
     "output_type": "execute_result"
    }
   ],
   "source": [
    "# high match\n",
    "similar(\"fuzzy wuzzy was a bear\", \"wuzzy fuzzy was a bear\")"
   ]
  },
  {
   "cell_type": "code",
   "execution_count": 123,
   "id": "7435e670",
   "metadata": {},
   "outputs": [
    {
     "data": {
      "text/plain": [
       "0.04894327030033374"
      ]
     },
     "execution_count": 123,
     "metadata": {},
     "output_type": "execute_result"
    }
   ],
   "source": [
    "# should match\n",
    "similar(\"utilities utilities—regulated electric nextera energy inc subsidiaries generates transmits distributes sells electric power retail wholesale customers north america company generates electricity wind solar nuclear fossil fuel coal natural gas facilities also develops constructs operates longterm contracted assets focus renewable generation facilities electric transmission facilities battery storage projects owns develops constructs manages operates electric generation facilities wholesale energy markets december   company operated approximately  megawatts net generating capacity serves approximately  million people approximately  million customer accounts east lower west coasts florida approximately  circuit miles transmission distribution lines  substations company formerly known fpl group inc changed name nextera energy inc  nextera energy inc founded  headquartered juno beach florida\", \"africa global health policy subcommittee deals matters concerning us relations countries africa except like countries north africa specifically covered subcommittees well regional intergovernmental organizations like african union economic community west african states subcommittee’s regional responsibilities include matters within geographic region including matters relating  terrorism nonproliferation  crime illicit narcotics  us foreign assistance programs  promotion us trade exports addition subcommittee global responsibility healthrelated policy including disease outbreak response\")"
   ]
  },
  {
   "cell_type": "code",
   "execution_count": 124,
   "id": "e705ee81",
   "metadata": {},
   "outputs": [
    {
     "data": {
      "text/plain": [
       "0.018796992481203034"
      ]
     },
     "execution_count": 124,
     "metadata": {},
     "output_type": "execute_result"
    }
   ],
   "source": [
    "# should match\n",
    "similar(\"technology consumer electronics apple inc designs manufactures markets smartphones personal computers tablets wearables accessories worldwide also sells various related services addition company offers iphone line smartphones mac line personal computers ipad line multipurpose tablets airpods max overear wireless headphone wearables home accessories comprising airpods apple tv apple watch beats products homepod ipod touch provides applecare support services cloud services store services operates various platforms including app store allow customers discover download applications digital content books music video games podcasts additionally company offers various services apple arcade game subscription service apple music offers users curated listening experience ondemand radio stations apple news subscription news magazine service apple tv offers exclusive original content apple card cobranded credit card apple pay cashless payment service well licenses intellectual property company serves consumers small midsized businesses education enterprise government markets distributes thirdparty applications products app store company also sells products retail online stores direct sales force thirdparty cellular network carriers wholesalers retailers resellers apple inc incorporated  headquartered cupertino california\", \"cybersecurity infrastructure protection innovation cyber security infrastructure protection innovation subcommittee jurisdiction cybersecurity infrastructure security agency cisa science technology directorate focuses efforts advance federal network security improve critical infrastructure security also oversees cisa‚Äôs chemical security programs crosscutting science technology initiatives\")"
   ]
  },
  {
   "cell_type": "code",
   "execution_count": 125,
   "id": "39487b68",
   "metadata": {},
   "outputs": [
    {
     "data": {
      "text/plain": [
       "0.0050890585241730735"
      ]
     },
     "execution_count": 125,
     "metadata": {},
     "output_type": "execute_result"
    }
   ],
   "source": [
    "# should match\n",
    "similar(\"technology consumer electronics\", \"cybersecurity infrastructure protection innovation cyber security infrastructure protection innovation subcommittee jurisdiction cybersecurity infrastructure security agency cisa science technology directorate focuses efforts advance federal network security improve critical infrastructure security also oversees cisa‚Äôs chemical security programs crosscutting science technology initiatives\")"
   ]
  },
  {
   "cell_type": "code",
   "execution_count": 126,
   "id": "a10aa6f8",
   "metadata": {},
   "outputs": [
    {
     "data": {
      "text/plain": [
       "0.001978239366963397"
      ]
     },
     "execution_count": 126,
     "metadata": {},
     "output_type": "execute_result"
    }
   ],
   "source": [
    "# should match\n",
    "similar(\"utilities utilities—regulated electric\", \"All matters relating to energy research, development, and demonstration projects therefor; commercial application of energy technology; Department of Energy research, development, and demonstration programs; Department of Energy laboratories; Department of Energy science activities; Department of Energy international research, development, and demonstration projects; energy supply activities; nuclear, solar, and renewable energy, and other advanced energy technologies; uranium supply and enrichment, and Department of Energy waste management; Department of Energy environmental management research, development, and demonstration; fossil energy research and development; clean coal technology; energy conservation research and development, including building performance, alternate fuels, distributed power systems, and industrial process improvements; pipeline research, development, and demonstration projects; energy standards; other appropriate matters as referred by the Chair; and relevant oversight.\") "
   ]
  },
  {
   "cell_type": "code",
   "execution_count": 127,
   "id": "ac964f59",
   "metadata": {},
   "outputs": [
    {
     "data": {
      "text/plain": [
       "0.02631578947368418"
      ]
     },
     "execution_count": 127,
     "metadata": {},
     "output_type": "execute_result"
    }
   ],
   "source": [
    "# shouldn't match \n",
    "similar(\"technology consumer electronics apple inc designs manufactures markets smartphones personal computers tablets wearables accessories worldwide also sells various related services addition company offers iphone line smartphones mac line personal computers ipad line multipurpose tablets airpods max overear wireless headphone wearables home accessories comprising airpods apple tv apple watch beats products homepod ipod touch provides applecare support services cloud services store services operates various platforms including app store allow customers discover download applications digital content books music video games podcasts additionally company offers various services apple arcade game subscription service apple music offers users curated listening experience ondemand radio stations apple news subscription news magazine service apple tv offers exclusive original content apple card cobranded credit card apple pay cashless payment service well licenses intellectual property company serves consumers small midsized businesses education enterprise government markets distributes thirdparty applications products app store company also sells products retail online stores direct sales force thirdparty cellular network carriers wholesalers retailers resellers apple inc incorporated  headquartered cupertino california\", \"africa global health policy subcommittee deals matters concerning us relations countries africa except like countries north africa specifically covered subcommittees well regional intergovernmental organizations like african union economic community west african states subcommittee’s regional responsibilities include matters within geographic region including matters relating  terrorism nonproliferation  crime illicit narcotics  us foreign assistance programs  promotion us trade exports addition subcommittee global responsibility healthrelated policy including disease outbreak response\")"
   ]
  },
  {
   "cell_type": "markdown",
   "id": "00f55064",
   "metadata": {},
   "source": [
    "##### Levenshtein Distance"
   ]
  },
  {
   "cell_type": "code",
   "execution_count": 128,
   "id": "bf9f4bcb",
   "metadata": {},
   "outputs": [
    {
     "data": {
      "text/plain": [
       "1"
      ]
     },
     "execution_count": 128,
     "metadata": {},
     "output_type": "execute_result"
    }
   ],
   "source": [
    "#number of edits it will take to transform one to the other\n",
    "textdistance.levenshtein('arrow', 'arow')"
   ]
  },
  {
   "cell_type": "code",
   "execution_count": 129,
   "id": "2d20a4d3",
   "metadata": {},
   "outputs": [],
   "source": [
    "#number of edits it will take to transform one to the other\n",
    "def similar(a,b):\n",
    "    return textdistance.levenshtein(a, b)"
   ]
  },
  {
   "cell_type": "code",
   "execution_count": 130,
   "id": "399d34c6",
   "metadata": {
    "scrolled": true
   },
   "outputs": [
    {
     "data": {
      "text/plain": [
       "2"
      ]
     },
     "execution_count": 130,
     "metadata": {},
     "output_type": "execute_result"
    }
   ],
   "source": [
    "# high match\n",
    "similar(\"fuzzy wuzzy was a bear\", \"wuzzy fuzzy was a bear\")"
   ]
  },
  {
   "cell_type": "code",
   "execution_count": 131,
   "id": "3a1a41ed",
   "metadata": {},
   "outputs": [
    {
     "data": {
      "text/plain": [
       "639"
      ]
     },
     "execution_count": 131,
     "metadata": {},
     "output_type": "execute_result"
    }
   ],
   "source": [
    "# should match\n",
    "similar(\"utilities utilities—regulated electric nextera energy inc subsidiaries generates transmits distributes sells electric power retail wholesale customers north america company generates electricity wind solar nuclear fossil fuel coal natural gas facilities also develops constructs operates longterm contracted assets focus renewable generation facilities electric transmission facilities battery storage projects owns develops constructs manages operates electric generation facilities wholesale energy markets december   company operated approximately  megawatts net generating capacity serves approximately  million people approximately  million customer accounts east lower west coasts florida approximately  circuit miles transmission distribution lines  substations company formerly known fpl group inc changed name nextera energy inc  nextera energy inc founded  headquartered juno beach florida\", \"africa global health policy subcommittee deals matters concerning us relations countries africa except like countries north africa specifically covered subcommittees well regional intergovernmental organizations like african union economic community west african states subcommittee’s regional responsibilities include matters within geographic region including matters relating  terrorism nonproliferation  crime illicit narcotics  us foreign assistance programs  promotion us trade exports addition subcommittee global responsibility healthrelated policy including disease outbreak response\")"
   ]
  },
  {
   "cell_type": "code",
   "execution_count": 132,
   "id": "932cb14a",
   "metadata": {},
   "outputs": [
    {
     "data": {
      "text/plain": [
       "1069"
      ]
     },
     "execution_count": 132,
     "metadata": {},
     "output_type": "execute_result"
    }
   ],
   "source": [
    "# should match\n",
    "similar(\"technology consumer electronics apple inc designs manufactures markets smartphones personal computers tablets wearables accessories worldwide also sells various related services addition company offers iphone line smartphones mac line personal computers ipad line multipurpose tablets airpods max overear wireless headphone wearables home accessories comprising airpods apple tv apple watch beats products homepod ipod touch provides applecare support services cloud services store services operates various platforms including app store allow customers discover download applications digital content books music video games podcasts additionally company offers various services apple arcade game subscription service apple music offers users curated listening experience ondemand radio stations apple news subscription news magazine service apple tv offers exclusive original content apple card cobranded credit card apple pay cashless payment service well licenses intellectual property company serves consumers small midsized businesses education enterprise government markets distributes thirdparty applications products app store company also sells products retail online stores direct sales force thirdparty cellular network carriers wholesalers retailers resellers apple inc incorporated  headquartered cupertino california\", \"cybersecurity infrastructure protection innovation cyber security infrastructure protection innovation subcommittee jurisdiction cybersecurity infrastructure security agency cisa science technology directorate focuses efforts advance federal network security improve critical infrastructure security also oversees cisa‚Äôs chemical security programs crosscutting science technology initiatives\")"
   ]
  },
  {
   "cell_type": "code",
   "execution_count": 133,
   "id": "a9757832",
   "metadata": {},
   "outputs": [
    {
     "data": {
      "text/plain": [
       "362"
      ]
     },
     "execution_count": 133,
     "metadata": {},
     "output_type": "execute_result"
    }
   ],
   "source": [
    "# should match\n",
    "similar(\"technology consumer electronics\", \"cybersecurity infrastructure protection innovation cyber security infrastructure protection innovation subcommittee jurisdiction cybersecurity infrastructure security agency cisa science technology directorate focuses efforts advance federal network security improve critical infrastructure security also oversees cisa‚Äôs chemical security programs crosscutting science technology initiatives\")"
   ]
  },
  {
   "cell_type": "code",
   "execution_count": 134,
   "id": "7326ac11",
   "metadata": {},
   "outputs": [
    {
     "data": {
      "text/plain": [
       "975"
      ]
     },
     "execution_count": 134,
     "metadata": {},
     "output_type": "execute_result"
    }
   ],
   "source": [
    "# should match\n",
    "similar(\"utilities utilities—regulated electric\", \"All matters relating to energy research, development, and demonstration projects therefor; commercial application of energy technology; Department of Energy research, development, and demonstration programs; Department of Energy laboratories; Department of Energy science activities; Department of Energy international research, development, and demonstration projects; energy supply activities; nuclear, solar, and renewable energy, and other advanced energy technologies; uranium supply and enrichment, and Department of Energy waste management; Department of Energy environmental management research, development, and demonstration; fossil energy research and development; clean coal technology; energy conservation research and development, including building performance, alternate fuels, distributed power systems, and industrial process improvements; pipeline research, development, and demonstration projects; energy standards; other appropriate matters as referred by the Chair; and relevant oversight.\") "
   ]
  },
  {
   "cell_type": "code",
   "execution_count": 135,
   "id": "c6f4e025",
   "metadata": {},
   "outputs": [
    {
     "data": {
      "text/plain": [
       "1004"
      ]
     },
     "execution_count": 135,
     "metadata": {},
     "output_type": "execute_result"
    }
   ],
   "source": [
    "# shouldn't match \n",
    "similar(\"technology consumer electronics apple inc designs manufactures markets smartphones personal computers tablets wearables accessories worldwide also sells various related services addition company offers iphone line smartphones mac line personal computers ipad line multipurpose tablets airpods max overear wireless headphone wearables home accessories comprising airpods apple tv apple watch beats products homepod ipod touch provides applecare support services cloud services store services operates various platforms including app store allow customers discover download applications digital content books music video games podcasts additionally company offers various services apple arcade game subscription service apple music offers users curated listening experience ondemand radio stations apple news subscription news magazine service apple tv offers exclusive original content apple card cobranded credit card apple pay cashless payment service well licenses intellectual property company serves consumers small midsized businesses education enterprise government markets distributes thirdparty applications products app store company also sells products retail online stores direct sales force thirdparty cellular network carriers wholesalers retailers resellers apple inc incorporated  headquartered cupertino california\", \"africa global health policy subcommittee deals matters concerning us relations countries africa except like countries north africa specifically covered subcommittees well regional intergovernmental organizations like african union economic community west african states subcommittee’s regional responsibilities include matters within geographic region including matters relating  terrorism nonproliferation  crime illicit narcotics  us foreign assistance programs  promotion us trade exports addition subcommittee global responsibility healthrelated policy including disease outbreak response\")"
   ]
  },
  {
   "cell_type": "code",
   "execution_count": 136,
   "id": "882c050e",
   "metadata": {},
   "outputs": [
    {
     "data": {
      "text/plain": [
       "0.8"
      ]
     },
     "execution_count": 136,
     "metadata": {},
     "output_type": "execute_result"
    }
   ],
   "source": [
    "textdistance.levenshtein.normalized_similarity('arrow', 'arow')"
   ]
  },
  {
   "cell_type": "code",
   "execution_count": 137,
   "id": "f78c6480",
   "metadata": {},
   "outputs": [],
   "source": [
    "def similar(a,b):\n",
    "    return textdistance.levenshtein.normalized_similarity(a, b)"
   ]
  },
  {
   "cell_type": "code",
   "execution_count": 138,
   "id": "e21e827a",
   "metadata": {
    "scrolled": true
   },
   "outputs": [
    {
     "data": {
      "text/plain": [
       "0.9090909090909091"
      ]
     },
     "execution_count": 138,
     "metadata": {},
     "output_type": "execute_result"
    }
   ],
   "source": [
    "# high match\n",
    "similar(\"fuzzy wuzzy was a bear\", \"wuzzy fuzzy was a bear\")"
   ]
  },
  {
   "cell_type": "code",
   "execution_count": 139,
   "id": "c01329f8",
   "metadata": {},
   "outputs": [
    {
     "data": {
      "text/plain": [
       "0.289210233592881"
      ]
     },
     "execution_count": 139,
     "metadata": {},
     "output_type": "execute_result"
    }
   ],
   "source": [
    "# should match\n",
    "similar(\"utilities utilities—regulated electric nextera energy inc subsidiaries generates transmits distributes sells electric power retail wholesale customers north america company generates electricity wind solar nuclear fossil fuel coal natural gas facilities also develops constructs operates longterm contracted assets focus renewable generation facilities electric transmission facilities battery storage projects owns develops constructs manages operates electric generation facilities wholesale energy markets december   company operated approximately  megawatts net generating capacity serves approximately  million people approximately  million customer accounts east lower west coasts florida approximately  circuit miles transmission distribution lines  substations company formerly known fpl group inc changed name nextera energy inc  nextera energy inc founded  headquartered juno beach florida\", \"africa global health policy subcommittee deals matters concerning us relations countries africa except like countries north africa specifically covered subcommittees well regional intergovernmental organizations like african union economic community west african states subcommittee’s regional responsibilities include matters within geographic region including matters relating  terrorism nonproliferation  crime illicit narcotics  us foreign assistance programs  promotion us trade exports addition subcommittee global responsibility healthrelated policy including disease outbreak response\")"
   ]
  },
  {
   "cell_type": "code",
   "execution_count": 140,
   "id": "add779ff",
   "metadata": {},
   "outputs": [
    {
     "data": {
      "text/plain": [
       "0.19624060150375944"
      ]
     },
     "execution_count": 140,
     "metadata": {},
     "output_type": "execute_result"
    }
   ],
   "source": [
    "# should match\n",
    "similar(\"technology consumer electronics apple inc designs manufactures markets smartphones personal computers tablets wearables accessories worldwide also sells various related services addition company offers iphone line smartphones mac line personal computers ipad line multipurpose tablets airpods max overear wireless headphone wearables home accessories comprising airpods apple tv apple watch beats products homepod ipod touch provides applecare support services cloud services store services operates various platforms including app store allow customers discover download applications digital content books music video games podcasts additionally company offers various services apple arcade game subscription service apple music offers users curated listening experience ondemand radio stations apple news subscription news magazine service apple tv offers exclusive original content apple card cobranded credit card apple pay cashless payment service well licenses intellectual property company serves consumers small midsized businesses education enterprise government markets distributes thirdparty applications products app store company also sells products retail online stores direct sales force thirdparty cellular network carriers wholesalers retailers resellers apple inc incorporated  headquartered cupertino california\", \"cybersecurity infrastructure protection innovation cyber security infrastructure protection innovation subcommittee jurisdiction cybersecurity infrastructure security agency cisa science technology directorate focuses efforts advance federal network security improve critical infrastructure security also oversees cisa‚Äôs chemical security programs crosscutting science technology initiatives\")"
   ]
  },
  {
   "cell_type": "code",
   "execution_count": 141,
   "id": "b5b3d949",
   "metadata": {},
   "outputs": [
    {
     "data": {
      "text/plain": [
       "0.07888040712468192"
      ]
     },
     "execution_count": 141,
     "metadata": {},
     "output_type": "execute_result"
    }
   ],
   "source": [
    "# should match\n",
    "similar(\"technology consumer electronics\", \"cybersecurity infrastructure protection innovation cyber security infrastructure protection innovation subcommittee jurisdiction cybersecurity infrastructure security agency cisa science technology directorate focuses efforts advance federal network security improve critical infrastructure security also oversees cisa‚Äôs chemical security programs crosscutting science technology initiatives\")"
   ]
  },
  {
   "cell_type": "code",
   "execution_count": 142,
   "id": "b273f3ff",
   "metadata": {},
   "outputs": [
    {
     "data": {
      "text/plain": [
       "0.035608308605341255"
      ]
     },
     "execution_count": 142,
     "metadata": {},
     "output_type": "execute_result"
    }
   ],
   "source": [
    "# should match\n",
    "similar(\"utilities utilities—regulated electric\", \"All matters relating to energy research, development, and demonstration projects therefor; commercial application of energy technology; Department of Energy research, development, and demonstration programs; Department of Energy laboratories; Department of Energy science activities; Department of Energy international research, development, and demonstration projects; energy supply activities; nuclear, solar, and renewable energy, and other advanced energy technologies; uranium supply and enrichment, and Department of Energy waste management; Department of Energy environmental management research, development, and demonstration; fossil energy research and development; clean coal technology; energy conservation research and development, including building performance, alternate fuels, distributed power systems, and industrial process improvements; pipeline research, development, and demonstration projects; energy standards; other appropriate matters as referred by the Chair; and relevant oversight.\") "
   ]
  },
  {
   "cell_type": "code",
   "execution_count": 143,
   "id": "66f33e6e",
   "metadata": {},
   "outputs": [
    {
     "data": {
      "text/plain": [
       "0.24511278195488717"
      ]
     },
     "execution_count": 143,
     "metadata": {},
     "output_type": "execute_result"
    }
   ],
   "source": [
    "# shouldn't match \n",
    "similar(\"technology consumer electronics apple inc designs manufactures markets smartphones personal computers tablets wearables accessories worldwide also sells various related services addition company offers iphone line smartphones mac line personal computers ipad line multipurpose tablets airpods max overear wireless headphone wearables home accessories comprising airpods apple tv apple watch beats products homepod ipod touch provides applecare support services cloud services store services operates various platforms including app store allow customers discover download applications digital content books music video games podcasts additionally company offers various services apple arcade game subscription service apple music offers users curated listening experience ondemand radio stations apple news subscription news magazine service apple tv offers exclusive original content apple card cobranded credit card apple pay cashless payment service well licenses intellectual property company serves consumers small midsized businesses education enterprise government markets distributes thirdparty applications products app store company also sells products retail online stores direct sales force thirdparty cellular network carriers wholesalers retailers resellers apple inc incorporated  headquartered cupertino california\", \"africa global health policy subcommittee deals matters concerning us relations countries africa except like countries north africa specifically covered subcommittees well regional intergovernmental organizations like african union economic community west african states subcommittee’s regional responsibilities include matters within geographic region including matters relating  terrorism nonproliferation  crime illicit narcotics  us foreign assistance programs  promotion us trade exports addition subcommittee global responsibility healthrelated policy including disease outbreak response\")"
   ]
  },
  {
   "cell_type": "markdown",
   "id": "bd8ba202",
   "metadata": {},
   "source": [
    "##### Jaccard Index "
   ]
  },
  {
   "cell_type": "markdown",
   "id": "c1c03f84",
   "metadata": {},
   "source": [
    "(find the number of common tokens and divide it by the total number of unique tokens)\n",
    "\n",
    "\"We first tokenize the string by default space delimiter, to make words in the strings as tokens. Then we compute the similarity score.\" "
   ]
  },
  {
   "cell_type": "code",
   "execution_count": 144,
   "id": "3bcad3f8",
   "metadata": {},
   "outputs": [],
   "source": [
    "tokens_1 = \"hello world\".split()\n",
    "tokens_2 = \"world hello\".split()"
   ]
  },
  {
   "cell_type": "code",
   "execution_count": 145,
   "id": "d8643473",
   "metadata": {},
   "outputs": [
    {
     "data": {
      "text/plain": [
       "1.0"
      ]
     },
     "execution_count": 145,
     "metadata": {},
     "output_type": "execute_result"
    }
   ],
   "source": [
    "textdistance.jaccard(tokens_1 , tokens_2)"
   ]
  },
  {
   "cell_type": "code",
   "execution_count": 146,
   "id": "17a9c0ce",
   "metadata": {},
   "outputs": [],
   "source": [
    "tokens_1 = \"hello new world\".split()\n",
    "tokens_2 = \"hello world\".split()"
   ]
  },
  {
   "cell_type": "code",
   "execution_count": 147,
   "id": "28b39866",
   "metadata": {},
   "outputs": [
    {
     "data": {
      "text/plain": [
       "0.6666666666666666"
      ]
     },
     "execution_count": 147,
     "metadata": {},
     "output_type": "execute_result"
    }
   ],
   "source": [
    "textdistance.jaccard(tokens_1 , tokens_2)"
   ]
  },
  {
   "cell_type": "code",
   "execution_count": 148,
   "id": "77e1ec10",
   "metadata": {},
   "outputs": [],
   "source": [
    "def similar(a,b):\n",
    "    return textdistance.jaccard(a, b)"
   ]
  },
  {
   "cell_type": "code",
   "execution_count": 149,
   "id": "044847a0",
   "metadata": {
    "scrolled": true
   },
   "outputs": [
    {
     "data": {
      "text/plain": [
       "1.0"
      ]
     },
     "execution_count": 149,
     "metadata": {},
     "output_type": "execute_result"
    }
   ],
   "source": [
    "# high match\n",
    "similar(\"fuzzy wuzzy was a bear\", \"wuzzy fuzzy was a bear\")"
   ]
  },
  {
   "cell_type": "code",
   "execution_count": 150,
   "id": "80e6e60a",
   "metadata": {},
   "outputs": [
    {
     "data": {
      "text/plain": [
       "0.6493362831858407"
      ]
     },
     "execution_count": 150,
     "metadata": {},
     "output_type": "execute_result"
    }
   ],
   "source": [
    "# should match\n",
    "similar(\"utilities utilities—regulated electric nextera energy inc subsidiaries generates transmits distributes sells electric power retail wholesale customers north america company generates electricity wind solar nuclear fossil fuel coal natural gas facilities also develops constructs operates longterm contracted assets focus renewable generation facilities electric transmission facilities battery storage projects owns develops constructs manages operates electric generation facilities wholesale energy markets december   company operated approximately  megawatts net generating capacity serves approximately  million people approximately  million customer accounts east lower west coasts florida approximately  circuit miles transmission distribution lines  substations company formerly known fpl group inc changed name nextera energy inc  nextera energy inc founded  headquartered juno beach florida\", \"africa global health policy subcommittee deals matters concerning us relations countries africa except like countries north africa specifically covered subcommittees well regional intergovernmental organizations like african union economic community west african states subcommittee’s regional responsibilities include matters within geographic region including matters relating  terrorism nonproliferation  crime illicit narcotics  us foreign assistance programs  promotion us trade exports addition subcommittee global responsibility healthrelated policy including disease outbreak response\")"
   ]
  },
  {
   "cell_type": "code",
   "execution_count": 151,
   "id": "00345d40",
   "metadata": {},
   "outputs": [
    {
     "data": {
      "text/plain": [
       "0.28967065868263475"
      ]
     },
     "execution_count": 151,
     "metadata": {},
     "output_type": "execute_result"
    }
   ],
   "source": [
    "# should match\n",
    "similar(\"technology consumer electronics apple inc designs manufactures markets smartphones personal computers tablets wearables accessories worldwide also sells various related services addition company offers iphone line smartphones mac line personal computers ipad line multipurpose tablets airpods max overear wireless headphone wearables home accessories comprising airpods apple tv apple watch beats products homepod ipod touch provides applecare support services cloud services store services operates various platforms including app store allow customers discover download applications digital content books music video games podcasts additionally company offers various services apple arcade game subscription service apple music offers users curated listening experience ondemand radio stations apple news subscription news magazine service apple tv offers exclusive original content apple card cobranded credit card apple pay cashless payment service well licenses intellectual property company serves consumers small midsized businesses education enterprise government markets distributes thirdparty applications products app store company also sells products retail online stores direct sales force thirdparty cellular network carriers wholesalers retailers resellers apple inc incorporated  headquartered cupertino california\", \"cybersecurity infrastructure protection innovation cyber security infrastructure protection innovation subcommittee jurisdiction cybersecurity infrastructure security agency cisa science technology directorate focuses efforts advance federal network security improve critical infrastructure security also oversees cisa‚Äôs chemical security programs crosscutting science technology initiatives\")"
   ]
  },
  {
   "cell_type": "code",
   "execution_count": 152,
   "id": "0677567a",
   "metadata": {},
   "outputs": [
    {
     "data": {
      "text/plain": [
       "0.07888040712468193"
      ]
     },
     "execution_count": 152,
     "metadata": {},
     "output_type": "execute_result"
    }
   ],
   "source": [
    "# should match\n",
    "similar(\"technology consumer electronics\", \"cybersecurity infrastructure protection innovation cyber security infrastructure protection innovation subcommittee jurisdiction cybersecurity infrastructure security agency cisa science technology directorate focuses efforts advance federal network security improve critical infrastructure security also oversees cisa‚Äôs chemical security programs crosscutting science technology initiatives\")"
   ]
  },
  {
   "cell_type": "code",
   "execution_count": 153,
   "id": "88ab09c1",
   "metadata": {},
   "outputs": [
    {
     "data": {
      "text/plain": [
       "0.036561264822134384"
      ]
     },
     "execution_count": 153,
     "metadata": {},
     "output_type": "execute_result"
    }
   ],
   "source": [
    "# should match\n",
    "similar(\"utilities utilities—regulated electric\", \"All matters relating to energy research, development, and demonstration projects therefor; commercial application of energy technology; Department of Energy research, development, and demonstration programs; Department of Energy laboratories; Department of Energy science activities; Department of Energy international research, development, and demonstration projects; energy supply activities; nuclear, solar, and renewable energy, and other advanced energy technologies; uranium supply and enrichment, and Department of Energy waste management; Department of Energy environmental management research, development, and demonstration; fossil energy research and development; clean coal technology; energy conservation research and development, including building performance, alternate fuels, distributed power systems, and industrial process improvements; pipeline research, development, and demonstration projects; energy standards; other appropriate matters as referred by the Chair; and relevant oversight.\") "
   ]
  },
  {
   "cell_type": "code",
   "execution_count": 154,
   "id": "dc948b4e",
   "metadata": {},
   "outputs": [
    {
     "data": {
      "text/plain": [
       "0.4397003745318352"
      ]
     },
     "execution_count": 154,
     "metadata": {},
     "output_type": "execute_result"
    }
   ],
   "source": [
    "# shouldn't match \n",
    "similar(\"technology consumer electronics apple inc designs manufactures markets smartphones personal computers tablets wearables accessories worldwide also sells various related services addition company offers iphone line smartphones mac line personal computers ipad line multipurpose tablets airpods max overear wireless headphone wearables home accessories comprising airpods apple tv apple watch beats products homepod ipod touch provides applecare support services cloud services store services operates various platforms including app store allow customers discover download applications digital content books music video games podcasts additionally company offers various services apple arcade game subscription service apple music offers users curated listening experience ondemand radio stations apple news subscription news magazine service apple tv offers exclusive original content apple card cobranded credit card apple pay cashless payment service well licenses intellectual property company serves consumers small midsized businesses education enterprise government markets distributes thirdparty applications products app store company also sells products retail online stores direct sales force thirdparty cellular network carriers wholesalers retailers resellers apple inc incorporated  headquartered cupertino california\", \"africa global health policy subcommittee deals matters concerning us relations countries africa except like countries north africa specifically covered subcommittees well regional intergovernmental organizations like african union economic community west african states subcommittee’s regional responsibilities include matters within geographic region including matters relating  terrorism nonproliferation  crime illicit narcotics  us foreign assistance programs  promotion us trade exports addition subcommittee global responsibility healthrelated policy including disease outbreak response\")"
   ]
  },
  {
   "cell_type": "markdown",
   "id": "a2e25db3",
   "metadata": {},
   "source": [
    "##### Sorensen-Dice"
   ]
  },
  {
   "cell_type": "markdown",
   "id": "fae257bd",
   "metadata": {},
   "source": [
    "\"Falling under set similarity, the logic is to find the common tokens, and divide it by the total number of tokens present by combining both sets.\" "
   ]
  },
  {
   "cell_type": "code",
   "execution_count": 155,
   "id": "f99d0476",
   "metadata": {},
   "outputs": [],
   "source": [
    "tokens_1 = \"hello world\".split()\n",
    "tokens_2 = \"world hello\".split()"
   ]
  },
  {
   "cell_type": "code",
   "execution_count": 156,
   "id": "68fd3b41",
   "metadata": {},
   "outputs": [
    {
     "data": {
      "text/plain": [
       "1.0"
      ]
     },
     "execution_count": 156,
     "metadata": {},
     "output_type": "execute_result"
    }
   ],
   "source": [
    "textdistance.sorensen(tokens_1 , tokens_2)"
   ]
  },
  {
   "cell_type": "code",
   "execution_count": 157,
   "id": "a7772bd9",
   "metadata": {},
   "outputs": [],
   "source": [
    "tokens_1 = \"hello new world\".split()\n",
    "tokens_2 = \"hello world\".split()"
   ]
  },
  {
   "cell_type": "code",
   "execution_count": 158,
   "id": "20665ee1",
   "metadata": {},
   "outputs": [
    {
     "data": {
      "text/plain": [
       "0.8"
      ]
     },
     "execution_count": 158,
     "metadata": {},
     "output_type": "execute_result"
    }
   ],
   "source": [
    "textdistance.sorensen(tokens_1 , tokens_2)"
   ]
  },
  {
   "cell_type": "code",
   "execution_count": 159,
   "id": "d2f3c8de",
   "metadata": {},
   "outputs": [],
   "source": [
    "def similar(a,b):\n",
    "    return textdistance.sorensen(a, b)"
   ]
  },
  {
   "cell_type": "code",
   "execution_count": 160,
   "id": "be8f07af",
   "metadata": {
    "scrolled": true
   },
   "outputs": [
    {
     "data": {
      "text/plain": [
       "1.0"
      ]
     },
     "execution_count": 160,
     "metadata": {},
     "output_type": "execute_result"
    }
   ],
   "source": [
    "# high match\n",
    "similar(\"fuzzy wuzzy was a bear\", \"wuzzy fuzzy was a bear\")"
   ]
  },
  {
   "cell_type": "code",
   "execution_count": 161,
   "id": "346c505a",
   "metadata": {},
   "outputs": [
    {
     "data": {
      "text/plain": [
       "0.7873910127431254"
      ]
     },
     "execution_count": 161,
     "metadata": {},
     "output_type": "execute_result"
    }
   ],
   "source": [
    "# should match\n",
    "similar(\"utilities utilities—regulated electric nextera energy inc subsidiaries generates transmits distributes sells electric power retail wholesale customers north america company generates electricity wind solar nuclear fossil fuel coal natural gas facilities also develops constructs operates longterm contracted assets focus renewable generation facilities electric transmission facilities battery storage projects owns develops constructs manages operates electric generation facilities wholesale energy markets december   company operated approximately  megawatts net generating capacity serves approximately  million people approximately  million customer accounts east lower west coasts florida approximately  circuit miles transmission distribution lines  substations company formerly known fpl group inc changed name nextera energy inc  nextera energy inc founded  headquartered juno beach florida\", \"africa global health policy subcommittee deals matters concerning us relations countries africa except like countries north africa specifically covered subcommittees well regional intergovernmental organizations like african union economic community west african states subcommittee’s regional responsibilities include matters within geographic region including matters relating  terrorism nonproliferation  crime illicit narcotics  us foreign assistance programs  promotion us trade exports addition subcommittee global responsibility healthrelated policy including disease outbreak response\")"
   ]
  },
  {
   "cell_type": "code",
   "execution_count": 162,
   "id": "3545e19e",
   "metadata": {},
   "outputs": [
    {
     "data": {
      "text/plain": [
       "0.4492164828786999"
      ]
     },
     "execution_count": 162,
     "metadata": {},
     "output_type": "execute_result"
    }
   ],
   "source": [
    "# should match\n",
    "similar(\"technology consumer electronics apple inc designs manufactures markets smartphones personal computers tablets wearables accessories worldwide also sells various related services addition company offers iphone line smartphones mac line personal computers ipad line multipurpose tablets airpods max overear wireless headphone wearables home accessories comprising airpods apple tv apple watch beats products homepod ipod touch provides applecare support services cloud services store services operates various platforms including app store allow customers discover download applications digital content books music video games podcasts additionally company offers various services apple arcade game subscription service apple music offers users curated listening experience ondemand radio stations apple news subscription news magazine service apple tv offers exclusive original content apple card cobranded credit card apple pay cashless payment service well licenses intellectual property company serves consumers small midsized businesses education enterprise government markets distributes thirdparty applications products app store company also sells products retail online stores direct sales force thirdparty cellular network carriers wholesalers retailers resellers apple inc incorporated  headquartered cupertino california\", \"cybersecurity infrastructure protection innovation cyber security infrastructure protection innovation subcommittee jurisdiction cybersecurity infrastructure security agency cisa science technology directorate focuses efforts advance federal network security improve critical infrastructure security also oversees cisa‚Äôs chemical security programs crosscutting science technology initiatives\")"
   ]
  },
  {
   "cell_type": "code",
   "execution_count": 163,
   "id": "59e768c1",
   "metadata": {},
   "outputs": [
    {
     "data": {
      "text/plain": [
       "0.14622641509433962"
      ]
     },
     "execution_count": 163,
     "metadata": {},
     "output_type": "execute_result"
    }
   ],
   "source": [
    "# should match\n",
    "similar(\"technology consumer electronics\", \"cybersecurity infrastructure protection innovation cyber security infrastructure protection innovation subcommittee jurisdiction cybersecurity infrastructure security agency cisa science technology directorate focuses efforts advance federal network security improve critical infrastructure security also oversees cisa‚Äôs chemical security programs crosscutting science technology initiatives\")"
   ]
  },
  {
   "cell_type": "code",
   "execution_count": 164,
   "id": "53528de0",
   "metadata": {},
   "outputs": [
    {
     "data": {
      "text/plain": [
       "0.07054337464251668"
      ]
     },
     "execution_count": 164,
     "metadata": {},
     "output_type": "execute_result"
    }
   ],
   "source": [
    "# should match\n",
    "similar(\"utilities utilities—regulated electric\", \"All matters relating to energy research, development, and demonstration projects therefor; commercial application of energy technology; Department of Energy research, development, and demonstration programs; Department of Energy laboratories; Department of Energy science activities; Department of Energy international research, development, and demonstration projects; energy supply activities; nuclear, solar, and renewable energy, and other advanced energy technologies; uranium supply and enrichment, and Department of Energy waste management; Department of Energy environmental management research, development, and demonstration; fossil energy research and development; clean coal technology; energy conservation research and development, including building performance, alternate fuels, distributed power systems, and industrial process improvements; pipeline research, development, and demonstration projects; energy standards; other appropriate matters as referred by the Chair; and relevant oversight.\") "
   ]
  },
  {
   "cell_type": "code",
   "execution_count": 165,
   "id": "177da41f",
   "metadata": {},
   "outputs": [
    {
     "data": {
      "text/plain": [
       "0.6108220603537982"
      ]
     },
     "execution_count": 165,
     "metadata": {},
     "output_type": "execute_result"
    }
   ],
   "source": [
    "# shouldn't match \n",
    "similar(\"technology consumer electronics apple inc designs manufactures markets smartphones personal computers tablets wearables accessories worldwide also sells various related services addition company offers iphone line smartphones mac line personal computers ipad line multipurpose tablets airpods max overear wireless headphone wearables home accessories comprising airpods apple tv apple watch beats products homepod ipod touch provides applecare support services cloud services store services operates various platforms including app store allow customers discover download applications digital content books music video games podcasts additionally company offers various services apple arcade game subscription service apple music offers users curated listening experience ondemand radio stations apple news subscription news magazine service apple tv offers exclusive original content apple card cobranded credit card apple pay cashless payment service well licenses intellectual property company serves consumers small midsized businesses education enterprise government markets distributes thirdparty applications products app store company also sells products retail online stores direct sales force thirdparty cellular network carriers wholesalers retailers resellers apple inc incorporated  headquartered cupertino california\", \"africa global health policy subcommittee deals matters concerning us relations countries africa except like countries north africa specifically covered subcommittees well regional intergovernmental organizations like african union economic community west african states subcommittee’s regional responsibilities include matters within geographic region including matters relating  terrorism nonproliferation  crime illicit narcotics  us foreign assistance programs  promotion us trade exports addition subcommittee global responsibility healthrelated policy including disease outbreak response\")"
   ]
  },
  {
   "cell_type": "markdown",
   "id": "a2e793b8",
   "metadata": {},
   "source": [
    "##### Ratcliff-Obershelp similarity"
   ]
  },
  {
   "cell_type": "code",
   "execution_count": 166,
   "id": "4d74261a",
   "metadata": {},
   "outputs": [],
   "source": [
    "string1, string2 = \"i am going home\", \"gone home\""
   ]
  },
  {
   "cell_type": "code",
   "execution_count": 167,
   "id": "7763f9bd",
   "metadata": {},
   "outputs": [
    {
     "data": {
      "text/plain": [
       "0.6666666666666666"
      ]
     },
     "execution_count": 167,
     "metadata": {},
     "output_type": "execute_result"
    }
   ],
   "source": [
    "textdistance.ratcliff_obershelp(string1, string2)"
   ]
  },
  {
   "cell_type": "code",
   "execution_count": 168,
   "id": "7d869c72",
   "metadata": {},
   "outputs": [],
   "source": [
    "def similar(a,b):\n",
    "    return textdistance.ratcliff_obershelp(a, b)"
   ]
  },
  {
   "cell_type": "code",
   "execution_count": 169,
   "id": "e5b67b45",
   "metadata": {
    "scrolled": true
   },
   "outputs": [
    {
     "data": {
      "text/plain": [
       "0.9090909090909091"
      ]
     },
     "execution_count": 169,
     "metadata": {},
     "output_type": "execute_result"
    }
   ],
   "source": [
    "# high match\n",
    "similar(\"fuzzy wuzzy was a bear\", \"wuzzy fuzzy was a bear\")"
   ]
  },
  {
   "cell_type": "code",
   "execution_count": 170,
   "id": "ac3561ba",
   "metadata": {},
   "outputs": [
    {
     "data": {
      "text/plain": [
       "0.12206572769953052"
      ]
     },
     "execution_count": 170,
     "metadata": {},
     "output_type": "execute_result"
    }
   ],
   "source": [
    "# should match \n",
    "similar(\"utilities utilities—regulated electric nextera energy inc subsidiaries generates transmits distributes sells electric power retail wholesale customers north america company generates electricity wind solar nuclear fossil fuel coal natural gas facilities also develops constructs operates longterm contracted assets focus renewable generation facilities electric transmission facilities battery storage projects owns develops constructs manages operates electric generation facilities wholesale energy markets december   company operated approximately  megawatts net generating capacity serves approximately  million people approximately  million customer accounts east lower west coasts florida approximately  circuit miles transmission distribution lines  substations company formerly known fpl group inc changed name nextera energy inc  nextera energy inc founded  headquartered juno beach florida\", \"africa global health policy subcommittee deals matters concerning us relations countries africa except like countries north africa specifically covered subcommittees well regional intergovernmental organizations like african union economic community west african states subcommittee’s regional responsibilities include matters within geographic region including matters relating  terrorism nonproliferation  crime illicit narcotics  us foreign assistance programs  promotion us trade exports addition subcommittee global responsibility healthrelated policy including disease outbreak response\")"
   ]
  },
  {
   "cell_type": "code",
   "execution_count": 171,
   "id": "7c06e2e0",
   "metadata": {},
   "outputs": [
    {
     "data": {
      "text/plain": [
       "0.06848520023215322"
      ]
     },
     "execution_count": 171,
     "metadata": {},
     "output_type": "execute_result"
    }
   ],
   "source": [
    "# should match\n",
    "similar(\"technology consumer electronics apple inc designs manufactures markets smartphones personal computers tablets wearables accessories worldwide also sells various related services addition company offers iphone line smartphones mac line personal computers ipad line multipurpose tablets airpods max overear wireless headphone wearables home accessories comprising airpods apple tv apple watch beats products homepod ipod touch provides applecare support services cloud services store services operates various platforms including app store allow customers discover download applications digital content books music video games podcasts additionally company offers various services apple arcade game subscription service apple music offers users curated listening experience ondemand radio stations apple news subscription news magazine service apple tv offers exclusive original content apple card cobranded credit card apple pay cashless payment service well licenses intellectual property company serves consumers small midsized businesses education enterprise government markets distributes thirdparty applications products app store company also sells products retail online stores direct sales force thirdparty cellular network carriers wholesalers retailers resellers apple inc incorporated  headquartered cupertino california\", \"cybersecurity infrastructure protection innovation cyber security infrastructure protection innovation subcommittee jurisdiction cybersecurity infrastructure security agency cisa science technology directorate focuses efforts advance federal network security improve critical infrastructure security also oversees cisa‚Äôs chemical security programs crosscutting science technology initiatives\")"
   ]
  },
  {
   "cell_type": "code",
   "execution_count": 172,
   "id": "65f28958",
   "metadata": {},
   "outputs": [
    {
     "data": {
      "text/plain": [
       "0.09433962264150944"
      ]
     },
     "execution_count": 172,
     "metadata": {},
     "output_type": "execute_result"
    }
   ],
   "source": [
    "# should match\n",
    "similar(\"technology consumer electronics\", \"cybersecurity infrastructure protection innovation cyber security infrastructure protection innovation subcommittee jurisdiction cybersecurity infrastructure security agency cisa science technology directorate focuses efforts advance federal network security improve critical infrastructure security also oversees cisa‚Äôs chemical security programs crosscutting science technology initiatives\")"
   ]
  },
  {
   "cell_type": "code",
   "execution_count": 173,
   "id": "74568719",
   "metadata": {},
   "outputs": [
    {
     "data": {
      "text/plain": [
       "0.06291706387035272"
      ]
     },
     "execution_count": 173,
     "metadata": {},
     "output_type": "execute_result"
    }
   ],
   "source": [
    "# should match \n",
    "similar(\"utilities utilities—regulated electric\", \"All matters relating to energy research, development, and demonstration projects therefor; commercial application of energy technology; Department of Energy research, development, and demonstration programs; Department of Energy laboratories; Department of Energy science activities; Department of Energy international research, development, and demonstration projects; energy supply activities; nuclear, solar, and renewable energy, and other advanced energy technologies; uranium supply and enrichment, and Department of Energy waste management; Department of Energy environmental management research, development, and demonstration; fossil energy research and development; clean coal technology; energy conservation research and development, including building performance, alternate fuels, distributed power systems, and industrial process improvements; pipeline research, development, and demonstration projects; energy standards; other appropriate matters as referred by the Chair; and relevant oversight.\") "
   ]
  },
  {
   "cell_type": "code",
   "execution_count": 174,
   "id": "5f2ffa07",
   "metadata": {},
   "outputs": [
    {
     "data": {
      "text/plain": [
       "0.18106139438085328"
      ]
     },
     "execution_count": 174,
     "metadata": {},
     "output_type": "execute_result"
    }
   ],
   "source": [
    "# shouldn't match \n",
    "similar(\"technology consumer electronics apple inc designs manufactures markets smartphones personal computers tablets wearables accessories worldwide also sells various related services addition company offers iphone line smartphones mac line personal computers ipad line multipurpose tablets airpods max overear wireless headphone wearables home accessories comprising airpods apple tv apple watch beats products homepod ipod touch provides applecare support services cloud services store services operates various platforms including app store allow customers discover download applications digital content books music video games podcasts additionally company offers various services apple arcade game subscription service apple music offers users curated listening experience ondemand radio stations apple news subscription news magazine service apple tv offers exclusive original content apple card cobranded credit card apple pay cashless payment service well licenses intellectual property company serves consumers small midsized businesses education enterprise government markets distributes thirdparty applications products app store company also sells products retail online stores direct sales force thirdparty cellular network carriers wholesalers retailers resellers apple inc incorporated  headquartered cupertino california\", \"africa global health policy subcommittee deals matters concerning us relations countries africa except like countries north africa specifically covered subcommittees well regional intergovernmental organizations like african union economic community west african states subcommittee’s regional responsibilities include matters within geographic region including matters relating  terrorism nonproliferation  crime illicit narcotics  us foreign assistance programs  promotion us trade exports addition subcommittee global responsibility healthrelated policy including disease outbreak response\")"
   ]
  },
  {
   "cell_type": "markdown",
   "id": "18eaeacb",
   "metadata": {},
   "source": [
    "----"
   ]
  }
 ],
 "metadata": {
  "kernelspec": {
   "display_name": "Python 3 (ipykernel)",
   "language": "python",
   "name": "python3"
  },
  "language_info": {
   "codemirror_mode": {
    "name": "ipython",
    "version": 3
   },
   "file_extension": ".py",
   "mimetype": "text/x-python",
   "name": "python",
   "nbconvert_exporter": "python",
   "pygments_lexer": "ipython3",
   "version": "3.10.0"
  }
 },
 "nbformat": 4,
 "nbformat_minor": 5
}
