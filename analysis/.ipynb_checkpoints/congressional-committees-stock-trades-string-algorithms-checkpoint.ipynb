{
 "cells": [
  {
   "cell_type": "markdown",
   "id": "873b9ca1",
   "metadata": {},
   "source": [
    "# Congressional Committees w/ Stock Trades w/ String Algorithms"
   ]
  },
  {
   "cell_type": "markdown",
   "id": "99c47e2a",
   "metadata": {},
   "source": [
    "Exploring matching Congressional stock trade data and stock descriptions with Congressional Committee descriptions"
   ]
  },
  {
   "cell_type": "markdown",
   "id": "a2b80524",
   "metadata": {},
   "source": [
    "reference: https://pythonspot.com/nltk-stop-words/"
   ]
  },
  {
   "cell_type": "code",
   "execution_count": null,
   "id": "1efb946f",
   "metadata": {},
   "outputs": [],
   "source": []
  },
  {
   "cell_type": "markdown",
   "id": "fccda6cb",
   "metadata": {},
   "source": [
    "----"
   ]
  },
  {
   "cell_type": "markdown",
   "id": "11612340",
   "metadata": {},
   "source": [
    "#### Imports"
   ]
  },
  {
   "cell_type": "code",
   "execution_count": 1,
   "id": "648933c6",
   "metadata": {},
   "outputs": [
    {
     "name": "stderr",
     "output_type": "stream",
     "text": [
      "/Users/sm/.pyenv/versions/3.10.0/lib/python3.10/site-packages/pandas/compat/__init__.py:124: UserWarning: Could not import the lzma module. Your installed Python is incomplete. Attempting to use lzma compression will result in a RuntimeError.\n",
      "  warnings.warn(msg)\n"
     ]
    }
   ],
   "source": [
    "import pandas as pd\n",
    "import numpy as np\n",
    "import matplotlib.pyplot as plt\n",
    "from IPython.display import display, HTML"
   ]
  },
  {
   "cell_type": "code",
   "execution_count": 2,
   "id": "d90330a0",
   "metadata": {},
   "outputs": [],
   "source": [
    "# pd.set_option('display.max_columns', None)\n",
    "# pd.set_option('display.max_rows', None)\n",
    "# pd.set_option('display.width', None)\n",
    "# pd.set_option('display.max_colwidth', None)\n",
    "# pd.set_option('max_seq_item', None)"
   ]
  },
  {
   "cell_type": "code",
   "execution_count": 3,
   "id": "8367da9c",
   "metadata": {},
   "outputs": [
    {
     "name": "stderr",
     "output_type": "stream",
     "text": [
      "/Users/sm/.pyenv/versions/3.10.0/lib/python3.10/site-packages/fuzzywuzzy/fuzz.py:11: UserWarning: Using slow pure-python SequenceMatcher. Install python-Levenshtein to remove this warning\n",
      "  warnings.warn('Using slow pure-python SequenceMatcher. Install python-Levenshtein to remove this warning')\n",
      "/Users/sm/.pyenv/versions/3.10.0/lib/python3.10/site-packages/thefuzz/fuzz.py:11: UserWarning: Using slow pure-python SequenceMatcher. Install python-Levenshtein to remove this warning\n",
      "  warnings.warn('Using slow pure-python SequenceMatcher. Install python-Levenshtein to remove this warning')\n"
     ]
    }
   ],
   "source": [
    "#string matching imports\n",
    "from difflib import SequenceMatcher\n",
    "from fuzzywuzzy import fuzz\n",
    "from fuzzywuzzy import process\n",
    "from thefuzz import fuzz\n",
    "from thefuzz import process\n",
    "import textdistance\n",
    "import jaro\n",
    "import jellyfish"
   ]
  },
  {
   "cell_type": "code",
   "execution_count": 4,
   "id": "a7ae074f",
   "metadata": {},
   "outputs": [],
   "source": [
    "#natural language processing imports\n",
    "import nltk\n",
    "from nltk.tokenize import sent_tokenize, word_tokenize\n",
    "from nltk.corpus import stopwords\n",
    "from nltk.corpus import treebank\n",
    "import string"
   ]
  },
  {
   "cell_type": "code",
   "execution_count": 5,
   "id": "5575b7df",
   "metadata": {},
   "outputs": [
    {
     "name": "stderr",
     "output_type": "stream",
     "text": [
      "[nltk_data] Downloading package punkt to /Users/sm/nltk_data...\n",
      "[nltk_data]   Package punkt is already up-to-date!\n",
      "[nltk_data] Downloading package stopwords to /Users/sm/nltk_data...\n",
      "[nltk_data]   Package stopwords is already up-to-date!\n",
      "[nltk_data] Downloading package averaged_perceptron_tagger to\n",
      "[nltk_data]     /Users/sm/nltk_data...\n",
      "[nltk_data]   Package averaged_perceptron_tagger is already up-to-\n",
      "[nltk_data]       date!\n",
      "[nltk_data] Downloading package maxent_ne_chunker to\n",
      "[nltk_data]     /Users/sm/nltk_data...\n",
      "[nltk_data]   Package maxent_ne_chunker is already up-to-date!\n",
      "[nltk_data] Downloading package words to /Users/sm/nltk_data...\n",
      "[nltk_data]   Package words is already up-to-date!\n",
      "[nltk_data] Downloading package treebank to /Users/sm/nltk_data...\n",
      "[nltk_data]   Package treebank is already up-to-date!\n"
     ]
    },
    {
     "data": {
      "text/plain": [
       "True"
      ]
     },
     "execution_count": 5,
     "metadata": {},
     "output_type": "execute_result"
    }
   ],
   "source": [
    "nltk.download('punkt')\n",
    "nltk.download('stopwords')\n",
    "nltk.download('averaged_perceptron_tagger')\n",
    "nltk.download('maxent_ne_chunker')\n",
    "nltk.download('words')\n",
    "nltk.download('treebank')"
   ]
  },
  {
   "cell_type": "markdown",
   "id": "3a1f06d7",
   "metadata": {},
   "source": [
    "----"
   ]
  },
  {
   "cell_type": "markdown",
   "id": "0d6e7c56",
   "metadata": {},
   "source": [
    "##### Reading Dataframes"
   ]
  },
  {
   "cell_type": "markdown",
   "id": "1f253c6f",
   "metadata": {},
   "source": [
    "Read in Stock trades by Congress members with Yahoo finance stock info"
   ]
  },
  {
   "cell_type": "code",
   "execution_count": 6,
   "id": "403a1506",
   "metadata": {},
   "outputs": [],
   "source": [
    "df_trades = pd.read_csv(\"..//data//processed//stock_watchers_w_yfinance_03_12_2022.csv\", encoding=\"utf-8\")"
   ]
  },
  {
   "cell_type": "code",
   "execution_count": 7,
   "id": "90e1e98d",
   "metadata": {},
   "outputs": [
    {
     "data": {
      "text/html": [
       "<div>\n",
       "<style scoped>\n",
       "    .dataframe tbody tr th:only-of-type {\n",
       "        vertical-align: middle;\n",
       "    }\n",
       "\n",
       "    .dataframe tbody tr th {\n",
       "        vertical-align: top;\n",
       "    }\n",
       "\n",
       "    .dataframe thead th {\n",
       "        text-align: right;\n",
       "    }\n",
       "</style>\n",
       "<table border=\"1\" class=\"dataframe\">\n",
       "  <thead>\n",
       "    <tr style=\"text-align: right;\">\n",
       "      <th></th>\n",
       "      <th>transaction_date</th>\n",
       "      <th>disclosure_date</th>\n",
       "      <th>politician</th>\n",
       "      <th>owner</th>\n",
       "      <th>ticker</th>\n",
       "      <th>amount</th>\n",
       "      <th>asset_description</th>\n",
       "      <th>asset_type</th>\n",
       "      <th>transaction_type</th>\n",
       "      <th>comment</th>\n",
       "      <th>...</th>\n",
       "      <th>cap_gains</th>\n",
       "      <th>amount_low</th>\n",
       "      <th>amount_high</th>\n",
       "      <th>ticker2</th>\n",
       "      <th>name</th>\n",
       "      <th>sector</th>\n",
       "      <th>industry</th>\n",
       "      <th>longbusinesssummary</th>\n",
       "      <th>website</th>\n",
       "      <th>stock_description</th>\n",
       "    </tr>\n",
       "  </thead>\n",
       "  <tbody>\n",
       "    <tr>\n",
       "      <th>0</th>\n",
       "      <td>02/24/2022</td>\n",
       "      <td>03/11/2022</td>\n",
       "      <td>Shelley M Capito</td>\n",
       "      <td>Spouse</td>\n",
       "      <td>NEE</td>\n",
       "      <td>1001 - 15000</td>\n",
       "      <td>NextEra Energy, Inc. Common Stock</td>\n",
       "      <td>Stock</td>\n",
       "      <td>Sale (Partial)</td>\n",
       "      <td>--</td>\n",
       "      <td>...</td>\n",
       "      <td>NaN</td>\n",
       "      <td>1001</td>\n",
       "      <td>15000.0</td>\n",
       "      <td>NEE</td>\n",
       "      <td>NextEra Energy, Inc.</td>\n",
       "      <td>Utilities</td>\n",
       "      <td>Utilities—Regulated Electric</td>\n",
       "      <td>NextEra Energy, Inc., through its subsidiaries...</td>\n",
       "      <td>https://www.nexteraenergy.com</td>\n",
       "      <td>Utilities, Utilities—Regulated Electric, NextE...</td>\n",
       "    </tr>\n",
       "  </tbody>\n",
       "</table>\n",
       "<p>1 rows × 22 columns</p>\n",
       "</div>"
      ],
      "text/plain": [
       "  transaction_date disclosure_date        politician   owner ticker  \\\n",
       "0       02/24/2022      03/11/2022  Shelley M Capito  Spouse    NEE   \n",
       "\n",
       "         amount                  asset_description asset_type  \\\n",
       "0  1001 - 15000  NextEra Energy, Inc. Common Stock      Stock   \n",
       "\n",
       "  transaction_type comment  ... cap_gains amount_low amount_high ticker2  \\\n",
       "0   Sale (Partial)      --  ...       NaN       1001     15000.0     NEE   \n",
       "\n",
       "                   name     sector                      industry  \\\n",
       "0  NextEra Energy, Inc.  Utilities  Utilities—Regulated Electric   \n",
       "\n",
       "                                 longbusinesssummary  \\\n",
       "0  NextEra Energy, Inc., through its subsidiaries...   \n",
       "\n",
       "                         website  \\\n",
       "0  https://www.nexteraenergy.com   \n",
       "\n",
       "                                   stock_description  \n",
       "0  Utilities, Utilities—Regulated Electric, NextE...  \n",
       "\n",
       "[1 rows x 22 columns]"
      ]
     },
     "execution_count": 7,
     "metadata": {},
     "output_type": "execute_result"
    }
   ],
   "source": [
    "df_trades.head(1)"
   ]
  },
  {
   "cell_type": "code",
   "execution_count": 8,
   "id": "cb075696",
   "metadata": {},
   "outputs": [],
   "source": [
    "df_trades['sector_industry'] = df_trades['sector'] + ' ' + df_trades['industry']"
   ]
  },
  {
   "cell_type": "code",
   "execution_count": 9,
   "id": "1a5078d7",
   "metadata": {},
   "outputs": [
    {
     "data": {
      "text/html": [
       "<div>\n",
       "<style scoped>\n",
       "    .dataframe tbody tr th:only-of-type {\n",
       "        vertical-align: middle;\n",
       "    }\n",
       "\n",
       "    .dataframe tbody tr th {\n",
       "        vertical-align: top;\n",
       "    }\n",
       "\n",
       "    .dataframe thead th {\n",
       "        text-align: right;\n",
       "    }\n",
       "</style>\n",
       "<table border=\"1\" class=\"dataframe\">\n",
       "  <thead>\n",
       "    <tr style=\"text-align: right;\">\n",
       "      <th></th>\n",
       "      <th>transaction_date</th>\n",
       "      <th>disclosure_date</th>\n",
       "      <th>politician</th>\n",
       "      <th>owner</th>\n",
       "      <th>ticker</th>\n",
       "      <th>amount</th>\n",
       "      <th>asset_description</th>\n",
       "      <th>asset_type</th>\n",
       "      <th>transaction_type</th>\n",
       "      <th>comment</th>\n",
       "      <th>...</th>\n",
       "      <th>amount_low</th>\n",
       "      <th>amount_high</th>\n",
       "      <th>ticker2</th>\n",
       "      <th>name</th>\n",
       "      <th>sector</th>\n",
       "      <th>industry</th>\n",
       "      <th>longbusinesssummary</th>\n",
       "      <th>website</th>\n",
       "      <th>stock_description</th>\n",
       "      <th>sector_industry</th>\n",
       "    </tr>\n",
       "  </thead>\n",
       "  <tbody>\n",
       "    <tr>\n",
       "      <th>0</th>\n",
       "      <td>02/24/2022</td>\n",
       "      <td>03/11/2022</td>\n",
       "      <td>Shelley M Capito</td>\n",
       "      <td>Spouse</td>\n",
       "      <td>NEE</td>\n",
       "      <td>1001 - 15000</td>\n",
       "      <td>NextEra Energy, Inc. Common Stock</td>\n",
       "      <td>Stock</td>\n",
       "      <td>Sale (Partial)</td>\n",
       "      <td>--</td>\n",
       "      <td>...</td>\n",
       "      <td>1001</td>\n",
       "      <td>15000.0</td>\n",
       "      <td>NEE</td>\n",
       "      <td>NextEra Energy, Inc.</td>\n",
       "      <td>Utilities</td>\n",
       "      <td>Utilities—Regulated Electric</td>\n",
       "      <td>NextEra Energy, Inc., through its subsidiaries...</td>\n",
       "      <td>https://www.nexteraenergy.com</td>\n",
       "      <td>Utilities, Utilities—Regulated Electric, NextE...</td>\n",
       "      <td>Utilities Utilities—Regulated Electric</td>\n",
       "    </tr>\n",
       "  </tbody>\n",
       "</table>\n",
       "<p>1 rows × 23 columns</p>\n",
       "</div>"
      ],
      "text/plain": [
       "  transaction_date disclosure_date        politician   owner ticker  \\\n",
       "0       02/24/2022      03/11/2022  Shelley M Capito  Spouse    NEE   \n",
       "\n",
       "         amount                  asset_description asset_type  \\\n",
       "0  1001 - 15000  NextEra Energy, Inc. Common Stock      Stock   \n",
       "\n",
       "  transaction_type comment  ... amount_low amount_high ticker2  \\\n",
       "0   Sale (Partial)      --  ...       1001     15000.0     NEE   \n",
       "\n",
       "                   name     sector                      industry  \\\n",
       "0  NextEra Energy, Inc.  Utilities  Utilities—Regulated Electric   \n",
       "\n",
       "                                 longbusinesssummary  \\\n",
       "0  NextEra Energy, Inc., through its subsidiaries...   \n",
       "\n",
       "                         website  \\\n",
       "0  https://www.nexteraenergy.com   \n",
       "\n",
       "                                   stock_description  \\\n",
       "0  Utilities, Utilities—Regulated Electric, NextE...   \n",
       "\n",
       "                          sector_industry  \n",
       "0  Utilities Utilities—Regulated Electric  \n",
       "\n",
       "[1 rows x 23 columns]"
      ]
     },
     "execution_count": 9,
     "metadata": {},
     "output_type": "execute_result"
    }
   ],
   "source": [
    "df_trades.head(1)"
   ]
  },
  {
   "cell_type": "markdown",
   "id": "a9d8d403",
   "metadata": {},
   "source": [
    "Read in Congress Committee Descriptions Extracted from Committee.gov sites (with a few exceptions)"
   ]
  },
  {
   "cell_type": "code",
   "execution_count": 10,
   "id": "77e56af9",
   "metadata": {},
   "outputs": [],
   "source": [
    "df_subcomittees = pd.read_csv('..//data//handmade//congress_commitee_descriptions.csv')"
   ]
  },
  {
   "cell_type": "code",
   "execution_count": 11,
   "id": "5994e2d9",
   "metadata": {},
   "outputs": [
    {
     "data": {
      "text/html": [
       "<div>\n",
       "<style scoped>\n",
       "    .dataframe tbody tr th:only-of-type {\n",
       "        vertical-align: middle;\n",
       "    }\n",
       "\n",
       "    .dataframe tbody tr th {\n",
       "        vertical-align: top;\n",
       "    }\n",
       "\n",
       "    .dataframe thead th {\n",
       "        text-align: right;\n",
       "    }\n",
       "</style>\n",
       "<table border=\"1\" class=\"dataframe\">\n",
       "  <thead>\n",
       "    <tr style=\"text-align: right;\">\n",
       "      <th></th>\n",
       "      <th>committee</th>\n",
       "      <th>committee_fullname</th>\n",
       "      <th>committee_description</th>\n",
       "      <th>website</th>\n",
       "    </tr>\n",
       "  </thead>\n",
       "  <tbody>\n",
       "    <tr>\n",
       "      <th>0</th>\n",
       "      <td>SSFR09</td>\n",
       "      <td>Africa and Global Health Policy</td>\n",
       "      <td>The subcommittee deals with all matters concer...</td>\n",
       "      <td>https://www.foreign.senate.gov/download/2021-1...</td>\n",
       "    </tr>\n",
       "  </tbody>\n",
       "</table>\n",
       "</div>"
      ],
      "text/plain": [
       "  committee               committee_fullname  \\\n",
       "0    SSFR09  Africa and Global Health Policy   \n",
       "\n",
       "                               committee_description  \\\n",
       "0  The subcommittee deals with all matters concer...   \n",
       "\n",
       "                                             website  \n",
       "0  https://www.foreign.senate.gov/download/2021-1...  "
      ]
     },
     "execution_count": 11,
     "metadata": {},
     "output_type": "execute_result"
    }
   ],
   "source": [
    "df_subcomittees.head(1)"
   ]
  },
  {
   "cell_type": "code",
   "execution_count": 12,
   "id": "6c9c7321",
   "metadata": {},
   "outputs": [],
   "source": [
    "df_subcomittees['committee_description2'] = df_subcomittees['committee_fullname'] + ' ' + df_subcomittees['committee_description']"
   ]
  },
  {
   "cell_type": "code",
   "execution_count": 13,
   "id": "d5259a38",
   "metadata": {},
   "outputs": [
    {
     "data": {
      "text/html": [
       "<div>\n",
       "<style scoped>\n",
       "    .dataframe tbody tr th:only-of-type {\n",
       "        vertical-align: middle;\n",
       "    }\n",
       "\n",
       "    .dataframe tbody tr th {\n",
       "        vertical-align: top;\n",
       "    }\n",
       "\n",
       "    .dataframe thead th {\n",
       "        text-align: right;\n",
       "    }\n",
       "</style>\n",
       "<table border=\"1\" class=\"dataframe\">\n",
       "  <thead>\n",
       "    <tr style=\"text-align: right;\">\n",
       "      <th></th>\n",
       "      <th>committee</th>\n",
       "      <th>committee_fullname</th>\n",
       "      <th>committee_description</th>\n",
       "      <th>website</th>\n",
       "      <th>committee_description2</th>\n",
       "    </tr>\n",
       "  </thead>\n",
       "  <tbody>\n",
       "    <tr>\n",
       "      <th>0</th>\n",
       "      <td>SSFR09</td>\n",
       "      <td>Africa and Global Health Policy</td>\n",
       "      <td>The subcommittee deals with all matters concer...</td>\n",
       "      <td>https://www.foreign.senate.gov/download/2021-1...</td>\n",
       "      <td>Africa and Global Health Policy The subcommitt...</td>\n",
       "    </tr>\n",
       "  </tbody>\n",
       "</table>\n",
       "</div>"
      ],
      "text/plain": [
       "  committee               committee_fullname  \\\n",
       "0    SSFR09  Africa and Global Health Policy   \n",
       "\n",
       "                               committee_description  \\\n",
       "0  The subcommittee deals with all matters concer...   \n",
       "\n",
       "                                             website  \\\n",
       "0  https://www.foreign.senate.gov/download/2021-1...   \n",
       "\n",
       "                              committee_description2  \n",
       "0  Africa and Global Health Policy The subcommitt...  "
      ]
     },
     "execution_count": 13,
     "metadata": {},
     "output_type": "execute_result"
    }
   ],
   "source": [
    "df_subcomittees.head(1)"
   ]
  },
  {
   "cell_type": "markdown",
   "id": "fa0ba05c",
   "metadata": {},
   "source": [
    "-----"
   ]
  },
  {
   "cell_type": "markdown",
   "id": "a1691036",
   "metadata": {},
   "source": [
    "### Cleaning the Stock Description Column"
   ]
  },
  {
   "cell_type": "code",
   "execution_count": 14,
   "id": "127280c1",
   "metadata": {},
   "outputs": [],
   "source": [
    "df_trades['stock_description2'] = df_trades.stock_description\n",
    "# df.head(1)"
   ]
  },
  {
   "cell_type": "code",
   "execution_count": 15,
   "id": "b923c5d4",
   "metadata": {},
   "outputs": [],
   "source": [
    "df_trades.stock_description2 = df_trades.stock_description2.astype(str).str.lower()"
   ]
  },
  {
   "cell_type": "code",
   "execution_count": 16,
   "id": "b6262756",
   "metadata": {},
   "outputs": [
    {
     "data": {
      "text/plain": [
       "0    utilities, utilities—regulated electric, nexte...\n",
       "Name: stock_description2, dtype: object"
      ]
     },
     "execution_count": 16,
     "metadata": {},
     "output_type": "execute_result"
    }
   ],
   "source": [
    "df_trades.stock_description2.head(1)"
   ]
  },
  {
   "cell_type": "code",
   "execution_count": 17,
   "id": "d2135c04",
   "metadata": {},
   "outputs": [],
   "source": [
    "df_trades.sector_industry = df_trades.sector_industry.astype(str).str.lower()"
   ]
  },
  {
   "cell_type": "code",
   "execution_count": 18,
   "id": "c5b04c4c",
   "metadata": {},
   "outputs": [
    {
     "data": {
      "text/plain": [
       "0    utilities utilities—regulated electric\n",
       "Name: sector_industry, dtype: object"
      ]
     },
     "execution_count": 18,
     "metadata": {},
     "output_type": "execute_result"
    }
   ],
   "source": [
    "df_trades.sector_industry.head(1)"
   ]
  },
  {
   "cell_type": "markdown",
   "id": "4b9012de",
   "metadata": {},
   "source": [
    "##### Removing Punctuation from description"
   ]
  },
  {
   "cell_type": "code",
   "execution_count": 19,
   "id": "6dd03b5e",
   "metadata": {},
   "outputs": [
    {
     "data": {
      "text/plain": [
       "'!\"#$%&\\'()*+,-./:;<=>?@[\\\\]^_`{|}~'"
      ]
     },
     "execution_count": 19,
     "metadata": {},
     "output_type": "execute_result"
    }
   ],
   "source": [
    "string.punctuation"
   ]
  },
  {
   "cell_type": "code",
   "execution_count": 20,
   "id": "e900e548",
   "metadata": {},
   "outputs": [
    {
     "name": "stderr",
     "output_type": "stream",
     "text": [
      "/var/folders/c2/zngcssg14mv23nw0yr96s0wm0000gn/T/ipykernel_19636/2352222144.py:1: FutureWarning: The default value of regex will change from True to False in a future version.\n",
      "  df_trades.stock_description2 = df_trades.stock_description2.str.replace('[{}]'.format(string.punctuation), '')\n"
     ]
    }
   ],
   "source": [
    "df_trades.stock_description2 = df_trades.stock_description2.str.replace('[{}]'.format(string.punctuation), '')"
   ]
  },
  {
   "cell_type": "code",
   "execution_count": 21,
   "id": "154233b5",
   "metadata": {},
   "outputs": [
    {
     "data": {
      "text/plain": [
       "0    utilities utilities—regulated electric nextera...\n",
       "Name: stock_description2, dtype: object"
      ]
     },
     "execution_count": 21,
     "metadata": {},
     "output_type": "execute_result"
    }
   ],
   "source": [
    "df_trades.stock_description2.head(1)"
   ]
  },
  {
   "cell_type": "code",
   "execution_count": 24,
   "id": "6c629e0c",
   "metadata": {},
   "outputs": [],
   "source": [
    "df_trades.stock_description2 = df_trades.stock_description2.replace('—', ' ')"
   ]
  },
  {
   "cell_type": "code",
   "execution_count": 25,
   "id": "c11dd455",
   "metadata": {},
   "outputs": [
    {
     "data": {
      "text/plain": [
       "0    utilities utilities—regulated electric nextera...\n",
       "Name: stock_description2, dtype: object"
      ]
     },
     "execution_count": 25,
     "metadata": {},
     "output_type": "execute_result"
    }
   ],
   "source": [
    "df_trades.stock_description2.head(1)"
   ]
  },
  {
   "cell_type": "code",
   "execution_count": 22,
   "id": "689d2d24",
   "metadata": {},
   "outputs": [
    {
     "name": "stderr",
     "output_type": "stream",
     "text": [
      "/var/folders/c2/zngcssg14mv23nw0yr96s0wm0000gn/T/ipykernel_19636/16752936.py:1: FutureWarning: The default value of regex will change from True to False in a future version.\n",
      "  df_trades.sector_industry = df_trades.sector_industry.str.replace('[{}]'.format(string.punctuation), '')\n"
     ]
    }
   ],
   "source": [
    "df_trades.sector_industry = df_trades.sector_industry.str.replace('[{}]'.format(string.punctuation), '')"
   ]
  },
  {
   "cell_type": "code",
   "execution_count": 23,
   "id": "a3d34dc5",
   "metadata": {
    "scrolled": true
   },
   "outputs": [
    {
     "data": {
      "text/plain": [
       "0    utilities utilities—regulated electric\n",
       "Name: sector_industry, dtype: object"
      ]
     },
     "execution_count": 23,
     "metadata": {},
     "output_type": "execute_result"
    }
   ],
   "source": [
    "df_trades.sector_industry.head(1)"
   ]
  },
  {
   "cell_type": "markdown",
   "id": "7b1772ad",
   "metadata": {},
   "source": [
    "##### Removing \"Stop Words\""
   ]
  },
  {
   "cell_type": "code",
   "execution_count": 26,
   "id": "47ece7b0",
   "metadata": {},
   "outputs": [
    {
     "name": "stdout",
     "output_type": "stream",
     "text": [
      "{'have', 'she', 'their', 'won', \"you'd\", 'doesn', 'it', 'mightn', 'with', 'had', 'yourself', 'where', 'while', 'all', 'out', 'd', 'until', 'or', 'am', 'ma', \"you're\", 'haven', 've', 'then', 'how', 'this', 'are', 'under', 'those', 'me', 'same', 'above', 'yourselves', 'themselves', 'shouldn', 'ours', 't', 'wasn', \"that'll\", 'most', 'be', \"don't\", 'he', 'shan', 's', 'they', 'between', 'from', 'we', 'its', 'did', 'over', 'at', 'because', 'down', 'more', \"should've\", 'if', 'by', 'only', 'hadn', 'than', 'being', 'his', \"haven't\", 'both', \"needn't\", 'himself', 'been', 'in', 're', 'before', 'but', 'on', 'further', 'hasn', 'each', \"isn't\", 'wouldn', 'other', 'will', 'so', 'here', 'yours', 'm', 'i', 'whom', 'just', 'any', \"didn't\", \"mustn't\", 'can', 'for', 'y', 'should', 'needn', 'which', \"weren't\", 'there', 'didn', 'has', 'my', 'not', 'having', \"it's\", 'hers', 'below', 'up', 'theirs', 'after', 'him', 'into', 'about', 'now', 'too', 'through', 'to', 'mustn', 'during', 'myself', 'few', 'that', 'doing', 'ourselves', \"aren't\", 'very', \"won't\", \"mightn't\", 'your', 'who', 'ain', 'some', 'the', \"wasn't\", 'do', 'don', 'll', 'aren', 'were', 'nor', 'her', 'isn', 'what', \"hadn't\", 'of', 'why', 'our', 'off', 'and', 'them', \"you've\", \"she's\", 'does', \"shan't\", \"couldn't\", 'no', 'couldn', 'once', 'these', 'again', 'such', \"wouldn't\", 'is', 'against', 'o', 'an', 'as', \"you'll\", \"hasn't\", 'weren', 'herself', 'itself', 'was', 'own', \"doesn't\", 'when', \"shouldn't\", 'you', 'a'}\n"
     ]
    }
   ],
   "source": [
    "stops = set(stopwords.words('english'))\n",
    "print(stops)"
   ]
  },
  {
   "cell_type": "code",
   "execution_count": 27,
   "id": "540dfdd6",
   "metadata": {},
   "outputs": [],
   "source": [
    "df_trades['stock_description3'] = df_trades.stock_description2.apply(lambda x: ' '.join([word for word in x.split() if word not in (stops)]))"
   ]
  },
  {
   "cell_type": "code",
   "execution_count": 28,
   "id": "ab7ee37f",
   "metadata": {},
   "outputs": [
    {
     "data": {
      "text/plain": [
       "0    utilities utilities—regulated electric nextera...\n",
       "Name: stock_description3, dtype: object"
      ]
     },
     "execution_count": 28,
     "metadata": {},
     "output_type": "execute_result"
    }
   ],
   "source": [
    "df_trades.stock_description3.head(1)"
   ]
  },
  {
   "cell_type": "code",
   "execution_count": 29,
   "id": "246f39d5",
   "metadata": {},
   "outputs": [],
   "source": [
    "# df.head(2)"
   ]
  },
  {
   "cell_type": "markdown",
   "id": "30c69a6d",
   "metadata": {},
   "source": [
    "##### Removing numbers/digits from descriptions"
   ]
  },
  {
   "cell_type": "code",
   "execution_count": 30,
   "id": "684e702b",
   "metadata": {},
   "outputs": [
    {
     "name": "stderr",
     "output_type": "stream",
     "text": [
      "/var/folders/c2/zngcssg14mv23nw0yr96s0wm0000gn/T/ipykernel_19636/3682478094.py:1: FutureWarning: The default value of regex will change from True to False in a future version.\n",
      "  df_trades.stock_description3 = df_trades.stock_description3.str.replace('\\d+', '')\n"
     ]
    }
   ],
   "source": [
    "df_trades.stock_description3 = df_trades.stock_description3.str.replace('\\d+', '')"
   ]
  },
  {
   "cell_type": "code",
   "execution_count": 31,
   "id": "8e60067e",
   "metadata": {
    "scrolled": true
   },
   "outputs": [
    {
     "data": {
      "text/plain": [
       "0    utilities utilities—regulated electric nextera...\n",
       "Name: stock_description3, dtype: object"
      ]
     },
     "execution_count": 31,
     "metadata": {},
     "output_type": "execute_result"
    }
   ],
   "source": [
    "df_trades.stock_description3.head(1)"
   ]
  },
  {
   "cell_type": "code",
   "execution_count": 32,
   "id": "8e3acc9d",
   "metadata": {},
   "outputs": [],
   "source": [
    "# df_trades"
   ]
  },
  {
   "cell_type": "code",
   "execution_count": null,
   "id": "3ef392f2",
   "metadata": {},
   "outputs": [],
   "source": []
  },
  {
   "cell_type": "code",
   "execution_count": null,
   "id": "c75da903",
   "metadata": {},
   "outputs": [],
   "source": []
  },
  {
   "cell_type": "code",
   "execution_count": 33,
   "id": "4979c4ed",
   "metadata": {},
   "outputs": [],
   "source": [
    "# stops2 = stopwords.words('english')\n",
    "# print(stops2)"
   ]
  },
  {
   "cell_type": "code",
   "execution_count": 34,
   "id": "224807e1",
   "metadata": {},
   "outputs": [],
   "source": [
    "# stops2 = stopwords.words('english')"
   ]
  },
  {
   "cell_type": "code",
   "execution_count": 35,
   "id": "43a9e75a",
   "metadata": {},
   "outputs": [],
   "source": [
    "# Consider the word: Antinationalist, Morpheme\n",
    "# https://www.analyticsvidhya.com/blog/2021/06/part-3-step-by-step-guide-to-nlp-text-cleaning-and-preprocessing/"
   ]
  },
  {
   "cell_type": "code",
   "execution_count": null,
   "id": "380de8c7",
   "metadata": {},
   "outputs": [],
   "source": []
  },
  {
   "cell_type": "code",
   "execution_count": null,
   "id": "9864706c",
   "metadata": {},
   "outputs": [],
   "source": []
  },
  {
   "cell_type": "markdown",
   "id": "53234aeb",
   "metadata": {},
   "source": [
    "Save a Copy"
   ]
  },
  {
   "cell_type": "code",
   "execution_count": 36,
   "id": "6051e9f1",
   "metadata": {},
   "outputs": [],
   "source": [
    "# df_trades.to_csv('..//data//processed//stock_watchers_w_yfinance_edited_03_13_2022.csv', index = False)"
   ]
  },
  {
   "cell_type": "markdown",
   "id": "a6126ac4",
   "metadata": {},
   "source": [
    "----"
   ]
  },
  {
   "cell_type": "markdown",
   "id": "31bdcbd1",
   "metadata": {},
   "source": [
    "### Cleaning the Committee Description Column"
   ]
  },
  {
   "cell_type": "code",
   "execution_count": 37,
   "id": "424aa3f5",
   "metadata": {},
   "outputs": [],
   "source": [
    "df_subcomittees.committee_description2 = df_subcomittees.committee_description2.astype(str).str.lower()"
   ]
  },
  {
   "cell_type": "code",
   "execution_count": 38,
   "id": "fae575f7",
   "metadata": {},
   "outputs": [
    {
     "data": {
      "text/plain": [
       "0    africa and global health policy the subcommitt...\n",
       "Name: committee_description2, dtype: object"
      ]
     },
     "execution_count": 38,
     "metadata": {},
     "output_type": "execute_result"
    }
   ],
   "source": [
    "df_subcomittees.committee_description2.head(1)"
   ]
  },
  {
   "cell_type": "markdown",
   "id": "b2bd4096",
   "metadata": {},
   "source": [
    "##### Removing Punctuation from description"
   ]
  },
  {
   "cell_type": "code",
   "execution_count": 39,
   "id": "3e180348",
   "metadata": {},
   "outputs": [
    {
     "name": "stderr",
     "output_type": "stream",
     "text": [
      "/var/folders/c2/zngcssg14mv23nw0yr96s0wm0000gn/T/ipykernel_19636/2733234590.py:1: FutureWarning: The default value of regex will change from True to False in a future version.\n",
      "  df_subcomittees.committee_description2 = df_subcomittees.committee_description2.str.replace('[{}]'.format(string.punctuation), '')\n"
     ]
    }
   ],
   "source": [
    "df_subcomittees.committee_description2 = df_subcomittees.committee_description2.str.replace('[{}]'.format(string.punctuation), '')"
   ]
  },
  {
   "cell_type": "code",
   "execution_count": 40,
   "id": "5e721377",
   "metadata": {},
   "outputs": [
    {
     "data": {
      "text/plain": [
       "0    africa and global health policy the subcommitt...\n",
       "1    africa global health and global human rights t...\n",
       "Name: committee_description2, dtype: object"
      ]
     },
     "execution_count": 40,
     "metadata": {},
     "output_type": "execute_result"
    }
   ],
   "source": [
    "df_subcomittees.committee_description2.head(2)"
   ]
  },
  {
   "cell_type": "markdown",
   "id": "c126b4a0",
   "metadata": {},
   "source": [
    "##### Removing \"Stop Words\""
   ]
  },
  {
   "cell_type": "code",
   "execution_count": 41,
   "id": "a17fd19e",
   "metadata": {},
   "outputs": [],
   "source": [
    "df_subcomittees['committee_description3'] = df_subcomittees.committee_description2.apply(lambda x: ' '.join([word for word in x.split() if word not in (stops)]))"
   ]
  },
  {
   "cell_type": "code",
   "execution_count": 42,
   "id": "1f929591",
   "metadata": {},
   "outputs": [
    {
     "data": {
      "text/plain": [
       "0    africa global health policy subcommittee deals...\n",
       "Name: committee_description3, dtype: object"
      ]
     },
     "execution_count": 42,
     "metadata": {},
     "output_type": "execute_result"
    }
   ],
   "source": [
    "df_subcomittees.committee_description3.head(1)"
   ]
  },
  {
   "cell_type": "code",
   "execution_count": 43,
   "id": "829ef75f",
   "metadata": {},
   "outputs": [],
   "source": [
    "# df.stock_description2"
   ]
  },
  {
   "cell_type": "markdown",
   "id": "c220c120",
   "metadata": {},
   "source": [
    "##### Removing numbers/digits from descriptions"
   ]
  },
  {
   "cell_type": "code",
   "execution_count": 44,
   "id": "44477886",
   "metadata": {},
   "outputs": [
    {
     "name": "stderr",
     "output_type": "stream",
     "text": [
      "/var/folders/c2/zngcssg14mv23nw0yr96s0wm0000gn/T/ipykernel_19636/23686742.py:1: FutureWarning: The default value of regex will change from True to False in a future version.\n",
      "  df_subcomittees.committee_description3 = df_subcomittees.committee_description3.str.replace('\\d+', '')\n"
     ]
    }
   ],
   "source": [
    "df_subcomittees.committee_description3 = df_subcomittees.committee_description3.str.replace('\\d+', '')"
   ]
  },
  {
   "cell_type": "code",
   "execution_count": 45,
   "id": "ba0c4e38",
   "metadata": {
    "scrolled": true
   },
   "outputs": [
    {
     "data": {
      "text/plain": [
       "0    africa global health policy subcommittee deals...\n",
       "Name: committee_description3, dtype: object"
      ]
     },
     "execution_count": 45,
     "metadata": {},
     "output_type": "execute_result"
    }
   ],
   "source": [
    "df_subcomittees.committee_description3.head(1)"
   ]
  },
  {
   "cell_type": "code",
   "execution_count": 46,
   "id": "dd532aa6",
   "metadata": {},
   "outputs": [],
   "source": [
    "# df_subcomittees.head(1)"
   ]
  },
  {
   "cell_type": "markdown",
   "id": "b4210f7b",
   "metadata": {},
   "source": [
    "##### Step 3"
   ]
  },
  {
   "cell_type": "code",
   "execution_count": 47,
   "id": "f7154be4",
   "metadata": {},
   "outputs": [],
   "source": [
    "stops = set(stopwords.words('english'))\n",
    "# print(stops)"
   ]
  },
  {
   "cell_type": "code",
   "execution_count": 48,
   "id": "30e9d858",
   "metadata": {},
   "outputs": [],
   "source": [
    "# pat = r'\\b(?:{})\\b'.format('|'.join(stop))\n",
    "# test['tweet_without_stopwords'] = test['tweet'].str.replace(pat, '')\n",
    "# test['tweet_without_stopwords'] = test['tweet_without_stopwords'].str.replace(r'\\s+', ' ')\n",
    "# # Same results.\n",
    "# # 0              I love car\n",
    "# # 1       This view amazing\n",
    "# # 2    I feel great morning\n",
    "# # 3       I excited concert\n",
    "# # 4          He best friend"
   ]
  },
  {
   "cell_type": "markdown",
   "id": "3ccf622c",
   "metadata": {},
   "source": [
    "Save a copy"
   ]
  },
  {
   "cell_type": "code",
   "execution_count": 49,
   "id": "f17fa75c",
   "metadata": {},
   "outputs": [],
   "source": [
    "# df_subcomittees.to_csv('..//data//handmade//congress_commitee_descriptions_edited_03_13_22.csv', index = False)"
   ]
  },
  {
   "cell_type": "markdown",
   "id": "255d878d",
   "metadata": {},
   "source": [
    "-----"
   ]
  },
  {
   "cell_type": "markdown",
   "id": "8c173d6d",
   "metadata": {},
   "source": [
    "### Merging with algorithm on stock and committee descriptions"
   ]
  },
  {
   "cell_type": "code",
   "execution_count": 50,
   "id": "9887cf10",
   "metadata": {},
   "outputs": [],
   "source": [
    "# merged = empty_df\n",
    "# for trade in df_trades:\n",
    "#     for each comittee in df_comitee:\n",
    "#       # match ticker descp to comittee descp OR ANY OTHER ALGORITHM\n",
    "#         flt_s_score = similar(ticker_desc, comittee_desc)\n",
    "#         if flt_s_score > 0.6:\n",
    "#             add this trade + comite descp to merged\n",
    "# drop the rows where member comittee != ticker_comitee\n",
    "# do analysis (edited) "
   ]
  },
  {
   "cell_type": "code",
   "execution_count": 51,
   "id": "5ad7c75e",
   "metadata": {},
   "outputs": [],
   "source": [
    "# relevant columns\n",
    "\n",
    "# df.stock_description3\n",
    "# df_subcomittees.committee_description3"
   ]
  },
  {
   "cell_type": "code",
   "execution_count": 52,
   "id": "9b370f64",
   "metadata": {},
   "outputs": [
    {
     "data": {
      "text/plain": [
       "True"
      ]
     },
     "execution_count": 52,
     "metadata": {},
     "output_type": "execute_result"
    }
   ],
   "source": [
    "empty_df = pd.DataFrame()   \n",
    "empty_df.empty"
   ]
  },
  {
   "cell_type": "code",
   "execution_count": 53,
   "id": "048e4485",
   "metadata": {},
   "outputs": [],
   "source": [
    "#partial ratio\n",
    "def similar(a,b):\n",
    "    return fuzz.partial_ratio(a, b)"
   ]
  },
  {
   "cell_type": "code",
   "execution_count": 54,
   "id": "2bb4359d",
   "metadata": {},
   "outputs": [
    {
     "data": {
      "text/plain": [
       "91"
      ]
     },
     "execution_count": 54,
     "metadata": {},
     "output_type": "execute_result"
    }
   ],
   "source": [
    "similar(\"fuzzy wuzzy was a bear\", \"wuzzy fuzzy was a bear\")"
   ]
  },
  {
   "cell_type": "code",
   "execution_count": 55,
   "id": "d5a5cf7c",
   "metadata": {},
   "outputs": [],
   "source": [
    "# for column in df_trades[0:20]:\n",
    "#     print(df_trades[column].values)"
   ]
  },
  {
   "cell_type": "code",
   "execution_count": 56,
   "id": "12250796",
   "metadata": {},
   "outputs": [],
   "source": [
    "# # df_trades.stock_description3\n",
    "# for column in df_trades.stock_description3[0:20]:\n",
    "#     print(df_trades[column].values)"
   ]
  },
  {
   "cell_type": "code",
   "execution_count": 57,
   "id": "3e513d60",
   "metadata": {},
   "outputs": [
    {
     "name": "stdout",
     "output_type": "stream",
     "text": [
      "utilities utilities—regulated electric nextera energy inc subsidiaries generates transmits distributes sells electric power retail wholesale customers north america company generates electricity wind solar nuclear fossil fuel coal natural gas facilities also develops constructs operates longterm contracted assets focus renewable generation facilities electric transmission facilities battery storage projects owns develops constructs manages operates electric generation facilities wholesale energy markets december   company operated approximately  megawatts net generating capacity serves approximately  million people approximately  million customer accounts east lower west coasts florida approximately  circuit miles transmission distribution lines  substations company formerly known fpl group inc changed name nextera energy inc  nextera energy inc founded  headquartered juno beach florida\n"
     ]
    }
   ],
   "source": [
    "for trade in df_trades.stock_description3[0:1]:\n",
    "    print(trade)"
   ]
  },
  {
   "cell_type": "code",
   "execution_count": 58,
   "id": "04046e9c",
   "metadata": {},
   "outputs": [],
   "source": [
    "ls_stock_description3 = df_trades.stock_description3.values.tolist()"
   ]
  },
  {
   "cell_type": "code",
   "execution_count": 59,
   "id": "be571d6d",
   "metadata": {},
   "outputs": [
    {
     "name": "stdout",
     "output_type": "stream",
     "text": [
      "africa global health policy subcommittee deals matters concerning us relations countries africa except like countries north africa specifically covered subcommittees well regional intergovernmental organizations like african union economic community west african states subcommittee’s regional responsibilities include matters within geographic region including matters relating  terrorism nonproliferation  crime illicit narcotics  us foreign assistance programs  promotion us trade exports addition subcommittee global responsibility healthrelated policy including disease outbreak response\n"
     ]
    }
   ],
   "source": [
    "for committee in df_subcomittees.committee_description3[0:1]:\n",
    "    print(committee)"
   ]
  },
  {
   "cell_type": "code",
   "execution_count": 60,
   "id": "bad2536d",
   "metadata": {},
   "outputs": [],
   "source": [
    "ls_committee_description3 = df_subcomittees.committee_description3.values.tolist()"
   ]
  },
  {
   "cell_type": "code",
   "execution_count": 61,
   "id": "addd5907",
   "metadata": {},
   "outputs": [
    {
     "data": {
      "text/plain": [
       "14"
      ]
     },
     "execution_count": 61,
     "metadata": {},
     "output_type": "execute_result"
    }
   ],
   "source": [
    "similar(\"utilities utilities—regulated electric nextera energy inc subsidiaries generates transmits distributes sells electric power retail wholesale customers north america company generates electricity wind solar nuclear fossil fuel coal natural gas facilities also develops constructs operates longterm contracted assets focus renewable generation facilities electric transmission facilities battery storage projects owns develops constructs manages operates electric generation facilities wholesale energy markets december   company operated approximately  megawatts net generating capacity serves approximately  million people approximately  million customer accounts east lower west coasts florida approximately  circuit miles transmission distribution lines  substations company formerly known fpl group inc changed name nextera energy inc  nextera energy inc founded  headquartered juno beach florida\", \"africa global health policy subcommittee deals matters concerning us relations countries africa except like countries north africa specifically covered subcommittees well regional intergovernmental organizations like african union economic community west african states subcommittee’s regional responsibilities include matters within geographic region including matters relating  terrorism nonproliferation  crime illicit narcotics  us foreign assistance programs  promotion us trade exports addition subcommittee global responsibility healthrelated policy including disease outbreak response\")"
   ]
  },
  {
   "cell_type": "code",
   "execution_count": 62,
   "id": "1674ea54",
   "metadata": {},
   "outputs": [
    {
     "data": {
      "text/plain": [
       "6"
      ]
     },
     "execution_count": 62,
     "metadata": {},
     "output_type": "execute_result"
    }
   ],
   "source": [
    "similar(\"utilities utilities—regulated electric nextera energy inc subsidiaries generates transmits distributes sells electric power retail wholesale customers north america company generates electricity wind solar nuclear fossil fuel coal natural gas facilities also develops constructs operates longterm contracted assets focus renewable generation facilities electric transmission facilities battery storage projects owns develops constructs manages operates electric generation facilities wholesale energy markets december   company operated approximately  megawatts net generating capacity serves approximately  million people approximately  million customer accounts east lower west coasts florida approximately  circuit miles transmission distribution lines  substations company formerly known fpl group inc changed name nextera energy inc  nextera energy inc founded  headquartered juno beach florida\", \"Energy Jurisdiction includes: National energy policy; fossil energy; renewable energy; nuclear energy; nuclear facilities; the Department of Energy; the Nuclear Regulatory Commission; the Federal Energy Regulatory Commission;synthetic and alternative fuels; energy conservation; energy information; energy security; utility issues; interstate energy compacts; energy generation, marketing, reliability, transmission, siting, exploration, production, consumption, efficiency, cybersecurity, and ratemaking for all generated power; pipelines, including pipeline safety aspects as they relate to the Pipeline and Hazardous Materials Safety Administration; all laws, programs, and government activities affecting energy matters;environmental justice as it relates to the above-referenced jurisdiction ; and  all aspects of the above-referenced jurisdiction related to the Department of Homeland Security.\")"
   ]
  },
  {
   "cell_type": "code",
   "execution_count": null,
   "id": "04046847",
   "metadata": {},
   "outputs": [],
   "source": []
  },
  {
   "cell_type": "code",
   "execution_count": 63,
   "id": "89879350",
   "metadata": {},
   "outputs": [
    {
     "ename": "IndentationError",
     "evalue": "expected an indented block after 'if' statement on line 8 (1727592945.py, line 10)",
     "output_type": "error",
     "traceback": [
      "\u001b[0;36m  File \u001b[0;32m\"/var/folders/c2/zngcssg14mv23nw0yr96s0wm0000gn/T/ipykernel_19636/1727592945.py\"\u001b[0;36m, line \u001b[0;32m10\u001b[0m\n\u001b[0;31m    #             add this trade + comite descp to merged\u001b[0m\n\u001b[0m                                                         ^\u001b[0m\n\u001b[0;31mIndentationError\u001b[0m\u001b[0;31m:\u001b[0m expected an indented block after 'if' statement on line 8\n"
     ]
    }
   ],
   "source": [
    "merged = empty_df\n",
    "for trade in df_trades[0:20]:\n",
    "    print(trade)\n",
    "    for committee in df_subcomittees[0:20]:\n",
    "        print(committee)\n",
    "      # match ticker description to committee description with A TBD ALGORITHM\n",
    "        flt_s_score = similar(df_trades.stock_description3, df_subcomittees.committee_description3)\n",
    "        if flt_s_score > 10:\n",
    "#             print(flt_s_score)\n",
    "#             add this trade + comite descp to merged\n"
   ]
  },
  {
   "cell_type": "code",
   "execution_count": null,
   "id": "8a4c62d6",
   "metadata": {},
   "outputs": [],
   "source": [
    "merged"
   ]
  },
  {
   "cell_type": "code",
   "execution_count": null,
   "id": "aba81b38",
   "metadata": {},
   "outputs": [],
   "source": []
  },
  {
   "cell_type": "code",
   "execution_count": null,
   "id": "4c1b7da1",
   "metadata": {},
   "outputs": [],
   "source": [
    "# merged = empty_df\n",
    "# for trade in df_trades[0:20]:\n",
    "#     print(trade)\n",
    "#     for committee in df_subcomittees[0:20]:\n",
    "#         print(committee)\n",
    "#       # match ticker description to committee description with A TBD ALGORITHM\n",
    "#         flt_s_score = similar(df_trades.stock_description3, df_subcomittees.committee_description3)\n",
    "#         if flt_s_score > 5:\n",
    "#             print(flt_s_score)\n",
    "# #             add this trade + comite descp to merged\n"
   ]
  },
  {
   "cell_type": "code",
   "execution_count": null,
   "id": "43f33701",
   "metadata": {},
   "outputs": [],
   "source": []
  },
  {
   "cell_type": "code",
   "execution_count": null,
   "id": "4c4ac670",
   "metadata": {},
   "outputs": [],
   "source": []
  },
  {
   "cell_type": "code",
   "execution_count": null,
   "id": "ce126d7c",
   "metadata": {},
   "outputs": [],
   "source": []
  },
  {
   "cell_type": "code",
   "execution_count": null,
   "id": "756ed39c",
   "metadata": {},
   "outputs": [],
   "source": [
    "# drop the rows where member comittee != ticker_comittee\n"
   ]
  },
  {
   "cell_type": "code",
   "execution_count": null,
   "id": "8f7485aa",
   "metadata": {},
   "outputs": [],
   "source": [
    "# do analysis (edited) "
   ]
  },
  {
   "cell_type": "code",
   "execution_count": null,
   "id": "ef546f00",
   "metadata": {},
   "outputs": [],
   "source": []
  },
  {
   "cell_type": "code",
   "execution_count": null,
   "id": "9398d14b",
   "metadata": {},
   "outputs": [],
   "source": []
  },
  {
   "cell_type": "markdown",
   "id": "a9d42b64",
   "metadata": {},
   "source": [
    "-----"
   ]
  },
  {
   "cell_type": "markdown",
   "id": "4e866b5c",
   "metadata": {},
   "source": [
    "### Fine-tuning the Algorithms"
   ]
  },
  {
   "cell_type": "markdown",
   "id": "97568dc6",
   "metadata": {},
   "source": [
    "Exploring types of algorithms on the columns"
   ]
  },
  {
   "cell_type": "markdown",
   "id": "95140e71",
   "metadata": {},
   "source": [
    "##### Simple Ratios"
   ]
  },
  {
   "cell_type": "code",
   "execution_count": null,
   "id": "6a7670a5",
   "metadata": {},
   "outputs": [],
   "source": [
    "def similar(a, b):\n",
    "    return SequenceMatcher(None, a, b).ratio()"
   ]
  },
  {
   "cell_type": "code",
   "execution_count": null,
   "id": "3a57a201",
   "metadata": {
    "scrolled": true
   },
   "outputs": [],
   "source": [
    "# high match\n",
    "similar(\"fuzzy wuzzy was a bear\", \"wuzzy fuzzy was a bear\")"
   ]
  },
  {
   "cell_type": "code",
   "execution_count": null,
   "id": "bb61c21c",
   "metadata": {},
   "outputs": [],
   "source": [
    "# should match\n",
    "similar(\"utilities utilities—regulated electric nextera energy inc subsidiaries generates transmits distributes sells electric power retail wholesale customers north america company generates electricity wind solar nuclear fossil fuel coal natural gas facilities also develops constructs operates longterm contracted assets focus renewable generation facilities electric transmission facilities battery storage projects owns develops constructs manages operates electric generation facilities wholesale energy markets december   company operated approximately  megawatts net generating capacity serves approximately  million people approximately  million customer accounts east lower west coasts florida approximately  circuit miles transmission distribution lines  substations company formerly known fpl group inc changed name nextera energy inc  nextera energy inc founded  headquartered juno beach florida\", \"africa global health policy subcommittee deals matters concerning us relations countries africa except like countries north africa specifically covered subcommittees well regional intergovernmental organizations like african union economic community west african states subcommittee’s regional responsibilities include matters within geographic region including matters relating  terrorism nonproliferation  crime illicit narcotics  us foreign assistance programs  promotion us trade exports addition subcommittee global responsibility healthrelated policy including disease outbreak response\")"
   ]
  },
  {
   "cell_type": "code",
   "execution_count": null,
   "id": "aaa73c0e",
   "metadata": {},
   "outputs": [],
   "source": [
    "# should match\n",
    "similar(\"technology consumer electronics apple inc designs manufactures markets smartphones personal computers tablets wearables accessories worldwide also sells various related services addition company offers iphone line smartphones mac line personal computers ipad line multipurpose tablets airpods max overear wireless headphone wearables home accessories comprising airpods apple tv apple watch beats products homepod ipod touch provides applecare support services cloud services store services operates various platforms including app store allow customers discover download applications digital content books music video games podcasts additionally company offers various services apple arcade game subscription service apple music offers users curated listening experience ondemand radio stations apple news subscription news magazine service apple tv offers exclusive original content apple card cobranded credit card apple pay cashless payment service well licenses intellectual property company serves consumers small midsized businesses education enterprise government markets distributes thirdparty applications products app store company also sells products retail online stores direct sales force thirdparty cellular network carriers wholesalers retailers resellers apple inc incorporated  headquartered cupertino california\", \"cybersecurity infrastructure protection innovation cyber security infrastructure protection innovation subcommittee jurisdiction cybersecurity infrastructure security agency cisa science technology directorate focuses efforts advance federal network security improve critical infrastructure security also oversees cisa‚Äôs chemical security programs crosscutting science technology initiatives\")"
   ]
  },
  {
   "cell_type": "code",
   "execution_count": null,
   "id": "fe6c29d6",
   "metadata": {},
   "outputs": [],
   "source": [
    "# should match using industry/sector and committee description\n",
    "similar(\"technology consumer electronics\", \"cybersecurity infrastructure protection innovation cyber security infrastructure protection innovation subcommittee jurisdiction cybersecurity infrastructure security agency cisa science technology directorate focuses efforts advance federal network security improve critical infrastructure security also oversees cisa‚Äôs chemical security programs crosscutting science technology initiatives\")"
   ]
  },
  {
   "cell_type": "code",
   "execution_count": null,
   "id": "84d86f78",
   "metadata": {},
   "outputs": [],
   "source": [
    "# should match using industry/sector and committee description\n",
    "similar(\"utilities utilities—regulated electric\", \"All matters relating to energy research, development, and demonstration projects therefor; commercial application of energy technology; Department of Energy research, development, and demonstration programs; Department of Energy laboratories; Department of Energy science activities; Department of Energy international research, development, and demonstration projects; energy supply activities; nuclear, solar, and renewable energy, and other advanced energy technologies; uranium supply and enrichment, and Department of Energy waste management; Department of Energy environmental management research, development, and demonstration; fossil energy research and development; clean coal technology; energy conservation research and development, including building performance, alternate fuels, distributed power systems, and industrial process improvements; pipeline research, development, and demonstration projects; energy standards; other appropriate matters as referred by the Chair; and relevant oversight.\") "
   ]
  },
  {
   "cell_type": "code",
   "execution_count": null,
   "id": "a13965e0",
   "metadata": {},
   "outputs": [],
   "source": [
    "# shouldn't match \n",
    "similar(\"technology consumer electronics apple inc designs manufactures markets smartphones personal computers tablets wearables accessories worldwide also sells various related services addition company offers iphone line smartphones mac line personal computers ipad line multipurpose tablets airpods max overear wireless headphone wearables home accessories comprising airpods apple tv apple watch beats products homepod ipod touch provides applecare support services cloud services store services operates various platforms including app store allow customers discover download applications digital content books music video games podcasts additionally company offers various services apple arcade game subscription service apple music offers users curated listening experience ondemand radio stations apple news subscription news magazine service apple tv offers exclusive original content apple card cobranded credit card apple pay cashless payment service well licenses intellectual property company serves consumers small midsized businesses education enterprise government markets distributes thirdparty applications products app store company also sells products retail online stores direct sales force thirdparty cellular network carriers wholesalers retailers resellers apple inc incorporated  headquartered cupertino california\", \"africa global health policy subcommittee deals matters concerning us relations countries africa except like countries north africa specifically covered subcommittees well regional intergovernmental organizations like african union economic community west african states subcommittee’s regional responsibilities include matters within geographic region including matters relating  terrorism nonproliferation  crime illicit narcotics  us foreign assistance programs  promotion us trade exports addition subcommittee global responsibility healthrelated policy including disease outbreak response\")"
   ]
  },
  {
   "cell_type": "code",
   "execution_count": null,
   "id": "1c6568f3",
   "metadata": {},
   "outputs": [],
   "source": [
    "def similar(a,b):\n",
    "    return fuzz.ratio(a, b)"
   ]
  },
  {
   "cell_type": "code",
   "execution_count": null,
   "id": "612d6e9b",
   "metadata": {
    "scrolled": true
   },
   "outputs": [],
   "source": [
    "# high match\n",
    "similar(\"fuzzy wuzzy was a bear\", \"wuzzy fuzzy was a bear\")"
   ]
  },
  {
   "cell_type": "code",
   "execution_count": null,
   "id": "fe4d2c38",
   "metadata": {},
   "outputs": [],
   "source": [
    "# should match\n",
    "similar(\"utilities utilities—regulated electric nextera energy inc subsidiaries generates transmits distributes sells electric power retail wholesale customers north america company generates electricity wind solar nuclear fossil fuel coal natural gas facilities also develops constructs operates longterm contracted assets focus renewable generation facilities electric transmission facilities battery storage projects owns develops constructs manages operates electric generation facilities wholesale energy markets december   company operated approximately  megawatts net generating capacity serves approximately  million people approximately  million customer accounts east lower west coasts florida approximately  circuit miles transmission distribution lines  substations company formerly known fpl group inc changed name nextera energy inc  nextera energy inc founded  headquartered juno beach florida\", \"africa global health policy subcommittee deals matters concerning us relations countries africa except like countries north africa specifically covered subcommittees well regional intergovernmental organizations like african union economic community west african states subcommittee’s regional responsibilities include matters within geographic region including matters relating  terrorism nonproliferation  crime illicit narcotics  us foreign assistance programs  promotion us trade exports addition subcommittee global responsibility healthrelated policy including disease outbreak response\")"
   ]
  },
  {
   "cell_type": "code",
   "execution_count": null,
   "id": "35775fdf",
   "metadata": {},
   "outputs": [],
   "source": [
    "# should match\n",
    "similar(\"technology consumer electronics apple inc designs manufactures markets smartphones personal computers tablets wearables accessories worldwide also sells various related services addition company offers iphone line smartphones mac line personal computers ipad line multipurpose tablets airpods max overear wireless headphone wearables home accessories comprising airpods apple tv apple watch beats products homepod ipod touch provides applecare support services cloud services store services operates various platforms including app store allow customers discover download applications digital content books music video games podcasts additionally company offers various services apple arcade game subscription service apple music offers users curated listening experience ondemand radio stations apple news subscription news magazine service apple tv offers exclusive original content apple card cobranded credit card apple pay cashless payment service well licenses intellectual property company serves consumers small midsized businesses education enterprise government markets distributes thirdparty applications products app store company also sells products retail online stores direct sales force thirdparty cellular network carriers wholesalers retailers resellers apple inc incorporated  headquartered cupertino california\", \"cybersecurity infrastructure protection innovation cyber security infrastructure protection innovation subcommittee jurisdiction cybersecurity infrastructure security agency cisa science technology directorate focuses efforts advance federal network security improve critical infrastructure security also oversees cisa‚Äôs chemical security programs crosscutting science technology initiatives\")"
   ]
  },
  {
   "cell_type": "code",
   "execution_count": null,
   "id": "780a9217",
   "metadata": {},
   "outputs": [],
   "source": [
    "# should match\n",
    "similar(\"technology consumer electronics\", \"cybersecurity infrastructure protection innovation cyber security infrastructure protection innovation subcommittee jurisdiction cybersecurity infrastructure security agency cisa science technology directorate focuses efforts advance federal network security improve critical infrastructure security also oversees cisa‚Äôs chemical security programs crosscutting science technology initiatives\")"
   ]
  },
  {
   "cell_type": "code",
   "execution_count": null,
   "id": "02f68143",
   "metadata": {},
   "outputs": [],
   "source": [
    "# should match\n",
    "similar(\"utilities utilities—regulated electric\", \"All matters relating to energy research, development, and demonstration projects therefor; commercial application of energy technology; Department of Energy research, development, and demonstration programs; Department of Energy laboratories; Department of Energy science activities; Department of Energy international research, development, and demonstration projects; energy supply activities; nuclear, solar, and renewable energy, and other advanced energy technologies; uranium supply and enrichment, and Department of Energy waste management; Department of Energy environmental management research, development, and demonstration; fossil energy research and development; clean coal technology; energy conservation research and development, including building performance, alternate fuels, distributed power systems, and industrial process improvements; pipeline research, development, and demonstration projects; energy standards; other appropriate matters as referred by the Chair; and relevant oversight.\") "
   ]
  },
  {
   "cell_type": "code",
   "execution_count": null,
   "id": "9d051a70",
   "metadata": {},
   "outputs": [],
   "source": [
    "# shouldn't match \n",
    "similar(\"technology consumer electronics apple inc designs manufactures markets smartphones personal computers tablets wearables accessories worldwide also sells various related services addition company offers iphone line smartphones mac line personal computers ipad line multipurpose tablets airpods max overear wireless headphone wearables home accessories comprising airpods apple tv apple watch beats products homepod ipod touch provides applecare support services cloud services store services operates various platforms including app store allow customers discover download applications digital content books music video games podcasts additionally company offers various services apple arcade game subscription service apple music offers users curated listening experience ondemand radio stations apple news subscription news magazine service apple tv offers exclusive original content apple card cobranded credit card apple pay cashless payment service well licenses intellectual property company serves consumers small midsized businesses education enterprise government markets distributes thirdparty applications products app store company also sells products retail online stores direct sales force thirdparty cellular network carriers wholesalers retailers resellers apple inc incorporated  headquartered cupertino california\", \"africa global health policy subcommittee deals matters concerning us relations countries africa except like countries north africa specifically covered subcommittees well regional intergovernmental organizations like african union economic community west african states subcommittee’s regional responsibilities include matters within geographic region including matters relating  terrorism nonproliferation  crime illicit narcotics  us foreign assistance programs  promotion us trade exports addition subcommittee global responsibility healthrelated policy including disease outbreak response\")"
   ]
  },
  {
   "cell_type": "code",
   "execution_count": null,
   "id": "beb4c398",
   "metadata": {},
   "outputs": [],
   "source": [
    "# shouldn't match \n",
    "similar(\"technology consumer electronics apple inc designs manufactures markets smartphones personal computers tablets wearables accessories worldwide also sells various related services addition company offers iphone line smartphones mac line personal computers ipad line multipurpose tablets airpods max overear wireless headphone wearables home accessories comprising airpods apple tv apple watch beats products homepod ipod touch provides applecare support services cloud services store services operates various platforms including app store allow customers discover download applications digital content books music video games podcasts additionally company offers various services apple arcade game subscription service apple music offers users curated listening experience ondemand radio stations apple news subscription news magazine service apple tv offers exclusive original content apple card cobranded credit card apple pay cashless payment service well licenses intellectual property company serves consumers small midsized businesses education enterprise government markets distributes thirdparty applications products app store company also sells products retail online stores direct sales force thirdparty cellular network carriers wholesalers retailers resellers apple inc incorporated  headquartered cupertino california\", \"africa global health policy subcommittee deals matters concerning us relations countries africa except like countries north africa specifically covered subcommittees well regional intergovernmental organizations like african union economic community west african states subcommittee’s regional responsibilities include matters within geographic region including matters relating  terrorism nonproliferation  crime illicit narcotics  us foreign assistance programs  promotion us trade exports addition subcommittee global responsibility healthrelated policy including disease outbreak response\")"
   ]
  },
  {
   "cell_type": "code",
   "execution_count": null,
   "id": "91c22311",
   "metadata": {},
   "outputs": [],
   "source": [
    "def similar(a,b):\n",
    "    return fuzz.token_set_ratio(a, b)"
   ]
  },
  {
   "cell_type": "code",
   "execution_count": null,
   "id": "49add95d",
   "metadata": {
    "scrolled": true
   },
   "outputs": [],
   "source": [
    "# high match\n",
    "similar(\"fuzzy wuzzy was a bear\", \"wuzzy fuzzy was a bear\")"
   ]
  },
  {
   "cell_type": "code",
   "execution_count": null,
   "id": "d916da89",
   "metadata": {},
   "outputs": [],
   "source": [
    "# should match\n",
    "similar(\"utilities utilities—regulated electric nextera energy inc subsidiaries generates transmits distributes sells electric power retail wholesale customers north america company generates electricity wind solar nuclear fossil fuel coal natural gas facilities also develops constructs operates longterm contracted assets focus renewable generation facilities electric transmission facilities battery storage projects owns develops constructs manages operates electric generation facilities wholesale energy markets december   company operated approximately  megawatts net generating capacity serves approximately  million people approximately  million customer accounts east lower west coasts florida approximately  circuit miles transmission distribution lines  substations company formerly known fpl group inc changed name nextera energy inc  nextera energy inc founded  headquartered juno beach florida\", \"africa global health policy subcommittee deals matters concerning us relations countries africa except like countries north africa specifically covered subcommittees well regional intergovernmental organizations like african union economic community west african states subcommittee’s regional responsibilities include matters within geographic region including matters relating  terrorism nonproliferation  crime illicit narcotics  us foreign assistance programs  promotion us trade exports addition subcommittee global responsibility healthrelated policy including disease outbreak response\")"
   ]
  },
  {
   "cell_type": "code",
   "execution_count": null,
   "id": "a711f066",
   "metadata": {},
   "outputs": [],
   "source": [
    "# should match using industry/sector and committee description\n",
    "similar(\"technology consumer electronics apple inc designs manufactures markets smartphones personal computers tablets wearables accessories worldwide also sells various related services addition company offers iphone line smartphones mac line personal computers ipad line multipurpose tablets airpods max overear wireless headphone wearables home accessories comprising airpods apple tv apple watch beats products homepod ipod touch provides applecare support services cloud services store services operates various platforms including app store allow customers discover download applications digital content books music video games podcasts additionally company offers various services apple arcade game subscription service apple music offers users curated listening experience ondemand radio stations apple news subscription news magazine service apple tv offers exclusive original content apple card cobranded credit card apple pay cashless payment service well licenses intellectual property company serves consumers small midsized businesses education enterprise government markets distributes thirdparty applications products app store company also sells products retail online stores direct sales force thirdparty cellular network carriers wholesalers retailers resellers apple inc incorporated  headquartered cupertino california\", \"cybersecurity infrastructure protection innovation cyber security infrastructure protection innovation subcommittee jurisdiction cybersecurity infrastructure security agency cisa science technology directorate focuses efforts advance federal network security improve critical infrastructure security also oversees cisa‚Äôs chemical security programs crosscutting science technology initiatives\")"
   ]
  },
  {
   "cell_type": "code",
   "execution_count": null,
   "id": "bd1817e9",
   "metadata": {},
   "outputs": [],
   "source": [
    "# should match using industry/sector and committee description\n",
    "similar(\"technology consumer electronics\", \"cybersecurity infrastructure protection innovation cyber security infrastructure protection innovation subcommittee jurisdiction cybersecurity infrastructure security agency cisa science technology directorate focuses efforts advance federal network security improve critical infrastructure security also oversees cisa‚Äôs chemical security programs crosscutting science technology initiatives\")"
   ]
  },
  {
   "cell_type": "code",
   "execution_count": null,
   "id": "09f2e3fc",
   "metadata": {},
   "outputs": [],
   "source": [
    "# should match\n",
    "similar(\"utilities utilities—regulated electric\", \"All matters relating to energy research, development, and demonstration projects therefor; commercial application of energy technology; Department of Energy research, development, and demonstration programs; Department of Energy laboratories; Department of Energy science activities; Department of Energy international research, development, and demonstration projects; energy supply activities; nuclear, solar, and renewable energy, and other advanced energy technologies; uranium supply and enrichment, and Department of Energy waste management; Department of Energy environmental management research, development, and demonstration; fossil energy research and development; clean coal technology; energy conservation research and development, including building performance, alternate fuels, distributed power systems, and industrial process improvements; pipeline research, development, and demonstration projects; energy standards; other appropriate matters as referred by the Chair; and relevant oversight.\") "
   ]
  },
  {
   "cell_type": "code",
   "execution_count": null,
   "id": "ab09fdf4",
   "metadata": {},
   "outputs": [],
   "source": [
    "# shouldn't match \n",
    "similar(\"technology consumer electronics apple inc designs manufactures markets smartphones personal computers tablets wearables accessories worldwide also sells various related services addition company offers iphone line smartphones mac line personal computers ipad line multipurpose tablets airpods max overear wireless headphone wearables home accessories comprising airpods apple tv apple watch beats products homepod ipod touch provides applecare support services cloud services store services operates various platforms including app store allow customers discover download applications digital content books music video games podcasts additionally company offers various services apple arcade game subscription service apple music offers users curated listening experience ondemand radio stations apple news subscription news magazine service apple tv offers exclusive original content apple card cobranded credit card apple pay cashless payment service well licenses intellectual property company serves consumers small midsized businesses education enterprise government markets distributes thirdparty applications products app store company also sells products retail online stores direct sales force thirdparty cellular network carriers wholesalers retailers resellers apple inc incorporated  headquartered cupertino california\", \"africa global health policy subcommittee deals matters concerning us relations countries africa except like countries north africa specifically covered subcommittees well regional intergovernmental organizations like african union economic community west african states subcommittee’s regional responsibilities include matters within geographic region including matters relating  terrorism nonproliferation  crime illicit narcotics  us foreign assistance programs  promotion us trade exports addition subcommittee global responsibility healthrelated policy including disease outbreak response\")"
   ]
  },
  {
   "cell_type": "markdown",
   "id": "e65d28cf",
   "metadata": {},
   "source": [
    "##### Partial Ratio"
   ]
  },
  {
   "cell_type": "code",
   "execution_count": null,
   "id": "dd63e51b",
   "metadata": {},
   "outputs": [],
   "source": [
    "def similar(a,b):\n",
    "    return fuzz.partial_ratio(a, b)"
   ]
  },
  {
   "cell_type": "code",
   "execution_count": null,
   "id": "db79e7d6",
   "metadata": {
    "scrolled": true
   },
   "outputs": [],
   "source": [
    "# high match\n",
    "similar(\"fuzzy wuzzy was a bear\", \"wuzzy fuzzy was a bear\")"
   ]
  },
  {
   "cell_type": "code",
   "execution_count": null,
   "id": "1b35ee82",
   "metadata": {},
   "outputs": [],
   "source": [
    "# should match\n",
    "similar(\"utilities utilities—regulated electric nextera energy inc subsidiaries generates transmits distributes sells electric power retail wholesale customers north america company generates electricity wind solar nuclear fossil fuel coal natural gas facilities also develops constructs operates longterm contracted assets focus renewable generation facilities electric transmission facilities battery storage projects owns develops constructs manages operates electric generation facilities wholesale energy markets december   company operated approximately  megawatts net generating capacity serves approximately  million people approximately  million customer accounts east lower west coasts florida approximately  circuit miles transmission distribution lines  substations company formerly known fpl group inc changed name nextera energy inc  nextera energy inc founded  headquartered juno beach florida\", \"africa global health policy subcommittee deals matters concerning us relations countries africa except like countries north africa specifically covered subcommittees well regional intergovernmental organizations like african union economic community west african states subcommittee’s regional responsibilities include matters within geographic region including matters relating  terrorism nonproliferation  crime illicit narcotics  us foreign assistance programs  promotion us trade exports addition subcommittee global responsibility healthrelated policy including disease outbreak response\")"
   ]
  },
  {
   "cell_type": "code",
   "execution_count": null,
   "id": "5d11b0dd",
   "metadata": {},
   "outputs": [],
   "source": [
    "# should match\n",
    "similar(\"technology consumer electronics apple inc designs manufactures markets smartphones personal computers tablets wearables accessories worldwide also sells various related services addition company offers iphone line smartphones mac line personal computers ipad line multipurpose tablets airpods max overear wireless headphone wearables home accessories comprising airpods apple tv apple watch beats products homepod ipod touch provides applecare support services cloud services store services operates various platforms including app store allow customers discover download applications digital content books music video games podcasts additionally company offers various services apple arcade game subscription service apple music offers users curated listening experience ondemand radio stations apple news subscription news magazine service apple tv offers exclusive original content apple card cobranded credit card apple pay cashless payment service well licenses intellectual property company serves consumers small midsized businesses education enterprise government markets distributes thirdparty applications products app store company also sells products retail online stores direct sales force thirdparty cellular network carriers wholesalers retailers resellers apple inc incorporated  headquartered cupertino california\", \"cybersecurity infrastructure protection innovation cyber security infrastructure protection innovation subcommittee jurisdiction cybersecurity infrastructure security agency cisa science technology directorate focuses efforts advance federal network security improve critical infrastructure security also oversees cisa‚Äôs chemical security programs crosscutting science technology initiatives\")"
   ]
  },
  {
   "cell_type": "markdown",
   "id": "4844d2ff",
   "metadata": {},
   "source": [
    "!!!! High ratio with industry/sector and committee description"
   ]
  },
  {
   "cell_type": "code",
   "execution_count": null,
   "id": "f97155c2",
   "metadata": {},
   "outputs": [],
   "source": [
    "# should match using industry/sector and committee description\n",
    "similar(\"technology consumer electronics\", \"cybersecurity infrastructure protection innovation cyber security infrastructure protection innovation subcommittee jurisdiction cybersecurity infrastructure security agency cisa science technology directorate focuses efforts advance federal network security improve critical infrastructure security also oversees cisa‚Äôs chemical security programs crosscutting science technology initiatives\")"
   ]
  },
  {
   "cell_type": "code",
   "execution_count": null,
   "id": "1d61089a",
   "metadata": {},
   "outputs": [],
   "source": [
    "# should match using industry/sector and committee description\n",
    "similar(\"utilities utilities—regulated electric\", \"All matters relating to energy research, development, and demonstration projects therefor; commercial application of energy technology; Department of Energy research, development, and demonstration programs; Department of Energy laboratories; Department of Energy science activities; Department of Energy international research, development, and demonstration projects; energy supply activities; nuclear, solar, and renewable energy, and other advanced energy technologies; uranium supply and enrichment, and Department of Energy waste management; Department of Energy environmental management research, development, and demonstration; fossil energy research and development; clean coal technology; energy conservation research and development, including building performance, alternate fuels, distributed power systems, and industrial process improvements; pipeline research, development, and demonstration projects; energy standards; other appropriate matters as referred by the Chair; and relevant oversight.\") "
   ]
  },
  {
   "cell_type": "code",
   "execution_count": null,
   "id": "d1ca54db",
   "metadata": {},
   "outputs": [],
   "source": [
    "# shouldn't match \n",
    "similar(\"technology consumer electronics apple inc designs manufactures markets smartphones personal computers tablets wearables accessories worldwide also sells various related services addition company offers iphone line smartphones mac line personal computers ipad line multipurpose tablets airpods max overear wireless headphone wearables home accessories comprising airpods apple tv apple watch beats products homepod ipod touch provides applecare support services cloud services store services operates various platforms including app store allow customers discover download applications digital content books music video games podcasts additionally company offers various services apple arcade game subscription service apple music offers users curated listening experience ondemand radio stations apple news subscription news magazine service apple tv offers exclusive original content apple card cobranded credit card apple pay cashless payment service well licenses intellectual property company serves consumers small midsized businesses education enterprise government markets distributes thirdparty applications products app store company also sells products retail online stores direct sales force thirdparty cellular network carriers wholesalers retailers resellers apple inc incorporated  headquartered cupertino california\", \"africa global health policy subcommittee deals matters concerning us relations countries africa except like countries north africa specifically covered subcommittees well regional intergovernmental organizations like african union economic community west african states subcommittee’s regional responsibilities include matters within geographic region including matters relating  terrorism nonproliferation  crime illicit narcotics  us foreign assistance programs  promotion us trade exports addition subcommittee global responsibility healthrelated policy including disease outbreak response\")"
   ]
  },
  {
   "cell_type": "markdown",
   "id": "0c0394d5",
   "metadata": {},
   "source": [
    "##### Token Sort Ratio"
   ]
  },
  {
   "cell_type": "code",
   "execution_count": null,
   "id": "c59cc651",
   "metadata": {},
   "outputs": [],
   "source": [
    "def similar(a,b):\n",
    "    return fuzz.token_sort_ratio(a, b)"
   ]
  },
  {
   "cell_type": "code",
   "execution_count": null,
   "id": "bb5d2865",
   "metadata": {
    "scrolled": true
   },
   "outputs": [],
   "source": [
    "# high match\n",
    "similar(\"fuzzy wuzzy was a bear\", \"wuzzy fuzzy was a bear\")"
   ]
  },
  {
   "cell_type": "code",
   "execution_count": null,
   "id": "fa510470",
   "metadata": {},
   "outputs": [],
   "source": [
    "# should match\n",
    "similar(\"utilities utilities—regulated electric nextera energy inc subsidiaries generates transmits distributes sells electric power retail wholesale customers north america company generates electricity wind solar nuclear fossil fuel coal natural gas facilities also develops constructs operates longterm contracted assets focus renewable generation facilities electric transmission facilities battery storage projects owns develops constructs manages operates electric generation facilities wholesale energy markets december   company operated approximately  megawatts net generating capacity serves approximately  million people approximately  million customer accounts east lower west coasts florida approximately  circuit miles transmission distribution lines  substations company formerly known fpl group inc changed name nextera energy inc  nextera energy inc founded  headquartered juno beach florida\", \"africa global health policy subcommittee deals matters concerning us relations countries africa except like countries north africa specifically covered subcommittees well regional intergovernmental organizations like african union economic community west african states subcommittee’s regional responsibilities include matters within geographic region including matters relating  terrorism nonproliferation  crime illicit narcotics  us foreign assistance programs  promotion us trade exports addition subcommittee global responsibility healthrelated policy including disease outbreak response\")"
   ]
  },
  {
   "cell_type": "code",
   "execution_count": null,
   "id": "8476a400",
   "metadata": {},
   "outputs": [],
   "source": [
    "# should match\n",
    "similar(\"technology consumer electronics apple inc designs manufactures markets smartphones personal computers tablets wearables accessories worldwide also sells various related services addition company offers iphone line smartphones mac line personal computers ipad line multipurpose tablets airpods max overear wireless headphone wearables home accessories comprising airpods apple tv apple watch beats products homepod ipod touch provides applecare support services cloud services store services operates various platforms including app store allow customers discover download applications digital content books music video games podcasts additionally company offers various services apple arcade game subscription service apple music offers users curated listening experience ondemand radio stations apple news subscription news magazine service apple tv offers exclusive original content apple card cobranded credit card apple pay cashless payment service well licenses intellectual property company serves consumers small midsized businesses education enterprise government markets distributes thirdparty applications products app store company also sells products retail online stores direct sales force thirdparty cellular network carriers wholesalers retailers resellers apple inc incorporated  headquartered cupertino california\", \"cybersecurity infrastructure protection innovation cyber security infrastructure protection innovation subcommittee jurisdiction cybersecurity infrastructure security agency cisa science technology directorate focuses efforts advance federal network security improve critical infrastructure security also oversees cisa‚Äôs chemical security programs crosscutting science technology initiatives\")"
   ]
  },
  {
   "cell_type": "code",
   "execution_count": null,
   "id": "dd02b86b",
   "metadata": {},
   "outputs": [],
   "source": [
    "# should match\n",
    "similar(\"technology consumer electronics\", \"cybersecurity infrastructure protection innovation cyber security infrastructure protection innovation subcommittee jurisdiction cybersecurity infrastructure security agency cisa science technology directorate focuses efforts advance federal network security improve critical infrastructure security also oversees cisa‚Äôs chemical security programs crosscutting science technology initiatives\")"
   ]
  },
  {
   "cell_type": "code",
   "execution_count": null,
   "id": "c0948ec8",
   "metadata": {},
   "outputs": [],
   "source": [
    "# should match\n",
    "similar(\"utilities utilities—regulated electric\", \"All matters relating to energy research, development, and demonstration projects therefor; commercial application of energy technology; Department of Energy research, development, and demonstration programs; Department of Energy laboratories; Department of Energy science activities; Department of Energy international research, development, and demonstration projects; energy supply activities; nuclear, solar, and renewable energy, and other advanced energy technologies; uranium supply and enrichment, and Department of Energy waste management; Department of Energy environmental management research, development, and demonstration; fossil energy research and development; clean coal technology; energy conservation research and development, including building performance, alternate fuels, distributed power systems, and industrial process improvements; pipeline research, development, and demonstration projects; energy standards; other appropriate matters as referred by the Chair; and relevant oversight.\") "
   ]
  },
  {
   "cell_type": "code",
   "execution_count": null,
   "id": "a75856eb",
   "metadata": {},
   "outputs": [],
   "source": [
    "# shouldn't match \n",
    "similar(\"technology consumer electronics apple inc designs manufactures markets smartphones personal computers tablets wearables accessories worldwide also sells various related services addition company offers iphone line smartphones mac line personal computers ipad line multipurpose tablets airpods max overear wireless headphone wearables home accessories comprising airpods apple tv apple watch beats products homepod ipod touch provides applecare support services cloud services store services operates various platforms including app store allow customers discover download applications digital content books music video games podcasts additionally company offers various services apple arcade game subscription service apple music offers users curated listening experience ondemand radio stations apple news subscription news magazine service apple tv offers exclusive original content apple card cobranded credit card apple pay cashless payment service well licenses intellectual property company serves consumers small midsized businesses education enterprise government markets distributes thirdparty applications products app store company also sells products retail online stores direct sales force thirdparty cellular network carriers wholesalers retailers resellers apple inc incorporated  headquartered cupertino california\", \"africa global health policy subcommittee deals matters concerning us relations countries africa except like countries north africa specifically covered subcommittees well regional intergovernmental organizations like african union economic community west african states subcommittee’s regional responsibilities include matters within geographic region including matters relating  terrorism nonproliferation  crime illicit narcotics  us foreign assistance programs  promotion us trade exports addition subcommittee global responsibility healthrelated policy including disease outbreak response\")"
   ]
  },
  {
   "cell_type": "markdown",
   "id": "0316fa80",
   "metadata": {},
   "source": [
    "##### Token Set"
   ]
  },
  {
   "cell_type": "code",
   "execution_count": null,
   "id": "215166f5",
   "metadata": {},
   "outputs": [],
   "source": [
    "def similar(a,b):\n",
    "    return fuzz.token_set_ratio(a, b)"
   ]
  },
  {
   "cell_type": "code",
   "execution_count": null,
   "id": "8f17e386",
   "metadata": {
    "scrolled": true
   },
   "outputs": [],
   "source": [
    "# high match\n",
    "similar(\"fuzzy wuzzy was a bear\", \"wuzzy fuzzy was a bear\")"
   ]
  },
  {
   "cell_type": "code",
   "execution_count": null,
   "id": "1752f97d",
   "metadata": {},
   "outputs": [],
   "source": [
    "# should match\n",
    "similar(\"utilities utilities—regulated electric nextera energy inc subsidiaries generates transmits distributes sells electric power retail wholesale customers north america company generates electricity wind solar nuclear fossil fuel coal natural gas facilities also develops constructs operates longterm contracted assets focus renewable generation facilities electric transmission facilities battery storage projects owns develops constructs manages operates electric generation facilities wholesale energy markets december   company operated approximately  megawatts net generating capacity serves approximately  million people approximately  million customer accounts east lower west coasts florida approximately  circuit miles transmission distribution lines  substations company formerly known fpl group inc changed name nextera energy inc  nextera energy inc founded  headquartered juno beach florida\", \"africa global health policy subcommittee deals matters concerning us relations countries africa except like countries north africa specifically covered subcommittees well regional intergovernmental organizations like african union economic community west african states subcommittee’s regional responsibilities include matters within geographic region including matters relating  terrorism nonproliferation  crime illicit narcotics  us foreign assistance programs  promotion us trade exports addition subcommittee global responsibility healthrelated policy including disease outbreak response\")"
   ]
  },
  {
   "cell_type": "code",
   "execution_count": null,
   "id": "ddab2952",
   "metadata": {},
   "outputs": [],
   "source": [
    "# should match\n",
    "similar(\"technology consumer electronics apple inc designs manufactures markets smartphones personal computers tablets wearables accessories worldwide also sells various related services addition company offers iphone line smartphones mac line personal computers ipad line multipurpose tablets airpods max overear wireless headphone wearables home accessories comprising airpods apple tv apple watch beats products homepod ipod touch provides applecare support services cloud services store services operates various platforms including app store allow customers discover download applications digital content books music video games podcasts additionally company offers various services apple arcade game subscription service apple music offers users curated listening experience ondemand radio stations apple news subscription news magazine service apple tv offers exclusive original content apple card cobranded credit card apple pay cashless payment service well licenses intellectual property company serves consumers small midsized businesses education enterprise government markets distributes thirdparty applications products app store company also sells products retail online stores direct sales force thirdparty cellular network carriers wholesalers retailers resellers apple inc incorporated  headquartered cupertino california\", \"cybersecurity infrastructure protection innovation cyber security infrastructure protection innovation subcommittee jurisdiction cybersecurity infrastructure security agency cisa science technology directorate focuses efforts advance federal network security improve critical infrastructure security also oversees cisa‚Äôs chemical security programs crosscutting science technology initiatives\")"
   ]
  },
  {
   "cell_type": "code",
   "execution_count": null,
   "id": "f4116d54",
   "metadata": {},
   "outputs": [],
   "source": [
    "# should match\n",
    "similar(\"technology consumer electronics\", \"cybersecurity infrastructure protection innovation cyber security infrastructure protection innovation subcommittee jurisdiction cybersecurity infrastructure security agency cisa science technology directorate focuses efforts advance federal network security improve critical infrastructure security also oversees cisa‚Äôs chemical security programs crosscutting science technology initiatives\")"
   ]
  },
  {
   "cell_type": "code",
   "execution_count": null,
   "id": "beca51ef",
   "metadata": {},
   "outputs": [],
   "source": [
    "# should match\n",
    "similar(\"utilities utilities—regulated electric\", \"All matters relating to energy research, development, and demonstration projects therefor; commercial application of energy technology; Department of Energy research, development, and demonstration programs; Department of Energy laboratories; Department of Energy science activities; Department of Energy international research, development, and demonstration projects; energy supply activities; nuclear, solar, and renewable energy, and other advanced energy technologies; uranium supply and enrichment, and Department of Energy waste management; Department of Energy environmental management research, development, and demonstration; fossil energy research and development; clean coal technology; energy conservation research and development, including building performance, alternate fuels, distributed power systems, and industrial process improvements; pipeline research, development, and demonstration projects; energy standards; other appropriate matters as referred by the Chair; and relevant oversight.\") "
   ]
  },
  {
   "cell_type": "code",
   "execution_count": null,
   "id": "6cf8a5af",
   "metadata": {},
   "outputs": [],
   "source": [
    "# shouldn't match \n",
    "similar(\"technology consumer electronics apple inc designs manufactures markets smartphones personal computers tablets wearables accessories worldwide also sells various related services addition company offers iphone line smartphones mac line personal computers ipad line multipurpose tablets airpods max overear wireless headphone wearables home accessories comprising airpods apple tv apple watch beats products homepod ipod touch provides applecare support services cloud services store services operates various platforms including app store allow customers discover download applications digital content books music video games podcasts additionally company offers various services apple arcade game subscription service apple music offers users curated listening experience ondemand radio stations apple news subscription news magazine service apple tv offers exclusive original content apple card cobranded credit card apple pay cashless payment service well licenses intellectual property company serves consumers small midsized businesses education enterprise government markets distributes thirdparty applications products app store company also sells products retail online stores direct sales force thirdparty cellular network carriers wholesalers retailers resellers apple inc incorporated  headquartered cupertino california\", \"africa global health policy subcommittee deals matters concerning us relations countries africa except like countries north africa specifically covered subcommittees well regional intergovernmental organizations like african union economic community west african states subcommittee’s regional responsibilities include matters within geographic region including matters relating  terrorism nonproliferation  crime illicit narcotics  us foreign assistance programs  promotion us trade exports addition subcommittee global responsibility healthrelated policy including disease outbreak response\")"
   ]
  },
  {
   "cell_type": "markdown",
   "id": "0bf3e0d2",
   "metadata": {},
   "source": [
    "##### Hamming Distance (finding the places where the strings vary)"
   ]
  },
  {
   "cell_type": "code",
   "execution_count": null,
   "id": "39edce74",
   "metadata": {},
   "outputs": [],
   "source": [
    "textdistance.hamming.normalized_similarity('arrow', 'arow')"
   ]
  },
  {
   "cell_type": "code",
   "execution_count": null,
   "id": "cbfa0d1f",
   "metadata": {},
   "outputs": [],
   "source": [
    "#the edit distance is 1 for only the difference being one letter different\n",
    "def similar(a,b):\n",
    "    return textdistance.hamming(a, b)"
   ]
  },
  {
   "cell_type": "code",
   "execution_count": null,
   "id": "b0a54424",
   "metadata": {
    "scrolled": true
   },
   "outputs": [],
   "source": [
    "# high match\n",
    "similar(\"fuzzy wuzzy was a bear\", \"wuzzy fuzzy was a bear\")"
   ]
  },
  {
   "cell_type": "code",
   "execution_count": null,
   "id": "71be6d14",
   "metadata": {},
   "outputs": [],
   "source": [
    "# should match\n",
    "similar(\"utilities utilities—regulated electric nextera energy inc subsidiaries generates transmits distributes sells electric power retail wholesale customers north america company generates electricity wind solar nuclear fossil fuel coal natural gas facilities also develops constructs operates longterm contracted assets focus renewable generation facilities electric transmission facilities battery storage projects owns develops constructs manages operates electric generation facilities wholesale energy markets december   company operated approximately  megawatts net generating capacity serves approximately  million people approximately  million customer accounts east lower west coasts florida approximately  circuit miles transmission distribution lines  substations company formerly known fpl group inc changed name nextera energy inc  nextera energy inc founded  headquartered juno beach florida\", \"africa global health policy subcommittee deals matters concerning us relations countries africa except like countries north africa specifically covered subcommittees well regional intergovernmental organizations like african union economic community west african states subcommittee’s regional responsibilities include matters within geographic region including matters relating  terrorism nonproliferation  crime illicit narcotics  us foreign assistance programs  promotion us trade exports addition subcommittee global responsibility healthrelated policy including disease outbreak response\")"
   ]
  },
  {
   "cell_type": "code",
   "execution_count": null,
   "id": "0e7118d8",
   "metadata": {},
   "outputs": [],
   "source": [
    "# should match\n",
    "similar(\"technology consumer electronics apple inc designs manufactures markets smartphones personal computers tablets wearables accessories worldwide also sells various related services addition company offers iphone line smartphones mac line personal computers ipad line multipurpose tablets airpods max overear wireless headphone wearables home accessories comprising airpods apple tv apple watch beats products homepod ipod touch provides applecare support services cloud services store services operates various platforms including app store allow customers discover download applications digital content books music video games podcasts additionally company offers various services apple arcade game subscription service apple music offers users curated listening experience ondemand radio stations apple news subscription news magazine service apple tv offers exclusive original content apple card cobranded credit card apple pay cashless payment service well licenses intellectual property company serves consumers small midsized businesses education enterprise government markets distributes thirdparty applications products app store company also sells products retail online stores direct sales force thirdparty cellular network carriers wholesalers retailers resellers apple inc incorporated  headquartered cupertino california\", \"cybersecurity infrastructure protection innovation cyber security infrastructure protection innovation subcommittee jurisdiction cybersecurity infrastructure security agency cisa science technology directorate focuses efforts advance federal network security improve critical infrastructure security also oversees cisa‚Äôs chemical security programs crosscutting science technology initiatives\")"
   ]
  },
  {
   "cell_type": "code",
   "execution_count": null,
   "id": "da1c2e05",
   "metadata": {},
   "outputs": [],
   "source": [
    "# should match\n",
    "similar(\"technology consumer electronics\", \"cybersecurity infrastructure protection innovation cyber security infrastructure protection innovation subcommittee jurisdiction cybersecurity infrastructure security agency cisa science technology directorate focuses efforts advance federal network security improve critical infrastructure security also oversees cisa‚Äôs chemical security programs crosscutting science technology initiatives\")"
   ]
  },
  {
   "cell_type": "code",
   "execution_count": null,
   "id": "3b0b0c22",
   "metadata": {},
   "outputs": [],
   "source": [
    "# should match\n",
    "similar(\"utilities utilities—regulated electric\", \"All matters relating to energy research, development, and demonstration projects therefor; commercial application of energy technology; Department of Energy research, development, and demonstration programs; Department of Energy laboratories; Department of Energy science activities; Department of Energy international research, development, and demonstration projects; energy supply activities; nuclear, solar, and renewable energy, and other advanced energy technologies; uranium supply and enrichment, and Department of Energy waste management; Department of Energy environmental management research, development, and demonstration; fossil energy research and development; clean coal technology; energy conservation research and development, including building performance, alternate fuels, distributed power systems, and industrial process improvements; pipeline research, development, and demonstration projects; energy standards; other appropriate matters as referred by the Chair; and relevant oversight.\") "
   ]
  },
  {
   "cell_type": "code",
   "execution_count": null,
   "id": "d39ed27f",
   "metadata": {},
   "outputs": [],
   "source": [
    "# shouldn't match \n",
    "similar(\"technology consumer electronics apple inc designs manufactures markets smartphones personal computers tablets wearables accessories worldwide also sells various related services addition company offers iphone line smartphones mac line personal computers ipad line multipurpose tablets airpods max overear wireless headphone wearables home accessories comprising airpods apple tv apple watch beats products homepod ipod touch provides applecare support services cloud services store services operates various platforms including app store allow customers discover download applications digital content books music video games podcasts additionally company offers various services apple arcade game subscription service apple music offers users curated listening experience ondemand radio stations apple news subscription news magazine service apple tv offers exclusive original content apple card cobranded credit card apple pay cashless payment service well licenses intellectual property company serves consumers small midsized businesses education enterprise government markets distributes thirdparty applications products app store company also sells products retail online stores direct sales force thirdparty cellular network carriers wholesalers retailers resellers apple inc incorporated  headquartered cupertino california\", \"africa global health policy subcommittee deals matters concerning us relations countries africa except like countries north africa specifically covered subcommittees well regional intergovernmental organizations like african union economic community west african states subcommittee’s regional responsibilities include matters within geographic region including matters relating  terrorism nonproliferation  crime illicit narcotics  us foreign assistance programs  promotion us trade exports addition subcommittee global responsibility healthrelated policy including disease outbreak response\")"
   ]
  },
  {
   "cell_type": "code",
   "execution_count": null,
   "id": "99a16f4d",
   "metadata": {},
   "outputs": [],
   "source": [
    "#75% similar between text and test\n",
    "def similar(a,b):\n",
    "    return textdistance.hamming.normalized_similarity(a, b)"
   ]
  },
  {
   "cell_type": "code",
   "execution_count": null,
   "id": "ba1f98c4",
   "metadata": {
    "scrolled": true
   },
   "outputs": [],
   "source": [
    "# high match\n",
    "similar(\"fuzzy wuzzy was a bear\", \"wuzzy fuzzy was a bear\")"
   ]
  },
  {
   "cell_type": "code",
   "execution_count": null,
   "id": "3b106855",
   "metadata": {},
   "outputs": [],
   "source": [
    "# should match\n",
    "similar(\"utilities utilities—regulated electric nextera energy inc subsidiaries generates transmits distributes sells electric power retail wholesale customers north america company generates electricity wind solar nuclear fossil fuel coal natural gas facilities also develops constructs operates longterm contracted assets focus renewable generation facilities electric transmission facilities battery storage projects owns develops constructs manages operates electric generation facilities wholesale energy markets december   company operated approximately  megawatts net generating capacity serves approximately  million people approximately  million customer accounts east lower west coasts florida approximately  circuit miles transmission distribution lines  substations company formerly known fpl group inc changed name nextera energy inc  nextera energy inc founded  headquartered juno beach florida\", \"africa global health policy subcommittee deals matters concerning us relations countries africa except like countries north africa specifically covered subcommittees well regional intergovernmental organizations like african union economic community west african states subcommittee’s regional responsibilities include matters within geographic region including matters relating  terrorism nonproliferation  crime illicit narcotics  us foreign assistance programs  promotion us trade exports addition subcommittee global responsibility healthrelated policy including disease outbreak response\")"
   ]
  },
  {
   "cell_type": "code",
   "execution_count": null,
   "id": "287dfe11",
   "metadata": {},
   "outputs": [],
   "source": [
    "# should match\n",
    "similar(\"technology consumer electronics apple inc designs manufactures markets smartphones personal computers tablets wearables accessories worldwide also sells various related services addition company offers iphone line smartphones mac line personal computers ipad line multipurpose tablets airpods max overear wireless headphone wearables home accessories comprising airpods apple tv apple watch beats products homepod ipod touch provides applecare support services cloud services store services operates various platforms including app store allow customers discover download applications digital content books music video games podcasts additionally company offers various services apple arcade game subscription service apple music offers users curated listening experience ondemand radio stations apple news subscription news magazine service apple tv offers exclusive original content apple card cobranded credit card apple pay cashless payment service well licenses intellectual property company serves consumers small midsized businesses education enterprise government markets distributes thirdparty applications products app store company also sells products retail online stores direct sales force thirdparty cellular network carriers wholesalers retailers resellers apple inc incorporated  headquartered cupertino california\", \"cybersecurity infrastructure protection innovation cyber security infrastructure protection innovation subcommittee jurisdiction cybersecurity infrastructure security agency cisa science technology directorate focuses efforts advance federal network security improve critical infrastructure security also oversees cisa‚Äôs chemical security programs crosscutting science technology initiatives\")"
   ]
  },
  {
   "cell_type": "code",
   "execution_count": null,
   "id": "93374adb",
   "metadata": {},
   "outputs": [],
   "source": [
    "# should match\n",
    "similar(\"technology consumer electronics\", \"cybersecurity infrastructure protection innovation cyber security infrastructure protection innovation subcommittee jurisdiction cybersecurity infrastructure security agency cisa science technology directorate focuses efforts advance federal network security improve critical infrastructure security also oversees cisa‚Äôs chemical security programs crosscutting science technology initiatives\")"
   ]
  },
  {
   "cell_type": "code",
   "execution_count": null,
   "id": "df46586c",
   "metadata": {},
   "outputs": [],
   "source": [
    "# should match\n",
    "similar(\"utilities utilities—regulated electric\", \"All matters relating to energy research, development, and demonstration projects therefor; commercial application of energy technology; Department of Energy research, development, and demonstration programs; Department of Energy laboratories; Department of Energy science activities; Department of Energy international research, development, and demonstration projects; energy supply activities; nuclear, solar, and renewable energy, and other advanced energy technologies; uranium supply and enrichment, and Department of Energy waste management; Department of Energy environmental management research, development, and demonstration; fossil energy research and development; clean coal technology; energy conservation research and development, including building performance, alternate fuels, distributed power systems, and industrial process improvements; pipeline research, development, and demonstration projects; energy standards; other appropriate matters as referred by the Chair; and relevant oversight.\") "
   ]
  },
  {
   "cell_type": "code",
   "execution_count": null,
   "id": "6bfae02b",
   "metadata": {},
   "outputs": [],
   "source": [
    "# shouldn't match \n",
    "similar(\"technology consumer electronics apple inc designs manufactures markets smartphones personal computers tablets wearables accessories worldwide also sells various related services addition company offers iphone line smartphones mac line personal computers ipad line multipurpose tablets airpods max overear wireless headphone wearables home accessories comprising airpods apple tv apple watch beats products homepod ipod touch provides applecare support services cloud services store services operates various platforms including app store allow customers discover download applications digital content books music video games podcasts additionally company offers various services apple arcade game subscription service apple music offers users curated listening experience ondemand radio stations apple news subscription news magazine service apple tv offers exclusive original content apple card cobranded credit card apple pay cashless payment service well licenses intellectual property company serves consumers small midsized businesses education enterprise government markets distributes thirdparty applications products app store company also sells products retail online stores direct sales force thirdparty cellular network carriers wholesalers retailers resellers apple inc incorporated  headquartered cupertino california\", \"africa global health policy subcommittee deals matters concerning us relations countries africa except like countries north africa specifically covered subcommittees well regional intergovernmental organizations like african union economic community west african states subcommittee’s regional responsibilities include matters within geographic region including matters relating  terrorism nonproliferation  crime illicit narcotics  us foreign assistance programs  promotion us trade exports addition subcommittee global responsibility healthrelated policy including disease outbreak response\")"
   ]
  },
  {
   "cell_type": "markdown",
   "id": "00f55064",
   "metadata": {},
   "source": [
    "##### Levenshtein Distance"
   ]
  },
  {
   "cell_type": "code",
   "execution_count": null,
   "id": "bf9f4bcb",
   "metadata": {},
   "outputs": [],
   "source": [
    "#number of edits it will take to transform one to the other\n",
    "textdistance.levenshtein('arrow', 'arow')"
   ]
  },
  {
   "cell_type": "code",
   "execution_count": null,
   "id": "c82a0b08",
   "metadata": {},
   "outputs": [],
   "source": [
    "#number of edits it will take to transform one to the other\n",
    "def similar(a,b):\n",
    "    return textdistance.levenshtein(a, b)"
   ]
  },
  {
   "cell_type": "code",
   "execution_count": null,
   "id": "68e35516",
   "metadata": {
    "scrolled": true
   },
   "outputs": [],
   "source": [
    "# high match\n",
    "similar(\"fuzzy wuzzy was a bear\", \"wuzzy fuzzy was a bear\")"
   ]
  },
  {
   "cell_type": "code",
   "execution_count": null,
   "id": "01d5b648",
   "metadata": {},
   "outputs": [],
   "source": [
    "# should match\n",
    "similar(\"utilities utilities—regulated electric nextera energy inc subsidiaries generates transmits distributes sells electric power retail wholesale customers north america company generates electricity wind solar nuclear fossil fuel coal natural gas facilities also develops constructs operates longterm contracted assets focus renewable generation facilities electric transmission facilities battery storage projects owns develops constructs manages operates electric generation facilities wholesale energy markets december   company operated approximately  megawatts net generating capacity serves approximately  million people approximately  million customer accounts east lower west coasts florida approximately  circuit miles transmission distribution lines  substations company formerly known fpl group inc changed name nextera energy inc  nextera energy inc founded  headquartered juno beach florida\", \"africa global health policy subcommittee deals matters concerning us relations countries africa except like countries north africa specifically covered subcommittees well regional intergovernmental organizations like african union economic community west african states subcommittee’s regional responsibilities include matters within geographic region including matters relating  terrorism nonproliferation  crime illicit narcotics  us foreign assistance programs  promotion us trade exports addition subcommittee global responsibility healthrelated policy including disease outbreak response\")"
   ]
  },
  {
   "cell_type": "code",
   "execution_count": null,
   "id": "e45fdd67",
   "metadata": {},
   "outputs": [],
   "source": [
    "# should match\n",
    "similar(\"technology consumer electronics apple inc designs manufactures markets smartphones personal computers tablets wearables accessories worldwide also sells various related services addition company offers iphone line smartphones mac line personal computers ipad line multipurpose tablets airpods max overear wireless headphone wearables home accessories comprising airpods apple tv apple watch beats products homepod ipod touch provides applecare support services cloud services store services operates various platforms including app store allow customers discover download applications digital content books music video games podcasts additionally company offers various services apple arcade game subscription service apple music offers users curated listening experience ondemand radio stations apple news subscription news magazine service apple tv offers exclusive original content apple card cobranded credit card apple pay cashless payment service well licenses intellectual property company serves consumers small midsized businesses education enterprise government markets distributes thirdparty applications products app store company also sells products retail online stores direct sales force thirdparty cellular network carriers wholesalers retailers resellers apple inc incorporated  headquartered cupertino california\", \"cybersecurity infrastructure protection innovation cyber security infrastructure protection innovation subcommittee jurisdiction cybersecurity infrastructure security agency cisa science technology directorate focuses efforts advance federal network security improve critical infrastructure security also oversees cisa‚Äôs chemical security programs crosscutting science technology initiatives\")"
   ]
  },
  {
   "cell_type": "code",
   "execution_count": null,
   "id": "4cdc5839",
   "metadata": {},
   "outputs": [],
   "source": [
    "# should match\n",
    "similar(\"technology consumer electronics\", \"cybersecurity infrastructure protection innovation cyber security infrastructure protection innovation subcommittee jurisdiction cybersecurity infrastructure security agency cisa science technology directorate focuses efforts advance federal network security improve critical infrastructure security also oversees cisa‚Äôs chemical security programs crosscutting science technology initiatives\")"
   ]
  },
  {
   "cell_type": "code",
   "execution_count": null,
   "id": "b2746f9f",
   "metadata": {},
   "outputs": [],
   "source": [
    "# should match\n",
    "similar(\"utilities utilities—regulated electric\", \"All matters relating to energy research, development, and demonstration projects therefor; commercial application of energy technology; Department of Energy research, development, and demonstration programs; Department of Energy laboratories; Department of Energy science activities; Department of Energy international research, development, and demonstration projects; energy supply activities; nuclear, solar, and renewable energy, and other advanced energy technologies; uranium supply and enrichment, and Department of Energy waste management; Department of Energy environmental management research, development, and demonstration; fossil energy research and development; clean coal technology; energy conservation research and development, including building performance, alternate fuels, distributed power systems, and industrial process improvements; pipeline research, development, and demonstration projects; energy standards; other appropriate matters as referred by the Chair; and relevant oversight.\") "
   ]
  },
  {
   "cell_type": "code",
   "execution_count": null,
   "id": "616300b2",
   "metadata": {},
   "outputs": [],
   "source": [
    "# shouldn't match \n",
    "similar(\"technology consumer electronics apple inc designs manufactures markets smartphones personal computers tablets wearables accessories worldwide also sells various related services addition company offers iphone line smartphones mac line personal computers ipad line multipurpose tablets airpods max overear wireless headphone wearables home accessories comprising airpods apple tv apple watch beats products homepod ipod touch provides applecare support services cloud services store services operates various platforms including app store allow customers discover download applications digital content books music video games podcasts additionally company offers various services apple arcade game subscription service apple music offers users curated listening experience ondemand radio stations apple news subscription news magazine service apple tv offers exclusive original content apple card cobranded credit card apple pay cashless payment service well licenses intellectual property company serves consumers small midsized businesses education enterprise government markets distributes thirdparty applications products app store company also sells products retail online stores direct sales force thirdparty cellular network carriers wholesalers retailers resellers apple inc incorporated  headquartered cupertino california\", \"africa global health policy subcommittee deals matters concerning us relations countries africa except like countries north africa specifically covered subcommittees well regional intergovernmental organizations like african union economic community west african states subcommittee’s regional responsibilities include matters within geographic region including matters relating  terrorism nonproliferation  crime illicit narcotics  us foreign assistance programs  promotion us trade exports addition subcommittee global responsibility healthrelated policy including disease outbreak response\")"
   ]
  },
  {
   "cell_type": "code",
   "execution_count": null,
   "id": "882c050e",
   "metadata": {},
   "outputs": [],
   "source": [
    "textdistance.levenshtein.normalized_similarity('arrow', 'arow')"
   ]
  },
  {
   "cell_type": "code",
   "execution_count": null,
   "id": "407210f9",
   "metadata": {},
   "outputs": [],
   "source": [
    "def similar(a,b):\n",
    "    return textdistance.levenshtein.normalized_similarity(a, b)"
   ]
  },
  {
   "cell_type": "code",
   "execution_count": null,
   "id": "fb2f8b4e",
   "metadata": {
    "scrolled": true
   },
   "outputs": [],
   "source": [
    "# high match\n",
    "similar(\"fuzzy wuzzy was a bear\", \"wuzzy fuzzy was a bear\")"
   ]
  },
  {
   "cell_type": "code",
   "execution_count": null,
   "id": "2e8e7ca1",
   "metadata": {},
   "outputs": [],
   "source": [
    "# should match\n",
    "similar(\"utilities utilities—regulated electric nextera energy inc subsidiaries generates transmits distributes sells electric power retail wholesale customers north america company generates electricity wind solar nuclear fossil fuel coal natural gas facilities also develops constructs operates longterm contracted assets focus renewable generation facilities electric transmission facilities battery storage projects owns develops constructs manages operates electric generation facilities wholesale energy markets december   company operated approximately  megawatts net generating capacity serves approximately  million people approximately  million customer accounts east lower west coasts florida approximately  circuit miles transmission distribution lines  substations company formerly known fpl group inc changed name nextera energy inc  nextera energy inc founded  headquartered juno beach florida\", \"africa global health policy subcommittee deals matters concerning us relations countries africa except like countries north africa specifically covered subcommittees well regional intergovernmental organizations like african union economic community west african states subcommittee’s regional responsibilities include matters within geographic region including matters relating  terrorism nonproliferation  crime illicit narcotics  us foreign assistance programs  promotion us trade exports addition subcommittee global responsibility healthrelated policy including disease outbreak response\")"
   ]
  },
  {
   "cell_type": "code",
   "execution_count": null,
   "id": "8be86c74",
   "metadata": {},
   "outputs": [],
   "source": [
    "# should match\n",
    "similar(\"technology consumer electronics apple inc designs manufactures markets smartphones personal computers tablets wearables accessories worldwide also sells various related services addition company offers iphone line smartphones mac line personal computers ipad line multipurpose tablets airpods max overear wireless headphone wearables home accessories comprising airpods apple tv apple watch beats products homepod ipod touch provides applecare support services cloud services store services operates various platforms including app store allow customers discover download applications digital content books music video games podcasts additionally company offers various services apple arcade game subscription service apple music offers users curated listening experience ondemand radio stations apple news subscription news magazine service apple tv offers exclusive original content apple card cobranded credit card apple pay cashless payment service well licenses intellectual property company serves consumers small midsized businesses education enterprise government markets distributes thirdparty applications products app store company also sells products retail online stores direct sales force thirdparty cellular network carriers wholesalers retailers resellers apple inc incorporated  headquartered cupertino california\", \"cybersecurity infrastructure protection innovation cyber security infrastructure protection innovation subcommittee jurisdiction cybersecurity infrastructure security agency cisa science technology directorate focuses efforts advance federal network security improve critical infrastructure security also oversees cisa‚Äôs chemical security programs crosscutting science technology initiatives\")"
   ]
  },
  {
   "cell_type": "code",
   "execution_count": null,
   "id": "7b26e6cb",
   "metadata": {},
   "outputs": [],
   "source": [
    "# should match\n",
    "similar(\"technology consumer electronics\", \"cybersecurity infrastructure protection innovation cyber security infrastructure protection innovation subcommittee jurisdiction cybersecurity infrastructure security agency cisa science technology directorate focuses efforts advance federal network security improve critical infrastructure security also oversees cisa‚Äôs chemical security programs crosscutting science technology initiatives\")"
   ]
  },
  {
   "cell_type": "code",
   "execution_count": null,
   "id": "768f01c7",
   "metadata": {},
   "outputs": [],
   "source": [
    "# should match\n",
    "similar(\"utilities utilities—regulated electric\", \"All matters relating to energy research, development, and demonstration projects therefor; commercial application of energy technology; Department of Energy research, development, and demonstration programs; Department of Energy laboratories; Department of Energy science activities; Department of Energy international research, development, and demonstration projects; energy supply activities; nuclear, solar, and renewable energy, and other advanced energy technologies; uranium supply and enrichment, and Department of Energy waste management; Department of Energy environmental management research, development, and demonstration; fossil energy research and development; clean coal technology; energy conservation research and development, including building performance, alternate fuels, distributed power systems, and industrial process improvements; pipeline research, development, and demonstration projects; energy standards; other appropriate matters as referred by the Chair; and relevant oversight.\") "
   ]
  },
  {
   "cell_type": "code",
   "execution_count": null,
   "id": "a5334bcb",
   "metadata": {},
   "outputs": [],
   "source": [
    "# shouldn't match \n",
    "similar(\"technology consumer electronics apple inc designs manufactures markets smartphones personal computers tablets wearables accessories worldwide also sells various related services addition company offers iphone line smartphones mac line personal computers ipad line multipurpose tablets airpods max overear wireless headphone wearables home accessories comprising airpods apple tv apple watch beats products homepod ipod touch provides applecare support services cloud services store services operates various platforms including app store allow customers discover download applications digital content books music video games podcasts additionally company offers various services apple arcade game subscription service apple music offers users curated listening experience ondemand radio stations apple news subscription news magazine service apple tv offers exclusive original content apple card cobranded credit card apple pay cashless payment service well licenses intellectual property company serves consumers small midsized businesses education enterprise government markets distributes thirdparty applications products app store company also sells products retail online stores direct sales force thirdparty cellular network carriers wholesalers retailers resellers apple inc incorporated  headquartered cupertino california\", \"africa global health policy subcommittee deals matters concerning us relations countries africa except like countries north africa specifically covered subcommittees well regional intergovernmental organizations like african union economic community west african states subcommittee’s regional responsibilities include matters within geographic region including matters relating  terrorism nonproliferation  crime illicit narcotics  us foreign assistance programs  promotion us trade exports addition subcommittee global responsibility healthrelated policy including disease outbreak response\")"
   ]
  },
  {
   "cell_type": "markdown",
   "id": "b512ffca",
   "metadata": {},
   "source": [
    "##### Jaccard Index "
   ]
  },
  {
   "cell_type": "markdown",
   "id": "c1c03f84",
   "metadata": {},
   "source": [
    "(find the number of common tokens and divide it by the total number of unique tokens)\n",
    "\n",
    "\"We first tokenize the string by default space delimiter, to make words in the strings as tokens. Then we compute the similarity score.\" "
   ]
  },
  {
   "cell_type": "code",
   "execution_count": null,
   "id": "3bcad3f8",
   "metadata": {},
   "outputs": [],
   "source": [
    "tokens_1 = \"hello world\".split()\n",
    "tokens_2 = \"world hello\".split()"
   ]
  },
  {
   "cell_type": "code",
   "execution_count": null,
   "id": "d8643473",
   "metadata": {},
   "outputs": [],
   "source": [
    "textdistance.jaccard(tokens_1 , tokens_2)"
   ]
  },
  {
   "cell_type": "code",
   "execution_count": null,
   "id": "17a9c0ce",
   "metadata": {},
   "outputs": [],
   "source": [
    "tokens_1 = \"hello new world\".split()\n",
    "tokens_2 = \"hello world\".split()"
   ]
  },
  {
   "cell_type": "code",
   "execution_count": null,
   "id": "28b39866",
   "metadata": {},
   "outputs": [],
   "source": [
    "textdistance.jaccard(tokens_1 , tokens_2)"
   ]
  },
  {
   "cell_type": "code",
   "execution_count": null,
   "id": "f2a38cf8",
   "metadata": {},
   "outputs": [],
   "source": [
    "def similar(a,b):\n",
    "    return textdistance.jaccard(a, b)"
   ]
  },
  {
   "cell_type": "code",
   "execution_count": null,
   "id": "e52a7c27",
   "metadata": {
    "scrolled": true
   },
   "outputs": [],
   "source": [
    "# high match\n",
    "similar(\"fuzzy wuzzy was a bear\", \"wuzzy fuzzy was a bear\")"
   ]
  },
  {
   "cell_type": "code",
   "execution_count": null,
   "id": "6597b137",
   "metadata": {},
   "outputs": [],
   "source": [
    "# should match\n",
    "similar(\"utilities utilities—regulated electric nextera energy inc subsidiaries generates transmits distributes sells electric power retail wholesale customers north america company generates electricity wind solar nuclear fossil fuel coal natural gas facilities also develops constructs operates longterm contracted assets focus renewable generation facilities electric transmission facilities battery storage projects owns develops constructs manages operates electric generation facilities wholesale energy markets december   company operated approximately  megawatts net generating capacity serves approximately  million people approximately  million customer accounts east lower west coasts florida approximately  circuit miles transmission distribution lines  substations company formerly known fpl group inc changed name nextera energy inc  nextera energy inc founded  headquartered juno beach florida\", \"africa global health policy subcommittee deals matters concerning us relations countries africa except like countries north africa specifically covered subcommittees well regional intergovernmental organizations like african union economic community west african states subcommittee’s regional responsibilities include matters within geographic region including matters relating  terrorism nonproliferation  crime illicit narcotics  us foreign assistance programs  promotion us trade exports addition subcommittee global responsibility healthrelated policy including disease outbreak response\")"
   ]
  },
  {
   "cell_type": "code",
   "execution_count": null,
   "id": "b1582d00",
   "metadata": {},
   "outputs": [],
   "source": [
    "# should match\n",
    "similar(\"technology consumer electronics apple inc designs manufactures markets smartphones personal computers tablets wearables accessories worldwide also sells various related services addition company offers iphone line smartphones mac line personal computers ipad line multipurpose tablets airpods max overear wireless headphone wearables home accessories comprising airpods apple tv apple watch beats products homepod ipod touch provides applecare support services cloud services store services operates various platforms including app store allow customers discover download applications digital content books music video games podcasts additionally company offers various services apple arcade game subscription service apple music offers users curated listening experience ondemand radio stations apple news subscription news magazine service apple tv offers exclusive original content apple card cobranded credit card apple pay cashless payment service well licenses intellectual property company serves consumers small midsized businesses education enterprise government markets distributes thirdparty applications products app store company also sells products retail online stores direct sales force thirdparty cellular network carriers wholesalers retailers resellers apple inc incorporated  headquartered cupertino california\", \"cybersecurity infrastructure protection innovation cyber security infrastructure protection innovation subcommittee jurisdiction cybersecurity infrastructure security agency cisa science technology directorate focuses efforts advance federal network security improve critical infrastructure security also oversees cisa‚Äôs chemical security programs crosscutting science technology initiatives\")"
   ]
  },
  {
   "cell_type": "code",
   "execution_count": null,
   "id": "0c841972",
   "metadata": {},
   "outputs": [],
   "source": [
    "# should match\n",
    "similar(\"technology consumer electronics\", \"cybersecurity infrastructure protection innovation cyber security infrastructure protection innovation subcommittee jurisdiction cybersecurity infrastructure security agency cisa science technology directorate focuses efforts advance federal network security improve critical infrastructure security also oversees cisa‚Äôs chemical security programs crosscutting science technology initiatives\")"
   ]
  },
  {
   "cell_type": "code",
   "execution_count": null,
   "id": "c4502a0a",
   "metadata": {},
   "outputs": [],
   "source": [
    "# should match\n",
    "similar(\"utilities utilities—regulated electric\", \"All matters relating to energy research, development, and demonstration projects therefor; commercial application of energy technology; Department of Energy research, development, and demonstration programs; Department of Energy laboratories; Department of Energy science activities; Department of Energy international research, development, and demonstration projects; energy supply activities; nuclear, solar, and renewable energy, and other advanced energy technologies; uranium supply and enrichment, and Department of Energy waste management; Department of Energy environmental management research, development, and demonstration; fossil energy research and development; clean coal technology; energy conservation research and development, including building performance, alternate fuels, distributed power systems, and industrial process improvements; pipeline research, development, and demonstration projects; energy standards; other appropriate matters as referred by the Chair; and relevant oversight.\") "
   ]
  },
  {
   "cell_type": "code",
   "execution_count": null,
   "id": "f3065308",
   "metadata": {},
   "outputs": [],
   "source": [
    "# shouldn't match \n",
    "similar(\"technology consumer electronics apple inc designs manufactures markets smartphones personal computers tablets wearables accessories worldwide also sells various related services addition company offers iphone line smartphones mac line personal computers ipad line multipurpose tablets airpods max overear wireless headphone wearables home accessories comprising airpods apple tv apple watch beats products homepod ipod touch provides applecare support services cloud services store services operates various platforms including app store allow customers discover download applications digital content books music video games podcasts additionally company offers various services apple arcade game subscription service apple music offers users curated listening experience ondemand radio stations apple news subscription news magazine service apple tv offers exclusive original content apple card cobranded credit card apple pay cashless payment service well licenses intellectual property company serves consumers small midsized businesses education enterprise government markets distributes thirdparty applications products app store company also sells products retail online stores direct sales force thirdparty cellular network carriers wholesalers retailers resellers apple inc incorporated  headquartered cupertino california\", \"africa global health policy subcommittee deals matters concerning us relations countries africa except like countries north africa specifically covered subcommittees well regional intergovernmental organizations like african union economic community west african states subcommittee’s regional responsibilities include matters within geographic region including matters relating  terrorism nonproliferation  crime illicit narcotics  us foreign assistance programs  promotion us trade exports addition subcommittee global responsibility healthrelated policy including disease outbreak response\")"
   ]
  },
  {
   "cell_type": "markdown",
   "id": "ff33e996",
   "metadata": {},
   "source": [
    "##### Sorensen-Dice"
   ]
  },
  {
   "cell_type": "markdown",
   "id": "fae257bd",
   "metadata": {},
   "source": [
    "\"Falling under set similarity, the logic is to find the common tokens, and divide it by the total number of tokens present by combining both sets.\" "
   ]
  },
  {
   "cell_type": "code",
   "execution_count": null,
   "id": "f99d0476",
   "metadata": {},
   "outputs": [],
   "source": [
    "tokens_1 = \"hello world\".split()\n",
    "tokens_2 = \"world hello\".split()"
   ]
  },
  {
   "cell_type": "code",
   "execution_count": null,
   "id": "68fd3b41",
   "metadata": {},
   "outputs": [],
   "source": [
    "textdistance.sorensen(tokens_1 , tokens_2)"
   ]
  },
  {
   "cell_type": "code",
   "execution_count": null,
   "id": "a7772bd9",
   "metadata": {},
   "outputs": [],
   "source": [
    "tokens_1 = \"hello new world\".split()\n",
    "tokens_2 = \"hello world\".split()"
   ]
  },
  {
   "cell_type": "code",
   "execution_count": null,
   "id": "20665ee1",
   "metadata": {},
   "outputs": [],
   "source": [
    "textdistance.sorensen(tokens_1 , tokens_2)"
   ]
  },
  {
   "cell_type": "code",
   "execution_count": null,
   "id": "2c2ac4d4",
   "metadata": {},
   "outputs": [],
   "source": [
    "def similar(a,b):\n",
    "    return textdistance.sorensen(a, b)"
   ]
  },
  {
   "cell_type": "code",
   "execution_count": null,
   "id": "a44dd8a9",
   "metadata": {
    "scrolled": true
   },
   "outputs": [],
   "source": [
    "# high match\n",
    "similar(\"fuzzy wuzzy was a bear\", \"wuzzy fuzzy was a bear\")"
   ]
  },
  {
   "cell_type": "code",
   "execution_count": null,
   "id": "c5c77cbd",
   "metadata": {},
   "outputs": [],
   "source": [
    "# should match\n",
    "similar(\"utilities utilities—regulated electric nextera energy inc subsidiaries generates transmits distributes sells electric power retail wholesale customers north america company generates electricity wind solar nuclear fossil fuel coal natural gas facilities also develops constructs operates longterm contracted assets focus renewable generation facilities electric transmission facilities battery storage projects owns develops constructs manages operates electric generation facilities wholesale energy markets december   company operated approximately  megawatts net generating capacity serves approximately  million people approximately  million customer accounts east lower west coasts florida approximately  circuit miles transmission distribution lines  substations company formerly known fpl group inc changed name nextera energy inc  nextera energy inc founded  headquartered juno beach florida\", \"africa global health policy subcommittee deals matters concerning us relations countries africa except like countries north africa specifically covered subcommittees well regional intergovernmental organizations like african union economic community west african states subcommittee’s regional responsibilities include matters within geographic region including matters relating  terrorism nonproliferation  crime illicit narcotics  us foreign assistance programs  promotion us trade exports addition subcommittee global responsibility healthrelated policy including disease outbreak response\")"
   ]
  },
  {
   "cell_type": "code",
   "execution_count": null,
   "id": "75a02a7a",
   "metadata": {},
   "outputs": [],
   "source": [
    "# should match\n",
    "similar(\"technology consumer electronics apple inc designs manufactures markets smartphones personal computers tablets wearables accessories worldwide also sells various related services addition company offers iphone line smartphones mac line personal computers ipad line multipurpose tablets airpods max overear wireless headphone wearables home accessories comprising airpods apple tv apple watch beats products homepod ipod touch provides applecare support services cloud services store services operates various platforms including app store allow customers discover download applications digital content books music video games podcasts additionally company offers various services apple arcade game subscription service apple music offers users curated listening experience ondemand radio stations apple news subscription news magazine service apple tv offers exclusive original content apple card cobranded credit card apple pay cashless payment service well licenses intellectual property company serves consumers small midsized businesses education enterprise government markets distributes thirdparty applications products app store company also sells products retail online stores direct sales force thirdparty cellular network carriers wholesalers retailers resellers apple inc incorporated  headquartered cupertino california\", \"cybersecurity infrastructure protection innovation cyber security infrastructure protection innovation subcommittee jurisdiction cybersecurity infrastructure security agency cisa science technology directorate focuses efforts advance federal network security improve critical infrastructure security also oversees cisa‚Äôs chemical security programs crosscutting science technology initiatives\")"
   ]
  },
  {
   "cell_type": "code",
   "execution_count": null,
   "id": "162be222",
   "metadata": {},
   "outputs": [],
   "source": [
    "# should match\n",
    "similar(\"technology consumer electronics\", \"cybersecurity infrastructure protection innovation cyber security infrastructure protection innovation subcommittee jurisdiction cybersecurity infrastructure security agency cisa science technology directorate focuses efforts advance federal network security improve critical infrastructure security also oversees cisa‚Äôs chemical security programs crosscutting science technology initiatives\")"
   ]
  },
  {
   "cell_type": "code",
   "execution_count": null,
   "id": "2203beb0",
   "metadata": {},
   "outputs": [],
   "source": [
    "# should match\n",
    "similar(\"utilities utilities—regulated electric\", \"All matters relating to energy research, development, and demonstration projects therefor; commercial application of energy technology; Department of Energy research, development, and demonstration programs; Department of Energy laboratories; Department of Energy science activities; Department of Energy international research, development, and demonstration projects; energy supply activities; nuclear, solar, and renewable energy, and other advanced energy technologies; uranium supply and enrichment, and Department of Energy waste management; Department of Energy environmental management research, development, and demonstration; fossil energy research and development; clean coal technology; energy conservation research and development, including building performance, alternate fuels, distributed power systems, and industrial process improvements; pipeline research, development, and demonstration projects; energy standards; other appropriate matters as referred by the Chair; and relevant oversight.\") "
   ]
  },
  {
   "cell_type": "code",
   "execution_count": null,
   "id": "e6b5213a",
   "metadata": {},
   "outputs": [],
   "source": [
    "# shouldn't match \n",
    "similar(\"technology consumer electronics apple inc designs manufactures markets smartphones personal computers tablets wearables accessories worldwide also sells various related services addition company offers iphone line smartphones mac line personal computers ipad line multipurpose tablets airpods max overear wireless headphone wearables home accessories comprising airpods apple tv apple watch beats products homepod ipod touch provides applecare support services cloud services store services operates various platforms including app store allow customers discover download applications digital content books music video games podcasts additionally company offers various services apple arcade game subscription service apple music offers users curated listening experience ondemand radio stations apple news subscription news magazine service apple tv offers exclusive original content apple card cobranded credit card apple pay cashless payment service well licenses intellectual property company serves consumers small midsized businesses education enterprise government markets distributes thirdparty applications products app store company also sells products retail online stores direct sales force thirdparty cellular network carriers wholesalers retailers resellers apple inc incorporated  headquartered cupertino california\", \"africa global health policy subcommittee deals matters concerning us relations countries africa except like countries north africa specifically covered subcommittees well regional intergovernmental organizations like african union economic community west african states subcommittee’s regional responsibilities include matters within geographic region including matters relating  terrorism nonproliferation  crime illicit narcotics  us foreign assistance programs  promotion us trade exports addition subcommittee global responsibility healthrelated policy including disease outbreak response\")"
   ]
  },
  {
   "cell_type": "markdown",
   "id": "a2e793b8",
   "metadata": {},
   "source": [
    "##### Ratcliff-Obershelp similarity"
   ]
  },
  {
   "cell_type": "code",
   "execution_count": null,
   "id": "4d74261a",
   "metadata": {},
   "outputs": [],
   "source": [
    "string1, string2 = \"i am going home\", \"gone home\""
   ]
  },
  {
   "cell_type": "code",
   "execution_count": null,
   "id": "7763f9bd",
   "metadata": {},
   "outputs": [],
   "source": [
    "textdistance.ratcliff_obershelp(string1, string2)"
   ]
  },
  {
   "cell_type": "code",
   "execution_count": null,
   "id": "fba29ad8",
   "metadata": {},
   "outputs": [],
   "source": [
    "def similar(a,b):\n",
    "    return textdistance.ratcliff_obershelp(a, b)"
   ]
  },
  {
   "cell_type": "code",
   "execution_count": null,
   "id": "9173969b",
   "metadata": {
    "scrolled": true
   },
   "outputs": [],
   "source": [
    "# high match\n",
    "similar(\"fuzzy wuzzy was a bear\", \"wuzzy fuzzy was a bear\")"
   ]
  },
  {
   "cell_type": "code",
   "execution_count": null,
   "id": "5fe7d460",
   "metadata": {},
   "outputs": [],
   "source": [
    "# should match \n",
    "similar(\"utilities utilities—regulated electric nextera energy inc subsidiaries generates transmits distributes sells electric power retail wholesale customers north america company generates electricity wind solar nuclear fossil fuel coal natural gas facilities also develops constructs operates longterm contracted assets focus renewable generation facilities electric transmission facilities battery storage projects owns develops constructs manages operates electric generation facilities wholesale energy markets december   company operated approximately  megawatts net generating capacity serves approximately  million people approximately  million customer accounts east lower west coasts florida approximately  circuit miles transmission distribution lines  substations company formerly known fpl group inc changed name nextera energy inc  nextera energy inc founded  headquartered juno beach florida\", \"africa global health policy subcommittee deals matters concerning us relations countries africa except like countries north africa specifically covered subcommittees well regional intergovernmental organizations like african union economic community west african states subcommittee’s regional responsibilities include matters within geographic region including matters relating  terrorism nonproliferation  crime illicit narcotics  us foreign assistance programs  promotion us trade exports addition subcommittee global responsibility healthrelated policy including disease outbreak response\")"
   ]
  },
  {
   "cell_type": "code",
   "execution_count": null,
   "id": "bc90c34c",
   "metadata": {},
   "outputs": [],
   "source": [
    "# should match\n",
    "similar(\"technology consumer electronics apple inc designs manufactures markets smartphones personal computers tablets wearables accessories worldwide also sells various related services addition company offers iphone line smartphones mac line personal computers ipad line multipurpose tablets airpods max overear wireless headphone wearables home accessories comprising airpods apple tv apple watch beats products homepod ipod touch provides applecare support services cloud services store services operates various platforms including app store allow customers discover download applications digital content books music video games podcasts additionally company offers various services apple arcade game subscription service apple music offers users curated listening experience ondemand radio stations apple news subscription news magazine service apple tv offers exclusive original content apple card cobranded credit card apple pay cashless payment service well licenses intellectual property company serves consumers small midsized businesses education enterprise government markets distributes thirdparty applications products app store company also sells products retail online stores direct sales force thirdparty cellular network carriers wholesalers retailers resellers apple inc incorporated  headquartered cupertino california\", \"cybersecurity infrastructure protection innovation cyber security infrastructure protection innovation subcommittee jurisdiction cybersecurity infrastructure security agency cisa science technology directorate focuses efforts advance federal network security improve critical infrastructure security also oversees cisa‚Äôs chemical security programs crosscutting science technology initiatives\")"
   ]
  },
  {
   "cell_type": "code",
   "execution_count": null,
   "id": "d1c1834e",
   "metadata": {},
   "outputs": [],
   "source": [
    "# should match\n",
    "similar(\"technology consumer electronics\", \"cybersecurity infrastructure protection innovation cyber security infrastructure protection innovation subcommittee jurisdiction cybersecurity infrastructure security agency cisa science technology directorate focuses efforts advance federal network security improve critical infrastructure security also oversees cisa‚Äôs chemical security programs crosscutting science technology initiatives\")"
   ]
  },
  {
   "cell_type": "code",
   "execution_count": null,
   "id": "d2f4415f",
   "metadata": {},
   "outputs": [],
   "source": [
    "# should match \n",
    "similar(\"utilities utilities—regulated electric\", \"All matters relating to energy research, development, and demonstration projects therefor; commercial application of energy technology; Department of Energy research, development, and demonstration programs; Department of Energy laboratories; Department of Energy science activities; Department of Energy international research, development, and demonstration projects; energy supply activities; nuclear, solar, and renewable energy, and other advanced energy technologies; uranium supply and enrichment, and Department of Energy waste management; Department of Energy environmental management research, development, and demonstration; fossil energy research and development; clean coal technology; energy conservation research and development, including building performance, alternate fuels, distributed power systems, and industrial process improvements; pipeline research, development, and demonstration projects; energy standards; other appropriate matters as referred by the Chair; and relevant oversight.\") "
   ]
  },
  {
   "cell_type": "code",
   "execution_count": null,
   "id": "f91b7010",
   "metadata": {},
   "outputs": [],
   "source": [
    "# shouldn't match \n",
    "similar(\"technology consumer electronics apple inc designs manufactures markets smartphones personal computers tablets wearables accessories worldwide also sells various related services addition company offers iphone line smartphones mac line personal computers ipad line multipurpose tablets airpods max overear wireless headphone wearables home accessories comprising airpods apple tv apple watch beats products homepod ipod touch provides applecare support services cloud services store services operates various platforms including app store allow customers discover download applications digital content books music video games podcasts additionally company offers various services apple arcade game subscription service apple music offers users curated listening experience ondemand radio stations apple news subscription news magazine service apple tv offers exclusive original content apple card cobranded credit card apple pay cashless payment service well licenses intellectual property company serves consumers small midsized businesses education enterprise government markets distributes thirdparty applications products app store company also sells products retail online stores direct sales force thirdparty cellular network carriers wholesalers retailers resellers apple inc incorporated  headquartered cupertino california\", \"africa global health policy subcommittee deals matters concerning us relations countries africa except like countries north africa specifically covered subcommittees well regional intergovernmental organizations like african union economic community west african states subcommittee’s regional responsibilities include matters within geographic region including matters relating  terrorism nonproliferation  crime illicit narcotics  us foreign assistance programs  promotion us trade exports addition subcommittee global responsibility healthrelated policy including disease outbreak response\")"
   ]
  },
  {
   "cell_type": "markdown",
   "id": "c44b970d",
   "metadata": {},
   "source": [
    "----"
   ]
  },
  {
   "cell_type": "code",
   "execution_count": null,
   "id": "47340b9d",
   "metadata": {},
   "outputs": [],
   "source": []
  },
  {
   "cell_type": "code",
   "execution_count": null,
   "id": "302fb210",
   "metadata": {},
   "outputs": [],
   "source": []
  },
  {
   "cell_type": "code",
   "execution_count": null,
   "id": "8a7e9c8c",
   "metadata": {},
   "outputs": [],
   "source": []
  },
  {
   "cell_type": "code",
   "execution_count": null,
   "id": "5c49b87a",
   "metadata": {},
   "outputs": [],
   "source": []
  },
  {
   "cell_type": "markdown",
   "id": "db77f4fb",
   "metadata": {},
   "source": [
    "-----"
   ]
  },
  {
   "cell_type": "markdown",
   "id": "829c8a83",
   "metadata": {},
   "source": [
    "Data Notes:\n",
    "\n",
    "1. combine committee fullname with committee description in new column\n",
    "2. remove duplicate words in each description\n",
    "3. (agriculture vs. agricultural)"
   ]
  },
  {
   "cell_type": "markdown",
   "id": "0ee869d3",
   "metadata": {},
   "source": [
    "5. remove numbers and words, punctuation \n",
    "\n",
    "* a \n",
    "* includes\n",
    "* deals \n",
    "* shall\n",
    "* jurisdiction\n",
    "* policy \n",
    "* member\n",
    "* ranking\n",
    "* \n",
    "\n",
    "\n"
   ]
  },
  {
   "cell_type": "code",
   "execution_count": null,
   "id": "1488ea52",
   "metadata": {},
   "outputs": [],
   "source": []
  }
 ],
 "metadata": {
  "kernelspec": {
   "display_name": "Python 3 (ipykernel)",
   "language": "python",
   "name": "python3"
  },
  "language_info": {
   "codemirror_mode": {
    "name": "ipython",
    "version": 3
   },
   "file_extension": ".py",
   "mimetype": "text/x-python",
   "name": "python",
   "nbconvert_exporter": "python",
   "pygments_lexer": "ipython3",
   "version": "3.10.0"
  }
 },
 "nbformat": 4,
 "nbformat_minor": 5
}
