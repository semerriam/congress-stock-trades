{
 "cells": [
  {
   "cell_type": "markdown",
   "id": "873b9ca1",
   "metadata": {},
   "source": [
    "# Congressional Committees w/ Stock Trades w/ String Algorithms"
   ]
  },
  {
   "cell_type": "markdown",
   "id": "99c47e2a",
   "metadata": {},
   "source": [
    "Exploring matching Congressional stock trade data and stock descriptions with Congressional Committee descriptions"
   ]
  },
  {
   "cell_type": "markdown",
   "id": "a2b80524",
   "metadata": {},
   "source": [
    "reference: https://pythonspot.com/nltk-stop-words/"
   ]
  },
  {
   "cell_type": "code",
   "execution_count": null,
   "id": "1efb946f",
   "metadata": {},
   "outputs": [],
   "source": []
  },
  {
   "cell_type": "markdown",
   "id": "fccda6cb",
   "metadata": {},
   "source": [
    "----"
   ]
  },
  {
   "cell_type": "markdown",
   "id": "11612340",
   "metadata": {},
   "source": [
    "#### Imports"
   ]
  },
  {
   "cell_type": "code",
   "execution_count": 190,
   "id": "648933c6",
   "metadata": {},
   "outputs": [],
   "source": [
    "import pandas as pd\n",
    "import numpy as np\n",
    "import matplotlib.pyplot as plt\n",
    "from IPython.display import display, HTML"
   ]
  },
  {
   "cell_type": "code",
   "execution_count": 191,
   "id": "d90330a0",
   "metadata": {},
   "outputs": [],
   "source": [
    "# pd.set_option('display.max_columns', None)\n",
    "# pd.set_option('display.max_rows', None)\n",
    "# pd.set_option('display.width', None)\n",
    "# pd.set_option('display.max_colwidth', None)\n",
    "# pd.set_option('max_seq_item', None)"
   ]
  },
  {
   "cell_type": "code",
   "execution_count": 192,
   "id": "8367da9c",
   "metadata": {},
   "outputs": [],
   "source": [
    "#string matching imports\n",
    "from difflib import SequenceMatcher\n",
    "from fuzzywuzzy import fuzz\n",
    "from fuzzywuzzy import process\n",
    "from thefuzz import fuzz\n",
    "from thefuzz import process\n",
    "import textdistance\n",
    "import jaro\n",
    "import jellyfish"
   ]
  },
  {
   "cell_type": "code",
   "execution_count": 193,
   "id": "a7ae074f",
   "metadata": {},
   "outputs": [],
   "source": [
    "#natural language processing imports\n",
    "import nltk\n",
    "from nltk.tokenize import sent_tokenize, word_tokenize\n",
    "from nltk.corpus import stopwords\n",
    "from nltk.corpus import treebank\n",
    "import string"
   ]
  },
  {
   "cell_type": "code",
   "execution_count": 194,
   "id": "5575b7df",
   "metadata": {},
   "outputs": [
    {
     "name": "stderr",
     "output_type": "stream",
     "text": [
      "[nltk_data] Downloading package punkt to /Users/sm/nltk_data...\n",
      "[nltk_data]   Package punkt is already up-to-date!\n",
      "[nltk_data] Downloading package stopwords to /Users/sm/nltk_data...\n",
      "[nltk_data]   Package stopwords is already up-to-date!\n",
      "[nltk_data] Downloading package averaged_perceptron_tagger to\n",
      "[nltk_data]     /Users/sm/nltk_data...\n",
      "[nltk_data]   Package averaged_perceptron_tagger is already up-to-\n",
      "[nltk_data]       date!\n",
      "[nltk_data] Downloading package maxent_ne_chunker to\n",
      "[nltk_data]     /Users/sm/nltk_data...\n",
      "[nltk_data]   Package maxent_ne_chunker is already up-to-date!\n",
      "[nltk_data] Downloading package words to /Users/sm/nltk_data...\n",
      "[nltk_data]   Package words is already up-to-date!\n",
      "[nltk_data] Downloading package treebank to /Users/sm/nltk_data...\n",
      "[nltk_data]   Package treebank is already up-to-date!\n"
     ]
    },
    {
     "data": {
      "text/plain": [
       "True"
      ]
     },
     "execution_count": 194,
     "metadata": {},
     "output_type": "execute_result"
    }
   ],
   "source": [
    "nltk.download('punkt')\n",
    "nltk.download('stopwords')\n",
    "nltk.download('averaged_perceptron_tagger')\n",
    "nltk.download('maxent_ne_chunker')\n",
    "nltk.download('words')\n",
    "nltk.download('treebank')"
   ]
  },
  {
   "cell_type": "markdown",
   "id": "3a1f06d7",
   "metadata": {},
   "source": [
    "----"
   ]
  },
  {
   "cell_type": "markdown",
   "id": "0d6e7c56",
   "metadata": {},
   "source": [
    "### Reading Dataframes"
   ]
  },
  {
   "cell_type": "markdown",
   "id": "1f253c6f",
   "metadata": {},
   "source": [
    "Read in Stock trades by Congress members with Yahoo finance stock info"
   ]
  },
  {
   "cell_type": "code",
   "execution_count": 195,
   "id": "403a1506",
   "metadata": {},
   "outputs": [],
   "source": [
    "df_trades = pd.read_csv(\"..//data//processed//stock_watchers_w_yfinance_03_12_2022.csv\", encoding=\"utf-8\")"
   ]
  },
  {
   "cell_type": "code",
   "execution_count": 196,
   "id": "90e1e98d",
   "metadata": {},
   "outputs": [
    {
     "data": {
      "text/html": [
       "<div>\n",
       "<style scoped>\n",
       "    .dataframe tbody tr th:only-of-type {\n",
       "        vertical-align: middle;\n",
       "    }\n",
       "\n",
       "    .dataframe tbody tr th {\n",
       "        vertical-align: top;\n",
       "    }\n",
       "\n",
       "    .dataframe thead th {\n",
       "        text-align: right;\n",
       "    }\n",
       "</style>\n",
       "<table border=\"1\" class=\"dataframe\">\n",
       "  <thead>\n",
       "    <tr style=\"text-align: right;\">\n",
       "      <th></th>\n",
       "      <th>transaction_date</th>\n",
       "      <th>disclosure_date</th>\n",
       "      <th>politician</th>\n",
       "      <th>owner</th>\n",
       "      <th>ticker</th>\n",
       "      <th>amount</th>\n",
       "      <th>asset_description</th>\n",
       "      <th>asset_type</th>\n",
       "      <th>transaction_type</th>\n",
       "      <th>comment</th>\n",
       "      <th>...</th>\n",
       "      <th>cap_gains</th>\n",
       "      <th>amount_low</th>\n",
       "      <th>amount_high</th>\n",
       "      <th>ticker2</th>\n",
       "      <th>name</th>\n",
       "      <th>sector</th>\n",
       "      <th>industry</th>\n",
       "      <th>longbusinesssummary</th>\n",
       "      <th>website</th>\n",
       "      <th>stock_description</th>\n",
       "    </tr>\n",
       "  </thead>\n",
       "  <tbody>\n",
       "    <tr>\n",
       "      <th>0</th>\n",
       "      <td>02/24/2022</td>\n",
       "      <td>03/11/2022</td>\n",
       "      <td>Shelley M Capito</td>\n",
       "      <td>Spouse</td>\n",
       "      <td>NEE</td>\n",
       "      <td>1001 - 15000</td>\n",
       "      <td>NextEra Energy, Inc. Common Stock</td>\n",
       "      <td>Stock</td>\n",
       "      <td>Sale (Partial)</td>\n",
       "      <td>--</td>\n",
       "      <td>...</td>\n",
       "      <td>NaN</td>\n",
       "      <td>1001</td>\n",
       "      <td>15000.0</td>\n",
       "      <td>NEE</td>\n",
       "      <td>NextEra Energy, Inc.</td>\n",
       "      <td>Utilities</td>\n",
       "      <td>Utilities—Regulated Electric</td>\n",
       "      <td>NextEra Energy, Inc., through its subsidiaries...</td>\n",
       "      <td>https://www.nexteraenergy.com</td>\n",
       "      <td>Utilities, Utilities—Regulated Electric, NextE...</td>\n",
       "    </tr>\n",
       "  </tbody>\n",
       "</table>\n",
       "<p>1 rows × 22 columns</p>\n",
       "</div>"
      ],
      "text/plain": [
       "  transaction_date disclosure_date        politician   owner ticker  \\\n",
       "0       02/24/2022      03/11/2022  Shelley M Capito  Spouse    NEE   \n",
       "\n",
       "         amount                  asset_description asset_type  \\\n",
       "0  1001 - 15000  NextEra Energy, Inc. Common Stock      Stock   \n",
       "\n",
       "  transaction_type comment  ... cap_gains amount_low amount_high ticker2  \\\n",
       "0   Sale (Partial)      --  ...       NaN       1001     15000.0     NEE   \n",
       "\n",
       "                   name     sector                      industry  \\\n",
       "0  NextEra Energy, Inc.  Utilities  Utilities—Regulated Electric   \n",
       "\n",
       "                                 longbusinesssummary  \\\n",
       "0  NextEra Energy, Inc., through its subsidiaries...   \n",
       "\n",
       "                         website  \\\n",
       "0  https://www.nexteraenergy.com   \n",
       "\n",
       "                                   stock_description  \n",
       "0  Utilities, Utilities—Regulated Electric, NextE...  \n",
       "\n",
       "[1 rows x 22 columns]"
      ]
     },
     "execution_count": 196,
     "metadata": {},
     "output_type": "execute_result"
    }
   ],
   "source": [
    "df_trades.head(1)"
   ]
  },
  {
   "cell_type": "code",
   "execution_count": 197,
   "id": "6eddadf9",
   "metadata": {},
   "outputs": [],
   "source": [
    "df_trades['sector_industry'] = df_trades['sector'] + ' ' + df_trades['industry']"
   ]
  },
  {
   "cell_type": "code",
   "execution_count": 198,
   "id": "1a5078d7",
   "metadata": {},
   "outputs": [
    {
     "data": {
      "text/html": [
       "<div>\n",
       "<style scoped>\n",
       "    .dataframe tbody tr th:only-of-type {\n",
       "        vertical-align: middle;\n",
       "    }\n",
       "\n",
       "    .dataframe tbody tr th {\n",
       "        vertical-align: top;\n",
       "    }\n",
       "\n",
       "    .dataframe thead th {\n",
       "        text-align: right;\n",
       "    }\n",
       "</style>\n",
       "<table border=\"1\" class=\"dataframe\">\n",
       "  <thead>\n",
       "    <tr style=\"text-align: right;\">\n",
       "      <th></th>\n",
       "      <th>transaction_date</th>\n",
       "      <th>disclosure_date</th>\n",
       "      <th>politician</th>\n",
       "      <th>owner</th>\n",
       "      <th>ticker</th>\n",
       "      <th>amount</th>\n",
       "      <th>asset_description</th>\n",
       "      <th>asset_type</th>\n",
       "      <th>transaction_type</th>\n",
       "      <th>comment</th>\n",
       "      <th>...</th>\n",
       "      <th>amount_low</th>\n",
       "      <th>amount_high</th>\n",
       "      <th>ticker2</th>\n",
       "      <th>name</th>\n",
       "      <th>sector</th>\n",
       "      <th>industry</th>\n",
       "      <th>longbusinesssummary</th>\n",
       "      <th>website</th>\n",
       "      <th>stock_description</th>\n",
       "      <th>sector_industry</th>\n",
       "    </tr>\n",
       "  </thead>\n",
       "  <tbody>\n",
       "    <tr>\n",
       "      <th>0</th>\n",
       "      <td>02/24/2022</td>\n",
       "      <td>03/11/2022</td>\n",
       "      <td>Shelley M Capito</td>\n",
       "      <td>Spouse</td>\n",
       "      <td>NEE</td>\n",
       "      <td>1001 - 15000</td>\n",
       "      <td>NextEra Energy, Inc. Common Stock</td>\n",
       "      <td>Stock</td>\n",
       "      <td>Sale (Partial)</td>\n",
       "      <td>--</td>\n",
       "      <td>...</td>\n",
       "      <td>1001</td>\n",
       "      <td>15000.0</td>\n",
       "      <td>NEE</td>\n",
       "      <td>NextEra Energy, Inc.</td>\n",
       "      <td>Utilities</td>\n",
       "      <td>Utilities—Regulated Electric</td>\n",
       "      <td>NextEra Energy, Inc., through its subsidiaries...</td>\n",
       "      <td>https://www.nexteraenergy.com</td>\n",
       "      <td>Utilities, Utilities—Regulated Electric, NextE...</td>\n",
       "      <td>Utilities Utilities—Regulated Electric</td>\n",
       "    </tr>\n",
       "  </tbody>\n",
       "</table>\n",
       "<p>1 rows × 23 columns</p>\n",
       "</div>"
      ],
      "text/plain": [
       "  transaction_date disclosure_date        politician   owner ticker  \\\n",
       "0       02/24/2022      03/11/2022  Shelley M Capito  Spouse    NEE   \n",
       "\n",
       "         amount                  asset_description asset_type  \\\n",
       "0  1001 - 15000  NextEra Energy, Inc. Common Stock      Stock   \n",
       "\n",
       "  transaction_type comment  ... amount_low amount_high ticker2  \\\n",
       "0   Sale (Partial)      --  ...       1001     15000.0     NEE   \n",
       "\n",
       "                   name     sector                      industry  \\\n",
       "0  NextEra Energy, Inc.  Utilities  Utilities—Regulated Electric   \n",
       "\n",
       "                                 longbusinesssummary  \\\n",
       "0  NextEra Energy, Inc., through its subsidiaries...   \n",
       "\n",
       "                         website  \\\n",
       "0  https://www.nexteraenergy.com   \n",
       "\n",
       "                                   stock_description  \\\n",
       "0  Utilities, Utilities—Regulated Electric, NextE...   \n",
       "\n",
       "                          sector_industry  \n",
       "0  Utilities Utilities—Regulated Electric  \n",
       "\n",
       "[1 rows x 23 columns]"
      ]
     },
     "execution_count": 198,
     "metadata": {},
     "output_type": "execute_result"
    }
   ],
   "source": [
    "df_trades.head(1)"
   ]
  },
  {
   "cell_type": "code",
   "execution_count": 262,
   "id": "0dcaa6b6",
   "metadata": {},
   "outputs": [],
   "source": [
    "# df_trades.columns"
   ]
  },
  {
   "cell_type": "markdown",
   "id": "a9d8d403",
   "metadata": {},
   "source": [
    "Read in Congress Committee Descriptions Extracted from Committee.gov sites (with a few exceptions)"
   ]
  },
  {
   "cell_type": "code",
   "execution_count": 199,
   "id": "77e56af9",
   "metadata": {},
   "outputs": [],
   "source": [
    "df_subcomittees = pd.read_csv('..//data//handmade//congress_commitee_descriptions.csv')"
   ]
  },
  {
   "cell_type": "code",
   "execution_count": 200,
   "id": "5994e2d9",
   "metadata": {},
   "outputs": [
    {
     "data": {
      "text/html": [
       "<div>\n",
       "<style scoped>\n",
       "    .dataframe tbody tr th:only-of-type {\n",
       "        vertical-align: middle;\n",
       "    }\n",
       "\n",
       "    .dataframe tbody tr th {\n",
       "        vertical-align: top;\n",
       "    }\n",
       "\n",
       "    .dataframe thead th {\n",
       "        text-align: right;\n",
       "    }\n",
       "</style>\n",
       "<table border=\"1\" class=\"dataframe\">\n",
       "  <thead>\n",
       "    <tr style=\"text-align: right;\">\n",
       "      <th></th>\n",
       "      <th>committee</th>\n",
       "      <th>committee_fullname</th>\n",
       "      <th>committee_description</th>\n",
       "      <th>website</th>\n",
       "    </tr>\n",
       "  </thead>\n",
       "  <tbody>\n",
       "    <tr>\n",
       "      <th>0</th>\n",
       "      <td>SSFR09</td>\n",
       "      <td>Africa and Global Health Policy</td>\n",
       "      <td>The subcommittee deals with all matters concer...</td>\n",
       "      <td>https://www.foreign.senate.gov/download/2021-1...</td>\n",
       "    </tr>\n",
       "  </tbody>\n",
       "</table>\n",
       "</div>"
      ],
      "text/plain": [
       "  committee               committee_fullname  \\\n",
       "0    SSFR09  Africa and Global Health Policy   \n",
       "\n",
       "                               committee_description  \\\n",
       "0  The subcommittee deals with all matters concer...   \n",
       "\n",
       "                                             website  \n",
       "0  https://www.foreign.senate.gov/download/2021-1...  "
      ]
     },
     "execution_count": 200,
     "metadata": {},
     "output_type": "execute_result"
    }
   ],
   "source": [
    "df_subcomittees.head(1)"
   ]
  },
  {
   "cell_type": "code",
   "execution_count": 201,
   "id": "6c9c7321",
   "metadata": {},
   "outputs": [],
   "source": [
    "df_subcomittees['committee_description2'] = df_subcomittees['committee_fullname'] + ' ' + df_subcomittees['committee_description']"
   ]
  },
  {
   "cell_type": "code",
   "execution_count": 263,
   "id": "5f3f1f22",
   "metadata": {},
   "outputs": [
    {
     "data": {
      "text/plain": [
       "Index(['committee', 'committee_fullname', 'committee_description', 'website',\n",
       "       'committee_description2', 'committee_description3'],\n",
       "      dtype='object')"
      ]
     },
     "execution_count": 263,
     "metadata": {},
     "output_type": "execute_result"
    }
   ],
   "source": [
    "df_subcomittees.columns"
   ]
  },
  {
   "cell_type": "code",
   "execution_count": 202,
   "id": "d5259a38",
   "metadata": {},
   "outputs": [
    {
     "data": {
      "text/html": [
       "<div>\n",
       "<style scoped>\n",
       "    .dataframe tbody tr th:only-of-type {\n",
       "        vertical-align: middle;\n",
       "    }\n",
       "\n",
       "    .dataframe tbody tr th {\n",
       "        vertical-align: top;\n",
       "    }\n",
       "\n",
       "    .dataframe thead th {\n",
       "        text-align: right;\n",
       "    }\n",
       "</style>\n",
       "<table border=\"1\" class=\"dataframe\">\n",
       "  <thead>\n",
       "    <tr style=\"text-align: right;\">\n",
       "      <th></th>\n",
       "      <th>committee</th>\n",
       "      <th>committee_fullname</th>\n",
       "      <th>committee_description</th>\n",
       "      <th>website</th>\n",
       "      <th>committee_description2</th>\n",
       "    </tr>\n",
       "  </thead>\n",
       "  <tbody>\n",
       "    <tr>\n",
       "      <th>0</th>\n",
       "      <td>SSFR09</td>\n",
       "      <td>Africa and Global Health Policy</td>\n",
       "      <td>The subcommittee deals with all matters concer...</td>\n",
       "      <td>https://www.foreign.senate.gov/download/2021-1...</td>\n",
       "      <td>Africa and Global Health Policy The subcommitt...</td>\n",
       "    </tr>\n",
       "  </tbody>\n",
       "</table>\n",
       "</div>"
      ],
      "text/plain": [
       "  committee               committee_fullname  \\\n",
       "0    SSFR09  Africa and Global Health Policy   \n",
       "\n",
       "                               committee_description  \\\n",
       "0  The subcommittee deals with all matters concer...   \n",
       "\n",
       "                                             website  \\\n",
       "0  https://www.foreign.senate.gov/download/2021-1...   \n",
       "\n",
       "                              committee_description2  \n",
       "0  Africa and Global Health Policy The subcommitt...  "
      ]
     },
     "execution_count": 202,
     "metadata": {},
     "output_type": "execute_result"
    }
   ],
   "source": [
    "df_subcomittees.head(1)"
   ]
  },
  {
   "cell_type": "code",
   "execution_count": 203,
   "id": "5def3059",
   "metadata": {},
   "outputs": [],
   "source": [
    "df_committee_members = pd.read_csv(\"..//data//processed//congress_committees.csv\", encoding=\"utf-8\")"
   ]
  },
  {
   "cell_type": "code",
   "execution_count": 204,
   "id": "400b0364",
   "metadata": {},
   "outputs": [
    {
     "data": {
      "text/html": [
       "<div>\n",
       "<style scoped>\n",
       "    .dataframe tbody tr th:only-of-type {\n",
       "        vertical-align: middle;\n",
       "    }\n",
       "\n",
       "    .dataframe tbody tr th {\n",
       "        vertical-align: top;\n",
       "    }\n",
       "\n",
       "    .dataframe thead th {\n",
       "        text-align: right;\n",
       "    }\n",
       "</style>\n",
       "<table border=\"1\" class=\"dataframe\">\n",
       "  <thead>\n",
       "    <tr style=\"text-align: right;\">\n",
       "      <th></th>\n",
       "      <th>committee</th>\n",
       "      <th>name</th>\n",
       "      <th>party</th>\n",
       "      <th>rank</th>\n",
       "      <th>bioguide</th>\n",
       "    </tr>\n",
       "  </thead>\n",
       "  <tbody>\n",
       "    <tr>\n",
       "      <th>0</th>\n",
       "      <td>SSAF</td>\n",
       "      <td>Debbie Stabenow</td>\n",
       "      <td>majority</td>\n",
       "      <td>1</td>\n",
       "      <td>S000770</td>\n",
       "    </tr>\n",
       "    <tr>\n",
       "      <th>1</th>\n",
       "      <td>SSAF</td>\n",
       "      <td>Patrick J. Leahy</td>\n",
       "      <td>majority</td>\n",
       "      <td>2</td>\n",
       "      <td>L000174</td>\n",
       "    </tr>\n",
       "  </tbody>\n",
       "</table>\n",
       "</div>"
      ],
      "text/plain": [
       "  committee              name     party  rank bioguide\n",
       "0      SSAF   Debbie Stabenow  majority     1  S000770\n",
       "1      SSAF  Patrick J. Leahy  majority     2  L000174"
      ]
     },
     "execution_count": 204,
     "metadata": {},
     "output_type": "execute_result"
    }
   ],
   "source": [
    "df_committee_members.head(2)"
   ]
  },
  {
   "cell_type": "code",
   "execution_count": 279,
   "id": "97be20b5",
   "metadata": {},
   "outputs": [
    {
     "data": {
      "text/plain": [
       "Index(['committee', 'name', 'party', 'rank', 'bioguide'], dtype='object')"
      ]
     },
     "execution_count": 279,
     "metadata": {},
     "output_type": "execute_result"
    }
   ],
   "source": [
    "df_committee_members.columns"
   ]
  },
  {
   "cell_type": "markdown",
   "id": "fa0ba05c",
   "metadata": {},
   "source": [
    "-----"
   ]
  },
  {
   "cell_type": "markdown",
   "id": "a1691036",
   "metadata": {},
   "source": [
    "### Cleaning the Stock Description Columns"
   ]
  },
  {
   "cell_type": "code",
   "execution_count": 205,
   "id": "127280c1",
   "metadata": {},
   "outputs": [],
   "source": [
    "df_trades['stock_description2'] = df_trades.stock_description\n",
    "# df.head(1)"
   ]
  },
  {
   "cell_type": "code",
   "execution_count": 206,
   "id": "b923c5d4",
   "metadata": {},
   "outputs": [],
   "source": [
    "df_trades.stock_description2 = df_trades.stock_description2.astype(str).str.lower()"
   ]
  },
  {
   "cell_type": "code",
   "execution_count": 207,
   "id": "b6262756",
   "metadata": {},
   "outputs": [
    {
     "data": {
      "text/plain": [
       "0    utilities, utilities—regulated electric, nexte...\n",
       "Name: stock_description2, dtype: object"
      ]
     },
     "execution_count": 207,
     "metadata": {},
     "output_type": "execute_result"
    }
   ],
   "source": [
    "df_trades.stock_description2.head(1)"
   ]
  },
  {
   "cell_type": "code",
   "execution_count": 208,
   "id": "992cd8f9",
   "metadata": {},
   "outputs": [],
   "source": [
    "df_trades.sector_industry = df_trades.sector_industry.astype(str).str.lower()"
   ]
  },
  {
   "cell_type": "code",
   "execution_count": 209,
   "id": "ed8651f6",
   "metadata": {},
   "outputs": [
    {
     "data": {
      "text/plain": [
       "0    utilities utilities—regulated electric\n",
       "Name: sector_industry, dtype: object"
      ]
     },
     "execution_count": 209,
     "metadata": {},
     "output_type": "execute_result"
    }
   ],
   "source": [
    "df_trades.sector_industry.head(1)"
   ]
  },
  {
   "cell_type": "code",
   "execution_count": null,
   "id": "dc880eae",
   "metadata": {},
   "outputs": [],
   "source": []
  },
  {
   "cell_type": "code",
   "execution_count": null,
   "id": "78de2929",
   "metadata": {},
   "outputs": [],
   "source": []
  },
  {
   "cell_type": "markdown",
   "id": "175aef69",
   "metadata": {},
   "source": [
    "Data Notes:\n",
    "\n",
    "1. combine committee fullname with committee description in new column\n",
    "2. remove duplicate words in each description\n",
    "3. (agriculture vs. agricultural)\n",
    "5. remove numbers and words, punctuation \n",
    "\n",
    "* a \n",
    "* includes\n",
    "* deals \n",
    "* shall\n",
    "* jurisdiction\n",
    "* policy \n",
    "* member\n",
    "* ranking\n",
    "* "
   ]
  },
  {
   "cell_type": "markdown",
   "id": "70cb15f6",
   "metadata": {},
   "source": [
    "\n",
    "\n",
    "\n"
   ]
  },
  {
   "cell_type": "markdown",
   "id": "c748220f",
   "metadata": {},
   "source": [
    "-----"
   ]
  },
  {
   "cell_type": "markdown",
   "id": "4b9012de",
   "metadata": {},
   "source": [
    "##### Removing Punctuation from description"
   ]
  },
  {
   "cell_type": "code",
   "execution_count": 210,
   "id": "6dd03b5e",
   "metadata": {},
   "outputs": [
    {
     "data": {
      "text/plain": [
       "'!\"#$%&\\'()*+,-./:;<=>?@[\\\\]^_`{|}~'"
      ]
     },
     "execution_count": 210,
     "metadata": {},
     "output_type": "execute_result"
    }
   ],
   "source": [
    "string.punctuation"
   ]
  },
  {
   "cell_type": "code",
   "execution_count": 211,
   "id": "e900e548",
   "metadata": {},
   "outputs": [
    {
     "name": "stderr",
     "output_type": "stream",
     "text": [
      "/var/folders/c2/zngcssg14mv23nw0yr96s0wm0000gn/T/ipykernel_24244/2352222144.py:1: FutureWarning: The default value of regex will change from True to False in a future version.\n",
      "  df_trades.stock_description2 = df_trades.stock_description2.str.replace('[{}]'.format(string.punctuation), '')\n"
     ]
    }
   ],
   "source": [
    "df_trades.stock_description2 = df_trades.stock_description2.str.replace('[{}]'.format(string.punctuation), '')"
   ]
  },
  {
   "cell_type": "code",
   "execution_count": 212,
   "id": "154233b5",
   "metadata": {},
   "outputs": [
    {
     "data": {
      "text/plain": [
       "0    utilities utilities—regulated electric nextera...\n",
       "Name: stock_description2, dtype: object"
      ]
     },
     "execution_count": 212,
     "metadata": {},
     "output_type": "execute_result"
    }
   ],
   "source": [
    "df_trades.stock_description2.head(1)"
   ]
  },
  {
   "cell_type": "code",
   "execution_count": 213,
   "id": "6c629e0c",
   "metadata": {},
   "outputs": [],
   "source": [
    "df_trades.stock_description2 = df_trades.stock_description2.replace('—', ' ')"
   ]
  },
  {
   "cell_type": "code",
   "execution_count": 214,
   "id": "c11dd455",
   "metadata": {},
   "outputs": [
    {
     "data": {
      "text/plain": [
       "0    utilities utilities—regulated electric nextera...\n",
       "Name: stock_description2, dtype: object"
      ]
     },
     "execution_count": 214,
     "metadata": {},
     "output_type": "execute_result"
    }
   ],
   "source": [
    "df_trades.stock_description2.head(1)"
   ]
  },
  {
   "cell_type": "code",
   "execution_count": 215,
   "id": "76e8efa6",
   "metadata": {},
   "outputs": [
    {
     "name": "stderr",
     "output_type": "stream",
     "text": [
      "/var/folders/c2/zngcssg14mv23nw0yr96s0wm0000gn/T/ipykernel_24244/16752936.py:1: FutureWarning: The default value of regex will change from True to False in a future version.\n",
      "  df_trades.sector_industry = df_trades.sector_industry.str.replace('[{}]'.format(string.punctuation), '')\n"
     ]
    }
   ],
   "source": [
    "df_trades.sector_industry = df_trades.sector_industry.str.replace('[{}]'.format(string.punctuation), '')"
   ]
  },
  {
   "cell_type": "code",
   "execution_count": 216,
   "id": "138452df",
   "metadata": {
    "scrolled": true
   },
   "outputs": [
    {
     "data": {
      "text/plain": [
       "0    utilities utilities—regulated electric\n",
       "Name: sector_industry, dtype: object"
      ]
     },
     "execution_count": 216,
     "metadata": {},
     "output_type": "execute_result"
    }
   ],
   "source": [
    "df_trades.sector_industry.head(1)"
   ]
  },
  {
   "cell_type": "markdown",
   "id": "7b1772ad",
   "metadata": {},
   "source": [
    "##### Removing \"Stop Words\""
   ]
  },
  {
   "cell_type": "code",
   "execution_count": 217,
   "id": "47ece7b0",
   "metadata": {},
   "outputs": [
    {
     "name": "stdout",
     "output_type": "stream",
     "text": [
      "{'hers', 'against', 'as', 'until', 'mightn', 'my', \"wasn't\", \"hadn't\", 'on', 'm', 'wouldn', 'to', 'been', 'where', 'can', 'through', 'didn', 'what', 'and', 'which', \"shouldn't\", 's', 'yours', 'me', 'just', 'has', 'up', \"you'd\", \"don't\", 'than', 'same', 'your', 'before', 'nor', 'with', \"that'll\", \"should've\", 'out', 'don', 'herself', 'isn', 'then', \"doesn't\", 'above', 'so', 'its', 'is', 'd', 'myself', 'haven', 'who', 'below', 'whom', 'aren', 'between', 've', 'during', \"needn't\", 'ma', 'them', 'ourselves', \"you're\", 'had', 'do', 'were', 'our', \"isn't\", 'into', 'mustn', 'shouldn', 'from', 'only', 'by', 'each', 'further', \"didn't\", \"wouldn't\", 'him', 'there', 'too', 'his', 'having', 'have', 'no', \"couldn't\", 'hadn', 'he', 'shan', 'couldn', 'does', 'once', \"you've\", 'after', 'needn', 'own', \"it's\", 'ours', 'or', 'such', 'how', 'a', 'they', 'themselves', 'about', 'this', 'will', 'all', \"you'll\", 'very', 'when', 'should', 'these', 'but', \"weren't\", 'down', \"aren't\", 'an', 'itself', 'over', 'was', 'be', 'weren', \"mightn't\", 'am', 'yourselves', 'theirs', 'those', 'of', 'are', 'if', 'not', 'doing', 'wasn', 'any', 'that', 'off', 'most', 'hasn', 'more', \"won't\", 'why', 'some', 'being', 'o', 'himself', 'y', 'while', 'won', \"shan't\", 'll', 'i', 'did', 'their', 'because', 'we', \"she's\", \"haven't\", 't', 'ain', 'under', 'other', 'her', 'it', 'doesn', 'few', 'yourself', 'again', 'she', 'at', 'here', 'in', \"hasn't\", 'both', 'the', 'for', 'now', \"mustn't\", 're', 'you'}\n"
     ]
    }
   ],
   "source": [
    "stops = set(stopwords.words('english'))\n",
    "print(stops)"
   ]
  },
  {
   "cell_type": "code",
   "execution_count": 218,
   "id": "540dfdd6",
   "metadata": {},
   "outputs": [],
   "source": [
    "df_trades['stock_description3'] = df_trades.stock_description2.apply(lambda x: ' '.join([word for word in x.split() if word not in (stops)]))"
   ]
  },
  {
   "cell_type": "code",
   "execution_count": 219,
   "id": "0009b336",
   "metadata": {},
   "outputs": [
    {
     "data": {
      "text/plain": [
       "0    utilities utilities—regulated electric nextera...\n",
       "Name: stock_description3, dtype: object"
      ]
     },
     "execution_count": 219,
     "metadata": {},
     "output_type": "execute_result"
    }
   ],
   "source": [
    "df_trades.stock_description3.head(1)"
   ]
  },
  {
   "cell_type": "code",
   "execution_count": 220,
   "id": "246f39d5",
   "metadata": {},
   "outputs": [],
   "source": [
    "# df.head(2)"
   ]
  },
  {
   "cell_type": "markdown",
   "id": "1af6c299",
   "metadata": {},
   "source": [
    "##### Removing numbers/digits from descriptions"
   ]
  },
  {
   "cell_type": "code",
   "execution_count": 221,
   "id": "730c6a4e",
   "metadata": {},
   "outputs": [
    {
     "name": "stderr",
     "output_type": "stream",
     "text": [
      "/var/folders/c2/zngcssg14mv23nw0yr96s0wm0000gn/T/ipykernel_24244/3682478094.py:1: FutureWarning: The default value of regex will change from True to False in a future version.\n",
      "  df_trades.stock_description3 = df_trades.stock_description3.str.replace('\\d+', '')\n"
     ]
    }
   ],
   "source": [
    "df_trades.stock_description3 = df_trades.stock_description3.str.replace('\\d+', '')"
   ]
  },
  {
   "cell_type": "code",
   "execution_count": 222,
   "id": "bb46dfab",
   "metadata": {
    "scrolled": true
   },
   "outputs": [
    {
     "data": {
      "text/plain": [
       "0    utilities utilities—regulated electric nextera...\n",
       "Name: stock_description3, dtype: object"
      ]
     },
     "execution_count": 222,
     "metadata": {},
     "output_type": "execute_result"
    }
   ],
   "source": [
    "df_trades.stock_description3.head(1)"
   ]
  },
  {
   "cell_type": "code",
   "execution_count": 223,
   "id": "47bc20c2",
   "metadata": {},
   "outputs": [],
   "source": [
    "# df_trades"
   ]
  },
  {
   "cell_type": "code",
   "execution_count": null,
   "id": "641c634c",
   "metadata": {},
   "outputs": [],
   "source": []
  },
  {
   "cell_type": "code",
   "execution_count": null,
   "id": "ade8e1d6",
   "metadata": {},
   "outputs": [],
   "source": []
  },
  {
   "cell_type": "code",
   "execution_count": 224,
   "id": "5c184437",
   "metadata": {},
   "outputs": [],
   "source": [
    "# stops2 = stopwords.words('english')\n",
    "# print(stops2)"
   ]
  },
  {
   "cell_type": "code",
   "execution_count": 225,
   "id": "091eb9c0",
   "metadata": {},
   "outputs": [],
   "source": [
    "# stops2 = stopwords.words('english')"
   ]
  },
  {
   "cell_type": "code",
   "execution_count": 226,
   "id": "43a9e75a",
   "metadata": {},
   "outputs": [],
   "source": [
    "# Consider the word: Antinationalist, Morpheme\n",
    "# https://www.analyticsvidhya.com/blog/2021/06/part-3-step-by-step-guide-to-nlp-text-cleaning-and-preprocessing/"
   ]
  },
  {
   "cell_type": "code",
   "execution_count": null,
   "id": "380de8c7",
   "metadata": {},
   "outputs": [],
   "source": []
  },
  {
   "cell_type": "code",
   "execution_count": null,
   "id": "9864706c",
   "metadata": {},
   "outputs": [],
   "source": []
  },
  {
   "cell_type": "markdown",
   "id": "947c9e2e",
   "metadata": {},
   "source": [
    "Save a Copy"
   ]
  },
  {
   "cell_type": "code",
   "execution_count": 227,
   "id": "6051e9f1",
   "metadata": {},
   "outputs": [],
   "source": [
    "# df_trades.to_csv('..//data//processed//stock_watchers_w_yfinance_edited_03_13_2022.csv', index = False)"
   ]
  },
  {
   "cell_type": "markdown",
   "id": "b6993ae1",
   "metadata": {},
   "source": [
    "----"
   ]
  },
  {
   "cell_type": "markdown",
   "id": "31bdcbd1",
   "metadata": {},
   "source": [
    "### Cleaning the Committee Description Column"
   ]
  },
  {
   "cell_type": "code",
   "execution_count": 228,
   "id": "424aa3f5",
   "metadata": {},
   "outputs": [],
   "source": [
    "df_subcomittees.committee_description2 = df_subcomittees.committee_description2.astype(str).str.lower()"
   ]
  },
  {
   "cell_type": "code",
   "execution_count": 229,
   "id": "fae575f7",
   "metadata": {},
   "outputs": [
    {
     "data": {
      "text/plain": [
       "0    africa and global health policy the subcommitt...\n",
       "Name: committee_description2, dtype: object"
      ]
     },
     "execution_count": 229,
     "metadata": {},
     "output_type": "execute_result"
    }
   ],
   "source": [
    "df_subcomittees.committee_description2.head(1)"
   ]
  },
  {
   "cell_type": "markdown",
   "id": "b2bd4096",
   "metadata": {},
   "source": [
    "##### Removing Punctuation from description"
   ]
  },
  {
   "cell_type": "code",
   "execution_count": 230,
   "id": "3e180348",
   "metadata": {},
   "outputs": [
    {
     "name": "stderr",
     "output_type": "stream",
     "text": [
      "/var/folders/c2/zngcssg14mv23nw0yr96s0wm0000gn/T/ipykernel_24244/2733234590.py:1: FutureWarning: The default value of regex will change from True to False in a future version.\n",
      "  df_subcomittees.committee_description2 = df_subcomittees.committee_description2.str.replace('[{}]'.format(string.punctuation), '')\n"
     ]
    }
   ],
   "source": [
    "df_subcomittees.committee_description2 = df_subcomittees.committee_description2.str.replace('[{}]'.format(string.punctuation), '')"
   ]
  },
  {
   "cell_type": "code",
   "execution_count": 231,
   "id": "5e721377",
   "metadata": {},
   "outputs": [
    {
     "data": {
      "text/plain": [
       "0    africa and global health policy the subcommitt...\n",
       "1    africa global health and global human rights t...\n",
       "Name: committee_description2, dtype: object"
      ]
     },
     "execution_count": 231,
     "metadata": {},
     "output_type": "execute_result"
    }
   ],
   "source": [
    "df_subcomittees.committee_description2.head(2)"
   ]
  },
  {
   "cell_type": "markdown",
   "id": "c126b4a0",
   "metadata": {},
   "source": [
    "##### Removing \"Stop Words\""
   ]
  },
  {
   "cell_type": "code",
   "execution_count": 232,
   "id": "a17fd19e",
   "metadata": {},
   "outputs": [],
   "source": [
    "df_subcomittees['committee_description3'] = df_subcomittees.committee_description2.apply(lambda x: ' '.join([word for word in x.split() if word not in (stops)]))"
   ]
  },
  {
   "cell_type": "code",
   "execution_count": 233,
   "id": "1f929591",
   "metadata": {},
   "outputs": [
    {
     "data": {
      "text/plain": [
       "0    africa global health policy subcommittee deals...\n",
       "Name: committee_description3, dtype: object"
      ]
     },
     "execution_count": 233,
     "metadata": {},
     "output_type": "execute_result"
    }
   ],
   "source": [
    "df_subcomittees.committee_description3.head(1)"
   ]
  },
  {
   "cell_type": "code",
   "execution_count": 234,
   "id": "829ef75f",
   "metadata": {},
   "outputs": [],
   "source": [
    "# df.stock_description2"
   ]
  },
  {
   "cell_type": "markdown",
   "id": "888076af",
   "metadata": {},
   "source": [
    "##### Removing numbers/digits from descriptions"
   ]
  },
  {
   "cell_type": "code",
   "execution_count": 235,
   "id": "3555d8f3",
   "metadata": {},
   "outputs": [
    {
     "name": "stderr",
     "output_type": "stream",
     "text": [
      "/var/folders/c2/zngcssg14mv23nw0yr96s0wm0000gn/T/ipykernel_24244/23686742.py:1: FutureWarning: The default value of regex will change from True to False in a future version.\n",
      "  df_subcomittees.committee_description3 = df_subcomittees.committee_description3.str.replace('\\d+', '')\n"
     ]
    }
   ],
   "source": [
    "df_subcomittees.committee_description3 = df_subcomittees.committee_description3.str.replace('\\d+', '')"
   ]
  },
  {
   "cell_type": "code",
   "execution_count": 236,
   "id": "c71eba61",
   "metadata": {
    "scrolled": true
   },
   "outputs": [
    {
     "data": {
      "text/plain": [
       "0    africa global health policy subcommittee deals...\n",
       "Name: committee_description3, dtype: object"
      ]
     },
     "execution_count": 236,
     "metadata": {},
     "output_type": "execute_result"
    }
   ],
   "source": [
    "df_subcomittees.committee_description3.head(1)"
   ]
  },
  {
   "cell_type": "code",
   "execution_count": 237,
   "id": "dd532aa6",
   "metadata": {},
   "outputs": [],
   "source": [
    "# df_subcomittees.head(1)"
   ]
  },
  {
   "cell_type": "markdown",
   "id": "5490a821",
   "metadata": {},
   "source": [
    "##### Step 3"
   ]
  },
  {
   "cell_type": "code",
   "execution_count": 238,
   "id": "f7154be4",
   "metadata": {},
   "outputs": [],
   "source": [
    "stops = set(stopwords.words('english'))\n",
    "# print(stops)"
   ]
  },
  {
   "cell_type": "code",
   "execution_count": 239,
   "id": "30e9d858",
   "metadata": {},
   "outputs": [],
   "source": [
    "# pat = r'\\b(?:{})\\b'.format('|'.join(stop))\n",
    "# test['tweet_without_stopwords'] = test['tweet'].str.replace(pat, '')\n",
    "# test['tweet_without_stopwords'] = test['tweet_without_stopwords'].str.replace(r'\\s+', ' ')\n",
    "# # Same results.\n",
    "# # 0              I love car\n",
    "# # 1       This view amazing\n",
    "# # 2    I feel great morning\n",
    "# # 3       I excited concert\n",
    "# # 4          He best friend"
   ]
  },
  {
   "cell_type": "markdown",
   "id": "718023cc",
   "metadata": {},
   "source": [
    "Save a copy"
   ]
  },
  {
   "cell_type": "code",
   "execution_count": 240,
   "id": "f17fa75c",
   "metadata": {},
   "outputs": [],
   "source": [
    "# df_subcomittees.to_csv('..//data//handmade//congress_commitee_descriptions_edited_03_13_22.csv', index = False)"
   ]
  },
  {
   "cell_type": "markdown",
   "id": "8c4ccbcc",
   "metadata": {},
   "source": [
    "-----"
   ]
  },
  {
   "cell_type": "markdown",
   "id": "20ec4e2c",
   "metadata": {},
   "source": [
    "### Merging with algorithm on stock and committee descriptions"
   ]
  },
  {
   "cell_type": "code",
   "execution_count": 241,
   "id": "754d608d",
   "metadata": {},
   "outputs": [],
   "source": [
    "# merged = empty_df\n",
    "# for trade in df_trades:\n",
    "#     for each comittee in df_comitee:\n",
    "#       # match ticker descp to comittee descp OR ANY OTHER ALGORITHM\n",
    "#         flt_s_score = similar(ticker_desc, comittee_desc)\n",
    "#         if flt_s_score > 0.6:\n",
    "#             add this trade + comite descp to merged\n",
    "# drop the rows where member comittee != ticker_comitee\n",
    "# do analysis (edited) "
   ]
  },
  {
   "cell_type": "code",
   "execution_count": 242,
   "id": "2c48b40b",
   "metadata": {},
   "outputs": [],
   "source": [
    "# relevant columns\n",
    "\n",
    "# df.stock_description3\n",
    "# df_subcomittees.committee_description3"
   ]
  },
  {
   "cell_type": "code",
   "execution_count": 243,
   "id": "e12dab73",
   "metadata": {},
   "outputs": [],
   "source": [
    "#define the algorithm being used\n",
    "def similar(a,b):\n",
    "    return fuzz.partial_ratio(a, b)"
   ]
  },
  {
   "cell_type": "code",
   "execution_count": 244,
   "id": "c1fe2a27",
   "metadata": {},
   "outputs": [
    {
     "data": {
      "text/plain": [
       "91"
      ]
     },
     "execution_count": 244,
     "metadata": {},
     "output_type": "execute_result"
    }
   ],
   "source": [
    "# checking that similar works\n",
    "similar(\"fuzzy wuzzy was a bear\", \"wuzzy fuzzy was a bear\")"
   ]
  },
  {
   "cell_type": "code",
   "execution_count": 245,
   "id": "19870ebf",
   "metadata": {},
   "outputs": [],
   "source": [
    "# for column in df_trades[0:5]:\n",
    "#     print(df_trades[column].values)"
   ]
  },
  {
   "cell_type": "code",
   "execution_count": 246,
   "id": "ab9cc5f7",
   "metadata": {},
   "outputs": [
    {
     "name": "stdout",
     "output_type": "stream",
     "text": [
      "utilities utilities—regulated electric nextera energy inc subsidiaries generates transmits distributes sells electric power retail wholesale customers north america company generates electricity wind solar nuclear fossil fuel coal natural gas facilities also develops constructs operates longterm contracted assets focus renewable generation facilities electric transmission facilities battery storage projects owns develops constructs manages operates electric generation facilities wholesale energy markets december   company operated approximately  megawatts net generating capacity serves approximately  million people approximately  million customer accounts east lower west coasts florida approximately  circuit miles transmission distribution lines  substations company formerly known fpl group inc changed name nextera energy inc  nextera energy inc founded  headquartered juno beach florida\n"
     ]
    }
   ],
   "source": [
    "for trade in df_trades.stock_description3[0:1]:\n",
    "    print(trade)"
   ]
  },
  {
   "cell_type": "code",
   "execution_count": 247,
   "id": "c4dbdffc",
   "metadata": {},
   "outputs": [],
   "source": [
    "# ls_stock_description3 = df_trades.stock_description3.values.tolist()"
   ]
  },
  {
   "cell_type": "code",
   "execution_count": 248,
   "id": "415cbc5c",
   "metadata": {},
   "outputs": [
    {
     "name": "stdout",
     "output_type": "stream",
     "text": [
      "africa global health policy subcommittee deals matters concerning us relations countries africa except like countries north africa specifically covered subcommittees well regional intergovernmental organizations like african union economic community west african states subcommittee’s regional responsibilities include matters within geographic region including matters relating  terrorism nonproliferation  crime illicit narcotics  us foreign assistance programs  promotion us trade exports addition subcommittee global responsibility healthrelated policy including disease outbreak response\n"
     ]
    }
   ],
   "source": [
    "for committee in df_subcomittees.committee_description3[0:1]:\n",
    "    print(committee)"
   ]
  },
  {
   "cell_type": "code",
   "execution_count": 249,
   "id": "eb15c044",
   "metadata": {},
   "outputs": [],
   "source": [
    "# ls_committee_description3 = df_subcomittees.committee_description3.values.tolist()"
   ]
  },
  {
   "cell_type": "code",
   "execution_count": 250,
   "id": "38dee8b8",
   "metadata": {},
   "outputs": [],
   "source": [
    "# next(df_trades.iterrows())"
   ]
  },
  {
   "cell_type": "code",
   "execution_count": 251,
   "id": "89242248",
   "metadata": {},
   "outputs": [],
   "source": [
    "# Jasen Notes\n",
    "\n",
    "# merged = empty_df\n",
    "# for trade in df_trades:\n",
    "#     for each comittee in df_comitee:\n",
    "#       # match ticker descp to comittee descp OR ANY OTHER ALGORITHM\n",
    "#         flt_s_score = similar(ticker_desc, comittee_desc)\n",
    "#         if flt_s_score > 0.6:\n",
    "#             add this trade + comite descp to merged\n",
    "# drop the rows where member comittee != ticker_comitee\n",
    "# do analysis (edited) "
   ]
  },
  {
   "cell_type": "code",
   "execution_count": 252,
   "id": "ceba2103",
   "metadata": {},
   "outputs": [],
   "source": [
    "from itertools import chain"
   ]
  },
  {
   "cell_type": "code",
   "execution_count": 253,
   "id": "b9ac0e09",
   "metadata": {},
   "outputs": [],
   "source": [
    "#working for loop!!\n",
    "\n",
    "#establish an empty list\n",
    "ls_rows = []\n",
    "\n",
    "# iterate through each row (trade) of trades dataframe\n",
    "for index, trade in df_trades[0:2].iterrows():\n",
    "#     print(trade)\n",
    "#     print(index, trade['stock_description3'])\n",
    "#     print('a')\n",
    "    \n",
    "    #Iterate through each committee in committee dataframe for each row of trades dataframe\n",
    "    for index, committee in df_subcomittees[50:60].iterrows():\n",
    "#         print(index, committee['committee_description3'])\n",
    "#         print('b')\n",
    "\n",
    "      # match ticker description to committee description with ALGORITHM (which one TBD)\n",
    "        flt_s_score = similar(trade['stock_description3'], committee['committee_description3'])\n",
    "#         print(flt_s_score)\n",
    "        if flt_s_score > 20:\n",
    "#             print(flt_s_score)\n",
    "            \n",
    "#             # add this trade + commitee description to merged\n",
    "            new_row = list(chain(trade, committee))\n",
    "#             print(new_row)\n",
    "#             print('c')\n",
    "            ls_rows.append(new_row)\n",
    "\n"
   ]
  },
  {
   "cell_type": "code",
   "execution_count": 254,
   "id": "c22341cb",
   "metadata": {},
   "outputs": [
    {
     "data": {
      "text/plain": [
       "[['02/24/2022',\n",
       "  '03/11/2022',\n",
       "  'Shelley M Capito',\n",
       "  'Spouse',\n",
       "  'NEE',\n",
       "  '1001 - 15000',\n",
       "  'NextEra Energy, Inc. Common Stock',\n",
       "  'Stock',\n",
       "  'Sale (Partial)',\n",
       "  '--',\n",
       "  'https://efdsearch.senate.gov/search/view/ptr/e7893c34-0761-4c2b-ac52-e303f166517f/',\n",
       "  nan,\n",
       "  nan,\n",
       "  '1001',\n",
       "  15000.0,\n",
       "  'NEE',\n",
       "  'NextEra Energy, Inc.',\n",
       "  'Utilities',\n",
       "  'Utilities—Regulated Electric',\n",
       "  'NextEra Energy, Inc., through its subsidiaries, generates, transmits, distributes, and sells electric power to retail and wholesale customers in North America. The company generates electricity through wind, solar, nuclear, and fossil fuel, such as coal and natural gas facilities. It also develops, constructs, and operates long-term contracted assets with a focus on renewable generation facilities, electric transmission facilities, and battery storage projects; and owns, develops, constructs, manages and operates electric generation facilities in wholesale energy markets. As of December 31, 2020, the company operated approximately 28,400 megawatts of net generating capacity. It serves approximately 11 million people through approximately 5.6 million customer accounts in the east and lower west coasts of Florida with approximately 76,200 circuit miles of transmission and distribution lines and 673 substations. The company was formerly known as FPL Group, Inc. and changed its name to NextEra Energy, Inc. in 2010. NextEra Energy, Inc. was founded in 1925 and is headquartered in Juno Beach, Florida.',\n",
       "  'https://www.nexteraenergy.com',\n",
       "  'Utilities, Utilities—Regulated Electric, NextEra Energy, Inc., through its subsidiaries, generates, transmits, distributes, and sells electric power to retail and wholesale customers in North America. The company generates electricity through wind, solar, nuclear, and fossil fuel, such as coal and natural gas facilities. It also develops, constructs, and operates long-term contracted assets with a focus on renewable generation facilities, electric transmission facilities, and battery storage projects; and owns, develops, constructs, manages and operates electric generation facilities in wholesale energy markets. As of December 31, 2020, the company operated approximately 28,400 megawatts of net generating capacity. It serves approximately 11 million people through approximately 5.6 million customer accounts in the east and lower west coasts of Florida with approximately 76,200 circuit miles of transmission and distribution lines and 673 substations. The company was formerly known as FPL Group, Inc. and changed its name to NextEra Energy, Inc. in 2010. NextEra Energy, Inc. was founded in 1925 and is headquartered in Juno Beach, Florida.',\n",
       "  'utilities utilities—regulated electric',\n",
       "  'utilities utilities—regulated electric nextera energy inc through its subsidiaries generates transmits distributes and sells electric power to retail and wholesale customers in north america the company generates electricity through wind solar nuclear and fossil fuel such as coal and natural gas facilities it also develops constructs and operates longterm contracted assets with a focus on renewable generation facilities electric transmission facilities and battery storage projects and owns develops constructs manages and operates electric generation facilities in wholesale energy markets as of december 31 2020 the company operated approximately 28400 megawatts of net generating capacity it serves approximately 11 million people through approximately 56 million customer accounts in the east and lower west coasts of florida with approximately 76200 circuit miles of transmission and distribution lines and 673 substations the company was formerly known as fpl group inc and changed its name to nextera energy inc in 2010 nextera energy inc was founded in 1925 and is headquartered in juno beach florida',\n",
       "  'utilities utilities—regulated electric nextera energy inc subsidiaries generates transmits distributes sells electric power retail wholesale customers north america company generates electricity wind solar nuclear fossil fuel coal natural gas facilities also develops constructs operates longterm contracted assets focus renewable generation facilities electric transmission facilities battery storage projects owns develops constructs manages operates electric generation facilities wholesale energy markets december   company operated approximately  megawatts net generating capacity serves approximately  million people approximately  million customer accounts east lower west coasts florida approximately  circuit miles transmission distribution lines  substations company formerly known fpl group inc changed name nextera energy inc  nextera energy inc founded  headquartered juno beach florida',\n",
       "  'HSHA08',\n",
       "  'Elections',\n",
       "  'The Subcommittee on Elections handles matters relating to voting rights issues and such other matters as may be referred to the subcommittee.',\n",
       "  'https://cha.house.gov/subcommittees/elections-117th-congress',\n",
       "  'elections the subcommittee on elections handles matters relating to voting rights issues and such other matters as may be referred to the subcommittee',\n",
       "  'elections subcommittee elections handles matters relating voting rights issues matters may referred subcommittee'],\n",
       " ['02/24/2022',\n",
       "  '03/11/2022',\n",
       "  'Shelley M Capito',\n",
       "  'Spouse',\n",
       "  'NEE',\n",
       "  '1001 - 15000',\n",
       "  'NextEra Energy, Inc. Common Stock',\n",
       "  'Stock',\n",
       "  'Sale (Partial)',\n",
       "  '--',\n",
       "  'https://efdsearch.senate.gov/search/view/ptr/e7893c34-0761-4c2b-ac52-e303f166517f/',\n",
       "  nan,\n",
       "  nan,\n",
       "  '1001',\n",
       "  15000.0,\n",
       "  'NEE',\n",
       "  'NextEra Energy, Inc.',\n",
       "  'Utilities',\n",
       "  'Utilities—Regulated Electric',\n",
       "  'NextEra Energy, Inc., through its subsidiaries, generates, transmits, distributes, and sells electric power to retail and wholesale customers in North America. The company generates electricity through wind, solar, nuclear, and fossil fuel, such as coal and natural gas facilities. It also develops, constructs, and operates long-term contracted assets with a focus on renewable generation facilities, electric transmission facilities, and battery storage projects; and owns, develops, constructs, manages and operates electric generation facilities in wholesale energy markets. As of December 31, 2020, the company operated approximately 28,400 megawatts of net generating capacity. It serves approximately 11 million people through approximately 5.6 million customer accounts in the east and lower west coasts of Florida with approximately 76,200 circuit miles of transmission and distribution lines and 673 substations. The company was formerly known as FPL Group, Inc. and changed its name to NextEra Energy, Inc. in 2010. NextEra Energy, Inc. was founded in 1925 and is headquartered in Juno Beach, Florida.',\n",
       "  'https://www.nexteraenergy.com',\n",
       "  'Utilities, Utilities—Regulated Electric, NextEra Energy, Inc., through its subsidiaries, generates, transmits, distributes, and sells electric power to retail and wholesale customers in North America. The company generates electricity through wind, solar, nuclear, and fossil fuel, such as coal and natural gas facilities. It also develops, constructs, and operates long-term contracted assets with a focus on renewable generation facilities, electric transmission facilities, and battery storage projects; and owns, develops, constructs, manages and operates electric generation facilities in wholesale energy markets. As of December 31, 2020, the company operated approximately 28,400 megawatts of net generating capacity. It serves approximately 11 million people through approximately 5.6 million customer accounts in the east and lower west coasts of Florida with approximately 76,200 circuit miles of transmission and distribution lines and 673 substations. The company was formerly known as FPL Group, Inc. and changed its name to NextEra Energy, Inc. in 2010. NextEra Energy, Inc. was founded in 1925 and is headquartered in Juno Beach, Florida.',\n",
       "  'utilities utilities—regulated electric',\n",
       "  'utilities utilities—regulated electric nextera energy inc through its subsidiaries generates transmits distributes and sells electric power to retail and wholesale customers in north america the company generates electricity through wind solar nuclear and fossil fuel such as coal and natural gas facilities it also develops constructs and operates longterm contracted assets with a focus on renewable generation facilities electric transmission facilities and battery storage projects and owns develops constructs manages and operates electric generation facilities in wholesale energy markets as of december 31 2020 the company operated approximately 28400 megawatts of net generating capacity it serves approximately 11 million people through approximately 56 million customer accounts in the east and lower west coasts of florida with approximately 76200 circuit miles of transmission and distribution lines and 673 substations the company was formerly known as fpl group inc and changed its name to nextera energy inc in 2010 nextera energy inc was founded in 1925 and is headquartered in juno beach florida',\n",
       "  'utilities utilities—regulated electric nextera energy inc subsidiaries generates transmits distributes sells electric power retail wholesale customers north america company generates electricity wind solar nuclear fossil fuel coal natural gas facilities also develops constructs operates longterm contracted assets focus renewable generation facilities electric transmission facilities battery storage projects owns develops constructs manages operates electric generation facilities wholesale energy markets december   company operated approximately  megawatts net generating capacity serves approximately  million people approximately  million customer accounts east lower west coasts florida approximately  circuit miles transmission distribution lines  substations company formerly known fpl group inc changed name nextera energy inc  nextera energy inc founded  headquartered juno beach florida',\n",
       "  'SSHR11',\n",
       "  'Employment and Workplace Safety',\n",
       "  'The Subcommittee Chairman is Senator John Hickenlooper (D-CO) and the Ranking Member is Mike Braun (R-IN). The Subcommittee has jurisdiction over a variety of employment issues including workforce education and training, worker health and safety, wage and hour laws, and workplace flexibility.',\n",
       "  'https://www.help.senate.gov/about/subcommittees',\n",
       "  'employment and workplace safety the subcommittee chairman is senator john hickenlooper dco and the ranking member is mike braun rin the subcommittee has jurisdiction over a variety of employment issues including workforce education and training worker health and safety wage and hour laws and workplace flexibility',\n",
       "  'employment workplace safety subcommittee chairman senator john hickenlooper dco ranking member mike braun rin subcommittee jurisdiction variety employment issues including workforce education training worker health safety wage hour laws workplace flexibility'],\n",
       " ['02/24/2022',\n",
       "  '03/11/2022',\n",
       "  'Shelley M Capito',\n",
       "  'Spouse',\n",
       "  'NEE',\n",
       "  '1001 - 15000',\n",
       "  'NextEra Energy, Inc. Common Stock',\n",
       "  'Stock',\n",
       "  'Sale (Partial)',\n",
       "  '--',\n",
       "  'https://efdsearch.senate.gov/search/view/ptr/e7893c34-0761-4c2b-ac52-e303f166517f/',\n",
       "  nan,\n",
       "  nan,\n",
       "  '1001',\n",
       "  15000.0,\n",
       "  'NEE',\n",
       "  'NextEra Energy, Inc.',\n",
       "  'Utilities',\n",
       "  'Utilities—Regulated Electric',\n",
       "  'NextEra Energy, Inc., through its subsidiaries, generates, transmits, distributes, and sells electric power to retail and wholesale customers in North America. The company generates electricity through wind, solar, nuclear, and fossil fuel, such as coal and natural gas facilities. It also develops, constructs, and operates long-term contracted assets with a focus on renewable generation facilities, electric transmission facilities, and battery storage projects; and owns, develops, constructs, manages and operates electric generation facilities in wholesale energy markets. As of December 31, 2020, the company operated approximately 28,400 megawatts of net generating capacity. It serves approximately 11 million people through approximately 5.6 million customer accounts in the east and lower west coasts of Florida with approximately 76,200 circuit miles of transmission and distribution lines and 673 substations. The company was formerly known as FPL Group, Inc. and changed its name to NextEra Energy, Inc. in 2010. NextEra Energy, Inc. was founded in 1925 and is headquartered in Juno Beach, Florida.',\n",
       "  'https://www.nexteraenergy.com',\n",
       "  'Utilities, Utilities—Regulated Electric, NextEra Energy, Inc., through its subsidiaries, generates, transmits, distributes, and sells electric power to retail and wholesale customers in North America. The company generates electricity through wind, solar, nuclear, and fossil fuel, such as coal and natural gas facilities. It also develops, constructs, and operates long-term contracted assets with a focus on renewable generation facilities, electric transmission facilities, and battery storage projects; and owns, develops, constructs, manages and operates electric generation facilities in wholesale energy markets. As of December 31, 2020, the company operated approximately 28,400 megawatts of net generating capacity. It serves approximately 11 million people through approximately 5.6 million customer accounts in the east and lower west coasts of Florida with approximately 76,200 circuit miles of transmission and distribution lines and 673 substations. The company was formerly known as FPL Group, Inc. and changed its name to NextEra Energy, Inc. in 2010. NextEra Energy, Inc. was founded in 1925 and is headquartered in Juno Beach, Florida.',\n",
       "  'utilities utilities—regulated electric',\n",
       "  'utilities utilities—regulated electric nextera energy inc through its subsidiaries generates transmits distributes and sells electric power to retail and wholesale customers in north america the company generates electricity through wind solar nuclear and fossil fuel such as coal and natural gas facilities it also develops constructs and operates longterm contracted assets with a focus on renewable generation facilities electric transmission facilities and battery storage projects and owns develops constructs manages and operates electric generation facilities in wholesale energy markets as of december 31 2020 the company operated approximately 28400 megawatts of net generating capacity it serves approximately 11 million people through approximately 56 million customer accounts in the east and lower west coasts of florida with approximately 76200 circuit miles of transmission and distribution lines and 673 substations the company was formerly known as fpl group inc and changed its name to nextera energy inc in 2010 nextera energy inc was founded in 1925 and is headquartered in juno beach florida',\n",
       "  'utilities utilities—regulated electric nextera energy inc subsidiaries generates transmits distributes sells electric power retail wholesale customers north america company generates electricity wind solar nuclear fossil fuel coal natural gas facilities also develops constructs operates longterm contracted assets focus renewable generation facilities electric transmission facilities battery storage projects owns develops constructs manages operates electric generation facilities wholesale energy markets december   company operated approximately  megawatts net generating capacity serves approximately  million people approximately  million customer accounts east lower west coasts florida approximately  circuit miles transmission distribution lines  substations company formerly known fpl group inc changed name nextera energy inc  nextera energy inc founded  headquartered juno beach florida',\n",
       "  'HSII06',\n",
       "  'Energy and Mineral Resources',\n",
       "  'Energy and mineral resources: Monitoring the development of oil and gas onshore and offshore Establishing renewable energy sources - solar, wind, geothermal, and ocean energy Overseeing coal and hardrock mining regulations Ensuring a fair return for the American people for energy & mineral development',\n",
       "  'https://naturalresources.house.gov/about/the-committee',\n",
       "  'energy and mineral resources energy and mineral resources monitoring the development of oil and gas onshore and offshore establishing renewable energy sources  solar wind geothermal and ocean energy overseeing coal and hardrock mining regulations ensuring a fair return for the american people for energy  mineral development',\n",
       "  'energy mineral resources energy mineral resources monitoring development oil gas onshore offshore establishing renewable energy sources solar wind geothermal ocean energy overseeing coal hardrock mining regulations ensuring fair return american people energy mineral development'],\n",
       " ['01/14/2022',\n",
       "  '02/14/2022',\n",
       "  'Thomas H Tuberville',\n",
       "  'Joint',\n",
       "  'NEE',\n",
       "  '15001 - 50000',\n",
       "  'NextEra Energy, Inc. Common Stock',\n",
       "  'Stock',\n",
       "  'Sale (Full)',\n",
       "  '--',\n",
       "  'https://efdsearch.senate.gov/search/view/ptr/c9da6bea-fa14-4a3a-9d8b-1745e834da59/',\n",
       "  nan,\n",
       "  nan,\n",
       "  '15001',\n",
       "  50000.0,\n",
       "  'NEE',\n",
       "  'NextEra Energy, Inc.',\n",
       "  'Utilities',\n",
       "  'Utilities—Regulated Electric',\n",
       "  'NextEra Energy, Inc., through its subsidiaries, generates, transmits, distributes, and sells electric power to retail and wholesale customers in North America. The company generates electricity through wind, solar, nuclear, and fossil fuel, such as coal and natural gas facilities. It also develops, constructs, and operates long-term contracted assets with a focus on renewable generation facilities, electric transmission facilities, and battery storage projects; and owns, develops, constructs, manages and operates electric generation facilities in wholesale energy markets. As of December 31, 2020, the company operated approximately 28,400 megawatts of net generating capacity. It serves approximately 11 million people through approximately 5.6 million customer accounts in the east and lower west coasts of Florida with approximately 76,200 circuit miles of transmission and distribution lines and 673 substations. The company was formerly known as FPL Group, Inc. and changed its name to NextEra Energy, Inc. in 2010. NextEra Energy, Inc. was founded in 1925 and is headquartered in Juno Beach, Florida.',\n",
       "  'https://www.nexteraenergy.com',\n",
       "  'Utilities, Utilities—Regulated Electric, NextEra Energy, Inc., through its subsidiaries, generates, transmits, distributes, and sells electric power to retail and wholesale customers in North America. The company generates electricity through wind, solar, nuclear, and fossil fuel, such as coal and natural gas facilities. It also develops, constructs, and operates long-term contracted assets with a focus on renewable generation facilities, electric transmission facilities, and battery storage projects; and owns, develops, constructs, manages and operates electric generation facilities in wholesale energy markets. As of December 31, 2020, the company operated approximately 28,400 megawatts of net generating capacity. It serves approximately 11 million people through approximately 5.6 million customer accounts in the east and lower west coasts of Florida with approximately 76,200 circuit miles of transmission and distribution lines and 673 substations. The company was formerly known as FPL Group, Inc. and changed its name to NextEra Energy, Inc. in 2010. NextEra Energy, Inc. was founded in 1925 and is headquartered in Juno Beach, Florida.',\n",
       "  'utilities utilities—regulated electric',\n",
       "  'utilities utilities—regulated electric nextera energy inc through its subsidiaries generates transmits distributes and sells electric power to retail and wholesale customers in north america the company generates electricity through wind solar nuclear and fossil fuel such as coal and natural gas facilities it also develops constructs and operates longterm contracted assets with a focus on renewable generation facilities electric transmission facilities and battery storage projects and owns develops constructs manages and operates electric generation facilities in wholesale energy markets as of december 31 2020 the company operated approximately 28400 megawatts of net generating capacity it serves approximately 11 million people through approximately 56 million customer accounts in the east and lower west coasts of florida with approximately 76200 circuit miles of transmission and distribution lines and 673 substations the company was formerly known as fpl group inc and changed its name to nextera energy inc in 2010 nextera energy inc was founded in 1925 and is headquartered in juno beach florida',\n",
       "  'utilities utilities—regulated electric nextera energy inc subsidiaries generates transmits distributes sells electric power retail wholesale customers north america company generates electricity wind solar nuclear fossil fuel coal natural gas facilities also develops constructs operates longterm contracted assets focus renewable generation facilities electric transmission facilities battery storage projects owns develops constructs manages operates electric generation facilities wholesale energy markets december   company operated approximately  megawatts net generating capacity serves approximately  million people approximately  million customer accounts east lower west coasts florida approximately  circuit miles transmission distribution lines  substations company formerly known fpl group inc changed name nextera energy inc  nextera energy inc founded  headquartered juno beach florida',\n",
       "  'HSHA08',\n",
       "  'Elections',\n",
       "  'The Subcommittee on Elections handles matters relating to voting rights issues and such other matters as may be referred to the subcommittee.',\n",
       "  'https://cha.house.gov/subcommittees/elections-117th-congress',\n",
       "  'elections the subcommittee on elections handles matters relating to voting rights issues and such other matters as may be referred to the subcommittee',\n",
       "  'elections subcommittee elections handles matters relating voting rights issues matters may referred subcommittee'],\n",
       " ['01/14/2022',\n",
       "  '02/14/2022',\n",
       "  'Thomas H Tuberville',\n",
       "  'Joint',\n",
       "  'NEE',\n",
       "  '15001 - 50000',\n",
       "  'NextEra Energy, Inc. Common Stock',\n",
       "  'Stock',\n",
       "  'Sale (Full)',\n",
       "  '--',\n",
       "  'https://efdsearch.senate.gov/search/view/ptr/c9da6bea-fa14-4a3a-9d8b-1745e834da59/',\n",
       "  nan,\n",
       "  nan,\n",
       "  '15001',\n",
       "  50000.0,\n",
       "  'NEE',\n",
       "  'NextEra Energy, Inc.',\n",
       "  'Utilities',\n",
       "  'Utilities—Regulated Electric',\n",
       "  'NextEra Energy, Inc., through its subsidiaries, generates, transmits, distributes, and sells electric power to retail and wholesale customers in North America. The company generates electricity through wind, solar, nuclear, and fossil fuel, such as coal and natural gas facilities. It also develops, constructs, and operates long-term contracted assets with a focus on renewable generation facilities, electric transmission facilities, and battery storage projects; and owns, develops, constructs, manages and operates electric generation facilities in wholesale energy markets. As of December 31, 2020, the company operated approximately 28,400 megawatts of net generating capacity. It serves approximately 11 million people through approximately 5.6 million customer accounts in the east and lower west coasts of Florida with approximately 76,200 circuit miles of transmission and distribution lines and 673 substations. The company was formerly known as FPL Group, Inc. and changed its name to NextEra Energy, Inc. in 2010. NextEra Energy, Inc. was founded in 1925 and is headquartered in Juno Beach, Florida.',\n",
       "  'https://www.nexteraenergy.com',\n",
       "  'Utilities, Utilities—Regulated Electric, NextEra Energy, Inc., through its subsidiaries, generates, transmits, distributes, and sells electric power to retail and wholesale customers in North America. The company generates electricity through wind, solar, nuclear, and fossil fuel, such as coal and natural gas facilities. It also develops, constructs, and operates long-term contracted assets with a focus on renewable generation facilities, electric transmission facilities, and battery storage projects; and owns, develops, constructs, manages and operates electric generation facilities in wholesale energy markets. As of December 31, 2020, the company operated approximately 28,400 megawatts of net generating capacity. It serves approximately 11 million people through approximately 5.6 million customer accounts in the east and lower west coasts of Florida with approximately 76,200 circuit miles of transmission and distribution lines and 673 substations. The company was formerly known as FPL Group, Inc. and changed its name to NextEra Energy, Inc. in 2010. NextEra Energy, Inc. was founded in 1925 and is headquartered in Juno Beach, Florida.',\n",
       "  'utilities utilities—regulated electric',\n",
       "  'utilities utilities—regulated electric nextera energy inc through its subsidiaries generates transmits distributes and sells electric power to retail and wholesale customers in north america the company generates electricity through wind solar nuclear and fossil fuel such as coal and natural gas facilities it also develops constructs and operates longterm contracted assets with a focus on renewable generation facilities electric transmission facilities and battery storage projects and owns develops constructs manages and operates electric generation facilities in wholesale energy markets as of december 31 2020 the company operated approximately 28400 megawatts of net generating capacity it serves approximately 11 million people through approximately 56 million customer accounts in the east and lower west coasts of florida with approximately 76200 circuit miles of transmission and distribution lines and 673 substations the company was formerly known as fpl group inc and changed its name to nextera energy inc in 2010 nextera energy inc was founded in 1925 and is headquartered in juno beach florida',\n",
       "  'utilities utilities—regulated electric nextera energy inc subsidiaries generates transmits distributes sells electric power retail wholesale customers north america company generates electricity wind solar nuclear fossil fuel coal natural gas facilities also develops constructs operates longterm contracted assets focus renewable generation facilities electric transmission facilities battery storage projects owns develops constructs manages operates electric generation facilities wholesale energy markets december   company operated approximately  megawatts net generating capacity serves approximately  million people approximately  million customer accounts east lower west coasts florida approximately  circuit miles transmission distribution lines  substations company formerly known fpl group inc changed name nextera energy inc  nextera energy inc founded  headquartered juno beach florida',\n",
       "  'SSHR11',\n",
       "  'Employment and Workplace Safety',\n",
       "  'The Subcommittee Chairman is Senator John Hickenlooper (D-CO) and the Ranking Member is Mike Braun (R-IN). The Subcommittee has jurisdiction over a variety of employment issues including workforce education and training, worker health and safety, wage and hour laws, and workplace flexibility.',\n",
       "  'https://www.help.senate.gov/about/subcommittees',\n",
       "  'employment and workplace safety the subcommittee chairman is senator john hickenlooper dco and the ranking member is mike braun rin the subcommittee has jurisdiction over a variety of employment issues including workforce education and training worker health and safety wage and hour laws and workplace flexibility',\n",
       "  'employment workplace safety subcommittee chairman senator john hickenlooper dco ranking member mike braun rin subcommittee jurisdiction variety employment issues including workforce education training worker health safety wage hour laws workplace flexibility']]"
      ]
     },
     "execution_count": 254,
     "metadata": {},
     "output_type": "execute_result"
    }
   ],
   "source": [
    "ls_rows[0:5]"
   ]
  },
  {
   "cell_type": "code",
   "execution_count": 264,
   "id": "21f265aa",
   "metadata": {},
   "outputs": [],
   "source": [
    "merged = pd.DataFrame(ls_rows)\n",
    "merged.columns =['transaction_date', 'disclosure_date', 'politician', 'owner', 'ticker', 'amount', 'asset_description', 'asset_type', 'transaction_type', 'comment', 'ptr_link', 'location', 'cap_gains', 'amount_low', 'amount_high', 'ticker2', 'name', 'sector', 'industry', 'longbusinesssummary', 'website', 'stock_description','sector_industry', 'stock_description2', 'stock_description3', 'committee', 'committee_fullname', 'committee_description', 'website','committee_description2', 'committee_description3']"
   ]
  },
  {
   "cell_type": "code",
   "execution_count": 265,
   "id": "df5d187c",
   "metadata": {},
   "outputs": [
    {
     "data": {
      "text/html": [
       "<div>\n",
       "<style scoped>\n",
       "    .dataframe tbody tr th:only-of-type {\n",
       "        vertical-align: middle;\n",
       "    }\n",
       "\n",
       "    .dataframe tbody tr th {\n",
       "        vertical-align: top;\n",
       "    }\n",
       "\n",
       "    .dataframe thead th {\n",
       "        text-align: right;\n",
       "    }\n",
       "</style>\n",
       "<table border=\"1\" class=\"dataframe\">\n",
       "  <thead>\n",
       "    <tr style=\"text-align: right;\">\n",
       "      <th></th>\n",
       "      <th>transaction_date</th>\n",
       "      <th>disclosure_date</th>\n",
       "      <th>politician</th>\n",
       "      <th>owner</th>\n",
       "      <th>ticker</th>\n",
       "      <th>amount</th>\n",
       "      <th>asset_description</th>\n",
       "      <th>asset_type</th>\n",
       "      <th>transaction_type</th>\n",
       "      <th>comment</th>\n",
       "      <th>...</th>\n",
       "      <th>stock_description</th>\n",
       "      <th>sector_industry</th>\n",
       "      <th>stock_description2</th>\n",
       "      <th>stock_description3</th>\n",
       "      <th>committee</th>\n",
       "      <th>committee_fullname</th>\n",
       "      <th>committee_description</th>\n",
       "      <th>website</th>\n",
       "      <th>committee_description2</th>\n",
       "      <th>committee_description3</th>\n",
       "    </tr>\n",
       "  </thead>\n",
       "  <tbody>\n",
       "    <tr>\n",
       "      <th>0</th>\n",
       "      <td>02/24/2022</td>\n",
       "      <td>03/11/2022</td>\n",
       "      <td>Shelley M Capito</td>\n",
       "      <td>Spouse</td>\n",
       "      <td>NEE</td>\n",
       "      <td>1001 - 15000</td>\n",
       "      <td>NextEra Energy, Inc. Common Stock</td>\n",
       "      <td>Stock</td>\n",
       "      <td>Sale (Partial)</td>\n",
       "      <td>--</td>\n",
       "      <td>...</td>\n",
       "      <td>Utilities, Utilities—Regulated Electric, NextE...</td>\n",
       "      <td>utilities utilities—regulated electric</td>\n",
       "      <td>utilities utilities—regulated electric nextera...</td>\n",
       "      <td>utilities utilities—regulated electric nextera...</td>\n",
       "      <td>HSHA08</td>\n",
       "      <td>Elections</td>\n",
       "      <td>The Subcommittee on Elections handles matters ...</td>\n",
       "      <td>https://cha.house.gov/subcommittees/elections-...</td>\n",
       "      <td>elections the subcommittee on elections handle...</td>\n",
       "      <td>elections subcommittee elections handles matte...</td>\n",
       "    </tr>\n",
       "    <tr>\n",
       "      <th>1</th>\n",
       "      <td>02/24/2022</td>\n",
       "      <td>03/11/2022</td>\n",
       "      <td>Shelley M Capito</td>\n",
       "      <td>Spouse</td>\n",
       "      <td>NEE</td>\n",
       "      <td>1001 - 15000</td>\n",
       "      <td>NextEra Energy, Inc. Common Stock</td>\n",
       "      <td>Stock</td>\n",
       "      <td>Sale (Partial)</td>\n",
       "      <td>--</td>\n",
       "      <td>...</td>\n",
       "      <td>Utilities, Utilities—Regulated Electric, NextE...</td>\n",
       "      <td>utilities utilities—regulated electric</td>\n",
       "      <td>utilities utilities—regulated electric nextera...</td>\n",
       "      <td>utilities utilities—regulated electric nextera...</td>\n",
       "      <td>SSHR11</td>\n",
       "      <td>Employment and Workplace Safety</td>\n",
       "      <td>The Subcommittee Chairman is Senator John Hick...</td>\n",
       "      <td>https://www.help.senate.gov/about/subcommittees</td>\n",
       "      <td>employment and workplace safety the subcommitt...</td>\n",
       "      <td>employment workplace safety subcommittee chair...</td>\n",
       "    </tr>\n",
       "    <tr>\n",
       "      <th>2</th>\n",
       "      <td>02/24/2022</td>\n",
       "      <td>03/11/2022</td>\n",
       "      <td>Shelley M Capito</td>\n",
       "      <td>Spouse</td>\n",
       "      <td>NEE</td>\n",
       "      <td>1001 - 15000</td>\n",
       "      <td>NextEra Energy, Inc. Common Stock</td>\n",
       "      <td>Stock</td>\n",
       "      <td>Sale (Partial)</td>\n",
       "      <td>--</td>\n",
       "      <td>...</td>\n",
       "      <td>Utilities, Utilities—Regulated Electric, NextE...</td>\n",
       "      <td>utilities utilities—regulated electric</td>\n",
       "      <td>utilities utilities—regulated electric nextera...</td>\n",
       "      <td>utilities utilities—regulated electric nextera...</td>\n",
       "      <td>HSII06</td>\n",
       "      <td>Energy and Mineral Resources</td>\n",
       "      <td>Energy and mineral resources: Monitoring the d...</td>\n",
       "      <td>https://naturalresources.house.gov/about/the-c...</td>\n",
       "      <td>energy and mineral resources energy and minera...</td>\n",
       "      <td>energy mineral resources energy mineral resour...</td>\n",
       "    </tr>\n",
       "    <tr>\n",
       "      <th>3</th>\n",
       "      <td>01/14/2022</td>\n",
       "      <td>02/14/2022</td>\n",
       "      <td>Thomas H Tuberville</td>\n",
       "      <td>Joint</td>\n",
       "      <td>NEE</td>\n",
       "      <td>15001 - 50000</td>\n",
       "      <td>NextEra Energy, Inc. Common Stock</td>\n",
       "      <td>Stock</td>\n",
       "      <td>Sale (Full)</td>\n",
       "      <td>--</td>\n",
       "      <td>...</td>\n",
       "      <td>Utilities, Utilities—Regulated Electric, NextE...</td>\n",
       "      <td>utilities utilities—regulated electric</td>\n",
       "      <td>utilities utilities—regulated electric nextera...</td>\n",
       "      <td>utilities utilities—regulated electric nextera...</td>\n",
       "      <td>HSHA08</td>\n",
       "      <td>Elections</td>\n",
       "      <td>The Subcommittee on Elections handles matters ...</td>\n",
       "      <td>https://cha.house.gov/subcommittees/elections-...</td>\n",
       "      <td>elections the subcommittee on elections handle...</td>\n",
       "      <td>elections subcommittee elections handles matte...</td>\n",
       "    </tr>\n",
       "    <tr>\n",
       "      <th>4</th>\n",
       "      <td>01/14/2022</td>\n",
       "      <td>02/14/2022</td>\n",
       "      <td>Thomas H Tuberville</td>\n",
       "      <td>Joint</td>\n",
       "      <td>NEE</td>\n",
       "      <td>15001 - 50000</td>\n",
       "      <td>NextEra Energy, Inc. Common Stock</td>\n",
       "      <td>Stock</td>\n",
       "      <td>Sale (Full)</td>\n",
       "      <td>--</td>\n",
       "      <td>...</td>\n",
       "      <td>Utilities, Utilities—Regulated Electric, NextE...</td>\n",
       "      <td>utilities utilities—regulated electric</td>\n",
       "      <td>utilities utilities—regulated electric nextera...</td>\n",
       "      <td>utilities utilities—regulated electric nextera...</td>\n",
       "      <td>SSHR11</td>\n",
       "      <td>Employment and Workplace Safety</td>\n",
       "      <td>The Subcommittee Chairman is Senator John Hick...</td>\n",
       "      <td>https://www.help.senate.gov/about/subcommittees</td>\n",
       "      <td>employment and workplace safety the subcommitt...</td>\n",
       "      <td>employment workplace safety subcommittee chair...</td>\n",
       "    </tr>\n",
       "    <tr>\n",
       "      <th>5</th>\n",
       "      <td>01/14/2022</td>\n",
       "      <td>02/14/2022</td>\n",
       "      <td>Thomas H Tuberville</td>\n",
       "      <td>Joint</td>\n",
       "      <td>NEE</td>\n",
       "      <td>15001 - 50000</td>\n",
       "      <td>NextEra Energy, Inc. Common Stock</td>\n",
       "      <td>Stock</td>\n",
       "      <td>Sale (Full)</td>\n",
       "      <td>--</td>\n",
       "      <td>...</td>\n",
       "      <td>Utilities, Utilities—Regulated Electric, NextE...</td>\n",
       "      <td>utilities utilities—regulated electric</td>\n",
       "      <td>utilities utilities—regulated electric nextera...</td>\n",
       "      <td>utilities utilities—regulated electric nextera...</td>\n",
       "      <td>HSII06</td>\n",
       "      <td>Energy and Mineral Resources</td>\n",
       "      <td>Energy and mineral resources: Monitoring the d...</td>\n",
       "      <td>https://naturalresources.house.gov/about/the-c...</td>\n",
       "      <td>energy and mineral resources energy and minera...</td>\n",
       "      <td>energy mineral resources energy mineral resour...</td>\n",
       "    </tr>\n",
       "  </tbody>\n",
       "</table>\n",
       "<p>6 rows × 31 columns</p>\n",
       "</div>"
      ],
      "text/plain": [
       "  transaction_date disclosure_date           politician   owner ticker  \\\n",
       "0       02/24/2022      03/11/2022     Shelley M Capito  Spouse    NEE   \n",
       "1       02/24/2022      03/11/2022     Shelley M Capito  Spouse    NEE   \n",
       "2       02/24/2022      03/11/2022     Shelley M Capito  Spouse    NEE   \n",
       "3       01/14/2022      02/14/2022  Thomas H Tuberville   Joint    NEE   \n",
       "4       01/14/2022      02/14/2022  Thomas H Tuberville   Joint    NEE   \n",
       "5       01/14/2022      02/14/2022  Thomas H Tuberville   Joint    NEE   \n",
       "\n",
       "          amount                  asset_description asset_type  \\\n",
       "0   1001 - 15000  NextEra Energy, Inc. Common Stock      Stock   \n",
       "1   1001 - 15000  NextEra Energy, Inc. Common Stock      Stock   \n",
       "2   1001 - 15000  NextEra Energy, Inc. Common Stock      Stock   \n",
       "3  15001 - 50000  NextEra Energy, Inc. Common Stock      Stock   \n",
       "4  15001 - 50000  NextEra Energy, Inc. Common Stock      Stock   \n",
       "5  15001 - 50000  NextEra Energy, Inc. Common Stock      Stock   \n",
       "\n",
       "  transaction_type comment  ...  \\\n",
       "0   Sale (Partial)      --  ...   \n",
       "1   Sale (Partial)      --  ...   \n",
       "2   Sale (Partial)      --  ...   \n",
       "3      Sale (Full)      --  ...   \n",
       "4      Sale (Full)      --  ...   \n",
       "5      Sale (Full)      --  ...   \n",
       "\n",
       "                                   stock_description  \\\n",
       "0  Utilities, Utilities—Regulated Electric, NextE...   \n",
       "1  Utilities, Utilities—Regulated Electric, NextE...   \n",
       "2  Utilities, Utilities—Regulated Electric, NextE...   \n",
       "3  Utilities, Utilities—Regulated Electric, NextE...   \n",
       "4  Utilities, Utilities—Regulated Electric, NextE...   \n",
       "5  Utilities, Utilities—Regulated Electric, NextE...   \n",
       "\n",
       "                          sector_industry  \\\n",
       "0  utilities utilities—regulated electric   \n",
       "1  utilities utilities—regulated electric   \n",
       "2  utilities utilities—regulated electric   \n",
       "3  utilities utilities—regulated electric   \n",
       "4  utilities utilities—regulated electric   \n",
       "5  utilities utilities—regulated electric   \n",
       "\n",
       "                                  stock_description2  \\\n",
       "0  utilities utilities—regulated electric nextera...   \n",
       "1  utilities utilities—regulated electric nextera...   \n",
       "2  utilities utilities—regulated electric nextera...   \n",
       "3  utilities utilities—regulated electric nextera...   \n",
       "4  utilities utilities—regulated electric nextera...   \n",
       "5  utilities utilities—regulated electric nextera...   \n",
       "\n",
       "                                  stock_description3  committee  \\\n",
       "0  utilities utilities—regulated electric nextera...     HSHA08   \n",
       "1  utilities utilities—regulated electric nextera...     SSHR11   \n",
       "2  utilities utilities—regulated electric nextera...     HSII06   \n",
       "3  utilities utilities—regulated electric nextera...     HSHA08   \n",
       "4  utilities utilities—regulated electric nextera...     SSHR11   \n",
       "5  utilities utilities—regulated electric nextera...     HSII06   \n",
       "\n",
       "                committee_fullname  \\\n",
       "0                        Elections   \n",
       "1  Employment and Workplace Safety   \n",
       "2     Energy and Mineral Resources   \n",
       "3                        Elections   \n",
       "4  Employment and Workplace Safety   \n",
       "5     Energy and Mineral Resources   \n",
       "\n",
       "                               committee_description  \\\n",
       "0  The Subcommittee on Elections handles matters ...   \n",
       "1  The Subcommittee Chairman is Senator John Hick...   \n",
       "2  Energy and mineral resources: Monitoring the d...   \n",
       "3  The Subcommittee on Elections handles matters ...   \n",
       "4  The Subcommittee Chairman is Senator John Hick...   \n",
       "5  Energy and mineral resources: Monitoring the d...   \n",
       "\n",
       "                                             website  \\\n",
       "0  https://cha.house.gov/subcommittees/elections-...   \n",
       "1    https://www.help.senate.gov/about/subcommittees   \n",
       "2  https://naturalresources.house.gov/about/the-c...   \n",
       "3  https://cha.house.gov/subcommittees/elections-...   \n",
       "4    https://www.help.senate.gov/about/subcommittees   \n",
       "5  https://naturalresources.house.gov/about/the-c...   \n",
       "\n",
       "                              committee_description2  \\\n",
       "0  elections the subcommittee on elections handle...   \n",
       "1  employment and workplace safety the subcommitt...   \n",
       "2  energy and mineral resources energy and minera...   \n",
       "3  elections the subcommittee on elections handle...   \n",
       "4  employment and workplace safety the subcommitt...   \n",
       "5  energy and mineral resources energy and minera...   \n",
       "\n",
       "                              committee_description3  \n",
       "0  elections subcommittee elections handles matte...  \n",
       "1  employment workplace safety subcommittee chair...  \n",
       "2  energy mineral resources energy mineral resour...  \n",
       "3  elections subcommittee elections handles matte...  \n",
       "4  employment workplace safety subcommittee chair...  \n",
       "5  energy mineral resources energy mineral resour...  \n",
       "\n",
       "[6 rows x 31 columns]"
      ]
     },
     "execution_count": 265,
     "metadata": {},
     "output_type": "execute_result"
    }
   ],
   "source": [
    "merged.head(10)"
   ]
  },
  {
   "cell_type": "markdown",
   "id": "8f351b76",
   "metadata": {},
   "source": [
    "### Matching with Member Committee Assignments"
   ]
  },
  {
   "cell_type": "code",
   "execution_count": 278,
   "id": "68f8a564",
   "metadata": {},
   "outputs": [
    {
     "data": {
      "text/html": [
       "<div>\n",
       "<style scoped>\n",
       "    .dataframe tbody tr th:only-of-type {\n",
       "        vertical-align: middle;\n",
       "    }\n",
       "\n",
       "    .dataframe tbody tr th {\n",
       "        vertical-align: top;\n",
       "    }\n",
       "\n",
       "    .dataframe thead th {\n",
       "        text-align: right;\n",
       "    }\n",
       "</style>\n",
       "<table border=\"1\" class=\"dataframe\">\n",
       "  <thead>\n",
       "    <tr style=\"text-align: right;\">\n",
       "      <th></th>\n",
       "      <th>committee</th>\n",
       "      <th>name</th>\n",
       "      <th>party</th>\n",
       "      <th>rank</th>\n",
       "      <th>bioguide</th>\n",
       "    </tr>\n",
       "  </thead>\n",
       "  <tbody>\n",
       "    <tr>\n",
       "      <th>0</th>\n",
       "      <td>SSAF</td>\n",
       "      <td>Debbie Stabenow</td>\n",
       "      <td>majority</td>\n",
       "      <td>1</td>\n",
       "      <td>S000770</td>\n",
       "    </tr>\n",
       "    <tr>\n",
       "      <th>1</th>\n",
       "      <td>SSAF</td>\n",
       "      <td>Patrick J. Leahy</td>\n",
       "      <td>majority</td>\n",
       "      <td>2</td>\n",
       "      <td>L000174</td>\n",
       "    </tr>\n",
       "    <tr>\n",
       "      <th>2</th>\n",
       "      <td>SSAF</td>\n",
       "      <td>Sherrod Brown</td>\n",
       "      <td>majority</td>\n",
       "      <td>3</td>\n",
       "      <td>B000944</td>\n",
       "    </tr>\n",
       "  </tbody>\n",
       "</table>\n",
       "</div>"
      ],
      "text/plain": [
       "  committee              name     party  rank bioguide\n",
       "0      SSAF   Debbie Stabenow  majority     1  S000770\n",
       "1      SSAF  Patrick J. Leahy  majority     2  L000174\n",
       "2      SSAF     Sherrod Brown  majority     3  B000944"
      ]
     },
     "execution_count": 278,
     "metadata": {},
     "output_type": "execute_result"
    }
   ],
   "source": [
    "df_committee_members.head(3)"
   ]
  },
  {
   "cell_type": "code",
   "execution_count": 258,
   "id": "e27a0e92",
   "metadata": {},
   "outputs": [
    {
     "data": {
      "text/plain": [
       "91"
      ]
     },
     "execution_count": 258,
     "metadata": {},
     "output_type": "execute_result"
    }
   ],
   "source": [
    "similar(\"fuzzy wuzzy was a bear\", \"wuzzy fuzzy was a bear\")"
   ]
  },
  {
   "cell_type": "code",
   "execution_count": 259,
   "id": "e4ec4915",
   "metadata": {},
   "outputs": [
    {
     "data": {
      "text/plain": [
       "75"
      ]
     },
     "execution_count": 259,
     "metadata": {},
     "output_type": "execute_result"
    }
   ],
   "source": [
    "similar(\"Thomas H Tuberville\", \"Tommy Tuberville\")"
   ]
  },
  {
   "cell_type": "code",
   "execution_count": 267,
   "id": "c3e107e6",
   "metadata": {},
   "outputs": [
    {
     "data": {
      "text/plain": [
       "75"
      ]
     },
     "execution_count": 267,
     "metadata": {},
     "output_type": "execute_result"
    }
   ],
   "source": [
    "similar(\"Shelley M Capito\", \"Shelley Moore Capito\")"
   ]
  },
  {
   "cell_type": "code",
   "execution_count": 282,
   "id": "0abc2227",
   "metadata": {},
   "outputs": [],
   "source": [
    "#test\n",
    "\n",
    "#establish an empty list\n",
    "ls_rows2 = []\n",
    "\n",
    "# iterate through each row of merged dataframe\n",
    "for index, row in merged.iterrows():\n",
    "#     print(row)\n",
    "#     print(index, row['politician'])\n",
    "#     print(index, row['committee'])\n",
    "#     print('a')\n",
    "    \n",
    "    #Iterate through each row of member committee assignment dataframe for each row of merged dataframe\n",
    "    for index, member in df_committee_members.iterrows():\n",
    "#         print(index, member['name'])\n",
    "#         print(index, member['committee'])\n",
    "#         print('b')\n",
    "\n",
    "      # match names of trades to members with algorithm\n",
    "        name_score = similar(row['politician'], member['name'])\n",
    "#         print(name_score)\n",
    "        if row['committee'] == member['committee'] and name_score > 60:\n",
    "#             print('eureka')\n",
    "            \n",
    "            # add this trade + commitee description to merged\n",
    "            new_row2 = list(chain(row, member))\n",
    "#             print(new_row2)\n",
    "#             print('c')\n",
    "            ls_rows2.append(new_row2)\n",
    "\n"
   ]
  },
  {
   "cell_type": "code",
   "execution_count": 277,
   "id": "a6b71ae7",
   "metadata": {},
   "outputs": [
    {
     "data": {
      "text/plain": [
       "[['01/14/2022',\n",
       "  '02/14/2022',\n",
       "  'Thomas H Tuberville',\n",
       "  'Joint',\n",
       "  'NEE',\n",
       "  '15001 - 50000',\n",
       "  'NextEra Energy, Inc. Common Stock',\n",
       "  'Stock',\n",
       "  'Sale (Full)',\n",
       "  '--',\n",
       "  'https://efdsearch.senate.gov/search/view/ptr/c9da6bea-fa14-4a3a-9d8b-1745e834da59/',\n",
       "  nan,\n",
       "  nan,\n",
       "  '15001',\n",
       "  50000.0,\n",
       "  'NEE',\n",
       "  'NextEra Energy, Inc.',\n",
       "  'Utilities',\n",
       "  'Utilities—Regulated Electric',\n",
       "  'NextEra Energy, Inc., through its subsidiaries, generates, transmits, distributes, and sells electric power to retail and wholesale customers in North America. The company generates electricity through wind, solar, nuclear, and fossil fuel, such as coal and natural gas facilities. It also develops, constructs, and operates long-term contracted assets with a focus on renewable generation facilities, electric transmission facilities, and battery storage projects; and owns, develops, constructs, manages and operates electric generation facilities in wholesale energy markets. As of December 31, 2020, the company operated approximately 28,400 megawatts of net generating capacity. It serves approximately 11 million people through approximately 5.6 million customer accounts in the east and lower west coasts of Florida with approximately 76,200 circuit miles of transmission and distribution lines and 673 substations. The company was formerly known as FPL Group, Inc. and changed its name to NextEra Energy, Inc. in 2010. NextEra Energy, Inc. was founded in 1925 and is headquartered in Juno Beach, Florida.',\n",
       "  'https://www.nexteraenergy.com',\n",
       "  'Utilities, Utilities—Regulated Electric, NextEra Energy, Inc., through its subsidiaries, generates, transmits, distributes, and sells electric power to retail and wholesale customers in North America. The company generates electricity through wind, solar, nuclear, and fossil fuel, such as coal and natural gas facilities. It also develops, constructs, and operates long-term contracted assets with a focus on renewable generation facilities, electric transmission facilities, and battery storage projects; and owns, develops, constructs, manages and operates electric generation facilities in wholesale energy markets. As of December 31, 2020, the company operated approximately 28,400 megawatts of net generating capacity. It serves approximately 11 million people through approximately 5.6 million customer accounts in the east and lower west coasts of Florida with approximately 76,200 circuit miles of transmission and distribution lines and 673 substations. The company was formerly known as FPL Group, Inc. and changed its name to NextEra Energy, Inc. in 2010. NextEra Energy, Inc. was founded in 1925 and is headquartered in Juno Beach, Florida.',\n",
       "  'utilities utilities—regulated electric',\n",
       "  'utilities utilities—regulated electric nextera energy inc through its subsidiaries generates transmits distributes and sells electric power to retail and wholesale customers in north america the company generates electricity through wind solar nuclear and fossil fuel such as coal and natural gas facilities it also develops constructs and operates longterm contracted assets with a focus on renewable generation facilities electric transmission facilities and battery storage projects and owns develops constructs manages and operates electric generation facilities in wholesale energy markets as of december 31 2020 the company operated approximately 28400 megawatts of net generating capacity it serves approximately 11 million people through approximately 56 million customer accounts in the east and lower west coasts of florida with approximately 76200 circuit miles of transmission and distribution lines and 673 substations the company was formerly known as fpl group inc and changed its name to nextera energy inc in 2010 nextera energy inc was founded in 1925 and is headquartered in juno beach florida',\n",
       "  'utilities utilities—regulated electric nextera energy inc subsidiaries generates transmits distributes sells electric power retail wholesale customers north america company generates electricity wind solar nuclear fossil fuel coal natural gas facilities also develops constructs operates longterm contracted assets focus renewable generation facilities electric transmission facilities battery storage projects owns develops constructs manages operates electric generation facilities wholesale energy markets december   company operated approximately  megawatts net generating capacity serves approximately  million people approximately  million customer accounts east lower west coasts florida approximately  circuit miles transmission distribution lines  substations company formerly known fpl group inc changed name nextera energy inc  nextera energy inc founded  headquartered juno beach florida',\n",
       "  'SSHR11',\n",
       "  'Employment and Workplace Safety',\n",
       "  'The Subcommittee Chairman is Senator John Hickenlooper (D-CO) and the Ranking Member is Mike Braun (R-IN). The Subcommittee has jurisdiction over a variety of employment issues including workforce education and training, worker health and safety, wage and hour laws, and workplace flexibility.',\n",
       "  'https://www.help.senate.gov/about/subcommittees',\n",
       "  'employment and workplace safety the subcommittee chairman is senator john hickenlooper dco and the ranking member is mike braun rin the subcommittee has jurisdiction over a variety of employment issues including workforce education and training worker health and safety wage and hour laws and workplace flexibility',\n",
       "  'employment workplace safety subcommittee chairman senator john hickenlooper dco ranking member mike braun rin subcommittee jurisdiction variety employment issues including workforce education training worker health safety wage hour laws workplace flexibility',\n",
       "  'SSHR11',\n",
       "  'Tommy Tuberville',\n",
       "  'minority',\n",
       "  2,\n",
       "  'T000278']]"
      ]
     },
     "execution_count": 277,
     "metadata": {},
     "output_type": "execute_result"
    }
   ],
   "source": [
    "ls_rows2[0:2]"
   ]
  },
  {
   "cell_type": "code",
   "execution_count": 280,
   "id": "99cef5ee",
   "metadata": {},
   "outputs": [],
   "source": [
    "edited = pd.DataFrame(ls_rows2)\n",
    "edited.columns =['transaction_date', 'disclosure_date', 'politician', 'owner', 'ticker', 'amount', 'asset_description', 'asset_type', 'transaction_type', 'comment', 'ptr_link', 'location', 'cap_gains', 'amount_low', 'amount_high', 'ticker2', 'name', 'sector', 'industry', 'longbusinesssummary', 'website', 'stock_description','sector_industry', 'stock_description2', 'stock_description3', 'committee', 'committee_fullname', 'committee_description', 'website','committee_description2', 'committee_description3', 'committee', 'name', 'party', 'rank', 'bioguide']"
   ]
  },
  {
   "cell_type": "code",
   "execution_count": 281,
   "id": "b2eda068",
   "metadata": {},
   "outputs": [
    {
     "data": {
      "text/html": [
       "<div>\n",
       "<style scoped>\n",
       "    .dataframe tbody tr th:only-of-type {\n",
       "        vertical-align: middle;\n",
       "    }\n",
       "\n",
       "    .dataframe tbody tr th {\n",
       "        vertical-align: top;\n",
       "    }\n",
       "\n",
       "    .dataframe thead th {\n",
       "        text-align: right;\n",
       "    }\n",
       "</style>\n",
       "<table border=\"1\" class=\"dataframe\">\n",
       "  <thead>\n",
       "    <tr style=\"text-align: right;\">\n",
       "      <th></th>\n",
       "      <th>transaction_date</th>\n",
       "      <th>disclosure_date</th>\n",
       "      <th>politician</th>\n",
       "      <th>owner</th>\n",
       "      <th>ticker</th>\n",
       "      <th>amount</th>\n",
       "      <th>asset_description</th>\n",
       "      <th>asset_type</th>\n",
       "      <th>transaction_type</th>\n",
       "      <th>comment</th>\n",
       "      <th>...</th>\n",
       "      <th>committee_fullname</th>\n",
       "      <th>committee_description</th>\n",
       "      <th>website</th>\n",
       "      <th>committee_description2</th>\n",
       "      <th>committee_description3</th>\n",
       "      <th>committee</th>\n",
       "      <th>name</th>\n",
       "      <th>party</th>\n",
       "      <th>rank</th>\n",
       "      <th>bioguide</th>\n",
       "    </tr>\n",
       "  </thead>\n",
       "  <tbody>\n",
       "    <tr>\n",
       "      <th>0</th>\n",
       "      <td>01/14/2022</td>\n",
       "      <td>02/14/2022</td>\n",
       "      <td>Thomas H Tuberville</td>\n",
       "      <td>Joint</td>\n",
       "      <td>NEE</td>\n",
       "      <td>15001 - 50000</td>\n",
       "      <td>NextEra Energy, Inc. Common Stock</td>\n",
       "      <td>Stock</td>\n",
       "      <td>Sale (Full)</td>\n",
       "      <td>--</td>\n",
       "      <td>...</td>\n",
       "      <td>Employment and Workplace Safety</td>\n",
       "      <td>The Subcommittee Chairman is Senator John Hick...</td>\n",
       "      <td>https://www.help.senate.gov/about/subcommittees</td>\n",
       "      <td>employment and workplace safety the subcommitt...</td>\n",
       "      <td>employment workplace safety subcommittee chair...</td>\n",
       "      <td>SSHR11</td>\n",
       "      <td>Tommy Tuberville</td>\n",
       "      <td>minority</td>\n",
       "      <td>2</td>\n",
       "      <td>T000278</td>\n",
       "    </tr>\n",
       "  </tbody>\n",
       "</table>\n",
       "<p>1 rows × 36 columns</p>\n",
       "</div>"
      ],
      "text/plain": [
       "  transaction_date disclosure_date           politician  owner ticker  \\\n",
       "0       01/14/2022      02/14/2022  Thomas H Tuberville  Joint    NEE   \n",
       "\n",
       "          amount                  asset_description asset_type  \\\n",
       "0  15001 - 50000  NextEra Energy, Inc. Common Stock      Stock   \n",
       "\n",
       "  transaction_type comment  ...               committee_fullname  \\\n",
       "0      Sale (Full)      --  ...  Employment and Workplace Safety   \n",
       "\n",
       "                               committee_description  \\\n",
       "0  The Subcommittee Chairman is Senator John Hick...   \n",
       "\n",
       "                                           website  \\\n",
       "0  https://www.help.senate.gov/about/subcommittees   \n",
       "\n",
       "                              committee_description2  \\\n",
       "0  employment and workplace safety the subcommitt...   \n",
       "\n",
       "                              committee_description3 committee  \\\n",
       "0  employment workplace safety subcommittee chair...    SSHR11   \n",
       "\n",
       "               name     party rank bioguide  \n",
       "0  Tommy Tuberville  minority    2  T000278  \n",
       "\n",
       "[1 rows x 36 columns]"
      ]
     },
     "execution_count": 281,
     "metadata": {},
     "output_type": "execute_result"
    }
   ],
   "source": [
    "edited.head(10)"
   ]
  },
  {
   "cell_type": "code",
   "execution_count": null,
   "id": "9ace26e8",
   "metadata": {},
   "outputs": [],
   "source": []
  },
  {
   "cell_type": "code",
   "execution_count": null,
   "id": "4f376fa1",
   "metadata": {},
   "outputs": [],
   "source": []
  },
  {
   "cell_type": "code",
   "execution_count": 68,
   "id": "eed24238",
   "metadata": {},
   "outputs": [],
   "source": [
    "# drop the rows where member comittee != ticker_comittee\n"
   ]
  },
  {
   "cell_type": "code",
   "execution_count": 69,
   "id": "4efb62d6",
   "metadata": {},
   "outputs": [],
   "source": [
    "# do analysis (edited) "
   ]
  },
  {
   "cell_type": "code",
   "execution_count": null,
   "id": "ef546f00",
   "metadata": {},
   "outputs": [],
   "source": []
  },
  {
   "cell_type": "code",
   "execution_count": null,
   "id": "9398d14b",
   "metadata": {},
   "outputs": [],
   "source": []
  },
  {
   "cell_type": "markdown",
   "id": "11c7e419",
   "metadata": {},
   "source": [
    "-----"
   ]
  },
  {
   "cell_type": "markdown",
   "id": "f02c3b3d",
   "metadata": {},
   "source": [
    "### Fine-tuning the Algorithms"
   ]
  },
  {
   "cell_type": "markdown",
   "id": "57f715a9",
   "metadata": {},
   "source": [
    "Exploring types of algorithms on the columns"
   ]
  },
  {
   "cell_type": "markdown",
   "id": "95140e71",
   "metadata": {},
   "source": [
    "##### Simple Ratios"
   ]
  },
  {
   "cell_type": "code",
   "execution_count": 70,
   "id": "ba2413fe",
   "metadata": {},
   "outputs": [],
   "source": [
    "def similar(a, b):\n",
    "    return SequenceMatcher(None, a, b).ratio()"
   ]
  },
  {
   "cell_type": "code",
   "execution_count": 71,
   "id": "aeafcb68",
   "metadata": {
    "scrolled": true
   },
   "outputs": [
    {
     "data": {
      "text/plain": [
       "0.9090909090909091"
      ]
     },
     "execution_count": 71,
     "metadata": {},
     "output_type": "execute_result"
    }
   ],
   "source": [
    "# high match\n",
    "similar(\"fuzzy wuzzy was a bear\", \"wuzzy fuzzy was a bear\")"
   ]
  },
  {
   "cell_type": "code",
   "execution_count": 72,
   "id": "35e9e0f6",
   "metadata": {},
   "outputs": [
    {
     "data": {
      "text/plain": [
       "0.017437961099932932"
      ]
     },
     "execution_count": 72,
     "metadata": {},
     "output_type": "execute_result"
    }
   ],
   "source": [
    "# should match\n",
    "similar(\"utilities utilities—regulated electric nextera energy inc subsidiaries generates transmits distributes sells electric power retail wholesale customers north america company generates electricity wind solar nuclear fossil fuel coal natural gas facilities also develops constructs operates longterm contracted assets focus renewable generation facilities electric transmission facilities battery storage projects owns develops constructs manages operates electric generation facilities wholesale energy markets december   company operated approximately  megawatts net generating capacity serves approximately  million people approximately  million customer accounts east lower west coasts florida approximately  circuit miles transmission distribution lines  substations company formerly known fpl group inc changed name nextera energy inc  nextera energy inc founded  headquartered juno beach florida\", \"africa global health policy subcommittee deals matters concerning us relations countries africa except like countries north africa specifically covered subcommittees well regional intergovernmental organizations like african union economic community west african states subcommittee’s regional responsibilities include matters within geographic region including matters relating  terrorism nonproliferation  crime illicit narcotics  us foreign assistance programs  promotion us trade exports addition subcommittee global responsibility healthrelated policy including disease outbreak response\")"
   ]
  },
  {
   "cell_type": "code",
   "execution_count": 73,
   "id": "39adcea2",
   "metadata": {},
   "outputs": [
    {
     "data": {
      "text/plain": [
       "0.01625072547881602"
      ]
     },
     "execution_count": 73,
     "metadata": {},
     "output_type": "execute_result"
    }
   ],
   "source": [
    "# should match\n",
    "similar(\"technology consumer electronics apple inc designs manufactures markets smartphones personal computers tablets wearables accessories worldwide also sells various related services addition company offers iphone line smartphones mac line personal computers ipad line multipurpose tablets airpods max overear wireless headphone wearables home accessories comprising airpods apple tv apple watch beats products homepod ipod touch provides applecare support services cloud services store services operates various platforms including app store allow customers discover download applications digital content books music video games podcasts additionally company offers various services apple arcade game subscription service apple music offers users curated listening experience ondemand radio stations apple news subscription news magazine service apple tv offers exclusive original content apple card cobranded credit card apple pay cashless payment service well licenses intellectual property company serves consumers small midsized businesses education enterprise government markets distributes thirdparty applications products app store company also sells products retail online stores direct sales force thirdparty cellular network carriers wholesalers retailers resellers apple inc incorporated  headquartered cupertino california\", \"cybersecurity infrastructure protection innovation cyber security infrastructure protection innovation subcommittee jurisdiction cybersecurity infrastructure security agency cisa science technology directorate focuses efforts advance federal network security improve critical infrastructure security also oversees cisa‚Äôs chemical security programs crosscutting science technology initiatives\")"
   ]
  },
  {
   "cell_type": "code",
   "execution_count": 74,
   "id": "037e08e8",
   "metadata": {},
   "outputs": [
    {
     "data": {
      "text/plain": [
       "0.05188679245283019"
      ]
     },
     "execution_count": 74,
     "metadata": {},
     "output_type": "execute_result"
    }
   ],
   "source": [
    "# should match using industry/sector and committee description\n",
    "similar(\"technology consumer electronics\", \"cybersecurity infrastructure protection innovation cyber security infrastructure protection innovation subcommittee jurisdiction cybersecurity infrastructure security agency cisa science technology directorate focuses efforts advance federal network security improve critical infrastructure security also oversees cisa‚Äôs chemical security programs crosscutting science technology initiatives\")"
   ]
  },
  {
   "cell_type": "code",
   "execution_count": 75,
   "id": "e47d27a5",
   "metadata": {},
   "outputs": [
    {
     "data": {
      "text/plain": [
       "0.005719733079122974"
      ]
     },
     "execution_count": 75,
     "metadata": {},
     "output_type": "execute_result"
    }
   ],
   "source": [
    "# should match using industry/sector and committee description\n",
    "similar(\"utilities utilities—regulated electric\", \"All matters relating to energy research, development, and demonstration projects therefor; commercial application of energy technology; Department of Energy research, development, and demonstration programs; Department of Energy laboratories; Department of Energy science activities; Department of Energy international research, development, and demonstration projects; energy supply activities; nuclear, solar, and renewable energy, and other advanced energy technologies; uranium supply and enrichment, and Department of Energy waste management; Department of Energy environmental management research, development, and demonstration; fossil energy research and development; clean coal technology; energy conservation research and development, including building performance, alternate fuels, distributed power systems, and industrial process improvements; pipeline research, development, and demonstration projects; energy standards; other appropriate matters as referred by the Chair; and relevant oversight.\") "
   ]
  },
  {
   "cell_type": "code",
   "execution_count": 76,
   "id": "1dac1b0c",
   "metadata": {},
   "outputs": [
    {
     "data": {
      "text/plain": [
       "0.015608740894901144"
      ]
     },
     "execution_count": 76,
     "metadata": {},
     "output_type": "execute_result"
    }
   ],
   "source": [
    "# shouldn't match \n",
    "similar(\"technology consumer electronics apple inc designs manufactures markets smartphones personal computers tablets wearables accessories worldwide also sells various related services addition company offers iphone line smartphones mac line personal computers ipad line multipurpose tablets airpods max overear wireless headphone wearables home accessories comprising airpods apple tv apple watch beats products homepod ipod touch provides applecare support services cloud services store services operates various platforms including app store allow customers discover download applications digital content books music video games podcasts additionally company offers various services apple arcade game subscription service apple music offers users curated listening experience ondemand radio stations apple news subscription news magazine service apple tv offers exclusive original content apple card cobranded credit card apple pay cashless payment service well licenses intellectual property company serves consumers small midsized businesses education enterprise government markets distributes thirdparty applications products app store company also sells products retail online stores direct sales force thirdparty cellular network carriers wholesalers retailers resellers apple inc incorporated  headquartered cupertino california\", \"africa global health policy subcommittee deals matters concerning us relations countries africa except like countries north africa specifically covered subcommittees well regional intergovernmental organizations like african union economic community west african states subcommittee’s regional responsibilities include matters within geographic region including matters relating  terrorism nonproliferation  crime illicit narcotics  us foreign assistance programs  promotion us trade exports addition subcommittee global responsibility healthrelated policy including disease outbreak response\")"
   ]
  },
  {
   "cell_type": "code",
   "execution_count": 77,
   "id": "3ba0c4f0",
   "metadata": {},
   "outputs": [],
   "source": [
    "def similar(a,b):\n",
    "    return fuzz.ratio(a, b)"
   ]
  },
  {
   "cell_type": "code",
   "execution_count": 78,
   "id": "6f7298ac",
   "metadata": {
    "scrolled": true
   },
   "outputs": [
    {
     "data": {
      "text/plain": [
       "91"
      ]
     },
     "execution_count": 78,
     "metadata": {},
     "output_type": "execute_result"
    }
   ],
   "source": [
    "# high match\n",
    "similar(\"fuzzy wuzzy was a bear\", \"wuzzy fuzzy was a bear\")"
   ]
  },
  {
   "cell_type": "code",
   "execution_count": 79,
   "id": "dca176d1",
   "metadata": {},
   "outputs": [
    {
     "data": {
      "text/plain": [
       "2"
      ]
     },
     "execution_count": 79,
     "metadata": {},
     "output_type": "execute_result"
    }
   ],
   "source": [
    "# should match\n",
    "similar(\"utilities utilities—regulated electric nextera energy inc subsidiaries generates transmits distributes sells electric power retail wholesale customers north america company generates electricity wind solar nuclear fossil fuel coal natural gas facilities also develops constructs operates longterm contracted assets focus renewable generation facilities electric transmission facilities battery storage projects owns develops constructs manages operates electric generation facilities wholesale energy markets december   company operated approximately  megawatts net generating capacity serves approximately  million people approximately  million customer accounts east lower west coasts florida approximately  circuit miles transmission distribution lines  substations company formerly known fpl group inc changed name nextera energy inc  nextera energy inc founded  headquartered juno beach florida\", \"africa global health policy subcommittee deals matters concerning us relations countries africa except like countries north africa specifically covered subcommittees well regional intergovernmental organizations like african union economic community west african states subcommittee’s regional responsibilities include matters within geographic region including matters relating  terrorism nonproliferation  crime illicit narcotics  us foreign assistance programs  promotion us trade exports addition subcommittee global responsibility healthrelated policy including disease outbreak response\")"
   ]
  },
  {
   "cell_type": "code",
   "execution_count": 80,
   "id": "e4259d57",
   "metadata": {},
   "outputs": [
    {
     "data": {
      "text/plain": [
       "2"
      ]
     },
     "execution_count": 80,
     "metadata": {},
     "output_type": "execute_result"
    }
   ],
   "source": [
    "# should match\n",
    "similar(\"technology consumer electronics apple inc designs manufactures markets smartphones personal computers tablets wearables accessories worldwide also sells various related services addition company offers iphone line smartphones mac line personal computers ipad line multipurpose tablets airpods max overear wireless headphone wearables home accessories comprising airpods apple tv apple watch beats products homepod ipod touch provides applecare support services cloud services store services operates various platforms including app store allow customers discover download applications digital content books music video games podcasts additionally company offers various services apple arcade game subscription service apple music offers users curated listening experience ondemand radio stations apple news subscription news magazine service apple tv offers exclusive original content apple card cobranded credit card apple pay cashless payment service well licenses intellectual property company serves consumers small midsized businesses education enterprise government markets distributes thirdparty applications products app store company also sells products retail online stores direct sales force thirdparty cellular network carriers wholesalers retailers resellers apple inc incorporated  headquartered cupertino california\", \"cybersecurity infrastructure protection innovation cyber security infrastructure protection innovation subcommittee jurisdiction cybersecurity infrastructure security agency cisa science technology directorate focuses efforts advance federal network security improve critical infrastructure security also oversees cisa‚Äôs chemical security programs crosscutting science technology initiatives\")"
   ]
  },
  {
   "cell_type": "code",
   "execution_count": 81,
   "id": "70bff940",
   "metadata": {},
   "outputs": [
    {
     "data": {
      "text/plain": [
       "5"
      ]
     },
     "execution_count": 81,
     "metadata": {},
     "output_type": "execute_result"
    }
   ],
   "source": [
    "# should match\n",
    "similar(\"technology consumer electronics\", \"cybersecurity infrastructure protection innovation cyber security infrastructure protection innovation subcommittee jurisdiction cybersecurity infrastructure security agency cisa science technology directorate focuses efforts advance federal network security improve critical infrastructure security also oversees cisa‚Äôs chemical security programs crosscutting science technology initiatives\")"
   ]
  },
  {
   "cell_type": "code",
   "execution_count": 82,
   "id": "8ee3cec4",
   "metadata": {},
   "outputs": [
    {
     "data": {
      "text/plain": [
       "1"
      ]
     },
     "execution_count": 82,
     "metadata": {},
     "output_type": "execute_result"
    }
   ],
   "source": [
    "# should match\n",
    "similar(\"utilities utilities—regulated electric\", \"All matters relating to energy research, development, and demonstration projects therefor; commercial application of energy technology; Department of Energy research, development, and demonstration programs; Department of Energy laboratories; Department of Energy science activities; Department of Energy international research, development, and demonstration projects; energy supply activities; nuclear, solar, and renewable energy, and other advanced energy technologies; uranium supply and enrichment, and Department of Energy waste management; Department of Energy environmental management research, development, and demonstration; fossil energy research and development; clean coal technology; energy conservation research and development, including building performance, alternate fuels, distributed power systems, and industrial process improvements; pipeline research, development, and demonstration projects; energy standards; other appropriate matters as referred by the Chair; and relevant oversight.\") "
   ]
  },
  {
   "cell_type": "code",
   "execution_count": 83,
   "id": "5f894f9f",
   "metadata": {},
   "outputs": [
    {
     "data": {
      "text/plain": [
       "2"
      ]
     },
     "execution_count": 83,
     "metadata": {},
     "output_type": "execute_result"
    }
   ],
   "source": [
    "# shouldn't match \n",
    "similar(\"technology consumer electronics apple inc designs manufactures markets smartphones personal computers tablets wearables accessories worldwide also sells various related services addition company offers iphone line smartphones mac line personal computers ipad line multipurpose tablets airpods max overear wireless headphone wearables home accessories comprising airpods apple tv apple watch beats products homepod ipod touch provides applecare support services cloud services store services operates various platforms including app store allow customers discover download applications digital content books music video games podcasts additionally company offers various services apple arcade game subscription service apple music offers users curated listening experience ondemand radio stations apple news subscription news magazine service apple tv offers exclusive original content apple card cobranded credit card apple pay cashless payment service well licenses intellectual property company serves consumers small midsized businesses education enterprise government markets distributes thirdparty applications products app store company also sells products retail online stores direct sales force thirdparty cellular network carriers wholesalers retailers resellers apple inc incorporated  headquartered cupertino california\", \"africa global health policy subcommittee deals matters concerning us relations countries africa except like countries north africa specifically covered subcommittees well regional intergovernmental organizations like african union economic community west african states subcommittee’s regional responsibilities include matters within geographic region including matters relating  terrorism nonproliferation  crime illicit narcotics  us foreign assistance programs  promotion us trade exports addition subcommittee global responsibility healthrelated policy including disease outbreak response\")"
   ]
  },
  {
   "cell_type": "code",
   "execution_count": 84,
   "id": "d69cd5cf",
   "metadata": {},
   "outputs": [
    {
     "data": {
      "text/plain": [
       "2"
      ]
     },
     "execution_count": 84,
     "metadata": {},
     "output_type": "execute_result"
    }
   ],
   "source": [
    "# shouldn't match \n",
    "similar(\"technology consumer electronics apple inc designs manufactures markets smartphones personal computers tablets wearables accessories worldwide also sells various related services addition company offers iphone line smartphones mac line personal computers ipad line multipurpose tablets airpods max overear wireless headphone wearables home accessories comprising airpods apple tv apple watch beats products homepod ipod touch provides applecare support services cloud services store services operates various platforms including app store allow customers discover download applications digital content books music video games podcasts additionally company offers various services apple arcade game subscription service apple music offers users curated listening experience ondemand radio stations apple news subscription news magazine service apple tv offers exclusive original content apple card cobranded credit card apple pay cashless payment service well licenses intellectual property company serves consumers small midsized businesses education enterprise government markets distributes thirdparty applications products app store company also sells products retail online stores direct sales force thirdparty cellular network carriers wholesalers retailers resellers apple inc incorporated  headquartered cupertino california\", \"africa global health policy subcommittee deals matters concerning us relations countries africa except like countries north africa specifically covered subcommittees well regional intergovernmental organizations like african union economic community west african states subcommittee’s regional responsibilities include matters within geographic region including matters relating  terrorism nonproliferation  crime illicit narcotics  us foreign assistance programs  promotion us trade exports addition subcommittee global responsibility healthrelated policy including disease outbreak response\")"
   ]
  },
  {
   "cell_type": "code",
   "execution_count": 85,
   "id": "49e403a1",
   "metadata": {},
   "outputs": [],
   "source": [
    "def similar(a,b):\n",
    "    return fuzz.token_set_ratio(a, b)"
   ]
  },
  {
   "cell_type": "code",
   "execution_count": 86,
   "id": "3aaea6fa",
   "metadata": {
    "scrolled": true
   },
   "outputs": [
    {
     "data": {
      "text/plain": [
       "100"
      ]
     },
     "execution_count": 86,
     "metadata": {},
     "output_type": "execute_result"
    }
   ],
   "source": [
    "# high match\n",
    "similar(\"fuzzy wuzzy was a bear\", \"wuzzy fuzzy was a bear\")"
   ]
  },
  {
   "cell_type": "code",
   "execution_count": 87,
   "id": "ef549939",
   "metadata": {},
   "outputs": [
    {
     "data": {
      "text/plain": [
       "4"
      ]
     },
     "execution_count": 87,
     "metadata": {},
     "output_type": "execute_result"
    }
   ],
   "source": [
    "# should match\n",
    "similar(\"utilities utilities—regulated electric nextera energy inc subsidiaries generates transmits distributes sells electric power retail wholesale customers north america company generates electricity wind solar nuclear fossil fuel coal natural gas facilities also develops constructs operates longterm contracted assets focus renewable generation facilities electric transmission facilities battery storage projects owns develops constructs manages operates electric generation facilities wholesale energy markets december   company operated approximately  megawatts net generating capacity serves approximately  million people approximately  million customer accounts east lower west coasts florida approximately  circuit miles transmission distribution lines  substations company formerly known fpl group inc changed name nextera energy inc  nextera energy inc founded  headquartered juno beach florida\", \"africa global health policy subcommittee deals matters concerning us relations countries africa except like countries north africa specifically covered subcommittees well regional intergovernmental organizations like african union economic community west african states subcommittee’s regional responsibilities include matters within geographic region including matters relating  terrorism nonproliferation  crime illicit narcotics  us foreign assistance programs  promotion us trade exports addition subcommittee global responsibility healthrelated policy including disease outbreak response\")"
   ]
  },
  {
   "cell_type": "code",
   "execution_count": 88,
   "id": "8f07c8ed",
   "metadata": {},
   "outputs": [
    {
     "data": {
      "text/plain": [
       "17"
      ]
     },
     "execution_count": 88,
     "metadata": {},
     "output_type": "execute_result"
    }
   ],
   "source": [
    "# should match using industry/sector and committee description\n",
    "similar(\"technology consumer electronics apple inc designs manufactures markets smartphones personal computers tablets wearables accessories worldwide also sells various related services addition company offers iphone line smartphones mac line personal computers ipad line multipurpose tablets airpods max overear wireless headphone wearables home accessories comprising airpods apple tv apple watch beats products homepod ipod touch provides applecare support services cloud services store services operates various platforms including app store allow customers discover download applications digital content books music video games podcasts additionally company offers various services apple arcade game subscription service apple music offers users curated listening experience ondemand radio stations apple news subscription news magazine service apple tv offers exclusive original content apple card cobranded credit card apple pay cashless payment service well licenses intellectual property company serves consumers small midsized businesses education enterprise government markets distributes thirdparty applications products app store company also sells products retail online stores direct sales force thirdparty cellular network carriers wholesalers retailers resellers apple inc incorporated  headquartered cupertino california\", \"cybersecurity infrastructure protection innovation cyber security infrastructure protection innovation subcommittee jurisdiction cybersecurity infrastructure security agency cisa science technology directorate focuses efforts advance federal network security improve critical infrastructure security also oversees cisa‚Äôs chemical security programs crosscutting science technology initiatives\")"
   ]
  },
  {
   "cell_type": "code",
   "execution_count": 89,
   "id": "4f5fa0e7",
   "metadata": {},
   "outputs": [
    {
     "data": {
      "text/plain": [
       "49"
      ]
     },
     "execution_count": 89,
     "metadata": {},
     "output_type": "execute_result"
    }
   ],
   "source": [
    "# should match using industry/sector and committee description\n",
    "similar(\"technology consumer electronics\", \"cybersecurity infrastructure protection innovation cyber security infrastructure protection innovation subcommittee jurisdiction cybersecurity infrastructure security agency cisa science technology directorate focuses efforts advance federal network security improve critical infrastructure security also oversees cisa‚Äôs chemical security programs crosscutting science technology initiatives\")"
   ]
  },
  {
   "cell_type": "code",
   "execution_count": 90,
   "id": "89ad0196",
   "metadata": {},
   "outputs": [
    {
     "data": {
      "text/plain": [
       "0"
      ]
     },
     "execution_count": 90,
     "metadata": {},
     "output_type": "execute_result"
    }
   ],
   "source": [
    "# should match\n",
    "similar(\"utilities utilities—regulated electric\", \"All matters relating to energy research, development, and demonstration projects therefor; commercial application of energy technology; Department of Energy research, development, and demonstration programs; Department of Energy laboratories; Department of Energy science activities; Department of Energy international research, development, and demonstration projects; energy supply activities; nuclear, solar, and renewable energy, and other advanced energy technologies; uranium supply and enrichment, and Department of Energy waste management; Department of Energy environmental management research, development, and demonstration; fossil energy research and development; clean coal technology; energy conservation research and development, including building performance, alternate fuels, distributed power systems, and industrial process improvements; pipeline research, development, and demonstration projects; energy standards; other appropriate matters as referred by the Chair; and relevant oversight.\") "
   ]
  },
  {
   "cell_type": "code",
   "execution_count": 91,
   "id": "3bbd9ed5",
   "metadata": {},
   "outputs": [
    {
     "data": {
      "text/plain": [
       "9"
      ]
     },
     "execution_count": 91,
     "metadata": {},
     "output_type": "execute_result"
    }
   ],
   "source": [
    "# shouldn't match \n",
    "similar(\"technology consumer electronics apple inc designs manufactures markets smartphones personal computers tablets wearables accessories worldwide also sells various related services addition company offers iphone line smartphones mac line personal computers ipad line multipurpose tablets airpods max overear wireless headphone wearables home accessories comprising airpods apple tv apple watch beats products homepod ipod touch provides applecare support services cloud services store services operates various platforms including app store allow customers discover download applications digital content books music video games podcasts additionally company offers various services apple arcade game subscription service apple music offers users curated listening experience ondemand radio stations apple news subscription news magazine service apple tv offers exclusive original content apple card cobranded credit card apple pay cashless payment service well licenses intellectual property company serves consumers small midsized businesses education enterprise government markets distributes thirdparty applications products app store company also sells products retail online stores direct sales force thirdparty cellular network carriers wholesalers retailers resellers apple inc incorporated  headquartered cupertino california\", \"africa global health policy subcommittee deals matters concerning us relations countries africa except like countries north africa specifically covered subcommittees well regional intergovernmental organizations like african union economic community west african states subcommittee’s regional responsibilities include matters within geographic region including matters relating  terrorism nonproliferation  crime illicit narcotics  us foreign assistance programs  promotion us trade exports addition subcommittee global responsibility healthrelated policy including disease outbreak response\")"
   ]
  },
  {
   "cell_type": "markdown",
   "id": "e65d28cf",
   "metadata": {},
   "source": [
    "##### Partial Ratio"
   ]
  },
  {
   "cell_type": "code",
   "execution_count": 92,
   "id": "eab4c7a1",
   "metadata": {},
   "outputs": [],
   "source": [
    "def similar(a,b):\n",
    "    return fuzz.partial_ratio(a, b)"
   ]
  },
  {
   "cell_type": "code",
   "execution_count": 93,
   "id": "b61db4a9",
   "metadata": {
    "scrolled": true
   },
   "outputs": [
    {
     "data": {
      "text/plain": [
       "91"
      ]
     },
     "execution_count": 93,
     "metadata": {},
     "output_type": "execute_result"
    }
   ],
   "source": [
    "# high match\n",
    "similar(\"fuzzy wuzzy was a bear\", \"wuzzy fuzzy was a bear\")"
   ]
  },
  {
   "cell_type": "code",
   "execution_count": 94,
   "id": "14701ac1",
   "metadata": {},
   "outputs": [
    {
     "data": {
      "text/plain": [
       "14"
      ]
     },
     "execution_count": 94,
     "metadata": {},
     "output_type": "execute_result"
    }
   ],
   "source": [
    "# should match\n",
    "similar(\"utilities utilities—regulated electric nextera energy inc subsidiaries generates transmits distributes sells electric power retail wholesale customers north america company generates electricity wind solar nuclear fossil fuel coal natural gas facilities also develops constructs operates longterm contracted assets focus renewable generation facilities electric transmission facilities battery storage projects owns develops constructs manages operates electric generation facilities wholesale energy markets december   company operated approximately  megawatts net generating capacity serves approximately  million people approximately  million customer accounts east lower west coasts florida approximately  circuit miles transmission distribution lines  substations company formerly known fpl group inc changed name nextera energy inc  nextera energy inc founded  headquartered juno beach florida\", \"africa global health policy subcommittee deals matters concerning us relations countries africa except like countries north africa specifically covered subcommittees well regional intergovernmental organizations like african union economic community west african states subcommittee’s regional responsibilities include matters within geographic region including matters relating  terrorism nonproliferation  crime illicit narcotics  us foreign assistance programs  promotion us trade exports addition subcommittee global responsibility healthrelated policy including disease outbreak response\")"
   ]
  },
  {
   "cell_type": "code",
   "execution_count": 95,
   "id": "f4366c53",
   "metadata": {},
   "outputs": [
    {
     "data": {
      "text/plain": [
       "4"
      ]
     },
     "execution_count": 95,
     "metadata": {},
     "output_type": "execute_result"
    }
   ],
   "source": [
    "# should match\n",
    "similar(\"technology consumer electronics apple inc designs manufactures markets smartphones personal computers tablets wearables accessories worldwide also sells various related services addition company offers iphone line smartphones mac line personal computers ipad line multipurpose tablets airpods max overear wireless headphone wearables home accessories comprising airpods apple tv apple watch beats products homepod ipod touch provides applecare support services cloud services store services operates various platforms including app store allow customers discover download applications digital content books music video games podcasts additionally company offers various services apple arcade game subscription service apple music offers users curated listening experience ondemand radio stations apple news subscription news magazine service apple tv offers exclusive original content apple card cobranded credit card apple pay cashless payment service well licenses intellectual property company serves consumers small midsized businesses education enterprise government markets distributes thirdparty applications products app store company also sells products retail online stores direct sales force thirdparty cellular network carriers wholesalers retailers resellers apple inc incorporated  headquartered cupertino california\", \"cybersecurity infrastructure protection innovation cyber security infrastructure protection innovation subcommittee jurisdiction cybersecurity infrastructure security agency cisa science technology directorate focuses efforts advance federal network security improve critical infrastructure security also oversees cisa‚Äôs chemical security programs crosscutting science technology initiatives\")"
   ]
  },
  {
   "cell_type": "markdown",
   "id": "58e40f84",
   "metadata": {},
   "source": [
    "!!!! High ratio with industry/sector and committee description"
   ]
  },
  {
   "cell_type": "code",
   "execution_count": 96,
   "id": "527e4089",
   "metadata": {},
   "outputs": [
    {
     "data": {
      "text/plain": [
       "61"
      ]
     },
     "execution_count": 96,
     "metadata": {},
     "output_type": "execute_result"
    }
   ],
   "source": [
    "# should match using industry/sector and committee description\n",
    "similar(\"technology consumer electronics\", \"cybersecurity infrastructure protection innovation cyber security infrastructure protection innovation subcommittee jurisdiction cybersecurity infrastructure security agency cisa science technology directorate focuses efforts advance federal network security improve critical infrastructure security also oversees cisa‚Äôs chemical security programs crosscutting science technology initiatives\")"
   ]
  },
  {
   "cell_type": "code",
   "execution_count": 97,
   "id": "d4f551c7",
   "metadata": {},
   "outputs": [
    {
     "data": {
      "text/plain": [
       "45"
      ]
     },
     "execution_count": 97,
     "metadata": {},
     "output_type": "execute_result"
    }
   ],
   "source": [
    "# should match using industry/sector and committee description\n",
    "similar(\"utilities utilities—regulated electric\", \"All matters relating to energy research, development, and demonstration projects therefor; commercial application of energy technology; Department of Energy research, development, and demonstration programs; Department of Energy laboratories; Department of Energy science activities; Department of Energy international research, development, and demonstration projects; energy supply activities; nuclear, solar, and renewable energy, and other advanced energy technologies; uranium supply and enrichment, and Department of Energy waste management; Department of Energy environmental management research, development, and demonstration; fossil energy research and development; clean coal technology; energy conservation research and development, including building performance, alternate fuels, distributed power systems, and industrial process improvements; pipeline research, development, and demonstration projects; energy standards; other appropriate matters as referred by the Chair; and relevant oversight.\") "
   ]
  },
  {
   "cell_type": "code",
   "execution_count": 98,
   "id": "6882b4be",
   "metadata": {},
   "outputs": [
    {
     "data": {
      "text/plain": [
       "18"
      ]
     },
     "execution_count": 98,
     "metadata": {},
     "output_type": "execute_result"
    }
   ],
   "source": [
    "# shouldn't match \n",
    "similar(\"technology consumer electronics apple inc designs manufactures markets smartphones personal computers tablets wearables accessories worldwide also sells various related services addition company offers iphone line smartphones mac line personal computers ipad line multipurpose tablets airpods max overear wireless headphone wearables home accessories comprising airpods apple tv apple watch beats products homepod ipod touch provides applecare support services cloud services store services operates various platforms including app store allow customers discover download applications digital content books music video games podcasts additionally company offers various services apple arcade game subscription service apple music offers users curated listening experience ondemand radio stations apple news subscription news magazine service apple tv offers exclusive original content apple card cobranded credit card apple pay cashless payment service well licenses intellectual property company serves consumers small midsized businesses education enterprise government markets distributes thirdparty applications products app store company also sells products retail online stores direct sales force thirdparty cellular network carriers wholesalers retailers resellers apple inc incorporated  headquartered cupertino california\", \"africa global health policy subcommittee deals matters concerning us relations countries africa except like countries north africa specifically covered subcommittees well regional intergovernmental organizations like african union economic community west african states subcommittee’s regional responsibilities include matters within geographic region including matters relating  terrorism nonproliferation  crime illicit narcotics  us foreign assistance programs  promotion us trade exports addition subcommittee global responsibility healthrelated policy including disease outbreak response\")"
   ]
  },
  {
   "cell_type": "markdown",
   "id": "0c0394d5",
   "metadata": {},
   "source": [
    "##### Token Sort Ratio"
   ]
  },
  {
   "cell_type": "code",
   "execution_count": 99,
   "id": "3d522304",
   "metadata": {},
   "outputs": [],
   "source": [
    "def similar(a,b):\n",
    "    return fuzz.token_sort_ratio(a, b)"
   ]
  },
  {
   "cell_type": "code",
   "execution_count": 100,
   "id": "2cce65fb",
   "metadata": {
    "scrolled": true
   },
   "outputs": [
    {
     "data": {
      "text/plain": [
       "100"
      ]
     },
     "execution_count": 100,
     "metadata": {},
     "output_type": "execute_result"
    }
   ],
   "source": [
    "# high match\n",
    "similar(\"fuzzy wuzzy was a bear\", \"wuzzy fuzzy was a bear\")"
   ]
  },
  {
   "cell_type": "code",
   "execution_count": 101,
   "id": "90b152c0",
   "metadata": {},
   "outputs": [
    {
     "data": {
      "text/plain": [
       "2"
      ]
     },
     "execution_count": 101,
     "metadata": {},
     "output_type": "execute_result"
    }
   ],
   "source": [
    "# should match\n",
    "similar(\"utilities utilities—regulated electric nextera energy inc subsidiaries generates transmits distributes sells electric power retail wholesale customers north america company generates electricity wind solar nuclear fossil fuel coal natural gas facilities also develops constructs operates longterm contracted assets focus renewable generation facilities electric transmission facilities battery storage projects owns develops constructs manages operates electric generation facilities wholesale energy markets december   company operated approximately  megawatts net generating capacity serves approximately  million people approximately  million customer accounts east lower west coasts florida approximately  circuit miles transmission distribution lines  substations company formerly known fpl group inc changed name nextera energy inc  nextera energy inc founded  headquartered juno beach florida\", \"africa global health policy subcommittee deals matters concerning us relations countries africa except like countries north africa specifically covered subcommittees well regional intergovernmental organizations like african union economic community west african states subcommittee’s regional responsibilities include matters within geographic region including matters relating  terrorism nonproliferation  crime illicit narcotics  us foreign assistance programs  promotion us trade exports addition subcommittee global responsibility healthrelated policy including disease outbreak response\")"
   ]
  },
  {
   "cell_type": "code",
   "execution_count": 102,
   "id": "c11ab93a",
   "metadata": {},
   "outputs": [
    {
     "data": {
      "text/plain": [
       "2"
      ]
     },
     "execution_count": 102,
     "metadata": {},
     "output_type": "execute_result"
    }
   ],
   "source": [
    "# should match\n",
    "similar(\"technology consumer electronics apple inc designs manufactures markets smartphones personal computers tablets wearables accessories worldwide also sells various related services addition company offers iphone line smartphones mac line personal computers ipad line multipurpose tablets airpods max overear wireless headphone wearables home accessories comprising airpods apple tv apple watch beats products homepod ipod touch provides applecare support services cloud services store services operates various platforms including app store allow customers discover download applications digital content books music video games podcasts additionally company offers various services apple arcade game subscription service apple music offers users curated listening experience ondemand radio stations apple news subscription news magazine service apple tv offers exclusive original content apple card cobranded credit card apple pay cashless payment service well licenses intellectual property company serves consumers small midsized businesses education enterprise government markets distributes thirdparty applications products app store company also sells products retail online stores direct sales force thirdparty cellular network carriers wholesalers retailers resellers apple inc incorporated  headquartered cupertino california\", \"cybersecurity infrastructure protection innovation cyber security infrastructure protection innovation subcommittee jurisdiction cybersecurity infrastructure security agency cisa science technology directorate focuses efforts advance federal network security improve critical infrastructure security also oversees cisa‚Äôs chemical security programs crosscutting science technology initiatives\")"
   ]
  },
  {
   "cell_type": "code",
   "execution_count": 103,
   "id": "73e4c478",
   "metadata": {},
   "outputs": [
    {
     "data": {
      "text/plain": [
       "1"
      ]
     },
     "execution_count": 103,
     "metadata": {},
     "output_type": "execute_result"
    }
   ],
   "source": [
    "# should match\n",
    "similar(\"technology consumer electronics\", \"cybersecurity infrastructure protection innovation cyber security infrastructure protection innovation subcommittee jurisdiction cybersecurity infrastructure security agency cisa science technology directorate focuses efforts advance federal network security improve critical infrastructure security also oversees cisa‚Äôs chemical security programs crosscutting science technology initiatives\")"
   ]
  },
  {
   "cell_type": "code",
   "execution_count": 104,
   "id": "040b2cdb",
   "metadata": {},
   "outputs": [
    {
     "data": {
      "text/plain": [
       "1"
      ]
     },
     "execution_count": 104,
     "metadata": {},
     "output_type": "execute_result"
    }
   ],
   "source": [
    "# should match\n",
    "similar(\"utilities utilities—regulated electric\", \"All matters relating to energy research, development, and demonstration projects therefor; commercial application of energy technology; Department of Energy research, development, and demonstration programs; Department of Energy laboratories; Department of Energy science activities; Department of Energy international research, development, and demonstration projects; energy supply activities; nuclear, solar, and renewable energy, and other advanced energy technologies; uranium supply and enrichment, and Department of Energy waste management; Department of Energy environmental management research, development, and demonstration; fossil energy research and development; clean coal technology; energy conservation research and development, including building performance, alternate fuels, distributed power systems, and industrial process improvements; pipeline research, development, and demonstration projects; energy standards; other appropriate matters as referred by the Chair; and relevant oversight.\") "
   ]
  },
  {
   "cell_type": "code",
   "execution_count": 105,
   "id": "cf8754a2",
   "metadata": {},
   "outputs": [
    {
     "data": {
      "text/plain": [
       "1"
      ]
     },
     "execution_count": 105,
     "metadata": {},
     "output_type": "execute_result"
    }
   ],
   "source": [
    "# shouldn't match \n",
    "similar(\"technology consumer electronics apple inc designs manufactures markets smartphones personal computers tablets wearables accessories worldwide also sells various related services addition company offers iphone line smartphones mac line personal computers ipad line multipurpose tablets airpods max overear wireless headphone wearables home accessories comprising airpods apple tv apple watch beats products homepod ipod touch provides applecare support services cloud services store services operates various platforms including app store allow customers discover download applications digital content books music video games podcasts additionally company offers various services apple arcade game subscription service apple music offers users curated listening experience ondemand radio stations apple news subscription news magazine service apple tv offers exclusive original content apple card cobranded credit card apple pay cashless payment service well licenses intellectual property company serves consumers small midsized businesses education enterprise government markets distributes thirdparty applications products app store company also sells products retail online stores direct sales force thirdparty cellular network carriers wholesalers retailers resellers apple inc incorporated  headquartered cupertino california\", \"africa global health policy subcommittee deals matters concerning us relations countries africa except like countries north africa specifically covered subcommittees well regional intergovernmental organizations like african union economic community west african states subcommittee’s regional responsibilities include matters within geographic region including matters relating  terrorism nonproliferation  crime illicit narcotics  us foreign assistance programs  promotion us trade exports addition subcommittee global responsibility healthrelated policy including disease outbreak response\")"
   ]
  },
  {
   "cell_type": "markdown",
   "id": "0316fa80",
   "metadata": {},
   "source": [
    "##### Token Set"
   ]
  },
  {
   "cell_type": "code",
   "execution_count": 106,
   "id": "9cce801c",
   "metadata": {},
   "outputs": [],
   "source": [
    "def similar(a,b):\n",
    "    return fuzz.token_set_ratio(a, b)"
   ]
  },
  {
   "cell_type": "code",
   "execution_count": 107,
   "id": "58a99382",
   "metadata": {
    "scrolled": true
   },
   "outputs": [
    {
     "data": {
      "text/plain": [
       "100"
      ]
     },
     "execution_count": 107,
     "metadata": {},
     "output_type": "execute_result"
    }
   ],
   "source": [
    "# high match\n",
    "similar(\"fuzzy wuzzy was a bear\", \"wuzzy fuzzy was a bear\")"
   ]
  },
  {
   "cell_type": "code",
   "execution_count": 108,
   "id": "e5fc116f",
   "metadata": {},
   "outputs": [
    {
     "data": {
      "text/plain": [
       "4"
      ]
     },
     "execution_count": 108,
     "metadata": {},
     "output_type": "execute_result"
    }
   ],
   "source": [
    "# should match\n",
    "similar(\"utilities utilities—regulated electric nextera energy inc subsidiaries generates transmits distributes sells electric power retail wholesale customers north america company generates electricity wind solar nuclear fossil fuel coal natural gas facilities also develops constructs operates longterm contracted assets focus renewable generation facilities electric transmission facilities battery storage projects owns develops constructs manages operates electric generation facilities wholesale energy markets december   company operated approximately  megawatts net generating capacity serves approximately  million people approximately  million customer accounts east lower west coasts florida approximately  circuit miles transmission distribution lines  substations company formerly known fpl group inc changed name nextera energy inc  nextera energy inc founded  headquartered juno beach florida\", \"africa global health policy subcommittee deals matters concerning us relations countries africa except like countries north africa specifically covered subcommittees well regional intergovernmental organizations like african union economic community west african states subcommittee’s regional responsibilities include matters within geographic region including matters relating  terrorism nonproliferation  crime illicit narcotics  us foreign assistance programs  promotion us trade exports addition subcommittee global responsibility healthrelated policy including disease outbreak response\")"
   ]
  },
  {
   "cell_type": "code",
   "execution_count": 109,
   "id": "34784fdf",
   "metadata": {},
   "outputs": [
    {
     "data": {
      "text/plain": [
       "17"
      ]
     },
     "execution_count": 109,
     "metadata": {},
     "output_type": "execute_result"
    }
   ],
   "source": [
    "# should match\n",
    "similar(\"technology consumer electronics apple inc designs manufactures markets smartphones personal computers tablets wearables accessories worldwide also sells various related services addition company offers iphone line smartphones mac line personal computers ipad line multipurpose tablets airpods max overear wireless headphone wearables home accessories comprising airpods apple tv apple watch beats products homepod ipod touch provides applecare support services cloud services store services operates various platforms including app store allow customers discover download applications digital content books music video games podcasts additionally company offers various services apple arcade game subscription service apple music offers users curated listening experience ondemand radio stations apple news subscription news magazine service apple tv offers exclusive original content apple card cobranded credit card apple pay cashless payment service well licenses intellectual property company serves consumers small midsized businesses education enterprise government markets distributes thirdparty applications products app store company also sells products retail online stores direct sales force thirdparty cellular network carriers wholesalers retailers resellers apple inc incorporated  headquartered cupertino california\", \"cybersecurity infrastructure protection innovation cyber security infrastructure protection innovation subcommittee jurisdiction cybersecurity infrastructure security agency cisa science technology directorate focuses efforts advance federal network security improve critical infrastructure security also oversees cisa‚Äôs chemical security programs crosscutting science technology initiatives\")"
   ]
  },
  {
   "cell_type": "code",
   "execution_count": 110,
   "id": "3e619d85",
   "metadata": {},
   "outputs": [
    {
     "data": {
      "text/plain": [
       "49"
      ]
     },
     "execution_count": 110,
     "metadata": {},
     "output_type": "execute_result"
    }
   ],
   "source": [
    "# should match\n",
    "similar(\"technology consumer electronics\", \"cybersecurity infrastructure protection innovation cyber security infrastructure protection innovation subcommittee jurisdiction cybersecurity infrastructure security agency cisa science technology directorate focuses efforts advance federal network security improve critical infrastructure security also oversees cisa‚Äôs chemical security programs crosscutting science technology initiatives\")"
   ]
  },
  {
   "cell_type": "code",
   "execution_count": 111,
   "id": "954efdc8",
   "metadata": {},
   "outputs": [
    {
     "data": {
      "text/plain": [
       "0"
      ]
     },
     "execution_count": 111,
     "metadata": {},
     "output_type": "execute_result"
    }
   ],
   "source": [
    "# should match\n",
    "similar(\"utilities utilities—regulated electric\", \"All matters relating to energy research, development, and demonstration projects therefor; commercial application of energy technology; Department of Energy research, development, and demonstration programs; Department of Energy laboratories; Department of Energy science activities; Department of Energy international research, development, and demonstration projects; energy supply activities; nuclear, solar, and renewable energy, and other advanced energy technologies; uranium supply and enrichment, and Department of Energy waste management; Department of Energy environmental management research, development, and demonstration; fossil energy research and development; clean coal technology; energy conservation research and development, including building performance, alternate fuels, distributed power systems, and industrial process improvements; pipeline research, development, and demonstration projects; energy standards; other appropriate matters as referred by the Chair; and relevant oversight.\") "
   ]
  },
  {
   "cell_type": "code",
   "execution_count": 112,
   "id": "8bd7d97d",
   "metadata": {},
   "outputs": [
    {
     "data": {
      "text/plain": [
       "9"
      ]
     },
     "execution_count": 112,
     "metadata": {},
     "output_type": "execute_result"
    }
   ],
   "source": [
    "# shouldn't match \n",
    "similar(\"technology consumer electronics apple inc designs manufactures markets smartphones personal computers tablets wearables accessories worldwide also sells various related services addition company offers iphone line smartphones mac line personal computers ipad line multipurpose tablets airpods max overear wireless headphone wearables home accessories comprising airpods apple tv apple watch beats products homepod ipod touch provides applecare support services cloud services store services operates various platforms including app store allow customers discover download applications digital content books music video games podcasts additionally company offers various services apple arcade game subscription service apple music offers users curated listening experience ondemand radio stations apple news subscription news magazine service apple tv offers exclusive original content apple card cobranded credit card apple pay cashless payment service well licenses intellectual property company serves consumers small midsized businesses education enterprise government markets distributes thirdparty applications products app store company also sells products retail online stores direct sales force thirdparty cellular network carriers wholesalers retailers resellers apple inc incorporated  headquartered cupertino california\", \"africa global health policy subcommittee deals matters concerning us relations countries africa except like countries north africa specifically covered subcommittees well regional intergovernmental organizations like african union economic community west african states subcommittee’s regional responsibilities include matters within geographic region including matters relating  terrorism nonproliferation  crime illicit narcotics  us foreign assistance programs  promotion us trade exports addition subcommittee global responsibility healthrelated policy including disease outbreak response\")"
   ]
  },
  {
   "cell_type": "markdown",
   "id": "0bf3e0d2",
   "metadata": {},
   "source": [
    "##### Hamming Distance (finding the places where the strings vary)"
   ]
  },
  {
   "cell_type": "code",
   "execution_count": 113,
   "id": "39edce74",
   "metadata": {},
   "outputs": [
    {
     "data": {
      "text/plain": [
       "0.4"
      ]
     },
     "execution_count": 113,
     "metadata": {},
     "output_type": "execute_result"
    }
   ],
   "source": [
    "textdistance.hamming.normalized_similarity('arrow', 'arow')"
   ]
  },
  {
   "cell_type": "code",
   "execution_count": 114,
   "id": "15086136",
   "metadata": {},
   "outputs": [],
   "source": [
    "#the edit distance is 1 for only the difference being one letter different\n",
    "def similar(a,b):\n",
    "    return textdistance.hamming(a, b)"
   ]
  },
  {
   "cell_type": "code",
   "execution_count": 115,
   "id": "bee6830c",
   "metadata": {
    "scrolled": true
   },
   "outputs": [
    {
     "data": {
      "text/plain": [
       "2"
      ]
     },
     "execution_count": 115,
     "metadata": {},
     "output_type": "execute_result"
    }
   ],
   "source": [
    "# high match\n",
    "similar(\"fuzzy wuzzy was a bear\", \"wuzzy fuzzy was a bear\")"
   ]
  },
  {
   "cell_type": "code",
   "execution_count": 116,
   "id": "3de10062",
   "metadata": {},
   "outputs": [
    {
     "data": {
      "text/plain": [
       "855"
      ]
     },
     "execution_count": 116,
     "metadata": {},
     "output_type": "execute_result"
    }
   ],
   "source": [
    "# should match\n",
    "similar(\"utilities utilities—regulated electric nextera energy inc subsidiaries generates transmits distributes sells electric power retail wholesale customers north america company generates electricity wind solar nuclear fossil fuel coal natural gas facilities also develops constructs operates longterm contracted assets focus renewable generation facilities electric transmission facilities battery storage projects owns develops constructs manages operates electric generation facilities wholesale energy markets december   company operated approximately  megawatts net generating capacity serves approximately  million people approximately  million customer accounts east lower west coasts florida approximately  circuit miles transmission distribution lines  substations company formerly known fpl group inc changed name nextera energy inc  nextera energy inc founded  headquartered juno beach florida\", \"africa global health policy subcommittee deals matters concerning us relations countries africa except like countries north africa specifically covered subcommittees well regional intergovernmental organizations like african union economic community west african states subcommittee’s regional responsibilities include matters within geographic region including matters relating  terrorism nonproliferation  crime illicit narcotics  us foreign assistance programs  promotion us trade exports addition subcommittee global responsibility healthrelated policy including disease outbreak response\")"
   ]
  },
  {
   "cell_type": "code",
   "execution_count": 117,
   "id": "3092da18",
   "metadata": {},
   "outputs": [
    {
     "data": {
      "text/plain": [
       "1305"
      ]
     },
     "execution_count": 117,
     "metadata": {},
     "output_type": "execute_result"
    }
   ],
   "source": [
    "# should match\n",
    "similar(\"technology consumer electronics apple inc designs manufactures markets smartphones personal computers tablets wearables accessories worldwide also sells various related services addition company offers iphone line smartphones mac line personal computers ipad line multipurpose tablets airpods max overear wireless headphone wearables home accessories comprising airpods apple tv apple watch beats products homepod ipod touch provides applecare support services cloud services store services operates various platforms including app store allow customers discover download applications digital content books music video games podcasts additionally company offers various services apple arcade game subscription service apple music offers users curated listening experience ondemand radio stations apple news subscription news magazine service apple tv offers exclusive original content apple card cobranded credit card apple pay cashless payment service well licenses intellectual property company serves consumers small midsized businesses education enterprise government markets distributes thirdparty applications products app store company also sells products retail online stores direct sales force thirdparty cellular network carriers wholesalers retailers resellers apple inc incorporated  headquartered cupertino california\", \"cybersecurity infrastructure protection innovation cyber security infrastructure protection innovation subcommittee jurisdiction cybersecurity infrastructure security agency cisa science technology directorate focuses efforts advance federal network security improve critical infrastructure security also oversees cisa‚Äôs chemical security programs crosscutting science technology initiatives\")"
   ]
  },
  {
   "cell_type": "code",
   "execution_count": 118,
   "id": "4afec7d8",
   "metadata": {},
   "outputs": [
    {
     "data": {
      "text/plain": [
       "391"
      ]
     },
     "execution_count": 118,
     "metadata": {},
     "output_type": "execute_result"
    }
   ],
   "source": [
    "# should match\n",
    "similar(\"technology consumer electronics\", \"cybersecurity infrastructure protection innovation cyber security infrastructure protection innovation subcommittee jurisdiction cybersecurity infrastructure security agency cisa science technology directorate focuses efforts advance federal network security improve critical infrastructure security also oversees cisa‚Äôs chemical security programs crosscutting science technology initiatives\")"
   ]
  },
  {
   "cell_type": "code",
   "execution_count": 119,
   "id": "eb79c597",
   "metadata": {},
   "outputs": [
    {
     "data": {
      "text/plain": [
       "1009"
      ]
     },
     "execution_count": 119,
     "metadata": {},
     "output_type": "execute_result"
    }
   ],
   "source": [
    "# should match\n",
    "similar(\"utilities utilities—regulated electric\", \"All matters relating to energy research, development, and demonstration projects therefor; commercial application of energy technology; Department of Energy research, development, and demonstration programs; Department of Energy laboratories; Department of Energy science activities; Department of Energy international research, development, and demonstration projects; energy supply activities; nuclear, solar, and renewable energy, and other advanced energy technologies; uranium supply and enrichment, and Department of Energy waste management; Department of Energy environmental management research, development, and demonstration; fossil energy research and development; clean coal technology; energy conservation research and development, including building performance, alternate fuels, distributed power systems, and industrial process improvements; pipeline research, development, and demonstration projects; energy standards; other appropriate matters as referred by the Chair; and relevant oversight.\") "
   ]
  },
  {
   "cell_type": "code",
   "execution_count": 120,
   "id": "75fe4d54",
   "metadata": {},
   "outputs": [
    {
     "data": {
      "text/plain": [
       "1295"
      ]
     },
     "execution_count": 120,
     "metadata": {},
     "output_type": "execute_result"
    }
   ],
   "source": [
    "# shouldn't match \n",
    "similar(\"technology consumer electronics apple inc designs manufactures markets smartphones personal computers tablets wearables accessories worldwide also sells various related services addition company offers iphone line smartphones mac line personal computers ipad line multipurpose tablets airpods max overear wireless headphone wearables home accessories comprising airpods apple tv apple watch beats products homepod ipod touch provides applecare support services cloud services store services operates various platforms including app store allow customers discover download applications digital content books music video games podcasts additionally company offers various services apple arcade game subscription service apple music offers users curated listening experience ondemand radio stations apple news subscription news magazine service apple tv offers exclusive original content apple card cobranded credit card apple pay cashless payment service well licenses intellectual property company serves consumers small midsized businesses education enterprise government markets distributes thirdparty applications products app store company also sells products retail online stores direct sales force thirdparty cellular network carriers wholesalers retailers resellers apple inc incorporated  headquartered cupertino california\", \"africa global health policy subcommittee deals matters concerning us relations countries africa except like countries north africa specifically covered subcommittees well regional intergovernmental organizations like african union economic community west african states subcommittee’s regional responsibilities include matters within geographic region including matters relating  terrorism nonproliferation  crime illicit narcotics  us foreign assistance programs  promotion us trade exports addition subcommittee global responsibility healthrelated policy including disease outbreak response\")"
   ]
  },
  {
   "cell_type": "code",
   "execution_count": 121,
   "id": "9d54003b",
   "metadata": {},
   "outputs": [],
   "source": [
    "#75% similar between text and test\n",
    "def similar(a,b):\n",
    "    return textdistance.hamming.normalized_similarity(a, b)"
   ]
  },
  {
   "cell_type": "code",
   "execution_count": 122,
   "id": "233c0abf",
   "metadata": {
    "scrolled": true
   },
   "outputs": [
    {
     "data": {
      "text/plain": [
       "0.9090909090909091"
      ]
     },
     "execution_count": 122,
     "metadata": {},
     "output_type": "execute_result"
    }
   ],
   "source": [
    "# high match\n",
    "similar(\"fuzzy wuzzy was a bear\", \"wuzzy fuzzy was a bear\")"
   ]
  },
  {
   "cell_type": "code",
   "execution_count": 123,
   "id": "651ad031",
   "metadata": {},
   "outputs": [
    {
     "data": {
      "text/plain": [
       "0.04894327030033374"
      ]
     },
     "execution_count": 123,
     "metadata": {},
     "output_type": "execute_result"
    }
   ],
   "source": [
    "# should match\n",
    "similar(\"utilities utilities—regulated electric nextera energy inc subsidiaries generates transmits distributes sells electric power retail wholesale customers north america company generates electricity wind solar nuclear fossil fuel coal natural gas facilities also develops constructs operates longterm contracted assets focus renewable generation facilities electric transmission facilities battery storage projects owns develops constructs manages operates electric generation facilities wholesale energy markets december   company operated approximately  megawatts net generating capacity serves approximately  million people approximately  million customer accounts east lower west coasts florida approximately  circuit miles transmission distribution lines  substations company formerly known fpl group inc changed name nextera energy inc  nextera energy inc founded  headquartered juno beach florida\", \"africa global health policy subcommittee deals matters concerning us relations countries africa except like countries north africa specifically covered subcommittees well regional intergovernmental organizations like african union economic community west african states subcommittee’s regional responsibilities include matters within geographic region including matters relating  terrorism nonproliferation  crime illicit narcotics  us foreign assistance programs  promotion us trade exports addition subcommittee global responsibility healthrelated policy including disease outbreak response\")"
   ]
  },
  {
   "cell_type": "code",
   "execution_count": 124,
   "id": "11f6eb8f",
   "metadata": {},
   "outputs": [
    {
     "data": {
      "text/plain": [
       "0.018796992481203034"
      ]
     },
     "execution_count": 124,
     "metadata": {},
     "output_type": "execute_result"
    }
   ],
   "source": [
    "# should match\n",
    "similar(\"technology consumer electronics apple inc designs manufactures markets smartphones personal computers tablets wearables accessories worldwide also sells various related services addition company offers iphone line smartphones mac line personal computers ipad line multipurpose tablets airpods max overear wireless headphone wearables home accessories comprising airpods apple tv apple watch beats products homepod ipod touch provides applecare support services cloud services store services operates various platforms including app store allow customers discover download applications digital content books music video games podcasts additionally company offers various services apple arcade game subscription service apple music offers users curated listening experience ondemand radio stations apple news subscription news magazine service apple tv offers exclusive original content apple card cobranded credit card apple pay cashless payment service well licenses intellectual property company serves consumers small midsized businesses education enterprise government markets distributes thirdparty applications products app store company also sells products retail online stores direct sales force thirdparty cellular network carriers wholesalers retailers resellers apple inc incorporated  headquartered cupertino california\", \"cybersecurity infrastructure protection innovation cyber security infrastructure protection innovation subcommittee jurisdiction cybersecurity infrastructure security agency cisa science technology directorate focuses efforts advance federal network security improve critical infrastructure security also oversees cisa‚Äôs chemical security programs crosscutting science technology initiatives\")"
   ]
  },
  {
   "cell_type": "code",
   "execution_count": 125,
   "id": "340388f0",
   "metadata": {},
   "outputs": [
    {
     "data": {
      "text/plain": [
       "0.0050890585241730735"
      ]
     },
     "execution_count": 125,
     "metadata": {},
     "output_type": "execute_result"
    }
   ],
   "source": [
    "# should match\n",
    "similar(\"technology consumer electronics\", \"cybersecurity infrastructure protection innovation cyber security infrastructure protection innovation subcommittee jurisdiction cybersecurity infrastructure security agency cisa science technology directorate focuses efforts advance federal network security improve critical infrastructure security also oversees cisa‚Äôs chemical security programs crosscutting science technology initiatives\")"
   ]
  },
  {
   "cell_type": "code",
   "execution_count": 126,
   "id": "88ec2727",
   "metadata": {},
   "outputs": [
    {
     "data": {
      "text/plain": [
       "0.001978239366963397"
      ]
     },
     "execution_count": 126,
     "metadata": {},
     "output_type": "execute_result"
    }
   ],
   "source": [
    "# should match\n",
    "similar(\"utilities utilities—regulated electric\", \"All matters relating to energy research, development, and demonstration projects therefor; commercial application of energy technology; Department of Energy research, development, and demonstration programs; Department of Energy laboratories; Department of Energy science activities; Department of Energy international research, development, and demonstration projects; energy supply activities; nuclear, solar, and renewable energy, and other advanced energy technologies; uranium supply and enrichment, and Department of Energy waste management; Department of Energy environmental management research, development, and demonstration; fossil energy research and development; clean coal technology; energy conservation research and development, including building performance, alternate fuels, distributed power systems, and industrial process improvements; pipeline research, development, and demonstration projects; energy standards; other appropriate matters as referred by the Chair; and relevant oversight.\") "
   ]
  },
  {
   "cell_type": "code",
   "execution_count": 127,
   "id": "04fa8a7b",
   "metadata": {},
   "outputs": [
    {
     "data": {
      "text/plain": [
       "0.02631578947368418"
      ]
     },
     "execution_count": 127,
     "metadata": {},
     "output_type": "execute_result"
    }
   ],
   "source": [
    "# shouldn't match \n",
    "similar(\"technology consumer electronics apple inc designs manufactures markets smartphones personal computers tablets wearables accessories worldwide also sells various related services addition company offers iphone line smartphones mac line personal computers ipad line multipurpose tablets airpods max overear wireless headphone wearables home accessories comprising airpods apple tv apple watch beats products homepod ipod touch provides applecare support services cloud services store services operates various platforms including app store allow customers discover download applications digital content books music video games podcasts additionally company offers various services apple arcade game subscription service apple music offers users curated listening experience ondemand radio stations apple news subscription news magazine service apple tv offers exclusive original content apple card cobranded credit card apple pay cashless payment service well licenses intellectual property company serves consumers small midsized businesses education enterprise government markets distributes thirdparty applications products app store company also sells products retail online stores direct sales force thirdparty cellular network carriers wholesalers retailers resellers apple inc incorporated  headquartered cupertino california\", \"africa global health policy subcommittee deals matters concerning us relations countries africa except like countries north africa specifically covered subcommittees well regional intergovernmental organizations like african union economic community west african states subcommittee’s regional responsibilities include matters within geographic region including matters relating  terrorism nonproliferation  crime illicit narcotics  us foreign assistance programs  promotion us trade exports addition subcommittee global responsibility healthrelated policy including disease outbreak response\")"
   ]
  },
  {
   "cell_type": "markdown",
   "id": "00f55064",
   "metadata": {},
   "source": [
    "##### Levenshtein Distance"
   ]
  },
  {
   "cell_type": "code",
   "execution_count": 128,
   "id": "bf9f4bcb",
   "metadata": {},
   "outputs": [
    {
     "data": {
      "text/plain": [
       "1"
      ]
     },
     "execution_count": 128,
     "metadata": {},
     "output_type": "execute_result"
    }
   ],
   "source": [
    "#number of edits it will take to transform one to the other\n",
    "textdistance.levenshtein('arrow', 'arow')"
   ]
  },
  {
   "cell_type": "code",
   "execution_count": 129,
   "id": "303d7120",
   "metadata": {},
   "outputs": [],
   "source": [
    "#number of edits it will take to transform one to the other\n",
    "def similar(a,b):\n",
    "    return textdistance.levenshtein(a, b)"
   ]
  },
  {
   "cell_type": "code",
   "execution_count": 130,
   "id": "b40e8249",
   "metadata": {
    "scrolled": true
   },
   "outputs": [
    {
     "data": {
      "text/plain": [
       "2"
      ]
     },
     "execution_count": 130,
     "metadata": {},
     "output_type": "execute_result"
    }
   ],
   "source": [
    "# high match\n",
    "similar(\"fuzzy wuzzy was a bear\", \"wuzzy fuzzy was a bear\")"
   ]
  },
  {
   "cell_type": "code",
   "execution_count": 131,
   "id": "770131d2",
   "metadata": {},
   "outputs": [
    {
     "data": {
      "text/plain": [
       "639"
      ]
     },
     "execution_count": 131,
     "metadata": {},
     "output_type": "execute_result"
    }
   ],
   "source": [
    "# should match\n",
    "similar(\"utilities utilities—regulated electric nextera energy inc subsidiaries generates transmits distributes sells electric power retail wholesale customers north america company generates electricity wind solar nuclear fossil fuel coal natural gas facilities also develops constructs operates longterm contracted assets focus renewable generation facilities electric transmission facilities battery storage projects owns develops constructs manages operates electric generation facilities wholesale energy markets december   company operated approximately  megawatts net generating capacity serves approximately  million people approximately  million customer accounts east lower west coasts florida approximately  circuit miles transmission distribution lines  substations company formerly known fpl group inc changed name nextera energy inc  nextera energy inc founded  headquartered juno beach florida\", \"africa global health policy subcommittee deals matters concerning us relations countries africa except like countries north africa specifically covered subcommittees well regional intergovernmental organizations like african union economic community west african states subcommittee’s regional responsibilities include matters within geographic region including matters relating  terrorism nonproliferation  crime illicit narcotics  us foreign assistance programs  promotion us trade exports addition subcommittee global responsibility healthrelated policy including disease outbreak response\")"
   ]
  },
  {
   "cell_type": "code",
   "execution_count": 132,
   "id": "8ff50e8e",
   "metadata": {},
   "outputs": [
    {
     "data": {
      "text/plain": [
       "1069"
      ]
     },
     "execution_count": 132,
     "metadata": {},
     "output_type": "execute_result"
    }
   ],
   "source": [
    "# should match\n",
    "similar(\"technology consumer electronics apple inc designs manufactures markets smartphones personal computers tablets wearables accessories worldwide also sells various related services addition company offers iphone line smartphones mac line personal computers ipad line multipurpose tablets airpods max overear wireless headphone wearables home accessories comprising airpods apple tv apple watch beats products homepod ipod touch provides applecare support services cloud services store services operates various platforms including app store allow customers discover download applications digital content books music video games podcasts additionally company offers various services apple arcade game subscription service apple music offers users curated listening experience ondemand radio stations apple news subscription news magazine service apple tv offers exclusive original content apple card cobranded credit card apple pay cashless payment service well licenses intellectual property company serves consumers small midsized businesses education enterprise government markets distributes thirdparty applications products app store company also sells products retail online stores direct sales force thirdparty cellular network carriers wholesalers retailers resellers apple inc incorporated  headquartered cupertino california\", \"cybersecurity infrastructure protection innovation cyber security infrastructure protection innovation subcommittee jurisdiction cybersecurity infrastructure security agency cisa science technology directorate focuses efforts advance federal network security improve critical infrastructure security also oversees cisa‚Äôs chemical security programs crosscutting science technology initiatives\")"
   ]
  },
  {
   "cell_type": "code",
   "execution_count": 133,
   "id": "368ec614",
   "metadata": {},
   "outputs": [
    {
     "data": {
      "text/plain": [
       "362"
      ]
     },
     "execution_count": 133,
     "metadata": {},
     "output_type": "execute_result"
    }
   ],
   "source": [
    "# should match\n",
    "similar(\"technology consumer electronics\", \"cybersecurity infrastructure protection innovation cyber security infrastructure protection innovation subcommittee jurisdiction cybersecurity infrastructure security agency cisa science technology directorate focuses efforts advance federal network security improve critical infrastructure security also oversees cisa‚Äôs chemical security programs crosscutting science technology initiatives\")"
   ]
  },
  {
   "cell_type": "code",
   "execution_count": 134,
   "id": "23879fd4",
   "metadata": {},
   "outputs": [
    {
     "data": {
      "text/plain": [
       "975"
      ]
     },
     "execution_count": 134,
     "metadata": {},
     "output_type": "execute_result"
    }
   ],
   "source": [
    "# should match\n",
    "similar(\"utilities utilities—regulated electric\", \"All matters relating to energy research, development, and demonstration projects therefor; commercial application of energy technology; Department of Energy research, development, and demonstration programs; Department of Energy laboratories; Department of Energy science activities; Department of Energy international research, development, and demonstration projects; energy supply activities; nuclear, solar, and renewable energy, and other advanced energy technologies; uranium supply and enrichment, and Department of Energy waste management; Department of Energy environmental management research, development, and demonstration; fossil energy research and development; clean coal technology; energy conservation research and development, including building performance, alternate fuels, distributed power systems, and industrial process improvements; pipeline research, development, and demonstration projects; energy standards; other appropriate matters as referred by the Chair; and relevant oversight.\") "
   ]
  },
  {
   "cell_type": "code",
   "execution_count": 135,
   "id": "48acdbc7",
   "metadata": {},
   "outputs": [
    {
     "data": {
      "text/plain": [
       "1004"
      ]
     },
     "execution_count": 135,
     "metadata": {},
     "output_type": "execute_result"
    }
   ],
   "source": [
    "# shouldn't match \n",
    "similar(\"technology consumer electronics apple inc designs manufactures markets smartphones personal computers tablets wearables accessories worldwide also sells various related services addition company offers iphone line smartphones mac line personal computers ipad line multipurpose tablets airpods max overear wireless headphone wearables home accessories comprising airpods apple tv apple watch beats products homepod ipod touch provides applecare support services cloud services store services operates various platforms including app store allow customers discover download applications digital content books music video games podcasts additionally company offers various services apple arcade game subscription service apple music offers users curated listening experience ondemand radio stations apple news subscription news magazine service apple tv offers exclusive original content apple card cobranded credit card apple pay cashless payment service well licenses intellectual property company serves consumers small midsized businesses education enterprise government markets distributes thirdparty applications products app store company also sells products retail online stores direct sales force thirdparty cellular network carriers wholesalers retailers resellers apple inc incorporated  headquartered cupertino california\", \"africa global health policy subcommittee deals matters concerning us relations countries africa except like countries north africa specifically covered subcommittees well regional intergovernmental organizations like african union economic community west african states subcommittee’s regional responsibilities include matters within geographic region including matters relating  terrorism nonproliferation  crime illicit narcotics  us foreign assistance programs  promotion us trade exports addition subcommittee global responsibility healthrelated policy including disease outbreak response\")"
   ]
  },
  {
   "cell_type": "code",
   "execution_count": 136,
   "id": "882c050e",
   "metadata": {},
   "outputs": [
    {
     "data": {
      "text/plain": [
       "0.8"
      ]
     },
     "execution_count": 136,
     "metadata": {},
     "output_type": "execute_result"
    }
   ],
   "source": [
    "textdistance.levenshtein.normalized_similarity('arrow', 'arow')"
   ]
  },
  {
   "cell_type": "code",
   "execution_count": 137,
   "id": "a86bf735",
   "metadata": {},
   "outputs": [],
   "source": [
    "def similar(a,b):\n",
    "    return textdistance.levenshtein.normalized_similarity(a, b)"
   ]
  },
  {
   "cell_type": "code",
   "execution_count": 138,
   "id": "c67f94f9",
   "metadata": {
    "scrolled": true
   },
   "outputs": [
    {
     "data": {
      "text/plain": [
       "0.9090909090909091"
      ]
     },
     "execution_count": 138,
     "metadata": {},
     "output_type": "execute_result"
    }
   ],
   "source": [
    "# high match\n",
    "similar(\"fuzzy wuzzy was a bear\", \"wuzzy fuzzy was a bear\")"
   ]
  },
  {
   "cell_type": "code",
   "execution_count": 139,
   "id": "0c1d95f6",
   "metadata": {},
   "outputs": [
    {
     "data": {
      "text/plain": [
       "0.289210233592881"
      ]
     },
     "execution_count": 139,
     "metadata": {},
     "output_type": "execute_result"
    }
   ],
   "source": [
    "# should match\n",
    "similar(\"utilities utilities—regulated electric nextera energy inc subsidiaries generates transmits distributes sells electric power retail wholesale customers north america company generates electricity wind solar nuclear fossil fuel coal natural gas facilities also develops constructs operates longterm contracted assets focus renewable generation facilities electric transmission facilities battery storage projects owns develops constructs manages operates electric generation facilities wholesale energy markets december   company operated approximately  megawatts net generating capacity serves approximately  million people approximately  million customer accounts east lower west coasts florida approximately  circuit miles transmission distribution lines  substations company formerly known fpl group inc changed name nextera energy inc  nextera energy inc founded  headquartered juno beach florida\", \"africa global health policy subcommittee deals matters concerning us relations countries africa except like countries north africa specifically covered subcommittees well regional intergovernmental organizations like african union economic community west african states subcommittee’s regional responsibilities include matters within geographic region including matters relating  terrorism nonproliferation  crime illicit narcotics  us foreign assistance programs  promotion us trade exports addition subcommittee global responsibility healthrelated policy including disease outbreak response\")"
   ]
  },
  {
   "cell_type": "code",
   "execution_count": 140,
   "id": "643a9bdc",
   "metadata": {},
   "outputs": [
    {
     "data": {
      "text/plain": [
       "0.19624060150375944"
      ]
     },
     "execution_count": 140,
     "metadata": {},
     "output_type": "execute_result"
    }
   ],
   "source": [
    "# should match\n",
    "similar(\"technology consumer electronics apple inc designs manufactures markets smartphones personal computers tablets wearables accessories worldwide also sells various related services addition company offers iphone line smartphones mac line personal computers ipad line multipurpose tablets airpods max overear wireless headphone wearables home accessories comprising airpods apple tv apple watch beats products homepod ipod touch provides applecare support services cloud services store services operates various platforms including app store allow customers discover download applications digital content books music video games podcasts additionally company offers various services apple arcade game subscription service apple music offers users curated listening experience ondemand radio stations apple news subscription news magazine service apple tv offers exclusive original content apple card cobranded credit card apple pay cashless payment service well licenses intellectual property company serves consumers small midsized businesses education enterprise government markets distributes thirdparty applications products app store company also sells products retail online stores direct sales force thirdparty cellular network carriers wholesalers retailers resellers apple inc incorporated  headquartered cupertino california\", \"cybersecurity infrastructure protection innovation cyber security infrastructure protection innovation subcommittee jurisdiction cybersecurity infrastructure security agency cisa science technology directorate focuses efforts advance federal network security improve critical infrastructure security also oversees cisa‚Äôs chemical security programs crosscutting science technology initiatives\")"
   ]
  },
  {
   "cell_type": "code",
   "execution_count": 141,
   "id": "d2e48f40",
   "metadata": {},
   "outputs": [
    {
     "data": {
      "text/plain": [
       "0.07888040712468192"
      ]
     },
     "execution_count": 141,
     "metadata": {},
     "output_type": "execute_result"
    }
   ],
   "source": [
    "# should match\n",
    "similar(\"technology consumer electronics\", \"cybersecurity infrastructure protection innovation cyber security infrastructure protection innovation subcommittee jurisdiction cybersecurity infrastructure security agency cisa science technology directorate focuses efforts advance federal network security improve critical infrastructure security also oversees cisa‚Äôs chemical security programs crosscutting science technology initiatives\")"
   ]
  },
  {
   "cell_type": "code",
   "execution_count": 142,
   "id": "f499e2b8",
   "metadata": {},
   "outputs": [
    {
     "data": {
      "text/plain": [
       "0.035608308605341255"
      ]
     },
     "execution_count": 142,
     "metadata": {},
     "output_type": "execute_result"
    }
   ],
   "source": [
    "# should match\n",
    "similar(\"utilities utilities—regulated electric\", \"All matters relating to energy research, development, and demonstration projects therefor; commercial application of energy technology; Department of Energy research, development, and demonstration programs; Department of Energy laboratories; Department of Energy science activities; Department of Energy international research, development, and demonstration projects; energy supply activities; nuclear, solar, and renewable energy, and other advanced energy technologies; uranium supply and enrichment, and Department of Energy waste management; Department of Energy environmental management research, development, and demonstration; fossil energy research and development; clean coal technology; energy conservation research and development, including building performance, alternate fuels, distributed power systems, and industrial process improvements; pipeline research, development, and demonstration projects; energy standards; other appropriate matters as referred by the Chair; and relevant oversight.\") "
   ]
  },
  {
   "cell_type": "code",
   "execution_count": 143,
   "id": "d5e13948",
   "metadata": {},
   "outputs": [
    {
     "data": {
      "text/plain": [
       "0.24511278195488717"
      ]
     },
     "execution_count": 143,
     "metadata": {},
     "output_type": "execute_result"
    }
   ],
   "source": [
    "# shouldn't match \n",
    "similar(\"technology consumer electronics apple inc designs manufactures markets smartphones personal computers tablets wearables accessories worldwide also sells various related services addition company offers iphone line smartphones mac line personal computers ipad line multipurpose tablets airpods max overear wireless headphone wearables home accessories comprising airpods apple tv apple watch beats products homepod ipod touch provides applecare support services cloud services store services operates various platforms including app store allow customers discover download applications digital content books music video games podcasts additionally company offers various services apple arcade game subscription service apple music offers users curated listening experience ondemand radio stations apple news subscription news magazine service apple tv offers exclusive original content apple card cobranded credit card apple pay cashless payment service well licenses intellectual property company serves consumers small midsized businesses education enterprise government markets distributes thirdparty applications products app store company also sells products retail online stores direct sales force thirdparty cellular network carriers wholesalers retailers resellers apple inc incorporated  headquartered cupertino california\", \"africa global health policy subcommittee deals matters concerning us relations countries africa except like countries north africa specifically covered subcommittees well regional intergovernmental organizations like african union economic community west african states subcommittee’s regional responsibilities include matters within geographic region including matters relating  terrorism nonproliferation  crime illicit narcotics  us foreign assistance programs  promotion us trade exports addition subcommittee global responsibility healthrelated policy including disease outbreak response\")"
   ]
  },
  {
   "cell_type": "markdown",
   "id": "fbcdc24a",
   "metadata": {},
   "source": [
    "##### Jaccard Index "
   ]
  },
  {
   "cell_type": "markdown",
   "id": "c1c03f84",
   "metadata": {},
   "source": [
    "(find the number of common tokens and divide it by the total number of unique tokens)\n",
    "\n",
    "\"We first tokenize the string by default space delimiter, to make words in the strings as tokens. Then we compute the similarity score.\" "
   ]
  },
  {
   "cell_type": "code",
   "execution_count": 144,
   "id": "3bcad3f8",
   "metadata": {},
   "outputs": [],
   "source": [
    "tokens_1 = \"hello world\".split()\n",
    "tokens_2 = \"world hello\".split()"
   ]
  },
  {
   "cell_type": "code",
   "execution_count": 145,
   "id": "d8643473",
   "metadata": {},
   "outputs": [
    {
     "data": {
      "text/plain": [
       "1.0"
      ]
     },
     "execution_count": 145,
     "metadata": {},
     "output_type": "execute_result"
    }
   ],
   "source": [
    "textdistance.jaccard(tokens_1 , tokens_2)"
   ]
  },
  {
   "cell_type": "code",
   "execution_count": 146,
   "id": "17a9c0ce",
   "metadata": {},
   "outputs": [],
   "source": [
    "tokens_1 = \"hello new world\".split()\n",
    "tokens_2 = \"hello world\".split()"
   ]
  },
  {
   "cell_type": "code",
   "execution_count": 147,
   "id": "28b39866",
   "metadata": {},
   "outputs": [
    {
     "data": {
      "text/plain": [
       "0.6666666666666666"
      ]
     },
     "execution_count": 147,
     "metadata": {},
     "output_type": "execute_result"
    }
   ],
   "source": [
    "textdistance.jaccard(tokens_1 , tokens_2)"
   ]
  },
  {
   "cell_type": "code",
   "execution_count": 148,
   "id": "a9ff1a1a",
   "metadata": {},
   "outputs": [],
   "source": [
    "def similar(a,b):\n",
    "    return textdistance.jaccard(a, b)"
   ]
  },
  {
   "cell_type": "code",
   "execution_count": 149,
   "id": "256ec0db",
   "metadata": {
    "scrolled": true
   },
   "outputs": [
    {
     "data": {
      "text/plain": [
       "1.0"
      ]
     },
     "execution_count": 149,
     "metadata": {},
     "output_type": "execute_result"
    }
   ],
   "source": [
    "# high match\n",
    "similar(\"fuzzy wuzzy was a bear\", \"wuzzy fuzzy was a bear\")"
   ]
  },
  {
   "cell_type": "code",
   "execution_count": 150,
   "id": "2baea90b",
   "metadata": {},
   "outputs": [
    {
     "data": {
      "text/plain": [
       "0.6493362831858407"
      ]
     },
     "execution_count": 150,
     "metadata": {},
     "output_type": "execute_result"
    }
   ],
   "source": [
    "# should match\n",
    "similar(\"utilities utilities—regulated electric nextera energy inc subsidiaries generates transmits distributes sells electric power retail wholesale customers north america company generates electricity wind solar nuclear fossil fuel coal natural gas facilities also develops constructs operates longterm contracted assets focus renewable generation facilities electric transmission facilities battery storage projects owns develops constructs manages operates electric generation facilities wholesale energy markets december   company operated approximately  megawatts net generating capacity serves approximately  million people approximately  million customer accounts east lower west coasts florida approximately  circuit miles transmission distribution lines  substations company formerly known fpl group inc changed name nextera energy inc  nextera energy inc founded  headquartered juno beach florida\", \"africa global health policy subcommittee deals matters concerning us relations countries africa except like countries north africa specifically covered subcommittees well regional intergovernmental organizations like african union economic community west african states subcommittee’s regional responsibilities include matters within geographic region including matters relating  terrorism nonproliferation  crime illicit narcotics  us foreign assistance programs  promotion us trade exports addition subcommittee global responsibility healthrelated policy including disease outbreak response\")"
   ]
  },
  {
   "cell_type": "code",
   "execution_count": 151,
   "id": "51871e49",
   "metadata": {},
   "outputs": [
    {
     "data": {
      "text/plain": [
       "0.28967065868263475"
      ]
     },
     "execution_count": 151,
     "metadata": {},
     "output_type": "execute_result"
    }
   ],
   "source": [
    "# should match\n",
    "similar(\"technology consumer electronics apple inc designs manufactures markets smartphones personal computers tablets wearables accessories worldwide also sells various related services addition company offers iphone line smartphones mac line personal computers ipad line multipurpose tablets airpods max overear wireless headphone wearables home accessories comprising airpods apple tv apple watch beats products homepod ipod touch provides applecare support services cloud services store services operates various platforms including app store allow customers discover download applications digital content books music video games podcasts additionally company offers various services apple arcade game subscription service apple music offers users curated listening experience ondemand radio stations apple news subscription news magazine service apple tv offers exclusive original content apple card cobranded credit card apple pay cashless payment service well licenses intellectual property company serves consumers small midsized businesses education enterprise government markets distributes thirdparty applications products app store company also sells products retail online stores direct sales force thirdparty cellular network carriers wholesalers retailers resellers apple inc incorporated  headquartered cupertino california\", \"cybersecurity infrastructure protection innovation cyber security infrastructure protection innovation subcommittee jurisdiction cybersecurity infrastructure security agency cisa science technology directorate focuses efforts advance federal network security improve critical infrastructure security also oversees cisa‚Äôs chemical security programs crosscutting science technology initiatives\")"
   ]
  },
  {
   "cell_type": "code",
   "execution_count": 152,
   "id": "ffaa83dc",
   "metadata": {},
   "outputs": [
    {
     "data": {
      "text/plain": [
       "0.07888040712468193"
      ]
     },
     "execution_count": 152,
     "metadata": {},
     "output_type": "execute_result"
    }
   ],
   "source": [
    "# should match\n",
    "similar(\"technology consumer electronics\", \"cybersecurity infrastructure protection innovation cyber security infrastructure protection innovation subcommittee jurisdiction cybersecurity infrastructure security agency cisa science technology directorate focuses efforts advance federal network security improve critical infrastructure security also oversees cisa‚Äôs chemical security programs crosscutting science technology initiatives\")"
   ]
  },
  {
   "cell_type": "code",
   "execution_count": 153,
   "id": "d002f325",
   "metadata": {},
   "outputs": [
    {
     "data": {
      "text/plain": [
       "0.036561264822134384"
      ]
     },
     "execution_count": 153,
     "metadata": {},
     "output_type": "execute_result"
    }
   ],
   "source": [
    "# should match\n",
    "similar(\"utilities utilities—regulated electric\", \"All matters relating to energy research, development, and demonstration projects therefor; commercial application of energy technology; Department of Energy research, development, and demonstration programs; Department of Energy laboratories; Department of Energy science activities; Department of Energy international research, development, and demonstration projects; energy supply activities; nuclear, solar, and renewable energy, and other advanced energy technologies; uranium supply and enrichment, and Department of Energy waste management; Department of Energy environmental management research, development, and demonstration; fossil energy research and development; clean coal technology; energy conservation research and development, including building performance, alternate fuels, distributed power systems, and industrial process improvements; pipeline research, development, and demonstration projects; energy standards; other appropriate matters as referred by the Chair; and relevant oversight.\") "
   ]
  },
  {
   "cell_type": "code",
   "execution_count": 154,
   "id": "433ab094",
   "metadata": {},
   "outputs": [
    {
     "data": {
      "text/plain": [
       "0.4397003745318352"
      ]
     },
     "execution_count": 154,
     "metadata": {},
     "output_type": "execute_result"
    }
   ],
   "source": [
    "# shouldn't match \n",
    "similar(\"technology consumer electronics apple inc designs manufactures markets smartphones personal computers tablets wearables accessories worldwide also sells various related services addition company offers iphone line smartphones mac line personal computers ipad line multipurpose tablets airpods max overear wireless headphone wearables home accessories comprising airpods apple tv apple watch beats products homepod ipod touch provides applecare support services cloud services store services operates various platforms including app store allow customers discover download applications digital content books music video games podcasts additionally company offers various services apple arcade game subscription service apple music offers users curated listening experience ondemand radio stations apple news subscription news magazine service apple tv offers exclusive original content apple card cobranded credit card apple pay cashless payment service well licenses intellectual property company serves consumers small midsized businesses education enterprise government markets distributes thirdparty applications products app store company also sells products retail online stores direct sales force thirdparty cellular network carriers wholesalers retailers resellers apple inc incorporated  headquartered cupertino california\", \"africa global health policy subcommittee deals matters concerning us relations countries africa except like countries north africa specifically covered subcommittees well regional intergovernmental organizations like african union economic community west african states subcommittee’s regional responsibilities include matters within geographic region including matters relating  terrorism nonproliferation  crime illicit narcotics  us foreign assistance programs  promotion us trade exports addition subcommittee global responsibility healthrelated policy including disease outbreak response\")"
   ]
  },
  {
   "cell_type": "markdown",
   "id": "f0306d7f",
   "metadata": {},
   "source": [
    "##### Sorensen-Dice"
   ]
  },
  {
   "cell_type": "markdown",
   "id": "fae257bd",
   "metadata": {},
   "source": [
    "\"Falling under set similarity, the logic is to find the common tokens, and divide it by the total number of tokens present by combining both sets.\" "
   ]
  },
  {
   "cell_type": "code",
   "execution_count": 155,
   "id": "f99d0476",
   "metadata": {},
   "outputs": [],
   "source": [
    "tokens_1 = \"hello world\".split()\n",
    "tokens_2 = \"world hello\".split()"
   ]
  },
  {
   "cell_type": "code",
   "execution_count": 156,
   "id": "68fd3b41",
   "metadata": {},
   "outputs": [
    {
     "data": {
      "text/plain": [
       "1.0"
      ]
     },
     "execution_count": 156,
     "metadata": {},
     "output_type": "execute_result"
    }
   ],
   "source": [
    "textdistance.sorensen(tokens_1 , tokens_2)"
   ]
  },
  {
   "cell_type": "code",
   "execution_count": 157,
   "id": "a7772bd9",
   "metadata": {},
   "outputs": [],
   "source": [
    "tokens_1 = \"hello new world\".split()\n",
    "tokens_2 = \"hello world\".split()"
   ]
  },
  {
   "cell_type": "code",
   "execution_count": 158,
   "id": "20665ee1",
   "metadata": {},
   "outputs": [
    {
     "data": {
      "text/plain": [
       "0.8"
      ]
     },
     "execution_count": 158,
     "metadata": {},
     "output_type": "execute_result"
    }
   ],
   "source": [
    "textdistance.sorensen(tokens_1 , tokens_2)"
   ]
  },
  {
   "cell_type": "code",
   "execution_count": 159,
   "id": "7c67793e",
   "metadata": {},
   "outputs": [],
   "source": [
    "def similar(a,b):\n",
    "    return textdistance.sorensen(a, b)"
   ]
  },
  {
   "cell_type": "code",
   "execution_count": 160,
   "id": "05fd45a1",
   "metadata": {
    "scrolled": true
   },
   "outputs": [
    {
     "data": {
      "text/plain": [
       "1.0"
      ]
     },
     "execution_count": 160,
     "metadata": {},
     "output_type": "execute_result"
    }
   ],
   "source": [
    "# high match\n",
    "similar(\"fuzzy wuzzy was a bear\", \"wuzzy fuzzy was a bear\")"
   ]
  },
  {
   "cell_type": "code",
   "execution_count": 161,
   "id": "9fe46d04",
   "metadata": {},
   "outputs": [
    {
     "data": {
      "text/plain": [
       "0.7873910127431254"
      ]
     },
     "execution_count": 161,
     "metadata": {},
     "output_type": "execute_result"
    }
   ],
   "source": [
    "# should match\n",
    "similar(\"utilities utilities—regulated electric nextera energy inc subsidiaries generates transmits distributes sells electric power retail wholesale customers north america company generates electricity wind solar nuclear fossil fuel coal natural gas facilities also develops constructs operates longterm contracted assets focus renewable generation facilities electric transmission facilities battery storage projects owns develops constructs manages operates electric generation facilities wholesale energy markets december   company operated approximately  megawatts net generating capacity serves approximately  million people approximately  million customer accounts east lower west coasts florida approximately  circuit miles transmission distribution lines  substations company formerly known fpl group inc changed name nextera energy inc  nextera energy inc founded  headquartered juno beach florida\", \"africa global health policy subcommittee deals matters concerning us relations countries africa except like countries north africa specifically covered subcommittees well regional intergovernmental organizations like african union economic community west african states subcommittee’s regional responsibilities include matters within geographic region including matters relating  terrorism nonproliferation  crime illicit narcotics  us foreign assistance programs  promotion us trade exports addition subcommittee global responsibility healthrelated policy including disease outbreak response\")"
   ]
  },
  {
   "cell_type": "code",
   "execution_count": 162,
   "id": "35753b5c",
   "metadata": {},
   "outputs": [
    {
     "data": {
      "text/plain": [
       "0.4492164828786999"
      ]
     },
     "execution_count": 162,
     "metadata": {},
     "output_type": "execute_result"
    }
   ],
   "source": [
    "# should match\n",
    "similar(\"technology consumer electronics apple inc designs manufactures markets smartphones personal computers tablets wearables accessories worldwide also sells various related services addition company offers iphone line smartphones mac line personal computers ipad line multipurpose tablets airpods max overear wireless headphone wearables home accessories comprising airpods apple tv apple watch beats products homepod ipod touch provides applecare support services cloud services store services operates various platforms including app store allow customers discover download applications digital content books music video games podcasts additionally company offers various services apple arcade game subscription service apple music offers users curated listening experience ondemand radio stations apple news subscription news magazine service apple tv offers exclusive original content apple card cobranded credit card apple pay cashless payment service well licenses intellectual property company serves consumers small midsized businesses education enterprise government markets distributes thirdparty applications products app store company also sells products retail online stores direct sales force thirdparty cellular network carriers wholesalers retailers resellers apple inc incorporated  headquartered cupertino california\", \"cybersecurity infrastructure protection innovation cyber security infrastructure protection innovation subcommittee jurisdiction cybersecurity infrastructure security agency cisa science technology directorate focuses efforts advance federal network security improve critical infrastructure security also oversees cisa‚Äôs chemical security programs crosscutting science technology initiatives\")"
   ]
  },
  {
   "cell_type": "code",
   "execution_count": 163,
   "id": "1f2a9626",
   "metadata": {},
   "outputs": [
    {
     "data": {
      "text/plain": [
       "0.14622641509433962"
      ]
     },
     "execution_count": 163,
     "metadata": {},
     "output_type": "execute_result"
    }
   ],
   "source": [
    "# should match\n",
    "similar(\"technology consumer electronics\", \"cybersecurity infrastructure protection innovation cyber security infrastructure protection innovation subcommittee jurisdiction cybersecurity infrastructure security agency cisa science technology directorate focuses efforts advance federal network security improve critical infrastructure security also oversees cisa‚Äôs chemical security programs crosscutting science technology initiatives\")"
   ]
  },
  {
   "cell_type": "code",
   "execution_count": 164,
   "id": "f3d1a9cf",
   "metadata": {},
   "outputs": [
    {
     "data": {
      "text/plain": [
       "0.07054337464251668"
      ]
     },
     "execution_count": 164,
     "metadata": {},
     "output_type": "execute_result"
    }
   ],
   "source": [
    "# should match\n",
    "similar(\"utilities utilities—regulated electric\", \"All matters relating to energy research, development, and demonstration projects therefor; commercial application of energy technology; Department of Energy research, development, and demonstration programs; Department of Energy laboratories; Department of Energy science activities; Department of Energy international research, development, and demonstration projects; energy supply activities; nuclear, solar, and renewable energy, and other advanced energy technologies; uranium supply and enrichment, and Department of Energy waste management; Department of Energy environmental management research, development, and demonstration; fossil energy research and development; clean coal technology; energy conservation research and development, including building performance, alternate fuels, distributed power systems, and industrial process improvements; pipeline research, development, and demonstration projects; energy standards; other appropriate matters as referred by the Chair; and relevant oversight.\") "
   ]
  },
  {
   "cell_type": "code",
   "execution_count": 165,
   "id": "5b7beef9",
   "metadata": {},
   "outputs": [
    {
     "data": {
      "text/plain": [
       "0.6108220603537982"
      ]
     },
     "execution_count": 165,
     "metadata": {},
     "output_type": "execute_result"
    }
   ],
   "source": [
    "# shouldn't match \n",
    "similar(\"technology consumer electronics apple inc designs manufactures markets smartphones personal computers tablets wearables accessories worldwide also sells various related services addition company offers iphone line smartphones mac line personal computers ipad line multipurpose tablets airpods max overear wireless headphone wearables home accessories comprising airpods apple tv apple watch beats products homepod ipod touch provides applecare support services cloud services store services operates various platforms including app store allow customers discover download applications digital content books music video games podcasts additionally company offers various services apple arcade game subscription service apple music offers users curated listening experience ondemand radio stations apple news subscription news magazine service apple tv offers exclusive original content apple card cobranded credit card apple pay cashless payment service well licenses intellectual property company serves consumers small midsized businesses education enterprise government markets distributes thirdparty applications products app store company also sells products retail online stores direct sales force thirdparty cellular network carriers wholesalers retailers resellers apple inc incorporated  headquartered cupertino california\", \"africa global health policy subcommittee deals matters concerning us relations countries africa except like countries north africa specifically covered subcommittees well regional intergovernmental organizations like african union economic community west african states subcommittee’s regional responsibilities include matters within geographic region including matters relating  terrorism nonproliferation  crime illicit narcotics  us foreign assistance programs  promotion us trade exports addition subcommittee global responsibility healthrelated policy including disease outbreak response\")"
   ]
  },
  {
   "cell_type": "markdown",
   "id": "a2e793b8",
   "metadata": {},
   "source": [
    "##### Ratcliff-Obershelp similarity"
   ]
  },
  {
   "cell_type": "code",
   "execution_count": 166,
   "id": "4d74261a",
   "metadata": {},
   "outputs": [],
   "source": [
    "string1, string2 = \"i am going home\", \"gone home\""
   ]
  },
  {
   "cell_type": "code",
   "execution_count": 167,
   "id": "7763f9bd",
   "metadata": {},
   "outputs": [
    {
     "data": {
      "text/plain": [
       "0.6666666666666666"
      ]
     },
     "execution_count": 167,
     "metadata": {},
     "output_type": "execute_result"
    }
   ],
   "source": [
    "textdistance.ratcliff_obershelp(string1, string2)"
   ]
  },
  {
   "cell_type": "code",
   "execution_count": 168,
   "id": "8f5d73f6",
   "metadata": {},
   "outputs": [],
   "source": [
    "def similar(a,b):\n",
    "    return textdistance.ratcliff_obershelp(a, b)"
   ]
  },
  {
   "cell_type": "code",
   "execution_count": 169,
   "id": "5ee7c006",
   "metadata": {
    "scrolled": true
   },
   "outputs": [
    {
     "data": {
      "text/plain": [
       "0.9090909090909091"
      ]
     },
     "execution_count": 169,
     "metadata": {},
     "output_type": "execute_result"
    }
   ],
   "source": [
    "# high match\n",
    "similar(\"fuzzy wuzzy was a bear\", \"wuzzy fuzzy was a bear\")"
   ]
  },
  {
   "cell_type": "code",
   "execution_count": 170,
   "id": "cdb5b986",
   "metadata": {},
   "outputs": [
    {
     "data": {
      "text/plain": [
       "0.12206572769953052"
      ]
     },
     "execution_count": 170,
     "metadata": {},
     "output_type": "execute_result"
    }
   ],
   "source": [
    "# should match \n",
    "similar(\"utilities utilities—regulated electric nextera energy inc subsidiaries generates transmits distributes sells electric power retail wholesale customers north america company generates electricity wind solar nuclear fossil fuel coal natural gas facilities also develops constructs operates longterm contracted assets focus renewable generation facilities electric transmission facilities battery storage projects owns develops constructs manages operates electric generation facilities wholesale energy markets december   company operated approximately  megawatts net generating capacity serves approximately  million people approximately  million customer accounts east lower west coasts florida approximately  circuit miles transmission distribution lines  substations company formerly known fpl group inc changed name nextera energy inc  nextera energy inc founded  headquartered juno beach florida\", \"africa global health policy subcommittee deals matters concerning us relations countries africa except like countries north africa specifically covered subcommittees well regional intergovernmental organizations like african union economic community west african states subcommittee’s regional responsibilities include matters within geographic region including matters relating  terrorism nonproliferation  crime illicit narcotics  us foreign assistance programs  promotion us trade exports addition subcommittee global responsibility healthrelated policy including disease outbreak response\")"
   ]
  },
  {
   "cell_type": "code",
   "execution_count": 171,
   "id": "1c0ead3d",
   "metadata": {},
   "outputs": [
    {
     "data": {
      "text/plain": [
       "0.06848520023215322"
      ]
     },
     "execution_count": 171,
     "metadata": {},
     "output_type": "execute_result"
    }
   ],
   "source": [
    "# should match\n",
    "similar(\"technology consumer electronics apple inc designs manufactures markets smartphones personal computers tablets wearables accessories worldwide also sells various related services addition company offers iphone line smartphones mac line personal computers ipad line multipurpose tablets airpods max overear wireless headphone wearables home accessories comprising airpods apple tv apple watch beats products homepod ipod touch provides applecare support services cloud services store services operates various platforms including app store allow customers discover download applications digital content books music video games podcasts additionally company offers various services apple arcade game subscription service apple music offers users curated listening experience ondemand radio stations apple news subscription news magazine service apple tv offers exclusive original content apple card cobranded credit card apple pay cashless payment service well licenses intellectual property company serves consumers small midsized businesses education enterprise government markets distributes thirdparty applications products app store company also sells products retail online stores direct sales force thirdparty cellular network carriers wholesalers retailers resellers apple inc incorporated  headquartered cupertino california\", \"cybersecurity infrastructure protection innovation cyber security infrastructure protection innovation subcommittee jurisdiction cybersecurity infrastructure security agency cisa science technology directorate focuses efforts advance federal network security improve critical infrastructure security also oversees cisa‚Äôs chemical security programs crosscutting science technology initiatives\")"
   ]
  },
  {
   "cell_type": "code",
   "execution_count": 172,
   "id": "ea2769fe",
   "metadata": {},
   "outputs": [
    {
     "data": {
      "text/plain": [
       "0.09433962264150944"
      ]
     },
     "execution_count": 172,
     "metadata": {},
     "output_type": "execute_result"
    }
   ],
   "source": [
    "# should match\n",
    "similar(\"technology consumer electronics\", \"cybersecurity infrastructure protection innovation cyber security infrastructure protection innovation subcommittee jurisdiction cybersecurity infrastructure security agency cisa science technology directorate focuses efforts advance federal network security improve critical infrastructure security also oversees cisa‚Äôs chemical security programs crosscutting science technology initiatives\")"
   ]
  },
  {
   "cell_type": "code",
   "execution_count": 173,
   "id": "1345472c",
   "metadata": {},
   "outputs": [
    {
     "data": {
      "text/plain": [
       "0.06291706387035272"
      ]
     },
     "execution_count": 173,
     "metadata": {},
     "output_type": "execute_result"
    }
   ],
   "source": [
    "# should match \n",
    "similar(\"utilities utilities—regulated electric\", \"All matters relating to energy research, development, and demonstration projects therefor; commercial application of energy technology; Department of Energy research, development, and demonstration programs; Department of Energy laboratories; Department of Energy science activities; Department of Energy international research, development, and demonstration projects; energy supply activities; nuclear, solar, and renewable energy, and other advanced energy technologies; uranium supply and enrichment, and Department of Energy waste management; Department of Energy environmental management research, development, and demonstration; fossil energy research and development; clean coal technology; energy conservation research and development, including building performance, alternate fuels, distributed power systems, and industrial process improvements; pipeline research, development, and demonstration projects; energy standards; other appropriate matters as referred by the Chair; and relevant oversight.\") "
   ]
  },
  {
   "cell_type": "code",
   "execution_count": 174,
   "id": "6be9abbf",
   "metadata": {},
   "outputs": [
    {
     "data": {
      "text/plain": [
       "0.18106139438085328"
      ]
     },
     "execution_count": 174,
     "metadata": {},
     "output_type": "execute_result"
    }
   ],
   "source": [
    "# shouldn't match \n",
    "similar(\"technology consumer electronics apple inc designs manufactures markets smartphones personal computers tablets wearables accessories worldwide also sells various related services addition company offers iphone line smartphones mac line personal computers ipad line multipurpose tablets airpods max overear wireless headphone wearables home accessories comprising airpods apple tv apple watch beats products homepod ipod touch provides applecare support services cloud services store services operates various platforms including app store allow customers discover download applications digital content books music video games podcasts additionally company offers various services apple arcade game subscription service apple music offers users curated listening experience ondemand radio stations apple news subscription news magazine service apple tv offers exclusive original content apple card cobranded credit card apple pay cashless payment service well licenses intellectual property company serves consumers small midsized businesses education enterprise government markets distributes thirdparty applications products app store company also sells products retail online stores direct sales force thirdparty cellular network carriers wholesalers retailers resellers apple inc incorporated  headquartered cupertino california\", \"africa global health policy subcommittee deals matters concerning us relations countries africa except like countries north africa specifically covered subcommittees well regional intergovernmental organizations like african union economic community west african states subcommittee’s regional responsibilities include matters within geographic region including matters relating  terrorism nonproliferation  crime illicit narcotics  us foreign assistance programs  promotion us trade exports addition subcommittee global responsibility healthrelated policy including disease outbreak response\")"
   ]
  },
  {
   "cell_type": "markdown",
   "id": "b3592c69",
   "metadata": {},
   "source": [
    "----"
   ]
  }
 ],
 "metadata": {
  "kernelspec": {
   "display_name": "Python 3 (ipykernel)",
   "language": "python",
   "name": "python3"
  },
  "language_info": {
   "codemirror_mode": {
    "name": "ipython",
    "version": 3
   },
   "file_extension": ".py",
   "mimetype": "text/x-python",
   "name": "python",
   "nbconvert_exporter": "python",
   "pygments_lexer": "ipython3",
   "version": "3.10.0"
  }
 },
 "nbformat": 4,
 "nbformat_minor": 5
}
