{
 "cells": [
  {
   "cell_type": "markdown",
   "id": "873b9ca1",
   "metadata": {},
   "source": [
    "# Congressional Committees w/ Stock Trades w/ String Algorithms"
   ]
  },
  {
   "cell_type": "markdown",
   "id": "99c47e2a",
   "metadata": {},
   "source": [
    "Exploring matching Congressional stock trade data and stock descriptions with Congressional Committee descriptions"
   ]
  },
  {
   "cell_type": "markdown",
   "id": "a2b80524",
   "metadata": {},
   "source": [
    "reference: https://pythonspot.com/nltk-stop-words/"
   ]
  },
  {
   "cell_type": "code",
   "execution_count": null,
   "id": "1efb946f",
   "metadata": {},
   "outputs": [],
   "source": []
  },
  {
   "cell_type": "markdown",
   "id": "fccda6cb",
   "metadata": {},
   "source": [
    "----"
   ]
  },
  {
   "cell_type": "markdown",
   "id": "11612340",
   "metadata": {},
   "source": [
    "#### Imports"
   ]
  },
  {
   "cell_type": "code",
   "execution_count": 1,
   "id": "648933c6",
   "metadata": {},
   "outputs": [
    {
     "name": "stderr",
     "output_type": "stream",
     "text": [
      "/Users/sm/.pyenv/versions/3.10.0/lib/python3.10/site-packages/pandas/compat/__init__.py:124: UserWarning: Could not import the lzma module. Your installed Python is incomplete. Attempting to use lzma compression will result in a RuntimeError.\n",
      "  warnings.warn(msg)\n"
     ]
    }
   ],
   "source": [
    "import pandas as pd\n",
    "import numpy as np\n",
    "import matplotlib.pyplot as plt\n",
    "from IPython.display import display, HTML"
   ]
  },
  {
   "cell_type": "code",
   "execution_count": 2,
   "id": "d90330a0",
   "metadata": {},
   "outputs": [],
   "source": [
    "pd.set_option('display.max_columns', None)\n",
    "pd.set_option('display.max_rows', None)\n",
    "pd.set_option('display.width', None)\n",
    "pd.set_option('display.max_colwidth', None)\n",
    "pd.set_option('max_seq_item', None)"
   ]
  },
  {
   "cell_type": "code",
   "execution_count": 3,
   "id": "8367da9c",
   "metadata": {},
   "outputs": [
    {
     "name": "stderr",
     "output_type": "stream",
     "text": [
      "/Users/sm/.pyenv/versions/3.10.0/lib/python3.10/site-packages/fuzzywuzzy/fuzz.py:11: UserWarning: Using slow pure-python SequenceMatcher. Install python-Levenshtein to remove this warning\n",
      "  warnings.warn('Using slow pure-python SequenceMatcher. Install python-Levenshtein to remove this warning')\n",
      "/Users/sm/.pyenv/versions/3.10.0/lib/python3.10/site-packages/thefuzz/fuzz.py:11: UserWarning: Using slow pure-python SequenceMatcher. Install python-Levenshtein to remove this warning\n",
      "  warnings.warn('Using slow pure-python SequenceMatcher. Install python-Levenshtein to remove this warning')\n"
     ]
    }
   ],
   "source": [
    "#string matching imports\n",
    "from difflib import SequenceMatcher\n",
    "from fuzzywuzzy import fuzz\n",
    "from fuzzywuzzy import process\n",
    "from thefuzz import fuzz\n",
    "from thefuzz import process\n",
    "import textdistance\n",
    "import jaro\n",
    "import jellyfish"
   ]
  },
  {
   "cell_type": "code",
   "execution_count": 4,
   "id": "a7ae074f",
   "metadata": {},
   "outputs": [],
   "source": [
    "#natural language processing imports\n",
    "import nltk\n",
    "from nltk.tokenize import sent_tokenize, word_tokenize\n",
    "from nltk.corpus import stopwords\n",
    "from nltk.corpus import treebank\n",
    "import string"
   ]
  },
  {
   "cell_type": "code",
   "execution_count": 5,
   "id": "5575b7df",
   "metadata": {},
   "outputs": [
    {
     "name": "stderr",
     "output_type": "stream",
     "text": [
      "[nltk_data] Downloading package punkt to /Users/sm/nltk_data...\n",
      "[nltk_data]   Package punkt is already up-to-date!\n",
      "[nltk_data] Downloading package stopwords to /Users/sm/nltk_data...\n",
      "[nltk_data]   Package stopwords is already up-to-date!\n",
      "[nltk_data] Downloading package averaged_perceptron_tagger to\n",
      "[nltk_data]     /Users/sm/nltk_data...\n",
      "[nltk_data]   Package averaged_perceptron_tagger is already up-to-\n",
      "[nltk_data]       date!\n",
      "[nltk_data] Downloading package maxent_ne_chunker to\n",
      "[nltk_data]     /Users/sm/nltk_data...\n",
      "[nltk_data]   Package maxent_ne_chunker is already up-to-date!\n",
      "[nltk_data] Downloading package words to /Users/sm/nltk_data...\n",
      "[nltk_data]   Package words is already up-to-date!\n",
      "[nltk_data] Downloading package treebank to /Users/sm/nltk_data...\n",
      "[nltk_data]   Package treebank is already up-to-date!\n"
     ]
    },
    {
     "data": {
      "text/plain": [
       "True"
      ]
     },
     "execution_count": 5,
     "metadata": {},
     "output_type": "execute_result"
    }
   ],
   "source": [
    "nltk.download('punkt')\n",
    "nltk.download('stopwords')\n",
    "nltk.download('averaged_perceptron_tagger')\n",
    "nltk.download('maxent_ne_chunker')\n",
    "nltk.download('words')\n",
    "nltk.download('treebank')"
   ]
  },
  {
   "cell_type": "markdown",
   "id": "3a1f06d7",
   "metadata": {},
   "source": [
    "----"
   ]
  },
  {
   "cell_type": "markdown",
   "id": "0d6e7c56",
   "metadata": {},
   "source": [
    "##### Reading Dataframes"
   ]
  },
  {
   "cell_type": "markdown",
   "id": "1f253c6f",
   "metadata": {},
   "source": [
    "Read in Stock trades by Congress members with Yahoo finance stock info"
   ]
  },
  {
   "cell_type": "code",
   "execution_count": 6,
   "id": "403a1506",
   "metadata": {},
   "outputs": [],
   "source": [
    "df = pd.read_csv(\"..//data//processed//stock_watchers_w_yfinance_03_12_2022.csv\", encoding=\"utf-8\")"
   ]
  },
  {
   "cell_type": "code",
   "execution_count": 7,
   "id": "90e1e98d",
   "metadata": {},
   "outputs": [
    {
     "data": {
      "text/html": [
       "<div>\n",
       "<style scoped>\n",
       "    .dataframe tbody tr th:only-of-type {\n",
       "        vertical-align: middle;\n",
       "    }\n",
       "\n",
       "    .dataframe tbody tr th {\n",
       "        vertical-align: top;\n",
       "    }\n",
       "\n",
       "    .dataframe thead th {\n",
       "        text-align: right;\n",
       "    }\n",
       "</style>\n",
       "<table border=\"1\" class=\"dataframe\">\n",
       "  <thead>\n",
       "    <tr style=\"text-align: right;\">\n",
       "      <th></th>\n",
       "      <th>transaction_date</th>\n",
       "      <th>disclosure_date</th>\n",
       "      <th>politician</th>\n",
       "      <th>owner</th>\n",
       "      <th>ticker</th>\n",
       "      <th>amount</th>\n",
       "      <th>asset_description</th>\n",
       "      <th>asset_type</th>\n",
       "      <th>transaction_type</th>\n",
       "      <th>comment</th>\n",
       "      <th>ptr_link</th>\n",
       "      <th>location</th>\n",
       "      <th>cap_gains</th>\n",
       "      <th>amount_low</th>\n",
       "      <th>amount_high</th>\n",
       "      <th>ticker2</th>\n",
       "      <th>name</th>\n",
       "      <th>sector</th>\n",
       "      <th>industry</th>\n",
       "      <th>longbusinesssummary</th>\n",
       "      <th>website</th>\n",
       "      <th>stock_description</th>\n",
       "    </tr>\n",
       "  </thead>\n",
       "  <tbody>\n",
       "    <tr>\n",
       "      <th>0</th>\n",
       "      <td>02/24/2022</td>\n",
       "      <td>03/11/2022</td>\n",
       "      <td>Shelley M Capito</td>\n",
       "      <td>Spouse</td>\n",
       "      <td>NEE</td>\n",
       "      <td>1001 - 15000</td>\n",
       "      <td>NextEra Energy, Inc. Common Stock</td>\n",
       "      <td>Stock</td>\n",
       "      <td>Sale (Partial)</td>\n",
       "      <td>--</td>\n",
       "      <td>https://efdsearch.senate.gov/search/view/ptr/e7893c34-0761-4c2b-ac52-e303f166517f/</td>\n",
       "      <td>NaN</td>\n",
       "      <td>NaN</td>\n",
       "      <td>1001</td>\n",
       "      <td>15000.0</td>\n",
       "      <td>NEE</td>\n",
       "      <td>NextEra Energy, Inc.</td>\n",
       "      <td>Utilities</td>\n",
       "      <td>Utilities—Regulated Electric</td>\n",
       "      <td>NextEra Energy, Inc., through its subsidiaries, generates, transmits, distributes, and sells electric power to retail and wholesale customers in North America. The company generates electricity through wind, solar, nuclear, and fossil fuel, such as coal and natural gas facilities. It also develops, constructs, and operates long-term contracted assets with a focus on renewable generation facilities, electric transmission facilities, and battery storage projects; and owns, develops, constructs, manages and operates electric generation facilities in wholesale energy markets. As of December 31, 2020, the company operated approximately 28,400 megawatts of net generating capacity. It serves approximately 11 million people through approximately 5.6 million customer accounts in the east and lower west coasts of Florida with approximately 76,200 circuit miles of transmission and distribution lines and 673 substations. The company was formerly known as FPL Group, Inc. and changed its name to NextEra Energy, Inc. in 2010. NextEra Energy, Inc. was founded in 1925 and is headquartered in Juno Beach, Florida.</td>\n",
       "      <td>https://www.nexteraenergy.com</td>\n",
       "      <td>Utilities, Utilities—Regulated Electric, NextEra Energy, Inc., through its subsidiaries, generates, transmits, distributes, and sells electric power to retail and wholesale customers in North America. The company generates electricity through wind, solar, nuclear, and fossil fuel, such as coal and natural gas facilities. It also develops, constructs, and operates long-term contracted assets with a focus on renewable generation facilities, electric transmission facilities, and battery storage projects; and owns, develops, constructs, manages and operates electric generation facilities in wholesale energy markets. As of December 31, 2020, the company operated approximately 28,400 megawatts of net generating capacity. It serves approximately 11 million people through approximately 5.6 million customer accounts in the east and lower west coasts of Florida with approximately 76,200 circuit miles of transmission and distribution lines and 673 substations. The company was formerly known as FPL Group, Inc. and changed its name to NextEra Energy, Inc. in 2010. NextEra Energy, Inc. was founded in 1925 and is headquartered in Juno Beach, Florida.</td>\n",
       "    </tr>\n",
       "    <tr>\n",
       "      <th>1</th>\n",
       "      <td>01/14/2022</td>\n",
       "      <td>02/14/2022</td>\n",
       "      <td>Thomas H Tuberville</td>\n",
       "      <td>Joint</td>\n",
       "      <td>NEE</td>\n",
       "      <td>15001 - 50000</td>\n",
       "      <td>NextEra Energy, Inc. Common Stock</td>\n",
       "      <td>Stock</td>\n",
       "      <td>Sale (Full)</td>\n",
       "      <td>--</td>\n",
       "      <td>https://efdsearch.senate.gov/search/view/ptr/c9da6bea-fa14-4a3a-9d8b-1745e834da59/</td>\n",
       "      <td>NaN</td>\n",
       "      <td>NaN</td>\n",
       "      <td>15001</td>\n",
       "      <td>50000.0</td>\n",
       "      <td>NEE</td>\n",
       "      <td>NextEra Energy, Inc.</td>\n",
       "      <td>Utilities</td>\n",
       "      <td>Utilities—Regulated Electric</td>\n",
       "      <td>NextEra Energy, Inc., through its subsidiaries, generates, transmits, distributes, and sells electric power to retail and wholesale customers in North America. The company generates electricity through wind, solar, nuclear, and fossil fuel, such as coal and natural gas facilities. It also develops, constructs, and operates long-term contracted assets with a focus on renewable generation facilities, electric transmission facilities, and battery storage projects; and owns, develops, constructs, manages and operates electric generation facilities in wholesale energy markets. As of December 31, 2020, the company operated approximately 28,400 megawatts of net generating capacity. It serves approximately 11 million people through approximately 5.6 million customer accounts in the east and lower west coasts of Florida with approximately 76,200 circuit miles of transmission and distribution lines and 673 substations. The company was formerly known as FPL Group, Inc. and changed its name to NextEra Energy, Inc. in 2010. NextEra Energy, Inc. was founded in 1925 and is headquartered in Juno Beach, Florida.</td>\n",
       "      <td>https://www.nexteraenergy.com</td>\n",
       "      <td>Utilities, Utilities—Regulated Electric, NextEra Energy, Inc., through its subsidiaries, generates, transmits, distributes, and sells electric power to retail and wholesale customers in North America. The company generates electricity through wind, solar, nuclear, and fossil fuel, such as coal and natural gas facilities. It also develops, constructs, and operates long-term contracted assets with a focus on renewable generation facilities, electric transmission facilities, and battery storage projects; and owns, develops, constructs, manages and operates electric generation facilities in wholesale energy markets. As of December 31, 2020, the company operated approximately 28,400 megawatts of net generating capacity. It serves approximately 11 million people through approximately 5.6 million customer accounts in the east and lower west coasts of Florida with approximately 76,200 circuit miles of transmission and distribution lines and 673 substations. The company was formerly known as FPL Group, Inc. and changed its name to NextEra Energy, Inc. in 2010. NextEra Energy, Inc. was founded in 1925 and is headquartered in Juno Beach, Florida.</td>\n",
       "    </tr>\n",
       "    <tr>\n",
       "      <th>2</th>\n",
       "      <td>12/21/2018</td>\n",
       "      <td>01/08/2019</td>\n",
       "      <td>Susan M Collins</td>\n",
       "      <td>Spouse</td>\n",
       "      <td>NEE</td>\n",
       "      <td>15001 - 50000</td>\n",
       "      <td>NextEra Energy, Inc.</td>\n",
       "      <td>Stock</td>\n",
       "      <td>Purchase</td>\n",
       "      <td>--</td>\n",
       "      <td>https://efdsearch.senate.gov/search/view/ptr/bb3e64d2-1a93-46ac-ac1d-47508fbb199f/</td>\n",
       "      <td>NaN</td>\n",
       "      <td>NaN</td>\n",
       "      <td>15001</td>\n",
       "      <td>50000.0</td>\n",
       "      <td>NEE</td>\n",
       "      <td>NextEra Energy, Inc.</td>\n",
       "      <td>Utilities</td>\n",
       "      <td>Utilities—Regulated Electric</td>\n",
       "      <td>NextEra Energy, Inc., through its subsidiaries, generates, transmits, distributes, and sells electric power to retail and wholesale customers in North America. The company generates electricity through wind, solar, nuclear, and fossil fuel, such as coal and natural gas facilities. It also develops, constructs, and operates long-term contracted assets with a focus on renewable generation facilities, electric transmission facilities, and battery storage projects; and owns, develops, constructs, manages and operates electric generation facilities in wholesale energy markets. As of December 31, 2020, the company operated approximately 28,400 megawatts of net generating capacity. It serves approximately 11 million people through approximately 5.6 million customer accounts in the east and lower west coasts of Florida with approximately 76,200 circuit miles of transmission and distribution lines and 673 substations. The company was formerly known as FPL Group, Inc. and changed its name to NextEra Energy, Inc. in 2010. NextEra Energy, Inc. was founded in 1925 and is headquartered in Juno Beach, Florida.</td>\n",
       "      <td>https://www.nexteraenergy.com</td>\n",
       "      <td>Utilities, Utilities—Regulated Electric, NextEra Energy, Inc., through its subsidiaries, generates, transmits, distributes, and sells electric power to retail and wholesale customers in North America. The company generates electricity through wind, solar, nuclear, and fossil fuel, such as coal and natural gas facilities. It also develops, constructs, and operates long-term contracted assets with a focus on renewable generation facilities, electric transmission facilities, and battery storage projects; and owns, develops, constructs, manages and operates electric generation facilities in wholesale energy markets. As of December 31, 2020, the company operated approximately 28,400 megawatts of net generating capacity. It serves approximately 11 million people through approximately 5.6 million customer accounts in the east and lower west coasts of Florida with approximately 76,200 circuit miles of transmission and distribution lines and 673 substations. The company was formerly known as FPL Group, Inc. and changed its name to NextEra Energy, Inc. in 2010. NextEra Energy, Inc. was founded in 1925 and is headquartered in Juno Beach, Florida.</td>\n",
       "    </tr>\n",
       "    <tr>\n",
       "      <th>3</th>\n",
       "      <td>04/24/2018</td>\n",
       "      <td>05/14/2018</td>\n",
       "      <td>Shelley M Capito</td>\n",
       "      <td>Spouse</td>\n",
       "      <td>NEE</td>\n",
       "      <td>1001 - 15000</td>\n",
       "      <td>NextEra Energy, Inc.</td>\n",
       "      <td>Stock</td>\n",
       "      <td>Purchase</td>\n",
       "      <td>--</td>\n",
       "      <td>https://efdsearch.senate.gov/search/view/ptr/b17ecfe5-f246-4f4c-bf2f-4f1dd4c35539/</td>\n",
       "      <td>NaN</td>\n",
       "      <td>NaN</td>\n",
       "      <td>1001</td>\n",
       "      <td>15000.0</td>\n",
       "      <td>NEE</td>\n",
       "      <td>NextEra Energy, Inc.</td>\n",
       "      <td>Utilities</td>\n",
       "      <td>Utilities—Regulated Electric</td>\n",
       "      <td>NextEra Energy, Inc., through its subsidiaries, generates, transmits, distributes, and sells electric power to retail and wholesale customers in North America. The company generates electricity through wind, solar, nuclear, and fossil fuel, such as coal and natural gas facilities. It also develops, constructs, and operates long-term contracted assets with a focus on renewable generation facilities, electric transmission facilities, and battery storage projects; and owns, develops, constructs, manages and operates electric generation facilities in wholesale energy markets. As of December 31, 2020, the company operated approximately 28,400 megawatts of net generating capacity. It serves approximately 11 million people through approximately 5.6 million customer accounts in the east and lower west coasts of Florida with approximately 76,200 circuit miles of transmission and distribution lines and 673 substations. The company was formerly known as FPL Group, Inc. and changed its name to NextEra Energy, Inc. in 2010. NextEra Energy, Inc. was founded in 1925 and is headquartered in Juno Beach, Florida.</td>\n",
       "      <td>https://www.nexteraenergy.com</td>\n",
       "      <td>Utilities, Utilities—Regulated Electric, NextEra Energy, Inc., through its subsidiaries, generates, transmits, distributes, and sells electric power to retail and wholesale customers in North America. The company generates electricity through wind, solar, nuclear, and fossil fuel, such as coal and natural gas facilities. It also develops, constructs, and operates long-term contracted assets with a focus on renewable generation facilities, electric transmission facilities, and battery storage projects; and owns, develops, constructs, manages and operates electric generation facilities in wholesale energy markets. As of December 31, 2020, the company operated approximately 28,400 megawatts of net generating capacity. It serves approximately 11 million people through approximately 5.6 million customer accounts in the east and lower west coasts of Florida with approximately 76,200 circuit miles of transmission and distribution lines and 673 substations. The company was formerly known as FPL Group, Inc. and changed its name to NextEra Energy, Inc. in 2010. NextEra Energy, Inc. was founded in 1925 and is headquartered in Juno Beach, Florida.</td>\n",
       "    </tr>\n",
       "    <tr>\n",
       "      <th>4</th>\n",
       "      <td>04/05/2018</td>\n",
       "      <td>05/14/2018</td>\n",
       "      <td>Shelley M Capito</td>\n",
       "      <td>Spouse</td>\n",
       "      <td>NEE</td>\n",
       "      <td>1001 - 15000</td>\n",
       "      <td>NextEra Energy, Inc.</td>\n",
       "      <td>Stock</td>\n",
       "      <td>Purchase</td>\n",
       "      <td>--</td>\n",
       "      <td>https://efdsearch.senate.gov/search/view/ptr/b17ecfe5-f246-4f4c-bf2f-4f1dd4c35539/</td>\n",
       "      <td>NaN</td>\n",
       "      <td>NaN</td>\n",
       "      <td>1001</td>\n",
       "      <td>15000.0</td>\n",
       "      <td>NEE</td>\n",
       "      <td>NextEra Energy, Inc.</td>\n",
       "      <td>Utilities</td>\n",
       "      <td>Utilities—Regulated Electric</td>\n",
       "      <td>NextEra Energy, Inc., through its subsidiaries, generates, transmits, distributes, and sells electric power to retail and wholesale customers in North America. The company generates electricity through wind, solar, nuclear, and fossil fuel, such as coal and natural gas facilities. It also develops, constructs, and operates long-term contracted assets with a focus on renewable generation facilities, electric transmission facilities, and battery storage projects; and owns, develops, constructs, manages and operates electric generation facilities in wholesale energy markets. As of December 31, 2020, the company operated approximately 28,400 megawatts of net generating capacity. It serves approximately 11 million people through approximately 5.6 million customer accounts in the east and lower west coasts of Florida with approximately 76,200 circuit miles of transmission and distribution lines and 673 substations. The company was formerly known as FPL Group, Inc. and changed its name to NextEra Energy, Inc. in 2010. NextEra Energy, Inc. was founded in 1925 and is headquartered in Juno Beach, Florida.</td>\n",
       "      <td>https://www.nexteraenergy.com</td>\n",
       "      <td>Utilities, Utilities—Regulated Electric, NextEra Energy, Inc., through its subsidiaries, generates, transmits, distributes, and sells electric power to retail and wholesale customers in North America. The company generates electricity through wind, solar, nuclear, and fossil fuel, such as coal and natural gas facilities. It also develops, constructs, and operates long-term contracted assets with a focus on renewable generation facilities, electric transmission facilities, and battery storage projects; and owns, develops, constructs, manages and operates electric generation facilities in wholesale energy markets. As of December 31, 2020, the company operated approximately 28,400 megawatts of net generating capacity. It serves approximately 11 million people through approximately 5.6 million customer accounts in the east and lower west coasts of Florida with approximately 76,200 circuit miles of transmission and distribution lines and 673 substations. The company was formerly known as FPL Group, Inc. and changed its name to NextEra Energy, Inc. in 2010. NextEra Energy, Inc. was founded in 1925 and is headquartered in Juno Beach, Florida.</td>\n",
       "    </tr>\n",
       "  </tbody>\n",
       "</table>\n",
       "</div>"
      ],
      "text/plain": [
       "  transaction_date disclosure_date           politician   owner ticker  \\\n",
       "0       02/24/2022      03/11/2022     Shelley M Capito  Spouse    NEE   \n",
       "1       01/14/2022      02/14/2022  Thomas H Tuberville   Joint    NEE   \n",
       "2       12/21/2018      01/08/2019      Susan M Collins  Spouse    NEE   \n",
       "3       04/24/2018      05/14/2018     Shelley M Capito  Spouse    NEE   \n",
       "4       04/05/2018      05/14/2018     Shelley M Capito  Spouse    NEE   \n",
       "\n",
       "          amount                  asset_description asset_type  \\\n",
       "0   1001 - 15000  NextEra Energy, Inc. Common Stock      Stock   \n",
       "1  15001 - 50000  NextEra Energy, Inc. Common Stock      Stock   \n",
       "2  15001 - 50000               NextEra Energy, Inc.      Stock   \n",
       "3   1001 - 15000               NextEra Energy, Inc.      Stock   \n",
       "4   1001 - 15000               NextEra Energy, Inc.      Stock   \n",
       "\n",
       "  transaction_type comment  \\\n",
       "0   Sale (Partial)      --   \n",
       "1      Sale (Full)      --   \n",
       "2         Purchase      --   \n",
       "3         Purchase      --   \n",
       "4         Purchase      --   \n",
       "\n",
       "                                                                             ptr_link  \\\n",
       "0  https://efdsearch.senate.gov/search/view/ptr/e7893c34-0761-4c2b-ac52-e303f166517f/   \n",
       "1  https://efdsearch.senate.gov/search/view/ptr/c9da6bea-fa14-4a3a-9d8b-1745e834da59/   \n",
       "2  https://efdsearch.senate.gov/search/view/ptr/bb3e64d2-1a93-46ac-ac1d-47508fbb199f/   \n",
       "3  https://efdsearch.senate.gov/search/view/ptr/b17ecfe5-f246-4f4c-bf2f-4f1dd4c35539/   \n",
       "4  https://efdsearch.senate.gov/search/view/ptr/b17ecfe5-f246-4f4c-bf2f-4f1dd4c35539/   \n",
       "\n",
       "  location cap_gains amount_low  amount_high ticker2                  name  \\\n",
       "0      NaN       NaN       1001      15000.0     NEE  NextEra Energy, Inc.   \n",
       "1      NaN       NaN      15001      50000.0     NEE  NextEra Energy, Inc.   \n",
       "2      NaN       NaN      15001      50000.0     NEE  NextEra Energy, Inc.   \n",
       "3      NaN       NaN       1001      15000.0     NEE  NextEra Energy, Inc.   \n",
       "4      NaN       NaN       1001      15000.0     NEE  NextEra Energy, Inc.   \n",
       "\n",
       "      sector                      industry  \\\n",
       "0  Utilities  Utilities—Regulated Electric   \n",
       "1  Utilities  Utilities—Regulated Electric   \n",
       "2  Utilities  Utilities—Regulated Electric   \n",
       "3  Utilities  Utilities—Regulated Electric   \n",
       "4  Utilities  Utilities—Regulated Electric   \n",
       "\n",
       "                                                                                                                                                                                                                                                                                                                                                                                                                                                                                                                                                                                                                                                                                                                                                                                                                                                                                                                                                                                                                                                                                                                                        longbusinesssummary  \\\n",
       "0  NextEra Energy, Inc., through its subsidiaries, generates, transmits, distributes, and sells electric power to retail and wholesale customers in North America. The company generates electricity through wind, solar, nuclear, and fossil fuel, such as coal and natural gas facilities. It also develops, constructs, and operates long-term contracted assets with a focus on renewable generation facilities, electric transmission facilities, and battery storage projects; and owns, develops, constructs, manages and operates electric generation facilities in wholesale energy markets. As of December 31, 2020, the company operated approximately 28,400 megawatts of net generating capacity. It serves approximately 11 million people through approximately 5.6 million customer accounts in the east and lower west coasts of Florida with approximately 76,200 circuit miles of transmission and distribution lines and 673 substations. The company was formerly known as FPL Group, Inc. and changed its name to NextEra Energy, Inc. in 2010. NextEra Energy, Inc. was founded in 1925 and is headquartered in Juno Beach, Florida.   \n",
       "1  NextEra Energy, Inc., through its subsidiaries, generates, transmits, distributes, and sells electric power to retail and wholesale customers in North America. The company generates electricity through wind, solar, nuclear, and fossil fuel, such as coal and natural gas facilities. It also develops, constructs, and operates long-term contracted assets with a focus on renewable generation facilities, electric transmission facilities, and battery storage projects; and owns, develops, constructs, manages and operates electric generation facilities in wholesale energy markets. As of December 31, 2020, the company operated approximately 28,400 megawatts of net generating capacity. It serves approximately 11 million people through approximately 5.6 million customer accounts in the east and lower west coasts of Florida with approximately 76,200 circuit miles of transmission and distribution lines and 673 substations. The company was formerly known as FPL Group, Inc. and changed its name to NextEra Energy, Inc. in 2010. NextEra Energy, Inc. was founded in 1925 and is headquartered in Juno Beach, Florida.   \n",
       "2  NextEra Energy, Inc., through its subsidiaries, generates, transmits, distributes, and sells electric power to retail and wholesale customers in North America. The company generates electricity through wind, solar, nuclear, and fossil fuel, such as coal and natural gas facilities. It also develops, constructs, and operates long-term contracted assets with a focus on renewable generation facilities, electric transmission facilities, and battery storage projects; and owns, develops, constructs, manages and operates electric generation facilities in wholesale energy markets. As of December 31, 2020, the company operated approximately 28,400 megawatts of net generating capacity. It serves approximately 11 million people through approximately 5.6 million customer accounts in the east and lower west coasts of Florida with approximately 76,200 circuit miles of transmission and distribution lines and 673 substations. The company was formerly known as FPL Group, Inc. and changed its name to NextEra Energy, Inc. in 2010. NextEra Energy, Inc. was founded in 1925 and is headquartered in Juno Beach, Florida.   \n",
       "3  NextEra Energy, Inc., through its subsidiaries, generates, transmits, distributes, and sells electric power to retail and wholesale customers in North America. The company generates electricity through wind, solar, nuclear, and fossil fuel, such as coal and natural gas facilities. It also develops, constructs, and operates long-term contracted assets with a focus on renewable generation facilities, electric transmission facilities, and battery storage projects; and owns, develops, constructs, manages and operates electric generation facilities in wholesale energy markets. As of December 31, 2020, the company operated approximately 28,400 megawatts of net generating capacity. It serves approximately 11 million people through approximately 5.6 million customer accounts in the east and lower west coasts of Florida with approximately 76,200 circuit miles of transmission and distribution lines and 673 substations. The company was formerly known as FPL Group, Inc. and changed its name to NextEra Energy, Inc. in 2010. NextEra Energy, Inc. was founded in 1925 and is headquartered in Juno Beach, Florida.   \n",
       "4  NextEra Energy, Inc., through its subsidiaries, generates, transmits, distributes, and sells electric power to retail and wholesale customers in North America. The company generates electricity through wind, solar, nuclear, and fossil fuel, such as coal and natural gas facilities. It also develops, constructs, and operates long-term contracted assets with a focus on renewable generation facilities, electric transmission facilities, and battery storage projects; and owns, develops, constructs, manages and operates electric generation facilities in wholesale energy markets. As of December 31, 2020, the company operated approximately 28,400 megawatts of net generating capacity. It serves approximately 11 million people through approximately 5.6 million customer accounts in the east and lower west coasts of Florida with approximately 76,200 circuit miles of transmission and distribution lines and 673 substations. The company was formerly known as FPL Group, Inc. and changed its name to NextEra Energy, Inc. in 2010. NextEra Energy, Inc. was founded in 1925 and is headquartered in Juno Beach, Florida.   \n",
       "\n",
       "                         website  \\\n",
       "0  https://www.nexteraenergy.com   \n",
       "1  https://www.nexteraenergy.com   \n",
       "2  https://www.nexteraenergy.com   \n",
       "3  https://www.nexteraenergy.com   \n",
       "4  https://www.nexteraenergy.com   \n",
       "\n",
       "                                                                                                                                                                                                                                                                                                                                                                                                                                                                                                                                                                                                                                                                                                                                                                                                                                                                                                                                                                                                                                                                                                                                                                                   stock_description  \n",
       "0  Utilities, Utilities—Regulated Electric, NextEra Energy, Inc., through its subsidiaries, generates, transmits, distributes, and sells electric power to retail and wholesale customers in North America. The company generates electricity through wind, solar, nuclear, and fossil fuel, such as coal and natural gas facilities. It also develops, constructs, and operates long-term contracted assets with a focus on renewable generation facilities, electric transmission facilities, and battery storage projects; and owns, develops, constructs, manages and operates electric generation facilities in wholesale energy markets. As of December 31, 2020, the company operated approximately 28,400 megawatts of net generating capacity. It serves approximately 11 million people through approximately 5.6 million customer accounts in the east and lower west coasts of Florida with approximately 76,200 circuit miles of transmission and distribution lines and 673 substations. The company was formerly known as FPL Group, Inc. and changed its name to NextEra Energy, Inc. in 2010. NextEra Energy, Inc. was founded in 1925 and is headquartered in Juno Beach, Florida.  \n",
       "1  Utilities, Utilities—Regulated Electric, NextEra Energy, Inc., through its subsidiaries, generates, transmits, distributes, and sells electric power to retail and wholesale customers in North America. The company generates electricity through wind, solar, nuclear, and fossil fuel, such as coal and natural gas facilities. It also develops, constructs, and operates long-term contracted assets with a focus on renewable generation facilities, electric transmission facilities, and battery storage projects; and owns, develops, constructs, manages and operates electric generation facilities in wholesale energy markets. As of December 31, 2020, the company operated approximately 28,400 megawatts of net generating capacity. It serves approximately 11 million people through approximately 5.6 million customer accounts in the east and lower west coasts of Florida with approximately 76,200 circuit miles of transmission and distribution lines and 673 substations. The company was formerly known as FPL Group, Inc. and changed its name to NextEra Energy, Inc. in 2010. NextEra Energy, Inc. was founded in 1925 and is headquartered in Juno Beach, Florida.  \n",
       "2  Utilities, Utilities—Regulated Electric, NextEra Energy, Inc., through its subsidiaries, generates, transmits, distributes, and sells electric power to retail and wholesale customers in North America. The company generates electricity through wind, solar, nuclear, and fossil fuel, such as coal and natural gas facilities. It also develops, constructs, and operates long-term contracted assets with a focus on renewable generation facilities, electric transmission facilities, and battery storage projects; and owns, develops, constructs, manages and operates electric generation facilities in wholesale energy markets. As of December 31, 2020, the company operated approximately 28,400 megawatts of net generating capacity. It serves approximately 11 million people through approximately 5.6 million customer accounts in the east and lower west coasts of Florida with approximately 76,200 circuit miles of transmission and distribution lines and 673 substations. The company was formerly known as FPL Group, Inc. and changed its name to NextEra Energy, Inc. in 2010. NextEra Energy, Inc. was founded in 1925 and is headquartered in Juno Beach, Florida.  \n",
       "3  Utilities, Utilities—Regulated Electric, NextEra Energy, Inc., through its subsidiaries, generates, transmits, distributes, and sells electric power to retail and wholesale customers in North America. The company generates electricity through wind, solar, nuclear, and fossil fuel, such as coal and natural gas facilities. It also develops, constructs, and operates long-term contracted assets with a focus on renewable generation facilities, electric transmission facilities, and battery storage projects; and owns, develops, constructs, manages and operates electric generation facilities in wholesale energy markets. As of December 31, 2020, the company operated approximately 28,400 megawatts of net generating capacity. It serves approximately 11 million people through approximately 5.6 million customer accounts in the east and lower west coasts of Florida with approximately 76,200 circuit miles of transmission and distribution lines and 673 substations. The company was formerly known as FPL Group, Inc. and changed its name to NextEra Energy, Inc. in 2010. NextEra Energy, Inc. was founded in 1925 and is headquartered in Juno Beach, Florida.  \n",
       "4  Utilities, Utilities—Regulated Electric, NextEra Energy, Inc., through its subsidiaries, generates, transmits, distributes, and sells electric power to retail and wholesale customers in North America. The company generates electricity through wind, solar, nuclear, and fossil fuel, such as coal and natural gas facilities. It also develops, constructs, and operates long-term contracted assets with a focus on renewable generation facilities, electric transmission facilities, and battery storage projects; and owns, develops, constructs, manages and operates electric generation facilities in wholesale energy markets. As of December 31, 2020, the company operated approximately 28,400 megawatts of net generating capacity. It serves approximately 11 million people through approximately 5.6 million customer accounts in the east and lower west coasts of Florida with approximately 76,200 circuit miles of transmission and distribution lines and 673 substations. The company was formerly known as FPL Group, Inc. and changed its name to NextEra Energy, Inc. in 2010. NextEra Energy, Inc. was founded in 1925 and is headquartered in Juno Beach, Florida.  "
      ]
     },
     "execution_count": 7,
     "metadata": {},
     "output_type": "execute_result"
    }
   ],
   "source": [
    "df.head(5)"
   ]
  },
  {
   "cell_type": "code",
   "execution_count": 8,
   "id": "1a5078d7",
   "metadata": {},
   "outputs": [],
   "source": [
    "# df.stock_description"
   ]
  },
  {
   "cell_type": "markdown",
   "id": "a9d8d403",
   "metadata": {},
   "source": [
    "Read in Congress Committee Descriptions Extracted from Committee.gov sites (with a few exceptions)"
   ]
  },
  {
   "cell_type": "code",
   "execution_count": 9,
   "id": "77e56af9",
   "metadata": {},
   "outputs": [],
   "source": [
    "df_subcomittees = pd.read_csv('..//data//handmade//congress_commitee_descriptions.csv')"
   ]
  },
  {
   "cell_type": "code",
   "execution_count": 10,
   "id": "5994e2d9",
   "metadata": {},
   "outputs": [
    {
     "data": {
      "text/html": [
       "<div>\n",
       "<style scoped>\n",
       "    .dataframe tbody tr th:only-of-type {\n",
       "        vertical-align: middle;\n",
       "    }\n",
       "\n",
       "    .dataframe tbody tr th {\n",
       "        vertical-align: top;\n",
       "    }\n",
       "\n",
       "    .dataframe thead th {\n",
       "        text-align: right;\n",
       "    }\n",
       "</style>\n",
       "<table border=\"1\" class=\"dataframe\">\n",
       "  <thead>\n",
       "    <tr style=\"text-align: right;\">\n",
       "      <th></th>\n",
       "      <th>committee</th>\n",
       "      <th>committee_fullname</th>\n",
       "      <th>committee_description</th>\n",
       "      <th>website</th>\n",
       "    </tr>\n",
       "  </thead>\n",
       "  <tbody>\n",
       "    <tr>\n",
       "      <th>0</th>\n",
       "      <td>SSFR09</td>\n",
       "      <td>Africa and Global Health Policy</td>\n",
       "      <td>The subcommittee deals with all matters concerning U.S. relations with countries in Africa (except those, like the countries of North Africa, specifically covered by other subcommittees), as well as regional intergovernmental organizations like the African Union and the Economic Community of West African States. This subcommittee’s regional responsibilities include all matters within the geographic region, including matters relating to: (1) terrorism and non-proliferation; (2) crime and illicit narcotics; (3) U.S. foreign assistance programs; and (4) the promotion of U.S. trade and exports. In addition, this subcommittee has global responsibility for health-related policy, including disease outbreak and response.</td>\n",
       "      <td>https://www.foreign.senate.gov/download/2021-117th-subcommittees</td>\n",
       "    </tr>\n",
       "  </tbody>\n",
       "</table>\n",
       "</div>"
      ],
      "text/plain": [
       "  committee               committee_fullname  \\\n",
       "0    SSFR09  Africa and Global Health Policy   \n",
       "\n",
       "                                                                                                                                                                                                                                                                                                                                                                                                                                                                                                                                                                                                                                                                                                                                committee_description  \\\n",
       "0  The subcommittee deals with all matters concerning U.S. relations with countries in Africa (except those, like the countries of North Africa, specifically covered by other subcommittees), as well as regional intergovernmental organizations like the African Union and the Economic Community of West African States. This subcommittee’s regional responsibilities include all matters within the geographic region, including matters relating to: (1) terrorism and non-proliferation; (2) crime and illicit narcotics; (3) U.S. foreign assistance programs; and (4) the promotion of U.S. trade and exports. In addition, this subcommittee has global responsibility for health-related policy, including disease outbreak and response.   \n",
       "\n",
       "                                                            website  \n",
       "0  https://www.foreign.senate.gov/download/2021-117th-subcommittees  "
      ]
     },
     "execution_count": 10,
     "metadata": {},
     "output_type": "execute_result"
    }
   ],
   "source": [
    "df_subcomittees.head(1)"
   ]
  },
  {
   "cell_type": "code",
   "execution_count": 11,
   "id": "6c9c7321",
   "metadata": {},
   "outputs": [],
   "source": [
    "df_subcomittees['committee_description2'] = df_subcomittees['committee_fullname'] + ', ' + df_subcomittees['committee_description']"
   ]
  },
  {
   "cell_type": "code",
   "execution_count": 12,
   "id": "d5259a38",
   "metadata": {},
   "outputs": [
    {
     "data": {
      "text/html": [
       "<div>\n",
       "<style scoped>\n",
       "    .dataframe tbody tr th:only-of-type {\n",
       "        vertical-align: middle;\n",
       "    }\n",
       "\n",
       "    .dataframe tbody tr th {\n",
       "        vertical-align: top;\n",
       "    }\n",
       "\n",
       "    .dataframe thead th {\n",
       "        text-align: right;\n",
       "    }\n",
       "</style>\n",
       "<table border=\"1\" class=\"dataframe\">\n",
       "  <thead>\n",
       "    <tr style=\"text-align: right;\">\n",
       "      <th></th>\n",
       "      <th>committee</th>\n",
       "      <th>committee_fullname</th>\n",
       "      <th>committee_description</th>\n",
       "      <th>website</th>\n",
       "      <th>committee_description2</th>\n",
       "    </tr>\n",
       "  </thead>\n",
       "  <tbody>\n",
       "    <tr>\n",
       "      <th>0</th>\n",
       "      <td>SSFR09</td>\n",
       "      <td>Africa and Global Health Policy</td>\n",
       "      <td>The subcommittee deals with all matters concerning U.S. relations with countries in Africa (except those, like the countries of North Africa, specifically covered by other subcommittees), as well as regional intergovernmental organizations like the African Union and the Economic Community of West African States. This subcommittee’s regional responsibilities include all matters within the geographic region, including matters relating to: (1) terrorism and non-proliferation; (2) crime and illicit narcotics; (3) U.S. foreign assistance programs; and (4) the promotion of U.S. trade and exports. In addition, this subcommittee has global responsibility for health-related policy, including disease outbreak and response.</td>\n",
       "      <td>https://www.foreign.senate.gov/download/2021-117th-subcommittees</td>\n",
       "      <td>Africa and Global Health Policy, The subcommittee deals with all matters concerning U.S. relations with countries in Africa (except those, like the countries of North Africa, specifically covered by other subcommittees), as well as regional intergovernmental organizations like the African Union and the Economic Community of West African States. This subcommittee’s regional responsibilities include all matters within the geographic region, including matters relating to: (1) terrorism and non-proliferation; (2) crime and illicit narcotics; (3) U.S. foreign assistance programs; and (4) the promotion of U.S. trade and exports. In addition, this subcommittee has global responsibility for health-related policy, including disease outbreak and response.</td>\n",
       "    </tr>\n",
       "  </tbody>\n",
       "</table>\n",
       "</div>"
      ],
      "text/plain": [
       "  committee               committee_fullname  \\\n",
       "0    SSFR09  Africa and Global Health Policy   \n",
       "\n",
       "                                                                                                                                                                                                                                                                                                                                                                                                                                                                                                                                                                                                                                                                                                                                committee_description  \\\n",
       "0  The subcommittee deals with all matters concerning U.S. relations with countries in Africa (except those, like the countries of North Africa, specifically covered by other subcommittees), as well as regional intergovernmental organizations like the African Union and the Economic Community of West African States. This subcommittee’s regional responsibilities include all matters within the geographic region, including matters relating to: (1) terrorism and non-proliferation; (2) crime and illicit narcotics; (3) U.S. foreign assistance programs; and (4) the promotion of U.S. trade and exports. In addition, this subcommittee has global responsibility for health-related policy, including disease outbreak and response.   \n",
       "\n",
       "                                                            website  \\\n",
       "0  https://www.foreign.senate.gov/download/2021-117th-subcommittees   \n",
       "\n",
       "                                                                                                                                                                                                                                                                                                                                                                                                                                                                                                                                                                                                                                                                                                                                                                committee_description2  \n",
       "0  Africa and Global Health Policy, The subcommittee deals with all matters concerning U.S. relations with countries in Africa (except those, like the countries of North Africa, specifically covered by other subcommittees), as well as regional intergovernmental organizations like the African Union and the Economic Community of West African States. This subcommittee’s regional responsibilities include all matters within the geographic region, including matters relating to: (1) terrorism and non-proliferation; (2) crime and illicit narcotics; (3) U.S. foreign assistance programs; and (4) the promotion of U.S. trade and exports. In addition, this subcommittee has global responsibility for health-related policy, including disease outbreak and response.  "
      ]
     },
     "execution_count": 12,
     "metadata": {},
     "output_type": "execute_result"
    }
   ],
   "source": [
    "df_subcomittees.head(1)"
   ]
  },
  {
   "cell_type": "code",
   "execution_count": 13,
   "id": "a3e99303",
   "metadata": {},
   "outputs": [],
   "source": [
    "# df_subcomittees.committee_description2"
   ]
  },
  {
   "cell_type": "code",
   "execution_count": 14,
   "id": "3fba1605",
   "metadata": {},
   "outputs": [],
   "source": [
    "# df3.to_csv('..//data//processed//stock_watchers_w_yfinance_03_12_2022.csv', index = False)"
   ]
  },
  {
   "cell_type": "markdown",
   "id": "fa0ba05c",
   "metadata": {},
   "source": [
    "-----"
   ]
  },
  {
   "cell_type": "markdown",
   "id": "a1691036",
   "metadata": {},
   "source": [
    "### Cleaning the Stock Description Column"
   ]
  },
  {
   "cell_type": "code",
   "execution_count": 15,
   "id": "127280c1",
   "metadata": {},
   "outputs": [],
   "source": [
    "df['stock_description2'] = df.stock_description\n",
    "# df.head(1)"
   ]
  },
  {
   "cell_type": "code",
   "execution_count": 16,
   "id": "b923c5d4",
   "metadata": {},
   "outputs": [],
   "source": [
    "df.stock_description2 = df.stock_description2.astype(str).str.lower()"
   ]
  },
  {
   "cell_type": "code",
   "execution_count": 17,
   "id": "b6262756",
   "metadata": {},
   "outputs": [
    {
     "data": {
      "text/plain": [
       "0    utilities, utilities—regulated electric, nextera energy, inc., through its subsidiaries, generates, transmits, distributes, and sells electric power to retail and wholesale customers in north america. the company generates electricity through wind, solar, nuclear, and fossil fuel, such as coal and natural gas facilities. it also develops, constructs, and operates long-term contracted assets with a focus on renewable generation facilities, electric transmission facilities, and battery storage projects; and owns, develops, constructs, manages and operates electric generation facilities in wholesale energy markets. as of december 31, 2020, the company operated approximately 28,400 megawatts of net generating capacity. it serves approximately 11 million people through approximately 5.6 million customer accounts in the east and lower west coasts of florida with approximately 76,200 circuit miles of transmission and distribution lines and 673 substations. the company was formerly known as fpl group, inc. and changed its name to nextera energy, inc. in 2010. nextera energy, inc. was founded in 1925 and is headquartered in juno beach, florida.\n",
       "Name: stock_description2, dtype: object"
      ]
     },
     "execution_count": 17,
     "metadata": {},
     "output_type": "execute_result"
    }
   ],
   "source": [
    "df.stock_description2.head(1)"
   ]
  },
  {
   "cell_type": "markdown",
   "id": "4b9012de",
   "metadata": {},
   "source": [
    "##### Removing Punctuation from description"
   ]
  },
  {
   "cell_type": "code",
   "execution_count": 18,
   "id": "6dd03b5e",
   "metadata": {},
   "outputs": [
    {
     "data": {
      "text/plain": [
       "'!\"#$%&\\'()*+,-./:;<=>?@[\\\\]^_`{|}~'"
      ]
     },
     "execution_count": 18,
     "metadata": {},
     "output_type": "execute_result"
    }
   ],
   "source": [
    "string.punctuation"
   ]
  },
  {
   "cell_type": "code",
   "execution_count": 19,
   "id": "e900e548",
   "metadata": {},
   "outputs": [
    {
     "name": "stderr",
     "output_type": "stream",
     "text": [
      "/var/folders/c2/zngcssg14mv23nw0yr96s0wm0000gn/T/ipykernel_17611/3941480143.py:1: FutureWarning: The default value of regex will change from True to False in a future version.\n",
      "  df.stock_description2 = df.stock_description2.str.replace('[{}]'.format(string.punctuation), '')\n"
     ]
    }
   ],
   "source": [
    "df.stock_description2 = df.stock_description2.str.replace('[{}]'.format(string.punctuation), '')"
   ]
  },
  {
   "cell_type": "code",
   "execution_count": 20,
   "id": "154233b5",
   "metadata": {},
   "outputs": [
    {
     "data": {
      "text/plain": [
       "0    utilities utilities—regulated electric nextera energy inc through its subsidiaries generates transmits distributes and sells electric power to retail and wholesale customers in north america the company generates electricity through wind solar nuclear and fossil fuel such as coal and natural gas facilities it also develops constructs and operates longterm contracted assets with a focus on renewable generation facilities electric transmission facilities and battery storage projects and owns develops constructs manages and operates electric generation facilities in wholesale energy markets as of december 31 2020 the company operated approximately 28400 megawatts of net generating capacity it serves approximately 11 million people through approximately 56 million customer accounts in the east and lower west coasts of florida with approximately 76200 circuit miles of transmission and distribution lines and 673 substations the company was formerly known as fpl group inc and changed its name to nextera energy inc in 2010 nextera energy inc was founded in 1925 and is headquartered in juno beach florida\n",
       "Name: stock_description2, dtype: object"
      ]
     },
     "execution_count": 20,
     "metadata": {},
     "output_type": "execute_result"
    }
   ],
   "source": [
    "df.stock_description2.head(1)"
   ]
  },
  {
   "cell_type": "code",
   "execution_count": 21,
   "id": "6c629e0c",
   "metadata": {},
   "outputs": [],
   "source": [
    "df.stock_description2 = df.stock_description2.replace('—', ' ')"
   ]
  },
  {
   "cell_type": "code",
   "execution_count": 22,
   "id": "c11dd455",
   "metadata": {},
   "outputs": [
    {
     "data": {
      "text/plain": [
       "0    utilities utilities—regulated electric nextera energy inc through its subsidiaries generates transmits distributes and sells electric power to retail and wholesale customers in north america the company generates electricity through wind solar nuclear and fossil fuel such as coal and natural gas facilities it also develops constructs and operates longterm contracted assets with a focus on renewable generation facilities electric transmission facilities and battery storage projects and owns develops constructs manages and operates electric generation facilities in wholesale energy markets as of december 31 2020 the company operated approximately 28400 megawatts of net generating capacity it serves approximately 11 million people through approximately 56 million customer accounts in the east and lower west coasts of florida with approximately 76200 circuit miles of transmission and distribution lines and 673 substations the company was formerly known as fpl group inc and changed its name to nextera energy inc in 2010 nextera energy inc was founded in 1925 and is headquartered in juno beach florida\n",
       "Name: stock_description2, dtype: object"
      ]
     },
     "execution_count": 22,
     "metadata": {},
     "output_type": "execute_result"
    }
   ],
   "source": [
    "df.stock_description2.head(1)"
   ]
  },
  {
   "cell_type": "markdown",
   "id": "7b1772ad",
   "metadata": {},
   "source": [
    "##### Removing \"Stop Words\""
   ]
  },
  {
   "cell_type": "code",
   "execution_count": 23,
   "id": "47ece7b0",
   "metadata": {},
   "outputs": [
    {
     "name": "stdout",
     "output_type": "stream",
     "text": [
      "{'down', 'theirs', 're', 'those', 'they', \"mightn't\", 'are', 'below', 'than', 'hadn', 'too', \"aren't\", 'mightn', 'were', 'do', 'will', 'where', 'which', 'who', 'until', 'from', 'himself', 'having', 'didn', 'd', 'few', \"that'll\", 'above', 'against', 'our', \"you've\", 'am', 'most', 'does', 'an', 'while', 'in', 'you', 'what', 'off', 'won', 'it', 'out', 'when', 'these', 'their', 'ours', 'now', 'if', 'be', 'of', 'themselves', 'weren', 'wouldn', 'and', 'before', 'ourselves', 'this', 'is', 'he', 'had', 'don', 'myself', 'some', \"it's\", 'nor', 'such', 'here', 'each', \"doesn't\", 'its', 'll', 'him', 'mustn', 'whom', 'that', 'under', 'for', 'because', 'haven', \"you're\", \"you'll\", 'shan', 'needn', 'couldn', 'been', \"should've\", 'herself', \"couldn't\", 'very', 'hasn', 'wasn', 'we', 't', 'to', 'after', 've', 'there', 'over', 'once', \"shouldn't\", 'a', 'isn', 'how', 'again', 'own', 'can', 'y', 'doesn', 'ma', \"needn't\", 'on', 'yourselves', 'but', \"won't\", 'yourself', \"wasn't\", 'them', 'm', 'doing', 'during', 'has', 'shouldn', 'i', 'between', 'all', 'other', \"hasn't\", \"hadn't\", 'by', \"haven't\", 'o', 'ain', 'itself', 'your', 'being', 'aren', 'both', 'hers', 'why', 'me', 'at', \"wouldn't\", \"you'd\", 'did', 'more', 'into', 'she', 'about', 'no', 'not', \"isn't\", 'then', 'the', 'should', 'through', \"didn't\", 'with', \"she's\", 'her', 'his', \"weren't\", 'my', 'same', 'any', \"don't\", 'as', 'only', 'yours', 'so', \"shan't\", 'was', 'just', 'or', 'further', 's', 'have', 'up', \"mustn't\"}\n"
     ]
    }
   ],
   "source": [
    "stops = set(stopwords.words('english'))\n",
    "print(stops)"
   ]
  },
  {
   "cell_type": "code",
   "execution_count": 24,
   "id": "540dfdd6",
   "metadata": {},
   "outputs": [],
   "source": [
    "df['stock_description3'] = df.stock_description2.apply(lambda x: ' '.join([word for word in x.split() if word not in (stops)]))"
   ]
  },
  {
   "cell_type": "code",
   "execution_count": 100,
   "id": "338875ff",
   "metadata": {},
   "outputs": [
    {
     "data": {
      "text/plain": [
       "0    utilities utilities—regulated electric nextera energy inc subsidiaries generates transmits distributes sells electric power retail wholesale customers north america company generates electricity wind solar nuclear fossil fuel coal natural gas facilities also develops constructs operates longterm contracted assets focus renewable generation facilities electric transmission facilities battery storage projects owns develops constructs manages operates electric generation facilities wholesale energy markets december 31 2020 company operated approximately 28400 megawatts net generating capacity serves approximately 11 million people approximately 56 million customer accounts east lower west coasts florida approximately 76200 circuit miles transmission distribution lines 673 substations company formerly known fpl group inc changed name nextera energy inc 2010 nextera energy inc founded 1925 headquartered juno beach florida\n",
       "Name: stock_description3, dtype: object"
      ]
     },
     "execution_count": 100,
     "metadata": {},
     "output_type": "execute_result"
    }
   ],
   "source": [
    "df.stock_description3.head(1)"
   ]
  },
  {
   "cell_type": "code",
   "execution_count": 101,
   "id": "246f39d5",
   "metadata": {},
   "outputs": [],
   "source": [
    "# df.head(2)"
   ]
  },
  {
   "cell_type": "markdown",
   "id": "93de0b13",
   "metadata": {},
   "source": [
    "##### Removing numbers/digits from descriptions"
   ]
  },
  {
   "cell_type": "code",
   "execution_count": 104,
   "id": "905d1d26",
   "metadata": {},
   "outputs": [
    {
     "name": "stderr",
     "output_type": "stream",
     "text": [
      "/var/folders/c2/zngcssg14mv23nw0yr96s0wm0000gn/T/ipykernel_17611/1867169600.py:1: FutureWarning: The default value of regex will change from True to False in a future version.\n",
      "  df.stock_description3 = df.stock_description3.str.replace('\\d+', '')\n"
     ]
    }
   ],
   "source": [
    "df.stock_description3 = df.stock_description3.str.replace('\\d+', '')"
   ]
  },
  {
   "cell_type": "code",
   "execution_count": 107,
   "id": "1b4632d6",
   "metadata": {
    "scrolled": true
   },
   "outputs": [
    {
     "data": {
      "text/plain": [
       "0    utilities utilities—regulated electric nextera energy inc subsidiaries generates transmits distributes sells electric power retail wholesale customers north america company generates electricity wind solar nuclear fossil fuel coal natural gas facilities also develops constructs operates longterm contracted assets focus renewable generation facilities electric transmission facilities battery storage projects owns develops constructs manages operates electric generation facilities wholesale energy markets december   company operated approximately  megawatts net generating capacity serves approximately  million people approximately  million customer accounts east lower west coasts florida approximately  circuit miles transmission distribution lines  substations company formerly known fpl group inc changed name nextera energy inc  nextera energy inc founded  headquartered juno beach florida\n",
       "Name: stock_description3, dtype: object"
      ]
     },
     "execution_count": 107,
     "metadata": {},
     "output_type": "execute_result"
    }
   ],
   "source": [
    "df.stock_description3.head(1)"
   ]
  },
  {
   "cell_type": "code",
   "execution_count": null,
   "id": "4551832d",
   "metadata": {},
   "outputs": [],
   "source": []
  },
  {
   "cell_type": "code",
   "execution_count": null,
   "id": "797412d8",
   "metadata": {},
   "outputs": [],
   "source": []
  },
  {
   "cell_type": "code",
   "execution_count": null,
   "id": "059e8951",
   "metadata": {},
   "outputs": [],
   "source": []
  },
  {
   "cell_type": "code",
   "execution_count": 98,
   "id": "eb723e86",
   "metadata": {},
   "outputs": [
    {
     "name": "stdout",
     "output_type": "stream",
     "text": [
      "['i', 'me', 'my', 'myself', 'we', 'our', 'ours', 'ourselves', 'you', \"you're\", \"you've\", \"you'll\", \"you'd\", 'your', 'yours', 'yourself', 'yourselves', 'he', 'him', 'his', 'himself', 'she', \"she's\", 'her', 'hers', 'herself', 'it', \"it's\", 'its', 'itself', 'they', 'them', 'their', 'theirs', 'themselves', 'what', 'which', 'who', 'whom', 'this', 'that', \"that'll\", 'these', 'those', 'am', 'is', 'are', 'was', 'were', 'be', 'been', 'being', 'have', 'has', 'had', 'having', 'do', 'does', 'did', 'doing', 'a', 'an', 'the', 'and', 'but', 'if', 'or', 'because', 'as', 'until', 'while', 'of', 'at', 'by', 'for', 'with', 'about', 'against', 'between', 'into', 'through', 'during', 'before', 'after', 'above', 'below', 'to', 'from', 'up', 'down', 'in', 'out', 'on', 'off', 'over', 'under', 'again', 'further', 'then', 'once', 'here', 'there', 'when', 'where', 'why', 'how', 'all', 'any', 'both', 'each', 'few', 'more', 'most', 'other', 'some', 'such', 'no', 'nor', 'not', 'only', 'own', 'same', 'so', 'than', 'too', 'very', 's', 't', 'can', 'will', 'just', 'don', \"don't\", 'should', \"should've\", 'now', 'd', 'll', 'm', 'o', 're', 've', 'y', 'ain', 'aren', \"aren't\", 'couldn', \"couldn't\", 'didn', \"didn't\", 'doesn', \"doesn't\", 'hadn', \"hadn't\", 'hasn', \"hasn't\", 'haven', \"haven't\", 'isn', \"isn't\", 'ma', 'mightn', \"mightn't\", 'mustn', \"mustn't\", 'needn', \"needn't\", 'shan', \"shan't\", 'shouldn', \"shouldn't\", 'wasn', \"wasn't\", 'weren', \"weren't\", 'won', \"won't\", 'wouldn', \"wouldn't\"]\n"
     ]
    }
   ],
   "source": [
    "stops2 = stopwords.words('english')\n",
    "print(stops2)"
   ]
  },
  {
   "cell_type": "code",
   "execution_count": null,
   "id": "f16420da",
   "metadata": {},
   "outputs": [],
   "source": [
    "# stops2 = stopwords.words('english')"
   ]
  },
  {
   "cell_type": "code",
   "execution_count": null,
   "id": "b7011d44",
   "metadata": {},
   "outputs": [],
   "source": [
    "string.n"
   ]
  },
  {
   "cell_type": "code",
   "execution_count": 26,
   "id": "43a9e75a",
   "metadata": {},
   "outputs": [],
   "source": [
    "# Consider the word: Antinationalist, Morpheme\n",
    "# https://www.analyticsvidhya.com/blog/2021/06/part-3-step-by-step-guide-to-nlp-text-cleaning-and-preprocessing/"
   ]
  },
  {
   "cell_type": "code",
   "execution_count": null,
   "id": "380de8c7",
   "metadata": {},
   "outputs": [],
   "source": []
  },
  {
   "cell_type": "code",
   "execution_count": null,
   "id": "9864706c",
   "metadata": {},
   "outputs": [],
   "source": []
  },
  {
   "cell_type": "code",
   "execution_count": null,
   "id": "435f6900",
   "metadata": {},
   "outputs": [],
   "source": []
  },
  {
   "cell_type": "code",
   "execution_count": null,
   "id": "6051e9f1",
   "metadata": {},
   "outputs": [],
   "source": []
  },
  {
   "cell_type": "markdown",
   "id": "31bdcbd1",
   "metadata": {},
   "source": [
    "### Cleaning the Committee Description Column"
   ]
  },
  {
   "cell_type": "code",
   "execution_count": 27,
   "id": "424aa3f5",
   "metadata": {},
   "outputs": [],
   "source": [
    "df_subcomittees.committee_description2 = df_subcomittees.committee_description2.astype(str).str.lower()"
   ]
  },
  {
   "cell_type": "code",
   "execution_count": 28,
   "id": "fae575f7",
   "metadata": {},
   "outputs": [
    {
     "data": {
      "text/plain": [
       "0    africa and global health policy, the subcommittee deals with all matters concerning u.s. relations with countries in africa (except those, like the countries of north africa, specifically covered by other subcommittees), as well as regional intergovernmental organizations like the african union and the economic community of west african states. this subcommittee’s regional responsibilities include all matters within the geographic region, including matters relating to: (1) terrorism and non-proliferation; (2) crime and illicit narcotics; (3) u.s. foreign assistance programs; and (4) the promotion of u.s. trade and exports. in addition, this subcommittee has global responsibility for health-related policy, including disease outbreak and response.\n",
       "Name: committee_description2, dtype: object"
      ]
     },
     "execution_count": 28,
     "metadata": {},
     "output_type": "execute_result"
    }
   ],
   "source": [
    "df_subcomittees.committee_description2.head(1)"
   ]
  },
  {
   "cell_type": "markdown",
   "id": "b2bd4096",
   "metadata": {},
   "source": [
    "##### Removing Punctuation from description"
   ]
  },
  {
   "cell_type": "code",
   "execution_count": 29,
   "id": "3e180348",
   "metadata": {},
   "outputs": [
    {
     "name": "stderr",
     "output_type": "stream",
     "text": [
      "/var/folders/c2/zngcssg14mv23nw0yr96s0wm0000gn/T/ipykernel_17611/2733234590.py:1: FutureWarning: The default value of regex will change from True to False in a future version.\n",
      "  df_subcomittees.committee_description2 = df_subcomittees.committee_description2.str.replace('[{}]'.format(string.punctuation), '')\n"
     ]
    }
   ],
   "source": [
    "df_subcomittees.committee_description2 = df_subcomittees.committee_description2.str.replace('[{}]'.format(string.punctuation), '')"
   ]
  },
  {
   "cell_type": "code",
   "execution_count": 30,
   "id": "5e721377",
   "metadata": {},
   "outputs": [
    {
     "data": {
      "text/plain": [
       "0                                                                                                                                                                                                                                                                                                                                                                                                                                                                                                                                                                                                                                                                                                                                                                                                                                                                                                                                                                                                                                                                      africa and global health policy the subcommittee deals with all matters concerning us relations with countries in africa except those like the countries of north africa specifically covered by other subcommittees as well as regional intergovernmental organizations like the african union and the economic community of west african states this subcommittee’s regional responsibilities include all matters within the geographic region including matters relating to 1 terrorism and nonproliferation 2 crime and illicit narcotics 3 us foreign assistance programs and 4 the promotion of us trade and exports in addition this subcommittee has global responsibility for healthrelated policy including disease outbreak and response\n",
       "1    africa global health and global human rights the subcommittee on africa global health and global human rights the subcommittees shall have jurisdiction over the following within their respective regions 1 matters affecting the political relations between the united states and other countries and regions including resolutions or other legislative measures directed to such relations 2 legislation and oversight regarding human rights practices in particular countries 3 legislation with respect to region or countryspecific loans or other financial relations outside the foreign assistance act 4 legislation with respect to disaster assistance outside the foreign assistance act boundary issues and international claims 5 oversight of regional lending institutions 6 oversight of matters related to the regional activities of the united nations of its affiliated agencies and of other multilateral institutions 7 identification and development of options for meeting future challenges relating to us interests in the region including terrorism and cyber issues 8 oversight of base rights and other facilities access agreements and regional security pacts 9 concurrent oversight jurisdiction with respect to matters assigned to the other subcommittees insofar as they may affect the region 10 oversight of foreign assistance activities affecting the region 11 such other matters as the chairman of the full committee may determine in addition to its regional jurisdiction oversight of international health issues including transboundary infectious diseases maternal health and child survival and programs related to the global ability to address health issues population issues in addition legislation and oversight pertaining to global human rights\n",
       "Name: committee_description2, dtype: object"
      ]
     },
     "execution_count": 30,
     "metadata": {},
     "output_type": "execute_result"
    }
   ],
   "source": [
    "df_subcomittees.committee_description2.head(2)"
   ]
  },
  {
   "cell_type": "markdown",
   "id": "c126b4a0",
   "metadata": {},
   "source": [
    "##### Removing \"Stop Words\""
   ]
  },
  {
   "cell_type": "code",
   "execution_count": 31,
   "id": "a17fd19e",
   "metadata": {},
   "outputs": [],
   "source": [
    "df_subcomittees['committee_description3'] = df_subcomittees.committee_description2.apply(lambda x: ' '.join([word for word in x.split() if word not in (stops)]))"
   ]
  },
  {
   "cell_type": "code",
   "execution_count": 110,
   "id": "1f929591",
   "metadata": {},
   "outputs": [
    {
     "data": {
      "text/plain": [
       "0    africa global health policy subcommittee deals matters concerning us relations countries africa except like countries north africa specifically covered subcommittees well regional intergovernmental organizations like african union economic community west african states subcommittee’s regional responsibilities include matters within geographic region including matters relating 1 terrorism nonproliferation 2 crime illicit narcotics 3 us foreign assistance programs 4 promotion us trade exports addition subcommittee global responsibility healthrelated policy including disease outbreak response\n",
       "Name: committee_description3, dtype: object"
      ]
     },
     "execution_count": 110,
     "metadata": {},
     "output_type": "execute_result"
    }
   ],
   "source": [
    "df_subcomittees.committee_description3.head(1)"
   ]
  },
  {
   "cell_type": "code",
   "execution_count": 33,
   "id": "829ef75f",
   "metadata": {},
   "outputs": [],
   "source": [
    "# df.stock_description2"
   ]
  },
  {
   "cell_type": "markdown",
   "id": "ced52dff",
   "metadata": {},
   "source": [
    "##### Removing numbers/digits from descriptions"
   ]
  },
  {
   "cell_type": "code",
   "execution_count": 111,
   "id": "d083152b",
   "metadata": {},
   "outputs": [
    {
     "name": "stderr",
     "output_type": "stream",
     "text": [
      "/var/folders/c2/zngcssg14mv23nw0yr96s0wm0000gn/T/ipykernel_17611/23686742.py:1: FutureWarning: The default value of regex will change from True to False in a future version.\n",
      "  df_subcomittees.committee_description3 = df_subcomittees.committee_description3.str.replace('\\d+', '')\n"
     ]
    }
   ],
   "source": [
    "df_subcomittees.committee_description3 = df_subcomittees.committee_description3.str.replace('\\d+', '')"
   ]
  },
  {
   "cell_type": "code",
   "execution_count": 114,
   "id": "04434b60",
   "metadata": {
    "scrolled": true
   },
   "outputs": [
    {
     "data": {
      "text/plain": [
       "0    africa global health policy subcommittee deals matters concerning us relations countries africa except like countries north africa specifically covered subcommittees well regional intergovernmental organizations like african union economic community west african states subcommittee’s regional responsibilities include matters within geographic region including matters relating  terrorism nonproliferation  crime illicit narcotics  us foreign assistance programs  promotion us trade exports addition subcommittee global responsibility healthrelated policy including disease outbreak response\n",
       "Name: committee_description3, dtype: object"
      ]
     },
     "execution_count": 114,
     "metadata": {},
     "output_type": "execute_result"
    }
   ],
   "source": [
    "df_subcomittees.committee_description3.head(1)"
   ]
  },
  {
   "cell_type": "code",
   "execution_count": 116,
   "id": "dd532aa6",
   "metadata": {},
   "outputs": [],
   "source": [
    "# df_subcomittees.head(1)"
   ]
  },
  {
   "cell_type": "markdown",
   "id": "17eed05c",
   "metadata": {},
   "source": [
    "##### Step 3"
   ]
  },
  {
   "cell_type": "code",
   "execution_count": 34,
   "id": "f7154be4",
   "metadata": {},
   "outputs": [],
   "source": [
    "stops = set(stopwords.words('english'))\n",
    "# print(stops)"
   ]
  },
  {
   "cell_type": "code",
   "execution_count": 35,
   "id": "30e9d858",
   "metadata": {},
   "outputs": [],
   "source": [
    "# pat = r'\\b(?:{})\\b'.format('|'.join(stop))\n",
    "# test['tweet_without_stopwords'] = test['tweet'].str.replace(pat, '')\n",
    "# test['tweet_without_stopwords'] = test['tweet_without_stopwords'].str.replace(r'\\s+', ' ')\n",
    "# # Same results.\n",
    "# # 0              I love car\n",
    "# # 1       This view amazing\n",
    "# # 2    I feel great morning\n",
    "# # 3       I excited concert\n",
    "# # 4          He best friend"
   ]
  },
  {
   "cell_type": "code",
   "execution_count": null,
   "id": "f17fa75c",
   "metadata": {},
   "outputs": [],
   "source": []
  },
  {
   "cell_type": "code",
   "execution_count": null,
   "id": "d1505fe7",
   "metadata": {},
   "outputs": [],
   "source": []
  },
  {
   "cell_type": "code",
   "execution_count": 36,
   "id": "97370457",
   "metadata": {},
   "outputs": [
    {
     "name": "stdout",
     "output_type": "stream",
     "text": [
      "['All', 'work', 'and', 'no', 'play', 'makes', 'jack', 'a', 'dull', 'boy', ',', 'all', 'work', 'and', 'no', 'play']\n"
     ]
    }
   ],
   "source": [
    "from nltk.tokenize import sent_tokenize, word_tokenize\n",
    "\n",
    "data = \"All work and no play makes jack a dull boy, all work and no play\"\n",
    "print(word_tokenize(data))"
   ]
  },
  {
   "cell_type": "code",
   "execution_count": 37,
   "id": "a8da9fb6",
   "metadata": {},
   "outputs": [
    {
     "name": "stdout",
     "output_type": "stream",
     "text": [
      "['At', 'eight', \"o'clock\", 'on', 'Thursday', 'morning', 'Arthur', 'did', \"n't\", 'feel', 'very', 'good', '.']\n"
     ]
    }
   ],
   "source": [
    "sentence = \"\"\"At eight o'clock on Thursday morning Arthur didn't feel very good.\"\"\"\n",
    "tokens = nltk.word_tokenize(sentence)\n",
    "print(tokens)"
   ]
  },
  {
   "cell_type": "code",
   "execution_count": null,
   "id": "aa3ef187",
   "metadata": {},
   "outputs": [],
   "source": []
  },
  {
   "cell_type": "code",
   "execution_count": null,
   "id": "ef546f00",
   "metadata": {},
   "outputs": [],
   "source": []
  },
  {
   "cell_type": "code",
   "execution_count": null,
   "id": "9398d14b",
   "metadata": {},
   "outputs": [],
   "source": []
  },
  {
   "cell_type": "code",
   "execution_count": null,
   "id": "b96cd712",
   "metadata": {},
   "outputs": [],
   "source": []
  },
  {
   "cell_type": "markdown",
   "id": "e9f92f9d",
   "metadata": {},
   "source": [
    "##### Exploring FuzzyWuzzy + The Fuzz w/ the Data"
   ]
  },
  {
   "cell_type": "code",
   "execution_count": 38,
   "id": "53b5916a",
   "metadata": {},
   "outputs": [],
   "source": [
    "# df.stock_description"
   ]
  },
  {
   "cell_type": "code",
   "execution_count": 39,
   "id": "5c02e488",
   "metadata": {},
   "outputs": [],
   "source": [
    "# df_subcomittees.committee_description"
   ]
  },
  {
   "cell_type": "code",
   "execution_count": null,
   "id": "13b17f3b",
   "metadata": {},
   "outputs": [],
   "source": []
  },
  {
   "cell_type": "code",
   "execution_count": null,
   "id": "875cb2d6",
   "metadata": {},
   "outputs": [],
   "source": []
  },
  {
   "cell_type": "code",
   "execution_count": null,
   "id": "cfe38573",
   "metadata": {},
   "outputs": [],
   "source": []
  },
  {
   "cell_type": "markdown",
   "id": "905c0833",
   "metadata": {},
   "source": [
    "Source: \n",
    "https://chairnerd.seatgeek.com/fuzzywuzzy-fuzzy-string-matching-in-python/\n",
    "\n",
    "https://github.com/seatgeek/thefuzz\n",
    "\n",
    "https://itnext.io/string-similarity-the-basic-know-your-algorithms-guide-3de3d7346227"
   ]
  },
  {
   "cell_type": "markdown",
   "id": "95140e71",
   "metadata": {},
   "source": [
    "Simple Ratios"
   ]
  },
  {
   "cell_type": "code",
   "execution_count": 40,
   "id": "4f5f616b",
   "metadata": {},
   "outputs": [
    {
     "data": {
      "text/plain": [
       "0.9629629629629629"
      ]
     },
     "execution_count": 40,
     "metadata": {},
     "output_type": "execute_result"
    }
   ],
   "source": [
    "m = SequenceMatcher(None, \"NEW YORK METS\", \"NEW YORK MEATS\")\n",
    "m.ratio()"
   ]
  },
  {
   "cell_type": "code",
   "execution_count": 41,
   "id": "5f0fa250",
   "metadata": {},
   "outputs": [
    {
     "data": {
      "text/plain": [
       "96"
      ]
     },
     "execution_count": 41,
     "metadata": {},
     "output_type": "execute_result"
    }
   ],
   "source": [
    "fuzz.ratio(\"NEW YORK METS\", \"NEW YORK MEATS\")"
   ]
  },
  {
   "cell_type": "code",
   "execution_count": 42,
   "id": "fc86e378",
   "metadata": {},
   "outputs": [
    {
     "data": {
      "text/plain": [
       "61"
      ]
     },
     "execution_count": 42,
     "metadata": {},
     "output_type": "execute_result"
    }
   ],
   "source": [
    "fuzz.ratio(\"YANKEES\", \"NEW YORK YANKEES\")"
   ]
  },
  {
   "cell_type": "code",
   "execution_count": 43,
   "id": "c1a3dd6d",
   "metadata": {},
   "outputs": [
    {
     "data": {
      "text/plain": [
       "76"
      ]
     },
     "execution_count": 43,
     "metadata": {},
     "output_type": "execute_result"
    }
   ],
   "source": [
    "fuzz.ratio(\"NEW YORK METS\", \"NEW YORK YANKEES\")"
   ]
  },
  {
   "cell_type": "code",
   "execution_count": 44,
   "id": "6e5e7093",
   "metadata": {},
   "outputs": [
    {
     "data": {
      "text/plain": [
       "14"
      ]
     },
     "execution_count": 44,
     "metadata": {},
     "output_type": "execute_result"
    }
   ],
   "source": [
    "fuzz.ratio(\"YANKEES\", \"NEW YOR\")"
   ]
  },
  {
   "cell_type": "code",
   "execution_count": 45,
   "id": "3d55b527",
   "metadata": {},
   "outputs": [
    {
     "data": {
      "text/plain": [
       "29"
      ]
     },
     "execution_count": 45,
     "metadata": {},
     "output_type": "execute_result"
    }
   ],
   "source": [
    "fuzz.ratio(\"YANKEES\", \"EW YORK\")"
   ]
  },
  {
   "cell_type": "code",
   "execution_count": 46,
   "id": "6fa947d8",
   "metadata": {},
   "outputs": [
    {
     "data": {
      "text/plain": [
       "100"
      ]
     },
     "execution_count": 46,
     "metadata": {},
     "output_type": "execute_result"
    }
   ],
   "source": [
    "fuzz.ratio(\"YANKEES\", \"YANKEES\")"
   ]
  },
  {
   "cell_type": "code",
   "execution_count": 47,
   "id": "8d151582",
   "metadata": {},
   "outputs": [
    {
     "data": {
      "text/plain": [
       "97"
      ]
     },
     "execution_count": 47,
     "metadata": {},
     "output_type": "execute_result"
    }
   ],
   "source": [
    "fuzz.ratio(\"this is a test\", \"this is a test!\")"
   ]
  },
  {
   "cell_type": "markdown",
   "id": "e65d28cf",
   "metadata": {},
   "source": [
    "Partial Ratio"
   ]
  },
  {
   "cell_type": "code",
   "execution_count": 48,
   "id": "8bde596d",
   "metadata": {},
   "outputs": [
    {
     "data": {
      "text/plain": [
       "100"
      ]
     },
     "execution_count": 48,
     "metadata": {},
     "output_type": "execute_result"
    }
   ],
   "source": [
    "# A perfect Partial Match\n",
    "fuzz.partial_ratio(\"YANKEES\", \"NEW YORK YANKEES\")"
   ]
  },
  {
   "cell_type": "code",
   "execution_count": 49,
   "id": "2a69fa25",
   "metadata": {},
   "outputs": [
    {
     "data": {
      "text/plain": [
       "69"
      ]
     },
     "execution_count": 49,
     "metadata": {},
     "output_type": "execute_result"
    }
   ],
   "source": [
    "fuzz.partial_ratio(\"NEW YORK METS\", \"NEW YORK YANKEES\")"
   ]
  },
  {
   "cell_type": "markdown",
   "id": "0c0394d5",
   "metadata": {},
   "source": [
    "Token Sort Ratio"
   ]
  },
  {
   "cell_type": "code",
   "execution_count": 50,
   "id": "6b7efc96",
   "metadata": {},
   "outputs": [
    {
     "data": {
      "text/plain": [
       "45"
      ]
     },
     "execution_count": 50,
     "metadata": {},
     "output_type": "execute_result"
    }
   ],
   "source": [
    "#without token sort\n",
    "fuzz.ratio(\"New York Mets vs Atlanta Braves\", \"Atlanta Braves vs New York Mets\")"
   ]
  },
  {
   "cell_type": "code",
   "execution_count": 51,
   "id": "49ff4ae0",
   "metadata": {},
   "outputs": [
    {
     "data": {
      "text/plain": [
       "100"
      ]
     },
     "execution_count": 51,
     "metadata": {},
     "output_type": "execute_result"
    }
   ],
   "source": [
    "#with token sort\n",
    "fuzz.token_sort_ratio(\"New York Mets vs Atlanta Braves\", \"Atlanta Braves vs New York Mets\")"
   ]
  },
  {
   "cell_type": "code",
   "execution_count": 52,
   "id": "b384df53",
   "metadata": {},
   "outputs": [
    {
     "data": {
      "text/plain": [
       "91"
      ]
     },
     "execution_count": 52,
     "metadata": {},
     "output_type": "execute_result"
    }
   ],
   "source": [
    "fuzz.ratio(\"fuzzy wuzzy was a bear\", \"wuzzy fuzzy was a bear\")"
   ]
  },
  {
   "cell_type": "code",
   "execution_count": 53,
   "id": "d90263fd",
   "metadata": {},
   "outputs": [
    {
     "data": {
      "text/plain": [
       "100"
      ]
     },
     "execution_count": 53,
     "metadata": {},
     "output_type": "execute_result"
    }
   ],
   "source": [
    "fuzz.token_sort_ratio(\"fuzzy wuzzy was a bear\", \"wuzzy fuzzy was a bear\")"
   ]
  },
  {
   "cell_type": "markdown",
   "id": "0316fa80",
   "metadata": {},
   "source": [
    "Token Set"
   ]
  },
  {
   "cell_type": "code",
   "execution_count": null,
   "id": "cfd77ba0",
   "metadata": {},
   "outputs": [],
   "source": []
  },
  {
   "cell_type": "code",
   "execution_count": 54,
   "id": "fe7dc081",
   "metadata": {},
   "outputs": [],
   "source": [
    "s1 = \"mariners vs angels\"\n",
    "s2 = \"los angeles angels of anaheim at seattle mariners\""
   ]
  },
  {
   "cell_type": "code",
   "execution_count": 55,
   "id": "3c797a11",
   "metadata": {},
   "outputs": [],
   "source": [
    "t0 = \"angels mariners\"\n",
    "t1 = \"angels mariners vs\"\n",
    "t2 = \"angels mariners anaheim angeles at los of seattle\""
   ]
  },
  {
   "cell_type": "code",
   "execution_count": 56,
   "id": "5d0e6ec6",
   "metadata": {},
   "outputs": [],
   "source": [
    "# t0 = [SORTED_INTERSECTION]\n",
    "# t1 = [SORTED_INTERSECTION] + [SORTED_REST_OF_STRING1]\n",
    "# t2 = [SORTED_INTERSECTION] + [SORTED_REST_OF_STRING2]"
   ]
  },
  {
   "cell_type": "code",
   "execution_count": 57,
   "id": "d3019a05",
   "metadata": {},
   "outputs": [
    {
     "data": {
      "text/plain": [
       "91"
      ]
     },
     "execution_count": 57,
     "metadata": {},
     "output_type": "execute_result"
    }
   ],
   "source": [
    "fuzz.ratio(t0, t1)"
   ]
  },
  {
   "cell_type": "code",
   "execution_count": 58,
   "id": "2cac45d5",
   "metadata": {},
   "outputs": [
    {
     "data": {
      "text/plain": [
       "47"
      ]
     },
     "execution_count": 58,
     "metadata": {},
     "output_type": "execute_result"
    }
   ],
   "source": [
    "fuzz.ratio(t0, t2)"
   ]
  },
  {
   "cell_type": "code",
   "execution_count": 59,
   "id": "61e753f9",
   "metadata": {},
   "outputs": [
    {
     "data": {
      "text/plain": [
       "51"
      ]
     },
     "execution_count": 59,
     "metadata": {},
     "output_type": "execute_result"
    }
   ],
   "source": [
    "fuzz.ratio(t1, t2)"
   ]
  },
  {
   "cell_type": "code",
   "execution_count": 60,
   "id": "998d03cf",
   "metadata": {},
   "outputs": [
    {
     "data": {
      "text/plain": [
       "91"
      ]
     },
     "execution_count": 60,
     "metadata": {},
     "output_type": "execute_result"
    }
   ],
   "source": [
    "fuzz.token_set_ratio(\"mariners vs angels\", \"los angeles angels of anaheim at seattle mariners\")"
   ]
  },
  {
   "cell_type": "code",
   "execution_count": 61,
   "id": "6723234e",
   "metadata": {},
   "outputs": [
    {
     "data": {
      "text/plain": [
       "100"
      ]
     },
     "execution_count": 61,
     "metadata": {},
     "output_type": "execute_result"
    }
   ],
   "source": [
    "fuzz.token_set_ratio(\"Sirhan, Sirhan\", \"Sirhan\")"
   ]
  },
  {
   "cell_type": "code",
   "execution_count": 62,
   "id": "f76f2817",
   "metadata": {},
   "outputs": [
    {
     "data": {
      "text/plain": [
       "84"
      ]
     },
     "execution_count": 62,
     "metadata": {},
     "output_type": "execute_result"
    }
   ],
   "source": [
    "fuzz.token_sort_ratio(\"fuzzy was a bear\", \"fuzzy fuzzy was a bear\")"
   ]
  },
  {
   "cell_type": "code",
   "execution_count": 63,
   "id": "6dd30362",
   "metadata": {},
   "outputs": [
    {
     "data": {
      "text/plain": [
       "100"
      ]
     },
     "execution_count": 63,
     "metadata": {},
     "output_type": "execute_result"
    }
   ],
   "source": [
    "fuzz.token_set_ratio(\"fuzzy was a bear\", \"fuzzy fuzzy was a bear\")"
   ]
  },
  {
   "cell_type": "markdown",
   "id": "95a113e7",
   "metadata": {},
   "source": [
    "Process?"
   ]
  },
  {
   "cell_type": "code",
   "execution_count": 64,
   "id": "c4449c7a",
   "metadata": {},
   "outputs": [],
   "source": [
    "choices = [\"Atlanta Falcons\", \"New York Jets\", \"New York Giants\", \"Dallas Cowboys\"]"
   ]
  },
  {
   "cell_type": "code",
   "execution_count": 65,
   "id": "04700575",
   "metadata": {},
   "outputs": [
    {
     "data": {
      "text/plain": [
       "[('New York Jets', 100), ('New York Giants', 79)]"
      ]
     },
     "execution_count": 65,
     "metadata": {},
     "output_type": "execute_result"
    }
   ],
   "source": [
    "process.extract(\"new york jets\", choices, limit=2)"
   ]
  },
  {
   "cell_type": "code",
   "execution_count": 66,
   "id": "de070424",
   "metadata": {},
   "outputs": [
    {
     "data": {
      "text/plain": [
       "[('New York Jets', 100), ('New York Giants', 79), ('Atlanta Falcons', 29)]"
      ]
     },
     "execution_count": 66,
     "metadata": {},
     "output_type": "execute_result"
    }
   ],
   "source": [
    "process.extract(\"new york jets\", choices, limit=3)"
   ]
  },
  {
   "cell_type": "code",
   "execution_count": 67,
   "id": "96d9cda8",
   "metadata": {},
   "outputs": [
    {
     "data": {
      "text/plain": [
       "('Dallas Cowboys', 90)"
      ]
     },
     "execution_count": 67,
     "metadata": {},
     "output_type": "execute_result"
    }
   ],
   "source": [
    "process.extractOne(\"cowboys\", choices)"
   ]
  },
  {
   "cell_type": "code",
   "execution_count": 68,
   "id": "050a20fe",
   "metadata": {},
   "outputs": [],
   "source": [
    "#parameters to extractOne to make it use a specific scorer\n",
    "# >>> process.extractOne(\"System of a down - Hypnotize - Heroin\", songs)\n",
    "#     ('/music/library/good/System of a Down/2005 - Hypnotize/01 - Attack.mp3', 86)\n",
    "# >>> process.extractOne(\"System of a down - Hypnotize - Heroin\", songs, scorer=fuzz.token_sort_ratio)\n",
    "#     (\"/music/library/good/System of a Down/2005 - Hypnotize/10 - She's Like Heroin.mp3\", 61)"
   ]
  },
  {
   "cell_type": "markdown",
   "id": "a2dacd3d",
   "metadata": {},
   "source": [
    "----"
   ]
  },
  {
   "cell_type": "markdown",
   "id": "077b2f12",
   "metadata": {},
   "source": [
    "##### Types of Algorithms"
   ]
  },
  {
   "cell_type": "markdown",
   "id": "e8ab931b",
   "metadata": {},
   "source": [
    "Source: https://itnext.io/string-similarity-the-basic-know-your-algorithms-guide-3de3d7346227\n",
    "\n",
    "Based on the properties of operations, string similarity algorithms can be classified into a bunch of domains. Let’s discuss a few of them,\n",
    "Edit distance based: Algorithms falling under this category try to compute the number of operations needed to transforms one string to another. More the number of operations, less is the similarity between the two strings. One point to note, in this case, every index character of the string is given equal importance.\n",
    "\n",
    "Token-based: In this category, the expected input is a set of tokens, rather than complete strings. The idea is to find the similar tokens in both sets. More the number of common tokens, more is the similarity between the sets. A string can be transformed into sets by splitting using a delimiter. This way, we can transform a sentence into tokens of words or n-grams characters. Note, here tokens of different length have equal importance.\n",
    "\n",
    "Sequence-based: Here, the similarity is a factor of common sub-strings between the two strings. The algorithms, try to find the longest sequence which is present in both strings, the more of these sequences found, higher is the similarity score. Note, here combination of characters of same length have equal importance."
   ]
  },
  {
   "cell_type": "markdown",
   "id": "0bf3e0d2",
   "metadata": {},
   "source": [
    "Hamming Distance (finding the places where the strings vary)"
   ]
  },
  {
   "cell_type": "code",
   "execution_count": 69,
   "id": "1448583f",
   "metadata": {},
   "outputs": [
    {
     "data": {
      "text/plain": [
       "1"
      ]
     },
     "execution_count": 69,
     "metadata": {},
     "output_type": "execute_result"
    }
   ],
   "source": [
    "#the edit distance is 1 for only the difference being one letter different\n",
    "textdistance.hamming('text', 'test')"
   ]
  },
  {
   "cell_type": "code",
   "execution_count": 70,
   "id": "0d755b61",
   "metadata": {},
   "outputs": [
    {
     "data": {
      "text/plain": [
       "0.75"
      ]
     },
     "execution_count": 70,
     "metadata": {},
     "output_type": "execute_result"
    }
   ],
   "source": [
    "#75% similar between text and test\n",
    "textdistance.hamming.normalized_similarity('text', 'test')"
   ]
  },
  {
   "cell_type": "code",
   "execution_count": 71,
   "id": "c4cbf738",
   "metadata": {},
   "outputs": [
    {
     "data": {
      "text/plain": [
       "3"
      ]
     },
     "execution_count": 71,
     "metadata": {},
     "output_type": "execute_result"
    }
   ],
   "source": [
    "textdistance.hamming('arrow', 'arow')"
   ]
  },
  {
   "cell_type": "code",
   "execution_count": 72,
   "id": "39edce74",
   "metadata": {},
   "outputs": [
    {
     "data": {
      "text/plain": [
       "0.4"
      ]
     },
     "execution_count": 72,
     "metadata": {},
     "output_type": "execute_result"
    }
   ],
   "source": [
    "textdistance.hamming.normalized_similarity('arrow', 'arow')"
   ]
  },
  {
   "cell_type": "markdown",
   "id": "00f55064",
   "metadata": {},
   "source": [
    "Levenshtein Distance (finding the number of edits which will transform one string to another)"
   ]
  },
  {
   "cell_type": "code",
   "execution_count": 73,
   "id": "bf9f4bcb",
   "metadata": {},
   "outputs": [
    {
     "data": {
      "text/plain": [
       "1"
      ]
     },
     "execution_count": 73,
     "metadata": {},
     "output_type": "execute_result"
    }
   ],
   "source": [
    "#number of edits it will take to transform one to the other\n",
    "textdistance.levenshtein('arrow', 'arow')"
   ]
  },
  {
   "cell_type": "code",
   "execution_count": 74,
   "id": "882c050e",
   "metadata": {},
   "outputs": [
    {
     "data": {
      "text/plain": [
       "0.8"
      ]
     },
     "execution_count": 74,
     "metadata": {},
     "output_type": "execute_result"
    }
   ],
   "source": [
    "textdistance.levenshtein.normalized_similarity('arrow', 'arow')"
   ]
  },
  {
   "cell_type": "markdown",
   "id": "20d4d10c",
   "metadata": {},
   "source": [
    "Jaro-Winkler "
   ]
  },
  {
   "cell_type": "markdown",
   "id": "c38fce79",
   "metadata": {},
   "source": [
    "\"(1) they contain same characters, but within a certain distance from one another, and (2) the order of the matching characters is same.\""
   ]
  },
  {
   "cell_type": "code",
   "execution_count": 75,
   "id": "5b50fa0f",
   "metadata": {},
   "outputs": [],
   "source": [
    "# textdistance.jaro_winkler(\"mes\", \"messi\")"
   ]
  },
  {
   "cell_type": "code",
   "execution_count": 76,
   "id": "7b5f2591",
   "metadata": {},
   "outputs": [],
   "source": [
    "# textdistance.jaro_winkler(\"crate\", \"crat\")"
   ]
  },
  {
   "cell_type": "code",
   "execution_count": 77,
   "id": "5a3b4279",
   "metadata": {},
   "outputs": [],
   "source": [
    "# textdistance.jaro_winkler(\"crate\", \"atcr\")"
   ]
  },
  {
   "cell_type": "markdown",
   "id": "c1c03f84",
   "metadata": {},
   "source": [
    "Jaccard Index (find the number of common tokens and divide it by the total number of unique tokens)\n",
    "\n",
    "\"We first tokenize the string by default space delimiter, to make words in the strings as tokens. Then we compute the similarity score.\" "
   ]
  },
  {
   "cell_type": "code",
   "execution_count": 78,
   "id": "3bcad3f8",
   "metadata": {},
   "outputs": [],
   "source": [
    "tokens_1 = \"hello world\".split()\n",
    "tokens_2 = \"world hello\".split()"
   ]
  },
  {
   "cell_type": "code",
   "execution_count": 79,
   "id": "d8643473",
   "metadata": {},
   "outputs": [
    {
     "data": {
      "text/plain": [
       "1.0"
      ]
     },
     "execution_count": 79,
     "metadata": {},
     "output_type": "execute_result"
    }
   ],
   "source": [
    "textdistance.jaccard(tokens_1 , tokens_2)"
   ]
  },
  {
   "cell_type": "code",
   "execution_count": 80,
   "id": "17a9c0ce",
   "metadata": {},
   "outputs": [],
   "source": [
    "tokens_1 = \"hello new world\".split()\n",
    "tokens_2 = \"hello world\".split()"
   ]
  },
  {
   "cell_type": "code",
   "execution_count": 81,
   "id": "28b39866",
   "metadata": {},
   "outputs": [
    {
     "data": {
      "text/plain": [
       "0.6666666666666666"
      ]
     },
     "execution_count": 81,
     "metadata": {},
     "output_type": "execute_result"
    }
   ],
   "source": [
    "textdistance.jaccard(tokens_1 , tokens_2)"
   ]
  },
  {
   "cell_type": "markdown",
   "id": "09745251",
   "metadata": {},
   "source": []
  },
  {
   "cell_type": "markdown",
   "id": "fae257bd",
   "metadata": {},
   "source": [
    "Sorensen-Dice \n",
    "\n",
    "\"Falling under set similarity, the logic is to find the common tokens, and divide it by the total number of tokens present by combining both sets.\" "
   ]
  },
  {
   "cell_type": "code",
   "execution_count": 82,
   "id": "f99d0476",
   "metadata": {},
   "outputs": [],
   "source": [
    "tokens_1 = \"hello world\".split()\n",
    "tokens_2 = \"world hello\".split()"
   ]
  },
  {
   "cell_type": "code",
   "execution_count": 83,
   "id": "68fd3b41",
   "metadata": {},
   "outputs": [
    {
     "data": {
      "text/plain": [
       "1.0"
      ]
     },
     "execution_count": 83,
     "metadata": {},
     "output_type": "execute_result"
    }
   ],
   "source": [
    "textdistance.sorensen(tokens_1 , tokens_2)"
   ]
  },
  {
   "cell_type": "code",
   "execution_count": 84,
   "id": "a7772bd9",
   "metadata": {},
   "outputs": [],
   "source": [
    "tokens_1 = \"hello new world\".split()\n",
    "tokens_2 = \"hello world\".split()"
   ]
  },
  {
   "cell_type": "code",
   "execution_count": 85,
   "id": "20665ee1",
   "metadata": {},
   "outputs": [
    {
     "data": {
      "text/plain": [
       "0.8"
      ]
     },
     "execution_count": 85,
     "metadata": {},
     "output_type": "execute_result"
    }
   ],
   "source": [
    "textdistance.sorensen(tokens_1 , tokens_2)"
   ]
  },
  {
   "cell_type": "markdown",
   "id": "a2e793b8",
   "metadata": {},
   "source": [
    "Ratcliff-Obershelp similarity"
   ]
  },
  {
   "cell_type": "code",
   "execution_count": 86,
   "id": "4d74261a",
   "metadata": {},
   "outputs": [],
   "source": [
    "string1, string2 = \"i am going home\", \"gone home\""
   ]
  },
  {
   "cell_type": "code",
   "execution_count": 87,
   "id": "7763f9bd",
   "metadata": {},
   "outputs": [
    {
     "data": {
      "text/plain": [
       "0.6666666666666666"
      ]
     },
     "execution_count": 87,
     "metadata": {},
     "output_type": "execute_result"
    }
   ],
   "source": [
    "textdistance.ratcliff_obershelp(string1, string2)"
   ]
  },
  {
   "cell_type": "code",
   "execution_count": 88,
   "id": "7b0e56da",
   "metadata": {},
   "outputs": [],
   "source": [
    "string1, string2 = \"helloworld\", \"worldhello\""
   ]
  },
  {
   "cell_type": "code",
   "execution_count": 89,
   "id": "a98fe076",
   "metadata": {},
   "outputs": [
    {
     "data": {
      "text/plain": [
       "0.5"
      ]
     },
     "execution_count": 89,
     "metadata": {},
     "output_type": "execute_result"
    }
   ],
   "source": [
    "textdistance.ratcliff_obershelp(string1, string2)"
   ]
  },
  {
   "cell_type": "code",
   "execution_count": 90,
   "id": "cc6945ec",
   "metadata": {},
   "outputs": [],
   "source": [
    "string1, string2 = \"test\", \"text\""
   ]
  },
  {
   "cell_type": "code",
   "execution_count": 91,
   "id": "fd3e30af",
   "metadata": {},
   "outputs": [
    {
     "data": {
      "text/plain": [
       "0.75"
      ]
     },
     "execution_count": 91,
     "metadata": {},
     "output_type": "execute_result"
    }
   ],
   "source": [
    "textdistance.ratcliff_obershelp(string1, string2)"
   ]
  },
  {
   "cell_type": "code",
   "execution_count": 92,
   "id": "3dec5e6e",
   "metadata": {},
   "outputs": [],
   "source": [
    "string1, string2 = \"mes\", \"simes\""
   ]
  },
  {
   "cell_type": "code",
   "execution_count": 93,
   "id": "440b0b60",
   "metadata": {},
   "outputs": [
    {
     "data": {
      "text/plain": [
       "0.75"
      ]
     },
     "execution_count": 93,
     "metadata": {},
     "output_type": "execute_result"
    }
   ],
   "source": [
    "textdistance.ratcliff_obershelp(string1, string2)"
   ]
  },
  {
   "cell_type": "code",
   "execution_count": 94,
   "id": "8069be30",
   "metadata": {},
   "outputs": [],
   "source": [
    "string1, string2 = \"arrow\", \"arow\""
   ]
  },
  {
   "cell_type": "code",
   "execution_count": 95,
   "id": "4d6d8acd",
   "metadata": {},
   "outputs": [
    {
     "data": {
      "text/plain": [
       "0.8888888888888888"
      ]
     },
     "execution_count": 95,
     "metadata": {},
     "output_type": "execute_result"
    }
   ],
   "source": [
    "textdistance.ratcliff_obershelp(string1, string2)"
   ]
  },
  {
   "cell_type": "code",
   "execution_count": null,
   "id": "2877879d",
   "metadata": {},
   "outputs": [],
   "source": []
  },
  {
   "cell_type": "markdown",
   "id": "db77f4fb",
   "metadata": {},
   "source": [
    "-----"
   ]
  },
  {
   "cell_type": "markdown",
   "id": "829c8a83",
   "metadata": {},
   "source": [
    "Data Notes:\n",
    "\n",
    "1. combine committee fullname with committee description in new column\n",
    "2. remove duplicate words in each description\n",
    "3. (agriculture vs. agricultural)"
   ]
  },
  {
   "cell_type": "markdown",
   "id": "0ee869d3",
   "metadata": {},
   "source": [
    "5. remove numbers and words, punctuation \n",
    "\n",
    "* a \n",
    "* includes\n",
    "* deals \n",
    "* shall\n",
    "* jurisdiction\n",
    "* policy \n",
    "* member\n",
    "* ranking\n",
    "* \n",
    "\n",
    "\n"
   ]
  },
  {
   "cell_type": "code",
   "execution_count": null,
   "id": "1488ea52",
   "metadata": {},
   "outputs": [],
   "source": []
  }
 ],
 "metadata": {
  "kernelspec": {
   "display_name": "Python 3 (ipykernel)",
   "language": "python",
   "name": "python3"
  },
  "language_info": {
   "codemirror_mode": {
    "name": "ipython",
    "version": 3
   },
   "file_extension": ".py",
   "mimetype": "text/x-python",
   "name": "python",
   "nbconvert_exporter": "python",
   "pygments_lexer": "ipython3",
   "version": "3.10.0"
  }
 },
 "nbformat": 4,
 "nbformat_minor": 5
}
