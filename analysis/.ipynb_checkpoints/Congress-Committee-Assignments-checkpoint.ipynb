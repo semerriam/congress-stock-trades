{
 "cells": [
  {
   "cell_type": "markdown",
   "id": "a3f9a2e7",
   "metadata": {},
   "source": [
    "# Congress Committee Assignments"
   ]
  },
  {
   "cell_type": "markdown",
   "id": "3a8afb1f",
   "metadata": {},
   "source": [
    "Text"
   ]
  },
  {
   "cell_type": "markdown",
   "id": "1a958a00",
   "metadata": {},
   "source": [
    "Source: https://theunitedstates.io/\n",
    "\n",
    "Source for Scraper of Committee Assignments: https://github.com/unitedstates/congress-legislators/blob/main/scripts/committee_membership.py\n",
    "\n",
    "Committee Assignments: https://github.com/unitedstates/congress/wiki/committee-meetings"
   ]
  },
  {
   "cell_type": "markdown",
   "id": "d19d54a9",
   "metadata": {},
   "source": [
    "----"
   ]
  },
  {
   "cell_type": "markdown",
   "id": "c1005624",
   "metadata": {},
   "source": [
    "##### Imports"
   ]
  },
  {
   "cell_type": "code",
   "execution_count": 1,
   "id": "ceebff00",
   "metadata": {},
   "outputs": [
    {
     "name": "stderr",
     "output_type": "stream",
     "text": [
      "/Users/sm/.pyenv/versions/3.10.0/lib/python3.10/site-packages/pandas/compat/__init__.py:124: UserWarning: Could not import the lzma module. Your installed Python is incomplete. Attempting to use lzma compression will result in a RuntimeError.\n",
      "  warnings.warn(msg)\n"
     ]
    }
   ],
   "source": [
    "import pandas as pd\n",
    "from plotnine import *"
   ]
  },
  {
   "cell_type": "code",
   "execution_count": 2,
   "id": "6090c3df",
   "metadata": {},
   "outputs": [],
   "source": [
    "pd.set_option('display.max_columns', None)\n",
    "pd.set_option('display.max_rows', None)\n",
    "pd.set_option('display.width', None)\n",
    "pd.set_option('display.max_colwidth', None)\n",
    "pd.set_option('max_seq_item', None)"
   ]
  },
  {
   "cell_type": "code",
   "execution_count": 3,
   "id": "8ed1161c",
   "metadata": {},
   "outputs": [],
   "source": [
    "from mizani.breaks import date_breaks\n",
    "from mizani.formatters import date_format"
   ]
  },
  {
   "cell_type": "code",
   "execution_count": 4,
   "id": "0ff73265",
   "metadata": {},
   "outputs": [],
   "source": [
    "%load_ext rpy2.ipython\n",
    "%load_ext autoreload\n",
    "%autoreload 2\n",
    "\n",
    "%matplotlib inline  \n",
    "from matplotlib import rcParams\n",
    "rcParams['figure.figsize'] = (16, 100)\n",
    "\n",
    "import warnings\n",
    "from rpy2.rinterface import RRuntimeWarning\n",
    "warnings.filterwarnings(\"ignore\") # Ignore all warnings\n",
    "# warnings.filterwarnings(\"ignore\", category=RRuntimeWarning) # Show some warnings\n",
    "\n",
    "import pandas as pd\n",
    "import numpy as np\n",
    "import matplotlib.pyplot as plt\n",
    "from IPython.display import display, HTML"
   ]
  },
  {
   "cell_type": "code",
   "execution_count": 5,
   "id": "083b4590",
   "metadata": {},
   "outputs": [
    {
     "data": {
      "application/javascript": [
       "// Disable auto-scrolling\n",
       "IPython.OutputArea.prototype._should_scroll = function(lines) {\n",
       "    return false;\n",
       "}\n"
      ],
      "text/plain": [
       "<IPython.core.display.Javascript object>"
      ]
     },
     "metadata": {},
     "output_type": "display_data"
    }
   ],
   "source": [
    "%%javascript\n",
    "// Disable auto-scrolling\n",
    "IPython.OutputArea.prototype._should_scroll = function(lines) {\n",
    "    return false;\n",
    "}"
   ]
  },
  {
   "cell_type": "code",
   "execution_count": 7,
   "id": "813f1e6c",
   "metadata": {},
   "outputs": [
    {
     "name": "stderr",
     "output_type": "stream",
     "text": [
      "R[write to console]: Loading required package: ragg\n",
      "\n"
     ]
    }
   ],
   "source": [
    "%%R\n",
    "\n",
    "# My commonly used R imports\n",
    "\n",
    "require('ggplot2')\n",
    "require('readr')\n",
    "require('extrafont')\n",
    "require('dplyr')\n",
    "require('reshape2')\n",
    "require('explore')\n",
    "require('tidyr')\n",
    "require('forcats')\n",
    "require('knitr')\n",
    "require('ragg')\n",
    "require('palmerpenguins')\n",
    "# require('theme538')"
   ]
  },
  {
   "cell_type": "code",
   "execution_count": 8,
   "id": "a8089f4d",
   "metadata": {},
   "outputs": [
    {
     "data": {
      "text/html": [
       "<div>\n",
       "<style scoped>\n",
       "    .dataframe tbody tr th:only-of-type {\n",
       "        vertical-align: middle;\n",
       "    }\n",
       "\n",
       "    .dataframe tbody tr th {\n",
       "        vertical-align: top;\n",
       "    }\n",
       "\n",
       "    .dataframe thead th {\n",
       "        text-align: right;\n",
       "    }\n",
       "</style>\n",
       "<table border=\"1\" class=\"dataframe\">\n",
       "  <thead>\n",
       "    <tr style=\"text-align: right;\">\n",
       "      <th></th>\n",
       "      <th>A</th>\n",
       "      <th>B</th>\n",
       "    </tr>\n",
       "  </thead>\n",
       "  <tbody>\n",
       "    <tr>\n",
       "      <th>0</th>\n",
       "      <td>65</td>\n",
       "      <td>64</td>\n",
       "    </tr>\n",
       "    <tr>\n",
       "      <th>1</th>\n",
       "      <td>0</td>\n",
       "      <td>76</td>\n",
       "    </tr>\n",
       "    <tr>\n",
       "      <th>2</th>\n",
       "      <td>43</td>\n",
       "      <td>23</td>\n",
       "    </tr>\n",
       "    <tr>\n",
       "      <th>3</th>\n",
       "      <td>73</td>\n",
       "      <td>76</td>\n",
       "    </tr>\n",
       "    <tr>\n",
       "      <th>4</th>\n",
       "      <td>28</td>\n",
       "      <td>12</td>\n",
       "    </tr>\n",
       "  </tbody>\n",
       "</table>\n",
       "</div>"
      ],
      "text/plain": [
       "    A   B\n",
       "0  65  64\n",
       "1   0  76\n",
       "2  43  23\n",
       "3  73  76\n",
       "4  28  12"
      ]
     },
     "execution_count": 8,
     "metadata": {},
     "output_type": "execute_result"
    }
   ],
   "source": [
    "df = pd.DataFrame(\n",
    "    np.random.randint(0,100,size=(100, 2)), columns=list('AB'))\n",
    "df.head()"
   ]
  },
  {
   "cell_type": "code",
   "execution_count": 9,
   "id": "d026def5",
   "metadata": {},
   "outputs": [
    {
     "data": {
      "image/png": "[encoded data removed]"
     },
     "metadata": {},
     "output_type": "display_data"
    }
   ],
   "source": [
    "%%R -i df\n",
    "\n",
    "# EXAMPLE R CELL\n",
    "df\n",
    "plt <- ggplot(df) +\n",
    "    geom_point(aes(A,B))\n",
    "\n",
    "plt"
   ]
  },
  {
   "cell_type": "code",
   "execution_count": 10,
   "id": "b68a1a56",
   "metadata": {},
   "outputs": [],
   "source": [
    "import re, lxml.html, lxml.etree\n",
    "from collections import OrderedDict\n",
    "import utils"
   ]
  },
  {
   "cell_type": "code",
   "execution_count": 11,
   "id": "bb4d020d",
   "metadata": {},
   "outputs": [],
   "source": [
    "from python_utils.import_ import import_global"
   ]
  },
  {
   "cell_type": "code",
   "execution_count": 12,
   "id": "090b580b",
   "metadata": {},
   "outputs": [],
   "source": [
    "# from utils import download, load_data, save_data"
   ]
  },
  {
   "cell_type": "code",
   "execution_count": 13,
   "id": "8bd97afd",
   "metadata": {},
   "outputs": [],
   "source": [
    "import yaml\n",
    "import pandas as pd"
   ]
  },
  {
   "cell_type": "code",
   "execution_count": 14,
   "id": "219bab8b",
   "metadata": {},
   "outputs": [],
   "source": [
    "import requests"
   ]
  },
  {
   "cell_type": "code",
   "execution_count": 15,
   "id": "8aee62e4",
   "metadata": {},
   "outputs": [],
   "source": [
    "# pip install us"
   ]
  },
  {
   "cell_type": "code",
   "execution_count": 16,
   "id": "bb35ac64",
   "metadata": {},
   "outputs": [],
   "source": [
    "import us"
   ]
  },
  {
   "cell_type": "markdown",
   "id": "ba1fad27",
   "metadata": {},
   "source": [
    "----"
   ]
  },
  {
   "cell_type": "markdown",
   "id": "4df946ac",
   "metadata": {},
   "source": [
    "Propublica API Key: KEY: QvCILhrUqLY3PBDQtzaO7EmYrjEaEGMmBkj3R0jq"
   ]
  },
  {
   "cell_type": "markdown",
   "id": "3f10366f",
   "metadata": {},
   "source": [
    "https://api.propublica.org/congress/v1/{congress}/{chamber}/committees.json"
   ]
  },
  {
   "cell_type": "markdown",
   "id": "761c553c",
   "metadata": {},
   "source": [
    "curl \"https://api.propublica.org/congress/v1/115/senate/committees.json\"\n",
    "  -H \"X-API-Key: PROPUBLICA_API_KEY\""
   ]
  },
  {
   "cell_type": "markdown",
   "id": "69ef319f",
   "metadata": {},
   "source": [
    "\"https://api.propublica.org/congress/v1/115/senate/committees.json-\""
   ]
  },
  {
   "cell_type": "code",
   "execution_count": 17,
   "id": "bf636c08",
   "metadata": {},
   "outputs": [],
   "source": [
    "# url = f\"https://theunitedstates.io/congress-legislators/committee-membership-current.json\"\n",
    "# response = requests.get(url)\n",
    "# data_propublica = response.json()"
   ]
  },
  {
   "cell_type": "code",
   "execution_count": 18,
   "id": "a2263252",
   "metadata": {},
   "outputs": [
    {
     "name": "stdout",
     "output_type": "stream",
     "text": [
      "Annie\n",
      "83\n",
      "Cleveland\n",
      "Annie is 83 and is from Cleveland\n"
     ]
    }
   ],
   "source": [
    "annie = {'name': 'Annie', 'age': 83, 'town': 'Cleveland'}\n",
    "\n",
    "print(annie['name'])\n",
    "print(annie['age'])\n",
    "print(annie['town'])\n",
    "print(annie['name'], \"is\", annie['age'], \"and is from\", annie['town'])"
   ]
  },
  {
   "cell_type": "code",
   "execution_count": 19,
   "id": "d8903be8",
   "metadata": {},
   "outputs": [
    {
     "name": "stdout",
     "output_type": "stream",
     "text": [
      "Santiago\n",
      "San Diego\n",
      "Nara\n",
      "Moscow\n"
     ]
    }
   ],
   "source": [
    "populations = {\n",
    "  'Santiago': 7.2,\n",
    "  'San Diego': 1.407,\n",
    "  'Nara': 1.401,\n",
    "  'Moscow': 12.19\n",
    "}\n",
    "for pop in populations:\n",
    "  print(pop)"
   ]
  },
  {
   "cell_type": "code",
   "execution_count": 20,
   "id": "1d514d0b",
   "metadata": {},
   "outputs": [
    {
     "name": "stdout",
     "output_type": "stream",
     "text": [
      "Santiago is a city in the world\n",
      "San Diego is a city in the world\n",
      "Nara is a city in the world\n",
      "Moscow is a city in the world\n"
     ]
    }
   ],
   "source": [
    "populations = {\n",
    "  'Santiago': 7.2,\n",
    "  'San Diego': 1.407,\n",
    "  'Nara': 1.401,\n",
    "  'Moscow': 12.19\n",
    "}\n",
    "\n",
    "for city in populations.keys():\n",
    "  print(city, 'is a city in the world')"
   ]
  },
  {
   "cell_type": "markdown",
   "id": "53e09a87",
   "metadata": {},
   "source": [
    "----"
   ]
  },
  {
   "cell_type": "markdown",
   "id": "6b01caaa",
   "metadata": {},
   "source": [
    "### Reading in JSON Files"
   ]
  },
  {
   "cell_type": "markdown",
   "id": "9e5bd6cb",
   "metadata": {},
   "source": [
    "##### Committee Membership Current"
   ]
  },
  {
   "cell_type": "code",
   "execution_count": 21,
   "id": "9d43392b",
   "metadata": {},
   "outputs": [],
   "source": [
    "url = f\"https://theunitedstates.io/congress-legislators/committee-membership-current.json\"\n",
    "response = requests.get(url)\n",
    "data_committee_membership_current = response.json()"
   ]
  },
  {
   "cell_type": "markdown",
   "id": "a38cfae5",
   "metadata": {},
   "source": [
    "You want grab all of the keys\n",
    "9:09\n",
    "2. each comittee, read into a dataframe\n",
    "9:09\n",
    "3. for each dataframe/comitee, tyou want to assign congresspeople to name of the comitee as a column\n",
    "9:09\n",
    "4. append all of the dataframes together"
   ]
  },
  {
   "cell_type": "markdown",
   "id": "3151409b",
   "metadata": {},
   "source": [
    "{'SSAF': [{'name': 'Debbie Stabenow',\n",
    "   'party': 'majority',\n",
    "   'rank': 1,\n",
    "   'title': 'Chairman',\n",
    "   'bioguide': 'S000770'},\n",
    "  {'name': 'Patrick J. Leahy',\n",
    "   'party': 'majority',\n",
    "   'rank': 2,\n",
    "   'bioguide': 'L000174'},\n",
    "  {'name': 'Sherrod Brown',\n",
    "   'party': 'majority',\n",
    "   'rank': 3,\n",
    "   'bioguide': 'B000944'},\n",
    "  {'name': 'Amy Klobuchar',\n",
    "   'party': 'majority',\n",
    "   'rank': 4,\n",
    "   'bioguide': 'K000367'},\n",
    "  {'name': 'Michael F. Bennet',\n",
    "   'party': 'majority',\n",
    "   'rank': 5,\n",
    "   'bioguide': 'B001267'},\n",
    "  {'name': 'Kirsten E. Gillibrand',\n",
    "   'party': 'majority',\n",
    "   'rank': 6,\n",
    "   'bioguide': 'G000555'},\n",
    "  {'name': 'Tina Smith',\n",
    "   'party': 'majority',\n",
    "   'rank': 7,\n",
    "   'bioguide': 'S001203'},\n",
    "  {'name': 'Richard J. Durbin',\n",
    "   'party': 'majority',\n",
    "   'rank': 8,\n",
    "   'bioguide': 'D000563'},\n",
    "  {'name': 'Cory A. Booker',\n",
    "   'party': 'majority',\n",
    "   'rank': 9,\n",
    "   'bioguide': 'B001288'},\n",
    "  {'name': 'Ben Ray Luján',\n",
    "   'party': 'majority',\n",
    "   'rank': 10,\n",
    "   'bioguide': 'L000570'},\n",
    "  {'name': 'Raphael G. Warnock',\n",
    "   'party': 'majority',\n",
    "   'rank': 11,\n",
    "   'bioguide': 'W000790'},\n",
    "  {'name': 'John Boozman',\n",
    "   'party': 'minority',\n",
    "   'rank': 1,\n",
    "   'title': 'Ranking Member',\n",
    "   'bioguide': 'B001236'},\n",
    "  {'name': 'Mitch McConnell',\n",
    "   'party': 'minority',\n",
    "   'rank': 2,\n",
    "   'bioguide': 'M000355'},\n",
    "  {'name': 'John Hoeven',\n",
    "   'party': 'minority',\n",
    "   'rank': 3,\n",
    "   'bioguide': 'H001061'},\n",
    "  {'name': 'Joni Ernst',\n",
    "   'party': 'minority',\n",
    "   'rank': 4,\n",
    "   'bioguide': 'E000295'},\n",
    "  {'name': 'Cindy Hyde-Smith',\n",
    "   'party': 'minority',\n",
    "   'rank': 5,\n",
    "   'bioguide': 'H001079'},\n",
    "  {'name': 'Roger Marshall',\n",
    "   'party': 'minority',\n",
    "   'rank': 6,\n",
    "   'bioguide': 'M001198'},\n",
    "  {'name': 'Tommy Tuberville',\n",
    "   'party': 'minority',\n",
    "   'rank': 7,\n",
    "   'bioguide': 'T000278'},\n",
    "  {'name': 'Chuck Grassley',\n",
    "   'party': 'minority',\n",
    "   'rank': 8,\n",
    "   'bioguide': 'G000386'},\n",
    "  {'name': 'John Thune',\n",
    "   'party': 'minority',\n",
    "   'rank': 9,\n",
    "   'bioguide': 'T000250'},\n",
    "  {'name': 'Deb Fischer',\n",
    "   'party': 'minority',\n",
    "   'rank': 10,\n",
    "   'bioguide': 'F000463'},\n",
    "  {'name': 'Mike Braun',\n",
    "   'party': 'minority',\n",
    "   'rank': 11,\n",
    "   'bioguide': 'B001310'}],\n",
    " "
   ]
  },
  {
   "cell_type": "code",
   "execution_count": 22,
   "id": "48181fba",
   "metadata": {},
   "outputs": [],
   "source": [
    "# data_committee_membership_current"
   ]
  },
  {
   "cell_type": "code",
   "execution_count": 23,
   "id": "6141e8d3",
   "metadata": {},
   "outputs": [],
   "source": [
    "# data_committee_membership_current.keys()"
   ]
  },
  {
   "cell_type": "code",
   "execution_count": 24,
   "id": "6ef6a089",
   "metadata": {},
   "outputs": [],
   "source": [
    "# data_committee_membership_current.values()"
   ]
  },
  {
   "cell_type": "code",
   "execution_count": 25,
   "id": "ffa459a6",
   "metadata": {},
   "outputs": [],
   "source": [
    "# data_committee_membership_current.items()"
   ]
  },
  {
   "cell_type": "markdown",
   "id": "5ab44600",
   "metadata": {},
   "source": [
    "Creating a loop for each committee"
   ]
  },
  {
   "cell_type": "code",
   "execution_count": 26,
   "id": "853b9ae7",
   "metadata": {},
   "outputs": [],
   "source": [
    "name2 = []\n",
    "party2 = []\n",
    "rank2 = []\n",
    "bioguide2 = []"
   ]
  },
  {
   "cell_type": "code",
   "execution_count": 27,
   "id": "f35a7416",
   "metadata": {},
   "outputs": [],
   "source": [
    "for a in data_committee_membership_current['SSAF']:\n",
    "    name2.append(a['name'])\n",
    "    party2.append(a['party'])\n",
    "    rank2.append(a['rank'])\n",
    "    bioguide2.append(a['bioguide'])"
   ]
  },
  {
   "cell_type": "code",
   "execution_count": 28,
   "id": "c727d0a9",
   "metadata": {},
   "outputs": [
    {
     "data": {
      "text/plain": [
       "['Debbie Stabenow',\n",
       " 'Patrick J. Leahy',\n",
       " 'Sherrod Brown',\n",
       " 'Amy Klobuchar',\n",
       " 'Michael F. Bennet',\n",
       " 'Kirsten E. Gillibrand',\n",
       " 'Tina Smith',\n",
       " 'Richard J. Durbin',\n",
       " 'Cory A. Booker',\n",
       " 'Ben Ray Luján',\n",
       " 'Raphael G. Warnock',\n",
       " 'John Boozman',\n",
       " 'Mitch McConnell',\n",
       " 'John Hoeven',\n",
       " 'Joni Ernst',\n",
       " 'Cindy Hyde-Smith',\n",
       " 'Roger Marshall',\n",
       " 'Tommy Tuberville',\n",
       " 'Chuck Grassley',\n",
       " 'John Thune',\n",
       " 'Deb Fischer',\n",
       " 'Mike Braun']"
      ]
     },
     "execution_count": 28,
     "metadata": {},
     "output_type": "execute_result"
    }
   ],
   "source": [
    "name2"
   ]
  },
  {
   "cell_type": "markdown",
   "id": "a9d77055",
   "metadata": {},
   "source": [
    "##### Looping through each committee"
   ]
  },
  {
   "cell_type": "code",
   "execution_count": 141,
   "id": "223aad6d",
   "metadata": {},
   "outputs": [],
   "source": [
    "# data_committee_membership_current.keys()"
   ]
  },
  {
   "cell_type": "code",
   "execution_count": 104,
   "id": "d5608090",
   "metadata": {},
   "outputs": [],
   "source": [
    "ls = []\n",
    "committee_ls = []\n",
    "values = []"
   ]
  },
  {
   "cell_type": "code",
   "execution_count": 105,
   "id": "1c4022a0",
   "metadata": {},
   "outputs": [],
   "source": [
    "for key, value in data_committee_membership_current.items(): \n",
    "#     print(key)\n",
    "    ls.append(key)\n",
    "    committee_ls.append(key)\n",
    "#     print(value)\n",
    "    ls.append(value)\n",
    "    values.append(value)"
   ]
  },
  {
   "cell_type": "code",
   "execution_count": 162,
   "id": "5e9dd837",
   "metadata": {},
   "outputs": [],
   "source": [
    "committee_ls = []\n",
    "name = []\n",
    "party = []\n",
    "rank = []\n",
    "bioguide = []\n",
    "ls = []"
   ]
  },
  {
   "cell_type": "code",
   "execution_count": 163,
   "id": "34797745",
   "metadata": {},
   "outputs": [],
   "source": [
    "for key, value in data_committee_membership_current.items(): \n",
    "#     print(key)\n",
    "    committee_ls.append(key)\n",
    "    ls.append(key)\n",
    "#     print(value)\n",
    "    for b in value:\n",
    "#         print(b['name'])\n",
    "        name.append(b['name'])\n",
    "        ls.append(b['name'])\n",
    "#         print(b['party'])\n",
    "        party.append(b['party'])\n",
    "#         print(b['rank'])\n",
    "        rank.append(b['rank'])\n",
    "#         print(b['bioguide'])\n",
    "        bioguide.append(b['bioguide'])\n",
    "    \n",
    "#     ls.append(value)"
   ]
  },
  {
   "cell_type": "code",
   "execution_count": 164,
   "id": "13e53285",
   "metadata": {},
   "outputs": [
    {
     "data": {
      "text/plain": [
       "['SSAF', 'SSAF13', 'SSAF14', 'SSAF17', 'SSAF16']"
      ]
     },
     "execution_count": 164,
     "metadata": {},
     "output_type": "execute_result"
    }
   ],
   "source": [
    "committee_ls[0:5]"
   ]
  },
  {
   "cell_type": "code",
   "execution_count": 165,
   "id": "564316bb",
   "metadata": {},
   "outputs": [
    {
     "data": {
      "text/plain": [
       "['Debbie Stabenow',\n",
       " 'Patrick J. Leahy',\n",
       " 'Sherrod Brown',\n",
       " 'Amy Klobuchar',\n",
       " 'Michael F. Bennet']"
      ]
     },
     "execution_count": 165,
     "metadata": {},
     "output_type": "execute_result"
    }
   ],
   "source": [
    "name[0:5]"
   ]
  },
  {
   "cell_type": "code",
   "execution_count": 166,
   "id": "b35ad0f6",
   "metadata": {},
   "outputs": [
    {
     "data": {
      "text/plain": [
       "['majority', 'majority', 'majority', 'majority', 'majority']"
      ]
     },
     "execution_count": 166,
     "metadata": {},
     "output_type": "execute_result"
    }
   ],
   "source": [
    "party[0:5]"
   ]
  },
  {
   "cell_type": "code",
   "execution_count": 167,
   "id": "7893e68f",
   "metadata": {},
   "outputs": [
    {
     "data": {
      "text/plain": [
       "[1, 2, 3, 4, 5]"
      ]
     },
     "execution_count": 167,
     "metadata": {},
     "output_type": "execute_result"
    }
   ],
   "source": [
    "rank[0:5]"
   ]
  },
  {
   "cell_type": "code",
   "execution_count": 168,
   "id": "e53d7c8c",
   "metadata": {},
   "outputs": [
    {
     "data": {
      "text/plain": [
       "['S000770', 'L000174', 'B000944', 'K000367', 'B001267']"
      ]
     },
     "execution_count": 168,
     "metadata": {},
     "output_type": "execute_result"
    }
   ],
   "source": [
    "bioguide[0:5]"
   ]
  },
  {
   "cell_type": "code",
   "execution_count": 172,
   "id": "d564eb21",
   "metadata": {},
   "outputs": [
    {
     "data": {
      "text/plain": [
       "['SSAF',\n",
       " 'Debbie Stabenow',\n",
       " 'Patrick J. Leahy',\n",
       " 'Sherrod Brown',\n",
       " 'Amy Klobuchar',\n",
       " 'Michael F. Bennet',\n",
       " 'Kirsten E. Gillibrand',\n",
       " 'Tina Smith',\n",
       " 'Richard J. Durbin',\n",
       " 'Cory A. Booker',\n",
       " 'Ben Ray Luján',\n",
       " 'Raphael G. Warnock',\n",
       " 'John Boozman',\n",
       " 'Mitch McConnell',\n",
       " 'John Hoeven',\n",
       " 'Joni Ernst',\n",
       " 'Cindy Hyde-Smith',\n",
       " 'Roger Marshall',\n",
       " 'Tommy Tuberville',\n",
       " 'Chuck Grassley',\n",
       " 'John Thune',\n",
       " 'Deb Fischer',\n",
       " 'Mike Braun',\n",
       " 'SSAF13',\n",
       " 'Raphael G. Warnock',\n",
       " 'Sherrod Brown',\n",
       " 'Richard J. Durbin',\n",
       " 'Tina Smith',\n",
       " 'Kirsten E. Gillibrand',\n",
       " 'Ben Ray Luján']"
      ]
     },
     "execution_count": 172,
     "metadata": {},
     "output_type": "execute_result"
    }
   ],
   "source": [
    "ls[0:30]"
   ]
  },
  {
   "cell_type": "code",
   "execution_count": null,
   "id": "8a8c70d0",
   "metadata": {},
   "outputs": [],
   "source": []
  },
  {
   "cell_type": "code",
   "execution_count": null,
   "id": "60ae2b59",
   "metadata": {},
   "outputs": [],
   "source": []
  },
  {
   "cell_type": "code",
   "execution_count": null,
   "id": "58d53deb",
   "metadata": {},
   "outputs": [],
   "source": []
  },
  {
   "cell_type": "markdown",
   "id": "58418781",
   "metadata": {},
   "source": [
    "----"
   ]
  },
  {
   "cell_type": "markdown",
   "id": "5816aaf0",
   "metadata": {},
   "source": [
    "#### Scratchpad"
   ]
  },
  {
   "cell_type": "code",
   "execution_count": 156,
   "id": "957a4bb7",
   "metadata": {},
   "outputs": [],
   "source": [
    "# for a in values: \n",
    "#     print(a)\n",
    "#     for b in a:\n",
    "# #         print(b['name'])\n",
    "#         name.append(b['name'])\n",
    "# #         print(b['party'])\n",
    "#         party.append(b['party'])\n",
    "# #         print(b['rank'])\n",
    "#         rank.append(b['rank'])\n",
    "# #         print(b['bioguide'])\n",
    "#         bioguide.append(b['bioguide'])"
   ]
  },
  {
   "cell_type": "code",
   "execution_count": 143,
   "id": "8e515b44",
   "metadata": {},
   "outputs": [],
   "source": [
    "# for a in values: \n",
    "# #     print(a)\n",
    "#     for b in a:\n",
    "# #         print(b['name'])\n",
    "#         name.append(b['name'])\n",
    "# #         print(b['party'])\n",
    "#         party.append(b['party'])\n",
    "# #         print(b['rank'])\n",
    "#         rank.append(b['rank'])\n",
    "# #         print(b['bioguide'])\n",
    "#         bioguide.append(b['bioguide'])"
   ]
  },
  {
   "cell_type": "code",
   "execution_count": 134,
   "id": "e4383a2e",
   "metadata": {},
   "outputs": [],
   "source": [
    "# ls[0:3]"
   ]
  },
  {
   "cell_type": "code",
   "execution_count": 138,
   "id": "4af02d24",
   "metadata": {},
   "outputs": [],
   "source": [
    "# L = ls[0::2]\n",
    "# L"
   ]
  },
  {
   "cell_type": "code",
   "execution_count": 139,
   "id": "7ecebbd0",
   "metadata": {},
   "outputs": [],
   "source": [
    "# for a in ls[0:2]: \n",
    "#     print(a)\n",
    "# #     for b in a:\n",
    "# #         print(b['name'])\n",
    "# #         print(b['party'])\n",
    "# #         print(b['rank'])\n",
    "# #         print(b['bioguide'])"
   ]
  },
  {
   "cell_type": "code",
   "execution_count": 80,
   "id": "2674e922",
   "metadata": {},
   "outputs": [],
   "source": [
    "# values"
   ]
  },
  {
   "cell_type": "code",
   "execution_count": 78,
   "id": "3ad90558",
   "metadata": {},
   "outputs": [],
   "source": [
    "# data_committee_membership_current.items()"
   ]
  },
  {
   "cell_type": "code",
   "execution_count": null,
   "id": "bb8cbcd4",
   "metadata": {},
   "outputs": [],
   "source": []
  },
  {
   "cell_type": "code",
   "execution_count": null,
   "id": "ce28be3c",
   "metadata": {},
   "outputs": [],
   "source": []
  },
  {
   "cell_type": "code",
   "execution_count": null,
   "id": "45f08602",
   "metadata": {},
   "outputs": [],
   "source": []
  },
  {
   "cell_type": "code",
   "execution_count": null,
   "id": "8c829325",
   "metadata": {},
   "outputs": [],
   "source": []
  },
  {
   "cell_type": "markdown",
   "id": "d20d4cc2",
   "metadata": {},
   "source": [
    "##### Current Legislators"
   ]
  },
  {
   "cell_type": "code",
   "execution_count": null,
   "id": "7842b7af",
   "metadata": {},
   "outputs": [],
   "source": [
    "url2 = f\"https://theunitedstates.io/congress-legislators/legislators-current.json\"\n",
    "response2 = requests.get(url2)\n",
    "data_legislators_current = response2.json()"
   ]
  },
  {
   "cell_type": "code",
   "execution_count": null,
   "id": "71073558",
   "metadata": {},
   "outputs": [],
   "source": [
    "# data_legislators_current"
   ]
  },
  {
   "cell_type": "code",
   "execution_count": null,
   "id": "b71ccdf2",
   "metadata": {},
   "outputs": [],
   "source": []
  },
  {
   "cell_type": "code",
   "execution_count": null,
   "id": "58df87cf",
   "metadata": {},
   "outputs": [],
   "source": [
    "# df = pd.read_json('data/nested_list.json')"
   ]
  },
  {
   "cell_type": "code",
   "execution_count": null,
   "id": "6fceb764",
   "metadata": {},
   "outputs": [],
   "source": [
    "# # To include school_name and class \n",
    "# # https://towardsdatascience.com/how-to-convert-json-into-a-pandas-dataframe-100b2ae1e0d8\n",
    "\n",
    "# df_nested_list = pd.json_normalize(\n",
    "#     data, \n",
    "#     record_path =['students'], \n",
    "#     meta=['school_name', 'class']\n",
    "# )"
   ]
  },
  {
   "cell_type": "code",
   "execution_count": null,
   "id": "64fe78c1",
   "metadata": {},
   "outputs": [],
   "source": [
    "# # To include school_name and class\n",
    "# df_nested_list = pd.json_normalize(\n",
    "#     data_committee_membership_current, \n",
    "#     record_path =['students'], \n",
    "#     meta=['school_name', 'class']\n",
    "# )"
   ]
  },
  {
   "cell_type": "code",
   "execution_count": null,
   "id": "ad67ef96",
   "metadata": {},
   "outputs": [],
   "source": [
    "# df = pd.json_normalize(data_committee_membership_current, record_path =['students'])"
   ]
  },
  {
   "cell_type": "code",
   "execution_count": null,
   "id": "c42ddbc7",
   "metadata": {},
   "outputs": [],
   "source": []
  },
  {
   "cell_type": "code",
   "execution_count": null,
   "id": "3d72749e",
   "metadata": {},
   "outputs": [],
   "source": [
    "# df = pd.json_normalize('data_committee_membership_current')"
   ]
  },
  {
   "cell_type": "code",
   "execution_count": 46,
   "id": "055abb92",
   "metadata": {},
   "outputs": [],
   "source": [
    "# data_committee_membership_current['SSAF']"
   ]
  },
  {
   "cell_type": "code",
   "execution_count": null,
   "id": "4e97a5d2",
   "metadata": {},
   "outputs": [],
   "source": []
  },
  {
   "cell_type": "code",
   "execution_count": null,
   "id": "8c1d2d4c",
   "metadata": {},
   "outputs": [],
   "source": []
  },
  {
   "cell_type": "code",
   "execution_count": null,
   "id": "d6148ec7",
   "metadata": {},
   "outputs": [],
   "source": []
  }
 ],
 "metadata": {
  "kernelspec": {
   "display_name": "Python 3 (ipykernel)",
   "language": "python",
   "name": "python3"
  },
  "language_info": {
   "codemirror_mode": {
    "name": "ipython",
    "version": 3
   },
   "file_extension": ".py",
   "mimetype": "text/x-python",
   "name": "python",
   "nbconvert_exporter": "python",
   "pygments_lexer": "ipython3",
   "version": "3.10.0"
  }
 },
 "nbformat": 4,
 "nbformat_minor": 5
}
