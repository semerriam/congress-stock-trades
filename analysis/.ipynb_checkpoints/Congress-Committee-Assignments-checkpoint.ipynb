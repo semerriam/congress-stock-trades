{
 "cells": [
  {
   "cell_type": "markdown",
   "id": "a3f9a2e7",
   "metadata": {},
   "source": [
    "# Congress Committee Assignments"
   ]
  },
  {
   "cell_type": "markdown",
   "id": "215ba8a7",
   "metadata": {},
   "source": [
    "Goal: To identify the committees members of the U.S. Congress and the industries and sectors the members monitor with their committee assignments"
   ]
  },
  {
   "cell_type": "markdown",
   "id": "1a958a00",
   "metadata": {},
   "source": [
    "Source: https://theunitedstates.io/\n",
    "\n",
    "Source for Committee Assignments: https://theunitedstates.io/congress-legislators/committee-membership-current.json\n",
    "\n",
    "Committee Assignments: https://github.com/unitedstates/congress/wiki/committee-meetings"
   ]
  },
  {
   "cell_type": "markdown",
   "id": "3b4abb52",
   "metadata": {},
   "source": [
    "----"
   ]
  },
  {
   "cell_type": "markdown",
   "id": "c1005624",
   "metadata": {},
   "source": [
    "##### Imports"
   ]
  },
  {
   "cell_type": "code",
   "execution_count": 1,
   "id": "ceebff00",
   "metadata": {},
   "outputs": [
    {
     "name": "stderr",
     "output_type": "stream",
     "text": [
      "/Users/sm/.pyenv/versions/3.10.0/lib/python3.10/site-packages/pandas/compat/__init__.py:124: UserWarning: Could not import the lzma module. Your installed Python is incomplete. Attempting to use lzma compression will result in a RuntimeError.\n",
      "  warnings.warn(msg)\n"
     ]
    }
   ],
   "source": [
    "import pandas as pd\n",
    "from plotnine import *"
   ]
  },
  {
   "cell_type": "code",
   "execution_count": 2,
   "id": "6090c3df",
   "metadata": {},
   "outputs": [],
   "source": [
    "pd.set_option('display.max_columns', None)\n",
    "pd.set_option('display.max_rows', None)\n",
    "pd.set_option('display.width', None)\n",
    "pd.set_option('display.max_colwidth', None)\n",
    "pd.set_option('max_seq_item', None)"
   ]
  },
  {
   "cell_type": "code",
   "execution_count": 3,
   "id": "8ed1161c",
   "metadata": {},
   "outputs": [],
   "source": [
    "from mizani.breaks import date_breaks\n",
    "from mizani.formatters import date_format"
   ]
  },
  {
   "cell_type": "code",
   "execution_count": 4,
   "id": "0ff73265",
   "metadata": {},
   "outputs": [],
   "source": [
    "%load_ext rpy2.ipython\n",
    "%load_ext autoreload\n",
    "%autoreload 2\n",
    "\n",
    "%matplotlib inline  \n",
    "from matplotlib import rcParams\n",
    "rcParams['figure.figsize'] = (16, 100)\n",
    "\n",
    "import warnings\n",
    "from rpy2.rinterface import RRuntimeWarning\n",
    "warnings.filterwarnings(\"ignore\") # Ignore all warnings\n",
    "# warnings.filterwarnings(\"ignore\", category=RRuntimeWarning) # Show some warnings\n",
    "\n",
    "import pandas as pd\n",
    "import numpy as np\n",
    "import matplotlib.pyplot as plt\n",
    "from IPython.display import display, HTML"
   ]
  },
  {
   "cell_type": "code",
   "execution_count": 5,
   "id": "083b4590",
   "metadata": {},
   "outputs": [
    {
     "data": {
      "application/javascript": [
       "// Disable auto-scrolling\n",
       "IPython.OutputArea.prototype._should_scroll = function(lines) {\n",
       "    return false;\n",
       "}\n"
      ],
      "text/plain": [
       "<IPython.core.display.Javascript object>"
      ]
     },
     "metadata": {},
     "output_type": "display_data"
    }
   ],
   "source": [
    "%%javascript\n",
    "// Disable auto-scrolling\n",
    "IPython.OutputArea.prototype._should_scroll = function(lines) {\n",
    "    return false;\n",
    "}"
   ]
  },
  {
   "cell_type": "code",
   "execution_count": 34,
   "id": "813f1e6c",
   "metadata": {},
   "outputs": [
    {
     "name": "stderr",
     "output_type": "stream",
     "text": [
      "R[write to console]: Loading required package: ragg\n",
      "\n"
     ]
    }
   ],
   "source": [
    "%%R\n",
    "\n",
    "# My commonly used R imports\n",
    "\n",
    "require('ggplot2')\n",
    "require('readr')\n",
    "require('extrafont')\n",
    "require('dplyr')\n",
    "require('reshape2')\n",
    "require('explore')\n",
    "require('tidyr')\n",
    "require('forcats')\n",
    "require('knitr')\n",
    "require('ragg')\n",
    "require('palmerpenguins')\n",
    "# require('theme538')"
   ]
  },
  {
   "cell_type": "code",
   "execution_count": 7,
   "id": "a8089f4d",
   "metadata": {},
   "outputs": [
    {
     "data": {
      "text/html": [
       "<div>\n",
       "<style scoped>\n",
       "    .dataframe tbody tr th:only-of-type {\n",
       "        vertical-align: middle;\n",
       "    }\n",
       "\n",
       "    .dataframe tbody tr th {\n",
       "        vertical-align: top;\n",
       "    }\n",
       "\n",
       "    .dataframe thead th {\n",
       "        text-align: right;\n",
       "    }\n",
       "</style>\n",
       "<table border=\"1\" class=\"dataframe\">\n",
       "  <thead>\n",
       "    <tr style=\"text-align: right;\">\n",
       "      <th></th>\n",
       "      <th>A</th>\n",
       "      <th>B</th>\n",
       "    </tr>\n",
       "  </thead>\n",
       "  <tbody>\n",
       "    <tr>\n",
       "      <th>0</th>\n",
       "      <td>76</td>\n",
       "      <td>57</td>\n",
       "    </tr>\n",
       "    <tr>\n",
       "      <th>1</th>\n",
       "      <td>99</td>\n",
       "      <td>13</td>\n",
       "    </tr>\n",
       "    <tr>\n",
       "      <th>2</th>\n",
       "      <td>24</td>\n",
       "      <td>54</td>\n",
       "    </tr>\n",
       "    <tr>\n",
       "      <th>3</th>\n",
       "      <td>80</td>\n",
       "      <td>71</td>\n",
       "    </tr>\n",
       "    <tr>\n",
       "      <th>4</th>\n",
       "      <td>58</td>\n",
       "      <td>33</td>\n",
       "    </tr>\n",
       "  </tbody>\n",
       "</table>\n",
       "</div>"
      ],
      "text/plain": [
       "    A   B\n",
       "0  76  57\n",
       "1  99  13\n",
       "2  24  54\n",
       "3  80  71\n",
       "4  58  33"
      ]
     },
     "execution_count": 7,
     "metadata": {},
     "output_type": "execute_result"
    }
   ],
   "source": [
    "df = pd.DataFrame(\n",
    "    np.random.randint(0,100,size=(100, 2)), columns=list('AB'))\n",
    "df.head()"
   ]
  },
  {
   "cell_type": "code",
   "execution_count": 8,
   "id": "d026def5",
   "metadata": {},
   "outputs": [],
   "source": [
    "# %%R -i df\n",
    "\n",
    "# # EXAMPLE R CELL\n",
    "# df\n",
    "# plt <- ggplot(df) +\n",
    "#     geom_point(aes(A,B))\n",
    "\n",
    "# plt"
   ]
  },
  {
   "cell_type": "code",
   "execution_count": 9,
   "id": "b68a1a56",
   "metadata": {},
   "outputs": [],
   "source": [
    "import re, lxml.html, lxml.etree\n",
    "from collections import OrderedDict\n",
    "import utils"
   ]
  },
  {
   "cell_type": "code",
   "execution_count": 10,
   "id": "bb4d020d",
   "metadata": {},
   "outputs": [],
   "source": [
    "from python_utils.import_ import import_global"
   ]
  },
  {
   "cell_type": "code",
   "execution_count": 11,
   "id": "090b580b",
   "metadata": {},
   "outputs": [],
   "source": [
    "# from utils import download, load_data, save_data"
   ]
  },
  {
   "cell_type": "code",
   "execution_count": 12,
   "id": "8bd97afd",
   "metadata": {},
   "outputs": [],
   "source": [
    "import yaml\n",
    "import pandas as pd"
   ]
  },
  {
   "cell_type": "code",
   "execution_count": 13,
   "id": "219bab8b",
   "metadata": {},
   "outputs": [],
   "source": [
    "import requests"
   ]
  },
  {
   "cell_type": "code",
   "execution_count": 14,
   "id": "8aee62e4",
   "metadata": {},
   "outputs": [],
   "source": [
    "# pip install us"
   ]
  },
  {
   "cell_type": "code",
   "execution_count": 15,
   "id": "bb35ac64",
   "metadata": {},
   "outputs": [],
   "source": [
    "import us"
   ]
  },
  {
   "cell_type": "markdown",
   "id": "ba1fad27",
   "metadata": {},
   "source": [
    "----"
   ]
  },
  {
   "cell_type": "markdown",
   "id": "6b01caaa",
   "metadata": {},
   "source": [
    "### Reading in JSON Files"
   ]
  },
  {
   "cell_type": "markdown",
   "id": "9e5bd6cb",
   "metadata": {},
   "source": [
    "##### Committee Membership Current"
   ]
  },
  {
   "cell_type": "code",
   "execution_count": 16,
   "id": "9d43392b",
   "metadata": {},
   "outputs": [],
   "source": [
    "url = f\"https://theunitedstates.io/congress-legislators/committee-membership-current.json\"\n",
    "response = requests.get(url)\n",
    "data_committee_membership_current = response.json()"
   ]
  },
  {
   "cell_type": "markdown",
   "id": "d7e0a660",
   "metadata": {},
   "source": [
    "{'SSAF': [{'name': 'Debbie Stabenow',\n",
    "   'party': 'majority',\n",
    "   'rank': 1,\n",
    "   'title': 'Chairman',\n",
    "   'bioguide': 'S000770'},\n",
    "  {'name': 'Patrick J. Leahy',\n",
    "   'party': 'majority',\n",
    "   'rank': 2,\n",
    "   'bioguide': 'L000174'},\n",
    "  {'name': 'Sherrod Brown',\n",
    "   'party': 'majority',\n",
    "   'rank': 3,\n",
    "   'bioguide': 'B000944'},\n",
    "  {'name': 'Amy Klobuchar',\n",
    "   'party': 'majority',\n",
    "   'rank': 4,\n",
    "   'bioguide': 'K000367'},\n",
    "  {'name': 'Michael F. Bennet',\n",
    "   'party': 'majority',\n",
    "   'rank': 5,\n",
    "   'bioguide': 'B001267'},\n",
    "  {'name': 'Kirsten E. Gillibrand',\n",
    "   'party': 'majority',\n",
    "   'rank': 6,\n",
    "   'bioguide': 'G000555'},\n",
    "  {'name': 'Tina Smith',\n",
    "   'party': 'majority',\n",
    "   'rank': 7,\n",
    "   'bioguide': 'S001203'},\n",
    "  {'name': 'Richard J. Durbin',\n",
    "   'party': 'majority',\n",
    "   'rank': 8,\n",
    "   'bioguide': 'D000563'},\n",
    "  {'name': 'Cory A. Booker',\n",
    "   'party': 'majority',\n",
    "   'rank': 9,\n",
    "   'bioguide': 'B001288'},\n",
    "  {'name': 'Ben Ray Luján',\n",
    "   'party': 'majority',\n",
    "   'rank': 10,\n",
    "   'bioguide': 'L000570'},\n",
    "  {'name': 'Raphael G. Warnock',\n",
    "   'party': 'majority',\n",
    "   'rank': 11,\n",
    "   'bioguide': 'W000790'},\n",
    "  {'name': 'John Boozman',\n",
    "   'party': 'minority',\n",
    "   'rank': 1,\n",
    "   'title': 'Ranking Member',\n",
    "   'bioguide': 'B001236'},\n",
    "  {'name': 'Mitch McConnell',\n",
    "   'party': 'minority',\n",
    "   'rank': 2,\n",
    "   'bioguide': 'M000355'},\n",
    "  {'name': 'John Hoeven',\n",
    "   'party': 'minority',\n",
    "   'rank': 3,\n",
    "   'bioguide': 'H001061'},\n",
    "  {'name': 'Joni Ernst',\n",
    "   'party': 'minority',\n",
    "   'rank': 4,\n",
    "   'bioguide': 'E000295'},\n",
    "  {'name': 'Cindy Hyde-Smith',\n",
    "   'party': 'minority',\n",
    "   'rank': 5,\n",
    "   'bioguide': 'H001079'},\n",
    "  {'name': 'Roger Marshall',\n",
    "   'party': 'minority',\n",
    "   'rank': 6,\n",
    "   'bioguide': 'M001198'},\n",
    "  {'name': 'Tommy Tuberville',\n",
    "   'party': 'minority',\n",
    "   'rank': 7,\n",
    "   'bioguide': 'T000278'},\n",
    "  {'name': 'Chuck Grassley',\n",
    "   'party': 'minority',\n",
    "   'rank': 8,\n",
    "   'bioguide': 'G000386'},\n",
    "  {'name': 'John Thune',\n",
    "   'party': 'minority',\n",
    "   'rank': 9,\n",
    "   'bioguide': 'T000250'},\n",
    "  {'name': 'Deb Fischer',\n",
    "   'party': 'minority',\n",
    "   'rank': 10,\n",
    "   'bioguide': 'F000463'},\n",
    "  {'name': 'Mike Braun',\n",
    "   'party': 'minority',\n",
    "   'rank': 11,\n",
    "   'bioguide': 'B001310'}],\n",
    " "
   ]
  },
  {
   "cell_type": "code",
   "execution_count": 17,
   "id": "48181fba",
   "metadata": {},
   "outputs": [],
   "source": [
    "# data_committee_membership_current"
   ]
  },
  {
   "cell_type": "code",
   "execution_count": 18,
   "id": "de8b72c4",
   "metadata": {},
   "outputs": [],
   "source": [
    "# data_committee_membership_current.keys()"
   ]
  },
  {
   "cell_type": "code",
   "execution_count": 19,
   "id": "f779d609",
   "metadata": {},
   "outputs": [],
   "source": [
    "# data_committee_membership_current.values()"
   ]
  },
  {
   "cell_type": "code",
   "execution_count": 20,
   "id": "03b071ba",
   "metadata": {},
   "outputs": [],
   "source": [
    "# data_committee_membership_current.items()"
   ]
  },
  {
   "cell_type": "markdown",
   "id": "8548fe0f",
   "metadata": {},
   "source": [
    "----"
   ]
  },
  {
   "cell_type": "markdown",
   "id": "d54e8e9b",
   "metadata": {},
   "source": [
    "##### Creating a datafrane through a loop of the json info"
   ]
  },
  {
   "cell_type": "code",
   "execution_count": 21,
   "id": "213d7f49",
   "metadata": {},
   "outputs": [],
   "source": [
    "ls = []"
   ]
  },
  {
   "cell_type": "code",
   "execution_count": 22,
   "id": "bc3ba6fa",
   "metadata": {},
   "outputs": [],
   "source": [
    "for key, value in data_committee_membership_current.items():\n",
    "    for b in value:\n",
    "        ls.append([key, b['name'], b['party'], b['rank'], b['bioguide']])"
   ]
  },
  {
   "cell_type": "code",
   "execution_count": 23,
   "id": "f79dac0a",
   "metadata": {},
   "outputs": [
    {
     "data": {
      "text/plain": [
       "[['SSAF', 'Debbie Stabenow', 'majority', 1, 'S000770'],\n",
       " ['SSAF', 'Patrick J. Leahy', 'majority', 2, 'L000174'],\n",
       " ['SSAF', 'Sherrod Brown', 'majority', 3, 'B000944'],\n",
       " ['SSAF', 'Amy Klobuchar', 'majority', 4, 'K000367'],\n",
       " ['SSAF', 'Michael F. Bennet', 'majority', 5, 'B001267'],\n",
       " ['SSAF', 'Kirsten E. Gillibrand', 'majority', 6, 'G000555'],\n",
       " ['SSAF', 'Tina Smith', 'majority', 7, 'S001203'],\n",
       " ['SSAF', 'Richard J. Durbin', 'majority', 8, 'D000563'],\n",
       " ['SSAF', 'Cory A. Booker', 'majority', 9, 'B001288'],\n",
       " ['SSAF', 'Ben Ray Luján', 'majority', 10, 'L000570']]"
      ]
     },
     "execution_count": 23,
     "metadata": {},
     "output_type": "execute_result"
    }
   ],
   "source": [
    "ls[0:10]"
   ]
  },
  {
   "cell_type": "code",
   "execution_count": 24,
   "id": "6c550908",
   "metadata": {},
   "outputs": [],
   "source": [
    "df = pd.DataFrame(ls, columns=['committee', 'name','party','rank', 'bioguide'])"
   ]
  },
  {
   "cell_type": "code",
   "execution_count": 25,
   "id": "e3326927",
   "metadata": {},
   "outputs": [
    {
     "data": {
      "text/html": [
       "<div>\n",
       "<style scoped>\n",
       "    .dataframe tbody tr th:only-of-type {\n",
       "        vertical-align: middle;\n",
       "    }\n",
       "\n",
       "    .dataframe tbody tr th {\n",
       "        vertical-align: top;\n",
       "    }\n",
       "\n",
       "    .dataframe thead th {\n",
       "        text-align: right;\n",
       "    }\n",
       "</style>\n",
       "<table border=\"1\" class=\"dataframe\">\n",
       "  <thead>\n",
       "    <tr style=\"text-align: right;\">\n",
       "      <th></th>\n",
       "      <th>committee</th>\n",
       "      <th>name</th>\n",
       "      <th>party</th>\n",
       "      <th>rank</th>\n",
       "      <th>bioguide</th>\n",
       "    </tr>\n",
       "  </thead>\n",
       "  <tbody>\n",
       "    <tr>\n",
       "      <th>0</th>\n",
       "      <td>SSAF</td>\n",
       "      <td>Debbie Stabenow</td>\n",
       "      <td>majority</td>\n",
       "      <td>1</td>\n",
       "      <td>S000770</td>\n",
       "    </tr>\n",
       "    <tr>\n",
       "      <th>1</th>\n",
       "      <td>SSAF</td>\n",
       "      <td>Patrick J. Leahy</td>\n",
       "      <td>majority</td>\n",
       "      <td>2</td>\n",
       "      <td>L000174</td>\n",
       "    </tr>\n",
       "    <tr>\n",
       "      <th>2</th>\n",
       "      <td>SSAF</td>\n",
       "      <td>Sherrod Brown</td>\n",
       "      <td>majority</td>\n",
       "      <td>3</td>\n",
       "      <td>B000944</td>\n",
       "    </tr>\n",
       "    <tr>\n",
       "      <th>3</th>\n",
       "      <td>SSAF</td>\n",
       "      <td>Amy Klobuchar</td>\n",
       "      <td>majority</td>\n",
       "      <td>4</td>\n",
       "      <td>K000367</td>\n",
       "    </tr>\n",
       "    <tr>\n",
       "      <th>4</th>\n",
       "      <td>SSAF</td>\n",
       "      <td>Michael F. Bennet</td>\n",
       "      <td>majority</td>\n",
       "      <td>5</td>\n",
       "      <td>B001267</td>\n",
       "    </tr>\n",
       "  </tbody>\n",
       "</table>\n",
       "</div>"
      ],
      "text/plain": [
       "  committee               name     party  rank bioguide\n",
       "0      SSAF    Debbie Stabenow  majority     1  S000770\n",
       "1      SSAF   Patrick J. Leahy  majority     2  L000174\n",
       "2      SSAF      Sherrod Brown  majority     3  B000944\n",
       "3      SSAF      Amy Klobuchar  majority     4  K000367\n",
       "4      SSAF  Michael F. Bennet  majority     5  B001267"
      ]
     },
     "execution_count": 25,
     "metadata": {},
     "output_type": "execute_result"
    }
   ],
   "source": [
    "df.head()"
   ]
  },
  {
   "cell_type": "code",
   "execution_count": 26,
   "id": "abb1055a",
   "metadata": {},
   "outputs": [],
   "source": [
    "# df.to_csv('..//data//processed//congress_committees.csv', index = False)"
   ]
  },
  {
   "cell_type": "markdown",
   "id": "6e2f0607",
   "metadata": {},
   "source": [
    "----"
   ]
  },
  {
   "cell_type": "markdown",
   "id": "9de29853",
   "metadata": {},
   "source": [
    "##### Merging the Full Committee Names to Dataframe "
   ]
  },
  {
   "cell_type": "markdown",
   "id": "c8e4fec8",
   "metadata": {},
   "source": [
    "Merging a handmade dataset of the full committee names looked up at GovTrack https://www.govtrack.us/congress/committees/"
   ]
  },
  {
   "cell_type": "code",
   "execution_count": 27,
   "id": "762d491d",
   "metadata": {},
   "outputs": [],
   "source": [
    "df2 = pd.read_csv('..//data//handmade//congress_committees_info.csv', encoding=\"utf-8\")"
   ]
  },
  {
   "cell_type": "code",
   "execution_count": 28,
   "id": "937fff9c",
   "metadata": {},
   "outputs": [
    {
     "data": {
      "text/plain": [
       "4004"
      ]
     },
     "execution_count": 28,
     "metadata": {},
     "output_type": "execute_result"
    }
   ],
   "source": [
    "len(df)"
   ]
  },
  {
   "cell_type": "code",
   "execution_count": 29,
   "id": "acf8b725",
   "metadata": {},
   "outputs": [
    {
     "data": {
      "text/plain": [
       "227"
      ]
     },
     "execution_count": 29,
     "metadata": {},
     "output_type": "execute_result"
    }
   ],
   "source": [
    "len(df2)"
   ]
  },
  {
   "cell_type": "code",
   "execution_count": 30,
   "id": "6d76f644",
   "metadata": {},
   "outputs": [],
   "source": [
    "join_df= pd.merge(df, df2, on='committee', how='outer')"
   ]
  },
  {
   "cell_type": "code",
   "execution_count": 31,
   "id": "cec86024",
   "metadata": {},
   "outputs": [
    {
     "data": {
      "text/plain": [
       "4024"
      ]
     },
     "execution_count": 31,
     "metadata": {},
     "output_type": "execute_result"
    }
   ],
   "source": [
    "len(join_df)"
   ]
  },
  {
   "cell_type": "code",
   "execution_count": 32,
   "id": "a9bff466",
   "metadata": {},
   "outputs": [
    {
     "data": {
      "text/html": [
       "<div>\n",
       "<style scoped>\n",
       "    .dataframe tbody tr th:only-of-type {\n",
       "        vertical-align: middle;\n",
       "    }\n",
       "\n",
       "    .dataframe tbody tr th {\n",
       "        vertical-align: top;\n",
       "    }\n",
       "\n",
       "    .dataframe thead th {\n",
       "        text-align: right;\n",
       "    }\n",
       "</style>\n",
       "<table border=\"1\" class=\"dataframe\">\n",
       "  <thead>\n",
       "    <tr style=\"text-align: right;\">\n",
       "      <th></th>\n",
       "      <th>committee</th>\n",
       "      <th>name</th>\n",
       "      <th>party</th>\n",
       "      <th>rank</th>\n",
       "      <th>bioguide</th>\n",
       "      <th>committee_fullname</th>\n",
       "    </tr>\n",
       "  </thead>\n",
       "  <tbody>\n",
       "    <tr>\n",
       "      <th>0</th>\n",
       "      <td>SSAF</td>\n",
       "      <td>Debbie Stabenow</td>\n",
       "      <td>majority</td>\n",
       "      <td>1</td>\n",
       "      <td>S000770</td>\n",
       "      <td>Senate Committee on Agriculture, Nutrition, and Forestry</td>\n",
       "    </tr>\n",
       "    <tr>\n",
       "      <th>1</th>\n",
       "      <td>SSAF</td>\n",
       "      <td>Patrick J. Leahy</td>\n",
       "      <td>majority</td>\n",
       "      <td>2</td>\n",
       "      <td>L000174</td>\n",
       "      <td>Senate Committee on Agriculture, Nutrition, and Forestry</td>\n",
       "    </tr>\n",
       "    <tr>\n",
       "      <th>2</th>\n",
       "      <td>SSAF</td>\n",
       "      <td>Sherrod Brown</td>\n",
       "      <td>majority</td>\n",
       "      <td>3</td>\n",
       "      <td>B000944</td>\n",
       "      <td>Senate Committee on Agriculture, Nutrition, and Forestry</td>\n",
       "    </tr>\n",
       "    <tr>\n",
       "      <th>3</th>\n",
       "      <td>SSAF</td>\n",
       "      <td>Amy Klobuchar</td>\n",
       "      <td>majority</td>\n",
       "      <td>4</td>\n",
       "      <td>K000367</td>\n",
       "      <td>Senate Committee on Agriculture, Nutrition, and Forestry</td>\n",
       "    </tr>\n",
       "    <tr>\n",
       "      <th>4</th>\n",
       "      <td>SSAF</td>\n",
       "      <td>Michael F. Bennet</td>\n",
       "      <td>majority</td>\n",
       "      <td>5</td>\n",
       "      <td>B001267</td>\n",
       "      <td>Senate Committee on Agriculture, Nutrition, and Forestry</td>\n",
       "    </tr>\n",
       "  </tbody>\n",
       "</table>\n",
       "</div>"
      ],
      "text/plain": [
       "  committee               name     party  rank bioguide  \\\n",
       "0      SSAF    Debbie Stabenow  majority     1  S000770   \n",
       "1      SSAF   Patrick J. Leahy  majority     2  L000174   \n",
       "2      SSAF      Sherrod Brown  majority     3  B000944   \n",
       "3      SSAF      Amy Klobuchar  majority     4  K000367   \n",
       "4      SSAF  Michael F. Bennet  majority     5  B001267   \n",
       "\n",
       "                                         committee_fullname  \n",
       "0  Senate Committee on Agriculture, Nutrition, and Forestry  \n",
       "1  Senate Committee on Agriculture, Nutrition, and Forestry  \n",
       "2  Senate Committee on Agriculture, Nutrition, and Forestry  \n",
       "3  Senate Committee on Agriculture, Nutrition, and Forestry  \n",
       "4  Senate Committee on Agriculture, Nutrition, and Forestry  "
      ]
     },
     "execution_count": 32,
     "metadata": {},
     "output_type": "execute_result"
    }
   ],
   "source": [
    "join_df.head()"
   ]
  },
  {
   "cell_type": "code",
   "execution_count": 33,
   "id": "21470aba",
   "metadata": {},
   "outputs": [
    {
     "data": {
      "text/html": [
       "<div>\n",
       "<style scoped>\n",
       "    .dataframe tbody tr th:only-of-type {\n",
       "        vertical-align: middle;\n",
       "    }\n",
       "\n",
       "    .dataframe tbody tr th {\n",
       "        vertical-align: top;\n",
       "    }\n",
       "\n",
       "    .dataframe thead th {\n",
       "        text-align: right;\n",
       "    }\n",
       "</style>\n",
       "<table border=\"1\" class=\"dataframe\">\n",
       "  <thead>\n",
       "    <tr style=\"text-align: right;\">\n",
       "      <th></th>\n",
       "      <th>committee</th>\n",
       "      <th>name</th>\n",
       "      <th>party</th>\n",
       "      <th>rank</th>\n",
       "      <th>bioguide</th>\n",
       "      <th>committee_fullname</th>\n",
       "    </tr>\n",
       "  </thead>\n",
       "  <tbody>\n",
       "    <tr>\n",
       "      <th>4019</th>\n",
       "      <td>HSEF</td>\n",
       "      <td>Kat Cammack</td>\n",
       "      <td>minority</td>\n",
       "      <td>5</td>\n",
       "      <td>C001039</td>\n",
       "      <td>House Select Committee on Economic Disparity and Fairness in Growth</td>\n",
       "    </tr>\n",
       "    <tr>\n",
       "      <th>4020</th>\n",
       "      <td>HSEF</td>\n",
       "      <td>Angie Craig</td>\n",
       "      <td>majority</td>\n",
       "      <td>6</td>\n",
       "      <td>C001119</td>\n",
       "      <td>House Select Committee on Economic Disparity and Fairness in Growth</td>\n",
       "    </tr>\n",
       "    <tr>\n",
       "      <th>4021</th>\n",
       "      <td>HSEF</td>\n",
       "      <td>Byron Donalds</td>\n",
       "      <td>minority</td>\n",
       "      <td>6</td>\n",
       "      <td>D000032</td>\n",
       "      <td>House Select Committee on Economic Disparity and Fairness in Growth</td>\n",
       "    </tr>\n",
       "    <tr>\n",
       "      <th>4022</th>\n",
       "      <td>HSEF</td>\n",
       "      <td>Alexandria Ocasio-Cortez</td>\n",
       "      <td>majority</td>\n",
       "      <td>7</td>\n",
       "      <td>O000172</td>\n",
       "      <td>House Select Committee on Economic Disparity and Fairness in Growth</td>\n",
       "    </tr>\n",
       "    <tr>\n",
       "      <th>4023</th>\n",
       "      <td>HSEF</td>\n",
       "      <td>Sara Jacobs</td>\n",
       "      <td>majority</td>\n",
       "      <td>8</td>\n",
       "      <td>J000305</td>\n",
       "      <td>House Select Committee on Economic Disparity and Fairness in Growth</td>\n",
       "    </tr>\n",
       "  </tbody>\n",
       "</table>\n",
       "</div>"
      ],
      "text/plain": [
       "     committee                      name     party  rank bioguide  \\\n",
       "4019      HSEF               Kat Cammack  minority     5  C001039   \n",
       "4020      HSEF               Angie Craig  majority     6  C001119   \n",
       "4021      HSEF             Byron Donalds  minority     6  D000032   \n",
       "4022      HSEF  Alexandria Ocasio-Cortez  majority     7  O000172   \n",
       "4023      HSEF               Sara Jacobs  majority     8  J000305   \n",
       "\n",
       "                                                       committee_fullname  \n",
       "4019  House Select Committee on Economic Disparity and Fairness in Growth  \n",
       "4020  House Select Committee on Economic Disparity and Fairness in Growth  \n",
       "4021  House Select Committee on Economic Disparity and Fairness in Growth  \n",
       "4022  House Select Committee on Economic Disparity and Fairness in Growth  \n",
       "4023  House Select Committee on Economic Disparity and Fairness in Growth  "
      ]
     },
     "execution_count": 33,
     "metadata": {},
     "output_type": "execute_result"
    }
   ],
   "source": [
    "join_df.tail()"
   ]
  },
  {
   "cell_type": "markdown",
   "id": "88951417",
   "metadata": {},
   "source": [
    "----"
   ]
  },
  {
   "cell_type": "code",
   "execution_count": null,
   "id": "acdd2fb4",
   "metadata": {},
   "outputs": [],
   "source": []
  }
 ],
 "metadata": {
  "kernelspec": {
   "display_name": "Python 3 (ipykernel)",
   "language": "python",
   "name": "python3"
  },
  "language_info": {
   "codemirror_mode": {
    "name": "ipython",
    "version": 3
   },
   "file_extension": ".py",
   "mimetype": "text/x-python",
   "name": "python",
   "nbconvert_exporter": "python",
   "pygments_lexer": "ipython3",
   "version": "3.10.0"
  }
 },
 "nbformat": 4,
 "nbformat_minor": 5
}
