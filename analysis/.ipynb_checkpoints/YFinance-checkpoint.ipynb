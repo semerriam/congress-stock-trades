{
 "cells": [
  {
   "cell_type": "code",
   "execution_count": null,
   "id": "939419a5",
   "metadata": {},
   "outputs": [],
   "source": []
  },
  {
   "cell_type": "code",
   "execution_count": 5,
   "id": "61e0c3f3",
   "metadata": {},
   "outputs": [],
   "source": [
    "# pip install wheel"
   ]
  },
  {
   "cell_type": "code",
   "execution_count": 6,
   "id": "cd09a8e1",
   "metadata": {},
   "outputs": [],
   "source": [
    "# pip install yfinance"
   ]
  },
  {
   "cell_type": "code",
   "execution_count": 7,
   "id": "09bc5f62",
   "metadata": {},
   "outputs": [
    {
     "name": "stderr",
     "output_type": "stream",
     "text": [
      "/Users/sm/.pyenv/versions/3.10.0/lib/python3.10/site-packages/pandas/compat/__init__.py:124: UserWarning: Could not import the lzma module. Your installed Python is incomplete. Attempting to use lzma compression will result in a RuntimeError.\n",
      "  warnings.warn(msg)\n"
     ]
    }
   ],
   "source": [
    "import yfinance as yf"
   ]
  },
  {
   "cell_type": "code",
   "execution_count": null,
   "id": "44ece5cb",
   "metadata": {},
   "outputs": [],
   "source": []
  },
  {
   "cell_type": "markdown",
   "id": "3d9ecaf7",
   "metadata": {},
   "source": [
    "### Example of looking up individual stock i.e. AFLAC"
   ]
  },
  {
   "cell_type": "code",
   "execution_count": 14,
   "id": "55359a32",
   "metadata": {},
   "outputs": [],
   "source": [
    "aflac = yf.Ticker(\"AFL\")"
   ]
  },
  {
   "cell_type": "code",
   "execution_count": 15,
   "id": "48802f8e",
   "metadata": {},
   "outputs": [
    {
     "data": {
      "text/plain": [
       "{'zip': '31999',\n",
       " 'sector': 'Financial Services',\n",
       " 'fullTimeEmployees': 12447,\n",
       " 'longBusinessSummary': 'Aflac Incorporated, through its subsidiaries, provides supplemental health and life insurance products. It operates through two segments, Aflac Japan and Aflac U.S. The Aflac Japan segment offers cancer, medical, income support, GIFT, and whole and term life insurance products, as well as WAYS and child endowment plans under saving type insurance products in Japan. The Aflac U.S. segment provides cancer, accident, short-term disability, critical care, hospital indemnity, dental, vision, long-term care and disability, and term and whole life insurance products in the United States. It sells its products through sales associates, brokers, independent corporate agencies, individual agencies, and affiliated corporate agencies. The company was founded in 1955 and is headquartered in Columbus, Georgia.',\n",
       " 'city': 'Columbus',\n",
       " 'phone': '706-323-3431',\n",
       " 'state': 'GA',\n",
       " 'country': 'United States',\n",
       " 'companyOfficers': [],\n",
       " 'website': 'https://www.aflac.com',\n",
       " 'maxAge': 1,\n",
       " 'address1': '1932 Wynnton Road',\n",
       " 'industry': 'Insurance—Life',\n",
       " 'ebitdaMargins': 0.25355,\n",
       " 'profitMargins': 0.19565001,\n",
       " 'grossMargins': 0.41182998,\n",
       " 'operatingCashflow': 5050999808,\n",
       " 'revenueGrowth': -0.081,\n",
       " 'operatingMargins': 0.25152,\n",
       " 'ebitda': 5605000192,\n",
       " 'targetLowPrice': 52,\n",
       " 'recommendationKey': 'hold',\n",
       " 'grossProfits': 9104000000,\n",
       " 'freeCashflow': 1294249984,\n",
       " 'targetMedianPrice': 63,\n",
       " 'currentPrice': 60.14,\n",
       " 'earningsGrowth': 0.16,\n",
       " 'currentRatio': 0.729,\n",
       " 'returnOnAssets': 0.021540001,\n",
       " 'numberOfAnalystOpinions': 13,\n",
       " 'targetMeanPrice': 62.92,\n",
       " 'debtToEquity': 30.59,\n",
       " 'returnOnEquity': 0.12946999,\n",
       " 'targetHighPrice': 70,\n",
       " 'totalCash': 6776999936,\n",
       " 'totalDebt': 10172000256,\n",
       " 'totalRevenue': 22105999360,\n",
       " 'totalCashPerShare': 10.428,\n",
       " 'financialCurrency': 'USD',\n",
       " 'revenuePerShare': 32.817,\n",
       " 'quickRatio': 0.54,\n",
       " 'recommendationMean': 2.9,\n",
       " 'exchange': 'NYQ',\n",
       " 'shortName': 'AFLAC Incorporated',\n",
       " 'longName': 'Aflac Incorporated',\n",
       " 'exchangeTimezoneName': 'America/New_York',\n",
       " 'exchangeTimezoneShortName': 'EST',\n",
       " 'isEsgPopulated': False,\n",
       " 'gmtOffSetMilliseconds': '-18000000',\n",
       " 'quoteType': 'EQUITY',\n",
       " 'symbol': 'AFL',\n",
       " 'messageBoardId': 'finmb_250178',\n",
       " 'market': 'us_market',\n",
       " 'annualHoldingsTurnover': None,\n",
       " 'enterpriseToRevenue': 1.922,\n",
       " 'beta3Year': None,\n",
       " 'enterpriseToEbitda': 7.579,\n",
       " '52WeekChange': 0.24256194,\n",
       " 'morningStarRiskRating': None,\n",
       " 'forwardEps': 5.5,\n",
       " 'revenueQuarterlyGrowth': None,\n",
       " 'sharesOutstanding': 649860992,\n",
       " 'fundInceptionDate': None,\n",
       " 'annualReportExpenseRatio': None,\n",
       " 'totalAssets': None,\n",
       " 'bookValue': 50.991,\n",
       " 'sharesShort': 14780929,\n",
       " 'sharesPercentSharesOut': 0.0227,\n",
       " 'fundFamily': None,\n",
       " 'lastFiscalYearEnd': 1640908800,\n",
       " 'heldPercentInstitutions': 0.6086,\n",
       " 'netIncomeToCommon': 4325000192,\n",
       " 'trailingEps': 6.39,\n",
       " 'lastDividendValue': 0.4,\n",
       " 'SandP52WeekChange': 0.16401088,\n",
       " 'priceToBook': 1.1794238,\n",
       " 'heldPercentInsiders': 0.09388,\n",
       " 'nextFiscalYearEnd': 1703980800,\n",
       " 'yield': None,\n",
       " 'mostRecentQuarter': 1640908800,\n",
       " 'shortRatio': 3.9,\n",
       " 'sharesShortPreviousMonthDate': 1642118400,\n",
       " 'floatShares': 645454818,\n",
       " 'beta': 0.929885,\n",
       " 'enterpriseValue': 42477633536,\n",
       " 'priceHint': 2,\n",
       " 'threeYearAverageReturn': None,\n",
       " 'lastSplitDate': 1521417600,\n",
       " 'lastSplitFactor': '2:1',\n",
       " 'legalType': None,\n",
       " 'lastDividendDate': 1644883200,\n",
       " 'morningStarOverallRating': None,\n",
       " 'earningsQuarterlyGrowth': 0.091,\n",
       " 'priceToSalesTrailing12Months': 1.7679653,\n",
       " 'dateShortInterest': 1644883200,\n",
       " 'pegRatio': 3.71,\n",
       " 'ytdReturn': None,\n",
       " 'forwardPE': 10.9345455,\n",
       " 'lastCapGain': None,\n",
       " 'shortPercentOfFloat': 0.0229,\n",
       " 'sharesShortPriorMonth': 13973636,\n",
       " 'impliedSharesOutstanding': 0,\n",
       " 'category': None,\n",
       " 'fiveYearAverageReturn': None,\n",
       " 'previousClose': 58.48,\n",
       " 'regularMarketOpen': 59.08,\n",
       " 'twoHundredDayAverage': 56.8525,\n",
       " 'trailingAnnualDividendYield': 0.02257182,\n",
       " 'payoutRatio': 0.2066,\n",
       " 'volume24Hr': None,\n",
       " 'regularMarketDayHigh': 60.455,\n",
       " 'navPrice': None,\n",
       " 'averageDailyVolume10Day': 3543000,\n",
       " 'regularMarketPreviousClose': 58.48,\n",
       " 'fiftyDayAverage': 61.7732,\n",
       " 'trailingAnnualDividendRate': 1.32,\n",
       " 'open': 59.08,\n",
       " 'toCurrency': None,\n",
       " 'averageVolume10days': 3543000,\n",
       " 'expireDate': None,\n",
       " 'algorithm': None,\n",
       " 'dividendRate': 1.6,\n",
       " 'exDividendDate': 1644883200,\n",
       " 'circulatingSupply': None,\n",
       " 'startDate': None,\n",
       " 'regularMarketDayLow': 58.6,\n",
       " 'currency': 'USD',\n",
       " 'trailingPE': 9.411581,\n",
       " 'regularMarketVolume': 2911740,\n",
       " 'lastMarket': None,\n",
       " 'maxSupply': None,\n",
       " 'openInterest': None,\n",
       " 'marketCap': 39082639360,\n",
       " 'volumeAllCurrencies': None,\n",
       " 'strikePrice': None,\n",
       " 'averageVolume': 3416715,\n",
       " 'dayLow': 58.6,\n",
       " 'ask': 0,\n",
       " 'askSize': 900,\n",
       " 'volume': 2911740,\n",
       " 'fiftyTwoWeekHigh': 66.97,\n",
       " 'fromCurrency': None,\n",
       " 'fiveYearAvgDividendYield': 2.31,\n",
       " 'fiftyTwoWeekLow': 47.7,\n",
       " 'bid': 0,\n",
       " 'tradeable': False,\n",
       " 'dividendYield': 0.026600001,\n",
       " 'bidSize': 900,\n",
       " 'dayHigh': 60.455,\n",
       " 'regularMarketPrice': 60.14,\n",
       " 'preMarketPrice': 59.11,\n",
       " 'logo_url': 'https://logo.clearbit.com/aflac.com'}"
      ]
     },
     "execution_count": 15,
     "metadata": {},
     "output_type": "execute_result"
    }
   ],
   "source": [
    "# get stock info\n",
    "aflac.info"
   ]
  },
  {
   "cell_type": "markdown",
   "id": "e025482e",
   "metadata": {},
   "source": [
    "##### Identify the sector + industry of a stock"
   ]
  },
  {
   "cell_type": "code",
   "execution_count": 19,
   "id": "c3b39689",
   "metadata": {},
   "outputs": [],
   "source": [
    "# 'sector': 'Financial Services'"
   ]
  },
  {
   "cell_type": "code",
   "execution_count": 18,
   "id": "5ac9d935",
   "metadata": {},
   "outputs": [
    {
     "data": {
      "text/plain": [
       "'Financial Services'"
      ]
     },
     "execution_count": 18,
     "metadata": {},
     "output_type": "execute_result"
    }
   ],
   "source": [
    "aflac.info['sector']"
   ]
  },
  {
   "cell_type": "code",
   "execution_count": 16,
   "id": "59c3b520",
   "metadata": {},
   "outputs": [],
   "source": [
    "# 'industry': 'Insurance—Life',"
   ]
  },
  {
   "cell_type": "code",
   "execution_count": 17,
   "id": "8067c80d",
   "metadata": {},
   "outputs": [
    {
     "data": {
      "text/plain": [
       "'Insurance—Life'"
      ]
     },
     "execution_count": 17,
     "metadata": {},
     "output_type": "execute_result"
    }
   ],
   "source": [
    "aflac.info['industry']"
   ]
  },
  {
   "cell_type": "code",
   "execution_count": 20,
   "id": "f859f0c1",
   "metadata": {},
   "outputs": [
    {
     "data": {
      "text/plain": [
       "'Aflac Incorporated, through its subsidiaries, provides supplemental health and life insurance products. It operates through two segments, Aflac Japan and Aflac U.S. The Aflac Japan segment offers cancer, medical, income support, GIFT, and whole and term life insurance products, as well as WAYS and child endowment plans under saving type insurance products in Japan. The Aflac U.S. segment provides cancer, accident, short-term disability, critical care, hospital indemnity, dental, vision, long-term care and disability, and term and whole life insurance products in the United States. It sells its products through sales associates, brokers, independent corporate agencies, individual agencies, and affiliated corporate agencies. The company was founded in 1955 and is headquartered in Columbus, Georgia.'"
      ]
     },
     "execution_count": 20,
     "metadata": {},
     "output_type": "execute_result"
    }
   ],
   "source": [
    "aflac.info['longBusinessSummary']"
   ]
  },
  {
   "cell_type": "markdown",
   "id": "f30e3e98",
   "metadata": {},
   "source": [
    "----"
   ]
  },
  {
   "cell_type": "markdown",
   "id": "ca3d79ae",
   "metadata": {},
   "source": [
    "### What companies are considered what under Yahoo's Sectors?"
   ]
  },
  {
   "cell_type": "markdown",
   "id": "6b1c68a4",
   "metadata": {},
   "source": [
    "Yahoo Finance's Sectors:\n",
    "\n",
    "Communication services: +76.58%\n",
    "\n",
    "Consumer discretionary: +324.02%\n",
    "\n",
    "Consumer staples: +136.13%\n",
    "\n",
    "Energy: + 1.56%\n",
    "\n",
    "Financials: +154.81%\n",
    "\n",
    "Healthcare: +224.66%\n",
    "\n",
    "Industrials: +179.82%\n",
    "\n",
    "Information technology: +357.78%\n",
    "\n",
    "Materials: +87.38%\n",
    "\n",
    "Real estate: +29.18% (3-year return)\n",
    "\n",
    "Utilities: +114.00%\n",
    "\n"
   ]
  },
  {
   "cell_type": "code",
   "execution_count": 42,
   "id": "28de5059",
   "metadata": {},
   "outputs": [
    {
     "data": {
      "text/plain": [
       "'Communication Services'"
      ]
     },
     "execution_count": 42,
     "metadata": {},
     "output_type": "execute_result"
    }
   ],
   "source": [
    "google = yf.Ticker(\"GOOG\")\n",
    "google.info['sector']"
   ]
  },
  {
   "cell_type": "code",
   "execution_count": 27,
   "id": "cc892e84",
   "metadata": {},
   "outputs": [
    {
     "data": {
      "text/plain": [
       "'Communication Services'"
      ]
     },
     "execution_count": 27,
     "metadata": {},
     "output_type": "execute_result"
    }
   ],
   "source": [
    "verizon = yf.Ticker(\"VZ\")\n",
    "verizon.info['sector']"
   ]
  },
  {
   "cell_type": "code",
   "execution_count": 43,
   "id": "f619d2a4",
   "metadata": {},
   "outputs": [
    {
     "data": {
      "text/plain": [
       "'Communication Services'"
      ]
     },
     "execution_count": 43,
     "metadata": {},
     "output_type": "execute_result"
    }
   ],
   "source": [
    "netflix = yf.Ticker(\"NFLX\")\n",
    "netflix.info['sector']"
   ]
  },
  {
   "cell_type": "code",
   "execution_count": 39,
   "id": "a1372d8e",
   "metadata": {},
   "outputs": [
    {
     "data": {
      "text/plain": [
       "'Consumer Cyclical'"
      ]
     },
     "execution_count": 39,
     "metadata": {},
     "output_type": "execute_result"
    }
   ],
   "source": [
    "gm = yf.Ticker(\"GM\")\n",
    "gm.info['sector']"
   ]
  },
  {
   "cell_type": "code",
   "execution_count": 36,
   "id": "d8a124ea",
   "metadata": {},
   "outputs": [
    {
     "data": {
      "text/plain": [
       "'Consumer Cyclical'"
      ]
     },
     "execution_count": 36,
     "metadata": {},
     "output_type": "execute_result"
    }
   ],
   "source": [
    "macys = yf.Ticker(\"M\")\n",
    "macys.info['sector']"
   ]
  },
  {
   "cell_type": "code",
   "execution_count": 37,
   "id": "3ebf0ca0",
   "metadata": {},
   "outputs": [
    {
     "data": {
      "text/plain": [
       "'Consumer Cyclical'"
      ]
     },
     "execution_count": 37,
     "metadata": {},
     "output_type": "execute_result"
    }
   ],
   "source": [
    "amazon = yf.Ticker(\"AMZN\")\n",
    "amazon.info['sector']"
   ]
  },
  {
   "cell_type": "code",
   "execution_count": 38,
   "id": "b16f1c4d",
   "metadata": {},
   "outputs": [
    {
     "data": {
      "text/plain": [
       "'Consumer Cyclical'"
      ]
     },
     "execution_count": 38,
     "metadata": {},
     "output_type": "execute_result"
    }
   ],
   "source": [
    "homedepot = yf.Ticker(\"HD\")\n",
    "homedepot.info['sector']"
   ]
  },
  {
   "cell_type": "code",
   "execution_count": 41,
   "id": "aa6c9607",
   "metadata": {},
   "outputs": [
    {
     "data": {
      "text/plain": [
       "'Consumer Defensive'"
      ]
     },
     "execution_count": 41,
     "metadata": {},
     "output_type": "execute_result"
    }
   ],
   "source": [
    "pepsi = yf.Ticker(\"PEP\")\n",
    "pepsi.info['sector']"
   ]
  },
  {
   "cell_type": "code",
   "execution_count": 47,
   "id": "afc1bf75",
   "metadata": {},
   "outputs": [
    {
     "data": {
      "text/plain": [
       "'Consumer Defensive'"
      ]
     },
     "execution_count": 47,
     "metadata": {},
     "output_type": "execute_result"
    }
   ],
   "source": [
    "kcc = yf.Ticker(\"KMB\")\n",
    "kcc.info['sector']"
   ]
  },
  {
   "cell_type": "code",
   "execution_count": 23,
   "id": "44aa5cc2",
   "metadata": {},
   "outputs": [
    {
     "data": {
      "text/plain": [
       "'Energy'"
      ]
     },
     "execution_count": 23,
     "metadata": {},
     "output_type": "execute_result"
    }
   ],
   "source": [
    "chevron = yf.Ticker(\"CVX\")\n",
    "chevron.info['sector']"
   ]
  },
  {
   "cell_type": "code",
   "execution_count": 46,
   "id": "6bca9972",
   "metadata": {},
   "outputs": [
    {
     "data": {
      "text/plain": [
       "'Financial Services'"
      ]
     },
     "execution_count": 46,
     "metadata": {},
     "output_type": "execute_result"
    }
   ],
   "source": [
    "morgan_stanley = yf.Ticker(\"MS\")\n",
    "morgan_stanley.info['sector']"
   ]
  },
  {
   "cell_type": "code",
   "execution_count": null,
   "id": "4f4eeb5a",
   "metadata": {},
   "outputs": [],
   "source": [
    "aflac = yf.Ticker(\"AFL\")\n",
    "aflac.info['sector']"
   ]
  },
  {
   "cell_type": "code",
   "execution_count": 22,
   "id": "7a95c1f6",
   "metadata": {},
   "outputs": [
    {
     "data": {
      "text/plain": [
       "'Healthcare'"
      ]
     },
     "execution_count": 22,
     "metadata": {},
     "output_type": "execute_result"
    }
   ],
   "source": [
    "johnson = yf.Ticker(\"JNJ\")\n",
    "johnson.info['sector']"
   ]
  },
  {
   "cell_type": "code",
   "execution_count": 24,
   "id": "4843844f",
   "metadata": {},
   "outputs": [
    {
     "data": {
      "text/plain": [
       "'Industrials'"
      ]
     },
     "execution_count": 24,
     "metadata": {},
     "output_type": "execute_result"
    }
   ],
   "source": [
    "lockheed = yf.Ticker(\"LMT\")\n",
    "lockheed.info['sector']"
   ]
  },
  {
   "cell_type": "code",
   "execution_count": 26,
   "id": "e3b09d4b",
   "metadata": {},
   "outputs": [
    {
     "data": {
      "text/plain": [
       "'Industrials'"
      ]
     },
     "execution_count": 26,
     "metadata": {},
     "output_type": "execute_result"
    }
   ],
   "source": [
    "american_airlines = yf.Ticker(\"AAL\")\n",
    "american_airlines.info['sector']"
   ]
  },
  {
   "cell_type": "code",
   "execution_count": 33,
   "id": "61fed9bd",
   "metadata": {},
   "outputs": [
    {
     "data": {
      "text/plain": [
       "'Industrials'"
      ]
     },
     "execution_count": 33,
     "metadata": {},
     "output_type": "execute_result"
    }
   ],
   "source": [
    "threem = yf.Ticker(\"MMM\")\n",
    "threem.info['sector']"
   ]
  },
  {
   "cell_type": "code",
   "execution_count": 31,
   "id": "f5d1aa63",
   "metadata": {},
   "outputs": [
    {
     "data": {
      "text/plain": [
       "'Technology'"
      ]
     },
     "execution_count": 31,
     "metadata": {},
     "output_type": "execute_result"
    }
   ],
   "source": [
    "ibm = yf.Ticker(\"IBM\")\n",
    "ibm.info['sector']"
   ]
  },
  {
   "cell_type": "code",
   "execution_count": 34,
   "id": "146094b3",
   "metadata": {},
   "outputs": [
    {
     "data": {
      "text/plain": [
       "'Basic Materials'"
      ]
     },
     "execution_count": 34,
     "metadata": {},
     "output_type": "execute_result"
    }
   ],
   "source": [
    "sherwin_williams = yf.Ticker(\"SHW\")\n",
    "sherwin_williams.info['sector']"
   ]
  },
  {
   "cell_type": "code",
   "execution_count": 35,
   "id": "f5047d45",
   "metadata": {},
   "outputs": [
    {
     "data": {
      "text/plain": [
       "'Basic Materials'"
      ]
     },
     "execution_count": 35,
     "metadata": {},
     "output_type": "execute_result"
    }
   ],
   "source": [
    "dow = yf.Ticker(\"DOW\")\n",
    "dow.info['sector']"
   ]
  },
  {
   "cell_type": "code",
   "execution_count": null,
   "id": "dfd1dddc",
   "metadata": {},
   "outputs": [],
   "source": [
    "threem = yf.Ticker(\"MMM\")\n",
    "threem.info['sector']"
   ]
  },
  {
   "cell_type": "code",
   "execution_count": 28,
   "id": "c75a8460",
   "metadata": {},
   "outputs": [
    {
     "data": {
      "text/plain": [
       "'Utilities'"
      ]
     },
     "execution_count": 28,
     "metadata": {},
     "output_type": "execute_result"
    }
   ],
   "source": [
    "con_ed = yf.Ticker(\"ED\")\n",
    "con_ed.info['sector']"
   ]
  },
  {
   "cell_type": "code",
   "execution_count": 30,
   "id": "a27aebac",
   "metadata": {},
   "outputs": [
    {
     "data": {
      "text/plain": [
       "'Utilities'"
      ]
     },
     "execution_count": 30,
     "metadata": {},
     "output_type": "execute_result"
    }
   ],
   "source": [
    "eversource = yf.Ticker(\"ES\")\n",
    "eversource.info['sector']"
   ]
  },
  {
   "cell_type": "code",
   "execution_count": null,
   "id": "1ec002d2",
   "metadata": {},
   "outputs": [],
   "source": []
  },
  {
   "cell_type": "markdown",
   "id": "3e69994c",
   "metadata": {},
   "source": [
    "----"
   ]
  },
  {
   "cell_type": "markdown",
   "id": "0a9e6337",
   "metadata": {},
   "source": [
    "### How to look up stock info with YFinance"
   ]
  },
  {
   "cell_type": "markdown",
   "id": "2f67dd32",
   "metadata": {},
   "source": [
    "Source: https://pypi.org/project/yfinance/"
   ]
  },
  {
   "cell_type": "code",
   "execution_count": 8,
   "id": "029f0ec4",
   "metadata": {},
   "outputs": [],
   "source": [
    "# import yfinance as yf\n",
    "\n",
    "# msft = yf.Ticker(\"MSFT\")\n",
    "\n",
    "# # get stock info\n",
    "# msft.info\n",
    "\n",
    "# # get historical market data\n",
    "# hist = msft.history(period=\"max\")\n",
    "\n",
    "# # show actions (dividends, splits)\n",
    "# msft.actions\n",
    "\n",
    "# # show dividends\n",
    "# msft.dividends\n",
    "\n",
    "# # show splits\n",
    "# msft.splits\n",
    "\n",
    "# # show financials\n",
    "# msft.financials\n",
    "# msft.quarterly_financials\n",
    "\n",
    "# # show major holders\n",
    "# msft.major_holders\n",
    "\n",
    "# # show institutional holders\n",
    "# msft.institutional_holders\n",
    "\n",
    "# # show balance sheet\n",
    "# msft.balance_sheet\n",
    "# msft.quarterly_balance_sheet\n",
    "\n",
    "# # show cashflow\n",
    "# msft.cashflow\n",
    "# msft.quarterly_cashflow\n",
    "\n",
    "# # show earnings\n",
    "# msft.earnings\n",
    "# msft.quarterly_earnings\n",
    "\n",
    "# # show sustainability\n",
    "# msft.sustainability\n",
    "\n",
    "# # show analysts recommendations\n",
    "# msft.recommendations\n",
    "\n",
    "# # show next event (earnings, etc)\n",
    "# msft.calendar\n",
    "\n",
    "# # show ISIN code - *experimental*\n",
    "# # ISIN = International Securities Identification Number\n",
    "# msft.isin\n",
    "\n",
    "# # show options expirations\n",
    "# msft.options\n",
    "\n",
    "# # show news\n",
    "# msft.news\n",
    "\n",
    "# # get option chain for specific expiration\n",
    "# opt = msft.option_chain('YYYY-MM-DD')\n",
    "# # data available via: opt.calls, opt.puts\n",
    "# If you want to use a proxy server for downloading data, use:\n",
    "\n",
    "# import yfinance as yf\n",
    "\n",
    "# msft = yf.Ticker(\"MSFT\")\n",
    "\n",
    "# msft.history(..., proxy=\"PROXY_SERVER\")\n",
    "# msft.get_actions(proxy=\"PROXY_SERVER\")\n",
    "# msft.get_dividends(proxy=\"PROXY_SERVER\")\n",
    "# msft.get_splits(proxy=\"PROXY_SERVER\")\n",
    "# msft.get_balance_sheet(proxy=\"PROXY_SERVER\")\n",
    "# msft.get_cashflow(proxy=\"PROXY_SERVER\")\n",
    "# msft.option_chain(..., proxy=\"PROXY_SERVER\")\n",
    "# ...\n",
    "# To use a custom requests session (for example to cache calls to the API or customize the User-agent header), pass a session= argument to the Ticker constructor.\n",
    "\n",
    "# import requests_cache\n",
    "# session = requests_cache.CachedSession('yfinance.cache')\n",
    "# session.headers['User-agent'] = 'my-program/1.0'\n",
    "# ticker = yf.Ticker('msft aapl goog', session=session)\n",
    "# # The scraped response will be stored in the cache\n",
    "# ticker.actions\n",
    "# To initialize multiple Ticker objects, use\n",
    "\n",
    "# import yfinance as yf\n",
    "\n",
    "# tickers = yf.Tickers('msft aapl goog')\n",
    "# # ^ returns a named tuple of Ticker objects\n",
    "\n",
    "# # access each ticker using (example)\n",
    "# tickers.tickers.MSFT.info\n",
    "# tickers.tickers.AAPL.history(period=\"1mo\")\n",
    "# tickers.tickers.GOOG.actions\n",
    "# Fetching data for multiple tickers\n",
    "# import yfinance as yf\n",
    "# data = yf.download(\"SPY AAPL\", start=\"2017-01-01\", end=\"2017-04-30\")\n",
    "# I've also added some options to make life easier :)\n",
    "\n",
    "# data = yf.download(  # or pdr.get_data_yahoo(...\n",
    "#         # tickers list or string as well\n",
    "#         tickers = \"SPY AAPL MSFT\",\n",
    "\n",
    "#         # use \"period\" instead of start/end\n",
    "#         # valid periods: 1d,5d,1mo,3mo,6mo,1y,2y,5y,10y,ytd,max\n",
    "#         # (optional, default is '1mo')\n",
    "#         period = \"ytd\",\n",
    "\n",
    "#         # fetch data by interval (including intraday if period < 60 days)\n",
    "#         # valid intervals: 1m,2m,5m,15m,30m,60m,90m,1h,1d,5d,1wk,1mo,3mo\n",
    "#         # (optional, default is '1d')\n",
    "#         interval = \"1m\",\n",
    "\n",
    "#         # group by ticker (to access via data['SPY'])\n",
    "#         # (optional, default is 'column')\n",
    "#         group_by = 'ticker',\n",
    "\n",
    "#         # adjust all OHLC automatically\n",
    "#         # (optional, default is False)\n",
    "#         auto_adjust = True,\n",
    "\n",
    "#         # download pre/post regular market hours data\n",
    "#         # (optional, default is False)\n",
    "#         prepost = True,\n",
    "\n",
    "#         # use threads for mass downloading? (True/False/Integer)\n",
    "#         # (optional, default is True)\n",
    "#         threads = True,\n",
    "\n",
    "#         # proxy URL scheme use use when downloading?\n",
    "#         # (optional, default is None)\n",
    "#         proxy = None\n",
    "#     )\n"
   ]
  },
  {
   "cell_type": "code",
   "execution_count": null,
   "id": "aaba74f9",
   "metadata": {},
   "outputs": [],
   "source": []
  }
 ],
 "metadata": {
  "kernelspec": {
   "display_name": "Python 3 (ipykernel)",
   "language": "python",
   "name": "python3"
  },
  "language_info": {
   "codemirror_mode": {
    "name": "ipython",
    "version": 3
   },
   "file_extension": ".py",
   "mimetype": "text/x-python",
   "name": "python",
   "nbconvert_exporter": "python",
   "pygments_lexer": "ipython3",
   "version": "3.10.0"
  }
 },
 "nbformat": 4,
 "nbformat_minor": 5
}
