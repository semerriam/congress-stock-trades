{
 "cells": [
  {
   "cell_type": "markdown",
   "id": "da20cb14",
   "metadata": {},
   "source": [
    "# String Algorithms Scratchpad"
   ]
  },
  {
   "cell_type": "markdown",
   "id": "443d13ee",
   "metadata": {},
   "source": [
    "Exploring fuzzy matching and String Similarity tools to align datasets"
   ]
  },
  {
   "cell_type": "markdown",
   "id": "799a76d0",
   "metadata": {},
   "source": [
    "#### Imports"
   ]
  },
  {
   "cell_type": "code",
   "execution_count": 1,
   "id": "bbd225c8",
   "metadata": {},
   "outputs": [
    {
     "name": "stderr",
     "output_type": "stream",
     "text": [
      "/Users/sm/.pyenv/versions/3.10.0/lib/python3.10/site-packages/pandas/compat/__init__.py:124: UserWarning: Could not import the lzma module. Your installed Python is incomplete. Attempting to use lzma compression will result in a RuntimeError.\n",
      "  warnings.warn(msg)\n"
     ]
    }
   ],
   "source": [
    "import pandas as pd\n",
    "import numpy as np\n",
    "import matplotlib.pyplot as plt\n",
    "from IPython.display import display, HTML"
   ]
  },
  {
   "cell_type": "code",
   "execution_count": 2,
   "id": "6cca1fa8",
   "metadata": {},
   "outputs": [],
   "source": [
    "pd.set_option('display.max_columns', None)\n",
    "pd.set_option('display.max_rows', None)\n",
    "pd.set_option('display.width', None)\n",
    "pd.set_option('display.max_colwidth', None)\n",
    "pd.set_option('max_seq_item', None)"
   ]
  },
  {
   "cell_type": "code",
   "execution_count": 103,
   "id": "864afd43",
   "metadata": {},
   "outputs": [],
   "source": [
    "from difflib import SequenceMatcher\n",
    "from fuzzywuzzy import fuzz\n",
    "from fuzzywuzzy import process\n",
    "from thefuzz import fuzz\n",
    "from thefuzz import process\n",
    "import textdistance\n",
    "import jaro\n",
    "import jellyfish"
   ]
  },
  {
   "cell_type": "code",
   "execution_count": 102,
   "id": "9ed49a3e",
   "metadata": {},
   "outputs": [],
   "source": []
  },
  {
   "cell_type": "markdown",
   "id": "9bc8305d",
   "metadata": {},
   "source": [
    "----"
   ]
  },
  {
   "cell_type": "markdown",
   "id": "19e01f32",
   "metadata": {},
   "source": [
    "##### Reading Dataframes"
   ]
  },
  {
   "cell_type": "code",
   "execution_count": 3,
   "id": "7bddbcbd",
   "metadata": {},
   "outputs": [],
   "source": [
    "df = pd.read_csv(\"..//data//processed//stock_watchers_w_yfinance_03_12_2022.csv\", encoding=\"utf-8\")"
   ]
  },
  {
   "cell_type": "code",
   "execution_count": 4,
   "id": "423e8a85",
   "metadata": {},
   "outputs": [
    {
     "data": {
      "text/html": [
       "<div>\n",
       "<style scoped>\n",
       "    .dataframe tbody tr th:only-of-type {\n",
       "        vertical-align: middle;\n",
       "    }\n",
       "\n",
       "    .dataframe tbody tr th {\n",
       "        vertical-align: top;\n",
       "    }\n",
       "\n",
       "    .dataframe thead th {\n",
       "        text-align: right;\n",
       "    }\n",
       "</style>\n",
       "<table border=\"1\" class=\"dataframe\">\n",
       "  <thead>\n",
       "    <tr style=\"text-align: right;\">\n",
       "      <th></th>\n",
       "      <th>transaction_date</th>\n",
       "      <th>disclosure_date</th>\n",
       "      <th>politician</th>\n",
       "      <th>owner</th>\n",
       "      <th>ticker</th>\n",
       "      <th>amount</th>\n",
       "      <th>asset_description</th>\n",
       "      <th>asset_type</th>\n",
       "      <th>transaction_type</th>\n",
       "      <th>comment</th>\n",
       "      <th>ptr_link</th>\n",
       "      <th>location</th>\n",
       "      <th>cap_gains</th>\n",
       "      <th>amount_low</th>\n",
       "      <th>amount_high</th>\n",
       "      <th>ticker2</th>\n",
       "      <th>name</th>\n",
       "      <th>sector</th>\n",
       "      <th>industry</th>\n",
       "      <th>longbusinesssummary</th>\n",
       "      <th>website</th>\n",
       "      <th>stock_description</th>\n",
       "    </tr>\n",
       "  </thead>\n",
       "  <tbody>\n",
       "    <tr>\n",
       "      <th>0</th>\n",
       "      <td>02/24/2022</td>\n",
       "      <td>03/11/2022</td>\n",
       "      <td>Shelley M Capito</td>\n",
       "      <td>Spouse</td>\n",
       "      <td>NEE</td>\n",
       "      <td>1001 - 15000</td>\n",
       "      <td>NextEra Energy, Inc. Common Stock</td>\n",
       "      <td>Stock</td>\n",
       "      <td>Sale (Partial)</td>\n",
       "      <td>--</td>\n",
       "      <td>https://efdsearch.senate.gov/search/view/ptr/e7893c34-0761-4c2b-ac52-e303f166517f/</td>\n",
       "      <td>NaN</td>\n",
       "      <td>NaN</td>\n",
       "      <td>1001</td>\n",
       "      <td>15000.0</td>\n",
       "      <td>NEE</td>\n",
       "      <td>NextEra Energy, Inc.</td>\n",
       "      <td>Utilities</td>\n",
       "      <td>Utilities—Regulated Electric</td>\n",
       "      <td>NextEra Energy, Inc., through its subsidiaries, generates, transmits, distributes, and sells electric power to retail and wholesale customers in North America. The company generates electricity through wind, solar, nuclear, and fossil fuel, such as coal and natural gas facilities. It also develops, constructs, and operates long-term contracted assets with a focus on renewable generation facilities, electric transmission facilities, and battery storage projects; and owns, develops, constructs, manages and operates electric generation facilities in wholesale energy markets. As of December 31, 2020, the company operated approximately 28,400 megawatts of net generating capacity. It serves approximately 11 million people through approximately 5.6 million customer accounts in the east and lower west coasts of Florida with approximately 76,200 circuit miles of transmission and distribution lines and 673 substations. The company was formerly known as FPL Group, Inc. and changed its name to NextEra Energy, Inc. in 2010. NextEra Energy, Inc. was founded in 1925 and is headquartered in Juno Beach, Florida.</td>\n",
       "      <td>https://www.nexteraenergy.com</td>\n",
       "      <td>Utilities, Utilities—Regulated Electric, NextEra Energy, Inc., through its subsidiaries, generates, transmits, distributes, and sells electric power to retail and wholesale customers in North America. The company generates electricity through wind, solar, nuclear, and fossil fuel, such as coal and natural gas facilities. It also develops, constructs, and operates long-term contracted assets with a focus on renewable generation facilities, electric transmission facilities, and battery storage projects; and owns, develops, constructs, manages and operates electric generation facilities in wholesale energy markets. As of December 31, 2020, the company operated approximately 28,400 megawatts of net generating capacity. It serves approximately 11 million people through approximately 5.6 million customer accounts in the east and lower west coasts of Florida with approximately 76,200 circuit miles of transmission and distribution lines and 673 substations. The company was formerly known as FPL Group, Inc. and changed its name to NextEra Energy, Inc. in 2010. NextEra Energy, Inc. was founded in 1925 and is headquartered in Juno Beach, Florida.</td>\n",
       "    </tr>\n",
       "    <tr>\n",
       "      <th>1</th>\n",
       "      <td>01/14/2022</td>\n",
       "      <td>02/14/2022</td>\n",
       "      <td>Thomas H Tuberville</td>\n",
       "      <td>Joint</td>\n",
       "      <td>NEE</td>\n",
       "      <td>15001 - 50000</td>\n",
       "      <td>NextEra Energy, Inc. Common Stock</td>\n",
       "      <td>Stock</td>\n",
       "      <td>Sale (Full)</td>\n",
       "      <td>--</td>\n",
       "      <td>https://efdsearch.senate.gov/search/view/ptr/c9da6bea-fa14-4a3a-9d8b-1745e834da59/</td>\n",
       "      <td>NaN</td>\n",
       "      <td>NaN</td>\n",
       "      <td>15001</td>\n",
       "      <td>50000.0</td>\n",
       "      <td>NEE</td>\n",
       "      <td>NextEra Energy, Inc.</td>\n",
       "      <td>Utilities</td>\n",
       "      <td>Utilities—Regulated Electric</td>\n",
       "      <td>NextEra Energy, Inc., through its subsidiaries, generates, transmits, distributes, and sells electric power to retail and wholesale customers in North America. The company generates electricity through wind, solar, nuclear, and fossil fuel, such as coal and natural gas facilities. It also develops, constructs, and operates long-term contracted assets with a focus on renewable generation facilities, electric transmission facilities, and battery storage projects; and owns, develops, constructs, manages and operates electric generation facilities in wholesale energy markets. As of December 31, 2020, the company operated approximately 28,400 megawatts of net generating capacity. It serves approximately 11 million people through approximately 5.6 million customer accounts in the east and lower west coasts of Florida with approximately 76,200 circuit miles of transmission and distribution lines and 673 substations. The company was formerly known as FPL Group, Inc. and changed its name to NextEra Energy, Inc. in 2010. NextEra Energy, Inc. was founded in 1925 and is headquartered in Juno Beach, Florida.</td>\n",
       "      <td>https://www.nexteraenergy.com</td>\n",
       "      <td>Utilities, Utilities—Regulated Electric, NextEra Energy, Inc., through its subsidiaries, generates, transmits, distributes, and sells electric power to retail and wholesale customers in North America. The company generates electricity through wind, solar, nuclear, and fossil fuel, such as coal and natural gas facilities. It also develops, constructs, and operates long-term contracted assets with a focus on renewable generation facilities, electric transmission facilities, and battery storage projects; and owns, develops, constructs, manages and operates electric generation facilities in wholesale energy markets. As of December 31, 2020, the company operated approximately 28,400 megawatts of net generating capacity. It serves approximately 11 million people through approximately 5.6 million customer accounts in the east and lower west coasts of Florida with approximately 76,200 circuit miles of transmission and distribution lines and 673 substations. The company was formerly known as FPL Group, Inc. and changed its name to NextEra Energy, Inc. in 2010. NextEra Energy, Inc. was founded in 1925 and is headquartered in Juno Beach, Florida.</td>\n",
       "    </tr>\n",
       "    <tr>\n",
       "      <th>2</th>\n",
       "      <td>12/21/2018</td>\n",
       "      <td>01/08/2019</td>\n",
       "      <td>Susan M Collins</td>\n",
       "      <td>Spouse</td>\n",
       "      <td>NEE</td>\n",
       "      <td>15001 - 50000</td>\n",
       "      <td>NextEra Energy, Inc.</td>\n",
       "      <td>Stock</td>\n",
       "      <td>Purchase</td>\n",
       "      <td>--</td>\n",
       "      <td>https://efdsearch.senate.gov/search/view/ptr/bb3e64d2-1a93-46ac-ac1d-47508fbb199f/</td>\n",
       "      <td>NaN</td>\n",
       "      <td>NaN</td>\n",
       "      <td>15001</td>\n",
       "      <td>50000.0</td>\n",
       "      <td>NEE</td>\n",
       "      <td>NextEra Energy, Inc.</td>\n",
       "      <td>Utilities</td>\n",
       "      <td>Utilities—Regulated Electric</td>\n",
       "      <td>NextEra Energy, Inc., through its subsidiaries, generates, transmits, distributes, and sells electric power to retail and wholesale customers in North America. The company generates electricity through wind, solar, nuclear, and fossil fuel, such as coal and natural gas facilities. It also develops, constructs, and operates long-term contracted assets with a focus on renewable generation facilities, electric transmission facilities, and battery storage projects; and owns, develops, constructs, manages and operates electric generation facilities in wholesale energy markets. As of December 31, 2020, the company operated approximately 28,400 megawatts of net generating capacity. It serves approximately 11 million people through approximately 5.6 million customer accounts in the east and lower west coasts of Florida with approximately 76,200 circuit miles of transmission and distribution lines and 673 substations. The company was formerly known as FPL Group, Inc. and changed its name to NextEra Energy, Inc. in 2010. NextEra Energy, Inc. was founded in 1925 and is headquartered in Juno Beach, Florida.</td>\n",
       "      <td>https://www.nexteraenergy.com</td>\n",
       "      <td>Utilities, Utilities—Regulated Electric, NextEra Energy, Inc., through its subsidiaries, generates, transmits, distributes, and sells electric power to retail and wholesale customers in North America. The company generates electricity through wind, solar, nuclear, and fossil fuel, such as coal and natural gas facilities. It also develops, constructs, and operates long-term contracted assets with a focus on renewable generation facilities, electric transmission facilities, and battery storage projects; and owns, develops, constructs, manages and operates electric generation facilities in wholesale energy markets. As of December 31, 2020, the company operated approximately 28,400 megawatts of net generating capacity. It serves approximately 11 million people through approximately 5.6 million customer accounts in the east and lower west coasts of Florida with approximately 76,200 circuit miles of transmission and distribution lines and 673 substations. The company was formerly known as FPL Group, Inc. and changed its name to NextEra Energy, Inc. in 2010. NextEra Energy, Inc. was founded in 1925 and is headquartered in Juno Beach, Florida.</td>\n",
       "    </tr>\n",
       "    <tr>\n",
       "      <th>3</th>\n",
       "      <td>04/24/2018</td>\n",
       "      <td>05/14/2018</td>\n",
       "      <td>Shelley M Capito</td>\n",
       "      <td>Spouse</td>\n",
       "      <td>NEE</td>\n",
       "      <td>1001 - 15000</td>\n",
       "      <td>NextEra Energy, Inc.</td>\n",
       "      <td>Stock</td>\n",
       "      <td>Purchase</td>\n",
       "      <td>--</td>\n",
       "      <td>https://efdsearch.senate.gov/search/view/ptr/b17ecfe5-f246-4f4c-bf2f-4f1dd4c35539/</td>\n",
       "      <td>NaN</td>\n",
       "      <td>NaN</td>\n",
       "      <td>1001</td>\n",
       "      <td>15000.0</td>\n",
       "      <td>NEE</td>\n",
       "      <td>NextEra Energy, Inc.</td>\n",
       "      <td>Utilities</td>\n",
       "      <td>Utilities—Regulated Electric</td>\n",
       "      <td>NextEra Energy, Inc., through its subsidiaries, generates, transmits, distributes, and sells electric power to retail and wholesale customers in North America. The company generates electricity through wind, solar, nuclear, and fossil fuel, such as coal and natural gas facilities. It also develops, constructs, and operates long-term contracted assets with a focus on renewable generation facilities, electric transmission facilities, and battery storage projects; and owns, develops, constructs, manages and operates electric generation facilities in wholesale energy markets. As of December 31, 2020, the company operated approximately 28,400 megawatts of net generating capacity. It serves approximately 11 million people through approximately 5.6 million customer accounts in the east and lower west coasts of Florida with approximately 76,200 circuit miles of transmission and distribution lines and 673 substations. The company was formerly known as FPL Group, Inc. and changed its name to NextEra Energy, Inc. in 2010. NextEra Energy, Inc. was founded in 1925 and is headquartered in Juno Beach, Florida.</td>\n",
       "      <td>https://www.nexteraenergy.com</td>\n",
       "      <td>Utilities, Utilities—Regulated Electric, NextEra Energy, Inc., through its subsidiaries, generates, transmits, distributes, and sells electric power to retail and wholesale customers in North America. The company generates electricity through wind, solar, nuclear, and fossil fuel, such as coal and natural gas facilities. It also develops, constructs, and operates long-term contracted assets with a focus on renewable generation facilities, electric transmission facilities, and battery storage projects; and owns, develops, constructs, manages and operates electric generation facilities in wholesale energy markets. As of December 31, 2020, the company operated approximately 28,400 megawatts of net generating capacity. It serves approximately 11 million people through approximately 5.6 million customer accounts in the east and lower west coasts of Florida with approximately 76,200 circuit miles of transmission and distribution lines and 673 substations. The company was formerly known as FPL Group, Inc. and changed its name to NextEra Energy, Inc. in 2010. NextEra Energy, Inc. was founded in 1925 and is headquartered in Juno Beach, Florida.</td>\n",
       "    </tr>\n",
       "    <tr>\n",
       "      <th>4</th>\n",
       "      <td>04/05/2018</td>\n",
       "      <td>05/14/2018</td>\n",
       "      <td>Shelley M Capito</td>\n",
       "      <td>Spouse</td>\n",
       "      <td>NEE</td>\n",
       "      <td>1001 - 15000</td>\n",
       "      <td>NextEra Energy, Inc.</td>\n",
       "      <td>Stock</td>\n",
       "      <td>Purchase</td>\n",
       "      <td>--</td>\n",
       "      <td>https://efdsearch.senate.gov/search/view/ptr/b17ecfe5-f246-4f4c-bf2f-4f1dd4c35539/</td>\n",
       "      <td>NaN</td>\n",
       "      <td>NaN</td>\n",
       "      <td>1001</td>\n",
       "      <td>15000.0</td>\n",
       "      <td>NEE</td>\n",
       "      <td>NextEra Energy, Inc.</td>\n",
       "      <td>Utilities</td>\n",
       "      <td>Utilities—Regulated Electric</td>\n",
       "      <td>NextEra Energy, Inc., through its subsidiaries, generates, transmits, distributes, and sells electric power to retail and wholesale customers in North America. The company generates electricity through wind, solar, nuclear, and fossil fuel, such as coal and natural gas facilities. It also develops, constructs, and operates long-term contracted assets with a focus on renewable generation facilities, electric transmission facilities, and battery storage projects; and owns, develops, constructs, manages and operates electric generation facilities in wholesale energy markets. As of December 31, 2020, the company operated approximately 28,400 megawatts of net generating capacity. It serves approximately 11 million people through approximately 5.6 million customer accounts in the east and lower west coasts of Florida with approximately 76,200 circuit miles of transmission and distribution lines and 673 substations. The company was formerly known as FPL Group, Inc. and changed its name to NextEra Energy, Inc. in 2010. NextEra Energy, Inc. was founded in 1925 and is headquartered in Juno Beach, Florida.</td>\n",
       "      <td>https://www.nexteraenergy.com</td>\n",
       "      <td>Utilities, Utilities—Regulated Electric, NextEra Energy, Inc., through its subsidiaries, generates, transmits, distributes, and sells electric power to retail and wholesale customers in North America. The company generates electricity through wind, solar, nuclear, and fossil fuel, such as coal and natural gas facilities. It also develops, constructs, and operates long-term contracted assets with a focus on renewable generation facilities, electric transmission facilities, and battery storage projects; and owns, develops, constructs, manages and operates electric generation facilities in wholesale energy markets. As of December 31, 2020, the company operated approximately 28,400 megawatts of net generating capacity. It serves approximately 11 million people through approximately 5.6 million customer accounts in the east and lower west coasts of Florida with approximately 76,200 circuit miles of transmission and distribution lines and 673 substations. The company was formerly known as FPL Group, Inc. and changed its name to NextEra Energy, Inc. in 2010. NextEra Energy, Inc. was founded in 1925 and is headquartered in Juno Beach, Florida.</td>\n",
       "    </tr>\n",
       "  </tbody>\n",
       "</table>\n",
       "</div>"
      ],
      "text/plain": [
       "  transaction_date disclosure_date           politician   owner ticker  \\\n",
       "0       02/24/2022      03/11/2022     Shelley M Capito  Spouse    NEE   \n",
       "1       01/14/2022      02/14/2022  Thomas H Tuberville   Joint    NEE   \n",
       "2       12/21/2018      01/08/2019      Susan M Collins  Spouse    NEE   \n",
       "3       04/24/2018      05/14/2018     Shelley M Capito  Spouse    NEE   \n",
       "4       04/05/2018      05/14/2018     Shelley M Capito  Spouse    NEE   \n",
       "\n",
       "          amount                  asset_description asset_type  \\\n",
       "0   1001 - 15000  NextEra Energy, Inc. Common Stock      Stock   \n",
       "1  15001 - 50000  NextEra Energy, Inc. Common Stock      Stock   \n",
       "2  15001 - 50000               NextEra Energy, Inc.      Stock   \n",
       "3   1001 - 15000               NextEra Energy, Inc.      Stock   \n",
       "4   1001 - 15000               NextEra Energy, Inc.      Stock   \n",
       "\n",
       "  transaction_type comment  \\\n",
       "0   Sale (Partial)      --   \n",
       "1      Sale (Full)      --   \n",
       "2         Purchase      --   \n",
       "3         Purchase      --   \n",
       "4         Purchase      --   \n",
       "\n",
       "                                                                             ptr_link  \\\n",
       "0  https://efdsearch.senate.gov/search/view/ptr/e7893c34-0761-4c2b-ac52-e303f166517f/   \n",
       "1  https://efdsearch.senate.gov/search/view/ptr/c9da6bea-fa14-4a3a-9d8b-1745e834da59/   \n",
       "2  https://efdsearch.senate.gov/search/view/ptr/bb3e64d2-1a93-46ac-ac1d-47508fbb199f/   \n",
       "3  https://efdsearch.senate.gov/search/view/ptr/b17ecfe5-f246-4f4c-bf2f-4f1dd4c35539/   \n",
       "4  https://efdsearch.senate.gov/search/view/ptr/b17ecfe5-f246-4f4c-bf2f-4f1dd4c35539/   \n",
       "\n",
       "  location cap_gains amount_low  amount_high ticker2                  name  \\\n",
       "0      NaN       NaN       1001      15000.0     NEE  NextEra Energy, Inc.   \n",
       "1      NaN       NaN      15001      50000.0     NEE  NextEra Energy, Inc.   \n",
       "2      NaN       NaN      15001      50000.0     NEE  NextEra Energy, Inc.   \n",
       "3      NaN       NaN       1001      15000.0     NEE  NextEra Energy, Inc.   \n",
       "4      NaN       NaN       1001      15000.0     NEE  NextEra Energy, Inc.   \n",
       "\n",
       "      sector                      industry  \\\n",
       "0  Utilities  Utilities—Regulated Electric   \n",
       "1  Utilities  Utilities—Regulated Electric   \n",
       "2  Utilities  Utilities—Regulated Electric   \n",
       "3  Utilities  Utilities—Regulated Electric   \n",
       "4  Utilities  Utilities—Regulated Electric   \n",
       "\n",
       "                                                                                                                                                                                                                                                                                                                                                                                                                                                                                                                                                                                                                                                                                                                                                                                                                                                                                                                                                                                                                                                                                                                                        longbusinesssummary  \\\n",
       "0  NextEra Energy, Inc., through its subsidiaries, generates, transmits, distributes, and sells electric power to retail and wholesale customers in North America. The company generates electricity through wind, solar, nuclear, and fossil fuel, such as coal and natural gas facilities. It also develops, constructs, and operates long-term contracted assets with a focus on renewable generation facilities, electric transmission facilities, and battery storage projects; and owns, develops, constructs, manages and operates electric generation facilities in wholesale energy markets. As of December 31, 2020, the company operated approximately 28,400 megawatts of net generating capacity. It serves approximately 11 million people through approximately 5.6 million customer accounts in the east and lower west coasts of Florida with approximately 76,200 circuit miles of transmission and distribution lines and 673 substations. The company was formerly known as FPL Group, Inc. and changed its name to NextEra Energy, Inc. in 2010. NextEra Energy, Inc. was founded in 1925 and is headquartered in Juno Beach, Florida.   \n",
       "1  NextEra Energy, Inc., through its subsidiaries, generates, transmits, distributes, and sells electric power to retail and wholesale customers in North America. The company generates electricity through wind, solar, nuclear, and fossil fuel, such as coal and natural gas facilities. It also develops, constructs, and operates long-term contracted assets with a focus on renewable generation facilities, electric transmission facilities, and battery storage projects; and owns, develops, constructs, manages and operates electric generation facilities in wholesale energy markets. As of December 31, 2020, the company operated approximately 28,400 megawatts of net generating capacity. It serves approximately 11 million people through approximately 5.6 million customer accounts in the east and lower west coasts of Florida with approximately 76,200 circuit miles of transmission and distribution lines and 673 substations. The company was formerly known as FPL Group, Inc. and changed its name to NextEra Energy, Inc. in 2010. NextEra Energy, Inc. was founded in 1925 and is headquartered in Juno Beach, Florida.   \n",
       "2  NextEra Energy, Inc., through its subsidiaries, generates, transmits, distributes, and sells electric power to retail and wholesale customers in North America. The company generates electricity through wind, solar, nuclear, and fossil fuel, such as coal and natural gas facilities. It also develops, constructs, and operates long-term contracted assets with a focus on renewable generation facilities, electric transmission facilities, and battery storage projects; and owns, develops, constructs, manages and operates electric generation facilities in wholesale energy markets. As of December 31, 2020, the company operated approximately 28,400 megawatts of net generating capacity. It serves approximately 11 million people through approximately 5.6 million customer accounts in the east and lower west coasts of Florida with approximately 76,200 circuit miles of transmission and distribution lines and 673 substations. The company was formerly known as FPL Group, Inc. and changed its name to NextEra Energy, Inc. in 2010. NextEra Energy, Inc. was founded in 1925 and is headquartered in Juno Beach, Florida.   \n",
       "3  NextEra Energy, Inc., through its subsidiaries, generates, transmits, distributes, and sells electric power to retail and wholesale customers in North America. The company generates electricity through wind, solar, nuclear, and fossil fuel, such as coal and natural gas facilities. It also develops, constructs, and operates long-term contracted assets with a focus on renewable generation facilities, electric transmission facilities, and battery storage projects; and owns, develops, constructs, manages and operates electric generation facilities in wholesale energy markets. As of December 31, 2020, the company operated approximately 28,400 megawatts of net generating capacity. It serves approximately 11 million people through approximately 5.6 million customer accounts in the east and lower west coasts of Florida with approximately 76,200 circuit miles of transmission and distribution lines and 673 substations. The company was formerly known as FPL Group, Inc. and changed its name to NextEra Energy, Inc. in 2010. NextEra Energy, Inc. was founded in 1925 and is headquartered in Juno Beach, Florida.   \n",
       "4  NextEra Energy, Inc., through its subsidiaries, generates, transmits, distributes, and sells electric power to retail and wholesale customers in North America. The company generates electricity through wind, solar, nuclear, and fossil fuel, such as coal and natural gas facilities. It also develops, constructs, and operates long-term contracted assets with a focus on renewable generation facilities, electric transmission facilities, and battery storage projects; and owns, develops, constructs, manages and operates electric generation facilities in wholesale energy markets. As of December 31, 2020, the company operated approximately 28,400 megawatts of net generating capacity. It serves approximately 11 million people through approximately 5.6 million customer accounts in the east and lower west coasts of Florida with approximately 76,200 circuit miles of transmission and distribution lines and 673 substations. The company was formerly known as FPL Group, Inc. and changed its name to NextEra Energy, Inc. in 2010. NextEra Energy, Inc. was founded in 1925 and is headquartered in Juno Beach, Florida.   \n",
       "\n",
       "                         website  \\\n",
       "0  https://www.nexteraenergy.com   \n",
       "1  https://www.nexteraenergy.com   \n",
       "2  https://www.nexteraenergy.com   \n",
       "3  https://www.nexteraenergy.com   \n",
       "4  https://www.nexteraenergy.com   \n",
       "\n",
       "                                                                                                                                                                                                                                                                                                                                                                                                                                                                                                                                                                                                                                                                                                                                                                                                                                                                                                                                                                                                                                                                                                                                                                                   stock_description  \n",
       "0  Utilities, Utilities—Regulated Electric, NextEra Energy, Inc., through its subsidiaries, generates, transmits, distributes, and sells electric power to retail and wholesale customers in North America. The company generates electricity through wind, solar, nuclear, and fossil fuel, such as coal and natural gas facilities. It also develops, constructs, and operates long-term contracted assets with a focus on renewable generation facilities, electric transmission facilities, and battery storage projects; and owns, develops, constructs, manages and operates electric generation facilities in wholesale energy markets. As of December 31, 2020, the company operated approximately 28,400 megawatts of net generating capacity. It serves approximately 11 million people through approximately 5.6 million customer accounts in the east and lower west coasts of Florida with approximately 76,200 circuit miles of transmission and distribution lines and 673 substations. The company was formerly known as FPL Group, Inc. and changed its name to NextEra Energy, Inc. in 2010. NextEra Energy, Inc. was founded in 1925 and is headquartered in Juno Beach, Florida.  \n",
       "1  Utilities, Utilities—Regulated Electric, NextEra Energy, Inc., through its subsidiaries, generates, transmits, distributes, and sells electric power to retail and wholesale customers in North America. The company generates electricity through wind, solar, nuclear, and fossil fuel, such as coal and natural gas facilities. It also develops, constructs, and operates long-term contracted assets with a focus on renewable generation facilities, electric transmission facilities, and battery storage projects; and owns, develops, constructs, manages and operates electric generation facilities in wholesale energy markets. As of December 31, 2020, the company operated approximately 28,400 megawatts of net generating capacity. It serves approximately 11 million people through approximately 5.6 million customer accounts in the east and lower west coasts of Florida with approximately 76,200 circuit miles of transmission and distribution lines and 673 substations. The company was formerly known as FPL Group, Inc. and changed its name to NextEra Energy, Inc. in 2010. NextEra Energy, Inc. was founded in 1925 and is headquartered in Juno Beach, Florida.  \n",
       "2  Utilities, Utilities—Regulated Electric, NextEra Energy, Inc., through its subsidiaries, generates, transmits, distributes, and sells electric power to retail and wholesale customers in North America. The company generates electricity through wind, solar, nuclear, and fossil fuel, such as coal and natural gas facilities. It also develops, constructs, and operates long-term contracted assets with a focus on renewable generation facilities, electric transmission facilities, and battery storage projects; and owns, develops, constructs, manages and operates electric generation facilities in wholesale energy markets. As of December 31, 2020, the company operated approximately 28,400 megawatts of net generating capacity. It serves approximately 11 million people through approximately 5.6 million customer accounts in the east and lower west coasts of Florida with approximately 76,200 circuit miles of transmission and distribution lines and 673 substations. The company was formerly known as FPL Group, Inc. and changed its name to NextEra Energy, Inc. in 2010. NextEra Energy, Inc. was founded in 1925 and is headquartered in Juno Beach, Florida.  \n",
       "3  Utilities, Utilities—Regulated Electric, NextEra Energy, Inc., through its subsidiaries, generates, transmits, distributes, and sells electric power to retail and wholesale customers in North America. The company generates electricity through wind, solar, nuclear, and fossil fuel, such as coal and natural gas facilities. It also develops, constructs, and operates long-term contracted assets with a focus on renewable generation facilities, electric transmission facilities, and battery storage projects; and owns, develops, constructs, manages and operates electric generation facilities in wholesale energy markets. As of December 31, 2020, the company operated approximately 28,400 megawatts of net generating capacity. It serves approximately 11 million people through approximately 5.6 million customer accounts in the east and lower west coasts of Florida with approximately 76,200 circuit miles of transmission and distribution lines and 673 substations. The company was formerly known as FPL Group, Inc. and changed its name to NextEra Energy, Inc. in 2010. NextEra Energy, Inc. was founded in 1925 and is headquartered in Juno Beach, Florida.  \n",
       "4  Utilities, Utilities—Regulated Electric, NextEra Energy, Inc., through its subsidiaries, generates, transmits, distributes, and sells electric power to retail and wholesale customers in North America. The company generates electricity through wind, solar, nuclear, and fossil fuel, such as coal and natural gas facilities. It also develops, constructs, and operates long-term contracted assets with a focus on renewable generation facilities, electric transmission facilities, and battery storage projects; and owns, develops, constructs, manages and operates electric generation facilities in wholesale energy markets. As of December 31, 2020, the company operated approximately 28,400 megawatts of net generating capacity. It serves approximately 11 million people through approximately 5.6 million customer accounts in the east and lower west coasts of Florida with approximately 76,200 circuit miles of transmission and distribution lines and 673 substations. The company was formerly known as FPL Group, Inc. and changed its name to NextEra Energy, Inc. in 2010. NextEra Energy, Inc. was founded in 1925 and is headquartered in Juno Beach, Florida.  "
      ]
     },
     "execution_count": 4,
     "metadata": {},
     "output_type": "execute_result"
    }
   ],
   "source": [
    "df.head(5)"
   ]
  },
  {
   "cell_type": "code",
   "execution_count": 5,
   "id": "bf4dc497",
   "metadata": {},
   "outputs": [],
   "source": [
    "# df_subcomittees = pd.read_csv(\"..//data//processed//stock_watchers_w_yfinance_03_12_2022.csv\", encoding=\"utf-8\")"
   ]
  },
  {
   "cell_type": "code",
   "execution_count": null,
   "id": "d1f649e3",
   "metadata": {},
   "outputs": [],
   "source": []
  },
  {
   "cell_type": "code",
   "execution_count": null,
   "id": "f4bbef8c",
   "metadata": {},
   "outputs": [],
   "source": [
    "# df3.to_csv('..//data//processed//stock_watchers_w_yfinance_03_12_2022.csv', index = False)"
   ]
  },
  {
   "cell_type": "markdown",
   "id": "810e30f7",
   "metadata": {},
   "source": [
    "-----"
   ]
  },
  {
   "cell_type": "markdown",
   "id": "087525f9",
   "metadata": {},
   "source": [
    "##### Understanding FuzzyWuzzy + The Fuzz"
   ]
  },
  {
   "cell_type": "markdown",
   "id": "c5abe36d",
   "metadata": {},
   "source": [
    "Source: \n",
    "https://chairnerd.seatgeek.com/fuzzywuzzy-fuzzy-string-matching-in-python/\n",
    "\n",
    "https://github.com/seatgeek/thefuzz\n",
    "\n",
    "https://itnext.io/string-similarity-the-basic-know-your-algorithms-guide-3de3d7346227"
   ]
  },
  {
   "cell_type": "markdown",
   "id": "b02813e8",
   "metadata": {},
   "source": [
    "Simple Ratios"
   ]
  },
  {
   "cell_type": "code",
   "execution_count": 12,
   "id": "58661ada",
   "metadata": {},
   "outputs": [
    {
     "data": {
      "text/plain": [
       "0.9629629629629629"
      ]
     },
     "execution_count": 12,
     "metadata": {},
     "output_type": "execute_result"
    }
   ],
   "source": [
    "m = SequenceMatcher(None, \"NEW YORK METS\", \"NEW YORK MEATS\")\n",
    "m.ratio()"
   ]
  },
  {
   "cell_type": "code",
   "execution_count": 20,
   "id": "5fdd1d5e",
   "metadata": {},
   "outputs": [
    {
     "data": {
      "text/plain": [
       "96"
      ]
     },
     "execution_count": 20,
     "metadata": {},
     "output_type": "execute_result"
    }
   ],
   "source": [
    "fuzz.ratio(\"NEW YORK METS\", \"NEW YORK MEATS\")"
   ]
  },
  {
   "cell_type": "code",
   "execution_count": 21,
   "id": "a35e3020",
   "metadata": {},
   "outputs": [
    {
     "data": {
      "text/plain": [
       "61"
      ]
     },
     "execution_count": 21,
     "metadata": {},
     "output_type": "execute_result"
    }
   ],
   "source": [
    "fuzz.ratio(\"YANKEES\", \"NEW YORK YANKEES\")"
   ]
  },
  {
   "cell_type": "code",
   "execution_count": 22,
   "id": "25fa134c",
   "metadata": {},
   "outputs": [
    {
     "data": {
      "text/plain": [
       "76"
      ]
     },
     "execution_count": 22,
     "metadata": {},
     "output_type": "execute_result"
    }
   ],
   "source": [
    "fuzz.ratio(\"NEW YORK METS\", \"NEW YORK YANKEES\")"
   ]
  },
  {
   "cell_type": "code",
   "execution_count": 27,
   "id": "01a66093",
   "metadata": {},
   "outputs": [
    {
     "data": {
      "text/plain": [
       "14"
      ]
     },
     "execution_count": 27,
     "metadata": {},
     "output_type": "execute_result"
    }
   ],
   "source": [
    "fuzz.ratio(\"YANKEES\", \"NEW YOR\")"
   ]
  },
  {
   "cell_type": "code",
   "execution_count": 28,
   "id": "024e27dc",
   "metadata": {},
   "outputs": [
    {
     "data": {
      "text/plain": [
       "29"
      ]
     },
     "execution_count": 28,
     "metadata": {},
     "output_type": "execute_result"
    }
   ],
   "source": [
    "fuzz.ratio(\"YANKEES\", \"EW YORK\")"
   ]
  },
  {
   "cell_type": "code",
   "execution_count": 31,
   "id": "e458bb83",
   "metadata": {},
   "outputs": [
    {
     "data": {
      "text/plain": [
       "100"
      ]
     },
     "execution_count": 31,
     "metadata": {},
     "output_type": "execute_result"
    }
   ],
   "source": [
    "fuzz.ratio(\"YANKEES\", \"YANKEES\")"
   ]
  },
  {
   "cell_type": "code",
   "execution_count": 61,
   "id": "309debe5",
   "metadata": {},
   "outputs": [
    {
     "data": {
      "text/plain": [
       "97"
      ]
     },
     "execution_count": 61,
     "metadata": {},
     "output_type": "execute_result"
    }
   ],
   "source": [
    "fuzz.ratio(\"this is a test\", \"this is a test!\")"
   ]
  },
  {
   "cell_type": "markdown",
   "id": "206f6d83",
   "metadata": {},
   "source": [
    "Partial Ratio"
   ]
  },
  {
   "cell_type": "code",
   "execution_count": 48,
   "id": "04d193f6",
   "metadata": {},
   "outputs": [
    {
     "data": {
      "text/plain": [
       "100"
      ]
     },
     "execution_count": 48,
     "metadata": {},
     "output_type": "execute_result"
    }
   ],
   "source": [
    "# A perfect Partial Match\n",
    "fuzz.partial_ratio(\"YANKEES\", \"NEW YORK YANKEES\")"
   ]
  },
  {
   "cell_type": "code",
   "execution_count": 33,
   "id": "0b811f22",
   "metadata": {},
   "outputs": [
    {
     "data": {
      "text/plain": [
       "69"
      ]
     },
     "execution_count": 33,
     "metadata": {},
     "output_type": "execute_result"
    }
   ],
   "source": [
    "fuzz.partial_ratio(\"NEW YORK METS\", \"NEW YORK YANKEES\")"
   ]
  },
  {
   "cell_type": "markdown",
   "id": "0f9d026d",
   "metadata": {},
   "source": [
    "Token Sort Ratio"
   ]
  },
  {
   "cell_type": "code",
   "execution_count": 50,
   "id": "3edad6bb",
   "metadata": {},
   "outputs": [
    {
     "data": {
      "text/plain": [
       "45"
      ]
     },
     "execution_count": 50,
     "metadata": {},
     "output_type": "execute_result"
    }
   ],
   "source": [
    "#without token sort\n",
    "fuzz.ratio(\"New York Mets vs Atlanta Braves\", \"Atlanta Braves vs New York Mets\")"
   ]
  },
  {
   "cell_type": "code",
   "execution_count": 51,
   "id": "ba475c25",
   "metadata": {},
   "outputs": [
    {
     "data": {
      "text/plain": [
       "100"
      ]
     },
     "execution_count": 51,
     "metadata": {},
     "output_type": "execute_result"
    }
   ],
   "source": [
    "#with token sort\n",
    "fuzz.token_sort_ratio(\"New York Mets vs Atlanta Braves\", \"Atlanta Braves vs New York Mets\")"
   ]
  },
  {
   "cell_type": "code",
   "execution_count": 62,
   "id": "70356461",
   "metadata": {},
   "outputs": [
    {
     "data": {
      "text/plain": [
       "91"
      ]
     },
     "execution_count": 62,
     "metadata": {},
     "output_type": "execute_result"
    }
   ],
   "source": [
    "fuzz.ratio(\"fuzzy wuzzy was a bear\", \"wuzzy fuzzy was a bear\")"
   ]
  },
  {
   "cell_type": "code",
   "execution_count": 63,
   "id": "df45268d",
   "metadata": {},
   "outputs": [
    {
     "data": {
      "text/plain": [
       "100"
      ]
     },
     "execution_count": 63,
     "metadata": {},
     "output_type": "execute_result"
    }
   ],
   "source": [
    "fuzz.token_sort_ratio(\"fuzzy wuzzy was a bear\", \"wuzzy fuzzy was a bear\")"
   ]
  },
  {
   "cell_type": "markdown",
   "id": "c2917bb6",
   "metadata": {},
   "source": [
    "Token Set"
   ]
  },
  {
   "cell_type": "code",
   "execution_count": null,
   "id": "d853c85c",
   "metadata": {},
   "outputs": [],
   "source": []
  },
  {
   "cell_type": "code",
   "execution_count": 52,
   "id": "8a4882e0",
   "metadata": {},
   "outputs": [],
   "source": [
    "s1 = \"mariners vs angels\"\n",
    "s2 = \"los angeles angels of anaheim at seattle mariners\""
   ]
  },
  {
   "cell_type": "code",
   "execution_count": 53,
   "id": "245cc91e",
   "metadata": {},
   "outputs": [],
   "source": [
    "t0 = \"angels mariners\"\n",
    "t1 = \"angels mariners vs\"\n",
    "t2 = \"angels mariners anaheim angeles at los of seattle\""
   ]
  },
  {
   "cell_type": "code",
   "execution_count": 41,
   "id": "9036de5c",
   "metadata": {},
   "outputs": [],
   "source": [
    "# t0 = [SORTED_INTERSECTION]\n",
    "# t1 = [SORTED_INTERSECTION] + [SORTED_REST_OF_STRING1]\n",
    "# t2 = [SORTED_INTERSECTION] + [SORTED_REST_OF_STRING2]"
   ]
  },
  {
   "cell_type": "code",
   "execution_count": 54,
   "id": "0a835205",
   "metadata": {},
   "outputs": [
    {
     "data": {
      "text/plain": [
       "91"
      ]
     },
     "execution_count": 54,
     "metadata": {},
     "output_type": "execute_result"
    }
   ],
   "source": [
    "fuzz.ratio(t0, t1)"
   ]
  },
  {
   "cell_type": "code",
   "execution_count": 55,
   "id": "0ae99080",
   "metadata": {},
   "outputs": [
    {
     "data": {
      "text/plain": [
       "47"
      ]
     },
     "execution_count": 55,
     "metadata": {},
     "output_type": "execute_result"
    }
   ],
   "source": [
    "fuzz.ratio(t0, t2)"
   ]
  },
  {
   "cell_type": "code",
   "execution_count": 45,
   "id": "31e38b5a",
   "metadata": {},
   "outputs": [
    {
     "data": {
      "text/plain": [
       "51"
      ]
     },
     "execution_count": 45,
     "metadata": {},
     "output_type": "execute_result"
    }
   ],
   "source": [
    "fuzz.ratio(t1, t2)"
   ]
  },
  {
   "cell_type": "code",
   "execution_count": 46,
   "id": "bcbbe395",
   "metadata": {},
   "outputs": [
    {
     "data": {
      "text/plain": [
       "91"
      ]
     },
     "execution_count": 46,
     "metadata": {},
     "output_type": "execute_result"
    }
   ],
   "source": [
    "fuzz.token_set_ratio(\"mariners vs angels\", \"los angeles angels of anaheim at seattle mariners\")"
   ]
  },
  {
   "cell_type": "code",
   "execution_count": 47,
   "id": "1a5b31d6",
   "metadata": {},
   "outputs": [
    {
     "data": {
      "text/plain": [
       "100"
      ]
     },
     "execution_count": 47,
     "metadata": {},
     "output_type": "execute_result"
    }
   ],
   "source": [
    "fuzz.token_set_ratio(\"Sirhan, Sirhan\", \"Sirhan\")"
   ]
  },
  {
   "cell_type": "code",
   "execution_count": 64,
   "id": "01a4ceb3",
   "metadata": {},
   "outputs": [
    {
     "data": {
      "text/plain": [
       "84"
      ]
     },
     "execution_count": 64,
     "metadata": {},
     "output_type": "execute_result"
    }
   ],
   "source": [
    "fuzz.token_sort_ratio(\"fuzzy was a bear\", \"fuzzy fuzzy was a bear\")"
   ]
  },
  {
   "cell_type": "code",
   "execution_count": 65,
   "id": "ae76e802",
   "metadata": {},
   "outputs": [
    {
     "data": {
      "text/plain": [
       "100"
      ]
     },
     "execution_count": 65,
     "metadata": {},
     "output_type": "execute_result"
    }
   ],
   "source": [
    "fuzz.token_set_ratio(\"fuzzy was a bear\", \"fuzzy fuzzy was a bear\")"
   ]
  },
  {
   "cell_type": "markdown",
   "id": "514df25d",
   "metadata": {},
   "source": [
    "Process?"
   ]
  },
  {
   "cell_type": "code",
   "execution_count": 66,
   "id": "a595bcd0",
   "metadata": {},
   "outputs": [],
   "source": [
    "choices = [\"Atlanta Falcons\", \"New York Jets\", \"New York Giants\", \"Dallas Cowboys\"]"
   ]
  },
  {
   "cell_type": "code",
   "execution_count": 67,
   "id": "1352ffad",
   "metadata": {},
   "outputs": [
    {
     "data": {
      "text/plain": [
       "[('New York Jets', 100), ('New York Giants', 79)]"
      ]
     },
     "execution_count": 67,
     "metadata": {},
     "output_type": "execute_result"
    }
   ],
   "source": [
    "process.extract(\"new york jets\", choices, limit=2)"
   ]
  },
  {
   "cell_type": "code",
   "execution_count": 72,
   "id": "a164a8ad",
   "metadata": {},
   "outputs": [
    {
     "data": {
      "text/plain": [
       "[('New York Jets', 100), ('New York Giants', 79), ('Atlanta Falcons', 29)]"
      ]
     },
     "execution_count": 72,
     "metadata": {},
     "output_type": "execute_result"
    }
   ],
   "source": [
    "process.extract(\"new york jets\", choices, limit=3)"
   ]
  },
  {
   "cell_type": "code",
   "execution_count": 68,
   "id": "fee8e004",
   "metadata": {},
   "outputs": [
    {
     "data": {
      "text/plain": [
       "('Dallas Cowboys', 90)"
      ]
     },
     "execution_count": 68,
     "metadata": {},
     "output_type": "execute_result"
    }
   ],
   "source": [
    "process.extractOne(\"cowboys\", choices)"
   ]
  },
  {
   "cell_type": "code",
   "execution_count": 77,
   "id": "b2800266",
   "metadata": {},
   "outputs": [],
   "source": [
    "#parameters to extractOne to make it use a specific scorer\n",
    "# >>> process.extractOne(\"System of a down - Hypnotize - Heroin\", songs)\n",
    "#     ('/music/library/good/System of a Down/2005 - Hypnotize/01 - Attack.mp3', 86)\n",
    "# >>> process.extractOne(\"System of a down - Hypnotize - Heroin\", songs, scorer=fuzz.token_sort_ratio)\n",
    "#     (\"/music/library/good/System of a Down/2005 - Hypnotize/10 - She's Like Heroin.mp3\", 61)"
   ]
  },
  {
   "cell_type": "markdown",
   "id": "f6e4cedc",
   "metadata": {},
   "source": [
    "----"
   ]
  },
  {
   "cell_type": "markdown",
   "id": "48ff4069",
   "metadata": {},
   "source": [
    "##### Types of Algorithms"
   ]
  },
  {
   "cell_type": "markdown",
   "id": "052c09c7",
   "metadata": {},
   "source": [
    "Source: https://itnext.io/string-similarity-the-basic-know-your-algorithms-guide-3de3d7346227\n",
    "\n",
    "Based on the properties of operations, string similarity algorithms can be classified into a bunch of domains. Let’s discuss a few of them,\n",
    "Edit distance based: Algorithms falling under this category try to compute the number of operations needed to transforms one string to another. More the number of operations, less is the similarity between the two strings. One point to note, in this case, every index character of the string is given equal importance.\n",
    "\n",
    "Token-based: In this category, the expected input is a set of tokens, rather than complete strings. The idea is to find the similar tokens in both sets. More the number of common tokens, more is the similarity between the sets. A string can be transformed into sets by splitting using a delimiter. This way, we can transform a sentence into tokens of words or n-grams characters. Note, here tokens of different length have equal importance.\n",
    "\n",
    "Sequence-based: Here, the similarity is a factor of common sub-strings between the two strings. The algorithms, try to find the longest sequence which is present in both strings, the more of these sequences found, higher is the similarity score. Note, here combination of characters of same length have equal importance."
   ]
  },
  {
   "cell_type": "markdown",
   "id": "43256d7d",
   "metadata": {},
   "source": [
    "Hamming Distance (finding the places where the strings vary)"
   ]
  },
  {
   "cell_type": "code",
   "execution_count": 88,
   "id": "7f0659ec",
   "metadata": {},
   "outputs": [
    {
     "data": {
      "text/plain": [
       "1"
      ]
     },
     "execution_count": 88,
     "metadata": {},
     "output_type": "execute_result"
    }
   ],
   "source": [
    "#the edit distance is 1 for only the difference being one letter different\n",
    "textdistance.hamming('text', 'test')"
   ]
  },
  {
   "cell_type": "code",
   "execution_count": 89,
   "id": "fd064309",
   "metadata": {},
   "outputs": [
    {
     "data": {
      "text/plain": [
       "0.75"
      ]
     },
     "execution_count": 89,
     "metadata": {},
     "output_type": "execute_result"
    }
   ],
   "source": [
    "#75% similar between text and test\n",
    "textdistance.hamming.normalized_similarity('text', 'test')"
   ]
  },
  {
   "cell_type": "code",
   "execution_count": 86,
   "id": "cc9e5fa7",
   "metadata": {},
   "outputs": [
    {
     "data": {
      "text/plain": [
       "3"
      ]
     },
     "execution_count": 86,
     "metadata": {},
     "output_type": "execute_result"
    }
   ],
   "source": [
    "textdistance.hamming('arrow', 'arow')"
   ]
  },
  {
   "cell_type": "code",
   "execution_count": 87,
   "id": "51e08e5e",
   "metadata": {},
   "outputs": [
    {
     "data": {
      "text/plain": [
       "0.4"
      ]
     },
     "execution_count": 87,
     "metadata": {},
     "output_type": "execute_result"
    }
   ],
   "source": [
    "textdistance.hamming.normalized_similarity('arrow', 'arow')"
   ]
  },
  {
   "cell_type": "markdown",
   "id": "2d0862ad",
   "metadata": {},
   "source": [
    "Levenshtein Distance (finding the number of edits which will transform one string to another)"
   ]
  },
  {
   "cell_type": "code",
   "execution_count": 91,
   "id": "7bac74fc",
   "metadata": {},
   "outputs": [
    {
     "data": {
      "text/plain": [
       "1"
      ]
     },
     "execution_count": 91,
     "metadata": {},
     "output_type": "execute_result"
    }
   ],
   "source": [
    "#number of edits it will take to transform one to the other\n",
    "textdistance.levenshtein('arrow', 'arow')"
   ]
  },
  {
   "cell_type": "code",
   "execution_count": 92,
   "id": "5a0b2b8c",
   "metadata": {},
   "outputs": [
    {
     "data": {
      "text/plain": [
       "0.8"
      ]
     },
     "execution_count": 92,
     "metadata": {},
     "output_type": "execute_result"
    }
   ],
   "source": [
    "textdistance.levenshtein.normalized_similarity('arrow', 'arow')"
   ]
  },
  {
   "cell_type": "markdown",
   "id": "4c74c89c",
   "metadata": {},
   "source": [
    "Jaro-Winkler "
   ]
  },
  {
   "cell_type": "markdown",
   "id": "b5aee669",
   "metadata": {},
   "source": [
    "\"(1) they contain same characters, but within a certain distance from one another, and (2) the order of the matching characters is same.\""
   ]
  },
  {
   "cell_type": "code",
   "execution_count": 107,
   "id": "b7c8d838",
   "metadata": {},
   "outputs": [],
   "source": [
    "# textdistance.jaro_winkler(\"mes\", \"messi\")"
   ]
  },
  {
   "cell_type": "code",
   "execution_count": 106,
   "id": "07296b96",
   "metadata": {},
   "outputs": [],
   "source": [
    "# textdistance.jaro_winkler(\"crate\", \"crat\")"
   ]
  },
  {
   "cell_type": "code",
   "execution_count": 109,
   "id": "4bbad154",
   "metadata": {},
   "outputs": [],
   "source": [
    "# textdistance.jaro_winkler(\"crate\", \"atcr\")"
   ]
  },
  {
   "cell_type": "markdown",
   "id": "b4a1a6d7",
   "metadata": {},
   "source": [
    "Jaccard Index (find the number of common tokens and divide it by the total number of unique tokens)\n",
    "\n",
    "\"We first tokenize the string by default space delimiter, to make words in the strings as tokens. Then we compute the similarity score.\" "
   ]
  },
  {
   "cell_type": "code",
   "execution_count": 117,
   "id": "6075414d",
   "metadata": {},
   "outputs": [],
   "source": [
    "tokens_1 = \"hello world\".split()\n",
    "tokens_2 = \"world hello\".split()"
   ]
  },
  {
   "cell_type": "code",
   "execution_count": 118,
   "id": "6e2ac1d8",
   "metadata": {},
   "outputs": [
    {
     "data": {
      "text/plain": [
       "1.0"
      ]
     },
     "execution_count": 118,
     "metadata": {},
     "output_type": "execute_result"
    }
   ],
   "source": [
    "textdistance.jaccard(tokens_1 , tokens_2)"
   ]
  },
  {
   "cell_type": "code",
   "execution_count": 119,
   "id": "0efe0e23",
   "metadata": {},
   "outputs": [],
   "source": [
    "tokens_1 = \"hello new world\".split()\n",
    "tokens_2 = \"hello world\".split()"
   ]
  },
  {
   "cell_type": "code",
   "execution_count": 120,
   "id": "2dc06438",
   "metadata": {},
   "outputs": [
    {
     "data": {
      "text/plain": [
       "0.6666666666666666"
      ]
     },
     "execution_count": 120,
     "metadata": {},
     "output_type": "execute_result"
    }
   ],
   "source": [
    "textdistance.jaccard(tokens_1 , tokens_2)"
   ]
  },
  {
   "cell_type": "markdown",
   "id": "3f13d32b",
   "metadata": {},
   "source": []
  },
  {
   "cell_type": "markdown",
   "id": "38232b3a",
   "metadata": {},
   "source": [
    "Sorensen-Dice \n",
    "\n",
    "\"Falling under set similarity, the logic is to find the common tokens, and divide it by the total number of tokens present by combining both sets.\" "
   ]
  },
  {
   "cell_type": "code",
   "execution_count": 121,
   "id": "7c08b664",
   "metadata": {},
   "outputs": [],
   "source": [
    "tokens_1 = \"hello world\".split()\n",
    "tokens_2 = \"world hello\".split()"
   ]
  },
  {
   "cell_type": "code",
   "execution_count": 122,
   "id": "3014c615",
   "metadata": {},
   "outputs": [
    {
     "data": {
      "text/plain": [
       "1.0"
      ]
     },
     "execution_count": 122,
     "metadata": {},
     "output_type": "execute_result"
    }
   ],
   "source": [
    "textdistance.sorensen(tokens_1 , tokens_2)"
   ]
  },
  {
   "cell_type": "code",
   "execution_count": 123,
   "id": "1d3bb569",
   "metadata": {},
   "outputs": [],
   "source": [
    "tokens_1 = \"hello new world\".split()\n",
    "tokens_2 = \"hello world\".split()"
   ]
  },
  {
   "cell_type": "code",
   "execution_count": 124,
   "id": "2a32c95a",
   "metadata": {},
   "outputs": [
    {
     "data": {
      "text/plain": [
       "0.8"
      ]
     },
     "execution_count": 124,
     "metadata": {},
     "output_type": "execute_result"
    }
   ],
   "source": [
    "textdistance.sorensen(tokens_1 , tokens_2)"
   ]
  },
  {
   "cell_type": "markdown",
   "id": "486c370a",
   "metadata": {},
   "source": [
    "Ratcliff-Obershelp similarity"
   ]
  },
  {
   "cell_type": "code",
   "execution_count": 125,
   "id": "5f4f4687",
   "metadata": {},
   "outputs": [],
   "source": [
    "string1, string2 = \"i am going home\", \"gone home\""
   ]
  },
  {
   "cell_type": "code",
   "execution_count": 126,
   "id": "91ee2376",
   "metadata": {},
   "outputs": [
    {
     "data": {
      "text/plain": [
       "0.6666666666666666"
      ]
     },
     "execution_count": 126,
     "metadata": {},
     "output_type": "execute_result"
    }
   ],
   "source": [
    "textdistance.ratcliff_obershelp(string1, string2)"
   ]
  },
  {
   "cell_type": "code",
   "execution_count": 128,
   "id": "b4791b56",
   "metadata": {},
   "outputs": [],
   "source": [
    "string1, string2 = \"helloworld\", \"worldhello\""
   ]
  },
  {
   "cell_type": "code",
   "execution_count": 129,
   "id": "6710cc2b",
   "metadata": {},
   "outputs": [
    {
     "data": {
      "text/plain": [
       "0.5"
      ]
     },
     "execution_count": 129,
     "metadata": {},
     "output_type": "execute_result"
    }
   ],
   "source": [
    "textdistance.ratcliff_obershelp(string1, string2)"
   ]
  },
  {
   "cell_type": "code",
   "execution_count": 130,
   "id": "b05e9502",
   "metadata": {},
   "outputs": [],
   "source": [
    "string1, string2 = \"test\", \"text\""
   ]
  },
  {
   "cell_type": "code",
   "execution_count": 131,
   "id": "76cd153e",
   "metadata": {},
   "outputs": [
    {
     "data": {
      "text/plain": [
       "0.75"
      ]
     },
     "execution_count": 131,
     "metadata": {},
     "output_type": "execute_result"
    }
   ],
   "source": [
    "textdistance.ratcliff_obershelp(string1, string2)"
   ]
  },
  {
   "cell_type": "code",
   "execution_count": 132,
   "id": "f05cf22d",
   "metadata": {},
   "outputs": [],
   "source": [
    "string1, string2 = \"mes\", \"simes\""
   ]
  },
  {
   "cell_type": "code",
   "execution_count": 133,
   "id": "b927418f",
   "metadata": {},
   "outputs": [
    {
     "data": {
      "text/plain": [
       "0.75"
      ]
     },
     "execution_count": 133,
     "metadata": {},
     "output_type": "execute_result"
    }
   ],
   "source": [
    "textdistance.ratcliff_obershelp(string1, string2)"
   ]
  },
  {
   "cell_type": "code",
   "execution_count": 134,
   "id": "7f826576",
   "metadata": {},
   "outputs": [],
   "source": [
    "string1, string2 = \"arrow\", \"arow\""
   ]
  },
  {
   "cell_type": "code",
   "execution_count": 135,
   "id": "daf4658d",
   "metadata": {},
   "outputs": [
    {
     "data": {
      "text/plain": [
       "0.8888888888888888"
      ]
     },
     "execution_count": 135,
     "metadata": {},
     "output_type": "execute_result"
    }
   ],
   "source": [
    "textdistance.ratcliff_obershelp(string1, string2)"
   ]
  },
  {
   "cell_type": "code",
   "execution_count": null,
   "id": "74b8ac22",
   "metadata": {},
   "outputs": [],
   "source": []
  },
  {
   "cell_type": "markdown",
   "id": "f84755e7",
   "metadata": {},
   "source": [
    "-----"
   ]
  },
  {
   "cell_type": "markdown",
   "id": "f2af7773",
   "metadata": {},
   "source": [
    "Data Notes:\n",
    "\n",
    "1. combine committee fullname with committee description in new column\n",
    "2. remove duplicate words in each description\n",
    "3. (agriculture vs. agricultural)"
   ]
  },
  {
   "cell_type": "markdown",
   "id": "302c1386",
   "metadata": {},
   "source": [
    "5. remove numbers and words, punctuation \n",
    "\n",
    "* a \n",
    "* includes\n",
    "* deals \n",
    "* shall\n",
    "* jurisdiction\n",
    "* policy \n",
    "* member\n",
    "* ranking\n",
    "* \n",
    "\n",
    "\n"
   ]
  },
  {
   "cell_type": "code",
   "execution_count": null,
   "id": "6b0fa211",
   "metadata": {},
   "outputs": [],
   "source": []
  }
 ],
 "metadata": {
  "kernelspec": {
   "display_name": "Python 3 (ipykernel)",
   "language": "python",
   "name": "python3"
  },
  "language_info": {
   "codemirror_mode": {
    "name": "ipython",
    "version": 3
   },
   "file_extension": ".py",
   "mimetype": "text/x-python",
   "name": "python",
   "nbconvert_exporter": "python",
   "pygments_lexer": "ipython3",
   "version": "3.10.0"
  }
 },
 "nbformat": 4,
 "nbformat_minor": 5
}
