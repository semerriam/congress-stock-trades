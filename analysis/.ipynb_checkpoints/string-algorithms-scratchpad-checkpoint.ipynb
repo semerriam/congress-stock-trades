{
 "cells": [
  {
   "cell_type": "markdown",
   "id": "f3617761",
   "metadata": {},
   "source": [
    "# String Algorithms Scratchpad"
   ]
  },
  {
   "cell_type": "markdown",
   "id": "6c092962",
   "metadata": {},
   "source": [
    "Exploring fuzzy matching and String Similarity tools to align datasets"
   ]
  },
  {
   "cell_type": "markdown",
   "id": "49e2a4e9",
   "metadata": {},
   "source": [
    "#### Imports"
   ]
  },
  {
   "cell_type": "code",
   "execution_count": 1,
   "id": "061e573e",
   "metadata": {},
   "outputs": [
    {
     "name": "stderr",
     "output_type": "stream",
     "text": [
      "/Users/sm/.pyenv/versions/3.10.0/lib/python3.10/site-packages/pandas/compat/__init__.py:124: UserWarning: Could not import the lzma module. Your installed Python is incomplete. Attempting to use lzma compression will result in a RuntimeError.\n",
      "  warnings.warn(msg)\n"
     ]
    }
   ],
   "source": [
    "import pandas as pd\n",
    "import numpy as np\n",
    "import matplotlib.pyplot as plt\n",
    "from IPython.display import display, HTML"
   ]
  },
  {
   "cell_type": "code",
   "execution_count": 2,
   "id": "77682ebd",
   "metadata": {},
   "outputs": [],
   "source": [
    "pd.set_option('display.max_columns', None)\n",
    "pd.set_option('display.max_rows', None)\n",
    "pd.set_option('display.width', None)\n",
    "pd.set_option('display.max_colwidth', None)\n",
    "pd.set_option('max_seq_item', None)"
   ]
  },
  {
   "cell_type": "code",
   "execution_count": 3,
   "id": "efd4207b",
   "metadata": {},
   "outputs": [
    {
     "name": "stderr",
     "output_type": "stream",
     "text": [
      "/Users/sm/.pyenv/versions/3.10.0/lib/python3.10/site-packages/fuzzywuzzy/fuzz.py:11: UserWarning: Using slow pure-python SequenceMatcher. Install python-Levenshtein to remove this warning\n",
      "  warnings.warn('Using slow pure-python SequenceMatcher. Install python-Levenshtein to remove this warning')\n",
      "/Users/sm/.pyenv/versions/3.10.0/lib/python3.10/site-packages/thefuzz/fuzz.py:11: UserWarning: Using slow pure-python SequenceMatcher. Install python-Levenshtein to remove this warning\n",
      "  warnings.warn('Using slow pure-python SequenceMatcher. Install python-Levenshtein to remove this warning')\n"
     ]
    }
   ],
   "source": [
    "from difflib import SequenceMatcher\n",
    "from fuzzywuzzy import fuzz\n",
    "from fuzzywuzzy import process\n",
    "from thefuzz import fuzz\n",
    "from thefuzz import process\n",
    "import textdistance\n",
    "import jaro\n",
    "import jellyfish"
   ]
  },
  {
   "cell_type": "code",
   "execution_count": 60,
   "id": "3f101f05",
   "metadata": {},
   "outputs": [],
   "source": [
    "#natural language processing imports\n",
    "import nltk\n",
    "from nltk.tokenize import sent_tokenize, word_tokenize\n",
    "from nltk.corpus import stopwords\n",
    "from nltk.corpus import treebank\n",
    "import string"
   ]
  },
  {
   "cell_type": "code",
   "execution_count": 62,
   "id": "6c7a2812",
   "metadata": {},
   "outputs": [
    {
     "name": "stderr",
     "output_type": "stream",
     "text": [
      "[nltk_data] Downloading package punkt to /Users/sm/nltk_data...\n",
      "[nltk_data]   Package punkt is already up-to-date!\n",
      "[nltk_data] Downloading package stopwords to /Users/sm/nltk_data...\n",
      "[nltk_data]   Package stopwords is already up-to-date!\n",
      "[nltk_data] Downloading package averaged_perceptron_tagger to\n",
      "[nltk_data]     /Users/sm/nltk_data...\n",
      "[nltk_data]   Package averaged_perceptron_tagger is already up-to-\n",
      "[nltk_data]       date!\n",
      "[nltk_data] Downloading package maxent_ne_chunker to\n",
      "[nltk_data]     /Users/sm/nltk_data...\n",
      "[nltk_data]   Package maxent_ne_chunker is already up-to-date!\n",
      "[nltk_data] Downloading package words to /Users/sm/nltk_data...\n",
      "[nltk_data]   Package words is already up-to-date!\n",
      "[nltk_data] Downloading package treebank to /Users/sm/nltk_data...\n",
      "[nltk_data]   Package treebank is already up-to-date!\n"
     ]
    },
    {
     "data": {
      "text/plain": [
       "True"
      ]
     },
     "execution_count": 62,
     "metadata": {},
     "output_type": "execute_result"
    }
   ],
   "source": [
    "nltk.download('punkt')\n",
    "nltk.download('stopwords')\n",
    "nltk.download('averaged_perceptron_tagger')\n",
    "nltk.download('maxent_ne_chunker')\n",
    "nltk.download('words')\n",
    "nltk.download('treebank')"
   ]
  },
  {
   "cell_type": "markdown",
   "id": "c714e346",
   "metadata": {},
   "source": [
    "-----"
   ]
  },
  {
   "cell_type": "markdown",
   "id": "33a9975b",
   "metadata": {},
   "source": [
    "##### Understanding FuzzyWuzzy + The Fuzz"
   ]
  },
  {
   "cell_type": "markdown",
   "id": "5bd627dc",
   "metadata": {},
   "source": [
    "Source: \n",
    "https://chairnerd.seatgeek.com/fuzzywuzzy-fuzzy-string-matching-in-python/\n",
    "\n",
    "https://github.com/seatgeek/thefuzz\n",
    "\n",
    "https://itnext.io/string-similarity-the-basic-know-your-algorithms-guide-3de3d7346227"
   ]
  },
  {
   "cell_type": "markdown",
   "id": "82f10c92",
   "metadata": {},
   "source": [
    "Simple Ratios"
   ]
  },
  {
   "cell_type": "code",
   "execution_count": 4,
   "id": "a965557f",
   "metadata": {},
   "outputs": [
    {
     "data": {
      "text/plain": [
       "0.9629629629629629"
      ]
     },
     "execution_count": 4,
     "metadata": {},
     "output_type": "execute_result"
    }
   ],
   "source": [
    "m = SequenceMatcher(None, \"NEW YORK METS\", \"NEW YORK MEATS\")\n",
    "m.ratio()"
   ]
  },
  {
   "cell_type": "code",
   "execution_count": 5,
   "id": "f10c7a2a",
   "metadata": {},
   "outputs": [
    {
     "data": {
      "text/plain": [
       "96"
      ]
     },
     "execution_count": 5,
     "metadata": {},
     "output_type": "execute_result"
    }
   ],
   "source": [
    "fuzz.ratio(\"NEW YORK METS\", \"NEW YORK MEATS\")"
   ]
  },
  {
   "cell_type": "code",
   "execution_count": 6,
   "id": "e26f47e6",
   "metadata": {},
   "outputs": [
    {
     "data": {
      "text/plain": [
       "61"
      ]
     },
     "execution_count": 6,
     "metadata": {},
     "output_type": "execute_result"
    }
   ],
   "source": [
    "fuzz.ratio(\"YANKEES\", \"NEW YORK YANKEES\")"
   ]
  },
  {
   "cell_type": "code",
   "execution_count": 7,
   "id": "5fc67539",
   "metadata": {},
   "outputs": [
    {
     "data": {
      "text/plain": [
       "76"
      ]
     },
     "execution_count": 7,
     "metadata": {},
     "output_type": "execute_result"
    }
   ],
   "source": [
    "fuzz.ratio(\"NEW YORK METS\", \"NEW YORK YANKEES\")"
   ]
  },
  {
   "cell_type": "code",
   "execution_count": 8,
   "id": "4d97513b",
   "metadata": {},
   "outputs": [
    {
     "data": {
      "text/plain": [
       "14"
      ]
     },
     "execution_count": 8,
     "metadata": {},
     "output_type": "execute_result"
    }
   ],
   "source": [
    "fuzz.ratio(\"YANKEES\", \"NEW YOR\")"
   ]
  },
  {
   "cell_type": "code",
   "execution_count": 9,
   "id": "3dcf4215",
   "metadata": {},
   "outputs": [
    {
     "data": {
      "text/plain": [
       "29"
      ]
     },
     "execution_count": 9,
     "metadata": {},
     "output_type": "execute_result"
    }
   ],
   "source": [
    "fuzz.ratio(\"YANKEES\", \"EW YORK\")"
   ]
  },
  {
   "cell_type": "code",
   "execution_count": 10,
   "id": "e434a438",
   "metadata": {},
   "outputs": [
    {
     "data": {
      "text/plain": [
       "100"
      ]
     },
     "execution_count": 10,
     "metadata": {},
     "output_type": "execute_result"
    }
   ],
   "source": [
    "fuzz.ratio(\"YANKEES\", \"YANKEES\")"
   ]
  },
  {
   "cell_type": "code",
   "execution_count": 11,
   "id": "75616159",
   "metadata": {},
   "outputs": [
    {
     "data": {
      "text/plain": [
       "97"
      ]
     },
     "execution_count": 11,
     "metadata": {},
     "output_type": "execute_result"
    }
   ],
   "source": [
    "fuzz.ratio(\"this is a test\", \"this is a test!\")"
   ]
  },
  {
   "cell_type": "markdown",
   "id": "bac4ba26",
   "metadata": {},
   "source": [
    "Partial Ratio"
   ]
  },
  {
   "cell_type": "code",
   "execution_count": 12,
   "id": "74906103",
   "metadata": {},
   "outputs": [
    {
     "data": {
      "text/plain": [
       "100"
      ]
     },
     "execution_count": 12,
     "metadata": {},
     "output_type": "execute_result"
    }
   ],
   "source": [
    "# A perfect Partial Match\n",
    "fuzz.partial_ratio(\"YANKEES\", \"NEW YORK YANKEES\")"
   ]
  },
  {
   "cell_type": "code",
   "execution_count": 13,
   "id": "5dd80a87",
   "metadata": {},
   "outputs": [
    {
     "data": {
      "text/plain": [
       "69"
      ]
     },
     "execution_count": 13,
     "metadata": {},
     "output_type": "execute_result"
    }
   ],
   "source": [
    "fuzz.partial_ratio(\"NEW YORK METS\", \"NEW YORK YANKEES\")"
   ]
  },
  {
   "cell_type": "markdown",
   "id": "5aeb69d8",
   "metadata": {},
   "source": [
    "Token Sort Ratio"
   ]
  },
  {
   "cell_type": "code",
   "execution_count": 14,
   "id": "e63a5ffb",
   "metadata": {},
   "outputs": [
    {
     "data": {
      "text/plain": [
       "45"
      ]
     },
     "execution_count": 14,
     "metadata": {},
     "output_type": "execute_result"
    }
   ],
   "source": [
    "#without token sort\n",
    "fuzz.ratio(\"New York Mets vs Atlanta Braves\", \"Atlanta Braves vs New York Mets\")"
   ]
  },
  {
   "cell_type": "code",
   "execution_count": 15,
   "id": "c697b02a",
   "metadata": {},
   "outputs": [
    {
     "data": {
      "text/plain": [
       "100"
      ]
     },
     "execution_count": 15,
     "metadata": {},
     "output_type": "execute_result"
    }
   ],
   "source": [
    "#with token sort\n",
    "fuzz.token_sort_ratio(\"New York Mets vs Atlanta Braves\", \"Atlanta Braves vs New York Mets\")"
   ]
  },
  {
   "cell_type": "code",
   "execution_count": 16,
   "id": "faa99ea2",
   "metadata": {},
   "outputs": [
    {
     "data": {
      "text/plain": [
       "91"
      ]
     },
     "execution_count": 16,
     "metadata": {},
     "output_type": "execute_result"
    }
   ],
   "source": [
    "fuzz.ratio(\"fuzzy wuzzy was a bear\", \"wuzzy fuzzy was a bear\")"
   ]
  },
  {
   "cell_type": "code",
   "execution_count": 17,
   "id": "411093cb",
   "metadata": {},
   "outputs": [
    {
     "data": {
      "text/plain": [
       "100"
      ]
     },
     "execution_count": 17,
     "metadata": {},
     "output_type": "execute_result"
    }
   ],
   "source": [
    "fuzz.token_sort_ratio(\"fuzzy wuzzy was a bear\", \"wuzzy fuzzy was a bear\")"
   ]
  },
  {
   "cell_type": "markdown",
   "id": "748be9ad",
   "metadata": {},
   "source": [
    "Token Set"
   ]
  },
  {
   "cell_type": "code",
   "execution_count": null,
   "id": "c12279ac",
   "metadata": {},
   "outputs": [],
   "source": []
  },
  {
   "cell_type": "code",
   "execution_count": 18,
   "id": "0802c809",
   "metadata": {},
   "outputs": [],
   "source": [
    "s1 = \"mariners vs angels\"\n",
    "s2 = \"los angeles angels of anaheim at seattle mariners\""
   ]
  },
  {
   "cell_type": "code",
   "execution_count": 19,
   "id": "6a0ab1f1",
   "metadata": {},
   "outputs": [],
   "source": [
    "t0 = \"angels mariners\"\n",
    "t1 = \"angels mariners vs\"\n",
    "t2 = \"angels mariners anaheim angeles at los of seattle\""
   ]
  },
  {
   "cell_type": "code",
   "execution_count": 20,
   "id": "fb827c8d",
   "metadata": {},
   "outputs": [],
   "source": [
    "# t0 = [SORTED_INTERSECTION]\n",
    "# t1 = [SORTED_INTERSECTION] + [SORTED_REST_OF_STRING1]\n",
    "# t2 = [SORTED_INTERSECTION] + [SORTED_REST_OF_STRING2]"
   ]
  },
  {
   "cell_type": "code",
   "execution_count": 21,
   "id": "09cd0689",
   "metadata": {},
   "outputs": [
    {
     "data": {
      "text/plain": [
       "91"
      ]
     },
     "execution_count": 21,
     "metadata": {},
     "output_type": "execute_result"
    }
   ],
   "source": [
    "fuzz.ratio(t0, t1)"
   ]
  },
  {
   "cell_type": "code",
   "execution_count": 22,
   "id": "a180a567",
   "metadata": {},
   "outputs": [
    {
     "data": {
      "text/plain": [
       "47"
      ]
     },
     "execution_count": 22,
     "metadata": {},
     "output_type": "execute_result"
    }
   ],
   "source": [
    "fuzz.ratio(t0, t2)"
   ]
  },
  {
   "cell_type": "code",
   "execution_count": 23,
   "id": "bacf2272",
   "metadata": {},
   "outputs": [
    {
     "data": {
      "text/plain": [
       "51"
      ]
     },
     "execution_count": 23,
     "metadata": {},
     "output_type": "execute_result"
    }
   ],
   "source": [
    "fuzz.ratio(t1, t2)"
   ]
  },
  {
   "cell_type": "code",
   "execution_count": 24,
   "id": "e673defd",
   "metadata": {},
   "outputs": [
    {
     "data": {
      "text/plain": [
       "91"
      ]
     },
     "execution_count": 24,
     "metadata": {},
     "output_type": "execute_result"
    }
   ],
   "source": [
    "fuzz.token_set_ratio(\"mariners vs angels\", \"los angeles angels of anaheim at seattle mariners\")"
   ]
  },
  {
   "cell_type": "code",
   "execution_count": 25,
   "id": "a8b9490d",
   "metadata": {},
   "outputs": [
    {
     "data": {
      "text/plain": [
       "100"
      ]
     },
     "execution_count": 25,
     "metadata": {},
     "output_type": "execute_result"
    }
   ],
   "source": [
    "fuzz.token_set_ratio(\"Sirhan, Sirhan\", \"Sirhan\")"
   ]
  },
  {
   "cell_type": "code",
   "execution_count": 26,
   "id": "781617ba",
   "metadata": {},
   "outputs": [
    {
     "data": {
      "text/plain": [
       "84"
      ]
     },
     "execution_count": 26,
     "metadata": {},
     "output_type": "execute_result"
    }
   ],
   "source": [
    "fuzz.token_sort_ratio(\"fuzzy was a bear\", \"fuzzy fuzzy was a bear\")"
   ]
  },
  {
   "cell_type": "code",
   "execution_count": 27,
   "id": "22cc70aa",
   "metadata": {},
   "outputs": [
    {
     "data": {
      "text/plain": [
       "100"
      ]
     },
     "execution_count": 27,
     "metadata": {},
     "output_type": "execute_result"
    }
   ],
   "source": [
    "fuzz.token_set_ratio(\"fuzzy was a bear\", \"fuzzy fuzzy was a bear\")"
   ]
  },
  {
   "cell_type": "markdown",
   "id": "9a66bc00",
   "metadata": {},
   "source": [
    "Process?"
   ]
  },
  {
   "cell_type": "code",
   "execution_count": 28,
   "id": "1b0726ea",
   "metadata": {},
   "outputs": [],
   "source": [
    "choices = [\"Atlanta Falcons\", \"New York Jets\", \"New York Giants\", \"Dallas Cowboys\"]"
   ]
  },
  {
   "cell_type": "code",
   "execution_count": 29,
   "id": "39f7286e",
   "metadata": {},
   "outputs": [
    {
     "data": {
      "text/plain": [
       "[('New York Jets', 100), ('New York Giants', 79)]"
      ]
     },
     "execution_count": 29,
     "metadata": {},
     "output_type": "execute_result"
    }
   ],
   "source": [
    "process.extract(\"new york jets\", choices, limit=2)"
   ]
  },
  {
   "cell_type": "code",
   "execution_count": 30,
   "id": "c025e0f8",
   "metadata": {},
   "outputs": [
    {
     "data": {
      "text/plain": [
       "[('New York Jets', 100), ('New York Giants', 79), ('Atlanta Falcons', 29)]"
      ]
     },
     "execution_count": 30,
     "metadata": {},
     "output_type": "execute_result"
    }
   ],
   "source": [
    "process.extract(\"new york jets\", choices, limit=3)"
   ]
  },
  {
   "cell_type": "code",
   "execution_count": 31,
   "id": "c4665107",
   "metadata": {},
   "outputs": [
    {
     "data": {
      "text/plain": [
       "('Dallas Cowboys', 90)"
      ]
     },
     "execution_count": 31,
     "metadata": {},
     "output_type": "execute_result"
    }
   ],
   "source": [
    "process.extractOne(\"cowboys\", choices)"
   ]
  },
  {
   "cell_type": "code",
   "execution_count": 32,
   "id": "f0845946",
   "metadata": {},
   "outputs": [],
   "source": [
    "#parameters to extractOne to make it use a specific scorer\n",
    "# >>> process.extractOne(\"System of a down - Hypnotize - Heroin\", songs)\n",
    "#     ('/music/library/good/System of a Down/2005 - Hypnotize/01 - Attack.mp3', 86)\n",
    "# >>> process.extractOne(\"System of a down - Hypnotize - Heroin\", songs, scorer=fuzz.token_sort_ratio)\n",
    "#     (\"/music/library/good/System of a Down/2005 - Hypnotize/10 - She's Like Heroin.mp3\", 61)"
   ]
  },
  {
   "cell_type": "markdown",
   "id": "7048fb8c",
   "metadata": {},
   "source": [
    "----"
   ]
  },
  {
   "cell_type": "markdown",
   "id": "3f8dc19a",
   "metadata": {},
   "source": [
    "##### Types of Algorithms"
   ]
  },
  {
   "cell_type": "markdown",
   "id": "5b6e39a9",
   "metadata": {},
   "source": [
    "Source: https://itnext.io/string-similarity-the-basic-know-your-algorithms-guide-3de3d7346227\n",
    "\n",
    "Based on the properties of operations, string similarity algorithms can be classified into a bunch of domains. Let’s discuss a few of them,\n",
    "Edit distance based: Algorithms falling under this category try to compute the number of operations needed to transforms one string to another. More the number of operations, less is the similarity between the two strings. One point to note, in this case, every index character of the string is given equal importance.\n",
    "\n",
    "Token-based: In this category, the expected input is a set of tokens, rather than complete strings. The idea is to find the similar tokens in both sets. More the number of common tokens, more is the similarity between the sets. A string can be transformed into sets by splitting using a delimiter. This way, we can transform a sentence into tokens of words or n-grams characters. Note, here tokens of different length have equal importance.\n",
    "\n",
    "Sequence-based: Here, the similarity is a factor of common sub-strings between the two strings. The algorithms, try to find the longest sequence which is present in both strings, the more of these sequences found, higher is the similarity score. Note, here combination of characters of same length have equal importance."
   ]
  },
  {
   "cell_type": "markdown",
   "id": "7dcbacde",
   "metadata": {},
   "source": [
    "Hamming Distance (finding the places where the strings vary)"
   ]
  },
  {
   "cell_type": "code",
   "execution_count": 33,
   "id": "2c5f5751",
   "metadata": {},
   "outputs": [
    {
     "data": {
      "text/plain": [
       "1"
      ]
     },
     "execution_count": 33,
     "metadata": {},
     "output_type": "execute_result"
    }
   ],
   "source": [
    "#the edit distance is 1 for only the difference being one letter different\n",
    "textdistance.hamming('text', 'test')"
   ]
  },
  {
   "cell_type": "code",
   "execution_count": 34,
   "id": "6c24c6c9",
   "metadata": {},
   "outputs": [
    {
     "data": {
      "text/plain": [
       "0.75"
      ]
     },
     "execution_count": 34,
     "metadata": {},
     "output_type": "execute_result"
    }
   ],
   "source": [
    "#75% similar between text and test\n",
    "textdistance.hamming.normalized_similarity('text', 'test')"
   ]
  },
  {
   "cell_type": "code",
   "execution_count": 35,
   "id": "fbd029b5",
   "metadata": {},
   "outputs": [
    {
     "data": {
      "text/plain": [
       "3"
      ]
     },
     "execution_count": 35,
     "metadata": {},
     "output_type": "execute_result"
    }
   ],
   "source": [
    "textdistance.hamming('arrow', 'arow')"
   ]
  },
  {
   "cell_type": "code",
   "execution_count": 36,
   "id": "3f391c24",
   "metadata": {},
   "outputs": [
    {
     "data": {
      "text/plain": [
       "0.4"
      ]
     },
     "execution_count": 36,
     "metadata": {},
     "output_type": "execute_result"
    }
   ],
   "source": [
    "textdistance.hamming.normalized_similarity('arrow', 'arow')"
   ]
  },
  {
   "cell_type": "markdown",
   "id": "b5c90afc",
   "metadata": {},
   "source": [
    "Levenshtein Distance (finding the number of edits which will transform one string to another)"
   ]
  },
  {
   "cell_type": "code",
   "execution_count": 37,
   "id": "d71878f8",
   "metadata": {},
   "outputs": [
    {
     "data": {
      "text/plain": [
       "1"
      ]
     },
     "execution_count": 37,
     "metadata": {},
     "output_type": "execute_result"
    }
   ],
   "source": [
    "#number of edits it will take to transform one to the other\n",
    "textdistance.levenshtein('arrow', 'arow')"
   ]
  },
  {
   "cell_type": "code",
   "execution_count": 38,
   "id": "ef522647",
   "metadata": {},
   "outputs": [
    {
     "data": {
      "text/plain": [
       "0.8"
      ]
     },
     "execution_count": 38,
     "metadata": {},
     "output_type": "execute_result"
    }
   ],
   "source": [
    "textdistance.levenshtein.normalized_similarity('arrow', 'arow')"
   ]
  },
  {
   "cell_type": "markdown",
   "id": "a916df82",
   "metadata": {},
   "source": [
    "Jaro-Winkler "
   ]
  },
  {
   "cell_type": "markdown",
   "id": "6125ee08",
   "metadata": {},
   "source": [
    "\"(1) they contain same characters, but within a certain distance from one another, and (2) the order of the matching characters is same.\""
   ]
  },
  {
   "cell_type": "code",
   "execution_count": 39,
   "id": "49774af8",
   "metadata": {},
   "outputs": [],
   "source": [
    "# textdistance.jaro_winkler(\"mes\", \"messi\")"
   ]
  },
  {
   "cell_type": "code",
   "execution_count": 40,
   "id": "f74f0e67",
   "metadata": {},
   "outputs": [],
   "source": [
    "# textdistance.jaro_winkler(\"crate\", \"crat\")"
   ]
  },
  {
   "cell_type": "code",
   "execution_count": 41,
   "id": "7118cc41",
   "metadata": {},
   "outputs": [],
   "source": [
    "# textdistance.jaro_winkler(\"crate\", \"atcr\")"
   ]
  },
  {
   "cell_type": "markdown",
   "id": "f97a460d",
   "metadata": {},
   "source": [
    "Jaccard Index (find the number of common tokens and divide it by the total number of unique tokens)\n",
    "\n",
    "\"We first tokenize the string by default space delimiter, to make words in the strings as tokens. Then we compute the similarity score.\" "
   ]
  },
  {
   "cell_type": "code",
   "execution_count": 42,
   "id": "0c02eaa8",
   "metadata": {},
   "outputs": [],
   "source": [
    "tokens_1 = \"hello world\".split()\n",
    "tokens_2 = \"world hello\".split()"
   ]
  },
  {
   "cell_type": "code",
   "execution_count": 43,
   "id": "49e7f26b",
   "metadata": {},
   "outputs": [
    {
     "data": {
      "text/plain": [
       "1.0"
      ]
     },
     "execution_count": 43,
     "metadata": {},
     "output_type": "execute_result"
    }
   ],
   "source": [
    "textdistance.jaccard(tokens_1 , tokens_2)"
   ]
  },
  {
   "cell_type": "code",
   "execution_count": 44,
   "id": "33270dbf",
   "metadata": {},
   "outputs": [],
   "source": [
    "tokens_1 = \"hello new world\".split()\n",
    "tokens_2 = \"hello world\".split()"
   ]
  },
  {
   "cell_type": "code",
   "execution_count": 45,
   "id": "b83555a7",
   "metadata": {},
   "outputs": [
    {
     "data": {
      "text/plain": [
       "0.6666666666666666"
      ]
     },
     "execution_count": 45,
     "metadata": {},
     "output_type": "execute_result"
    }
   ],
   "source": [
    "textdistance.jaccard(tokens_1 , tokens_2)"
   ]
  },
  {
   "cell_type": "markdown",
   "id": "d2d35257",
   "metadata": {},
   "source": []
  },
  {
   "cell_type": "markdown",
   "id": "ef465a71",
   "metadata": {},
   "source": [
    "Sorensen-Dice \n",
    "\n",
    "\"Falling under set similarity, the logic is to find the common tokens, and divide it by the total number of tokens present by combining both sets.\" "
   ]
  },
  {
   "cell_type": "code",
   "execution_count": 46,
   "id": "402964ca",
   "metadata": {},
   "outputs": [],
   "source": [
    "tokens_1 = \"hello world\".split()\n",
    "tokens_2 = \"world hello\".split()"
   ]
  },
  {
   "cell_type": "code",
   "execution_count": 47,
   "id": "29b90bc3",
   "metadata": {},
   "outputs": [
    {
     "data": {
      "text/plain": [
       "1.0"
      ]
     },
     "execution_count": 47,
     "metadata": {},
     "output_type": "execute_result"
    }
   ],
   "source": [
    "textdistance.sorensen(tokens_1 , tokens_2)"
   ]
  },
  {
   "cell_type": "code",
   "execution_count": 48,
   "id": "d58864c6",
   "metadata": {},
   "outputs": [],
   "source": [
    "tokens_1 = \"hello new world\".split()\n",
    "tokens_2 = \"hello world\".split()"
   ]
  },
  {
   "cell_type": "code",
   "execution_count": 49,
   "id": "fdb6e374",
   "metadata": {},
   "outputs": [
    {
     "data": {
      "text/plain": [
       "0.8"
      ]
     },
     "execution_count": 49,
     "metadata": {},
     "output_type": "execute_result"
    }
   ],
   "source": [
    "textdistance.sorensen(tokens_1 , tokens_2)"
   ]
  },
  {
   "cell_type": "markdown",
   "id": "7e57b9f1",
   "metadata": {},
   "source": [
    "Ratcliff-Obershelp similarity"
   ]
  },
  {
   "cell_type": "code",
   "execution_count": 50,
   "id": "5e6fc7a4",
   "metadata": {},
   "outputs": [],
   "source": [
    "string1, string2 = \"i am going home\", \"gone home\""
   ]
  },
  {
   "cell_type": "code",
   "execution_count": 51,
   "id": "8d520909",
   "metadata": {},
   "outputs": [
    {
     "data": {
      "text/plain": [
       "0.6666666666666666"
      ]
     },
     "execution_count": 51,
     "metadata": {},
     "output_type": "execute_result"
    }
   ],
   "source": [
    "textdistance.ratcliff_obershelp(string1, string2)"
   ]
  },
  {
   "cell_type": "code",
   "execution_count": 52,
   "id": "5f2c9c62",
   "metadata": {},
   "outputs": [],
   "source": [
    "string1, string2 = \"helloworld\", \"worldhello\""
   ]
  },
  {
   "cell_type": "code",
   "execution_count": 53,
   "id": "3288c648",
   "metadata": {},
   "outputs": [
    {
     "data": {
      "text/plain": [
       "0.5"
      ]
     },
     "execution_count": 53,
     "metadata": {},
     "output_type": "execute_result"
    }
   ],
   "source": [
    "textdistance.ratcliff_obershelp(string1, string2)"
   ]
  },
  {
   "cell_type": "code",
   "execution_count": 54,
   "id": "c5f04d22",
   "metadata": {},
   "outputs": [],
   "source": [
    "string1, string2 = \"test\", \"text\""
   ]
  },
  {
   "cell_type": "code",
   "execution_count": 55,
   "id": "61c45b1b",
   "metadata": {},
   "outputs": [
    {
     "data": {
      "text/plain": [
       "0.75"
      ]
     },
     "execution_count": 55,
     "metadata": {},
     "output_type": "execute_result"
    }
   ],
   "source": [
    "textdistance.ratcliff_obershelp(string1, string2)"
   ]
  },
  {
   "cell_type": "code",
   "execution_count": 56,
   "id": "66d8bc4e",
   "metadata": {},
   "outputs": [],
   "source": [
    "string1, string2 = \"mes\", \"simes\""
   ]
  },
  {
   "cell_type": "code",
   "execution_count": 57,
   "id": "717875d5",
   "metadata": {},
   "outputs": [
    {
     "data": {
      "text/plain": [
       "0.75"
      ]
     },
     "execution_count": 57,
     "metadata": {},
     "output_type": "execute_result"
    }
   ],
   "source": [
    "textdistance.ratcliff_obershelp(string1, string2)"
   ]
  },
  {
   "cell_type": "code",
   "execution_count": 58,
   "id": "c966ad35",
   "metadata": {},
   "outputs": [],
   "source": [
    "string1, string2 = \"arrow\", \"arow\""
   ]
  },
  {
   "cell_type": "code",
   "execution_count": 59,
   "id": "7adbd173",
   "metadata": {},
   "outputs": [
    {
     "data": {
      "text/plain": [
       "0.8888888888888888"
      ]
     },
     "execution_count": 59,
     "metadata": {},
     "output_type": "execute_result"
    }
   ],
   "source": [
    "textdistance.ratcliff_obershelp(string1, string2)"
   ]
  },
  {
   "cell_type": "code",
   "execution_count": null,
   "id": "f418fe2e",
   "metadata": {},
   "outputs": [],
   "source": []
  },
  {
   "cell_type": "markdown",
   "id": "cb1dcf42",
   "metadata": {},
   "source": [
    "-----"
   ]
  },
  {
   "cell_type": "markdown",
   "id": "9bf61078",
   "metadata": {},
   "source": [
    "##### Natural Language Processing Exploration"
   ]
  },
  {
   "cell_type": "code",
   "execution_count": 63,
   "id": "b4139f71",
   "metadata": {},
   "outputs": [
    {
     "data": {
      "text/plain": [
       "'!\"#$%&\\'()*+,-./:;<=>?@[\\\\]^_`{|}~'"
      ]
     },
     "execution_count": 63,
     "metadata": {},
     "output_type": "execute_result"
    }
   ],
   "source": [
    "string.punctuation"
   ]
  },
  {
   "cell_type": "code",
   "execution_count": 64,
   "id": "a1359c25",
   "metadata": {},
   "outputs": [
    {
     "name": "stdout",
     "output_type": "stream",
     "text": [
      "{\"didn't\", \"should've\", 't', 'who', 'each', 'yours', \"shouldn't\", 'yourselves', 'is', 'nor', 'their', 'had', 'yourself', 'll', 'what', \"won't\", \"hasn't\", 'more', \"haven't\", 'my', 'not', \"aren't\", 'do', 'themselves', 're', 'were', 'under', 'for', 'needn', 'between', 'theirs', 'only', 'now', 'below', 'don', \"isn't\", \"shan't\", \"weren't\", 'being', 'ain', 'his', 'ourselves', \"don't\", 'has', 'in', 'wasn', 'all', 'hers', 'your', 'couldn', 'been', \"you've\", 'how', 'aren', 'against', 'are', 've', 'here', 'same', 'she', 'very', 'haven', 'her', 'but', 'once', 'those', 'didn', 'out', 'am', 'he', 'shan', 'a', 'that', 'about', 'them', 'after', 'into', 'until', 'some', 'there', 'wouldn', 'both', 'ours', 'doing', \"you'd\", 'at', \"you're\", \"she's\", 'have', 'such', 'which', 'as', 'on', 'hasn', 'did', 'of', 'our', 'then', \"mustn't\", 'mustn', 'd', 'm', 'just', 'herself', 'an', 'why', 's', 'i', \"wasn't\", 'no', 'so', 'through', 'they', 'because', 'weren', 'if', \"couldn't\", 'than', \"hadn't\", 'and', 'will', 'where', 'himself', 'myself', 'having', 'these', 'own', 'other', 'above', 'we', 'its', 'when', 'won', 'isn', \"that'll\", 'or', 'shouldn', 'me', \"you'll\", 'the', 'with', 'up', 'him', 'during', \"mightn't\", 'further', 'few', 'can', 'ma', 'too', 'you', 'does', 'again', 'down', 'hadn', 'most', 'was', \"it's\", 'before', 'from', 'any', 'off', 'to', 'while', 'should', 'doesn', 'over', 'itself', \"doesn't\", \"wouldn't\", 'this', 'y', 'o', 'mightn', 'it', 'be', 'by', 'whom', \"needn't\"}\n"
     ]
    }
   ],
   "source": [
    "stops = set(stopwords.words('english'))\n",
    "print(stops)"
   ]
  },
  {
   "cell_type": "code",
   "execution_count": 65,
   "id": "8cd6db84",
   "metadata": {},
   "outputs": [
    {
     "name": "stdout",
     "output_type": "stream",
     "text": [
      "['All', 'work', 'and', 'no', 'play', 'makes', 'jack', 'a', 'dull', 'boy', ',', 'all', 'work', 'and', 'no', 'play']\n"
     ]
    }
   ],
   "source": [
    "from nltk.tokenize import sent_tokenize, word_tokenize\n",
    "\n",
    "data = \"All work and no play makes jack a dull boy, all work and no play\"\n",
    "print(word_tokenize(data))"
   ]
  },
  {
   "cell_type": "code",
   "execution_count": 66,
   "id": "db1286a2",
   "metadata": {},
   "outputs": [
    {
     "name": "stdout",
     "output_type": "stream",
     "text": [
      "['At', 'eight', \"o'clock\", 'on', 'Thursday', 'morning', 'Arthur', 'did', \"n't\", 'feel', 'very', 'good', '.']\n"
     ]
    }
   ],
   "source": [
    "sentence = \"\"\"At eight o'clock on Thursday morning Arthur didn't feel very good.\"\"\"\n",
    "tokens = nltk.word_tokenize(sentence)\n",
    "print(tokens)"
   ]
  },
  {
   "cell_type": "code",
   "execution_count": 67,
   "id": "2f579535",
   "metadata": {},
   "outputs": [
    {
     "data": {
      "text/plain": [
       "[('At', 'IN'),\n",
       " ('eight', 'CD'),\n",
       " (\"o'clock\", 'NN'),\n",
       " ('on', 'IN'),\n",
       " ('Thursday', 'NNP'),\n",
       " ('morning', 'NN')]"
      ]
     },
     "execution_count": 67,
     "metadata": {},
     "output_type": "execute_result"
    }
   ],
   "source": [
    "tagged = nltk.pos_tag(tokens)\n",
    "tagged[0:6]"
   ]
  },
  {
   "cell_type": "code",
   "execution_count": 68,
   "id": "a44e5204",
   "metadata": {},
   "outputs": [
    {
     "name": "stdout",
     "output_type": "stream",
     "text": [
      "(S\n",
      "  At/IN\n",
      "  eight/CD\n",
      "  o'clock/NN\n",
      "  on/IN\n",
      "  Thursday/NNP\n",
      "  morning/NN\n",
      "  (PERSON Arthur/NNP)\n",
      "  did/VBD\n",
      "  n't/RB\n",
      "  feel/VB\n",
      "  very/RB\n",
      "  good/JJ\n",
      "  ./.)\n"
     ]
    }
   ],
   "source": [
    "entities = nltk.chunk.ne_chunk(tagged)\n",
    "print(entities)"
   ]
  },
  {
   "cell_type": "code",
   "execution_count": 69,
   "id": "d9fd823f",
   "metadata": {},
   "outputs": [],
   "source": [
    "## tree map\n",
    "# t = treebank.parsed_sents('wsj_0001.mrg')[0]\n",
    "# t.draw()"
   ]
  },
  {
   "cell_type": "code",
   "execution_count": null,
   "id": "d9433dd8",
   "metadata": {},
   "outputs": [],
   "source": []
  },
  {
   "cell_type": "code",
   "execution_count": null,
   "id": "d2d41b0e",
   "metadata": {},
   "outputs": [],
   "source": []
  },
  {
   "cell_type": "code",
   "execution_count": null,
   "id": "6a0c8e95",
   "metadata": {},
   "outputs": [],
   "source": []
  },
  {
   "cell_type": "code",
   "execution_count": null,
   "id": "6af83600",
   "metadata": {},
   "outputs": [],
   "source": []
  }
 ],
 "metadata": {
  "kernelspec": {
   "display_name": "Python 3 (ipykernel)",
   "language": "python",
   "name": "python3"
  },
  "language_info": {
   "codemirror_mode": {
    "name": "ipython",
    "version": 3
   },
   "file_extension": ".py",
   "mimetype": "text/x-python",
   "name": "python",
   "nbconvert_exporter": "python",
   "pygments_lexer": "ipython3",
   "version": "3.10.0"
  }
 },
 "nbformat": 4,
 "nbformat_minor": 5
}
