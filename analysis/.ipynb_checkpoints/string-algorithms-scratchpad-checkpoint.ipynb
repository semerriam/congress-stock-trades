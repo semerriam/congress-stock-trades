{
 "cells": [
  {
   "cell_type": "markdown",
   "id": "cb03dd80",
   "metadata": {},
   "source": [
    "# String Algorithms Scratchpad"
   ]
  },
  {
   "cell_type": "markdown",
   "id": "7c6400a4",
   "metadata": {},
   "source": [
    "Exploring fuzzy matching and String Similarity tools to align datasets"
   ]
  },
  {
   "cell_type": "markdown",
   "id": "da9acd66",
   "metadata": {},
   "source": [
    "#### Imports"
   ]
  },
  {
   "cell_type": "code",
   "execution_count": 1,
   "id": "2a036401",
   "metadata": {},
   "outputs": [
    {
     "name": "stderr",
     "output_type": "stream",
     "text": [
      "/Users/sm/.pyenv/versions/3.10.0/lib/python3.10/site-packages/pandas/compat/__init__.py:124: UserWarning: Could not import the lzma module. Your installed Python is incomplete. Attempting to use lzma compression will result in a RuntimeError.\n",
      "  warnings.warn(msg)\n"
     ]
    }
   ],
   "source": [
    "import pandas as pd\n",
    "import numpy as np\n",
    "import matplotlib.pyplot as plt\n",
    "from IPython.display import display, HTML"
   ]
  },
  {
   "cell_type": "code",
   "execution_count": 2,
   "id": "4218d12d",
   "metadata": {},
   "outputs": [],
   "source": [
    "pd.set_option('display.max_columns', None)\n",
    "pd.set_option('display.max_rows', None)\n",
    "pd.set_option('display.width', None)\n",
    "pd.set_option('display.max_colwidth', None)\n",
    "pd.set_option('max_seq_item', None)"
   ]
  },
  {
   "cell_type": "code",
   "execution_count": 3,
   "id": "a16ccd13",
   "metadata": {},
   "outputs": [
    {
     "name": "stderr",
     "output_type": "stream",
     "text": [
      "/Users/sm/.pyenv/versions/3.10.0/lib/python3.10/site-packages/fuzzywuzzy/fuzz.py:11: UserWarning: Using slow pure-python SequenceMatcher. Install python-Levenshtein to remove this warning\n",
      "  warnings.warn('Using slow pure-python SequenceMatcher. Install python-Levenshtein to remove this warning')\n",
      "/Users/sm/.pyenv/versions/3.10.0/lib/python3.10/site-packages/thefuzz/fuzz.py:11: UserWarning: Using slow pure-python SequenceMatcher. Install python-Levenshtein to remove this warning\n",
      "  warnings.warn('Using slow pure-python SequenceMatcher. Install python-Levenshtein to remove this warning')\n"
     ]
    }
   ],
   "source": [
    "from difflib import SequenceMatcher\n",
    "from fuzzywuzzy import fuzz\n",
    "from fuzzywuzzy import process\n",
    "from thefuzz import fuzz\n",
    "from thefuzz import process\n",
    "import textdistance\n",
    "import jaro\n",
    "import jellyfish"
   ]
  },
  {
   "cell_type": "code",
   "execution_count": 60,
   "id": "d7f13900",
   "metadata": {},
   "outputs": [],
   "source": [
    "#natural language processing imports\n",
    "import nltk\n",
    "from nltk.tokenize import sent_tokenize, word_tokenize\n",
    "from nltk.corpus import stopwords\n",
    "from nltk.corpus import treebank\n",
    "import string"
   ]
  },
  {
   "cell_type": "code",
   "execution_count": 62,
   "id": "74ac69f3",
   "metadata": {},
   "outputs": [
    {
     "name": "stderr",
     "output_type": "stream",
     "text": [
      "[nltk_data] Downloading package punkt to /Users/sm/nltk_data...\n",
      "[nltk_data]   Package punkt is already up-to-date!\n",
      "[nltk_data] Downloading package stopwords to /Users/sm/nltk_data...\n",
      "[nltk_data]   Package stopwords is already up-to-date!\n",
      "[nltk_data] Downloading package averaged_perceptron_tagger to\n",
      "[nltk_data]     /Users/sm/nltk_data...\n",
      "[nltk_data]   Package averaged_perceptron_tagger is already up-to-\n",
      "[nltk_data]       date!\n",
      "[nltk_data] Downloading package maxent_ne_chunker to\n",
      "[nltk_data]     /Users/sm/nltk_data...\n",
      "[nltk_data]   Package maxent_ne_chunker is already up-to-date!\n",
      "[nltk_data] Downloading package words to /Users/sm/nltk_data...\n",
      "[nltk_data]   Package words is already up-to-date!\n",
      "[nltk_data] Downloading package treebank to /Users/sm/nltk_data...\n",
      "[nltk_data]   Package treebank is already up-to-date!\n"
     ]
    },
    {
     "data": {
      "text/plain": [
       "True"
      ]
     },
     "execution_count": 62,
     "metadata": {},
     "output_type": "execute_result"
    }
   ],
   "source": [
    "nltk.download('punkt')\n",
    "nltk.download('stopwords')\n",
    "nltk.download('averaged_perceptron_tagger')\n",
    "nltk.download('maxent_ne_chunker')\n",
    "nltk.download('words')\n",
    "nltk.download('treebank')"
   ]
  },
  {
   "cell_type": "markdown",
   "id": "3b1ad2cc",
   "metadata": {},
   "source": [
    "-----"
   ]
  },
  {
   "cell_type": "markdown",
   "id": "b26ffc94",
   "metadata": {},
   "source": [
    "##### Understanding FuzzyWuzzy + The Fuzz"
   ]
  },
  {
   "cell_type": "markdown",
   "id": "1a2f0348",
   "metadata": {},
   "source": [
    "Source: \n",
    "https://chairnerd.seatgeek.com/fuzzywuzzy-fuzzy-string-matching-in-python/\n",
    "\n",
    "https://github.com/seatgeek/thefuzz\n",
    "\n",
    "https://itnext.io/string-similarity-the-basic-know-your-algorithms-guide-3de3d7346227"
   ]
  },
  {
   "cell_type": "markdown",
   "id": "60f6b8d6",
   "metadata": {},
   "source": [
    "Simple Ratios"
   ]
  },
  {
   "cell_type": "code",
   "execution_count": 4,
   "id": "b85c94c7",
   "metadata": {},
   "outputs": [
    {
     "data": {
      "text/plain": [
       "0.9629629629629629"
      ]
     },
     "execution_count": 4,
     "metadata": {},
     "output_type": "execute_result"
    }
   ],
   "source": [
    "m = SequenceMatcher(None, \"NEW YORK METS\", \"NEW YORK MEATS\")\n",
    "m.ratio()"
   ]
  },
  {
   "cell_type": "code",
   "execution_count": 5,
   "id": "0df9204e",
   "metadata": {},
   "outputs": [
    {
     "data": {
      "text/plain": [
       "96"
      ]
     },
     "execution_count": 5,
     "metadata": {},
     "output_type": "execute_result"
    }
   ],
   "source": [
    "fuzz.ratio(\"NEW YORK METS\", \"NEW YORK MEATS\")"
   ]
  },
  {
   "cell_type": "code",
   "execution_count": 6,
   "id": "1dfde4c2",
   "metadata": {},
   "outputs": [
    {
     "data": {
      "text/plain": [
       "61"
      ]
     },
     "execution_count": 6,
     "metadata": {},
     "output_type": "execute_result"
    }
   ],
   "source": [
    "fuzz.ratio(\"YANKEES\", \"NEW YORK YANKEES\")"
   ]
  },
  {
   "cell_type": "code",
   "execution_count": 7,
   "id": "b5db6e7e",
   "metadata": {},
   "outputs": [
    {
     "data": {
      "text/plain": [
       "76"
      ]
     },
     "execution_count": 7,
     "metadata": {},
     "output_type": "execute_result"
    }
   ],
   "source": [
    "fuzz.ratio(\"NEW YORK METS\", \"NEW YORK YANKEES\")"
   ]
  },
  {
   "cell_type": "code",
   "execution_count": 8,
   "id": "803c86b8",
   "metadata": {},
   "outputs": [
    {
     "data": {
      "text/plain": [
       "14"
      ]
     },
     "execution_count": 8,
     "metadata": {},
     "output_type": "execute_result"
    }
   ],
   "source": [
    "fuzz.ratio(\"YANKEES\", \"NEW YOR\")"
   ]
  },
  {
   "cell_type": "code",
   "execution_count": 9,
   "id": "e835e906",
   "metadata": {},
   "outputs": [
    {
     "data": {
      "text/plain": [
       "29"
      ]
     },
     "execution_count": 9,
     "metadata": {},
     "output_type": "execute_result"
    }
   ],
   "source": [
    "fuzz.ratio(\"YANKEES\", \"EW YORK\")"
   ]
  },
  {
   "cell_type": "code",
   "execution_count": 10,
   "id": "fbe8e191",
   "metadata": {},
   "outputs": [
    {
     "data": {
      "text/plain": [
       "100"
      ]
     },
     "execution_count": 10,
     "metadata": {},
     "output_type": "execute_result"
    }
   ],
   "source": [
    "fuzz.ratio(\"YANKEES\", \"YANKEES\")"
   ]
  },
  {
   "cell_type": "code",
   "execution_count": 11,
   "id": "0833cda9",
   "metadata": {},
   "outputs": [
    {
     "data": {
      "text/plain": [
       "97"
      ]
     },
     "execution_count": 11,
     "metadata": {},
     "output_type": "execute_result"
    }
   ],
   "source": [
    "fuzz.ratio(\"this is a test\", \"this is a test!\")"
   ]
  },
  {
   "cell_type": "markdown",
   "id": "5932fb31",
   "metadata": {},
   "source": [
    "Partial Ratio"
   ]
  },
  {
   "cell_type": "code",
   "execution_count": 12,
   "id": "e26cf536",
   "metadata": {},
   "outputs": [
    {
     "data": {
      "text/plain": [
       "100"
      ]
     },
     "execution_count": 12,
     "metadata": {},
     "output_type": "execute_result"
    }
   ],
   "source": [
    "# A perfect Partial Match\n",
    "fuzz.partial_ratio(\"YANKEES\", \"NEW YORK YANKEES\")"
   ]
  },
  {
   "cell_type": "code",
   "execution_count": 13,
   "id": "c45f8f26",
   "metadata": {},
   "outputs": [
    {
     "data": {
      "text/plain": [
       "69"
      ]
     },
     "execution_count": 13,
     "metadata": {},
     "output_type": "execute_result"
    }
   ],
   "source": [
    "fuzz.partial_ratio(\"NEW YORK METS\", \"NEW YORK YANKEES\")"
   ]
  },
  {
   "cell_type": "markdown",
   "id": "9a26a5c5",
   "metadata": {},
   "source": [
    "Token Sort Ratio"
   ]
  },
  {
   "cell_type": "code",
   "execution_count": 14,
   "id": "4af0ac14",
   "metadata": {},
   "outputs": [
    {
     "data": {
      "text/plain": [
       "45"
      ]
     },
     "execution_count": 14,
     "metadata": {},
     "output_type": "execute_result"
    }
   ],
   "source": [
    "#without token sort\n",
    "fuzz.ratio(\"New York Mets vs Atlanta Braves\", \"Atlanta Braves vs New York Mets\")"
   ]
  },
  {
   "cell_type": "code",
   "execution_count": 15,
   "id": "0d505aeb",
   "metadata": {},
   "outputs": [
    {
     "data": {
      "text/plain": [
       "100"
      ]
     },
     "execution_count": 15,
     "metadata": {},
     "output_type": "execute_result"
    }
   ],
   "source": [
    "#with token sort\n",
    "fuzz.token_sort_ratio(\"New York Mets vs Atlanta Braves\", \"Atlanta Braves vs New York Mets\")"
   ]
  },
  {
   "cell_type": "code",
   "execution_count": 16,
   "id": "5b950eda",
   "metadata": {},
   "outputs": [
    {
     "data": {
      "text/plain": [
       "91"
      ]
     },
     "execution_count": 16,
     "metadata": {},
     "output_type": "execute_result"
    }
   ],
   "source": [
    "fuzz.ratio(\"fuzzy wuzzy was a bear\", \"wuzzy fuzzy was a bear\")"
   ]
  },
  {
   "cell_type": "code",
   "execution_count": 17,
   "id": "33159252",
   "metadata": {},
   "outputs": [
    {
     "data": {
      "text/plain": [
       "100"
      ]
     },
     "execution_count": 17,
     "metadata": {},
     "output_type": "execute_result"
    }
   ],
   "source": [
    "fuzz.token_sort_ratio(\"fuzzy wuzzy was a bear\", \"wuzzy fuzzy was a bear\")"
   ]
  },
  {
   "cell_type": "markdown",
   "id": "1497c394",
   "metadata": {},
   "source": [
    "Token Set"
   ]
  },
  {
   "cell_type": "code",
   "execution_count": null,
   "id": "9b9d2bcf",
   "metadata": {},
   "outputs": [],
   "source": []
  },
  {
   "cell_type": "code",
   "execution_count": 18,
   "id": "4d641e2e",
   "metadata": {},
   "outputs": [],
   "source": [
    "s1 = \"mariners vs angels\"\n",
    "s2 = \"los angeles angels of anaheim at seattle mariners\""
   ]
  },
  {
   "cell_type": "code",
   "execution_count": 19,
   "id": "9535dbbf",
   "metadata": {},
   "outputs": [],
   "source": [
    "t0 = \"angels mariners\"\n",
    "t1 = \"angels mariners vs\"\n",
    "t2 = \"angels mariners anaheim angeles at los of seattle\""
   ]
  },
  {
   "cell_type": "code",
   "execution_count": 20,
   "id": "eaa8be99",
   "metadata": {},
   "outputs": [],
   "source": [
    "# t0 = [SORTED_INTERSECTION]\n",
    "# t1 = [SORTED_INTERSECTION] + [SORTED_REST_OF_STRING1]\n",
    "# t2 = [SORTED_INTERSECTION] + [SORTED_REST_OF_STRING2]"
   ]
  },
  {
   "cell_type": "code",
   "execution_count": 21,
   "id": "5a4b2cb1",
   "metadata": {},
   "outputs": [
    {
     "data": {
      "text/plain": [
       "91"
      ]
     },
     "execution_count": 21,
     "metadata": {},
     "output_type": "execute_result"
    }
   ],
   "source": [
    "fuzz.ratio(t0, t1)"
   ]
  },
  {
   "cell_type": "code",
   "execution_count": 22,
   "id": "e835ab92",
   "metadata": {},
   "outputs": [
    {
     "data": {
      "text/plain": [
       "47"
      ]
     },
     "execution_count": 22,
     "metadata": {},
     "output_type": "execute_result"
    }
   ],
   "source": [
    "fuzz.ratio(t0, t2)"
   ]
  },
  {
   "cell_type": "code",
   "execution_count": 23,
   "id": "ff9f13e7",
   "metadata": {},
   "outputs": [
    {
     "data": {
      "text/plain": [
       "51"
      ]
     },
     "execution_count": 23,
     "metadata": {},
     "output_type": "execute_result"
    }
   ],
   "source": [
    "fuzz.ratio(t1, t2)"
   ]
  },
  {
   "cell_type": "code",
   "execution_count": 24,
   "id": "121e6a69",
   "metadata": {},
   "outputs": [
    {
     "data": {
      "text/plain": [
       "91"
      ]
     },
     "execution_count": 24,
     "metadata": {},
     "output_type": "execute_result"
    }
   ],
   "source": [
    "fuzz.token_set_ratio(\"mariners vs angels\", \"los angeles angels of anaheim at seattle mariners\")"
   ]
  },
  {
   "cell_type": "code",
   "execution_count": 25,
   "id": "ae0bbd51",
   "metadata": {},
   "outputs": [
    {
     "data": {
      "text/plain": [
       "100"
      ]
     },
     "execution_count": 25,
     "metadata": {},
     "output_type": "execute_result"
    }
   ],
   "source": [
    "fuzz.token_set_ratio(\"Sirhan, Sirhan\", \"Sirhan\")"
   ]
  },
  {
   "cell_type": "code",
   "execution_count": 26,
   "id": "a949a53e",
   "metadata": {},
   "outputs": [
    {
     "data": {
      "text/plain": [
       "84"
      ]
     },
     "execution_count": 26,
     "metadata": {},
     "output_type": "execute_result"
    }
   ],
   "source": [
    "fuzz.token_sort_ratio(\"fuzzy was a bear\", \"fuzzy fuzzy was a bear\")"
   ]
  },
  {
   "cell_type": "code",
   "execution_count": 27,
   "id": "d84d78c9",
   "metadata": {},
   "outputs": [
    {
     "data": {
      "text/plain": [
       "100"
      ]
     },
     "execution_count": 27,
     "metadata": {},
     "output_type": "execute_result"
    }
   ],
   "source": [
    "fuzz.token_set_ratio(\"fuzzy was a bear\", \"fuzzy fuzzy was a bear\")"
   ]
  },
  {
   "cell_type": "markdown",
   "id": "8481e0f7",
   "metadata": {},
   "source": [
    "Process?"
   ]
  },
  {
   "cell_type": "code",
   "execution_count": 28,
   "id": "558c4176",
   "metadata": {},
   "outputs": [],
   "source": [
    "choices = [\"Atlanta Falcons\", \"New York Jets\", \"New York Giants\", \"Dallas Cowboys\"]"
   ]
  },
  {
   "cell_type": "code",
   "execution_count": 29,
   "id": "27f7eb83",
   "metadata": {},
   "outputs": [
    {
     "data": {
      "text/plain": [
       "[('New York Jets', 100), ('New York Giants', 79)]"
      ]
     },
     "execution_count": 29,
     "metadata": {},
     "output_type": "execute_result"
    }
   ],
   "source": [
    "process.extract(\"new york jets\", choices, limit=2)"
   ]
  },
  {
   "cell_type": "code",
   "execution_count": 30,
   "id": "3ed97e49",
   "metadata": {},
   "outputs": [
    {
     "data": {
      "text/plain": [
       "[('New York Jets', 100), ('New York Giants', 79), ('Atlanta Falcons', 29)]"
      ]
     },
     "execution_count": 30,
     "metadata": {},
     "output_type": "execute_result"
    }
   ],
   "source": [
    "process.extract(\"new york jets\", choices, limit=3)"
   ]
  },
  {
   "cell_type": "code",
   "execution_count": 31,
   "id": "eb827484",
   "metadata": {},
   "outputs": [
    {
     "data": {
      "text/plain": [
       "('Dallas Cowboys', 90)"
      ]
     },
     "execution_count": 31,
     "metadata": {},
     "output_type": "execute_result"
    }
   ],
   "source": [
    "process.extractOne(\"cowboys\", choices)"
   ]
  },
  {
   "cell_type": "code",
   "execution_count": 32,
   "id": "81be8ff4",
   "metadata": {},
   "outputs": [],
   "source": [
    "#parameters to extractOne to make it use a specific scorer\n",
    "# >>> process.extractOne(\"System of a down - Hypnotize - Heroin\", songs)\n",
    "#     ('/music/library/good/System of a Down/2005 - Hypnotize/01 - Attack.mp3', 86)\n",
    "# >>> process.extractOne(\"System of a down - Hypnotize - Heroin\", songs, scorer=fuzz.token_sort_ratio)\n",
    "#     (\"/music/library/good/System of a Down/2005 - Hypnotize/10 - She's Like Heroin.mp3\", 61)"
   ]
  },
  {
   "cell_type": "markdown",
   "id": "f703e1fb",
   "metadata": {},
   "source": [
    "----"
   ]
  },
  {
   "cell_type": "markdown",
   "id": "818e20bb",
   "metadata": {},
   "source": [
    "##### Types of Algorithms"
   ]
  },
  {
   "cell_type": "markdown",
   "id": "c41d8248",
   "metadata": {},
   "source": [
    "Source: https://itnext.io/string-similarity-the-basic-know-your-algorithms-guide-3de3d7346227\n",
    "\n",
    "Based on the properties of operations, string similarity algorithms can be classified into a bunch of domains. Let’s discuss a few of them,\n",
    "Edit distance based: Algorithms falling under this category try to compute the number of operations needed to transforms one string to another. More the number of operations, less is the similarity between the two strings. One point to note, in this case, every index character of the string is given equal importance.\n",
    "\n",
    "Token-based: In this category, the expected input is a set of tokens, rather than complete strings. The idea is to find the similar tokens in both sets. More the number of common tokens, more is the similarity between the sets. A string can be transformed into sets by splitting using a delimiter. This way, we can transform a sentence into tokens of words or n-grams characters. Note, here tokens of different length have equal importance.\n",
    "\n",
    "Sequence-based: Here, the similarity is a factor of common sub-strings between the two strings. The algorithms, try to find the longest sequence which is present in both strings, the more of these sequences found, higher is the similarity score. Note, here combination of characters of same length have equal importance."
   ]
  },
  {
   "cell_type": "markdown",
   "id": "8a9f9bc1",
   "metadata": {},
   "source": [
    "Hamming Distance (finding the places where the strings vary)"
   ]
  },
  {
   "cell_type": "code",
   "execution_count": 33,
   "id": "12b334eb",
   "metadata": {},
   "outputs": [
    {
     "data": {
      "text/plain": [
       "1"
      ]
     },
     "execution_count": 33,
     "metadata": {},
     "output_type": "execute_result"
    }
   ],
   "source": [
    "#the edit distance is 1 for only the difference being one letter different\n",
    "textdistance.hamming('text', 'test')"
   ]
  },
  {
   "cell_type": "code",
   "execution_count": 34,
   "id": "c50f5517",
   "metadata": {},
   "outputs": [
    {
     "data": {
      "text/plain": [
       "0.75"
      ]
     },
     "execution_count": 34,
     "metadata": {},
     "output_type": "execute_result"
    }
   ],
   "source": [
    "#75% similar between text and test\n",
    "textdistance.hamming.normalized_similarity('text', 'test')"
   ]
  },
  {
   "cell_type": "code",
   "execution_count": 35,
   "id": "e977e130",
   "metadata": {},
   "outputs": [
    {
     "data": {
      "text/plain": [
       "3"
      ]
     },
     "execution_count": 35,
     "metadata": {},
     "output_type": "execute_result"
    }
   ],
   "source": [
    "textdistance.hamming('arrow', 'arow')"
   ]
  },
  {
   "cell_type": "code",
   "execution_count": 36,
   "id": "46323c4b",
   "metadata": {},
   "outputs": [
    {
     "data": {
      "text/plain": [
       "0.4"
      ]
     },
     "execution_count": 36,
     "metadata": {},
     "output_type": "execute_result"
    }
   ],
   "source": [
    "textdistance.hamming.normalized_similarity('arrow', 'arow')"
   ]
  },
  {
   "cell_type": "markdown",
   "id": "24a55136",
   "metadata": {},
   "source": [
    "Levenshtein Distance (finding the number of edits which will transform one string to another)"
   ]
  },
  {
   "cell_type": "code",
   "execution_count": 37,
   "id": "86949880",
   "metadata": {},
   "outputs": [
    {
     "data": {
      "text/plain": [
       "1"
      ]
     },
     "execution_count": 37,
     "metadata": {},
     "output_type": "execute_result"
    }
   ],
   "source": [
    "#number of edits it will take to transform one to the other\n",
    "textdistance.levenshtein('arrow', 'arow')"
   ]
  },
  {
   "cell_type": "code",
   "execution_count": 38,
   "id": "f4526462",
   "metadata": {},
   "outputs": [
    {
     "data": {
      "text/plain": [
       "0.8"
      ]
     },
     "execution_count": 38,
     "metadata": {},
     "output_type": "execute_result"
    }
   ],
   "source": [
    "textdistance.levenshtein.normalized_similarity('arrow', 'arow')"
   ]
  },
  {
   "cell_type": "markdown",
   "id": "d496ca93",
   "metadata": {},
   "source": [
    "Jaro-Winkler "
   ]
  },
  {
   "cell_type": "markdown",
   "id": "7729ce20",
   "metadata": {},
   "source": [
    "\"(1) they contain same characters, but within a certain distance from one another, and (2) the order of the matching characters is same.\""
   ]
  },
  {
   "cell_type": "code",
   "execution_count": 39,
   "id": "87565e02",
   "metadata": {},
   "outputs": [],
   "source": [
    "# textdistance.jaro_winkler(\"mes\", \"messi\")"
   ]
  },
  {
   "cell_type": "code",
   "execution_count": 40,
   "id": "4a78e81e",
   "metadata": {},
   "outputs": [],
   "source": [
    "# textdistance.jaro_winkler(\"crate\", \"crat\")"
   ]
  },
  {
   "cell_type": "code",
   "execution_count": 41,
   "id": "605b9fd1",
   "metadata": {},
   "outputs": [],
   "source": [
    "# textdistance.jaro_winkler(\"crate\", \"atcr\")"
   ]
  },
  {
   "cell_type": "markdown",
   "id": "d5b4b948",
   "metadata": {},
   "source": [
    "Jaccard Index (find the number of common tokens and divide it by the total number of unique tokens)\n",
    "\n",
    "\"We first tokenize the string by default space delimiter, to make words in the strings as tokens. Then we compute the similarity score.\" "
   ]
  },
  {
   "cell_type": "code",
   "execution_count": 42,
   "id": "a671e122",
   "metadata": {},
   "outputs": [],
   "source": [
    "tokens_1 = \"hello world\".split()\n",
    "tokens_2 = \"world hello\".split()"
   ]
  },
  {
   "cell_type": "code",
   "execution_count": 43,
   "id": "9412df1c",
   "metadata": {},
   "outputs": [
    {
     "data": {
      "text/plain": [
       "1.0"
      ]
     },
     "execution_count": 43,
     "metadata": {},
     "output_type": "execute_result"
    }
   ],
   "source": [
    "textdistance.jaccard(tokens_1 , tokens_2)"
   ]
  },
  {
   "cell_type": "code",
   "execution_count": 44,
   "id": "ea8bce7c",
   "metadata": {},
   "outputs": [],
   "source": [
    "tokens_1 = \"hello new world\".split()\n",
    "tokens_2 = \"hello world\".split()"
   ]
  },
  {
   "cell_type": "code",
   "execution_count": 45,
   "id": "99dc38eb",
   "metadata": {},
   "outputs": [
    {
     "data": {
      "text/plain": [
       "0.6666666666666666"
      ]
     },
     "execution_count": 45,
     "metadata": {},
     "output_type": "execute_result"
    }
   ],
   "source": [
    "textdistance.jaccard(tokens_1 , tokens_2)"
   ]
  },
  {
   "cell_type": "markdown",
   "id": "f3a0efd7",
   "metadata": {},
   "source": []
  },
  {
   "cell_type": "markdown",
   "id": "d8a72bfe",
   "metadata": {},
   "source": [
    "Sorensen-Dice \n",
    "\n",
    "\"Falling under set similarity, the logic is to find the common tokens, and divide it by the total number of tokens present by combining both sets.\" "
   ]
  },
  {
   "cell_type": "code",
   "execution_count": 46,
   "id": "1948792c",
   "metadata": {},
   "outputs": [],
   "source": [
    "tokens_1 = \"hello world\".split()\n",
    "tokens_2 = \"world hello\".split()"
   ]
  },
  {
   "cell_type": "code",
   "execution_count": 47,
   "id": "13b4caba",
   "metadata": {},
   "outputs": [
    {
     "data": {
      "text/plain": [
       "1.0"
      ]
     },
     "execution_count": 47,
     "metadata": {},
     "output_type": "execute_result"
    }
   ],
   "source": [
    "textdistance.sorensen(tokens_1 , tokens_2)"
   ]
  },
  {
   "cell_type": "code",
   "execution_count": 48,
   "id": "80598c56",
   "metadata": {},
   "outputs": [],
   "source": [
    "tokens_1 = \"hello new world\".split()\n",
    "tokens_2 = \"hello world\".split()"
   ]
  },
  {
   "cell_type": "code",
   "execution_count": 49,
   "id": "2ebf8c32",
   "metadata": {},
   "outputs": [
    {
     "data": {
      "text/plain": [
       "0.8"
      ]
     },
     "execution_count": 49,
     "metadata": {},
     "output_type": "execute_result"
    }
   ],
   "source": [
    "textdistance.sorensen(tokens_1 , tokens_2)"
   ]
  },
  {
   "cell_type": "markdown",
   "id": "5f23f3a8",
   "metadata": {},
   "source": [
    "Ratcliff-Obershelp similarity"
   ]
  },
  {
   "cell_type": "code",
   "execution_count": 50,
   "id": "105d4ce7",
   "metadata": {},
   "outputs": [],
   "source": [
    "string1, string2 = \"i am going home\", \"gone home\""
   ]
  },
  {
   "cell_type": "code",
   "execution_count": 51,
   "id": "54349cf0",
   "metadata": {},
   "outputs": [
    {
     "data": {
      "text/plain": [
       "0.6666666666666666"
      ]
     },
     "execution_count": 51,
     "metadata": {},
     "output_type": "execute_result"
    }
   ],
   "source": [
    "textdistance.ratcliff_obershelp(string1, string2)"
   ]
  },
  {
   "cell_type": "code",
   "execution_count": 52,
   "id": "92ecae39",
   "metadata": {},
   "outputs": [],
   "source": [
    "string1, string2 = \"helloworld\", \"worldhello\""
   ]
  },
  {
   "cell_type": "code",
   "execution_count": 53,
   "id": "b4de05ae",
   "metadata": {},
   "outputs": [
    {
     "data": {
      "text/plain": [
       "0.5"
      ]
     },
     "execution_count": 53,
     "metadata": {},
     "output_type": "execute_result"
    }
   ],
   "source": [
    "textdistance.ratcliff_obershelp(string1, string2)"
   ]
  },
  {
   "cell_type": "code",
   "execution_count": 54,
   "id": "366f9493",
   "metadata": {},
   "outputs": [],
   "source": [
    "string1, string2 = \"test\", \"text\""
   ]
  },
  {
   "cell_type": "code",
   "execution_count": 55,
   "id": "f0719b11",
   "metadata": {},
   "outputs": [
    {
     "data": {
      "text/plain": [
       "0.75"
      ]
     },
     "execution_count": 55,
     "metadata": {},
     "output_type": "execute_result"
    }
   ],
   "source": [
    "textdistance.ratcliff_obershelp(string1, string2)"
   ]
  },
  {
   "cell_type": "code",
   "execution_count": 56,
   "id": "3a745a24",
   "metadata": {},
   "outputs": [],
   "source": [
    "string1, string2 = \"mes\", \"simes\""
   ]
  },
  {
   "cell_type": "code",
   "execution_count": 57,
   "id": "14c3f1a9",
   "metadata": {},
   "outputs": [
    {
     "data": {
      "text/plain": [
       "0.75"
      ]
     },
     "execution_count": 57,
     "metadata": {},
     "output_type": "execute_result"
    }
   ],
   "source": [
    "textdistance.ratcliff_obershelp(string1, string2)"
   ]
  },
  {
   "cell_type": "code",
   "execution_count": 58,
   "id": "da466fa8",
   "metadata": {},
   "outputs": [],
   "source": [
    "string1, string2 = \"arrow\", \"arow\""
   ]
  },
  {
   "cell_type": "code",
   "execution_count": 59,
   "id": "bf4dc1d9",
   "metadata": {},
   "outputs": [
    {
     "data": {
      "text/plain": [
       "0.8888888888888888"
      ]
     },
     "execution_count": 59,
     "metadata": {},
     "output_type": "execute_result"
    }
   ],
   "source": [
    "textdistance.ratcliff_obershelp(string1, string2)"
   ]
  },
  {
   "cell_type": "code",
   "execution_count": null,
   "id": "4f14966b",
   "metadata": {},
   "outputs": [],
   "source": []
  },
  {
   "cell_type": "markdown",
   "id": "d118b4e6",
   "metadata": {},
   "source": [
    "-----"
   ]
  },
  {
   "cell_type": "markdown",
   "id": "501f0b81",
   "metadata": {},
   "source": [
    "##### Natural Language Processing Exploration"
   ]
  },
  {
   "cell_type": "code",
   "execution_count": 63,
   "id": "d6496a32",
   "metadata": {},
   "outputs": [
    {
     "data": {
      "text/plain": [
       "'!\"#$%&\\'()*+,-./:;<=>?@[\\\\]^_`{|}~'"
      ]
     },
     "execution_count": 63,
     "metadata": {},
     "output_type": "execute_result"
    }
   ],
   "source": [
    "string.punctuation"
   ]
  },
  {
   "cell_type": "code",
   "execution_count": 64,
   "id": "0f6f8c02",
   "metadata": {},
   "outputs": [
    {
     "name": "stdout",
     "output_type": "stream",
     "text": [
      "{\"didn't\", \"should've\", 't', 'who', 'each', 'yours', \"shouldn't\", 'yourselves', 'is', 'nor', 'their', 'had', 'yourself', 'll', 'what', \"won't\", \"hasn't\", 'more', \"haven't\", 'my', 'not', \"aren't\", 'do', 'themselves', 're', 'were', 'under', 'for', 'needn', 'between', 'theirs', 'only', 'now', 'below', 'don', \"isn't\", \"shan't\", \"weren't\", 'being', 'ain', 'his', 'ourselves', \"don't\", 'has', 'in', 'wasn', 'all', 'hers', 'your', 'couldn', 'been', \"you've\", 'how', 'aren', 'against', 'are', 've', 'here', 'same', 'she', 'very', 'haven', 'her', 'but', 'once', 'those', 'didn', 'out', 'am', 'he', 'shan', 'a', 'that', 'about', 'them', 'after', 'into', 'until', 'some', 'there', 'wouldn', 'both', 'ours', 'doing', \"you'd\", 'at', \"you're\", \"she's\", 'have', 'such', 'which', 'as', 'on', 'hasn', 'did', 'of', 'our', 'then', \"mustn't\", 'mustn', 'd', 'm', 'just', 'herself', 'an', 'why', 's', 'i', \"wasn't\", 'no', 'so', 'through', 'they', 'because', 'weren', 'if', \"couldn't\", 'than', \"hadn't\", 'and', 'will', 'where', 'himself', 'myself', 'having', 'these', 'own', 'other', 'above', 'we', 'its', 'when', 'won', 'isn', \"that'll\", 'or', 'shouldn', 'me', \"you'll\", 'the', 'with', 'up', 'him', 'during', \"mightn't\", 'further', 'few', 'can', 'ma', 'too', 'you', 'does', 'again', 'down', 'hadn', 'most', 'was', \"it's\", 'before', 'from', 'any', 'off', 'to', 'while', 'should', 'doesn', 'over', 'itself', \"doesn't\", \"wouldn't\", 'this', 'y', 'o', 'mightn', 'it', 'be', 'by', 'whom', \"needn't\"}\n"
     ]
    }
   ],
   "source": [
    "stops = set(stopwords.words('english'))\n",
    "print(stops)"
   ]
  },
  {
   "cell_type": "code",
   "execution_count": 65,
   "id": "5ac9809e",
   "metadata": {},
   "outputs": [
    {
     "name": "stdout",
     "output_type": "stream",
     "text": [
      "['All', 'work', 'and', 'no', 'play', 'makes', 'jack', 'a', 'dull', 'boy', ',', 'all', 'work', 'and', 'no', 'play']\n"
     ]
    }
   ],
   "source": [
    "from nltk.tokenize import sent_tokenize, word_tokenize\n",
    "\n",
    "data = \"All work and no play makes jack a dull boy, all work and no play\"\n",
    "print(word_tokenize(data))"
   ]
  },
  {
   "cell_type": "code",
   "execution_count": null,
   "id": "a0c2a6e5",
   "metadata": {},
   "outputs": [],
   "source": []
  },
  {
   "cell_type": "code",
   "execution_count": null,
   "id": "9f4fbf40",
   "metadata": {},
   "outputs": [],
   "source": []
  },
  {
   "cell_type": "code",
   "execution_count": null,
   "id": "14fcc182",
   "metadata": {},
   "outputs": [],
   "source": []
  },
  {
   "cell_type": "code",
   "execution_count": null,
   "id": "ada95614",
   "metadata": {},
   "outputs": [],
   "source": []
  }
 ],
 "metadata": {
  "kernelspec": {
   "display_name": "Python 3 (ipykernel)",
   "language": "python",
   "name": "python3"
  },
  "language_info": {
   "codemirror_mode": {
    "name": "ipython",
    "version": 3
   },
   "file_extension": ".py",
   "mimetype": "text/x-python",
   "name": "python",
   "nbconvert_exporter": "python",
   "pygments_lexer": "ipython3",
   "version": "3.10.0"
  }
 },
 "nbformat": 4,
 "nbformat_minor": 5
}
